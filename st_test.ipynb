{
 "cells": [
  {
   "cell_type": "markdown",
   "id": "45383b83-d4ac-45c8-a6e7-b58023b03628",
   "metadata": {},
   "source": [
    "# モジュールインストール"
   ]
  },
  {
   "cell_type": "code",
   "execution_count": null,
   "id": "aead0138-ece8-464d-b7db-d1d9775a1fa8",
   "metadata": {
    "scrolled": true
   },
   "outputs": [],
   "source": [
    "!pip install -r requirements.txt"
   ]
  },
  {
   "cell_type": "markdown",
   "id": "ab1a34c8-0397-4476-8256-c5da5dd5167d",
   "metadata": {},
   "source": [
    "# StreamlitアクセスURL"
   ]
  },
  {
   "cell_type": "code",
   "execution_count": null,
   "id": "e71b0307-cc3c-49e9-86db-bffbeef294d5",
   "metadata": {},
   "outputs": [],
   "source": [
    "https://k-nagayama-hnx0.notebook.ap-northeast-1.sagemaker.aws/proxy/8501/"
   ]
  },
  {
   "cell_type": "code",
   "execution_count": null,
   "id": "85783b9d",
   "metadata": {},
   "outputs": [],
   "source": [
    "import webbrowser\n",
    "\n",
    "url = 'https://k-nagayama-hnx0.notebook.ap-northeast-1.sagemaker.aws/proxy/8501/'\n",
    "webbrowser.open_new_tab(url)"
   ]
  },
  {
   "cell_type": "markdown",
   "id": "99db9111",
   "metadata": {
    "tags": []
   },
   "source": [
    "## imgsフォルダをS3と同期する\n",
    "**アップロード**"
   ]
  },
  {
   "cell_type": "code",
   "execution_count": null,
   "id": "91710406",
   "metadata": {
    "scrolled": true,
    "tags": []
   },
   "outputs": [],
   "source": [
    "!aws s3 sync imgs s3://trolley-monitor/imgs --exact-timestamps --delete"
   ]
  },
  {
   "cell_type": "markdown",
   "id": "e696980f",
   "metadata": {},
   "source": [
    "## imgsフォルダをS3と同期する\n",
    "**ダウンロード**"
   ]
  },
  {
   "cell_type": "code",
   "execution_count": null,
   "id": "cd65b5c6",
   "metadata": {
    "tags": []
   },
   "outputs": [],
   "source": [
    "!aws s3 sync s3://trolley-monitor/imgs imgs --exact-timestamps"
   ]
  },
  {
   "cell_type": "code",
   "execution_count": null,
   "id": "1e95e3c8-0abf-401a-ad5c-e083faf175ed",
   "metadata": {},
   "outputs": [],
   "source": []
  },
  {
   "cell_type": "markdown",
   "id": "36ee6be2-f9be-454a-beae-de218b073c8e",
   "metadata": {},
   "source": [
    "# black, flake8によるコードチェック\n",
    "## コードの自動フォーマット"
   ]
  },
  {
   "cell_type": "code",
   "execution_count": null,
   "id": "03800946-d82f-4a26-8ea3-fa07e5f942eb",
   "metadata": {
    "tags": []
   },
   "outputs": [],
   "source": [
    "!pwd"
   ]
  },
  {
   "cell_type": "code",
   "execution_count": null,
   "id": "b73d2309-9894-4ecd-8f22-bb9d644ca026",
   "metadata": {
    "tags": []
   },
   "outputs": [],
   "source": [
    "!pip install flake8"
   ]
  },
  {
   "cell_type": "code",
   "execution_count": null,
   "id": "9929ac36-7723-4173-8b5f-350de80f0411",
   "metadata": {
    "tags": []
   },
   "outputs": [],
   "source": [
    "!black ./pages/1_⚡_TTS摩耗判定システム.py"
   ]
  },
  {
   "cell_type": "markdown",
   "id": "92c606a8-17ee-424e-b69c-64404b6ec7ed",
   "metadata": {},
   "source": [
    "## コーディング規約のチェック\n",
    "https://flake8.pycqa.org/en/2.6.0/warnings.html"
   ]
  },
  {
   "cell_type": "code",
   "execution_count": null,
   "id": "8ac6656e-a92e-4b99-a59d-e076a617f2e1",
   "metadata": {
    "tags": []
   },
   "outputs": [],
   "source": [
    "!flake8 ./pages/1_⚡_TTS摩耗判定システム.py --max-line-length 200"
   ]
  },
  {
   "cell_type": "code",
   "execution_count": null,
   "id": "d990e7bb-cb3b-4f6a-ae97-5457176823bb",
   "metadata": {
    "tags": []
   },
   "outputs": [],
   "source": [
    "!flake8 utils_01.py --max-line-length 200"
   ]
  },
  {
   "cell_type": "code",
   "execution_count": null,
   "id": "8234590a-ef74-49d3-9acd-87078fbac729",
   "metadata": {
    "tags": []
   },
   "outputs": [],
   "source": [
    "!flake8 utilsS3_01.py --max-line-length 200"
   ]
  },
  {
   "cell_type": "code",
   "execution_count": null,
   "id": "58cbfbcd-d1cc-4756-b6f0-554078d6e2ad",
   "metadata": {},
   "outputs": [],
   "source": []
  },
  {
   "cell_type": "code",
   "execution_count": null,
   "id": "ffa63238-c0ee-4471-8897-6926c63a110b",
   "metadata": {},
   "outputs": [],
   "source": []
  },
  {
   "cell_type": "markdown",
   "id": "9e6a2635",
   "metadata": {},
   "source": [
    "# 作業用"
   ]
  },
  {
   "cell_type": "code",
   "execution_count": 1,
   "id": "a1cf5b9f",
   "metadata": {
    "tags": []
   },
   "outputs": [
    {
     "name": "stderr",
     "output_type": "stream",
     "text": [
      "2023-04-26 00:42:57.634 INFO    numexpr.utils: NumExpr defaulting to 2 threads.\n"
     ]
    }
   ],
   "source": [
    "import boto3\n",
    "import os\n",
    "import shelve\n",
    "import streamlit as st\n",
    "import matplotlib.pyplot as plt\n",
    "from PIL import Image\n",
    "from io import BytesIO\n",
    "import pandas as pd\n",
    "# import src.utilsST_01 as utlst\n",
    "import src.helpers as helpers\n",
    "import src.visualize as vis\n",
    "from src.config import appProperties\n",
    "from src.trolley import trolley\n",
    "from src.similar_pixel import pixel\n",
    "\n",
    "config = appProperties('config.yml')"
   ]
  },
  {
   "cell_type": "code",
   "execution_count": 2,
   "id": "ad081dfa-37c3-4ca1-ac45-e39a3c79a9f9",
   "metadata": {
    "tags": []
   },
   "outputs": [
    {
     "name": "stdout",
     "output_type": "stream",
     "text": [
      "images_path     :['Chuo_01_Tokyo-St_up_20230201_knight', 'Chuo_02_Tokyo-Kanda_up_20230201_knight', 'Chuo_03_Kanda-St_up_20230201_knight', 'Chuo_04_Kanda-Ochanomizu_up_20230201_knight', 'Chuo_05_Ochanomizu-St_up_20230201_knight', 'Chuo_06_Ochanomizu-Suidobashi_up_20230201_knight', 'Chuo_07_Suidobashi-St_up_20230201_knight', 'Chuo_08_Suidobashi-Iidabashi_up_20230201_knight', 'Chuo_09_Iidabashi-St_up_20230201_knight', 'Chuo_10_Iidabashi-Ichigaya_up_20230201_knight', 'Chuo_11_Ichigaya-St_up_20230201_knight', 'Chuo_12_Ichigaya-Yotsuya_up_20230201_knight', 'Chuo_13_Yotsuya-St_up_20230201_knight', 'Chuo_14_Yotsuya-Shinanomachi_up_20230201_knight', 'Chuo_15_Shinanomachi-St_up_20230201_knight', 'Chuo_16_Shinanomachi-Sendagaya_up_20230201_knight', 'Chuo_17_Sendagaya-St_up_20230201_knight', 'Chuo_18_Sendagaya-Yoyogi_up_20230201_knight', 'Chuo_19_Shinjuku-St_up_20230201_knight', 'Kawagoe_01_Omiya-Nisshin_down_20210721_knight', 'Kawagoe_02_Nishioomiya-Sashiougi_down_20220626_knight', 'Kawagoe_02_Sashiougi-Minamifuruya_down_20220101_knight', 'Kawagoe_02_Sashiougi-Minamifuruya_down_20220626_knight', 'Kawagoe_03_Sashiougi-St_down_20220626_knight', 'Utsunomiya_01_Ohmiya-Miyahara_down_20220221_knight']\n",
      "dir_area        :Chuo_01_Tokyo-St_up_20230201_knight\n",
      "target_dir      :imgs/Chuo_01_Tokyo-St_up_20230201_knight/HD32\n",
      "outpath         :output/Chuo_01_Tokyo-St_up_20230201_knight/HD32\n",
      "len(base_images):161\n"
     ]
    }
   ],
   "source": [
    "images_path = helpers.list_imagespath(config.image_dir)\n",
    "dir_area = \"Chuo_01_Tokyo-St_up_20230201_knight\"\n",
    "camera_num = \"HD32\"\n",
    "target_dir = config.image_dir + \"/\" + dir_area + \"/\" + camera_num\n",
    "outpath = config.output_dir + \"/\" + dir_area + \"/\" + camera_num\n",
    "outpath = config.output_dir + \"/\" + dir_area + \"/\" + camera_num\n",
    "os.makedirs(outpath, exist_ok=True)\n",
    "\n",
    "rail = shelve.open(outpath + \"/rail.shelve\", writeback=True)\n",
    "rail[\"inpath\"] = dir_area\n",
    "\n",
    "base_images = helpers.list_images(target_dir)\n",
    "\n",
    "blankdict_size = [{}] * len(base_images)\n",
    "rail[camera_num] = dict(zip(base_images, blankdict_size))\n",
    "\n",
    "# ここまでを出力\n",
    "print(f'images_path     :{images_path}')\n",
    "print(f'dir_area        :{dir_area}')\n",
    "print(f'target_dir      :{target_dir}')\n",
    "print(f'outpath         :{outpath}')\n",
    "print(f'len(base_images):{len(base_images)}')\n"
   ]
  },
  {
   "cell_type": "code",
   "execution_count": 3,
   "id": "ecc59fdc-cb50-4517-bf16-f3663ca12019",
   "metadata": {
    "tags": []
   },
   "outputs": [
    {
     "name": "stdout",
     "output_type": "stream",
     "text": [
      "0: inpath\n",
      "1: HD32\n"
     ]
    }
   ],
   "source": [
    "keys = rail.keys()\n",
    "for i, key in enumerate(keys):\n",
    "    print(f'{i}: {key}')"
   ]
  },
  {
   "cell_type": "code",
   "execution_count": 12,
   "id": "37da3163-c1eb-4827-b43c-5567d10bd238",
   "metadata": {
    "tags": []
   },
   "outputs": [
    {
     "ename": "NameError",
     "evalue": "name 'image_path' is not defined",
     "output_type": "error",
     "traceback": [
      "\u001b[0;31m---------------------------------------------------------------------------\u001b[0m",
      "\u001b[0;31mNameError\u001b[0m                                 Traceback (most recent call last)",
      "Cell \u001b[0;32mIn[12], line 1\u001b[0m\n\u001b[0;32m----> 1\u001b[0m rail[camera_num][\u001b[43mimage_path\u001b[49m]\n",
      "\u001b[0;31mNameError\u001b[0m: name 'image_path' is not defined"
     ]
    }
   ],
   "source": [
    "rail[camera_num][image_path]"
   ]
  },
  {
   "cell_type": "code",
   "execution_count": 4,
   "id": "796a523c-0ea0-4326-a434-1eec795900f7",
   "metadata": {
    "tags": []
   },
   "outputs": [
    {
     "name": "stdout",
     "output_type": "stream",
     "text": [
      "0: inpath\n",
      "1: HD32\n"
     ]
    },
    {
     "data": {
      "text/plain": [
       "'imgs/Chuo_01_Tokyo-St_up_20230201_knight/HD32/2022_0615_HD32_01_00022313.jpg'"
      ]
     },
     "execution_count": 4,
     "metadata": {},
     "output_type": "execute_result"
    }
   ],
   "source": [
    "# 読み込まれたデータを確認したいときに実行する\n",
    "infile_path = list(rail[camera_num].keys())\n",
    "infile_path.sort()\n",
    "for i, key in enumerate(keys):\n",
    "    print(f\"{i}: {key}\")\n",
    "# rail[camera_num][0]\n",
    "\n",
    "infile_path[0]"
   ]
  },
  {
   "cell_type": "code",
   "execution_count": 5,
   "id": "b7c2546e-5f0a-4b07-8f9d-dbf1d4fa3a93",
   "metadata": {
    "tags": []
   },
   "outputs": [
    {
     "name": "stdout",
     "output_type": "stream",
     "text": [
      "output file is: imgs/Chuo_01_Tokyo-St_up_20230201_knighttemp_meta.csv\n"
     ]
    }
   ],
   "source": [
    "dir_name = config.image_dir + '/' + dir_area\n",
    "helpers.print_files(dir_name, dir_area, camera_num)"
   ]
  },
  {
   "cell_type": "code",
   "execution_count": 6,
   "id": "092d405e-62e8-4c89-8d4a-bfbbb97340b9",
   "metadata": {
    "tags": []
   },
   "outputs": [],
   "source": [
    "test_num = 0\n",
    "global_ix = 250000\n",
    "\n",
    "idx = 0"
   ]
  },
  {
   "cell_type": "code",
   "execution_count": 7,
   "id": "555fad32-5e00-4b06-86ce-d1376773844c",
   "metadata": {
    "tags": []
   },
   "outputs": [
    {
     "data": {
      "text/plain": [
       "'imgs/Chuo_01_Tokyo-St_up_20230201_knight/HD32/2022_0615_HD32_01_00022313.jpg'"
      ]
     },
     "execution_count": 7,
     "metadata": {},
     "output_type": "execute_result"
    }
   ],
   "source": [
    "file = infile_path[idx]\n",
    "file"
   ]
  },
  {
   "cell_type": "code",
   "execution_count": 8,
   "id": "cef3a791-fe4c-41d8-b3ad-50f70de8921c",
   "metadata": {
    "tags": []
   },
   "outputs": [
    {
     "data": {
      "image/png": "[encoded data removed]",
      "text/plain": [
       "<Figure size 640x480 with 1 Axes>"
      ]
     },
     "metadata": {},
     "output_type": "display_data"
    }
   ],
   "source": [
    "pixel_instance1 = pixel(1, 0, 0)\n",
    "pixel_instance2 = pixel(2, 0, 0)\n",
    "pixel_instance3 = pixel(3, 0, 0)\n",
    "pixel_instance1.isInFrame = True\n",
    "pixel_instance2.isInFrame = False\n",
    "pixel_instance3.isInFrame = False\n",
    "\n",
    "pixel_instance1.load_picture(file)\n",
    "pixel_instance2.load_picture(file)\n",
    "pixel_instance3.load_picture(file)\n",
    "\n",
    "img = pixel_instance1.picture['im_org']\n",
    "plt.imshow(img)\n",
    "plt.show()"
   ]
  },
  {
   "cell_type": "code",
   "execution_count": 9,
   "id": "e730427b-2ee7-49f3-81d3-657f19bcdacc",
   "metadata": {
    "tags": []
   },
   "outputs": [
    {
     "data": {
      "text/plain": [
       "[[799, 804, 1]]"
      ]
     },
     "execution_count": 9,
     "metadata": {},
     "output_type": "execute_result"
    }
   ],
   "source": [
    "# 初期位置の自動サーチ\n",
    "search_list = pixel_instance1.search_trolley_init(idx)\n",
    "search_list"
   ]
  },
  {
   "cell_type": "code",
   "execution_count": 10,
   "id": "a48b4084-9fe5-44ff-9f0e-79e223eafb0d",
   "metadata": {
    "tags": []
   },
   "outputs": [
    {
     "name": "stdout",
     "output_type": "stream",
     "text": [
      "xin=None, auto_edge:True\n"
     ]
    }
   ],
   "source": [
    "# 初期値の設定\n",
    "xin = None\n",
    "if search_list != []:\n",
    "    auto_edge = True\n",
    "else:\n",
    "    auto_edge = False\n",
    "print(f'xin={xin}, auto_edge:{auto_edge}')"
   ]
  },
  {
   "cell_type": "code",
   "execution_count": 11,
   "id": "8e878c8f-63ec-4724-a1aa-403489b8e879",
   "metadata": {},
   "outputs": [
    {
     "ename": "IndexError",
     "evalue": "list assignment index out of range",
     "output_type": "error",
     "traceback": [
      "\u001b[0;31m---------------------------------------------------------------------------\u001b[0m",
      "\u001b[0;31mIndexError\u001b[0m                                Traceback (most recent call last)",
      "Cell \u001b[0;32mIn[11], line 1\u001b[0m\n\u001b[0;32m----> 1\u001b[0m \u001b[43mpixel_instance1\u001b[49m\u001b[38;5;241;43m.\u001b[39;49m\u001b[43mset_init_val\u001b[49m\u001b[43m(\u001b[49m\u001b[43mrail\u001b[49m\u001b[43m,\u001b[49m\u001b[43m \u001b[49m\u001b[43midx\u001b[49m\u001b[43m,\u001b[49m\u001b[43m \u001b[49m\u001b[43mimg\u001b[49m\u001b[43m,\u001b[49m\u001b[43m \u001b[49m\u001b[43msearch_list\u001b[49m\u001b[43m,\u001b[49m\u001b[43m \u001b[49m\u001b[43mauto_edge\u001b[49m\u001b[43m)\u001b[49m\n",
      "File \u001b[0;32m~/SageMaker/AmazonSageMaker-trolley-monitor-onSOW/src/similar_pixel.py:71\u001b[0m, in \u001b[0;36mpixel.set_init_val\u001b[0;34m(self, rail, ix, xin, search_list, auto_edge)\u001b[0m\n\u001b[1;32m     69\u001b[0m img \u001b[38;5;241m=\u001b[39m \u001b[38;5;28mself\u001b[39m\u001b[38;5;241m.\u001b[39mpicture[\u001b[38;5;124m'\u001b[39m\u001b[38;5;124mim_org\u001b[39m\u001b[38;5;124m'\u001b[39m]\n\u001b[1;32m     70\u001b[0m \u001b[38;5;28;01mif\u001b[39;00m auto_edge:\n\u001b[0;32m---> 71\u001b[0m     \u001b[38;5;28;43mself\u001b[39;49m\u001b[38;5;241;43m.\u001b[39;49m\u001b[43mupper_boundary1\u001b[49m\u001b[43m[\u001b[49m\u001b[43mix\u001b[49m\u001b[43m]\u001b[49m \u001b[38;5;241m=\u001b[39m search_list[\u001b[38;5;241m0\u001b[39m][\u001b[38;5;241m0\u001b[39m]\n\u001b[1;32m     72\u001b[0m     \u001b[38;5;28mself\u001b[39m\u001b[38;5;241m.\u001b[39mlower_boundary1[ix] \u001b[38;5;241m=\u001b[39m search_list[\u001b[38;5;241m0\u001b[39m][\u001b[38;5;241m1\u001b[39m]\n\u001b[1;32m     73\u001b[0m     \u001b[38;5;28mself\u001b[39m\u001b[38;5;241m.\u001b[39mlast_state \u001b[38;5;241m=\u001b[39m search_list[\u001b[38;5;241m0\u001b[39m][\u001b[38;5;241m0\u001b[39m:\u001b[38;5;241m2\u001b[39m]\n",
      "\u001b[0;31mIndexError\u001b[0m: list assignment index out of range"
     ]
    }
   ],
   "source": [
    "pixel_instance1.set_init_val(rail, idx, img, search_list, auto_edge)"
   ]
  },
  {
   "cell_type": "code",
   "execution_count": null,
   "id": "45d4f7ea-87be-4341-af22-1954af774edf",
   "metadata": {
    "tags": []
   },
   "outputs": [],
   "source": [
    "images_path[0]"
   ]
  },
  {
   "cell_type": "code",
   "execution_count": null,
   "id": "8ac0e661-1a7b-4f4b-bbb1-d82fb22da7f2",
   "metadata": {
    "tags": []
   },
   "outputs": [],
   "source": [
    "target_dir + \"/\" + images_path[0] + \".jpg\"\n",
    "# 'imgs/Chuo_01_Tokyo-St_up_20230201_knight/HD32/2022_0615_HD32_01_00022313.jpg'"
   ]
  },
  {
   "cell_type": "code",
   "execution_count": null,
   "id": "670954e8-dcdd-453c-b2c1-661ad8f20308",
   "metadata": {},
   "outputs": [],
   "source": [
    "# rail['HD32'][target_dir + \"/\" + images_path[0]]\n",
    "rail['HD32']['imgs/Chuo_01_Tokyo-St_up_20230201_knight/HD32/2022_0615_HD32_01_00022313.jpg']"
   ]
  },
  {
   "cell_type": "code",
   "execution_count": null,
   "id": "60e53bff-3fd8-4da1-aeca-588f5c633098",
   "metadata": {},
   "outputs": [],
   "source": []
  },
  {
   "cell_type": "code",
   "execution_count": null,
   "id": "47bfd96d-6706-43b4-8a83-8ed89a2b19c0",
   "metadata": {},
   "outputs": [],
   "source": []
  },
  {
   "cell_type": "code",
   "execution_count": null,
   "id": "d93887d2-f7e2-430d-8cd1-45cf798190ca",
   "metadata": {},
   "outputs": [],
   "source": []
  },
  {
   "cell_type": "code",
   "execution_count": null,
   "id": "04126c82-520f-42ed-85cf-6c0aef16da2c",
   "metadata": {},
   "outputs": [],
   "source": []
  },
  {
   "cell_type": "code",
   "execution_count": null,
   "id": "6efa9a43-0ec9-4c58-b719-f6e485459e51",
   "metadata": {},
   "outputs": [],
   "source": []
  },
  {
   "cell_type": "code",
   "execution_count": null,
   "id": "674060be-fb34-4678-8a7d-3f3fcaecaf2f",
   "metadata": {},
   "outputs": [],
   "source": []
  },
  {
   "cell_type": "code",
   "execution_count": null,
   "id": "e41f1f84-c0c1-46de-b8da-60bd640b92ee",
   "metadata": {
    "tags": []
   },
   "outputs": [],
   "source": [
    "rail['name']"
   ]
  },
  {
   "cell_type": "code",
   "execution_count": null,
   "id": "2c8d2739-8ee6-4201-93ee-67f9dd6a37d5",
   "metadata": {
    "tags": []
   },
   "outputs": [],
   "source": [
    "rail['HD22']['imgs/Chuo_01_Tokyo-St_up_20230201_knight/HD22/2022_0615_HD22_01_00022472.jpg']"
   ]
  },
  {
   "cell_type": "code",
   "execution_count": null,
   "id": "706287e9-bf1b-470a-a82d-2fc7a02bee04",
   "metadata": {
    "tags": []
   },
   "outputs": [],
   "source": [
    "rail['HD11']['imgs/Chuo_01_Tokyo-St_up_20230201_knight/HD11/2022_0615_HD11_01_00022312.jpg']"
   ]
  },
  {
   "cell_type": "code",
   "execution_count": null,
   "id": "d6c4b512-fa77-4200-ac04-6ac5d31cac7f",
   "metadata": {
    "tags": []
   },
   "outputs": [],
   "source": [
    "rail.close"
   ]
  },
  {
   "cell_type": "code",
   "execution_count": null,
   "id": "b6fb7798-5aad-4cc6-b347-86b9b67c2ea5",
   "metadata": {
    "tags": []
   },
   "outputs": [],
   "source": [
    "!python src/config.py"
   ]
  },
  {
   "cell_type": "code",
   "execution_count": null,
   "id": "e923e015-04bf-481d-9b8d-5ab2a579265b",
   "metadata": {},
   "outputs": [],
   "source": []
  },
  {
   "cell_type": "code",
   "execution_count": null,
   "id": "96d75832-9a86-4b5d-972b-0ed9dad96ff5",
   "metadata": {},
   "outputs": [],
   "source": []
  },
  {
   "cell_type": "code",
   "execution_count": null,
   "id": "c766347a-81ab-477d-aa91-b71b63613b30",
   "metadata": {},
   "outputs": [],
   "source": []
  },
  {
   "cell_type": "code",
   "execution_count": null,
   "id": "432912ba-4c72-431f-9acb-9cc03aff9b3b",
   "metadata": {},
   "outputs": [],
   "source": []
  },
  {
   "cell_type": "code",
   "execution_count": null,
   "id": "05026772-26f0-4054-91d7-767bc39b82b0",
   "metadata": {
    "tags": []
   },
   "outputs": [],
   "source": [
    "CAMERA_NUMS = [\"HD11\", \"HD12\", \"HD21\", \"HD22\", \"HD31\", \"HD32\"]\n",
    "camera_names = utlst.camera_names()\n",
    "camera_name_list = []\n",
    "for camera_name in camera_names:\n",
    "    camera_name_list.append(camera_names[camera_name])\n",
    "camera_name_list"
   ]
  },
  {
   "cell_type": "code",
   "execution_count": null,
   "id": "011a0426-4b7a-46ce-9a65-6c0671cc4185",
   "metadata": {
    "tags": []
   },
   "outputs": [],
   "source": [
    "CAMERA_NUMS = [\"HD11\", \"HD12\", \"HD21\", \"HD22\", \"HD31\", \"HD32\"]\n",
    "camera_names = utlst.camera_names()\n",
    "camera_name_list = [camera_names[camera_name] for camera_name in camera_names]\n",
    "camera_name_list"
   ]
  },
  {
   "cell_type": "code",
   "execution_count": null,
   "id": "8db82245-0eb7-4d90-8960-613267233b32",
   "metadata": {
    "tags": []
   },
   "outputs": [],
   "source": [
    "camera_name_list = [utlst.camera_names()[camera_name] for camera_name in utlst.camera_names()]\n",
    "camera_name_list"
   ]
  },
  {
   "cell_type": "code",
   "execution_count": null,
   "id": "7022a22a-64de-4b38-b4e8-391ca65794b6",
   "metadata": {
    "tags": []
   },
   "outputs": [],
   "source": [
    "CAMERA_NUMS[camera_name_list.index('高(右)')]"
   ]
  },
  {
   "cell_type": "code",
   "execution_count": null,
   "id": "f877fa51-ea3f-4f04-95c6-ab67a80cea80",
   "metadata": {
    "tags": []
   },
   "outputs": [],
   "source": [
    "def camera_names():\n",
    "    camera_names = {\n",
    "        \"HD11\": \"高(左)\",\n",
    "        \"HD12\": \"高(右)\",\n",
    "        \"HD21\": \"中(左)\",\n",
    "        \"HD22\": \"中(右)\",\n",
    "        \"HD31\": \"低(左)\",\n",
    "        \"HD32\": \"低(右)\",\n",
    "}\n",
    "    return camera_names\n",
    "\n",
    "def camera_num2name(camera_num):\n",
    "    camera_names_dict = camera_names()\n",
    "    camera_name = camera_names_dict[camera_num]\n",
    "    return camera_name\n",
    "\n",
    "camera_name = camera_num2name('HD11')\n",
    "camera_name"
   ]
  },
  {
   "cell_type": "code",
   "execution_count": null,
   "id": "2b737984-1b51-420c-b90d-a57ab0e08797",
   "metadata": {
    "tags": []
   },
   "outputs": [],
   "source": [
    "import pathlib\n",
    "\n",
    "def get_image_list(path):\n",
    "    try:\n",
    "        files = os.listdir(path)\n",
    "        files_file = [f for f in files if os.path.isfile(os.path.join(path, f))]\n",
    "        files_file.sort()\n",
    "    except Exception as e:\n",
    "        files_file = []\n",
    "    return files_file\n",
    "\n",
    "path = 'images/Chuo_19_Shinjuku-St_up_20230201_knight/HD12/'\n",
    "\n",
    "image_list = get_image_list(path)\n",
    "image_list\n"
   ]
  },
  {
   "cell_type": "code",
   "execution_count": null,
   "id": "c9c134e7-fabf-4b8a-9ab2-5ed55c718f2d",
   "metadata": {},
   "outputs": [],
   "source": [
    "from pathlib import Path\n",
    "\n",
    "def get_file_list(path):\n",
    "    dir_path = Path(path)\n",
    "    image_obj_list = [path for path in dir_path.glob(\"*\") if path.is_file()]\n",
    "    image_list = [image_obj.name for image_obj in image_obj_list]\n",
    "    image_list.sort()\n",
    "    return image_list\n",
    "\n",
    "def get_dir_list(path):\n",
    "    dir_path = Path(path)\n",
    "    dir_obj_list = [path for path in dir_path.glob(\"*\") if path.is_dir() and not path.name.startswith(\".\")]\n",
    "    dir_list = [image_obj.name for image_obj in dir_obj_list]\n",
    "    dir_list.sort()\n",
    "    return dir_list\n",
    "\n",
    "\n",
    "path = 'images/Chuo_19_Shinjuku-St_up_20230201_knight/HD12/'\n",
    "image_list = get_file_list(path)\n",
    "image_list"
   ]
  },
  {
   "cell_type": "code",
   "execution_count": null,
   "id": "5e390428-6719-42e1-a0e8-7bdcdd679fee",
   "metadata": {
    "tags": []
   },
   "outputs": [],
   "source": [
    "path = 'images/Chuo_19_Shinjuku-St_up_20230201_knight/HD11/'\n",
    "image_list = get_file_list(path)\n",
    "image_list"
   ]
  },
  {
   "cell_type": "code",
   "execution_count": null,
   "id": "e7e8ccd3-a99d-4a3e-bd36-75ffaf260569",
   "metadata": {
    "tags": []
   },
   "outputs": [],
   "source": [
    "path = 'images/'\n",
    "dir_list = get_dir_list(path)\n",
    "dir_list"
   ]
  },
  {
   "cell_type": "code",
   "execution_count": null,
   "id": "8b4a2ae5-c436-49b6-8c95-900517719ca4",
   "metadata": {},
   "outputs": [],
   "source": []
  },
  {
   "cell_type": "code",
   "execution_count": null,
   "id": "eb2cffe5-ee72-4857-ba1e-b53fa7a8600d",
   "metadata": {
    "tags": []
   },
   "outputs": [],
   "source": [
    "def get_dir_list(path):\n",
    "    dir_path = Path(path)\n",
    "    dir_obj_list = [path for path in dir_path.glob(\"*\") if path.is_dir()]\n",
    "    dir_list = [image_obj.name for image_obj in dir_obj_list]\n",
    "    dir_list.sort()\n",
    "    return dir_list\n",
    "\n",
    "path = 'images/'\n",
    "dir_list = get_file_list(path)\n",
    "dir_list"
   ]
  },
  {
   "cell_type": "code",
   "execution_count": null,
   "id": "2b6fc25a-0596-4a16-85b5-8863e2697d16",
   "metadata": {
    "tags": []
   },
   "outputs": [],
   "source": [
    "path = 'images/'\n",
    "dir_path = Path(path).glob(\"*\")\n",
    "for i in dir_path:\n",
    "    if i.is_dir:\n",
    "        print(i)"
   ]
  },
  {
   "cell_type": "code",
   "execution_count": null,
   "id": "857c6b9a-0417-4ae8-a73c-c4294c6862cf",
   "metadata": {},
   "outputs": [],
   "source": []
  },
  {
   "cell_type": "code",
   "execution_count": null,
   "id": "7e8bd494-f085-41ad-9815-5d57c297dcd4",
   "metadata": {},
   "outputs": [],
   "source": []
  },
  {
   "cell_type": "code",
   "execution_count": null,
   "id": "1cbc602f-0df2-491b-9411-91c9fb6404bc",
   "metadata": {},
   "outputs": [],
   "source": []
  },
  {
   "cell_type": "code",
   "execution_count": null,
   "id": "a7f6fe06-2713-46f0-aa45-6911c5c08085",
   "metadata": {
    "tags": []
   },
   "outputs": [],
   "source": [
    "!pwd"
   ]
  },
  {
   "cell_type": "code",
   "execution_count": null,
   "id": "1e918bf5-f12b-4d49-a795-5f98c5ed9376",
   "metadata": {},
   "outputs": [],
   "source": []
  },
  {
   "cell_type": "code",
   "execution_count": null,
   "id": "4a214701-77ca-4289-a0f0-c4816d355ce3",
   "metadata": {},
   "outputs": [],
   "source": [
    "len(image_obj_list)"
   ]
  },
  {
   "cell_type": "code",
   "execution_count": null,
   "id": "19b10002-43d1-4e63-9273-3ac9f381aeca",
   "metadata": {
    "tags": []
   },
   "outputs": [],
   "source": [
    "image_list = [image_obj_list[i].name for i in range(len(image_obj_list))]\n",
    "image_list"
   ]
  },
  {
   "cell_type": "code",
   "execution_count": null,
   "id": "dd24cbc0-0bfe-4366-a16f-8f2dadfbb32f",
   "metadata": {},
   "outputs": [],
   "source": []
  },
  {
   "cell_type": "code",
   "execution_count": null,
   "id": "b44a97e5-10dd-40f1-bb9e-4e708ccab5db",
   "metadata": {},
   "outputs": [],
   "source": []
  },
  {
   "cell_type": "code",
   "execution_count": null,
   "id": "49ff9ed1",
   "metadata": {},
   "outputs": [],
   "source": [
    "s3 = boto3.resource('s3')\n",
    "bucket_name = 'k-nagayama'\n",
    "prefix = 'OHCImages/images/'\n",
    "bucket = s3.Bucket(bucket_name)\n",
    "folders_list = []\n",
    "\n",
    "for obj in bucket.objects.filter(Prefix=prefix, Delimiter='/'):\n",
    "    folders_list.append(obj.key)\n",
    "\n",
    "folders_list"
   ]
  },
  {
   "cell_type": "code",
   "execution_count": null,
   "id": "f25d06dc",
   "metadata": {},
   "outputs": [],
   "source": [
    "path='OHCImages/images/'\n",
    "\n",
    "# def test(path):\n",
    "s3 = boto3.client('s3')\n",
    "images_path = []\n",
    "response = s3.list_objects_v2(Bucket='k-nagayama', Prefix=path, Delimiter='/')\n",
    "for content in response.get('CommonPrefixes', []):\n",
    "    full_path = content.get('Prefix')\n",
    "    normalized_path = os.path.normpath(full_path)\n",
    "    images_path.append(os.path.basename(normalized_path))\n",
    "images_path.sort()\n",
    "images_path\n",
    "# print(f'normalized_path type -> {type(normalized_path)}')"
   ]
  },
  {
   "cell_type": "code",
   "execution_count": null,
   "id": "c92c13df",
   "metadata": {},
   "outputs": [],
   "source": [
    "['Chuo_Suidobashi-Iidabashi_down',\n",
    " 'Chuo_Suidobashi-Iidabashi_up',\n",
    " 'Kawagoe_Sashiougi-Minamifuruya',\n",
    " 'Nishioomiya-Sashiougi_20220626',\n",
    " 'Ohmiya-Miyahara_down_20220221',\n",
    " 'Omiya-Nisshin_down_20210721',\n",
    " 'Sashiougi-Minamifuruya_20220626',\n",
    " 'Sashiougi_20220626']"
   ]
  },
  {
   "cell_type": "code",
   "execution_count": null,
   "id": "9a310f41",
   "metadata": {},
   "outputs": [],
   "source": []
  },
  {
   "cell_type": "code",
   "execution_count": null,
   "id": "cf125920",
   "metadata": {},
   "outputs": [],
   "source": [
    "path = \"OHCImages/images/Chuo_Suidobashi-Iidabashi_down/\"\n",
    "normalized_path = os.path.normpath(path)\n",
    "last_dirname = os.path.basename(normalized_path)\n",
    "last_dirname"
   ]
  },
  {
   "cell_type": "code",
   "execution_count": null,
   "id": "66213505",
   "metadata": {
    "scrolled": true,
    "tags": []
   },
   "outputs": [],
   "source": [
    "# S3オブジェクト数1000件までしか対応できず\n",
    "s3 = boto3.client('s3')\n",
    "path = 'OHCImages/images/Kawagoe_Sashiougi-Minamifuruya/HD21/'\n",
    "file_list = []\n",
    "\n",
    "# S3バケット内のファイル一覧を取得\n",
    "response = s3.list_objects_v2(Bucket='k-nagayama', Prefix=path)\n",
    "for content in response.get('Contents', []):\n",
    "    file_list.append(content.get('Key'))\n",
    "response  #[\"ResponseMetadata\"]"
   ]
  },
  {
   "cell_type": "code",
   "execution_count": null,
   "id": "fe12ef1a-d65b-419e-b3bd-1feb6a5a4a42",
   "metadata": {
    "tags": []
   },
   "outputs": [],
   "source": [
    "s3 = boto3.client('s3')\n",
    "path = 'OHCImages/images/Kawagoe_Sashiougi-Minamifuruya/HD21/'\n",
    "file_list = []\n",
    "\n",
    "# S3バケット内のファイル一覧を取得\n",
    "response = s3.list_objects_v2(Bucket='k-nagayama', Prefix=path)\n",
    "for content in response.get('Contents', []):\n",
    "    file_list.append(content.get('Key'))\n",
    "\n",
    "# レスポンスが1000件未満になるまでリクエストを続ける\n",
    "while response['IsTruncated']:\n",
    "    response = s3.list_objects_v2(Bucket='k-nagayama', Prefix=path, ContinuationToken=response['NextContinuationToken'])\n",
    "    for content in response.get('Contents', []):\n",
    "        file_list.append(content.get('Key'))\n",
    "len(file_list)"
   ]
  },
  {
   "cell_type": "code",
   "execution_count": null,
   "id": "057339db-90af-4611-8f10-fdf28891bd35",
   "metadata": {
    "tags": []
   },
   "outputs": [],
   "source": [
    "s3 = boto3.resource(\"s3\")\n",
    "bucket = s3.Bucket('k-nagayama')\n",
    "prefix = 'OHCImages/images/Kawagoe_Sashiougi-Minamifuruya/HD22/'\n",
    "\n",
    "\n",
    "def get_all_keys(bucket_name: str, prefix: str, keys: list[str], marker: str) -> list[str]:\n",
    "    \"\"\"\n",
    "    S3の指定したパスに存在するオブジェクトのキーを全て取得する\n",
    "\n",
    "    Parameters\n",
    "    ----------\n",
    "    bucket_name: String\n",
    "        対象のBucket\n",
    "    prefix: String\n",
    "        対象のディレクトリのパス\n",
    "    keys: list[str]\n",
    "    marker: String\n",
    "        関数の中から呼び出す時のための引数。通常はkeys = [], marker = \"\" で呼び出す\n",
    "\n",
    "    Returns\n",
    "    -------\n",
    "    list[str]\n",
    "        取得したキーのリスト\n",
    "    \"\"\"\n",
    "    s3 = boto3.resource(\"s3\")\n",
    "    bucket = s3.Bucket(bucket_name)\n",
    "    objects = bucket.meta.client.list_objects_v2(Bucket=bucket.name, Prefix=prefix, StartAfter=marker)\n",
    "    if \"Contents\" in objects:\n",
    "        keys.extend([content[\"Key\"] for content in objects[\"Contents\"]])\n",
    "        print(f'isTruncated:{objects.get(\"isTruncated\")}')\n",
    "        # 返り値のIsTruncatedがTrueかどうかを確認する\n",
    "        if objects.get(\"isTruncated\"):\n",
    "            # marker引数に取得したkeysの末尾の値を設定して再度get_all_keysを実行する\n",
    "            return get_all_keys(bucket_name=bucket_name, prefix=prefix, keys=keys, marker=keys[-1])\n",
    "    return keys\n",
    "\n",
    "file_list = get_all_keys(bucket.name, prefix, [], \"\")\n",
    "len(file_list)"
   ]
  },
  {
   "cell_type": "code",
   "execution_count": null,
   "id": "03e5cddf-46d7-4517-903a-1ff57b47c1d3",
   "metadata": {
    "tags": []
   },
   "outputs": [],
   "source": [
    "for i in range(1):\n",
    "    print(i)\n",
    "    "
   ]
  },
  {
   "cell_type": "code",
   "execution_count": null,
   "id": "0b5f2592-8e2a-4b9b-88d8-d7e33da25e74",
   "metadata": {},
   "outputs": [],
   "source": []
  },
  {
   "cell_type": "code",
   "execution_count": null,
   "id": "a55814e1-9da2-4189-8e2c-e9f5612b9d04",
   "metadata": {},
   "outputs": [],
   "source": []
  },
  {
   "cell_type": "code",
   "execution_count": null,
   "id": "7110ce19",
   "metadata": {},
   "outputs": [],
   "source": [
    "\n",
    "idx = 0\n",
    "path = 'OHCImages/images/Chuo_Suidobashi-Iidabashi_down/HD11/2022_0225_HD11_01_00000073.jpg'\n",
    "s3 = boto3.client('s3')\n",
    "response = s3.list_objects_v2(Bucket='k-nagayama', Prefix=path)\n",
    "response\n",
    "\n",
    "\n",
    "# print(f'{idx}番目の画像を表示します')\n",
    "# im_base = Image.open(response)\n",
    "# imshow(im_base, caption='車モニ画像')"
   ]
  },
  {
   "cell_type": "code",
   "execution_count": null,
   "id": "05465760",
   "metadata": {},
   "outputs": [],
   "source": [
    "\n",
    "\n",
    "idx = 0\n",
    "path = 'OHCImages/images/Chuo_Suidobashi-Iidabashi_down/HD11/2022_0225_HD11_01_00000073.jpg'\n",
    "s3 = boto3.client('s3')\n",
    "response = s3.get_object(Bucket='k-nagayama', Key=path)\n",
    "image_content = response['Body'].read()\n",
    "img = Image.open(BytesIO(image_content))\n",
    "img.show()"
   ]
  },
  {
   "cell_type": "code",
   "execution_count": null,
   "id": "2d0ad669",
   "metadata": {},
   "outputs": [],
   "source": [
    "# S3バケットに画像を保存する\n",
    "\n",
    "dir_path = 'OHCImages/'\n",
    "file_name = 'test.jpg'\n",
    "file_full_path = dir_path + file_name\n",
    "img = Image.open('test.jpg')\n",
    "\n",
    "# バイトデータに変換する\n",
    "with BytesIO() as output:\n",
    "    img.save(output, format=\"JPEG\")\n",
    "    contents = output.getvalue()\n",
    "\n",
    "s3 = boto3.client('s3')\n",
    "response = s3.put_object(Body=contents, Bucket='k-nagayama', Key=file_full_path)\n",
    "response"
   ]
  },
  {
   "cell_type": "code",
   "execution_count": null,
   "id": "48e97863",
   "metadata": {
    "tags": []
   },
   "outputs": [],
   "source": [
    "# S3バケットにディレクトリが無ければ作成する\n",
    "def test_dir_put(dir):\n",
    "    s3 = boto3.client('s3')\n",
    "    result = s3.list_objects(Bucket='k-nagayama', Prefix=dir)    #ディレクトリを変数に\n",
    "    if not \"Contents\" in result:    # ディレクトリがない場合はContents というキーが存在しない。これを使えば存在判定ができる。\n",
    "        s3.put_object(Bucket='k-nagayama', Key=dir)    #ディレクトリ作成 \n"
   ]
  },
  {
   "cell_type": "code",
   "execution_count": null,
   "id": "65295c2d-7cf1-49f9-82bd-4ad416223f51",
   "metadata": {
    "tags": []
   },
   "outputs": [],
   "source": [
    "# S3に1000件以上のディレクトリを作成する（テスト用）\n",
    "base_dir = 'OHCImages/test/'    #ディレクトリパス\n",
    "for i in range(1100):\n",
    "    test_dir_put(base_dir + str(i) + '/')"
   ]
  },
  {
   "cell_type": "code",
   "execution_count": null,
   "id": "7ead2117-02ce-49ab-a2ed-dc5fc295b2cc",
   "metadata": {
    "tags": []
   },
   "outputs": [],
   "source": [
    "def get_s3_dir_list(path):\n",
    "    s3 = boto3.client('s3')\n",
    "    rail_list = []\n",
    "    # S3バケット内のディレクトリ一覧を取得\n",
    "    response = s3.list_objects_v2(Bucket='k-nagayama', Prefix=path, Delimiter='/')\n",
    "    for content in response.get('CommonPrefixes', []):\n",
    "        full_path = content.get('Prefix')\n",
    "        normalized_path = os.path.normpath(full_path)\n",
    "        rail_list.append(os.path.basename(normalized_path))\n",
    "    # レスポンスが1000件未満になるまでリクエストを続ける\n",
    "    while response['IsTruncated']:\n",
    "        response = s3.list_objects_v2(Bucket='k-nagayama', Prefix=path, Delimiter='/', ContinuationToken=response['NextContinuationToken'])\n",
    "        for content in response.get('CommonPrefixes', []):\n",
    "            full_path = content.get('Prefix')\n",
    "            normalized_path = os.path.normpath(full_path)\n",
    "            rail_list.append(os.path.basename(normalized_path))\n",
    "    rail_list.sort()\n",
    "    return rail_list\n",
    "\n",
    "base_dir = 'OHCImages/test/'    #ディレクトリパス\n",
    "\n",
    "dir_list = get_s3_dir_list(base_dir)\n",
    "# response\n",
    "len(dir_list)"
   ]
  },
  {
   "cell_type": "code",
   "execution_count": null,
   "id": "4f7205b8",
   "metadata": {},
   "outputs": [],
   "source": []
  },
  {
   "cell_type": "code",
   "execution_count": null,
   "id": "3e6154b6",
   "metadata": {},
   "outputs": [],
   "source": []
  },
  {
   "cell_type": "code",
   "execution_count": null,
   "id": "3c5b8f00",
   "metadata": {},
   "outputs": [],
   "source": [
    "# S3バケットのディレクトリ一覧を取得する\n",
    "def get_s3_dir_list(path):\n",
    "    s3 = boto3.client('s3')\n",
    "    rail_list = []\n",
    "    response = s3.list_objects_v2(Bucket='k-nagayama', Prefix=path, Delimiter='/')\n",
    "    for content in response.get('CommonPrefixes', []):\n",
    "        full_path = content.get('Prefix')\n",
    "        normalized_path = os.path.normpath(full_path)\n",
    "        rail_list.append(os.path.basename(normalized_path))\n",
    "    rail_list.sort()\n",
    "    return rail_list\n",
    "\n",
    "# S3バケットのカメラフォルダ内のファイル一覧を取得する\n",
    "def get_s3_image_list(path):\n",
    "    s3 = boto3.client('s3')\n",
    "    # path = 'OHCImages/images/Chuo_Suidobashi-Iidabashi_down/HD11/'\n",
    "    image_list = []\n",
    "    # S3バケット内のファイル一覧を取得\n",
    "    response = s3.list_objects_v2(Bucket='k-nagayama', Prefix=path)\n",
    "    for content in response.get('Contents', []):\n",
    "        full_path = content.get('Key')\n",
    "        image_list.append(os.path.basename(full_path))\n",
    "    image_list.sort()\n",
    "    return image_list\n",
    "\n",
    "# S3バケットの電車線金具モニタリングシステムの画像を表示する\n",
    "def ohc_image_load(path, idx):\n",
    "    s3 = boto3.client('s3')\n",
    "    response = s3.get_object(Bucket='k-nagayama', Key=path)\n",
    "    image_content = response['Body'].read()\n",
    "    st.text(f'{idx}番目の画像を表示します')\n",
    "    img = Image.open(BytesIO(image_content))\n",
    "    st.image(img, caption='車モニ画像')\n",
    "    return\n",
    "\n",
    "# S3バケットの電車線金具モニタリングシステムの画像を取得する\n",
    "def get_image(path):\n",
    "    s3 = boto3.client('s3')\n",
    "    response = s3.get_object(Bucket='k-nagayama', Key=path)\n",
    "    image_content = response['Body'].read()\n",
    "    img = Image.open(BytesIO(image_content))\n",
    "    return img\n",
    "\n",
    "def put_s3_csv(csv_data, file_full_path):\n",
    "    s3 = boto3.client('s3')\n",
    "    response = s3.put_object(Body=csv_data, Bucket='k-nagayama', Key=file_full_path)\n",
    "    return\n",
    "\n",
    "# メタデータ作成\n",
    "def print_files(dir_name, image_list, csvname, cam):\n",
    "  # print_files('OHCImages/images/' + dir_area, image_list, dir_area, camera_num)\n",
    "    dict = {\n",
    "        \"dirname\":[],\n",
    "        \"filename\":[],\n",
    "        \"camera_num\":[],\n",
    "        \"upper_boundary1\":[],\n",
    "        \"lower_boundary1\":[],\n",
    "        \"upper_diff1\":[],\n",
    "        \"lower_diff1\":[],\n",
    "        \"upper_boundary2\":[],\n",
    "        \"lower_boundary2\":[],\n",
    "        \"upper_diff2\":[],\n",
    "        \"lower_diff2\":[],\n",
    "        \"upper_boundary3\":[],\n",
    "        \"lower_boundary3\":[],\n",
    "        \"upper_diff3\":[],\n",
    "        \"lower_diff3\":[]\n",
    "    }\n",
    "    for file in image_list:\n",
    "        dict[\"dirname\"].append(os.path.dirname(dir_name + '/' + cam + '/' + file))\n",
    "        dict[\"filename\"].append(os.path.basename(file))\n",
    "        dict[\"camera_num\"].append(cam)\n",
    "        dict[\"upper_boundary1\"].append(None)\n",
    "        dict[\"lower_boundary1\"].append(None)\n",
    "        dict[\"upper_diff1\"].append(None)\n",
    "        dict[\"lower_diff1\"].append(None)\n",
    "        dict[\"upper_boundary2\"].append(None)\n",
    "        dict[\"lower_boundary2\"].append(None)\n",
    "        dict[\"upper_diff2\"].append(None)\n",
    "        dict[\"lower_diff2\"].append(None)\n",
    "        dict[\"upper_boundary3\"].append(None)\n",
    "        dict[\"lower_boundary3\"].append(None)\n",
    "        dict[\"upper_diff3\"].append(None)\n",
    "        dict[\"lower_diff3\"].append(None)\n",
    "    df=pd.DataFrame.from_dict(dict)\n",
    "    \n",
    "    csv_data = df.to_csv(index=False)\n",
    "    \n",
    "    put_s3_csv(csv_data, f\"{dir_name}/{csvname}_temp_meta.csv\")\n",
    "    csv_path = f\"{dir_name}/{csvname}_temp_meta.csv\"\n",
    "    return csv_path\n",
    "\n",
    "\n",
    "\n",
    "\n",
    "# Main\n",
    "CAMERA_NUMS = ['HD11','HD12','HD21','HD22','HD31','HD32']\n",
    "\n",
    "rail_list = get_s3_dir_list('OHCImages/images/')\n",
    "dir_area = rail_list[0]\n",
    "camera_num = CAMERA_NUMS[0]\n",
    "image_list = get_s3_image_list('OHCImages/images/' + dir_area + '/' + camera_num + '/')\n",
    "\n",
    "# rail_list[0]\n",
    "# image_list[0]\n",
    "\n",
    "csv_path = print_files('OHCImages/images/' + dir_area, image_list, dir_area, camera_num)\n",
    "\n",
    "# df\n"
   ]
  },
  {
   "cell_type": "code",
   "execution_count": null,
   "id": "99ee02fe",
   "metadata": {},
   "outputs": [],
   "source": [
    "# S3バケットのCSVファイルをPandasデータフレームとして取得する\n",
    "def get_s3_csv_asDf(path):\n",
    "    s3 = boto3.client('s3')\n",
    "    response = s3.get_object(Bucket='k-nagayama', Key=path)\n",
    "    csv_content = response['Body'].read()\n",
    "    df = pd.read_csv(BytesIO(csv_content), header=0,dtype={'camera_num':str})\n",
    "    return df\n",
    "\n",
    "path = 'OHCImages/images/Chuo_Suidobashi-Iidabashi_down/Chuo_Suidobashi-Iidabashi_down_temp_meta.csv'\n",
    "df = get_s3_csv_asDf(path)\n",
    "\n"
   ]
  },
  {
   "cell_type": "code",
   "execution_count": null,
   "id": "e80be4e6",
   "metadata": {},
   "outputs": [],
   "source": [
    "def get_rail(metadatafile, dir_area, CAMERA_NUMS):\n",
    "    rail = { #線区ごとの情報\n",
    "        'metadata_name':None,\n",
    "        'upper_boundary1':[], #線区の開始点のトロリ線の上端\n",
    "        'lower_boundary1':[], #線区の開始点のトロリ線の下端\n",
    "        'upper_boundary2':[],\n",
    "        'lower_boundary2':[],\n",
    "        'upper_boundary3':[],\n",
    "        'lower_boundary3':[],\n",
    "        \n",
    "        'df':pd.DataFrame()\n",
    "    }\n",
    "    df = get_s3_csv_asDf(metadatafile)\n",
    "    \n",
    "    outpath_list = []\n",
    "    \n",
    "    rail['df'] = df\n",
    "    rail['metadata_name']=metadatafile\n",
    "    rail['metadata_length']=len(df)\n",
    "    rail['camera_num'] = df['camera_num']\n",
    "    rail['inpath'] = [f'{x[0]}/{x[1]}' for x in zip(df['dirname'].tolist(), df['filename'].tolist())]\n",
    "    rail['infile'] = df['filename']\n",
    "    for camera_num in CAMERA_NUMS:\n",
    "        outpath_list.append(f'output/{dir_area}/{camera_num}/')\n",
    "    rail['outpath'] = outpath_list\n",
    "    rail['upper_boundary1'] = df['upper_boundary1'].tolist()\n",
    "    rail['lower_boundary1'] = df['lower_boundary1'].tolist()\n",
    "    rail['upper_boundary2'] = df['upper_boundary2'].tolist()\n",
    "    rail['lower_boundary2'] = df['lower_boundary2'].tolist()\n",
    "    rail['upper_boundary3'] = df['upper_boundary3'].tolist()\n",
    "    rail['lower_boundary3'] = df['lower_boundary3'].tolist()\n",
    "    return rail.copy()\n",
    "\n",
    "path = 'OHCImages/images/Chuo_Suidobashi-Iidabashi_down/Chuo_Suidobashi-Iidabashi_down_temp_meta.csv'\n",
    "dir_area = rail_list[0]\n",
    "CAMERA_NUMS = ['HD11','HD12','HD21','HD22','HD31','HD32']\n",
    "\n",
    "rail = get_rail(path, dir_area, CAMERA_NUMS)\n"
   ]
  },
  {
   "cell_type": "code",
   "execution_count": null,
   "id": "c9bffdd6",
   "metadata": {},
   "outputs": [],
   "source": [
    "rail['outpath']"
   ]
  },
  {
   "cell_type": "code",
   "execution_count": null,
   "id": "76e3fb61",
   "metadata": {},
   "outputs": [],
   "source": []
  },
  {
   "cell_type": "code",
   "execution_count": null,
   "id": "e37d7fe7",
   "metadata": {},
   "outputs": [],
   "source": []
  }
 ],
 "metadata": {
  "kernelspec": {
   "display_name": "conda_python3",
   "language": "python",
   "name": "conda_python3"
  },
  "language_info": {
   "codemirror_mode": {
    "name": "ipython",
    "version": 3
   },
   "file_extension": ".py",
   "mimetype": "text/x-python",
   "name": "python",
   "nbconvert_exporter": "python",
   "pygments_lexer": "ipython3",
   "version": "3.10.8"
  }
 },
 "nbformat": 4,
 "nbformat_minor": 5
}
