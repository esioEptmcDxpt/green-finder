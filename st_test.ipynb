{
 "cells": [
  {
   "cell_type": "markdown",
   "id": "45383b83-d4ac-45c8-a6e7-b58023b03628",
   "metadata": {},
   "source": [
    "# モジュールインストール"
   ]
  },
  {
   "cell_type": "code",
   "execution_count": null,
   "id": "aead0138-ece8-464d-b7db-d1d9775a1fa8",
   "metadata": {
    "scrolled": true,
    "tags": []
   },
   "outputs": [],
   "source": [
    "!pip install -r requirements.txt"
   ]
  },
  {
   "cell_type": "markdown",
   "id": "ab1a34c8-0397-4476-8256-c5da5dd5167d",
   "metadata": {},
   "source": [
    "# StreamlitアクセスURL"
   ]
  },
  {
   "cell_type": "code",
   "execution_count": null,
   "id": "e71b0307-cc3c-49e9-86db-bffbeef294d5",
   "metadata": {},
   "outputs": [],
   "source": [
    "https://k-nagayama-hnx0.notebook.ap-northeast-1.sagemaker.aws/proxy/8501/"
   ]
  },
  {
   "cell_type": "code",
   "execution_count": null,
   "id": "85783b9d",
   "metadata": {},
   "outputs": [],
   "source": [
    "import webbrowser\n",
    "\n",
    "url = 'https://k-nagayama-hnx0.notebook.ap-northeast-1.sagemaker.aws/proxy/8501/'\n",
    "webbrowser.open_new_tab(url)"
   ]
  },
  {
   "cell_type": "markdown",
   "id": "99db9111",
   "metadata": {
    "tags": []
   },
   "source": [
    "## imgsフォルダをS3と同期する\n",
    "**アップロード**"
   ]
  },
  {
   "cell_type": "code",
   "execution_count": null,
   "id": "91710406",
   "metadata": {
    "scrolled": true,
    "tags": []
   },
   "outputs": [],
   "source": [
    "!aws s3 sync imgs s3://trolley-monitor/imgs --exact-timestamps --delete"
   ]
  },
  {
   "cell_type": "markdown",
   "id": "e696980f",
   "metadata": {},
   "source": [
    "## imgsフォルダをS3と同期する\n",
    "**ダウンロード**"
   ]
  },
  {
   "cell_type": "code",
   "execution_count": null,
   "id": "cd65b5c6",
   "metadata": {
    "tags": []
   },
   "outputs": [],
   "source": [
    "!aws s3 sync s3://trolley-monitor/imgs imgs --exact-timestamps"
   ]
  },
  {
   "cell_type": "code",
   "execution_count": null,
   "id": "1e95e3c8-0abf-401a-ad5c-e083faf175ed",
   "metadata": {},
   "outputs": [],
   "source": []
  },
  {
   "cell_type": "markdown",
   "id": "36ee6be2-f9be-454a-beae-de218b073c8e",
   "metadata": {},
   "source": [
    "# black, flake8によるコードチェック\n",
    "## コードの自動フォーマット"
   ]
  },
  {
   "cell_type": "code",
   "execution_count": null,
   "id": "03800946-d82f-4a26-8ea3-fa07e5f942eb",
   "metadata": {
    "tags": []
   },
   "outputs": [],
   "source": [
    "!pwd"
   ]
  },
  {
   "cell_type": "code",
   "execution_count": null,
   "id": "b73d2309-9894-4ecd-8f22-bb9d644ca026",
   "metadata": {
    "tags": []
   },
   "outputs": [],
   "source": [
    "!pip install flake8"
   ]
  },
  {
   "cell_type": "code",
   "execution_count": null,
   "id": "9929ac36-7723-4173-8b5f-350de80f0411",
   "metadata": {
    "tags": []
   },
   "outputs": [],
   "source": [
    "!black ./pages/1_⚡_TTS摩耗判定システム.py"
   ]
  },
  {
   "cell_type": "markdown",
   "id": "92c606a8-17ee-424e-b69c-64404b6ec7ed",
   "metadata": {},
   "source": [
    "## コーディング規約のチェック\n",
    "https://flake8.pycqa.org/en/2.6.0/warnings.html"
   ]
  },
  {
   "cell_type": "code",
   "execution_count": null,
   "id": "8ac6656e-a92e-4b99-a59d-e076a617f2e1",
   "metadata": {
    "tags": []
   },
   "outputs": [],
   "source": [
    "!flake8 ./pages/1_⚡_TTS摩耗判定システム.py --max-line-length 200"
   ]
  },
  {
   "cell_type": "code",
   "execution_count": null,
   "id": "d990e7bb-cb3b-4f6a-ae97-5457176823bb",
   "metadata": {
    "tags": []
   },
   "outputs": [],
   "source": [
    "!flake8 utils_01.py --max-line-length 200"
   ]
  },
  {
   "cell_type": "code",
   "execution_count": null,
   "id": "8234590a-ef74-49d3-9acd-87078fbac729",
   "metadata": {
    "tags": []
   },
   "outputs": [],
   "source": [
    "!flake8 utilsS3_01.py --max-line-length 200"
   ]
  },
  {
   "cell_type": "code",
   "execution_count": null,
   "id": "58cbfbcd-d1cc-4756-b6f0-554078d6e2ad",
   "metadata": {},
   "outputs": [],
   "source": []
  },
  {
   "cell_type": "code",
   "execution_count": null,
   "id": "ffa63238-c0ee-4471-8897-6926c63a110b",
   "metadata": {},
   "outputs": [],
   "source": []
  },
  {
   "cell_type": "markdown",
   "id": "9e6a2635",
   "metadata": {},
   "source": [
    "# 作業用"
   ]
  },
  {
   "cell_type": "code",
   "execution_count": 1,
   "id": "a1cf5b9f",
   "metadata": {
    "tags": []
   },
   "outputs": [
    {
     "name": "stderr",
     "output_type": "stream",
     "text": [
      "2023-05-24 12:28:55.766 INFO    numexpr.utils: NumExpr defaulting to 4 threads.\n"
     ]
    }
   ],
   "source": [
    "import boto3\n",
    "import os\n",
    "import copy\n",
    "import shelve\n",
    "import datetime\n",
    "import streamlit as st\n",
    "import matplotlib.pyplot as plt\n",
    "from PIL import Image\n",
    "from io import BytesIO\n",
    "import pandas as pd\n",
    "# import src.utilsST_01 as utlst\n",
    "import src.helpers as helpers\n",
    "import src.visualize as vis\n",
    "from src.config import appProperties\n",
    "from src.trolley import trolley\n",
    "from src.similar_pixel import pixel\n",
    "\n",
    "config = appProperties('config.yml')"
   ]
  },
  {
   "cell_type": "code",
   "execution_count": 2,
   "id": "ad081dfa-37c3-4ca1-ac45-e39a3c79a9f9",
   "metadata": {
    "tags": []
   },
   "outputs": [
    {
     "name": "stdout",
     "output_type": "stream",
     "text": [
      "images_path     :['Chuo_01_Tokyo-St_up_20230201_knight', 'Chuo_02_Tokyo-Kanda_up_20230201_knight', 'Chuo_03_Kanda-St_up_20230201_knight', 'Chuo_04_Kanda-Ochanomizu_up_20230201_knight', 'Chuo_05_Ochanomizu-St_up_20230201_knight', 'Chuo_06_Ochanomizu-Suidobashi_up_20230201_knight', 'Chuo_07_Suidobashi-St_up_20230201_knight', 'Chuo_08_Suidobashi-Iidabashi_up_20230201_knight', 'Chuo_09_Iidabashi-St_up_20230201_knight', 'Chuo_10_Iidabashi-Ichigaya_up_20230201_knight', 'Chuo_11_Ichigaya-St_up_20230201_knight', 'Chuo_12_Ichigaya-Yotsuya_up_20230201_knight', 'Chuo_13_Yotsuya-St_up_20230201_knight', 'Chuo_14_Yotsuya-Shinanomachi_up_20230201_knight', 'Kawagoe_01_Omiya-Nisshin_down_20210721_knight', 'Kawagoe_02_Nishioomiya-Sashiougi_down_20220626_knight', 'Kawagoe_02_Sashiougi-Minamifuruya_down_20220101_knight', 'Kawagoe_02_Sashiougi-Minamifuruya_down_20220626_knight', 'Kawagoe_03_Sashiougi-St_down_20220626_knight', 'Utsunomiya_01_Ohmiya-Miyahara_down_20220221_knight']\n",
      "dir_area        :Chuo_01_Tokyo-St_up_20230201_knight\n",
      "target_dir      :imgs/Chuo_01_Tokyo-St_up_20230201_knight/HD11\n",
      "outpath         :output/Chuo_01_Tokyo-St_up_20230201_knight/HD11\n",
      "len(base_images):162\n"
     ]
    }
   ],
   "source": [
    "images_path = helpers.list_imagespath(config.image_dir)\n",
    "dir_area = \"Chuo_01_Tokyo-St_up_20230201_knight\"\n",
    "camera_num = \"HD11\"\n",
    "target_dir = config.image_dir + \"/\" + dir_area + \"/\" + camera_num\n",
    "outpath = config.output_dir + \"/\" + dir_area + \"/\" + camera_num\n",
    "os.makedirs(outpath, exist_ok=True)\n",
    "\n",
    "base_images = helpers.list_images(target_dir)\n",
    "\n",
    "# rail = shelve.open(outpath + \"/rail.shelve\", writeback=True)\n",
    "# rail[\"name\"] = dir_area\n",
    "# helpers.rail_camera_initialize(rail, camera_num, base_images, config.trolley_ids)\n",
    "\n",
    "rail_fpath = outpath + \"/rail.shelve\"\n",
    "with shelve.open(rail_fpath) as rail:\n",
    "    rail[\"name\"] = dir_area\n",
    "    helpers.rail_camera_initialize(rail, camera_num, base_images, config.trolley_ids)\n",
    "    # rail_dict = copy.deepcopy(rail)\n",
    "\n",
    "# ここまでを出力\n",
    "print(f'images_path     :{images_path}')\n",
    "print(f'dir_area        :{dir_area}')\n",
    "print(f'target_dir      :{target_dir}')\n",
    "print(f'outpath         :{outpath}')\n",
    "print(f'len(base_images):{len(base_images)}')\n"
   ]
  },
  {
   "cell_type": "code",
   "execution_count": 3,
   "id": "12ca5086-5cc4-444e-9371-9f7045df7c72",
   "metadata": {
    "tags": []
   },
   "outputs": [],
   "source": [
    "auto_edge = False\n",
    "y_init_l, y_init_u = 0, 0\n",
    "pixel_instance_1 = pixel(1, y_init_l, y_init_u)\n",
    "pixel_instance_2 = pixel(2, y_init_l, y_init_u)\n",
    "pixel_instance_3 = pixel(3, y_init_l, y_init_u)\n"
   ]
  },
  {
   "cell_type": "code",
   "execution_count": 4,
   "id": "3aaa810a-56e9-4e7b-bf18-010aea8eb1f0",
   "metadata": {
    "tags": []
   },
   "outputs": [
    {
     "name": "stdout",
     "output_type": "stream",
     "text": [
      "0枚目の画像を処理中です。画像名は2022_0615_HD11_01_00022312.jpg\n",
      "search_list:[]\n",
      "dict saving\n",
      "shelve saving\n",
      "2023-05-24 12:29:24.202963 Process end :0:00:12.079184\n",
      "1枚目の画像を処理中です。画像名は2022_0615_HD11_01_00022313.jpg\n",
      "dict saving\n",
      "shelve saving\n",
      "2023-05-24 12:29:33.615365 Process end :0:00:09.412343\n",
      "2枚目の画像を処理中です。画像名は2022_0615_HD11_01_00022314.jpg\n",
      "dict saving\n",
      "shelve saving\n",
      "2023-05-24 12:29:43.120379 Process end :0:00:09.504959\n",
      "3枚目の画像を処理中です。画像名は2022_0615_HD11_01_00022315.jpg\n",
      "dict saving\n",
      "shelve saving\n",
      "2023-05-24 12:29:51.642978 Process end :0:00:08.522544\n",
      "4枚目の画像を処理中です。画像名は2022_0615_HD11_01_00022316.jpg\n",
      "dict saving\n",
      "shelve saving\n",
      "2023-05-24 12:30:01.017685 Process end :0:00:09.374652\n",
      "5枚目の画像を処理中です。画像名は2022_0615_HD11_01_00022317.jpg\n",
      "dict saving\n",
      "shelve saving\n",
      "2023-05-24 12:30:10.421790 Process end :0:00:09.404048\n",
      "6枚目の画像を処理中です。画像名は2022_0615_HD11_01_00022318.jpg\n",
      "dict saving\n",
      "shelve saving\n",
      "2023-05-24 12:30:19.798861 Process end :0:00:09.377015\n",
      "7枚目の画像を処理中です。画像名は2022_0615_HD11_01_00022319.jpg\n",
      "dict saving\n",
      "shelve saving\n",
      "2023-05-24 12:30:29.298836 Process end :0:00:09.499917\n",
      "8枚目の画像を処理中です。画像名は2022_0615_HD11_01_00022320.jpg\n",
      "dict saving\n",
      "shelve saving\n",
      "2023-05-24 12:30:38.675401 Process end :0:00:09.376513\n",
      "9枚目の画像を処理中です。画像名は2022_0615_HD11_01_00022321.jpg\n",
      "dict saving\n",
      "shelve saving\n",
      "2023-05-24 12:30:48.094444 Process end :0:00:09.418991\n",
      "10枚目の画像を処理中です。画像名は2022_0615_HD11_01_00022322.jpg\n",
      "dict saving\n",
      "shelve saving\n",
      "2023-05-24 12:30:57.462667 Process end :0:00:09.368166\n",
      "11枚目の画像を処理中です。画像名は2022_0615_HD11_01_00022323.jpg\n",
      "dict saving\n",
      "shelve saving\n",
      "2023-05-24 12:31:07.050452 Process end :0:00:09.587730\n",
      "12枚目の画像を処理中です。画像名は2022_0615_HD11_01_00022324.jpg\n",
      "dict saving\n",
      "shelve saving\n",
      "2023-05-24 12:31:16.474716 Process end :0:00:09.424209\n",
      "13枚目の画像を処理中です。画像名は2022_0615_HD11_01_00022325.jpg\n",
      "dict saving\n",
      "shelve saving\n",
      "2023-05-24 12:31:25.873775 Process end :0:00:09.399002\n",
      "14枚目の画像を処理中です。画像名は2022_0615_HD11_01_00022326.jpg\n",
      "dict saving\n",
      "shelve saving\n",
      "2023-05-24 12:31:35.273731 Process end :0:00:09.399901\n",
      "15枚目の画像を処理中です。画像名は2022_0615_HD11_01_00022327.jpg\n",
      "dict saving\n",
      "shelve saving\n",
      "2023-05-24 12:31:44.661980 Process end :0:00:09.388194\n",
      "16枚目の画像を処理中です。画像名は2022_0615_HD11_01_00022328.jpg\n",
      "dict saving\n",
      "shelve saving\n",
      "2023-05-24 12:31:54.071410 Process end :0:00:09.409375\n",
      "17枚目の画像を処理中です。画像名は2022_0615_HD11_01_00022329.jpg\n",
      "dict saving\n",
      "shelve saving\n",
      "2023-05-24 12:32:03.457409 Process end :0:00:09.385943\n",
      "18枚目の画像を処理中です。画像名は2022_0615_HD11_01_00022330.jpg\n",
      "dict saving\n",
      "shelve saving\n",
      "2023-05-24 12:32:12.836935 Process end :0:00:09.379470\n",
      "19枚目の画像を処理中です。画像名は2022_0615_HD11_01_00022331.jpg\n",
      "dict saving\n",
      "shelve saving\n",
      "2023-05-24 12:32:22.213478 Process end :0:00:09.376491\n",
      "20枚目の画像を処理中です。画像名は2022_0615_HD11_01_00022332.jpg\n",
      "dict saving\n",
      "shelve saving\n",
      "2023-05-24 12:32:31.602812 Process end :0:00:09.389280\n",
      "21枚目の画像を処理中です。画像名は2022_0615_HD11_01_00022333.jpg\n",
      "dict saving\n",
      "shelve saving\n",
      "2023-05-24 12:32:41.218017 Process end :0:00:09.615151\n",
      "22枚目の画像を処理中です。画像名は2022_0615_HD11_01_00022334.jpg\n",
      "dict saving\n",
      "shelve saving\n",
      "2023-05-24 12:32:50.620221 Process end :0:00:09.402150\n",
      "23枚目の画像を処理中です。画像名は2022_0615_HD11_01_00022335.jpg\n",
      "dict saving\n",
      "shelve saving\n",
      "2023-05-24 12:33:00.020735 Process end :0:00:09.400459\n",
      "24枚目の画像を処理中です。画像名は2022_0615_HD11_01_00022336.jpg\n",
      "dict saving\n",
      "shelve saving\n",
      "2023-05-24 12:33:09.448432 Process end :0:00:09.427642\n",
      "25枚目の画像を処理中です。画像名は2022_0615_HD11_01_00022337.jpg\n",
      "dict saving\n",
      "shelve saving\n",
      "2023-05-24 12:33:18.851102 Process end :0:00:09.402617\n",
      "26枚目の画像を処理中です。画像名は2022_0615_HD11_01_00022338.jpg\n",
      "dict saving\n",
      "shelve saving\n",
      "2023-05-24 12:33:27.807179 Process end :0:00:08.956022\n",
      "27枚目の画像を処理中です。画像名は2022_0615_HD11_01_00022339.jpg\n",
      "dict saving\n",
      "shelve saving\n",
      "2023-05-24 12:33:37.239197 Process end :0:00:09.431963\n",
      "28枚目の画像を処理中です。画像名は2022_0615_HD11_01_00022340.jpg\n",
      "dict saving\n",
      "shelve saving\n",
      "2023-05-24 12:33:46.645905 Process end :0:00:09.406651\n",
      "29枚目の画像を処理中です。画像名は2022_0615_HD11_01_00022341.jpg\n",
      "dict saving\n",
      "shelve saving\n",
      "2023-05-24 12:33:56.167361 Process end :0:00:09.521402\n",
      "30枚目の画像を処理中です。画像名は2022_0615_HD11_01_00022342.jpg\n",
      "dict saving\n",
      "shelve saving\n",
      "2023-05-24 12:34:05.743870 Process end :0:00:09.576454\n",
      "31枚目の画像を処理中です。画像名は2022_0615_HD11_01_00022343.jpg\n",
      "dict saving\n",
      "shelve saving\n",
      "2023-05-24 12:34:12.105269 Process end :0:00:06.361343\n",
      "32枚目の画像を処理中です。画像名は2022_0615_HD11_01_00022344.jpg\n",
      "dict saving\n",
      "shelve saving\n",
      "2023-05-24 12:34:21.620513 Process end :0:00:09.515189\n",
      "33枚目の画像を処理中です。画像名は2022_0615_HD11_01_00022345.jpg\n",
      "dict saving\n",
      "shelve saving\n",
      "2023-05-24 12:34:27.604240 Process end :0:00:05.983672\n",
      "34枚目の画像を処理中です。画像名は2022_0615_HD11_01_00022346.jpg\n",
      "dict saving\n",
      "shelve saving\n",
      "2023-05-24 12:34:33.765790 Process end :0:00:06.161491\n",
      "35枚目の画像を処理中です。画像名は2022_0615_HD11_01_00022347.jpg\n",
      "dict saving\n",
      "shelve saving\n",
      "2023-05-24 12:34:43.408745 Process end :0:00:09.642902\n",
      "36枚目の画像を処理中です。画像名は2022_0615_HD11_01_00022348.jpg\n",
      "dict saving\n",
      "shelve saving\n",
      "2023-05-24 12:34:52.941415 Process end :0:00:09.532617\n",
      "37枚目の画像を処理中です。画像名は2022_0615_HD11_01_00022349.jpg\n",
      "dict saving\n",
      "shelve saving\n",
      "2023-05-24 12:35:02.389979 Process end :0:00:09.448510\n",
      "38枚目の画像を処理中です。画像名は2022_0615_HD11_01_00022350.jpg\n",
      "dict saving\n",
      "shelve saving\n",
      "2023-05-24 12:35:11.921342 Process end :0:00:09.531309\n",
      "39枚目の画像を処理中です。画像名は2022_0615_HD11_01_00022351.jpg\n",
      "dict saving\n",
      "shelve saving\n",
      "2023-05-24 12:35:21.598954 Process end :0:00:09.677556\n",
      "40枚目の画像を処理中です。画像名は2022_0615_HD11_01_00022352.jpg\n",
      "dict saving\n",
      "shelve saving\n",
      "2023-05-24 12:35:31.141646 Process end :0:00:09.542638\n",
      "41枚目の画像を処理中です。画像名は2022_0615_HD11_01_00022353.jpg\n",
      "dict saving\n",
      "shelve saving\n",
      "2023-05-24 12:35:40.768233 Process end :0:00:09.626531\n",
      "42枚目の画像を処理中です。画像名は2022_0615_HD11_01_00022354.jpg\n",
      "dict saving\n",
      "shelve saving\n",
      "2023-05-24 12:35:50.325972 Process end :0:00:09.557683\n",
      "43枚目の画像を処理中です。画像名は2022_0615_HD11_01_00022355.jpg\n",
      "dict saving\n",
      "shelve saving\n",
      "2023-05-24 12:35:59.854908 Process end :0:00:09.528881\n",
      "44枚目の画像を処理中です。画像名は2022_0615_HD11_01_00022356.jpg\n",
      "dict saving\n",
      "shelve saving\n",
      "2023-05-24 12:36:09.432495 Process end :0:00:09.577532\n",
      "45枚目の画像を処理中です。画像名は2022_0615_HD11_01_00022357.jpg\n",
      "dict saving\n",
      "shelve saving\n",
      "2023-05-24 12:36:18.939764 Process end :0:00:09.507214\n",
      "46枚目の画像を処理中です。画像名は2022_0615_HD11_01_00022358.jpg\n",
      "dict saving\n",
      "shelve saving\n",
      "2023-05-24 12:36:28.491209 Process end :0:00:09.551389\n",
      "47枚目の画像を処理中です。画像名は2022_0615_HD11_01_00022359.jpg\n",
      "dict saving\n",
      "shelve saving\n",
      "2023-05-24 12:36:37.998346 Process end :0:00:09.507081\n",
      "48枚目の画像を処理中です。画像名は2022_0615_HD11_01_00022360.jpg\n",
      "dict saving\n",
      "shelve saving\n",
      "2023-05-24 12:36:47.530118 Process end :0:00:09.531720\n",
      "49枚目の画像を処理中です。画像名は2022_0615_HD11_01_00022361.jpg\n",
      "dict saving\n",
      "shelve saving\n",
      "2023-05-24 12:36:57.074113 Process end :0:00:09.543899\n",
      "50枚目の画像を処理中です。画像名は2022_0615_HD11_01_00022362.jpg\n",
      "dict saving\n",
      "shelve saving\n",
      "2023-05-24 12:37:06.614869 Process end :0:00:09.540663\n",
      "51枚目の画像を処理中です。画像名は2022_0615_HD11_01_00022363.jpg\n",
      "dict saving\n",
      "shelve saving\n",
      "2023-05-24 12:37:16.160736 Process end :0:00:09.545812\n",
      "52枚目の画像を処理中です。画像名は2022_0615_HD11_01_00022364.jpg\n",
      "dict saving\n",
      "shelve saving\n",
      "2023-05-24 12:37:25.686408 Process end :0:00:09.525616\n",
      "53枚目の画像を処理中です。画像名は2022_0615_HD11_01_00022365.jpg\n",
      "dict saving\n",
      "shelve saving\n",
      "2023-05-24 12:37:35.233181 Process end :0:00:09.546720\n",
      "54枚目の画像を処理中です。画像名は2022_0615_HD11_01_00022366.jpg\n",
      "dict saving\n",
      "shelve saving\n",
      "2023-05-24 12:37:44.805630 Process end :0:00:09.572391\n",
      "55枚目の画像を処理中です。画像名は2022_0615_HD11_01_00022367.jpg\n",
      "dict saving\n",
      "shelve saving\n",
      "2023-05-24 12:37:54.383773 Process end :0:00:09.578089\n",
      "56枚目の画像を処理中です。画像名は2022_0615_HD11_01_00022368.jpg\n",
      "dict saving\n",
      "shelve saving\n",
      "2023-05-24 12:38:03.968884 Process end :0:00:09.585058\n",
      "57枚目の画像を処理中です。画像名は2022_0615_HD11_01_00022369.jpg\n",
      "dict saving\n",
      "shelve saving\n",
      "2023-05-24 12:38:13.545502 Process end :0:00:09.576564\n",
      "58枚目の画像を処理中です。画像名は2022_0615_HD11_01_00022370.jpg\n",
      "dict saving\n",
      "shelve saving\n",
      "2023-05-24 12:38:23.133755 Process end :0:00:09.588198\n",
      "59枚目の画像を処理中です。画像名は2022_0615_HD11_01_00022371.jpg\n",
      "dict saving\n",
      "shelve saving\n",
      "2023-05-24 12:38:32.886497 Process end :0:00:09.752689\n",
      "60枚目の画像を処理中です。画像名は2022_0615_HD11_01_00022372.jpg\n",
      "dict saving\n",
      "shelve saving\n",
      "2023-05-24 12:38:42.580764 Process end :0:00:09.694212\n",
      "61枚目の画像を処理中です。画像名は2022_0615_HD11_01_00022373.jpg\n",
      "dict saving\n",
      "shelve saving\n",
      "2023-05-24 12:38:52.091987 Process end :0:00:09.511167\n",
      "62枚目の画像を処理中です。画像名は2022_0615_HD11_01_00022374.jpg\n",
      "dict saving\n",
      "shelve saving\n",
      "2023-05-24 12:39:01.601597 Process end :0:00:09.509557\n",
      "63枚目の画像を処理中です。画像名は2022_0615_HD11_01_00022375.jpg\n",
      "dict saving\n",
      "shelve saving\n",
      "2023-05-24 12:39:09.493021 Process end :0:00:07.891367\n",
      "64枚目の画像を処理中です。画像名は2022_0615_HD11_01_00022376.jpg\n",
      "dict saving\n",
      "shelve saving\n",
      "2023-05-24 12:39:15.079504 Process end :0:00:05.586429\n",
      "65枚目の画像を処理中です。画像名は2022_0615_HD11_01_00022377.jpg\n",
      "dict saving\n",
      "shelve saving\n",
      "2023-05-24 12:39:22.001289 Process end :0:00:06.921730\n",
      "66枚目の画像を処理中です。画像名は2022_0615_HD11_01_00022378.jpg\n",
      "dict saving\n",
      "shelve saving\n",
      "2023-05-24 12:39:30.064364 Process end :0:00:08.063019\n",
      "67枚目の画像を処理中です。画像名は2022_0615_HD11_01_00022379.jpg\n",
      "dict saving\n",
      "shelve saving\n",
      "2023-05-24 12:39:41.519236 Process end :0:00:11.454817\n",
      "68枚目の画像を処理中です。画像名は2022_0615_HD11_01_00022380.jpg\n",
      "dict saving\n",
      "shelve saving\n",
      "2023-05-24 12:39:54.573549 Process end :0:00:13.054258\n",
      "69枚目の画像を処理中です。画像名は2022_0615_HD11_01_00022381.jpg\n",
      "dict saving\n",
      "shelve saving\n",
      "2023-05-24 12:40:08.197032 Process end :0:00:13.623430\n",
      "70枚目の画像を処理中です。画像名は2022_0615_HD11_01_00022382.jpg\n",
      "dict saving\n",
      "shelve saving\n",
      "2023-05-24 12:40:24.828546 Process end :0:00:16.631458\n",
      "71枚目の画像を処理中です。画像名は2022_0615_HD11_01_00022383.jpg\n",
      "dict saving\n",
      "shelve saving\n",
      "2023-05-24 12:40:42.024650 Process end :0:00:17.196046\n",
      "72枚目の画像を処理中です。画像名は2022_0615_HD11_01_00022384.jpg\n",
      "dict saving\n",
      "shelve saving\n",
      "2023-05-24 12:40:58.962804 Process end :0:00:16.938099\n",
      "73枚目の画像を処理中です。画像名は2022_0615_HD11_01_00022385.jpg\n",
      "dict saving\n",
      "shelve saving\n",
      "2023-05-24 12:41:15.652131 Process end :0:00:16.689270\n",
      "74枚目の画像を処理中です。画像名は2022_0615_HD11_01_00022386.jpg\n",
      "dict saving\n",
      "shelve saving\n",
      "2023-05-24 12:41:32.404648 Process end :0:00:16.752455\n",
      "75枚目の画像を処理中です。画像名は2022_0615_HD11_01_00022387.jpg\n",
      "dict saving\n",
      "shelve saving\n",
      "2023-05-24 12:41:54.016275 Process end :0:00:21.611571\n",
      "76枚目の画像を処理中です。画像名は2022_0615_HD11_01_00022388.jpg\n",
      "dict saving\n",
      "shelve saving\n",
      "2023-05-24 12:42:17.018286 Process end :0:00:23.001952\n",
      "77枚目の画像を処理中です。画像名は2022_0615_HD11_01_00022389.jpg\n",
      "dict saving\n",
      "shelve saving\n",
      "2023-05-24 12:42:40.231322 Process end :0:00:23.212980\n",
      "78枚目の画像を処理中です。画像名は2022_0615_HD11_01_00022390.jpg\n",
      "dict saving\n",
      "shelve saving\n",
      "2023-05-24 12:43:04.744119 Process end :0:00:24.512739\n",
      "79枚目の画像を処理中です。画像名は2022_0615_HD11_01_00022391.jpg\n",
      "dict saving\n",
      "shelve saving\n",
      "2023-05-24 12:43:28.053288 Process end :0:00:23.309111\n",
      "80枚目の画像を処理中です。画像名は2022_0615_HD11_01_00022392.jpg\n",
      "dict saving\n",
      "shelve saving\n",
      "2023-05-24 12:43:50.759286 Process end :0:00:22.705939\n",
      "81枚目の画像を処理中です。画像名は2022_0615_HD11_01_00022393.jpg\n",
      "dict saving\n",
      "shelve saving\n",
      "2023-05-24 12:44:12.966254 Process end :0:00:22.206913\n",
      "82枚目の画像を処理中です。画像名は2022_0615_HD11_01_00022394.jpg\n",
      "dict saving\n",
      "shelve saving\n",
      "2023-05-24 12:44:32.822086 Process end :0:00:19.855777\n",
      "83枚目の画像を処理中です。画像名は2022_0615_HD11_01_00022395.jpg\n",
      "dict saving\n",
      "shelve saving\n",
      "2023-05-24 12:44:54.350881 Process end :0:00:21.528733\n",
      "84枚目の画像を処理中です。画像名は2022_0615_HD11_01_00022396.jpg\n",
      "dict saving\n",
      "shelve saving\n",
      "2023-05-24 12:45:14.150292 Process end :0:00:19.799357\n",
      "85枚目の画像を処理中です。画像名は2022_0615_HD11_01_00022397.jpg\n",
      "dict saving\n",
      "shelve saving\n",
      "2023-05-24 12:45:32.832102 Process end :0:00:18.681756\n",
      "86枚目の画像を処理中です。画像名は2022_0615_HD11_01_00022398.jpg\n",
      "dict saving\n",
      "shelve saving\n",
      "2023-05-24 12:45:49.659505 Process end :0:00:16.827350\n",
      "87枚目の画像を処理中です。画像名は2022_0615_HD11_01_00022399.jpg\n",
      "dict saving\n",
      "shelve saving\n",
      "2023-05-24 12:46:09.077215 Process end :0:00:19.417655\n",
      "88枚目の画像を処理中です。画像名は2022_0615_HD11_01_00022400.jpg\n",
      "dict saving\n",
      "shelve saving\n",
      "2023-05-24 12:46:27.232108 Process end :0:00:18.154837\n",
      "89枚目の画像を処理中です。画像名は2022_0615_HD11_01_00022401.jpg\n",
      "dict saving\n",
      "shelve saving\n",
      "2023-05-24 12:46:48.942444 Process end :0:00:21.710279\n",
      "90枚目の画像を処理中です。画像名は2022_0615_HD11_01_00022402.jpg\n",
      "dict saving\n",
      "shelve saving\n",
      "2023-05-24 12:47:11.071110 Process end :0:00:22.128610\n",
      "91枚目の画像を処理中です。画像名は2022_0615_HD11_01_00022403.jpg\n",
      "dict saving\n",
      "shelve saving\n",
      "2023-05-24 12:47:32.836583 Process end :0:00:21.765419\n",
      "92枚目の画像を処理中です。画像名は2022_0615_HD11_01_00022404.jpg\n",
      "dict saving\n",
      "shelve saving\n",
      "2023-05-24 12:47:52.193776 Process end :0:00:19.357137\n",
      "93枚目の画像を処理中です。画像名は2022_0615_HD11_01_00022405.jpg\n"
     ]
    },
    {
     "name": "stderr",
     "output_type": "stream",
     "text": [
      "/home/ec2-user/anaconda3/envs/python3/lib/python3.10/site-packages/numpy/core/_methods.py:163: VisibleDeprecationWarning: Creating an ndarray from ragged nested sequences (which is a list-or-tuple of lists-or-tuples-or ndarrays with different lengths or shapes) is deprecated. If you meant to do this, you must specify 'dtype=object' when creating the ndarray.\n",
      "  arr = asanyarray(a)\n"
     ]
    },
    {
     "ename": "ValueError",
     "evalue": "operands could not be broadcast together with shapes (15,) (0,) ",
     "output_type": "error",
     "traceback": [
      "\u001b[0;31m---------------------------------------------------------------------------\u001b[0m",
      "\u001b[0;31mValueError\u001b[0m                                Traceback (most recent call last)",
      "Cell \u001b[0;32mIn[4], line 40\u001b[0m\n\u001b[1;32m     37\u001b[0m     pixel_instance_1\u001b[38;5;241m.\u001b[39mset_init_val(file_idx, xin, auto_edge)\n\u001b[1;32m     39\u001b[0m \u001b[38;5;66;03m# x座標(ix)ごとにトロリ線検出\u001b[39;00m\n\u001b[0;32m---> 40\u001b[0m \u001b[43mpixel_instance_1\u001b[49m\u001b[38;5;241;43m.\u001b[39;49m\u001b[43minfer_trolley_edge\u001b[49m\u001b[43m(\u001b[49m\u001b[43mimage_path\u001b[49m\u001b[43m,\u001b[49m\u001b[43mpixel_instance_2\u001b[49m\u001b[43m,\u001b[49m\u001b[43mpixel_instance_3\u001b[49m\u001b[43m)\u001b[49m\n\u001b[1;32m     42\u001b[0m \u001b[38;5;66;03m# 結果を辞書に書き込む\u001b[39;00m\n\u001b[1;32m     43\u001b[0m \u001b[38;5;66;03m# config.result_keysで指定した要素だけ辞書に書き込む\u001b[39;00m\n\u001b[1;32m     44\u001b[0m \u001b[38;5;28mprint\u001b[39m(\u001b[38;5;124m'\u001b[39m\u001b[38;5;124mdict saving\u001b[39m\u001b[38;5;124m'\u001b[39m)\n",
      "File \u001b[0;32m~/SageMaker/AmazonSageMaker-trolley-monitor-onSOW/src/similar_pixel.py:752\u001b[0m, in \u001b[0;36mpixel.infer_trolley_edge\u001b[0;34m(self, image_path, trolley2, trolley3)\u001b[0m\n\u001b[1;32m    749\u001b[0m \u001b[38;5;28mself\u001b[39m\u001b[38;5;241m.\u001b[39msearch_second_trolley(trolley3, ix)\n\u001b[1;32m    751\u001b[0m trolley2\u001b[38;5;241m.\u001b[39msearch_trolley(ix)\n\u001b[0;32m--> 752\u001b[0m \u001b[43mtrolley3\u001b[49m\u001b[38;5;241;43m.\u001b[39;49m\u001b[43msearch_trolley\u001b[49m\u001b[43m(\u001b[49m\u001b[43mix\u001b[49m\u001b[43m)\u001b[49m\n\u001b[1;32m    754\u001b[0m \u001b[38;5;66;03m# 検出結果を更新する\u001b[39;00m\n\u001b[1;32m    755\u001b[0m \u001b[38;5;28mself\u001b[39m\u001b[38;5;241m.\u001b[39mupdate_result_dic(ix)\n",
      "File \u001b[0;32m~/SageMaker/AmazonSageMaker-trolley-monitor-onSOW/src/similar_pixel.py:335\u001b[0m, in \u001b[0;36mpixel.search_trolley\u001b[0;34m(self, ix)\u001b[0m\n\u001b[1;32m    333\u001b[0m     \u001b[38;5;28mself\u001b[39m\u001b[38;5;241m.\u001b[39medge_std_list_u\u001b[38;5;241m.\u001b[39mappend(im_slice[upper\u001b[38;5;241m-\u001b[39m\u001b[38;5;241m7\u001b[39m:upper\u001b[38;5;241m+\u001b[39m\u001b[38;5;241m8\u001b[39m])\n\u001b[1;32m    334\u001b[0m     \u001b[38;5;28mself\u001b[39m\u001b[38;5;241m.\u001b[39medge_std_list_l\u001b[38;5;241m.\u001b[39mappend(im_slice[lower\u001b[38;5;241m-\u001b[39m\u001b[38;5;241m7\u001b[39m:lower\u001b[38;5;241m+\u001b[39m\u001b[38;5;241m8\u001b[39m])\n\u001b[0;32m--> 335\u001b[0m \u001b[38;5;28mself\u001b[39m\u001b[38;5;241m.\u001b[39medge_std_u \u001b[38;5;241m=\u001b[39m \u001b[43mnp\u001b[49m\u001b[38;5;241;43m.\u001b[39;49m\u001b[43mmean\u001b[49m\u001b[43m(\u001b[49m\u001b[38;5;28;43mself\u001b[39;49m\u001b[38;5;241;43m.\u001b[39;49m\u001b[43medge_std_list_u\u001b[49m\u001b[43m,\u001b[49m\u001b[43m \u001b[49m\u001b[43maxis\u001b[49m\u001b[38;5;241;43m=\u001b[39;49m\u001b[38;5;241;43m0\u001b[39;49m\u001b[43m)\u001b[49m\u001b[38;5;241m.\u001b[39mastype(np\u001b[38;5;241m.\u001b[39mint16)\n\u001b[1;32m    336\u001b[0m \u001b[38;5;28mself\u001b[39m\u001b[38;5;241m.\u001b[39medge_std_l \u001b[38;5;241m=\u001b[39m np\u001b[38;5;241m.\u001b[39mmean(\u001b[38;5;28mself\u001b[39m\u001b[38;5;241m.\u001b[39medge_std_list_l, axis\u001b[38;5;241m=\u001b[39m\u001b[38;5;241m0\u001b[39m)\u001b[38;5;241m.\u001b[39mastype(np\u001b[38;5;241m.\u001b[39mint16)\n\u001b[1;32m    338\u001b[0m \u001b[38;5;66;03m# 前回値から上下5ピクセルがサーチ範囲\u001b[39;00m\n",
      "File \u001b[0;32m<__array_function__ internals>:180\u001b[0m, in \u001b[0;36mmean\u001b[0;34m(*args, **kwargs)\u001b[0m\n",
      "File \u001b[0;32m~/anaconda3/envs/python3/lib/python3.10/site-packages/numpy/core/fromnumeric.py:3474\u001b[0m, in \u001b[0;36mmean\u001b[0;34m(a, axis, dtype, out, keepdims, where)\u001b[0m\n\u001b[1;32m   3471\u001b[0m     \u001b[38;5;28;01melse\u001b[39;00m:\n\u001b[1;32m   3472\u001b[0m         \u001b[38;5;28;01mreturn\u001b[39;00m mean(axis\u001b[38;5;241m=\u001b[39maxis, dtype\u001b[38;5;241m=\u001b[39mdtype, out\u001b[38;5;241m=\u001b[39mout, \u001b[38;5;241m*\u001b[39m\u001b[38;5;241m*\u001b[39mkwargs)\n\u001b[0;32m-> 3474\u001b[0m \u001b[38;5;28;01mreturn\u001b[39;00m \u001b[43m_methods\u001b[49m\u001b[38;5;241;43m.\u001b[39;49m\u001b[43m_mean\u001b[49m\u001b[43m(\u001b[49m\u001b[43ma\u001b[49m\u001b[43m,\u001b[49m\u001b[43m \u001b[49m\u001b[43maxis\u001b[49m\u001b[38;5;241;43m=\u001b[39;49m\u001b[43maxis\u001b[49m\u001b[43m,\u001b[49m\u001b[43m \u001b[49m\u001b[43mdtype\u001b[49m\u001b[38;5;241;43m=\u001b[39;49m\u001b[43mdtype\u001b[49m\u001b[43m,\u001b[49m\n\u001b[1;32m   3475\u001b[0m \u001b[43m                      \u001b[49m\u001b[43mout\u001b[49m\u001b[38;5;241;43m=\u001b[39;49m\u001b[43mout\u001b[49m\u001b[43m,\u001b[49m\u001b[43m \u001b[49m\u001b[38;5;241;43m*\u001b[39;49m\u001b[38;5;241;43m*\u001b[39;49m\u001b[43mkwargs\u001b[49m\u001b[43m)\u001b[49m\n",
      "File \u001b[0;32m~/anaconda3/envs/python3/lib/python3.10/site-packages/numpy/core/_methods.py:179\u001b[0m, in \u001b[0;36m_mean\u001b[0;34m(a, axis, dtype, out, keepdims, where)\u001b[0m\n\u001b[1;32m    176\u001b[0m         dtype \u001b[38;5;241m=\u001b[39m mu\u001b[38;5;241m.\u001b[39mdtype(\u001b[38;5;124m'\u001b[39m\u001b[38;5;124mf4\u001b[39m\u001b[38;5;124m'\u001b[39m)\n\u001b[1;32m    177\u001b[0m         is_float16_result \u001b[38;5;241m=\u001b[39m \u001b[38;5;28;01mTrue\u001b[39;00m\n\u001b[0;32m--> 179\u001b[0m ret \u001b[38;5;241m=\u001b[39m \u001b[43mumr_sum\u001b[49m\u001b[43m(\u001b[49m\u001b[43marr\u001b[49m\u001b[43m,\u001b[49m\u001b[43m \u001b[49m\u001b[43maxis\u001b[49m\u001b[43m,\u001b[49m\u001b[43m \u001b[49m\u001b[43mdtype\u001b[49m\u001b[43m,\u001b[49m\u001b[43m \u001b[49m\u001b[43mout\u001b[49m\u001b[43m,\u001b[49m\u001b[43m \u001b[49m\u001b[43mkeepdims\u001b[49m\u001b[43m,\u001b[49m\u001b[43m \u001b[49m\u001b[43mwhere\u001b[49m\u001b[38;5;241;43m=\u001b[39;49m\u001b[43mwhere\u001b[49m\u001b[43m)\u001b[49m\n\u001b[1;32m    180\u001b[0m \u001b[38;5;28;01mif\u001b[39;00m \u001b[38;5;28misinstance\u001b[39m(ret, mu\u001b[38;5;241m.\u001b[39mndarray):\n\u001b[1;32m    181\u001b[0m     ret \u001b[38;5;241m=\u001b[39m um\u001b[38;5;241m.\u001b[39mtrue_divide(\n\u001b[1;32m    182\u001b[0m             ret, rcount, out\u001b[38;5;241m=\u001b[39mret, casting\u001b[38;5;241m=\u001b[39m\u001b[38;5;124m'\u001b[39m\u001b[38;5;124munsafe\u001b[39m\u001b[38;5;124m'\u001b[39m, subok\u001b[38;5;241m=\u001b[39m\u001b[38;5;28;01mFalse\u001b[39;00m)\n",
      "\u001b[0;31mValueError\u001b[0m: operands could not be broadcast together with shapes (15,) (0,) "
     ]
    }
   ],
   "source": [
    "# 画像を連続で解析\n",
    "start_num = 0\n",
    "test_num = 162\n",
    "\n",
    "for file_idx in range(start_num, start_num + test_num):\n",
    "    dt01 = datetime.datetime.now()\n",
    "    \n",
    "    image_path = base_images[file_idx]\n",
    "    image_name = image_path.split('/')[-1]\n",
    "    \n",
    "    with shelve.open(rail_fpath, writeback=True) as rail:\n",
    "        trolley_dict = copy.deepcopy(rail[camera_num][image_path])\n",
    "        for trolley_id in config.trolley_ids:\n",
    "            if trolley_id not in trolley_dict.keys():\n",
    "                trolley_dict = {trolley_id: {}}\n",
    "    \n",
    "    # track_pixel for文の中\n",
    "    pixel_instance_1.reload_image_init()\n",
    "    pixel_instance_2.reload_image_init()\n",
    "    pixel_instance_3.reload_image_init()\n",
    "\n",
    "    # tryの部分\n",
    "    print(f'{file_idx}枚目の画像を処理中です。画像名は{image_name}')\n",
    "    # 画像を読み込む\n",
    "    pixel_instance_1.load_picture(image_path)\n",
    "    pixel_instance_2.load_picture(image_path)\n",
    "    pixel_instance_3.load_picture(image_path)\n",
    "\n",
    "    # 初期位置の設定 一番最初の画像でだけ実行する\n",
    "    if file_idx == start_num:\n",
    "        xin = 982    # 1枚目\n",
    "        # xin = 1130    # 11枚目\n",
    "        pixel_instance_1.search_trolley_init(0)    # 左端で検索するため0\n",
    "        if not pixel_instance_1.search_trolley_init:\n",
    "            auto_edge = True\n",
    "        print(f'search_list:{pixel_instance_1.search_list}')\n",
    "        pixel_instance_1.set_init_val(file_idx, xin, auto_edge)\n",
    "\n",
    "    # x座標(ix)ごとにトロリ線検出\n",
    "    pixel_instance_1.infer_trolley_edge(image_path,pixel_instance_2,pixel_instance_3)\n",
    "\n",
    "    # 結果を辞書に書き込む\n",
    "    # config.result_keysで指定した要素だけ辞書に書き込む\n",
    "    print('dict saving')\n",
    "    trolley_dict = {\n",
    "        trolley_id: {key: value for key, value in vars(instance).items() if key in config.result_keys}\n",
    "        for trolley_id, instance in zip(config.trolley_ids, [pixel_instance_1, pixel_instance_2, pixel_instance_3])\n",
    "    }\n",
    "\n",
    "    # 結果をshelveに書き込む\n",
    "    print(\"shelve saving\")\n",
    "    with shelve.open(rail_fpath, writeback=True) as rail:\n",
    "        rail_dict = copy.deepcopy(rail[camera_num][image_path])\n",
    "        rail_dict = trolley_dict\n",
    "        rail[camera_num][image_path] = rail_dict\n",
    "        \n",
    "    dt02 = datetime.datetime.now()\n",
    "    prc_time = dt02 - dt01\n",
    "    print(str(datetime.datetime.now()) + f' Process end :{prc_time}')\n",
    "\n",
    "# print(\"rail closing\")\n",
    "# rail.close()\n",
    "# print(\"rail closed\")\n",
    "print(\"finish\")"
   ]
  },
  {
   "cell_type": "code",
   "execution_count": null,
   "id": "6c62d6a9-b76c-4ffa-a78f-ab4df4f48aa9",
   "metadata": {
    "tags": []
   },
   "outputs": [],
   "source": [
    "rail_dict.keys()"
   ]
  },
  {
   "cell_type": "code",
   "execution_count": null,
   "id": "b469ee7c-ee6e-45ca-9dd3-47cb19c17f2e",
   "metadata": {},
   "outputs": [],
   "source": []
  },
  {
   "cell_type": "code",
   "execution_count": null,
   "id": "157ea818-de94-48d9-b9fa-2cb30d1b584c",
   "metadata": {},
   "outputs": [],
   "source": []
  },
  {
   "cell_type": "code",
   "execution_count": null,
   "id": "ffb0a18e-7d94-4425-b5b0-20c3b06f33f9",
   "metadata": {
    "tags": []
   },
   "outputs": [],
   "source": [
    "idx = 0\n",
    "image_path = base_images[idx]\n",
    "\n",
    "# track_pixel for文の中\n",
    "pixel_instance_1.reload_image_init()\n",
    "pixel_instance_2.reload_image_init()\n",
    "pixel_instance_3.reload_image_init()\n",
    "\n",
    "# tryの部分\n",
    "print(f'{idx}>>> {image_path}')\n",
    "# 画像を読み込む\n",
    "pixel_instance_1.load_picture(image_path)\n",
    "pixel_instance_2.load_picture(image_path)\n",
    "pixel_instance_3.load_picture(image_path)"
   ]
  },
  {
   "cell_type": "code",
   "execution_count": null,
   "id": "29d3af9c-d957-4b8d-a5a0-facf8a132b93",
   "metadata": {
    "tags": []
   },
   "outputs": [],
   "source": [
    "# 初期位置の設定 一番最初の画像でだけ実行する\n",
    "xin = 982\n",
    "pixel_instance_1.search_trolley_init(0)    # 左端で検索するため0\n",
    "if not pixel_instance_1.search_trolley_init:\n",
    "    auto_edge = True\n",
    "print(f'search_list:{pixel_instance_1.search_list}')\n",
    "pixel_instance_1.set_init_val(idx, xin, auto_edge)"
   ]
  },
  {
   "cell_type": "code",
   "execution_count": null,
   "id": "d193cfa7-fb42-4af5-8e15-7e571b3dd9fc",
   "metadata": {
    "tags": []
   },
   "outputs": [],
   "source": [
    "# x座標(ix)ごとにトロリ線検出\n",
    "pixel_instance_1.infer_trolley_edge(image_path,pixel_instance_2,pixel_instance_3)"
   ]
  },
  {
   "cell_type": "markdown",
   "id": "1757fc31-3262-4a25-9bcc-1b1e78d1eb0a",
   "metadata": {
    "jp-MarkdownHeadingCollapsed": true,
    "tags": []
   },
   "source": [
    "# 検証中　ここから"
   ]
  },
  {
   "cell_type": "markdown",
   "id": "9b6915b5-7c2b-4bc6-a351-805a9520081a",
   "metadata": {},
   "source": [
    "## 1枚目の画像"
   ]
  },
  {
   "cell_type": "code",
   "execution_count": null,
   "id": "3cb0d00f-d0a6-4737-adf1-9d40dca08e1f",
   "metadata": {
    "tags": []
   },
   "outputs": [],
   "source": [
    "import copy\n",
    "\n",
    "test_dict1 = {\n",
    "# results_dict = {\n",
    "    trolley_id: copy.deepcopy(result)\n",
    "    for trolley_id, result in zip(config.trolley_ids, [\n",
    "        vars(pixel_instance_1),\n",
    "        vars(pixel_instance_2),\n",
    "        vars(pixel_instance_3)\n",
    "    ])\n",
    "}\n",
    "\n",
    "plt.plot(\n",
    "    test_dict1['trolley1']['ix'],\n",
    "    test_dict1['trolley1']['estimated_upper_edge']\n",
    ")\n",
    "plt.show()"
   ]
  },
  {
   "cell_type": "markdown",
   "id": "6be5f9f8-36ce-4018-8602-bf55e238fbe6",
   "metadata": {},
   "source": [
    "## 2枚目の画像"
   ]
  },
  {
   "cell_type": "code",
   "execution_count": null,
   "id": "bb40ed41-7d00-4421-9261-6b54245e3867",
   "metadata": {
    "tags": []
   },
   "outputs": [],
   "source": [
    "# 次の画像で解析\n",
    "idx = 1\n",
    "image_path = base_images[idx]\n",
    "pixel_instance_1.reload_image_init()\n",
    "pixel_instance_2.reload_image_init()\n",
    "pixel_instance_3.reload_image_init()\n",
    "\n",
    "print(f'{idx}>>> {image_path}')\n",
    "pixel_instance_1.load_picture(image_path)\n",
    "pixel_instance_2.load_picture(image_path)\n",
    "pixel_instance_3.load_picture(image_path)\n",
    "\n",
    "# x座標(ix)ごとにトロリ線検出\n",
    "pixel_instance_1.infer_trolley_edge(image_path, pixel_instance_2, pixel_instance_3)"
   ]
  },
  {
   "cell_type": "code",
   "execution_count": null,
   "id": "c044fe9f-e5cd-40ef-957a-af0cc72cfaec",
   "metadata": {
    "tags": []
   },
   "outputs": [],
   "source": [
    "test_dict2 = {\n",
    "# results_dict = {\n",
    "    trolley_id: copy.deepcopy(result)\n",
    "    for trolley_id, result in zip(config.trolley_ids, [\n",
    "        vars(pixel_instance_1),\n",
    "        vars(pixel_instance_2),\n",
    "        vars(pixel_instance_3)\n",
    "    ])\n",
    "}\n",
    "plt.plot(\n",
    "    test_dict2['trolley1']['ix'],\n",
    "    test_dict2['trolley1']['estimated_upper_edge']\n",
    ")\n",
    "plt.show()"
   ]
  },
  {
   "cell_type": "code",
   "execution_count": null,
   "id": "64d3cc4c-71ba-4151-96db-968208f2432c",
   "metadata": {
    "tags": []
   },
   "outputs": [],
   "source": [
    "# 1枚目の画像の結果を再表示する（変化していないかをチェック）\n",
    "plt.plot(\n",
    "    test_dict1['trolley1']['ix'],\n",
    "    test_dict1['trolley1']['estimated_upper_edge']\n",
    ")"
   ]
  },
  {
   "cell_type": "markdown",
   "id": "11e4b9ba-d319-4265-817b-701868088924",
   "metadata": {},
   "source": [
    "## 3枚目の画像"
   ]
  },
  {
   "cell_type": "code",
   "execution_count": null,
   "id": "e136f605-d938-4d4f-9d17-8a9a2dd766d4",
   "metadata": {
    "tags": []
   },
   "outputs": [],
   "source": [
    "# 次の画像で解析\n",
    "idx = 2\n",
    "image_path = base_images[idx]\n",
    "pixel_instance_1.reload_image_init()\n",
    "pixel_instance_2.reload_image_init()\n",
    "pixel_instance_3.reload_image_init()\n",
    "\n",
    "print(f'{idx}>>> {image_path}')\n",
    "pixel_instance_1.load_picture(image_path)\n",
    "pixel_instance_2.load_picture(image_path)\n",
    "pixel_instance_3.load_picture(image_path)\n",
    "\n",
    "# x座標(ix)ごとにトロリ線検出\n",
    "pixel_instance_1.infer_trolley_edge(image_path, pixel_instance_2, pixel_instance_3)"
   ]
  },
  {
   "cell_type": "code",
   "execution_count": null,
   "id": "078f7985-7fe7-46fe-9ca8-9f86dfbc46f2",
   "metadata": {
    "tags": []
   },
   "outputs": [],
   "source": [
    "test_dict3 = {\n",
    "# results_dict = {\n",
    "    trolley_id: copy.deepcopy(result)\n",
    "    for trolley_id, result in zip(config.trolley_ids, [\n",
    "        vars(pixel_instance_1),\n",
    "        vars(pixel_instance_2),\n",
    "        vars(pixel_instance_3)\n",
    "    ])\n",
    "}\n",
    "plt.plot(\n",
    "    test_dict3['trolley1']['ix'],\n",
    "    test_dict3['trolley1']['estimated_upper_edge']\n",
    ")\n",
    "plt.show()"
   ]
  },
  {
   "cell_type": "code",
   "execution_count": null,
   "id": "2626f254-4dc5-4ff5-bcb4-9e4ec647660a",
   "metadata": {
    "tags": []
   },
   "outputs": [],
   "source": [
    "# 1枚目の画像の結果を再表示する（変化していないかをチェック）\n",
    "plt.plot(\n",
    "    test_dict1['trolley1']['ix'],\n",
    "    test_dict1['trolley1']['estimated_upper_edge']\n",
    ")"
   ]
  },
  {
   "cell_type": "markdown",
   "id": "d5750430-3b88-4f6d-b52a-7267424d312b",
   "metadata": {},
   "source": [
    "## 1～3枚目の画像の解析結果を並べてグラフ化する"
   ]
  },
  {
   "cell_type": "code",
   "execution_count": null,
   "id": "a7a936ea-40dc-4c1c-937b-e67a397fde86",
   "metadata": {
    "tags": []
   },
   "outputs": [],
   "source": [
    "plt.plot(\n",
    "    test_dict1['trolley1']['ix'],\n",
    "    test_dict1['trolley1']['estimated_upper_edge']\n",
    ")\n",
    "plt.plot(\n",
    "    [n + 1000 for n in test_dict2['trolley1']['ix']],\n",
    "    test_dict2['trolley1']['estimated_upper_edge']\n",
    ")\n",
    "plt.plot(\n",
    "    [n + 2000 for n in test_dict3['trolley1']['ix']],\n",
    "    test_dict3['trolley1']['estimated_upper_edge']\n",
    ")\n",
    "plt.show()"
   ]
  },
  {
   "cell_type": "code",
   "execution_count": null,
   "id": "49565615-be89-4f62-8f0d-267610bd4cd6",
   "metadata": {
    "tags": []
   },
   "outputs": [],
   "source": [
    "# shleveファイルを閉じる\n",
    "rail.close()"
   ]
  },
  {
   "cell_type": "markdown",
   "id": "69e411d7-b3b2-41c0-b752-be5af1e24559",
   "metadata": {},
   "source": [
    "# 検証中　ここまで"
   ]
  },
  {
   "cell_type": "code",
   "execution_count": null,
   "id": "1bd37a1e-bc0d-4010-b099-446c02fcc606",
   "metadata": {
    "tags": []
   },
   "outputs": [],
   "source": [
    "rail[camera_num][image_path] = {\n",
    "# results_dict = {\n",
    "    trolley_id: copy.deepcopy(result)\n",
    "    for trolley_id, result in zip(config.trolley_ids, [\n",
    "        vars(pixel_instance_1),\n",
    "        vars(pixel_instance_2),\n",
    "        vars(pixel_instance_3)\n",
    "    ])\n",
    "}\n",
    "print(f\"{idx}> camera_num:{camera_num}, image_path:{image_path}\")\n",
    "print(f\"last_state: {rail[camera_num][image_path]['trolley1']['last_state']}\")\n",
    "print(f\"estimated_upper_edge[0]: {rail[camera_num][image_path]['trolley1']['estimated_upper_edge'][0]}\")\n",
    "print(f\"estimated_upper_edge[900]: {rail[camera_num][image_path]['trolley1']['estimated_upper_edge'][900]}\")\n",
    "print(f\"estimated_upper_edge[999]: {rail[camera_num][image_path]['trolley1']['estimated_upper_edge'][999]}\")\n",
    "# print(results_dict['trolley1']['last_state'])\n",
    "# print(results_dict['trolley1']['estimated_upper_edge'][0])\n",
    "# print(results_dict['trolley1']['estimated_upper_edge'][999])"
   ]
  },
  {
   "cell_type": "code",
   "execution_count": null,
   "id": "ec107247-7517-496e-a67c-b0b146d32456",
   "metadata": {
    "tags": []
   },
   "outputs": [],
   "source": [
    "# 次の画像で解析\n",
    "idx = 1\n",
    "image_path = base_images[idx]\n",
    "pixel_instance_1.reload_image_init()\n",
    "pixel_instance_2.reload_image_init()\n",
    "pixel_instance_3.reload_image_init()\n",
    "\n",
    "print(f'{idx}>>> {image_path}')\n",
    "pixel_instance_1.load_picture(image_path)\n",
    "pixel_instance_2.load_picture(image_path)\n",
    "pixel_instance_3.load_picture(image_path)\n",
    "\n",
    "# 前回までの結果を確認\n",
    "print(pixel_instance_1.last_state)\n",
    "print(pixel_instance_1.estimated_upper_edge)\n",
    "print(pixel_instance_1.last_upper_line)\n",
    "print(pixel_instance_1.upper_line)\n",
    "\n",
    "# x座標(ix)ごとにトロリ線検出\n",
    "pixel_instance_1.infer_trolley_edge(\n",
    "    image_path,\n",
    "    pixel_instance_2,\n",
    "    pixel_instance_3\n",
    ")\n",
    "\n"
   ]
  },
  {
   "cell_type": "code",
   "execution_count": null,
   "id": "bde76210-4287-4821-b523-9bd1d05e6c70",
   "metadata": {
    "tags": []
   },
   "outputs": [],
   "source": [
    "rail[camera_num][image_path] = {\n",
    "# results_dict = {\n",
    "    trolley_id: copy.deepcopy(result)\n",
    "    for trolley_id, result in zip(config.trolley_ids, [\n",
    "        vars(pixel_instance_1),\n",
    "        vars(pixel_instance_2),\n",
    "        vars(pixel_instance_3)\n",
    "    ])\n",
    "}\n",
    "print(f\"{idx}> camera_num:{camera_num}, image_path:{image_path}\")\n",
    "print(f\"last_state: {rail[camera_num][image_path]['trolley1']['last_state']}\")\n",
    "print(f\"estimated_upper_edge[0]: {rail[camera_num][image_path]['trolley1']['estimated_upper_edge'][0]}\")\n",
    "print(f\"estimated_upper_edge[900]: {rail[camera_num][image_path]['trolley1']['estimated_upper_edge'][900]}\")\n",
    "print(f\"estimated_upper_edge[999]: {rail[camera_num][image_path]['trolley1']['estimated_upper_edge'][999]}\")\n",
    "# print(results_dict['trolley1']['last_state'])\n",
    "# print(results_dict['trolley1']['estimated_upper_edge'][0])\n",
    "# print(results_dict['trolley1']['estimated_upper_edge'][999])"
   ]
  },
  {
   "cell_type": "code",
   "execution_count": null,
   "id": "5af35d38-6cf4-4eea-81f4-dc755390a621",
   "metadata": {
    "tags": []
   },
   "outputs": [],
   "source": [
    "# 次の画像で解析\n",
    "idx = 2\n",
    "image_path = base_images[idx]\n",
    "pixel_instance_1.reload_image_init()\n",
    "pixel_instance_2.reload_image_init()\n",
    "pixel_instance_3.reload_image_init()\n",
    "\n",
    "print(f'{idx}>>> {image_path}')\n",
    "pixel_instance_1.load_picture(image_path)\n",
    "pixel_instance_2.load_picture(image_path)\n",
    "pixel_instance_3.load_picture(image_path)\n",
    "\n",
    "# 前回までの結果を確認\n",
    "print(pixel_instance_1.last_state)\n",
    "print(pixel_instance_1.estimated_upper_edge)\n",
    "print(pixel_instance_1.last_upper_line)\n",
    "print(pixel_instance_1.upper_line)\n",
    "\n",
    "# x座標(ix)ごとにトロリ線検出\n",
    "pixel_instance_1.infer_trolley_edge(\n",
    "    image_path,\n",
    "    pixel_instance_2,\n",
    "    pixel_instance_3\n",
    ")"
   ]
  },
  {
   "cell_type": "code",
   "execution_count": null,
   "id": "74b4e55b-d509-46ad-862c-31793d70ec2f",
   "metadata": {
    "tags": []
   },
   "outputs": [],
   "source": [
    "rail[camera_num][image_path] = {\n",
    "# results_dict = {\n",
    "    trolley_id: copy.deepcopy(result)\n",
    "    for trolley_id, result in zip(config.trolley_ids, [\n",
    "        vars(pixel_instance_1),\n",
    "        vars(pixel_instance_2),\n",
    "        vars(pixel_instance_3)\n",
    "    ])\n",
    "}\n",
    "print(f\"{idx}> camera_num:{camera_num}, image_path:{image_path}\")\n",
    "print(f\"last_state: {rail[camera_num][image_path]['trolley1']['last_state']}\")\n",
    "print(f\"estimated_upper_edge[0]: {rail[camera_num][image_path]['trolley1']['estimated_upper_edge'][0]}\")\n",
    "print(f\"estimated_upper_edge[900]: {rail[camera_num][image_path]['trolley1']['estimated_upper_edge'][900]}\")\n",
    "print(f\"estimated_upper_edge[999]: {rail[camera_num][image_path]['trolley1']['estimated_upper_edge'][999]}\")\n",
    "# print(results_dict['trolley1']['last_state'])\n",
    "# print(results_dict['trolley1']['estimated_upper_edge'][0])\n",
    "# print(results_dict['trolley1']['estimated_upper_edge'][999])"
   ]
  },
  {
   "cell_type": "code",
   "execution_count": null,
   "id": "66d4ff6e-18de-4920-bfbb-ec36bb1faf4c",
   "metadata": {
    "tags": []
   },
   "outputs": [],
   "source": [
    "rail.close()"
   ]
  },
  {
   "cell_type": "code",
   "execution_count": null,
   "id": "93209ad4-cf2e-4cfd-a624-b42a7ddfd02a",
   "metadata": {},
   "outputs": [],
   "source": []
  },
  {
   "cell_type": "code",
   "execution_count": null,
   "id": "92e7662d-b6cb-4193-9468-500dcdab37dd",
   "metadata": {},
   "outputs": [],
   "source": []
  },
  {
   "cell_type": "code",
   "execution_count": null,
   "id": "b88f08b3-b247-4fab-9778-52895067b934",
   "metadata": {},
   "outputs": [],
   "source": []
  },
  {
   "cell_type": "code",
   "execution_count": null,
   "id": "ecc59fdc-cb50-4517-bf16-f3663ca12019",
   "metadata": {
    "tags": []
   },
   "outputs": [],
   "source": [
    "# railの中身(キー)をチェック\n",
    "rail = shelve.open(outpath + \"/rail.shelve\")\n",
    "keys = rail.keys()\n",
    "for i, key in enumerate(keys):\n",
    "    print(f'{i}: {key}')"
   ]
  },
  {
   "cell_type": "code",
   "execution_count": null,
   "id": "d99b8790-bb89-4803-902e-149d6daa30e5",
   "metadata": {
    "tags": []
   },
   "outputs": [],
   "source": [
    "keys = rail[camera_num][base_images[0]].keys()\n",
    "for i, key in enumerate(keys):\n",
    "    print(f'{i}: {key}')"
   ]
  },
  {
   "cell_type": "code",
   "execution_count": null,
   "id": "2e76a987-2865-4f60-8771-811032026da9",
   "metadata": {
    "tags": []
   },
   "outputs": [],
   "source": [
    "for i in range(3):\n",
    "    print(f\"{i}> {rail[camera_num][base_images[i]]['trolley1']['estimated_upper_edge'][0]}\")"
   ]
  },
  {
   "cell_type": "code",
   "execution_count": null,
   "id": "c8c83ad4-a2de-4612-878e-a10546870b78",
   "metadata": {
    "tags": []
   },
   "outputs": [],
   "source": [
    "for i in range(3):\n",
    "    print(f\"{i}> {len(rail[camera_num][base_images[i]]['trolley1']['estimated_upper_edge'])}\")"
   ]
  },
  {
   "cell_type": "code",
   "execution_count": null,
   "id": "846501d5-d6a9-4081-88a0-e24a717a8ae6",
   "metadata": {
    "tags": []
   },
   "outputs": [],
   "source": [
    "# railの中身を表示\n",
    "for idx in range(3):\n",
    "    image_path = base_images[idx]\n",
    "    print(f\"{idx}> {image_path}\")\n",
    "    print(rail[camera_num][image_path][config.trolley_ids[0]]['estimated_upper_edge'][0])\n",
    "    print(rail[camera_num][image_path][config.trolley_ids[0]]['estimated_upper_edge'][999])\n",
    "    print(rail[camera_num][image_path][config.trolley_ids[0]]['estimated_upper_edge'][999])\n",
    "# image_path = base_images[1]\n",
    "# print(rail[camera_num][image_path][config.trolley_ids[0]]['estimated_upper_edge'][0])\n",
    "# print(rail[camera_num][image_path][config.trolley_ids[0]]['estimated_upper_edge'][999])\n",
    "# image_path = base_images[2]\n",
    "# print(rail[camera_num][image_path][config.trolley_ids[0]]['estimated_upper_edge'][0])\n",
    "# print(rail[camera_num][image_path][config.trolley_ids[0]]['estimated_upper_edge'][999])"
   ]
  },
  {
   "cell_type": "code",
   "execution_count": null,
   "id": "cc1584f1-625a-4908-a9ec-aed668f74268",
   "metadata": {},
   "outputs": [],
   "source": []
  },
  {
   "cell_type": "code",
   "execution_count": null,
   "id": "c05f8e9f-c26d-49c1-817a-27f3a009e235",
   "metadata": {
    "tags": []
   },
   "outputs": [],
   "source": []
  },
  {
   "cell_type": "code",
   "execution_count": null,
   "id": "dae50b73-2901-43d7-a873-1536276c9f7e",
   "metadata": {},
   "outputs": [],
   "source": []
  },
  {
   "cell_type": "code",
   "execution_count": null,
   "id": "84097dc0-cad3-4977-b02b-1b8b5b3a5364",
   "metadata": {},
   "outputs": [],
   "source": [
    "image_path = base_images[1]\n",
    "plt.plot(rail[camera_num][image_path][\"trolley1\"]['estimated_upper_edge'])\n",
    "plt.show()"
   ]
  },
  {
   "cell_type": "code",
   "execution_count": null,
   "id": "009e6aee-f836-4699-8dd9-635e5506e321",
   "metadata": {},
   "outputs": [],
   "source": []
  },
  {
   "cell_type": "code",
   "execution_count": null,
   "id": "18771232-0d35-4c6b-af64-516a04bfb80d",
   "metadata": {
    "tags": []
   },
   "outputs": [],
   "source": [
    "# infer_trolley_edgeをステップごとにチェック\n",
    "pixel_instance_1.mean_brightness()"
   ]
  },
  {
   "cell_type": "code",
   "execution_count": null,
   "id": "d42b7fac-7493-4bec-8abc-00417511e6ae",
   "metadata": {
    "tags": []
   },
   "outputs": [],
   "source": [
    "for i in range(1000):\n",
    "    pixel_instance_1.search_trolley(i)\n",
    "    pixel_instance_1.search_second_trolley(pixel_instance_2, i)\n",
    "    pixel_instance_1.search_second_trolley(pixel_instance_3, i)\n",
    "    pixel_instance_2.search_trolley(i)\n",
    "    pixel_instance_3.search_trolley(i)\n",
    "    \n",
    "    pixel_instance_1.update_result_dic(i)\n",
    "    pixel_instance_2.update_result_dic(2)\n",
    "    pixel_instance_3.update_result_dic(3)\n",
    "    \n",
    "    if i % 100 == 0:\n",
    "        print(f\"{i}> last_state          :{pixel_instance_1.last_state}\")\n",
    "        print(f\"{i}> estimated_upper_edge:{pixel_instance_1.estimated_upper_edge[i]} \")\n",
    "    "
   ]
  },
  {
   "cell_type": "code",
   "execution_count": null,
   "id": "e6e35ce4-39b5-4bb5-a0e4-91c786255323",
   "metadata": {
    "tags": []
   },
   "outputs": [],
   "source": [
    "len(pixel_instance_1.estimated_upper_edge)"
   ]
  },
  {
   "cell_type": "code",
   "execution_count": null,
   "id": "e9bff609-6e9f-4321-8de4-f24d5da290f6",
   "metadata": {
    "tags": []
   },
   "outputs": [],
   "source": [
    "pixel_instance_1.reload_image_init()"
   ]
  },
  {
   "cell_type": "code",
   "execution_count": null,
   "id": "22526457-c0b8-4368-928b-681a76c2055e",
   "metadata": {
    "tags": []
   },
   "outputs": [],
   "source": [
    "len(pixel_instance_1.estimated_upper_edge)"
   ]
  },
  {
   "cell_type": "code",
   "execution_count": null,
   "id": "86834c3d-b73e-4023-a693-706480d37ce2",
   "metadata": {},
   "outputs": [],
   "source": []
  },
  {
   "cell_type": "code",
   "execution_count": null,
   "id": "ae18df77-414f-43b1-bc0f-95bda5682ef3",
   "metadata": {},
   "outputs": [],
   "source": []
  },
  {
   "cell_type": "code",
   "execution_count": null,
   "id": "39efb57f-0c49-408f-8f58-d5bbe986cdac",
   "metadata": {},
   "outputs": [],
   "source": []
  },
  {
   "cell_type": "code",
   "execution_count": null,
   "id": "ec14009b-3bf0-4780-9631-b5ed710dcfad",
   "metadata": {},
   "outputs": [],
   "source": []
  },
  {
   "cell_type": "code",
   "execution_count": null,
   "id": "7b47473d-3657-4bb1-951b-3807ffdab2ff",
   "metadata": {
    "tags": []
   },
   "outputs": [],
   "source": [
    "# x座標(ix)ごとにトロリ線検出\n",
    "pixel_instance_1.infer_trolley_edge(\n",
    "    image_path,\n",
    "    pixel_instance_2,\n",
    "    pixel_instance_3\n",
    ")"
   ]
  },
  {
   "cell_type": "code",
   "execution_count": null,
   "id": "5e8a17a7-2162-4881-a6d0-9554a42f4345",
   "metadata": {
    "tags": []
   },
   "outputs": [],
   "source": [
    "print(pixel_instance_1.last_state)\n",
    "print(pixel_instance_1.estimated_upper_edge[0])\n",
    "print(pixel_instance_1.estimated_upper_edge[999])\n",
    "print(pixel_instance_1.last_upper_line)\n",
    "print(pixel_instance_1.upper_line[0])\n",
    "print(pixel_instance_1.upper_line[999])"
   ]
  },
  {
   "cell_type": "code",
   "execution_count": null,
   "id": "c2579b84-f4c1-444b-b63b-9f29a97db984",
   "metadata": {
    "tags": []
   },
   "outputs": [],
   "source": [
    "len(pixel_instance_1.upper_line)"
   ]
  },
  {
   "cell_type": "code",
   "execution_count": null,
   "id": "1a2051de-24cd-4eab-86e4-5c21653f68c7",
   "metadata": {
    "tags": []
   },
   "outputs": [],
   "source": [
    "pixel_instance_1.upper_line[1998]"
   ]
  },
  {
   "cell_type": "code",
   "execution_count": null,
   "id": "e24694f7-5cc6-4ae8-8b64-c03c5b49b08b",
   "metadata": {},
   "outputs": [],
   "source": []
  },
  {
   "cell_type": "code",
   "execution_count": null,
   "id": "8237faa3-814b-4290-9859-e91db6050caa",
   "metadata": {},
   "outputs": [],
   "source": []
  },
  {
   "cell_type": "code",
   "execution_count": null,
   "id": "c2b6b2d0-1919-4a6e-85d7-37537f676f74",
   "metadata": {
    "tags": []
   },
   "outputs": [],
   "source": [
    "image_path = base_images[1]\n",
    "keys = rail[camera_num][image_path].keys()\n",
    "for i, key in enumerate(keys):\n",
    "    print(f'{i}: {key}')"
   ]
  },
  {
   "cell_type": "code",
   "execution_count": null,
   "id": "01ee7c98-3625-44a0-bcd7-3edba050c2a3",
   "metadata": {
    "tags": []
   },
   "outputs": [],
   "source": [
    "len(rail)"
   ]
  },
  {
   "cell_type": "code",
   "execution_count": null,
   "id": "37da3163-c1eb-4827-b43c-5567d10bd238",
   "metadata": {
    "tags": []
   },
   "outputs": [],
   "source": [
    "len(rail[camera_num][image_path])"
   ]
  },
  {
   "cell_type": "code",
   "execution_count": null,
   "id": "f2cf31a7-1921-43bd-b81a-ef5ea4063775",
   "metadata": {
    "tags": []
   },
   "outputs": [],
   "source": [
    "rail[camera_num][image_path][config.trolley_ids[0]]"
   ]
  },
  {
   "cell_type": "code",
   "execution_count": null,
   "id": "67442d5a-b3d2-4629-8789-3caf046d4cdd",
   "metadata": {
    "tags": []
   },
   "outputs": [],
   "source": [
    "idx = 0\n",
    "image_path = base_images[idx]\n",
    "# im = Image.open(rail[camera_num][image_path])\n",
    "i = 1\n",
    "x = rail[camera_num][base_images[i]][config.trolley_ids[0]][\"ix\"]\n",
    "plt.plot(x, rail[camera_num][base_images[i]][config.trolley_ids[0]][\"estimated_upper_edge\"])\n",
    "plt.plot(x, rail[camera_num][base_images[i]][config.trolley_ids[0]][\"estimated_lower_edge\"])\n",
    "plt.show()"
   ]
  },
  {
   "cell_type": "code",
   "execution_count": null,
   "id": "872477d6-7e4f-44b2-b12f-50382772d681",
   "metadata": {
    "tags": []
   },
   "outputs": [],
   "source": [
    "idx = 0\n",
    "image_path = base_images[idx]\n",
    "# im = Image.open(rail[camera_num][image_path])\n",
    "for idx in range(2):\n",
    "    image_path = base_images[idx]\n",
    "    print(image_path)\n",
    "    for trolley_id in config.trolley_ids:\n",
    "        x = [n + 1000 * idx for n in rail[camera_num][image_path][trolley_id][\"ix\"]]\n",
    "        plt.plot(x, rail[camera_num][image_path][trolley_id][\"estimated_upper_edge\"])\n",
    "        plt.plot(x, rail[camera_num][image_path][trolley_id][\"estimated_lower_edge\"])\n",
    "plt.show()"
   ]
  },
  {
   "cell_type": "code",
   "execution_count": null,
   "id": "6e2f4399-1642-4bf4-9e98-d902de959f05",
   "metadata": {
    "tags": []
   },
   "outputs": [],
   "source": [
    "len(rail[camera_num][image_path][config.trolley_ids[0]][\"ix\"])"
   ]
  },
  {
   "cell_type": "code",
   "execution_count": null,
   "id": "9745aaa9-9130-4f46-9378-fba270c13798",
   "metadata": {
    "tags": []
   },
   "outputs": [],
   "source": [
    "print(rail[camera_num][image_path][config.trolley_ids[0]][\"ix\"])"
   ]
  },
  {
   "cell_type": "code",
   "execution_count": null,
   "id": "d18a37e8-fac2-4979-a684-81f853ebb320",
   "metadata": {
    "tags": []
   },
   "outputs": [],
   "source": []
  },
  {
   "cell_type": "code",
   "execution_count": null,
   "id": "692b3795-f5d8-4ada-801c-0faec90b979d",
   "metadata": {
    "tags": []
   },
   "outputs": [],
   "source": [
    "rail.close()"
   ]
  },
  {
   "cell_type": "code",
   "execution_count": null,
   "id": "03e26db9-3076-48b4-9f96-a1751e154091",
   "metadata": {},
   "outputs": [],
   "source": []
  },
  {
   "cell_type": "code",
   "execution_count": null,
   "id": "1d9a412f-dcea-497e-ba68-8b4716aadc9c",
   "metadata": {
    "tags": []
   },
   "outputs": [],
   "source": [
    "trolley_ids = [\"trolley1\", \"trolley2\", \"trolley3\"]\n",
    "dict1 = {\"key1\": \"value1\"}\n",
    "dict2 = {\"key2\": \"value2\"}\n",
    "dict3 = {\"key3\": \"value3\"}\n",
    "\n",
    "new_dict = {trolley_id: dictionary for trolley_id, dictionary in zip(trolley_ids, [dict1, dict2, dict3])}\n"
   ]
  },
  {
   "cell_type": "code",
   "execution_count": null,
   "id": "c336934b-c982-4d85-8d8f-673ccaf1c6f0",
   "metadata": {
    "tags": []
   },
   "outputs": [],
   "source": [
    "new_dict"
   ]
  },
  {
   "cell_type": "code",
   "execution_count": null,
   "id": "95971d17-3069-4fe0-be43-4684a9f697cf",
   "metadata": {},
   "outputs": [],
   "source": []
  },
  {
   "cell_type": "code",
   "execution_count": null,
   "id": "5bfbd33e-a099-497b-bd62-bdb55bf1bbc3",
   "metadata": {},
   "outputs": [],
   "source": []
  },
  {
   "cell_type": "code",
   "execution_count": null,
   "id": "796a523c-0ea0-4326-a434-1eec795900f7",
   "metadata": {
    "tags": []
   },
   "outputs": [],
   "source": [
    "# 読み込まれたデータを確認したいときに実行する\n",
    "infile_path = list(rail[camera_num].keys())\n",
    "infile_path.sort()\n",
    "for i, key in enumerate(keys):\n",
    "    print(f\"{i}: {key}\")\n",
    "# rail[camera_num][0]\n",
    "\n",
    "infile_path[0]"
   ]
  },
  {
   "cell_type": "code",
   "execution_count": null,
   "id": "b7c2546e-5f0a-4b07-8f9d-dbf1d4fa3a93",
   "metadata": {
    "tags": []
   },
   "outputs": [],
   "source": [
    "dir_name = config.image_dir + '/' + dir_area\n",
    "helpers.print_files(dir_name, dir_area, camera_num)"
   ]
  },
  {
   "cell_type": "code",
   "execution_count": null,
   "id": "092d405e-62e8-4c89-8d4a-bfbbb97340b9",
   "metadata": {
    "tags": []
   },
   "outputs": [],
   "source": [
    "test_num = 0\n",
    "global_ix = 250000\n",
    "\n",
    "idx = 0"
   ]
  },
  {
   "cell_type": "code",
   "execution_count": null,
   "id": "555fad32-5e00-4b06-86ce-d1376773844c",
   "metadata": {
    "tags": []
   },
   "outputs": [],
   "source": [
    "file = infile_path[idx]\n",
    "file"
   ]
  },
  {
   "cell_type": "code",
   "execution_count": null,
   "id": "cef3a791-fe4c-41d8-b3ad-50f70de8921c",
   "metadata": {
    "tags": []
   },
   "outputs": [],
   "source": [
    "pixel_instance1 = pixel(1, 0, 0)\n",
    "pixel_instance2 = pixel(2, 0, 0)\n",
    "pixel_instance3 = pixel(3, 0, 0)\n",
    "pixel_instance1.isInFrame = True\n",
    "pixel_instance2.isInFrame = False\n",
    "pixel_instance3.isInFrame = False\n",
    "\n",
    "pixel_instance1.load_picture(file)\n",
    "pixel_instance2.load_picture(file)\n",
    "pixel_instance3.load_picture(file)\n",
    "\n",
    "img = pixel_instance1.picture['im_org']\n",
    "plt.imshow(img)\n",
    "plt.show()"
   ]
  },
  {
   "cell_type": "code",
   "execution_count": null,
   "id": "e730427b-2ee7-49f3-81d3-657f19bcdacc",
   "metadata": {
    "tags": []
   },
   "outputs": [],
   "source": [
    "# 初期位置の自動サーチ\n",
    "search_list = pixel_instance1.search_trolley_init(idx)\n",
    "search_list"
   ]
  },
  {
   "cell_type": "code",
   "execution_count": null,
   "id": "a48b4084-9fe5-44ff-9f0e-79e223eafb0d",
   "metadata": {
    "tags": []
   },
   "outputs": [],
   "source": [
    "# 初期値の設定\n",
    "xin = None\n",
    "if search_list != []:\n",
    "    auto_edge = True\n",
    "else:\n",
    "    auto_edge = False\n",
    "print(f'xin={xin}, auto_edge:{auto_edge}')"
   ]
  },
  {
   "cell_type": "code",
   "execution_count": null,
   "id": "8e878c8f-63ec-4724-a1aa-403489b8e879",
   "metadata": {},
   "outputs": [],
   "source": [
    "pixel_instance1.set_init_val(rail, idx, img, search_list, auto_edge)"
   ]
  },
  {
   "cell_type": "code",
   "execution_count": null,
   "id": "45d4f7ea-87be-4341-af22-1954af774edf",
   "metadata": {
    "tags": []
   },
   "outputs": [],
   "source": [
    "images_path[0]"
   ]
  },
  {
   "cell_type": "code",
   "execution_count": null,
   "id": "8ac0e661-1a7b-4f4b-bbb1-d82fb22da7f2",
   "metadata": {
    "tags": []
   },
   "outputs": [],
   "source": [
    "target_dir + \"/\" + images_path[0] + \".jpg\"\n",
    "# 'imgs/Chuo_01_Tokyo-St_up_20230201_knight/HD32/2022_0615_HD32_01_00022313.jpg'"
   ]
  },
  {
   "cell_type": "code",
   "execution_count": null,
   "id": "670954e8-dcdd-453c-b2c1-661ad8f20308",
   "metadata": {},
   "outputs": [],
   "source": [
    "# rail['HD32'][target_dir + \"/\" + images_path[0]]\n",
    "rail['HD32']['imgs/Chuo_01_Tokyo-St_up_20230201_knight/HD32/2022_0615_HD32_01_00022313.jpg']"
   ]
  },
  {
   "cell_type": "code",
   "execution_count": null,
   "id": "60e53bff-3fd8-4da1-aeca-588f5c633098",
   "metadata": {},
   "outputs": [],
   "source": []
  },
  {
   "cell_type": "code",
   "execution_count": null,
   "id": "47bfd96d-6706-43b4-8a83-8ed89a2b19c0",
   "metadata": {},
   "outputs": [],
   "source": []
  },
  {
   "cell_type": "code",
   "execution_count": null,
   "id": "d93887d2-f7e2-430d-8cd1-45cf798190ca",
   "metadata": {},
   "outputs": [],
   "source": []
  },
  {
   "cell_type": "code",
   "execution_count": null,
   "id": "04126c82-520f-42ed-85cf-6c0aef16da2c",
   "metadata": {},
   "outputs": [],
   "source": []
  },
  {
   "cell_type": "code",
   "execution_count": null,
   "id": "6efa9a43-0ec9-4c58-b719-f6e485459e51",
   "metadata": {},
   "outputs": [],
   "source": []
  },
  {
   "cell_type": "code",
   "execution_count": null,
   "id": "674060be-fb34-4678-8a7d-3f3fcaecaf2f",
   "metadata": {},
   "outputs": [],
   "source": []
  },
  {
   "cell_type": "code",
   "execution_count": null,
   "id": "e41f1f84-c0c1-46de-b8da-60bd640b92ee",
   "metadata": {
    "tags": []
   },
   "outputs": [],
   "source": [
    "rail['name']"
   ]
  },
  {
   "cell_type": "code",
   "execution_count": null,
   "id": "2c8d2739-8ee6-4201-93ee-67f9dd6a37d5",
   "metadata": {
    "tags": []
   },
   "outputs": [],
   "source": [
    "rail['HD22']['imgs/Chuo_01_Tokyo-St_up_20230201_knight/HD22/2022_0615_HD22_01_00022472.jpg']"
   ]
  },
  {
   "cell_type": "code",
   "execution_count": null,
   "id": "706287e9-bf1b-470a-a82d-2fc7a02bee04",
   "metadata": {
    "tags": []
   },
   "outputs": [],
   "source": [
    "rail['HD11']['imgs/Chuo_01_Tokyo-St_up_20230201_knight/HD11/2022_0615_HD11_01_00022312.jpg']"
   ]
  },
  {
   "cell_type": "code",
   "execution_count": null,
   "id": "d6c4b512-fa77-4200-ac04-6ac5d31cac7f",
   "metadata": {
    "tags": []
   },
   "outputs": [],
   "source": [
    "rail.close()"
   ]
  },
  {
   "cell_type": "code",
   "execution_count": null,
   "id": "b6fb7798-5aad-4cc6-b347-86b9b67c2ea5",
   "metadata": {
    "tags": []
   },
   "outputs": [],
   "source": [
    "!python src/config.py"
   ]
  },
  {
   "cell_type": "code",
   "execution_count": null,
   "id": "e923e015-04bf-481d-9b8d-5ab2a579265b",
   "metadata": {},
   "outputs": [],
   "source": []
  },
  {
   "cell_type": "code",
   "execution_count": null,
   "id": "96d75832-9a86-4b5d-972b-0ed9dad96ff5",
   "metadata": {},
   "outputs": [],
   "source": []
  },
  {
   "cell_type": "code",
   "execution_count": null,
   "id": "c766347a-81ab-477d-aa91-b71b63613b30",
   "metadata": {},
   "outputs": [],
   "source": []
  },
  {
   "cell_type": "code",
   "execution_count": null,
   "id": "432912ba-4c72-431f-9acb-9cc03aff9b3b",
   "metadata": {},
   "outputs": [],
   "source": []
  },
  {
   "cell_type": "code",
   "execution_count": null,
   "id": "05026772-26f0-4054-91d7-767bc39b82b0",
   "metadata": {
    "tags": []
   },
   "outputs": [],
   "source": [
    "CAMERA_NUMS = [\"HD11\", \"HD12\", \"HD21\", \"HD22\", \"HD31\", \"HD32\"]\n",
    "camera_names = utlst.camera_names()\n",
    "camera_name_list = []\n",
    "for camera_name in camera_names:\n",
    "    camera_name_list.append(camera_names[camera_name])\n",
    "camera_name_list"
   ]
  },
  {
   "cell_type": "code",
   "execution_count": null,
   "id": "011a0426-4b7a-46ce-9a65-6c0671cc4185",
   "metadata": {
    "tags": []
   },
   "outputs": [],
   "source": [
    "CAMERA_NUMS = [\"HD11\", \"HD12\", \"HD21\", \"HD22\", \"HD31\", \"HD32\"]\n",
    "camera_names = utlst.camera_names()\n",
    "camera_name_list = [camera_names[camera_name] for camera_name in camera_names]\n",
    "camera_name_list"
   ]
  },
  {
   "cell_type": "code",
   "execution_count": null,
   "id": "8db82245-0eb7-4d90-8960-613267233b32",
   "metadata": {
    "tags": []
   },
   "outputs": [],
   "source": [
    "camera_name_list = [utlst.camera_names()[camera_name] for camera_name in utlst.camera_names()]\n",
    "camera_name_list"
   ]
  },
  {
   "cell_type": "code",
   "execution_count": null,
   "id": "7022a22a-64de-4b38-b4e8-391ca65794b6",
   "metadata": {
    "tags": []
   },
   "outputs": [],
   "source": [
    "CAMERA_NUMS[camera_name_list.index('高(右)')]"
   ]
  },
  {
   "cell_type": "code",
   "execution_count": null,
   "id": "f877fa51-ea3f-4f04-95c6-ab67a80cea80",
   "metadata": {
    "tags": []
   },
   "outputs": [],
   "source": [
    "def camera_names():\n",
    "    camera_names = {\n",
    "        \"HD11\": \"高(左)\",\n",
    "        \"HD12\": \"高(右)\",\n",
    "        \"HD21\": \"中(左)\",\n",
    "        \"HD22\": \"中(右)\",\n",
    "        \"HD31\": \"低(左)\",\n",
    "        \"HD32\": \"低(右)\",\n",
    "}\n",
    "    return camera_names\n",
    "\n",
    "def camera_num2name(camera_num):\n",
    "    camera_names_dict = camera_names()\n",
    "    camera_name = camera_names_dict[camera_num]\n",
    "    return camera_name\n",
    "\n",
    "camera_name = camera_num2name('HD11')\n",
    "camera_name"
   ]
  },
  {
   "cell_type": "code",
   "execution_count": null,
   "id": "2b737984-1b51-420c-b90d-a57ab0e08797",
   "metadata": {
    "tags": []
   },
   "outputs": [],
   "source": [
    "import pathlib\n",
    "\n",
    "def get_image_list(path):\n",
    "    try:\n",
    "        files = os.listdir(path)\n",
    "        files_file = [f for f in files if os.path.isfile(os.path.join(path, f))]\n",
    "        files_file.sort()\n",
    "    except Exception as e:\n",
    "        files_file = []\n",
    "    return files_file\n",
    "\n",
    "path = 'images/Chuo_19_Shinjuku-St_up_20230201_knight/HD12/'\n",
    "\n",
    "image_list = get_image_list(path)\n",
    "image_list\n"
   ]
  },
  {
   "cell_type": "code",
   "execution_count": null,
   "id": "c9c134e7-fabf-4b8a-9ab2-5ed55c718f2d",
   "metadata": {},
   "outputs": [],
   "source": [
    "from pathlib import Path\n",
    "\n",
    "def get_file_list(path):\n",
    "    dir_path = Path(path)\n",
    "    image_obj_list = [path for path in dir_path.glob(\"*\") if path.is_file()]\n",
    "    image_list = [image_obj.name for image_obj in image_obj_list]\n",
    "    image_list.sort()\n",
    "    return image_list\n",
    "\n",
    "def get_dir_list(path):\n",
    "    dir_path = Path(path)\n",
    "    dir_obj_list = [path for path in dir_path.glob(\"*\") if path.is_dir() and not path.name.startswith(\".\")]\n",
    "    dir_list = [image_obj.name for image_obj in dir_obj_list]\n",
    "    dir_list.sort()\n",
    "    return dir_list\n",
    "\n",
    "\n",
    "path = 'images/Chuo_19_Shinjuku-St_up_20230201_knight/HD12/'\n",
    "image_list = get_file_list(path)\n",
    "image_list"
   ]
  },
  {
   "cell_type": "code",
   "execution_count": null,
   "id": "5e390428-6719-42e1-a0e8-7bdcdd679fee",
   "metadata": {
    "tags": []
   },
   "outputs": [],
   "source": [
    "path = 'images/Chuo_19_Shinjuku-St_up_20230201_knight/HD11/'\n",
    "image_list = get_file_list(path)\n",
    "image_list"
   ]
  },
  {
   "cell_type": "code",
   "execution_count": null,
   "id": "e7e8ccd3-a99d-4a3e-bd36-75ffaf260569",
   "metadata": {
    "tags": []
   },
   "outputs": [],
   "source": [
    "path = 'images/'\n",
    "dir_list = get_dir_list(path)\n",
    "dir_list"
   ]
  },
  {
   "cell_type": "code",
   "execution_count": null,
   "id": "8b4a2ae5-c436-49b6-8c95-900517719ca4",
   "metadata": {},
   "outputs": [],
   "source": []
  },
  {
   "cell_type": "code",
   "execution_count": null,
   "id": "eb2cffe5-ee72-4857-ba1e-b53fa7a8600d",
   "metadata": {
    "tags": []
   },
   "outputs": [],
   "source": [
    "def get_dir_list(path):\n",
    "    dir_path = Path(path)\n",
    "    dir_obj_list = [path for path in dir_path.glob(\"*\") if path.is_dir()]\n",
    "    dir_list = [image_obj.name for image_obj in dir_obj_list]\n",
    "    dir_list.sort()\n",
    "    return dir_list\n",
    "\n",
    "path = 'images/'\n",
    "dir_list = get_file_list(path)\n",
    "dir_list"
   ]
  },
  {
   "cell_type": "code",
   "execution_count": null,
   "id": "2b6fc25a-0596-4a16-85b5-8863e2697d16",
   "metadata": {
    "tags": []
   },
   "outputs": [],
   "source": [
    "path = 'images/'\n",
    "dir_path = Path(path).glob(\"*\")\n",
    "for i in dir_path:\n",
    "    if i.is_dir:\n",
    "        print(i)"
   ]
  },
  {
   "cell_type": "code",
   "execution_count": null,
   "id": "857c6b9a-0417-4ae8-a73c-c4294c6862cf",
   "metadata": {},
   "outputs": [],
   "source": []
  },
  {
   "cell_type": "code",
   "execution_count": null,
   "id": "7e8bd494-f085-41ad-9815-5d57c297dcd4",
   "metadata": {},
   "outputs": [],
   "source": []
  },
  {
   "cell_type": "code",
   "execution_count": null,
   "id": "1cbc602f-0df2-491b-9411-91c9fb6404bc",
   "metadata": {},
   "outputs": [],
   "source": []
  },
  {
   "cell_type": "code",
   "execution_count": null,
   "id": "a7f6fe06-2713-46f0-aa45-6911c5c08085",
   "metadata": {
    "tags": []
   },
   "outputs": [],
   "source": [
    "!pwd"
   ]
  },
  {
   "cell_type": "code",
   "execution_count": null,
   "id": "1e918bf5-f12b-4d49-a795-5f98c5ed9376",
   "metadata": {},
   "outputs": [],
   "source": []
  },
  {
   "cell_type": "code",
   "execution_count": null,
   "id": "4a214701-77ca-4289-a0f0-c4816d355ce3",
   "metadata": {},
   "outputs": [],
   "source": [
    "len(image_obj_list)"
   ]
  },
  {
   "cell_type": "code",
   "execution_count": null,
   "id": "19b10002-43d1-4e63-9273-3ac9f381aeca",
   "metadata": {
    "tags": []
   },
   "outputs": [],
   "source": [
    "image_list = [image_obj_list[i].name for i in range(len(image_obj_list))]\n",
    "image_list"
   ]
  },
  {
   "cell_type": "code",
   "execution_count": null,
   "id": "dd24cbc0-0bfe-4366-a16f-8f2dadfbb32f",
   "metadata": {},
   "outputs": [],
   "source": []
  },
  {
   "cell_type": "code",
   "execution_count": null,
   "id": "b44a97e5-10dd-40f1-bb9e-4e708ccab5db",
   "metadata": {},
   "outputs": [],
   "source": []
  },
  {
   "cell_type": "code",
   "execution_count": null,
   "id": "49ff9ed1",
   "metadata": {},
   "outputs": [],
   "source": [
    "s3 = boto3.resource('s3')\n",
    "bucket_name = 'k-nagayama'\n",
    "prefix = 'OHCImages/images/'\n",
    "bucket = s3.Bucket(bucket_name)\n",
    "folders_list = []\n",
    "\n",
    "for obj in bucket.objects.filter(Prefix=prefix, Delimiter='/'):\n",
    "    folders_list.append(obj.key)\n",
    "\n",
    "folders_list"
   ]
  },
  {
   "cell_type": "code",
   "execution_count": null,
   "id": "f25d06dc",
   "metadata": {},
   "outputs": [],
   "source": [
    "path='OHCImages/images/'\n",
    "\n",
    "# def test(path):\n",
    "s3 = boto3.client('s3')\n",
    "images_path = []\n",
    "response = s3.list_objects_v2(Bucket='k-nagayama', Prefix=path, Delimiter='/')\n",
    "for content in response.get('CommonPrefixes', []):\n",
    "    full_path = content.get('Prefix')\n",
    "    normalized_path = os.path.normpath(full_path)\n",
    "    images_path.append(os.path.basename(normalized_path))\n",
    "images_path.sort()\n",
    "images_path\n",
    "# print(f'normalized_path type -> {type(normalized_path)}')"
   ]
  },
  {
   "cell_type": "code",
   "execution_count": null,
   "id": "c92c13df",
   "metadata": {},
   "outputs": [],
   "source": [
    "['Chuo_Suidobashi-Iidabashi_down',\n",
    " 'Chuo_Suidobashi-Iidabashi_up',\n",
    " 'Kawagoe_Sashiougi-Minamifuruya',\n",
    " 'Nishioomiya-Sashiougi_20220626',\n",
    " 'Ohmiya-Miyahara_down_20220221',\n",
    " 'Omiya-Nisshin_down_20210721',\n",
    " 'Sashiougi-Minamifuruya_20220626',\n",
    " 'Sashiougi_20220626']"
   ]
  },
  {
   "cell_type": "code",
   "execution_count": null,
   "id": "9a310f41",
   "metadata": {},
   "outputs": [],
   "source": []
  },
  {
   "cell_type": "code",
   "execution_count": null,
   "id": "cf125920",
   "metadata": {},
   "outputs": [],
   "source": [
    "path = \"OHCImages/images/Chuo_Suidobashi-Iidabashi_down/\"\n",
    "normalized_path = os.path.normpath(path)\n",
    "last_dirname = os.path.basename(normalized_path)\n",
    "last_dirname"
   ]
  },
  {
   "cell_type": "code",
   "execution_count": null,
   "id": "66213505",
   "metadata": {
    "scrolled": true,
    "tags": []
   },
   "outputs": [],
   "source": [
    "# S3オブジェクト数1000件までしか対応できず\n",
    "s3 = boto3.client('s3')\n",
    "path = 'OHCImages/images/Kawagoe_Sashiougi-Minamifuruya/HD21/'\n",
    "file_list = []\n",
    "\n",
    "# S3バケット内のファイル一覧を取得\n",
    "response = s3.list_objects_v2(Bucket='k-nagayama', Prefix=path)\n",
    "for content in response.get('Contents', []):\n",
    "    file_list.append(content.get('Key'))\n",
    "response  #[\"ResponseMetadata\"]"
   ]
  },
  {
   "cell_type": "code",
   "execution_count": null,
   "id": "fe12ef1a-d65b-419e-b3bd-1feb6a5a4a42",
   "metadata": {
    "tags": []
   },
   "outputs": [],
   "source": [
    "s3 = boto3.client('s3')\n",
    "path = 'OHCImages/images/Kawagoe_Sashiougi-Minamifuruya/HD21/'\n",
    "file_list = []\n",
    "\n",
    "# S3バケット内のファイル一覧を取得\n",
    "response = s3.list_objects_v2(Bucket='k-nagayama', Prefix=path)\n",
    "for content in response.get('Contents', []):\n",
    "    file_list.append(content.get('Key'))\n",
    "\n",
    "# レスポンスが1000件未満になるまでリクエストを続ける\n",
    "while response['IsTruncated']:\n",
    "    response = s3.list_objects_v2(Bucket='k-nagayama', Prefix=path, ContinuationToken=response['NextContinuationToken'])\n",
    "    for content in response.get('Contents', []):\n",
    "        file_list.append(content.get('Key'))\n",
    "len(file_list)"
   ]
  },
  {
   "cell_type": "code",
   "execution_count": null,
   "id": "057339db-90af-4611-8f10-fdf28891bd35",
   "metadata": {
    "tags": []
   },
   "outputs": [],
   "source": [
    "s3 = boto3.resource(\"s3\")\n",
    "bucket = s3.Bucket('k-nagayama')\n",
    "prefix = 'OHCImages/images/Kawagoe_Sashiougi-Minamifuruya/HD22/'\n",
    "\n",
    "\n",
    "def get_all_keys(bucket_name: str, prefix: str, keys: list[str], marker: str) -> list[str]:\n",
    "    \"\"\"\n",
    "    S3の指定したパスに存在するオブジェクトのキーを全て取得する\n",
    "\n",
    "    Parameters\n",
    "    ----------\n",
    "    bucket_name: String\n",
    "        対象のBucket\n",
    "    prefix: String\n",
    "        対象のディレクトリのパス\n",
    "    keys: list[str]\n",
    "    marker: String\n",
    "        関数の中から呼び出す時のための引数。通常はkeys = [], marker = \"\" で呼び出す\n",
    "\n",
    "    Returns\n",
    "    -------\n",
    "    list[str]\n",
    "        取得したキーのリスト\n",
    "    \"\"\"\n",
    "    s3 = boto3.resource(\"s3\")\n",
    "    bucket = s3.Bucket(bucket_name)\n",
    "    objects = bucket.meta.client.list_objects_v2(Bucket=bucket.name, Prefix=prefix, StartAfter=marker)\n",
    "    if \"Contents\" in objects:\n",
    "        keys.extend([content[\"Key\"] for content in objects[\"Contents\"]])\n",
    "        print(f'isTruncated:{objects.get(\"isTruncated\")}')\n",
    "        # 返り値のIsTruncatedがTrueかどうかを確認する\n",
    "        if objects.get(\"isTruncated\"):\n",
    "            # marker引数に取得したkeysの末尾の値を設定して再度get_all_keysを実行する\n",
    "            return get_all_keys(bucket_name=bucket_name, prefix=prefix, keys=keys, marker=keys[-1])\n",
    "    return keys\n",
    "\n",
    "file_list = get_all_keys(bucket.name, prefix, [], \"\")\n",
    "len(file_list)"
   ]
  },
  {
   "cell_type": "code",
   "execution_count": null,
   "id": "03e5cddf-46d7-4517-903a-1ff57b47c1d3",
   "metadata": {
    "tags": []
   },
   "outputs": [],
   "source": [
    "for i in range(1):\n",
    "    print(i)\n",
    "    "
   ]
  },
  {
   "cell_type": "code",
   "execution_count": null,
   "id": "0b5f2592-8e2a-4b9b-88d8-d7e33da25e74",
   "metadata": {},
   "outputs": [],
   "source": []
  },
  {
   "cell_type": "code",
   "execution_count": null,
   "id": "a55814e1-9da2-4189-8e2c-e9f5612b9d04",
   "metadata": {},
   "outputs": [],
   "source": []
  },
  {
   "cell_type": "code",
   "execution_count": null,
   "id": "7110ce19",
   "metadata": {},
   "outputs": [],
   "source": [
    "\n",
    "idx = 0\n",
    "path = 'OHCImages/images/Chuo_Suidobashi-Iidabashi_down/HD11/2022_0225_HD11_01_00000073.jpg'\n",
    "s3 = boto3.client('s3')\n",
    "response = s3.list_objects_v2(Bucket='k-nagayama', Prefix=path)\n",
    "response\n",
    "\n",
    "\n",
    "# print(f'{idx}番目の画像を表示します')\n",
    "# im_base = Image.open(response)\n",
    "# imshow(im_base, caption='車モニ画像')"
   ]
  },
  {
   "cell_type": "code",
   "execution_count": null,
   "id": "05465760",
   "metadata": {},
   "outputs": [],
   "source": [
    "\n",
    "\n",
    "idx = 0\n",
    "path = 'OHCImages/images/Chuo_Suidobashi-Iidabashi_down/HD11/2022_0225_HD11_01_00000073.jpg'\n",
    "s3 = boto3.client('s3')\n",
    "response = s3.get_object(Bucket='k-nagayama', Key=path)\n",
    "image_content = response['Body'].read()\n",
    "img = Image.open(BytesIO(image_content))\n",
    "img.show()"
   ]
  },
  {
   "cell_type": "code",
   "execution_count": null,
   "id": "2d0ad669",
   "metadata": {},
   "outputs": [],
   "source": [
    "# S3バケットに画像を保存する\n",
    "\n",
    "dir_path = 'OHCImages/'\n",
    "file_name = 'test.jpg'\n",
    "file_full_path = dir_path + file_name\n",
    "img = Image.open('test.jpg')\n",
    "\n",
    "# バイトデータに変換する\n",
    "with BytesIO() as output:\n",
    "    img.save(output, format=\"JPEG\")\n",
    "    contents = output.getvalue()\n",
    "\n",
    "s3 = boto3.client('s3')\n",
    "response = s3.put_object(Body=contents, Bucket='k-nagayama', Key=file_full_path)\n",
    "response"
   ]
  },
  {
   "cell_type": "code",
   "execution_count": null,
   "id": "48e97863",
   "metadata": {
    "tags": []
   },
   "outputs": [],
   "source": [
    "# S3バケットにディレクトリが無ければ作成する\n",
    "def test_dir_put(dir):\n",
    "    s3 = boto3.client('s3')\n",
    "    result = s3.list_objects(Bucket='k-nagayama', Prefix=dir)    #ディレクトリを変数に\n",
    "    if not \"Contents\" in result:    # ディレクトリがない場合はContents というキーが存在しない。これを使えば存在判定ができる。\n",
    "        s3.put_object(Bucket='k-nagayama', Key=dir)    #ディレクトリ作成 \n"
   ]
  },
  {
   "cell_type": "code",
   "execution_count": null,
   "id": "65295c2d-7cf1-49f9-82bd-4ad416223f51",
   "metadata": {
    "tags": []
   },
   "outputs": [],
   "source": [
    "# S3に1000件以上のディレクトリを作成する（テスト用）\n",
    "base_dir = 'OHCImages/test/'    #ディレクトリパス\n",
    "for i in range(1100):\n",
    "    test_dir_put(base_dir + str(i) + '/')"
   ]
  },
  {
   "cell_type": "code",
   "execution_count": null,
   "id": "7ead2117-02ce-49ab-a2ed-dc5fc295b2cc",
   "metadata": {
    "tags": []
   },
   "outputs": [],
   "source": [
    "def get_s3_dir_list(path):\n",
    "    s3 = boto3.client('s3')\n",
    "    rail_list = []\n",
    "    # S3バケット内のディレクトリ一覧を取得\n",
    "    response = s3.list_objects_v2(Bucket='k-nagayama', Prefix=path, Delimiter='/')\n",
    "    for content in response.get('CommonPrefixes', []):\n",
    "        full_path = content.get('Prefix')\n",
    "        normalized_path = os.path.normpath(full_path)\n",
    "        rail_list.append(os.path.basename(normalized_path))\n",
    "    # レスポンスが1000件未満になるまでリクエストを続ける\n",
    "    while response['IsTruncated']:\n",
    "        response = s3.list_objects_v2(Bucket='k-nagayama', Prefix=path, Delimiter='/', ContinuationToken=response['NextContinuationToken'])\n",
    "        for content in response.get('CommonPrefixes', []):\n",
    "            full_path = content.get('Prefix')\n",
    "            normalized_path = os.path.normpath(full_path)\n",
    "            rail_list.append(os.path.basename(normalized_path))\n",
    "    rail_list.sort()\n",
    "    return rail_list\n",
    "\n",
    "base_dir = 'OHCImages/test/'    #ディレクトリパス\n",
    "\n",
    "dir_list = get_s3_dir_list(base_dir)\n",
    "# response\n",
    "len(dir_list)"
   ]
  },
  {
   "cell_type": "code",
   "execution_count": null,
   "id": "4f7205b8",
   "metadata": {},
   "outputs": [],
   "source": []
  },
  {
   "cell_type": "code",
   "execution_count": null,
   "id": "3e6154b6",
   "metadata": {},
   "outputs": [],
   "source": []
  },
  {
   "cell_type": "code",
   "execution_count": null,
   "id": "3c5b8f00",
   "metadata": {},
   "outputs": [],
   "source": [
    "# S3バケットのディレクトリ一覧を取得する\n",
    "def get_s3_dir_list(path):\n",
    "    s3 = boto3.client('s3')\n",
    "    rail_list = []\n",
    "    response = s3.list_objects_v2(Bucket='k-nagayama', Prefix=path, Delimiter='/')\n",
    "    for content in response.get('CommonPrefixes', []):\n",
    "        full_path = content.get('Prefix')\n",
    "        normalized_path = os.path.normpath(full_path)\n",
    "        rail_list.append(os.path.basename(normalized_path))\n",
    "    rail_list.sort()\n",
    "    return rail_list\n",
    "\n",
    "# S3バケットのカメラフォルダ内のファイル一覧を取得する\n",
    "def get_s3_image_list(path):\n",
    "    s3 = boto3.client('s3')\n",
    "    # path = 'OHCImages/images/Chuo_Suidobashi-Iidabashi_down/HD11/'\n",
    "    image_list = []\n",
    "    # S3バケット内のファイル一覧を取得\n",
    "    response = s3.list_objects_v2(Bucket='k-nagayama', Prefix=path)\n",
    "    for content in response.get('Contents', []):\n",
    "        full_path = content.get('Key')\n",
    "        image_list.append(os.path.basename(full_path))\n",
    "    image_list.sort()\n",
    "    return image_list\n",
    "\n",
    "# S3バケットの電車線金具モニタリングシステムの画像を表示する\n",
    "def ohc_image_load(path, idx):\n",
    "    s3 = boto3.client('s3')\n",
    "    response = s3.get_object(Bucket='k-nagayama', Key=path)\n",
    "    image_content = response['Body'].read()\n",
    "    st.text(f'{idx}番目の画像を表示します')\n",
    "    img = Image.open(BytesIO(image_content))\n",
    "    st.image(img, caption='車モニ画像')\n",
    "    return\n",
    "\n",
    "# S3バケットの電車線金具モニタリングシステムの画像を取得する\n",
    "def get_image(path):\n",
    "    s3 = boto3.client('s3')\n",
    "    response = s3.get_object(Bucket='k-nagayama', Key=path)\n",
    "    image_content = response['Body'].read()\n",
    "    img = Image.open(BytesIO(image_content))\n",
    "    return img\n",
    "\n",
    "def put_s3_csv(csv_data, file_full_path):\n",
    "    s3 = boto3.client('s3')\n",
    "    response = s3.put_object(Body=csv_data, Bucket='k-nagayama', Key=file_full_path)\n",
    "    return\n",
    "\n",
    "# メタデータ作成\n",
    "def print_files(dir_name, image_list, csvname, cam):\n",
    "  # print_files('OHCImages/images/' + dir_area, image_list, dir_area, camera_num)\n",
    "    dict = {\n",
    "        \"dirname\":[],\n",
    "        \"filename\":[],\n",
    "        \"camera_num\":[],\n",
    "        \"upper_boundary1\":[],\n",
    "        \"lower_boundary1\":[],\n",
    "        \"upper_diff1\":[],\n",
    "        \"lower_diff1\":[],\n",
    "        \"upper_boundary2\":[],\n",
    "        \"lower_boundary2\":[],\n",
    "        \"upper_diff2\":[],\n",
    "        \"lower_diff2\":[],\n",
    "        \"upper_boundary3\":[],\n",
    "        \"lower_boundary3\":[],\n",
    "        \"upper_diff3\":[],\n",
    "        \"lower_diff3\":[]\n",
    "    }\n",
    "    for file in image_list:\n",
    "        dict[\"dirname\"].append(os.path.dirname(dir_name + '/' + cam + '/' + file))\n",
    "        dict[\"filename\"].append(os.path.basename(file))\n",
    "        dict[\"camera_num\"].append(cam)\n",
    "        dict[\"upper_boundary1\"].append(None)\n",
    "        dict[\"lower_boundary1\"].append(None)\n",
    "        dict[\"upper_diff1\"].append(None)\n",
    "        dict[\"lower_diff1\"].append(None)\n",
    "        dict[\"upper_boundary2\"].append(None)\n",
    "        dict[\"lower_boundary2\"].append(None)\n",
    "        dict[\"upper_diff2\"].append(None)\n",
    "        dict[\"lower_diff2\"].append(None)\n",
    "        dict[\"upper_boundary3\"].append(None)\n",
    "        dict[\"lower_boundary3\"].append(None)\n",
    "        dict[\"upper_diff3\"].append(None)\n",
    "        dict[\"lower_diff3\"].append(None)\n",
    "    df=pd.DataFrame.from_dict(dict)\n",
    "    \n",
    "    csv_data = df.to_csv(index=False)\n",
    "    \n",
    "    put_s3_csv(csv_data, f\"{dir_name}/{csvname}_temp_meta.csv\")\n",
    "    csv_path = f\"{dir_name}/{csvname}_temp_meta.csv\"\n",
    "    return csv_path\n",
    "\n",
    "\n",
    "\n",
    "\n",
    "# Main\n",
    "CAMERA_NUMS = ['HD11','HD12','HD21','HD22','HD31','HD32']\n",
    "\n",
    "rail_list = get_s3_dir_list('OHCImages/images/')\n",
    "dir_area = rail_list[0]\n",
    "camera_num = CAMERA_NUMS[0]\n",
    "image_list = get_s3_image_list('OHCImages/images/' + dir_area + '/' + camera_num + '/')\n",
    "\n",
    "# rail_list[0]\n",
    "# image_list[0]\n",
    "\n",
    "csv_path = print_files('OHCImages/images/' + dir_area, image_list, dir_area, camera_num)\n",
    "\n",
    "# df\n"
   ]
  },
  {
   "cell_type": "code",
   "execution_count": null,
   "id": "99ee02fe",
   "metadata": {},
   "outputs": [],
   "source": [
    "# S3バケットのCSVファイルをPandasデータフレームとして取得する\n",
    "def get_s3_csv_asDf(path):\n",
    "    s3 = boto3.client('s3')\n",
    "    response = s3.get_object(Bucket='k-nagayama', Key=path)\n",
    "    csv_content = response['Body'].read()\n",
    "    df = pd.read_csv(BytesIO(csv_content), header=0,dtype={'camera_num':str})\n",
    "    return df\n",
    "\n",
    "path = 'OHCImages/images/Chuo_Suidobashi-Iidabashi_down/Chuo_Suidobashi-Iidabashi_down_temp_meta.csv'\n",
    "df = get_s3_csv_asDf(path)\n",
    "\n"
   ]
  },
  {
   "cell_type": "code",
   "execution_count": null,
   "id": "e80be4e6",
   "metadata": {},
   "outputs": [],
   "source": [
    "def get_rail(metadatafile, dir_area, CAMERA_NUMS):\n",
    "    rail = { #線区ごとの情報\n",
    "        'metadata_name':None,\n",
    "        'upper_boundary1':[], #線区の開始点のトロリ線の上端\n",
    "        'lower_boundary1':[], #線区の開始点のトロリ線の下端\n",
    "        'upper_boundary2':[],\n",
    "        'lower_boundary2':[],\n",
    "        'upper_boundary3':[],\n",
    "        'lower_boundary3':[],\n",
    "        \n",
    "        'df':pd.DataFrame()\n",
    "    }\n",
    "    df = get_s3_csv_asDf(metadatafile)\n",
    "    \n",
    "    outpath_list = []\n",
    "    \n",
    "    rail['df'] = df\n",
    "    rail['metadata_name']=metadatafile\n",
    "    rail['metadata_length']=len(df)\n",
    "    rail['camera_num'] = df['camera_num']\n",
    "    rail['inpath'] = [f'{x[0]}/{x[1]}' for x in zip(df['dirname'].tolist(), df['filename'].tolist())]\n",
    "    rail['infile'] = df['filename']\n",
    "    for camera_num in CAMERA_NUMS:\n",
    "        outpath_list.append(f'output/{dir_area}/{camera_num}/')\n",
    "    rail['outpath'] = outpath_list\n",
    "    rail['upper_boundary1'] = df['upper_boundary1'].tolist()\n",
    "    rail['lower_boundary1'] = df['lower_boundary1'].tolist()\n",
    "    rail['upper_boundary2'] = df['upper_boundary2'].tolist()\n",
    "    rail['lower_boundary2'] = df['lower_boundary2'].tolist()\n",
    "    rail['upper_boundary3'] = df['upper_boundary3'].tolist()\n",
    "    rail['lower_boundary3'] = df['lower_boundary3'].tolist()\n",
    "    return rail.copy()\n",
    "\n",
    "path = 'OHCImages/images/Chuo_Suidobashi-Iidabashi_down/Chuo_Suidobashi-Iidabashi_down_temp_meta.csv'\n",
    "dir_area = rail_list[0]\n",
    "CAMERA_NUMS = ['HD11','HD12','HD21','HD22','HD31','HD32']\n",
    "\n",
    "rail = get_rail(path, dir_area, CAMERA_NUMS)\n"
   ]
  },
  {
   "cell_type": "code",
   "execution_count": null,
   "id": "c9bffdd6",
   "metadata": {},
   "outputs": [],
   "source": [
    "rail['outpath']"
   ]
  },
  {
   "cell_type": "code",
   "execution_count": null,
   "id": "76e3fb61",
   "metadata": {},
   "outputs": [],
   "source": []
  },
  {
   "cell_type": "code",
   "execution_count": null,
   "id": "e37d7fe7",
   "metadata": {},
   "outputs": [],
   "source": []
  }
 ],
 "metadata": {
  "kernelspec": {
   "display_name": "conda_python3",
   "language": "python",
   "name": "conda_python3"
  },
  "language_info": {
   "codemirror_mode": {
    "name": "ipython",
    "version": 3
   },
   "file_extension": ".py",
   "mimetype": "text/x-python",
   "name": "python",
   "nbconvert_exporter": "python",
   "pygments_lexer": "ipython3",
   "version": "3.10.8"
  }
 },
 "nbformat": 4,
 "nbformat_minor": 5
}
