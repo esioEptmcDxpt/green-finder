{
 "cells": [
  {
   "cell_type": "markdown",
   "id": "04d40131-7754-4344-97e8-339fe17323e5",
   "metadata": {
    "tags": []
   },
   "source": [
    "# 画像ファイルに対応するキロ程紐づけ用のJSONファイルを作成するノートブック\n",
    "```\n",
    "以下のコマンドを順番に実行していく\n",
    "想定しているディレクトリ構造は以下のとおり\n",
    ".\n",
    "├ imgs\n",
    "│  └ dir_area    :線区単位の画像を保存\n",
    "│     ├ HD11     :カメラ毎の画像を保存\n",
    "│     ├ HD12     :以下、同じ\n",
    "│     ├ HD21         \n",
    "│     ├ HD21 \n",
    "│     ├ HD31 \n",
    "│     └ HD32 \n",
    "├ TDM\n",
    "│  └ TDM_GazoFileIndex.xlsx  :車モニから出力したマスターデータ\n",
    "└ imgKiro.ipynb  :本ファイル\n",
    "```"
   ]
  },
  {
   "cell_type": "markdown",
   "id": "64e9beed-a323-42f0-a53a-6347b9b1f542",
   "metadata": {
    "tags": []
   },
   "source": [
    "# 一括で線区フォルダごとのJSONファイルを作成する"
   ]
  },
  {
   "cell_type": "markdown",
   "id": "4beeb4a3-38e8-4a15-aa64-8f9415a507d9",
   "metadata": {},
   "source": [
    "## 1. ライブラリ読込み＆関数の定義"
   ]
  },
  {
   "cell_type": "code",
   "execution_count": 3,
   "id": "5938c02f-b83b-4668-a4fb-8bb748ee24a4",
   "metadata": {
    "tags": []
   },
   "outputs": [
    {
     "name": "stderr",
     "output_type": "stream",
     "text": [
      "2024-08-21 05:28:49.706 \n",
      "`st.cache` is deprecated and will be removed soon. Please use one of Streamlit's new caching commands, `st.cache_data` or `st.cache_resource`.\n",
      "More information [in our docs](https://docs.streamlit.io/develop/concepts/architecture/caching).\n",
      "\n",
      "**Note**: The behavior of `st.cache` was updated in Streamlit 1.36 to the new caching logic used by `st.cache_data` and `st.cache_resource`.\n",
      "This might lead to some problems or unexpected behavior in certain edge cases.\n",
      "\n",
      "2024-08-21 05:28:49.707 No runtime found, using MemoryCacheStorageManager\n",
      "2024-08-21 05:28:49.709 \n",
      "`st.cache` is deprecated and will be removed soon. Please use one of Streamlit's new caching commands, `st.cache_data` or `st.cache_resource`.\n",
      "More information [in our docs](https://docs.streamlit.io/develop/concepts/architecture/caching).\n",
      "\n",
      "**Note**: The behavior of `st.cache` was updated in Streamlit 1.36 to the new caching logic used by `st.cache_data` and `st.cache_resource`.\n",
      "This might lead to some problems or unexpected behavior in certain edge cases.\n",
      "\n",
      "2024-08-21 05:28:49.711 No runtime found, using MemoryCacheStorageManager\n",
      "2024-08-21 05:28:49.713 \n",
      "`st.cache` is deprecated and will be removed soon. Please use one of Streamlit's new caching commands, `st.cache_data` or `st.cache_resource`.\n",
      "More information [in our docs](https://docs.streamlit.io/develop/concepts/architecture/caching).\n",
      "\n",
      "**Note**: The behavior of `st.cache` was updated in Streamlit 1.36 to the new caching logic used by `st.cache_data` and `st.cache_resource`.\n",
      "This might lead to some problems or unexpected behavior in certain edge cases.\n",
      "\n",
      "2024-08-21 05:28:49.716 No runtime found, using MemoryCacheStorageManager\n",
      "2024-08-21 05:28:49.719 \n",
      "`st.cache` is deprecated and will be removed soon. Please use one of Streamlit's new caching commands, `st.cache_data` or `st.cache_resource`.\n",
      "More information [in our docs](https://docs.streamlit.io/develop/concepts/architecture/caching).\n",
      "\n",
      "**Note**: The behavior of `st.cache` was updated in Streamlit 1.36 to the new caching logic used by `st.cache_data` and `st.cache_resource`.\n",
      "This might lead to some problems or unexpected behavior in certain edge cases.\n",
      "\n",
      "2024-08-21 05:28:49.720 No runtime found, using MemoryCacheStorageManager\n",
      "2024-08-21 05:28:49.722 \n",
      "`st.cache` is deprecated and will be removed soon. Please use one of Streamlit's new caching commands, `st.cache_data` or `st.cache_resource`.\n",
      "More information [in our docs](https://docs.streamlit.io/develop/concepts/architecture/caching).\n",
      "\n",
      "**Note**: The behavior of `st.cache` was updated in Streamlit 1.36 to the new caching logic used by `st.cache_data` and `st.cache_resource`.\n",
      "This might lead to some problems or unexpected behavior in certain edge cases.\n",
      "\n",
      "2024-08-21 05:28:49.723 No runtime found, using MemoryCacheStorageManager\n",
      "2024-08-21 05:28:49.724 \n",
      "`st.cache` is deprecated and will be removed soon. Please use one of Streamlit's new caching commands, `st.cache_data` or `st.cache_resource`.\n",
      "More information [in our docs](https://docs.streamlit.io/develop/concepts/architecture/caching).\n",
      "\n",
      "**Note**: The behavior of `st.cache` was updated in Streamlit 1.36 to the new caching logic used by `st.cache_data` and `st.cache_resource`.\n",
      "This might lead to some problems or unexpected behavior in certain edge cases.\n",
      "\n",
      "2024-08-21 05:28:49.725 No runtime found, using MemoryCacheStorageManager\n",
      "2024-08-21 05:28:49.727 \n",
      "`st.cache` is deprecated and will be removed soon. Please use one of Streamlit's new caching commands, `st.cache_data` or `st.cache_resource`.\n",
      "More information [in our docs](https://docs.streamlit.io/develop/concepts/architecture/caching).\n",
      "\n",
      "**Note**: The behavior of `st.cache` was updated in Streamlit 1.36 to the new caching logic used by `st.cache_data` and `st.cache_resource`.\n",
      "This might lead to some problems or unexpected behavior in certain edge cases.\n",
      "\n",
      "2024-08-21 05:28:49.727 No runtime found, using MemoryCacheStorageManager\n",
      "2024-08-21 05:28:49.733 \n",
      "`st.cache` is deprecated and will be removed soon. Please use one of Streamlit's new caching commands, `st.cache_data` or `st.cache_resource`.\n",
      "More information [in our docs](https://docs.streamlit.io/develop/concepts/architecture/caching).\n",
      "\n",
      "**Note**: The behavior of `st.cache` was updated in Streamlit 1.36 to the new caching logic used by `st.cache_data` and `st.cache_resource`.\n",
      "This might lead to some problems or unexpected behavior in certain edge cases.\n",
      "\n",
      "2024-08-21 05:28:49.735 No runtime found, using MemoryCacheStorageManager\n",
      "2024-08-21 05:28:49.737 \n",
      "`st.cache` is deprecated and will be removed soon. Please use one of Streamlit's new caching commands, `st.cache_data` or `st.cache_resource`.\n",
      "More information [in our docs](https://docs.streamlit.io/develop/concepts/architecture/caching).\n",
      "\n",
      "**Note**: The behavior of `st.cache` was updated in Streamlit 1.36 to the new caching logic used by `st.cache_data` and `st.cache_resource`.\n",
      "This might lead to some problems or unexpected behavior in certain edge cases.\n",
      "\n",
      "2024-08-21 05:28:49.738 No runtime found, using MemoryCacheStorageManager\n",
      "2024-08-21 05:28:49.740 \n",
      "`st.cache` is deprecated and will be removed soon. Please use one of Streamlit's new caching commands, `st.cache_data` or `st.cache_resource`.\n",
      "More information [in our docs](https://docs.streamlit.io/develop/concepts/architecture/caching).\n",
      "\n",
      "**Note**: The behavior of `st.cache` was updated in Streamlit 1.36 to the new caching logic used by `st.cache_data` and `st.cache_resource`.\n",
      "This might lead to some problems or unexpected behavior in certain edge cases.\n",
      "\n",
      "2024-08-21 05:28:49.742 No runtime found, using MemoryCacheStorageManager\n",
      "2024-08-21 05:28:49.744 \n",
      "`st.cache` is deprecated and will be removed soon. Please use one of Streamlit's new caching commands, `st.cache_data` or `st.cache_resource`.\n",
      "More information [in our docs](https://docs.streamlit.io/develop/concepts/architecture/caching).\n",
      "\n",
      "**Note**: The behavior of `st.cache` was updated in Streamlit 1.36 to the new caching logic used by `st.cache_data` and `st.cache_resource`.\n",
      "This might lead to some problems or unexpected behavior in certain edge cases.\n",
      "\n",
      "2024-08-21 05:28:49.745 No runtime found, using MemoryCacheStorageManager\n",
      "2024-08-21 05:28:49.747 \n",
      "`st.cache` is deprecated and will be removed soon. Please use one of Streamlit's new caching commands, `st.cache_data` or `st.cache_resource`.\n",
      "More information [in our docs](https://docs.streamlit.io/develop/concepts/architecture/caching).\n",
      "\n",
      "**Note**: The behavior of `st.cache` was updated in Streamlit 1.36 to the new caching logic used by `st.cache_data` and `st.cache_resource`.\n",
      "This might lead to some problems or unexpected behavior in certain edge cases.\n",
      "\n",
      "2024-08-21 05:28:49.747 No runtime found, using MemoryCacheStorageManager\n",
      "2024-08-21 05:28:49.749 \n",
      "`st.cache` is deprecated and will be removed soon. Please use one of Streamlit's new caching commands, `st.cache_data` or `st.cache_resource`.\n",
      "More information [in our docs](https://docs.streamlit.io/develop/concepts/architecture/caching).\n",
      "\n",
      "**Note**: The behavior of `st.cache` was updated in Streamlit 1.36 to the new caching logic used by `st.cache_data` and `st.cache_resource`.\n",
      "This might lead to some problems or unexpected behavior in certain edge cases.\n",
      "\n",
      "2024-08-21 05:28:49.750 No runtime found, using MemoryCacheStorageManager\n"
     ]
    },
    {
     "name": "stdout",
     "output_type": "stream",
     "text": [
      "準備完了\n"
     ]
    }
   ],
   "source": [
    "import importlib\n",
    "from pprint import pprint\n",
    "from tqdm.notebook import tqdm\n",
    "import boto3\n",
    "\n",
    "import gc\n",
    "import re\n",
    "import json\n",
    "import pandas as pd\n",
    "import numpy as np\n",
    "from tqdm.notebook import tqdm\n",
    "from PIL import Image, ImageDraw, ImageFont\n",
    "from src.config import appProperties\n",
    "import src.helpers as helpers\n",
    "import src.visualize as vis\n",
    "importlib.reload(helpers)\n",
    "importlib.reload(vis)\n",
    "\n",
    "config = appProperties('config.yml')\n",
    "\n",
    "# 駅コードのjsonファイル                                        # 2024.8.13\n",
    "path = path = f\"{config.tdm_dir}/eki_code.json\"\n",
    "with open(path, encoding=\"utf-8\") as f:\n",
    "    eki_code =  json.load(f)\n",
    "\n",
    "def get_df(tdm_fpath):\n",
    "    \"\"\" 車モニのマスタデータを読み込む\n",
    "    Args:\n",
    "        tdm_fpath(str): 車モニ マスターデータのパス\n",
    "    Return:\n",
    "        df_tdm(DataFrame): 読み込まれたデータフレーム\n",
    "    \"\"\"\n",
    "    # カラム名をS3から読み込む\n",
    "    bucket_name = 'trolley-monitor'\n",
    "    columns_csv_key = 'img-location-table/TDM_GazoFileIndex_ColumnsName.csv'\n",
    "    columns = get_columns_from_csv(bucket_name, columns_csv_key)\n",
    "    \n",
    "    # TDM(車モニCSV)をS3からダウンロードする\n",
    "    download_file_from_s3(bucket_name, csv_file, download_path)\n",
    "    print(\"車モニのマスターデータを読み込みます ※少し時間がかかります\")\n",
    "    print(f'complete: {download_path=}')\n",
    "    \n",
    "    # CSVからデータフレームを読み込む\n",
    "    print(\"車モニのマスターデータを読み込みます ※少し時間がかかります\")\n",
    "    # df_tdm = pd.read_excel(tdm_fpath)\n",
    "    df_tdm = pd.read_csv(tdm_fpath, names=columns, delimiter='|')\n",
    "    \n",
    "    # データフレームを整形する\n",
    "    df_tdm['TimeCode'] = pd.to_datetime(df_tdm['TimeCode'])\n",
    "    df_tdm = df_tdm.sort_values(by=['SokuteiDate', 'KiroTei'], ignore_index=True)\n",
    "    print(\"車モニのマスターデータを読み込みました\")\n",
    "    print(f\"データフレームのサイズ:{df_tdm.shape}\")\n",
    "    # 欲しい列だけ抽出する\n",
    "    df_tdm = df_tdm.filter([\n",
    "        'SokuteiYear', 'NennaiSeqNo', 'EkiCd', 'SenbetsuCd', 'SokuteiDate', 'DenchuNo', 'KiroTei',\n",
    "        'GazoFileNameHD11', 'GazoFileNameHD12',\n",
    "        'GazoFileNameHD21', 'GazoFileNameHD22',\n",
    "        'GazoFileNameHD31', 'GazoFileNameHD32'\n",
    "    ]).copy()\n",
    "    print(\"必要な情報だけフィルタリングしました\")\n",
    "    print(f\"データフレームのサイズ:{df_tdm.shape}\")\n",
    "    return df_tdm\n",
    "\n",
    "def get_df2(bucket_name, csv_file, columns):                                    # 2024.08.12\n",
    "    \"\"\" 車モニのマスタデータを読み込む\n",
    "    Args:\n",
    "        tdm_fpath(str): 車モニ マスターデータのパス\n",
    "    Return:\n",
    "        df_tdm(DataFrame): 読み込まれたデータフレーム\n",
    "    \"\"\"\n",
    "    \n",
    "    # TDM(車モニCSV)をS3からダウンロードする\n",
    "    download_path = f\"TDM/temp/{csv_file.split('/')[-1]}\"\n",
    "    download_file_from_s3(bucket_name, csv_file, download_path)                  # 無駄に時間かかるのでコメントアウト（後で戻す）\n",
    "    print(\"車モニのマスターデータを読み込みます ※少し時間がかかります\")               # 2024.08.12 毎回printされてしまう\n",
    "    print(f'complete: {download_path=}')\n",
    "\n",
    "    # CSVからデータフレームを読み込む\n",
    "    df_tdm = pd.read_csv(download_path, names=columns, delimiter='|')\n",
    "\n",
    "    # データフレームを整形する\n",
    "    df_tdm['TimeCode'] = pd.to_datetime(df_tdm['TimeCode'])\n",
    "    df_tdm = df_tdm.sort_values(by=['SokuteiDate', 'KiroTei'], ignore_index=True)\n",
    "    print(\"車モニのマスターデータを読み込みました\")\n",
    "    print(f\"データフレームのサイズ:{df_tdm.shape}\")\n",
    "\n",
    "    # 欲しい列だけ抽出する\n",
    "    df_tdm = df_tdm.filter([\n",
    "        'EkiCd', 'SenbetsuCd', 'SokuteiDate', 'DenchuNo', 'KiroTei',               # Comment Out    'SokuteiYear' 'NennaiSeqNo'は追加されている\n",
    "        'GazoFileNameHD11', 'GazoFileNameHD12',\n",
    "        'GazoFileNameHD21', 'GazoFileNameHD22',\n",
    "        'GazoFileNameHD31', 'GazoFileNameHD32'\n",
    "    ]).copy()\n",
    "\n",
    "    print(\"必要な情報だけフィルタリングしました\")\n",
    "    print(f\"データフレームのサイズ:{df_tdm.shape}\")\n",
    "    return df_tdm\n",
    "\n",
    "def get_df3(bucket_name, csv_file, columns):                                    # 2024.08.13\n",
    "    \"\"\" 車モニのマスタデータを読み込む\n",
    "    Args:\n",
    "        tdm_fpath(str): 車モニ マスターデータのパス\n",
    "    Return:\n",
    "        df_tdm(DataFrame): 読み込まれたデータフレーム\n",
    "    \"\"\"\n",
    "    \n",
    "    # TDM(車モニCSV)をS3からダウンロードする\n",
    "    download_path = f\"TDM/temp/{csv_file.split('/')[-1]}\"\n",
    "    download_file_from_s3(bucket_name, csv_file, download_path)                    # 無駄に時間かかるのでコメントアウト（後で戻す）\n",
    "    print(\"車モニのマスターデータを読み込みます ※少し時間がかかります\")               # 2024.08.12 毎回printされてしまう\n",
    "    print(f'complete: {download_path=}')\n",
    "\n",
    "    # CSVからデータフレームを読み込む\n",
    "    df_tdm = pd.read_csv(download_path, names=columns, delimiter='|')\n",
    "\n",
    "    # データフレームを整形する\n",
    "    df_tdm['TimeCode'] = pd.to_datetime(df_tdm['TimeCode'])\n",
    "    df_tdm = df_tdm.sort_values(by=['SokuteiDate', 'KiroTei'], ignore_index=True)\n",
    "    print(\"車モニのマスターデータを読み込みました\")\n",
    "    print(f\"データフレームのサイズ:{df_tdm.shape}\")\n",
    "\n",
    "    # 欲しい列だけ抽出する\n",
    "    df_tdm = df_tdm.filter([\n",
    "        'EkiCd', 'SenbetsuCd', 'SokuteiDate', 'DenchuNo', 'KiroTei',               # Comment Out    'SokuteiYear' 'NennaiSeqNo'は追加されている\n",
    "        'GazoFileNameHD11', 'GazoFileNameHD12',\n",
    "        'GazoFileNameHD21', 'GazoFileNameHD22',\n",
    "        'GazoFileNameHD31', 'GazoFileNameHD32'\n",
    "    ]).copy()\n",
    "\n",
    "    print(\"必要な情報だけフィルタリングしました\")\n",
    "    print(f\"データフレームのサイズ:{df_tdm.shape}\")\n",
    "    return df_tdm\n",
    "\n",
    "\n",
    "def list_csv_files(bucket_name, prefix):\n",
    "    \"\"\" S3にあるCSVの一覧をゲット\n",
    "    \"\"\"\n",
    "    s3 = boto3.client('s3')\n",
    "    paginator = s3.get_paginator('list_objects_v2')\n",
    "\n",
    "    csv_files = []\n",
    "    for page in paginator.paginate(Bucket=bucket_name, Prefix=prefix):\n",
    "        if 'Contents' in page:\n",
    "            for obj in page['Contents']:\n",
    "                if obj['Key'].endswith('.csv'):\n",
    "                    csv_files.append(obj['Key'])\n",
    "\n",
    "    return csv_files\n",
    "\n",
    "\n",
    "def download_file_from_s3(bucket_name, key, download_path):\n",
    "    \"\"\" S3からダウンロードする\n",
    "    \"\"\"\n",
    "    # print(f\"{bucket_name=} {key=} {download_path=}\")\n",
    "    s3 = boto3.client('s3')\n",
    "    s3.download_file(bucket_name, key, download_path)\n",
    "\n",
    "\n",
    "def get_columns_from_csv(bucket_name, columns_csv_key):\n",
    "    s3 = boto3.client('s3')\n",
    "    obj = s3.get_object(Bucket=bucket_name, Key=columns_csv_key)\n",
    "    columns_df = pd.read_csv(obj['Body'])\n",
    "    return columns_df.columns.tolist()\n",
    "\n",
    "\n",
    "def get_KiroTei_dict(config, df):\n",
    "    \"\"\" 走行日・線区ごとのキロ程補正情報を辞書に記録する\n",
    "    \"\"\"\n",
    "    # カメラ番号ごとに、EkiCdのはじめの行をTrueとして記録する\n",
    "    for camera_num in config.camera_types:\n",
    "        df[f\"EkiCdDiff{camera_num}\"] = df.query(f\"GazoFileName{camera_num}.notnull()\")['EkiCd'].diff().map(lambda x: x != 0)\n",
    "    # 走行日・線区ごとに、画像1枚あたりの幅(m)を算出して辞書に記録する\n",
    "    result_dict = {}\n",
    "    for camera_num in config.camera_types:\n",
    "        # grouped_df = df.query(f\"GazoFileName{camera_num}.notnull()\").groupby(['SokuteiDate', 'EkiCd'])['KiroTei_NEWSS'].count()             # 2024.6.24 Yamazwa coment out\n",
    "        grouped_df = df.query(f\"GazoFileName{camera_num}.notnull()\").groupby(['SokuteiDate', 'EkiCd'])['KiroTei'].count()               # 2024.6.24 Yamazwa add\n",
    "        for (date, ekicd), count in grouped_df.items():\n",
    "            if date not in result_dict:\n",
    "                result_dict[date] = {}\n",
    "            if ekicd not in result_dict[date]:\n",
    "                result_dict[date][ekicd] = {}\n",
    "            # print(f\"camera_num: {camera_num}, date: {date}, ekicd: {ekicd}\")\n",
    "            # KiroTei_head = df.query(f\"EkiCdDiff{camera_num}.notnull() & SokuteiDate == {date} & EkiCd == {ekicd}\")['KiroTei_NEWSS'].iloc[0]    # 2024.6.24 Yamazwa coment out\n",
    "            # KiroTei_tail = df.query(f\"EkiCdDiff{camera_num}.notnull() & SokuteiDate == {date} & EkiCd == {ekicd}\")['KiroTei_NEWSS'].iloc[-1]   # 2024.6.24 Yamazwa coment out\n",
    "            KiroTei_head = df.query(f\"EkiCdDiff{camera_num}.notnull() & SokuteiDate == {date} & EkiCd == {ekicd}\")['KiroTei'].iloc[0]            # 2024.6.24 Yamazwa add\n",
    "            KiroTei_tail = df.query(f\"EkiCdDiff{camera_num}.notnull() & SokuteiDate == {date} & EkiCd == {ekicd}\")['KiroTei'].iloc[-1]           # 2024.6.24 Yamazwa add\n",
    "            result_dict[date][ekicd][camera_num] = {\n",
    "                'KiroTei_head': KiroTei_head,\n",
    "                'KiroTei_tail': KiroTei_tail,\n",
    "                'KiroTei_dist': round(KiroTei_tail - KiroTei_head, 4),\n",
    "                'KiroTei_delta': round((KiroTei_tail - KiroTei_head) / (count - 1), 6),\n",
    "                'count': count\n",
    "            }\n",
    "    return df, result_dict\n",
    "\n",
    "\n",
    "def get_Kiro_offset(df_tdm, ref_point, date):\n",
    "    \"\"\" 基準位置を指定し、検測キロ程をNEWSSキロ程に変換するオフセット値を取得する\n",
    "    Args:\n",
    "    \n",
    "    Return:\n",
    "    \n",
    "    \"\"\"\n",
    "    pole_num_matched = df_tdm.query(\n",
    "        f\"EkiCd == {ref_point['EkiCd_NEWSS']} & SokuteiDate == {date} & DenchuNo == {ref_point['pole_num_NEWSS']}\"\n",
    "    ).index.tolist()\n",
    "    pole_kiro_twins = df_tdm.loc[min(pole_num_matched)]['KiroTei']\n",
    "    pole_kiro_offset = ref_point['pole_kilo_NEWSS'] - pole_kiro_twins\n",
    "    print(f\"基準にする電柱の検測キロ程: {pole_kiro_twins}km\")\n",
    "    print(f\"　　　キロ程のオフセット値: {pole_kiro_offset}km\")\n",
    "    return pole_kiro_offset\n",
    "\n",
    "\n",
    "def get_Kiro_NEWSS(df_tdm, kiro_offset_dict):\n",
    "    df_tdm['KiroTei_NEWSS'] = df_tdm.apply(lambda row: row['KiroTei'] + kiro_offset_dict[row['SokuteiDate']], axis=1)\n",
    "    return df_tdm\n",
    "\n",
    "\n",
    "def set_imgKiro(config, dir_area, df_tdm):\n",
    "    imgKilo = {}\n",
    "    for camera_num in config.camera_types:\n",
    "        # カメラフォルダ内の画像ファイルを取得\n",
    "        image_dir = f\"{config.image_dir}/{dir_area}/{camera_num}/\"\n",
    "        print(image_dir)\n",
    "        list_images = helpers.list_images(image_dir)\n",
    "        print(f\"Image counts:{len(list_images)}\")\n",
    "        # 画像ファイル名に対応するキロ程を抽出して辞書型で記録する\n",
    "        imgKilo_temp = {}\n",
    "        # imgKilo_temp_values = {}\n",
    "        for fname in tqdm(list_images):\n",
    "        # for fname in list_images:\n",
    "            image_name = re.split('[./]', fname)[-2]\n",
    "            df_tdm_Series = df_tdm[df_tdm[f\"GazoFileName{camera_num}\"] == image_name].copy()\n",
    "            if df_tdm_Series.empty:\n",
    "                continue\n",
    "            else:\n",
    "                DenchuNo = df_tdm_Series['DenchuNo'].item()\n",
    "                KiroTei = df_tdm_Series['KiroTei_NEWSS'].round(4).item()\n",
    "\n",
    "            # imgKilo_temp_values[\"DenchuNo\"] = DenchuNo\n",
    "            # imgKilo_temp_values[\"KiroTei\"] = KiroTei\n",
    "            # imgKilo_temp[image_name] = imgKilo_temp_values.copy()\n",
    "            imgKilo_temp[image_name] = {\n",
    "                \"DenchuNo\": DenchuNo,\n",
    "                \"KiroTei\": KiroTei\n",
    "            }\n",
    "\n",
    "        if imgKilo_temp != {}:                                                                       # 2024.6.28 Yamazwa add\n",
    "            imgKilo[camera_num] = imgKilo_temp.copy()\n",
    "\n",
    "    return imgKilo\n",
    "\n",
    "print(\"準備完了\")"
   ]
  },
  {
   "cell_type": "markdown",
   "id": "7a52fc45-585d-480f-8982-cd48f6f40d1a",
   "metadata": {},
   "source": [
    "## 2. 車モニデータを利用して画像ごとのキロ程マスターデータ(JSON)を作成する\n",
    "```\n",
    "ファイルパスなどを設定する\n",
    "車モニのマスターデータは検測キロ程になっているため、NEWSSキロ程に合わせる基準を設定する\n",
    "```"
   ]
  },
  {
   "cell_type": "code",
   "execution_count": 4,
   "id": "df4ca01d-f9a5-43b3-a2a5-9d3219e4f9e0",
   "metadata": {
    "scrolled": true,
    "tags": []
   },
   "outputs": [
    {
     "name": "stdout",
     "output_type": "stream",
     "text": [
      "参考\n",
      "S3にあるTDM(車モニCSV):\n",
      "0> img-location-table/2024Q1/2024_0001-0180/TDM_GazoFileIndex_2024_0001.csv\n",
      "1> img-location-table/2024Q1/2024_0001-0180/TDM_GazoFileIndex_2024_0002.csv\n",
      "2> img-location-table/2024Q1/2024_0001-0180/TDM_GazoFileIndex_2024_0003.csv\n",
      "3> img-location-table/2024Q1/2024_0001-0180/TDM_GazoFileIndex_2024_0004.csv\n",
      "4> img-location-table/2024Q1/2024_0001-0180/TDM_GazoFileIndex_2024_0005.csv\n",
      "5> img-location-table/2024Q1/2024_0001-0180/TDM_GazoFileIndex_2024_0006.csv\n",
      "6> img-location-table/2024Q1/2024_0001-0180/TDM_GazoFileIndex_2024_0007.csv\n",
      "7> img-location-table/2024Q1/2024_0001-0180/TDM_GazoFileIndex_2024_0008.csv\n",
      "8> img-location-table/2024Q1/2024_0001-0180/TDM_GazoFileIndex_2024_0009.csv\n",
      "9> img-location-table/2024Q1/2024_0001-0180/TDM_GazoFileIndex_2024_0010.csv\n",
      "10> img-location-table/2024Q1/2024_0001-0180/TDM_GazoFileIndex_2024_0011.csv\n",
      "11> img-location-table/2024Q1/2024_0001-0180/TDM_GazoFileIndex_2024_0012.csv\n",
      "12> img-location-table/2024Q1/2024_0001-0180/TDM_GazoFileIndex_2024_0013.csv\n",
      "13> img-location-table/2024Q1/2024_0001-0180/TDM_GazoFileIndex_2024_0014.csv\n",
      "14> img-location-table/2024Q1/2024_0001-0180/TDM_GazoFileIndex_2024_0015.csv\n",
      "15> img-location-table/2024Q1/2024_0001-0180/TDM_GazoFileIndex_2024_0016.csv\n",
      "16> img-location-table/2024Q1/2024_0001-0180/TDM_GazoFileIndex_2024_0017.csv\n",
      "17> img-location-table/2024Q1/2024_0001-0180/TDM_GazoFileIndex_2024_0018.csv\n",
      "18> img-location-table/2024Q1/2024_0001-0180/TDM_GazoFileIndex_2024_0019.csv\n",
      "19> img-location-table/2024Q1/2024_0001-0180/TDM_GazoFileIndex_2024_0020.csv\n",
      "20> img-location-table/2024Q1/2024_0001-0180/TDM_GazoFileIndex_2024_0021.csv\n",
      "21> img-location-table/2024Q1/2024_0001-0180/TDM_GazoFileIndex_2024_0022.csv\n",
      "22> img-location-table/2024Q1/2024_0001-0180/TDM_GazoFileIndex_2024_0023.csv\n",
      "23> img-location-table/2024Q1/2024_0001-0180/TDM_GazoFileIndex_2024_0024.csv\n",
      "24> img-location-table/2024Q1/2024_0001-0180/TDM_GazoFileIndex_2024_0025.csv\n",
      "25> img-location-table/2024Q1/2024_0001-0180/TDM_GazoFileIndex_2024_0026.csv\n",
      "26> img-location-table/2024Q1/2024_0001-0180/TDM_GazoFileIndex_2024_0027.csv\n",
      "27> img-location-table/2024Q1/2024_0001-0180/TDM_GazoFileIndex_2024_0028.csv\n",
      "28> img-location-table/2024Q1/2024_0001-0180/TDM_GazoFileIndex_2024_0029.csv\n",
      "29> img-location-table/2024Q1/2024_0001-0180/TDM_GazoFileIndex_2024_0030.csv\n",
      "30> img-location-table/2024Q1/2024_0001-0180/TDM_GazoFileIndex_2024_0031.csv\n",
      "31> img-location-table/2024Q1/2024_0001-0180/TDM_GazoFileIndex_2024_0032.csv\n",
      "32> img-location-table/2024Q1/2024_0001-0180/TDM_GazoFileIndex_2024_0033.csv\n",
      "33> img-location-table/2024Q1/2024_0001-0180/TDM_GazoFileIndex_2024_0034.csv\n",
      "34> img-location-table/2024Q1/2024_0001-0180/TDM_GazoFileIndex_2024_0035.csv\n",
      "35> img-location-table/2024Q1/2024_0001-0180/TDM_GazoFileIndex_2024_0036.csv\n",
      "36> img-location-table/2024Q1/2024_0001-0180/TDM_GazoFileIndex_2024_0037.csv\n",
      "37> img-location-table/2024Q1/2024_0001-0180/TDM_GazoFileIndex_2024_0038.csv\n",
      "38> img-location-table/2024Q1/2024_0001-0180/TDM_GazoFileIndex_2024_0039.csv\n",
      "39> img-location-table/2024Q1/2024_0001-0180/TDM_GazoFileIndex_2024_0040.csv\n",
      "40> img-location-table/2024Q1/2024_0001-0180/TDM_GazoFileIndex_2024_0041.csv\n",
      "41> img-location-table/2024Q1/2024_0001-0180/TDM_GazoFileIndex_2024_0042.csv\n",
      "42> img-location-table/2024Q1/2024_0001-0180/TDM_GazoFileIndex_2024_0043.csv\n",
      "43> img-location-table/2024Q1/2024_0001-0180/TDM_GazoFileIndex_2024_0044.csv\n",
      "44> img-location-table/2024Q1/2024_0001-0180/TDM_GazoFileIndex_2024_0045.csv\n",
      "45> img-location-table/2024Q1/2024_0001-0180/TDM_GazoFileIndex_2024_0046.csv\n",
      "46> img-location-table/2024Q1/2024_0001-0180/TDM_GazoFileIndex_2024_0047.csv\n",
      "47> img-location-table/2024Q1/2024_0001-0180/TDM_GazoFileIndex_2024_0048.csv\n",
      "48> img-location-table/2024Q1/2024_0001-0180/TDM_GazoFileIndex_2024_0049.csv\n",
      "49> img-location-table/2024Q1/2024_0001-0180/TDM_GazoFileIndex_2024_0050.csv\n",
      "50> img-location-table/2024Q1/2024_0001-0180/TDM_GazoFileIndex_2024_0051.csv\n",
      "51> img-location-table/2024Q1/2024_0001-0180/TDM_GazoFileIndex_2024_0052.csv\n",
      "52> img-location-table/2024Q1/2024_0001-0180/TDM_GazoFileIndex_2024_0053.csv\n",
      "53> img-location-table/2024Q1/2024_0001-0180/TDM_GazoFileIndex_2024_0054.csv\n",
      "54> img-location-table/2024Q1/2024_0001-0180/TDM_GazoFileIndex_2024_0055.csv\n",
      "55> img-location-table/2024Q1/2024_0001-0180/TDM_GazoFileIndex_2024_0056.csv\n",
      "56> img-location-table/2024Q1/2024_0001-0180/TDM_GazoFileIndex_2024_0057.csv\n",
      "57> img-location-table/2024Q1/2024_0001-0180/TDM_GazoFileIndex_2024_0058.csv\n",
      "58> img-location-table/2024Q1/2024_0001-0180/TDM_GazoFileIndex_2024_0059.csv\n",
      "59> img-location-table/2024Q1/2024_0001-0180/TDM_GazoFileIndex_2024_0060.csv\n",
      "60> img-location-table/2024Q1/2024_0001-0180/TDM_GazoFileIndex_2024_0061.csv\n",
      "61> img-location-table/2024Q1/2024_0001-0180/TDM_GazoFileIndex_2024_0062.csv\n",
      "62> img-location-table/2024Q1/2024_0001-0180/TDM_GazoFileIndex_2024_0063.csv\n",
      "63> img-location-table/2024Q1/2024_0001-0180/TDM_GazoFileIndex_2024_0064.csv\n",
      "64> img-location-table/2024Q1/2024_0001-0180/TDM_GazoFileIndex_2024_0065.csv\n",
      "65> img-location-table/2024Q1/2024_0001-0180/TDM_GazoFileIndex_2024_0066.csv\n",
      "66> img-location-table/2024Q1/2024_0001-0180/TDM_GazoFileIndex_2024_0067.csv\n",
      "67> img-location-table/2024Q1/2024_0001-0180/TDM_GazoFileIndex_2024_0068.csv\n",
      "68> img-location-table/2024Q1/2024_0001-0180/TDM_GazoFileIndex_2024_0069.csv\n",
      "69> img-location-table/2024Q1/2024_0001-0180/TDM_GazoFileIndex_2024_0070.csv\n",
      "70> img-location-table/2024Q1/2024_0001-0180/TDM_GazoFileIndex_2024_0071.csv\n",
      "71> img-location-table/2024Q1/2024_0001-0180/TDM_GazoFileIndex_2024_0072.csv\n",
      "72> img-location-table/2024Q1/2024_0001-0180/TDM_GazoFileIndex_2024_0073.csv\n",
      "73> img-location-table/2024Q1/2024_0001-0180/TDM_GazoFileIndex_2024_0074.csv\n",
      "74> img-location-table/2024Q1/2024_0001-0180/TDM_GazoFileIndex_2024_0075.csv\n",
      "75> img-location-table/2024Q1/2024_0001-0180/TDM_GazoFileIndex_2024_0076.csv\n",
      "76> img-location-table/2024Q1/2024_0001-0180/TDM_GazoFileIndex_2024_0077.csv\n",
      "77> img-location-table/2024Q1/2024_0001-0180/TDM_GazoFileIndex_2024_0078.csv\n",
      "78> img-location-table/2024Q1/2024_0001-0180/TDM_GazoFileIndex_2024_0079.csv\n",
      "79> img-location-table/2024Q1/2024_0001-0180/TDM_GazoFileIndex_2024_0080.csv\n",
      "80> img-location-table/2024Q1/2024_0001-0180/TDM_GazoFileIndex_2024_0081.csv\n",
      "81> img-location-table/2024Q1/2024_0001-0180/TDM_GazoFileIndex_2024_0082.csv\n",
      "82> img-location-table/2024Q1/2024_0001-0180/TDM_GazoFileIndex_2024_0083.csv\n",
      "83> img-location-table/2024Q1/2024_0001-0180/TDM_GazoFileIndex_2024_0084.csv\n",
      "84> img-location-table/2024Q1/2024_0001-0180/TDM_GazoFileIndex_2024_0085.csv\n",
      "85> img-location-table/2024Q1/2024_0001-0180/TDM_GazoFileIndex_2024_0086.csv\n",
      "86> img-location-table/2024Q1/2024_0001-0180/TDM_GazoFileIndex_2024_0087.csv\n",
      "87> img-location-table/2024Q1/2024_0001-0180/TDM_GazoFileIndex_2024_0088.csv\n",
      "88> img-location-table/2024Q1/2024_0001-0180/TDM_GazoFileIndex_2024_0089.csv\n",
      "89> img-location-table/2024Q1/2024_0001-0180/TDM_GazoFileIndex_2024_0090.csv\n",
      "90> img-location-table/2024Q1/2024_0001-0180/TDM_GazoFileIndex_2024_0091.csv\n",
      "91> img-location-table/2024Q1/2024_0001-0180/TDM_GazoFileIndex_2024_0092.csv\n",
      "92> img-location-table/2024Q1/2024_0001-0180/TDM_GazoFileIndex_2024_0093.csv\n",
      "93> img-location-table/2024Q1/2024_0001-0180/TDM_GazoFileIndex_2024_0094.csv\n",
      "94> img-location-table/2024Q1/2024_0001-0180/TDM_GazoFileIndex_2024_0095.csv\n",
      "95> img-location-table/2024Q1/2024_0001-0180/TDM_GazoFileIndex_2024_0096.csv\n",
      "96> img-location-table/2024Q1/2024_0001-0180/TDM_GazoFileIndex_2024_0097.csv\n",
      "97> img-location-table/2024Q1/2024_0001-0180/TDM_GazoFileIndex_2024_0098.csv\n",
      "98> img-location-table/2024Q1/2024_0001-0180/TDM_GazoFileIndex_2024_0099.csv\n",
      "99> img-location-table/2024Q1/2024_0001-0180/TDM_GazoFileIndex_2024_0100.csv\n",
      "100> img-location-table/2024Q1/2024_0001-0180/TDM_GazoFileIndex_2024_0101.csv\n",
      "101> img-location-table/2024Q1/2024_0001-0180/TDM_GazoFileIndex_2024_0102.csv\n",
      "102> img-location-table/2024Q1/2024_0001-0180/TDM_GazoFileIndex_2024_0103.csv\n",
      "103> img-location-table/2024Q1/2024_0001-0180/TDM_GazoFileIndex_2024_0104.csv\n",
      "104> img-location-table/2024Q1/2024_0001-0180/TDM_GazoFileIndex_2024_0105.csv\n",
      "105> img-location-table/2024Q1/2024_0001-0180/TDM_GazoFileIndex_2024_0106.csv\n",
      "106> img-location-table/2024Q1/2024_0001-0180/TDM_GazoFileIndex_2024_0107.csv\n",
      "107> img-location-table/2024Q1/2024_0001-0180/TDM_GazoFileIndex_2024_0108.csv\n",
      "108> img-location-table/2024Q1/2024_0001-0180/TDM_GazoFileIndex_2024_0109.csv\n",
      "109> img-location-table/2024Q1/2024_0001-0180/TDM_GazoFileIndex_2024_0110.csv\n",
      "110> img-location-table/2024Q1/2024_0001-0180/TDM_GazoFileIndex_2024_0111.csv\n",
      "111> img-location-table/2024Q1/2024_0001-0180/TDM_GazoFileIndex_2024_0112.csv\n",
      "112> img-location-table/2024Q1/2024_0001-0180/TDM_GazoFileIndex_2024_0113.csv\n",
      "113> img-location-table/2024Q1/2024_0001-0180/TDM_GazoFileIndex_2024_0114.csv\n",
      "114> img-location-table/2024Q1/2024_0001-0180/TDM_GazoFileIndex_2024_0115.csv\n",
      "115> img-location-table/2024Q1/2024_0001-0180/TDM_GazoFileIndex_2024_0116.csv\n",
      "116> img-location-table/2024Q1/2024_0001-0180/TDM_GazoFileIndex_2024_0117.csv\n",
      "117> img-location-table/2024Q1/2024_0001-0180/TDM_GazoFileIndex_2024_0118.csv\n",
      "118> img-location-table/2024Q1/2024_0001-0180/TDM_GazoFileIndex_2024_0119.csv\n",
      "119> img-location-table/2024Q1/2024_0001-0180/TDM_GazoFileIndex_2024_0120.csv\n",
      "120> img-location-table/2024Q1/2024_0001-0180/TDM_GazoFileIndex_2024_0121.csv\n",
      "121> img-location-table/2024Q1/2024_0001-0180/TDM_GazoFileIndex_2024_0122.csv\n",
      "122> img-location-table/2024Q1/2024_0001-0180/TDM_GazoFileIndex_2024_0123.csv\n",
      "123> img-location-table/2024Q1/2024_0001-0180/TDM_GazoFileIndex_2024_0124.csv\n",
      "124> img-location-table/2024Q1/2024_0001-0180/TDM_GazoFileIndex_2024_0125.csv\n",
      "125> img-location-table/2024Q1/2024_0001-0180/TDM_GazoFileIndex_2024_0126.csv\n",
      "126> img-location-table/2024Q1/2024_0001-0180/TDM_GazoFileIndex_2024_0127.csv\n",
      "127> img-location-table/2024Q1/2024_0001-0180/TDM_GazoFileIndex_2024_0128.csv\n",
      "128> img-location-table/2024Q1/2024_0001-0180/TDM_GazoFileIndex_2024_0129.csv\n",
      "129> img-location-table/2024Q1/2024_0001-0180/TDM_GazoFileIndex_2024_0130.csv\n",
      "130> img-location-table/2024Q1/2024_0001-0180/TDM_GazoFileIndex_2024_0131.csv\n",
      "131> img-location-table/2024Q1/2024_0001-0180/TDM_GazoFileIndex_2024_0132.csv\n",
      "132> img-location-table/2024Q1/2024_0001-0180/TDM_GazoFileIndex_2024_0133.csv\n",
      "133> img-location-table/2024Q1/2024_0001-0180/TDM_GazoFileIndex_2024_0134.csv\n",
      "134> img-location-table/2024Q1/2024_0001-0180/TDM_GazoFileIndex_2024_0135.csv\n",
      "135> img-location-table/2024Q1/2024_0001-0180/TDM_GazoFileIndex_2024_0136.csv\n",
      "136> img-location-table/2024Q1/2024_0001-0180/TDM_GazoFileIndex_2024_0137.csv\n",
      "137> img-location-table/2024Q1/2024_0001-0180/TDM_GazoFileIndex_2024_0138.csv\n",
      "138> img-location-table/2024Q1/2024_0001-0180/TDM_GazoFileIndex_2024_0139.csv\n",
      "139> img-location-table/2024Q1/2024_0001-0180/TDM_GazoFileIndex_2024_0140.csv\n",
      "140> img-location-table/2024Q1/2024_0001-0180/TDM_GazoFileIndex_2024_0141.csv\n",
      "141> img-location-table/2024Q1/2024_0001-0180/TDM_GazoFileIndex_2024_0142.csv\n",
      "142> img-location-table/2024Q1/2024_0001-0180/TDM_GazoFileIndex_2024_0143.csv\n",
      "143> img-location-table/2024Q1/2024_0001-0180/TDM_GazoFileIndex_2024_0144.csv\n",
      "144> img-location-table/2024Q1/2024_0001-0180/TDM_GazoFileIndex_2024_0145.csv\n",
      "145> img-location-table/2024Q1/2024_0001-0180/TDM_GazoFileIndex_2024_0146.csv\n",
      "146> img-location-table/2024Q1/2024_0001-0180/TDM_GazoFileIndex_2024_0147.csv\n",
      "147> img-location-table/2024Q1/2024_0001-0180/TDM_GazoFileIndex_2024_0148.csv\n",
      "148> img-location-table/2024Q1/2024_0001-0180/TDM_GazoFileIndex_2024_0149.csv\n",
      "149> img-location-table/2024Q1/2024_0001-0180/TDM_GazoFileIndex_2024_0150.csv\n",
      "150> img-location-table/2024Q1/2024_0001-0180/TDM_GazoFileIndex_2024_0151.csv\n",
      "151> img-location-table/2024Q1/2024_0001-0180/TDM_GazoFileIndex_2024_0152.csv\n",
      "152> img-location-table/2024Q1/2024_0001-0180/TDM_GazoFileIndex_2024_0153.csv\n",
      "153> img-location-table/2024Q1/2024_0001-0180/TDM_GazoFileIndex_2024_0154.csv\n",
      "154> img-location-table/2024Q1/2024_0001-0180/TDM_GazoFileIndex_2024_0155.csv\n",
      "155> img-location-table/2024Q1/2024_0001-0180/TDM_GazoFileIndex_2024_0156.csv\n",
      "156> img-location-table/2024Q1/2024_0001-0180/TDM_GazoFileIndex_2024_0157.csv\n",
      "157> img-location-table/2024Q1/2024_0001-0180/TDM_GazoFileIndex_2024_0158.csv\n",
      "158> img-location-table/2024Q1/2024_0001-0180/TDM_GazoFileIndex_2024_0159.csv\n",
      "159> img-location-table/2024Q1/2024_0001-0180/TDM_GazoFileIndex_2024_0160.csv\n",
      "160> img-location-table/2024Q1/2024_0001-0180/TDM_GazoFileIndex_2024_0161.csv\n",
      "161> img-location-table/2024Q1/2024_0001-0180/TDM_GazoFileIndex_2024_0162.csv\n",
      "162> img-location-table/2024Q1/2024_0001-0180/TDM_GazoFileIndex_2024_0163.csv\n",
      "163> img-location-table/2024Q1/2024_0001-0180/TDM_GazoFileIndex_2024_0164.csv\n",
      "164> img-location-table/2024Q1/2024_0001-0180/TDM_GazoFileIndex_2024_0165.csv\n",
      "165> img-location-table/2024Q1/2024_0001-0180/TDM_GazoFileIndex_2024_0166.csv\n",
      "166> img-location-table/2024Q1/2024_0001-0180/TDM_GazoFileIndex_2024_0167.csv\n",
      "167> img-location-table/2024Q1/2024_0001-0180/TDM_GazoFileIndex_2024_0168.csv\n",
      "168> img-location-table/2024Q1/2024_0001-0180/TDM_GazoFileIndex_2024_0169.csv\n",
      "169> img-location-table/2024Q1/2024_0001-0180/TDM_GazoFileIndex_2024_0170.csv\n",
      "170> img-location-table/2024Q1/2024_0001-0180/TDM_GazoFileIndex_2024_0171.csv\n",
      "171> img-location-table/2024Q1/2024_0001-0180/TDM_GazoFileIndex_2024_0172.csv\n",
      "172> img-location-table/2024Q1/2024_0001-0180/TDM_GazoFileIndex_2024_0173.csv\n",
      "173> img-location-table/2024Q1/2024_0001-0180/TDM_GazoFileIndex_2024_0174.csv\n",
      "174> img-location-table/2024Q1/2024_0001-0180/TDM_GazoFileIndex_2024_0175.csv\n",
      "175> img-location-table/2024Q1/2024_0001-0180/TDM_GazoFileIndex_2024_0176.csv\n",
      "176> img-location-table/2024Q1/2024_0001-0180/TDM_GazoFileIndex_2024_0177.csv\n",
      "177> img-location-table/2024Q1/2024_0001-0180/TDM_GazoFileIndex_2024_0178.csv\n",
      "178> img-location-table/2024Q1/2024_0001-0180/TDM_GazoFileIndex_2024_0179.csv\n",
      "179> img-location-table/2024Q1/2024_0001-0180/TDM_GazoFileIndex_2024_0180.csv\n"
     ]
    }
   ],
   "source": [
    "# S3にあるCSVファイルを読み込む\n",
    "bucket_name = 'trolley-monitor'\n",
    "prefix = 'img-location-table/2024Q1/2024_0001-0180/'\n",
    "csv_files = list_csv_files(bucket_name, prefix)\n",
    "print(\"参考\")\n",
    "print(f\"S3にあるTDM(車モニCSV):\")\n",
    "for i, csv_file in enumerate(csv_files):\n",
    "    print(f\"{i}> {csv_file}\")"
   ]
  },
  {
   "cell_type": "code",
   "execution_count": 5,
   "id": "8aeb3950-d3a4-4ba5-a69f-8ac372da9697",
   "metadata": {
    "tags": []
   },
   "outputs": [
    {
     "data": {
      "application/vnd.jupyter.widget-view+json": {
       "model_id": "76e39c4260e145269de83879b2feaa92",
       "version_major": 2,
       "version_minor": 0
      },
      "text/plain": [
       "  0%|          | 0/180 [00:00<?, ?it/s]"
      ]
     },
     "metadata": {},
     "output_type": "display_data"
    },
    {
     "name": "stdout",
     "output_type": "stream",
     "text": [
      "車モニのマスターデータを読み込みます ※少し時間がかかります\n",
      "complete: download_path='TDM/temp/TDM_GazoFileIndex_2024_0004.csv'\n"
     ]
    },
    {
     "name": "stderr",
     "output_type": "stream",
     "text": [
      "/tmp/ipykernel_1550/3673016867.py:79: DtypeWarning: Columns (23,26,29,32) have mixed types. Specify dtype option on import or set low_memory=False.\n",
      "  df_tdm = pd.read_csv(download_path, names=columns, delimiter='|')\n"
     ]
    },
    {
     "name": "stdout",
     "output_type": "stream",
     "text": [
      "車モニのマスターデータを読み込みました\n",
      "データフレームのサイズ:(83501, 90)\n",
      "必要な情報だけフィルタリングしました\n",
      "データフレームのサイズ:(83501, 11)\n",
      "基準にする電柱の検測キロ程: 37.2817km\n",
      "　　　キロ程のオフセット値: -0.14269999999999783km\n",
      "画像フォルダ名：Joban_001_Toride-st_down_20240402_day\n",
      "基準にする電柱：1\n",
      "　　　　キロ程：37.139\n",
      "検測キロ程ズレ：-0.143\n",
      "imgs/Joban_001_Toride-st_down_20240402_day/HD11/\n",
      "Image counts:1036\n"
     ]
    },
    {
     "data": {
      "application/vnd.jupyter.widget-view+json": {
       "model_id": "e59fd44a38844e46bd1e55f98d93e6e8",
       "version_major": 2,
       "version_minor": 0
      },
      "text/plain": [
       "  0%|          | 0/1036 [00:00<?, ?it/s]"
      ]
     },
     "metadata": {},
     "output_type": "display_data"
    },
    {
     "name": "stdout",
     "output_type": "stream",
     "text": [
      "imgs/Joban_001_Toride-st_down_20240402_day/HD12/\n",
      "Image counts:1036\n"
     ]
    },
    {
     "data": {
      "application/vnd.jupyter.widget-view+json": {
       "model_id": "b58c912a02df49e3a2cfe6d00d0d2ae1",
       "version_major": 2,
       "version_minor": 0
      },
      "text/plain": [
       "  0%|          | 0/1036 [00:00<?, ?it/s]"
      ]
     },
     "metadata": {},
     "output_type": "display_data"
    },
    {
     "name": "stdout",
     "output_type": "stream",
     "text": [
      "imgs/Joban_001_Toride-st_down_20240402_day/HD21/\n",
      "Image counts:1036\n"
     ]
    },
    {
     "data": {
      "application/vnd.jupyter.widget-view+json": {
       "model_id": "9d282169173d4154a9e5ef6bbb3ebf90",
       "version_major": 2,
       "version_minor": 0
      },
      "text/plain": [
       "  0%|          | 0/1036 [00:00<?, ?it/s]"
      ]
     },
     "metadata": {},
     "output_type": "display_data"
    },
    {
     "name": "stdout",
     "output_type": "stream",
     "text": [
      "imgs/Joban_001_Toride-st_down_20240402_day/HD22/\n",
      "Image counts:1036\n"
     ]
    },
    {
     "data": {
      "application/vnd.jupyter.widget-view+json": {
       "model_id": "8b691e5b672a4fda867fb9d8ee73077b",
       "version_major": 2,
       "version_minor": 0
      },
      "text/plain": [
       "  0%|          | 0/1036 [00:00<?, ?it/s]"
      ]
     },
     "metadata": {},
     "output_type": "display_data"
    },
    {
     "name": "stdout",
     "output_type": "stream",
     "text": [
      "imgs/Joban_001_Toride-st_down_20240402_day/HD31/\n",
      "Image counts:1036\n"
     ]
    },
    {
     "data": {
      "application/vnd.jupyter.widget-view+json": {
       "model_id": "1258b279d64348d8b2a1c9a948525e5a",
       "version_major": 2,
       "version_minor": 0
      },
      "text/plain": [
       "  0%|          | 0/1036 [00:00<?, ?it/s]"
      ]
     },
     "metadata": {},
     "output_type": "display_data"
    },
    {
     "name": "stdout",
     "output_type": "stream",
     "text": [
      "imgs/Joban_001_Toride-st_down_20240402_day/HD32/\n",
      "Image counts:1036\n"
     ]
    },
    {
     "data": {
      "application/vnd.jupyter.widget-view+json": {
       "model_id": "e9339b3bbc1a46d6b247ef8ae0b94c88",
       "version_major": 2,
       "version_minor": 0
      },
      "text/plain": [
       "  0%|          | 0/1036 [00:00<?, ?it/s]"
      ]
     },
     "metadata": {},
     "output_type": "display_data"
    },
    {
     "name": "stdout",
     "output_type": "stream",
     "text": [
      "画像ファイルごとのキロ程情報をTDM/Joban_001_Toride-st_down_20240402_day.jsonに記録しました\n",
      "<class 'pandas.core.frame.DataFrame'>\n",
      "RangeIndex: 83501 entries, 0 to 83500\n",
      "Data columns (total 18 columns):\n",
      " #   Column            Non-Null Count  Dtype  \n",
      "---  ------            --------------  -----  \n",
      " 0   EkiCd             83501 non-null  int64  \n",
      " 1   SenbetsuCd        83501 non-null  int64  \n",
      " 2   SokuteiDate       83501 non-null  int64  \n",
      " 3   DenchuNo          83501 non-null  int64  \n",
      " 4   KiroTei           83501 non-null  float64\n",
      " 5   GazoFileNameHD11  34503 non-null  object \n",
      " 6   GazoFileNameHD12  34503 non-null  object \n",
      " 7   GazoFileNameHD21  34501 non-null  object \n",
      " 8   GazoFileNameHD22  34501 non-null  object \n",
      " 9   GazoFileNameHD31  34501 non-null  object \n",
      " 10  GazoFileNameHD32  34501 non-null  object \n",
      " 11  EkiCdDiffHD11     34503 non-null  object \n",
      " 12  EkiCdDiffHD12     34503 non-null  object \n",
      " 13  EkiCdDiffHD21     34501 non-null  object \n",
      " 14  EkiCdDiffHD22     34501 non-null  object \n",
      " 15  EkiCdDiffHD31     34501 non-null  object \n",
      " 16  EkiCdDiffHD32     34501 non-null  object \n",
      " 17  KiroTei_NEWSS     83501 non-null  float64\n",
      "dtypes: float64(2), int64(4), object(12)\n",
      "memory usage: 11.5+ MB\n",
      "None\n"
     ]
    },
    {
     "data": {
      "application/vnd.jupyter.widget-view+json": {
       "model_id": "94e3fd423ba44c31a29b7ed9e35e3c52",
       "version_major": 2,
       "version_minor": 0
      },
      "text/plain": [
       "  0%|          | 0/180 [00:00<?, ?it/s]"
      ]
     },
     "metadata": {},
     "output_type": "display_data"
    },
    {
     "name": "stdout",
     "output_type": "stream",
     "text": [
      "車モニのマスターデータを読み込みます ※少し時間がかかります\n",
      "complete: download_path='TDM/temp/TDM_GazoFileIndex_2024_0004.csv'\n"
     ]
    },
    {
     "name": "stderr",
     "output_type": "stream",
     "text": [
      "/tmp/ipykernel_1550/3673016867.py:79: DtypeWarning: Columns (23,26,29,32) have mixed types. Specify dtype option on import or set low_memory=False.\n",
      "  df_tdm = pd.read_csv(download_path, names=columns, delimiter='|')\n"
     ]
    },
    {
     "name": "stdout",
     "output_type": "stream",
     "text": [
      "車モニのマスターデータを読み込みました\n",
      "データフレームのサイズ:(83501, 90)\n",
      "必要な情報だけフィルタリングしました\n",
      "データフレームのサイズ:(83501, 11)\n",
      "基準にする電柱の検測キロ程: 38.1617km\n",
      "　　　キロ程のオフセット値: -0.14270000000000493km\n",
      "画像フォルダ名：Joban_002_Toride-Fujishiro_down_20240402_day\n",
      "基準にする電柱：1\n",
      "　　　　キロ程：38.019\n",
      "検測キロ程ズレ：-0.143\n",
      "imgs/Joban_002_Toride-Fujishiro_down_20240402_day/HD11/\n",
      "Image counts:2030\n"
     ]
    },
    {
     "data": {
      "application/vnd.jupyter.widget-view+json": {
       "model_id": "edd28eb17eaa45a7955aba9478ee561a",
       "version_major": 2,
       "version_minor": 0
      },
      "text/plain": [
       "  0%|          | 0/2030 [00:00<?, ?it/s]"
      ]
     },
     "metadata": {},
     "output_type": "display_data"
    },
    {
     "name": "stdout",
     "output_type": "stream",
     "text": [
      "imgs/Joban_002_Toride-Fujishiro_down_20240402_day/HD12/\n",
      "Image counts:2030\n"
     ]
    },
    {
     "data": {
      "application/vnd.jupyter.widget-view+json": {
       "model_id": "88cbeedb841449a385b5f4ae7bf0cc70",
       "version_major": 2,
       "version_minor": 0
      },
      "text/plain": [
       "  0%|          | 0/2030 [00:00<?, ?it/s]"
      ]
     },
     "metadata": {},
     "output_type": "display_data"
    },
    {
     "name": "stdout",
     "output_type": "stream",
     "text": [
      "imgs/Joban_002_Toride-Fujishiro_down_20240402_day/HD21/\n",
      "Image counts:2028\n"
     ]
    },
    {
     "data": {
      "application/vnd.jupyter.widget-view+json": {
       "model_id": "708744d0ef1b4d3893c2c7266f139373",
       "version_major": 2,
       "version_minor": 0
      },
      "text/plain": [
       "  0%|          | 0/2028 [00:00<?, ?it/s]"
      ]
     },
     "metadata": {},
     "output_type": "display_data"
    },
    {
     "name": "stdout",
     "output_type": "stream",
     "text": [
      "imgs/Joban_002_Toride-Fujishiro_down_20240402_day/HD22/\n",
      "Image counts:2028\n"
     ]
    },
    {
     "data": {
      "application/vnd.jupyter.widget-view+json": {
       "model_id": "93d2c772a25142d6813b2041927c2850",
       "version_major": 2,
       "version_minor": 0
      },
      "text/plain": [
       "  0%|          | 0/2028 [00:00<?, ?it/s]"
      ]
     },
     "metadata": {},
     "output_type": "display_data"
    },
    {
     "name": "stdout",
     "output_type": "stream",
     "text": [
      "imgs/Joban_002_Toride-Fujishiro_down_20240402_day/HD31/\n",
      "Image counts:2028\n"
     ]
    },
    {
     "data": {
      "application/vnd.jupyter.widget-view+json": {
       "model_id": "4c9cfadd5534408c8083f776b368150c",
       "version_major": 2,
       "version_minor": 0
      },
      "text/plain": [
       "  0%|          | 0/2028 [00:00<?, ?it/s]"
      ]
     },
     "metadata": {},
     "output_type": "display_data"
    },
    {
     "name": "stdout",
     "output_type": "stream",
     "text": [
      "imgs/Joban_002_Toride-Fujishiro_down_20240402_day/HD32/\n",
      "Image counts:2028\n"
     ]
    },
    {
     "data": {
      "application/vnd.jupyter.widget-view+json": {
       "model_id": "977c7caf3bbf4955b54f77d5299f19d5",
       "version_major": 2,
       "version_minor": 0
      },
      "text/plain": [
       "  0%|          | 0/2028 [00:00<?, ?it/s]"
      ]
     },
     "metadata": {},
     "output_type": "display_data"
    },
    {
     "name": "stdout",
     "output_type": "stream",
     "text": [
      "画像ファイルごとのキロ程情報をTDM/Joban_002_Toride-Fujishiro_down_20240402_day.jsonに記録しました\n",
      "<class 'pandas.core.frame.DataFrame'>\n",
      "RangeIndex: 83501 entries, 0 to 83500\n",
      "Data columns (total 18 columns):\n",
      " #   Column            Non-Null Count  Dtype  \n",
      "---  ------            --------------  -----  \n",
      " 0   EkiCd             83501 non-null  int64  \n",
      " 1   SenbetsuCd        83501 non-null  int64  \n",
      " 2   SokuteiDate       83501 non-null  int64  \n",
      " 3   DenchuNo          83501 non-null  int64  \n",
      " 4   KiroTei           83501 non-null  float64\n",
      " 5   GazoFileNameHD11  34503 non-null  object \n",
      " 6   GazoFileNameHD12  34503 non-null  object \n",
      " 7   GazoFileNameHD21  34501 non-null  object \n",
      " 8   GazoFileNameHD22  34501 non-null  object \n",
      " 9   GazoFileNameHD31  34501 non-null  object \n",
      " 10  GazoFileNameHD32  34501 non-null  object \n",
      " 11  EkiCdDiffHD11     34503 non-null  object \n",
      " 12  EkiCdDiffHD12     34503 non-null  object \n",
      " 13  EkiCdDiffHD21     34501 non-null  object \n",
      " 14  EkiCdDiffHD22     34501 non-null  object \n",
      " 15  EkiCdDiffHD31     34501 non-null  object \n",
      " 16  EkiCdDiffHD32     34501 non-null  object \n",
      " 17  KiroTei_NEWSS     83501 non-null  float64\n",
      "dtypes: float64(2), int64(4), object(12)\n",
      "memory usage: 11.5+ MB\n",
      "None\n"
     ]
    },
    {
     "data": {
      "application/vnd.jupyter.widget-view+json": {
       "model_id": "793a575cd03a41589bfc751e5443a68e",
       "version_major": 2,
       "version_minor": 0
      },
      "text/plain": [
       "  0%|          | 0/180 [00:00<?, ?it/s]"
      ]
     },
     "metadata": {},
     "output_type": "display_data"
    },
    {
     "data": {
      "application/vnd.jupyter.widget-view+json": {
       "model_id": "37fa2d05ccf34dd88b661f062879fcb7",
       "version_major": 2,
       "version_minor": 0
      },
      "text/plain": [
       "  0%|          | 0/180 [00:00<?, ?it/s]"
      ]
     },
     "metadata": {},
     "output_type": "display_data"
    },
    {
     "data": {
      "application/vnd.jupyter.widget-view+json": {
       "model_id": "a0d5ca0752b84be985613d8bfbf91cc8",
       "version_major": 2,
       "version_minor": 0
      },
      "text/plain": [
       "  0%|          | 0/180 [00:00<?, ?it/s]"
      ]
     },
     "metadata": {},
     "output_type": "display_data"
    },
    {
     "data": {
      "application/vnd.jupyter.widget-view+json": {
       "model_id": "53250f2e9a3744c2a32627c7dba9e045",
       "version_major": 2,
       "version_minor": 0
      },
      "text/plain": [
       "  0%|          | 0/180 [00:00<?, ?it/s]"
      ]
     },
     "metadata": {},
     "output_type": "display_data"
    },
    {
     "data": {
      "application/vnd.jupyter.widget-view+json": {
       "model_id": "130cb0e575244a4e952753c4b7767ef0",
       "version_major": 2,
       "version_minor": 0
      },
      "text/plain": [
       "  0%|          | 0/180 [00:00<?, ?it/s]"
      ]
     },
     "metadata": {},
     "output_type": "display_data"
    },
    {
     "data": {
      "application/vnd.jupyter.widget-view+json": {
       "model_id": "738ae76e7fba4f4aa01db190c10c5e36",
       "version_major": 2,
       "version_minor": 0
      },
      "text/plain": [
       "  0%|          | 0/180 [00:00<?, ?it/s]"
      ]
     },
     "metadata": {},
     "output_type": "display_data"
    },
    {
     "data": {
      "application/vnd.jupyter.widget-view+json": {
       "model_id": "ea81b95c1c9e40ef882fb2befa920938",
       "version_major": 2,
       "version_minor": 0
      },
      "text/plain": [
       "  0%|          | 0/180 [00:00<?, ?it/s]"
      ]
     },
     "metadata": {},
     "output_type": "display_data"
    },
    {
     "data": {
      "application/vnd.jupyter.widget-view+json": {
       "model_id": "9af8b991b50c40d4aa33f52993e797e4",
       "version_major": 2,
       "version_minor": 0
      },
      "text/plain": [
       "  0%|          | 0/180 [00:00<?, ?it/s]"
      ]
     },
     "metadata": {},
     "output_type": "display_data"
    },
    {
     "data": {
      "application/vnd.jupyter.widget-view+json": {
       "model_id": "f84f401db49b4d25993b4c1e8f5e2587",
       "version_major": 2,
       "version_minor": 0
      },
      "text/plain": [
       "  0%|          | 0/180 [00:00<?, ?it/s]"
      ]
     },
     "metadata": {},
     "output_type": "display_data"
    },
    {
     "data": {
      "application/vnd.jupyter.widget-view+json": {
       "model_id": "ffe37ff58dba427aa53764ed2c05e97e",
       "version_major": 2,
       "version_minor": 0
      },
      "text/plain": [
       "  0%|          | 0/180 [00:00<?, ?it/s]"
      ]
     },
     "metadata": {},
     "output_type": "display_data"
    },
    {
     "data": {
      "application/vnd.jupyter.widget-view+json": {
       "model_id": "5593491c456941d38f8a7b18e330d12b",
       "version_major": 2,
       "version_minor": 0
      },
      "text/plain": [
       "  0%|          | 0/180 [00:00<?, ?it/s]"
      ]
     },
     "metadata": {},
     "output_type": "display_data"
    },
    {
     "data": {
      "text/plain": [
       "'\\n2024.8.12\\u3000めも\\n・必要なCSVファイルのみS3から持ってくる形式に変更（S3にある場合のみ）\\n・必要なCSVファイルは走行年度と年度内通番から検索\\n・それを手持ちの線区フォルダで順繰りに実施\\n'"
      ]
     },
     "execution_count": 5,
     "metadata": {},
     "output_type": "execute_result"
    }
   ],
   "source": [
    "# まとめて処理用\n",
    "\n",
    "# 初期設定\n",
    "images_path = helpers.list_imagespath_nonCache(config.image_dir)\n",
    "# ref_point = {\n",
    "#     \"EkiCd_NEWSS\": 14010,    # 高崎線での初期値 14010: 宮原\n",
    "#     \"pole_num_NEWSS\": 1,    # 高崎線での初期値 1: 構本1号柱\n",
    "#     \"pole_kilo_NEWSS\": 3.561    # 高崎線での初期値 3.561: NEWSSキロ程3k561m\n",
    "# }\n",
    "# print(\"キロ程変換の基準\")\n",
    "# print(f\"> 駅コード: {ref_point['EkiCd_NEWSS']}\")\n",
    "# print(f\"> 基準にする電柱：{ref_point['pole_num_NEWSS']}号柱 {ref_point['pole_kilo_NEWSS']}km\")\n",
    "\n",
    "# images_path = helpers.list_imagespath_nonCache(config.image_dir)\n",
    "# print(f\"線区フォルダ: {images_path}\")\n",
    "\n",
    "# # フォルダを選択\n",
    "# idx = 4\n",
    "# dir_area = images_path[idx]\n",
    "# print(f\"線区: {dir_area}\")\n",
    "\n",
    "# # カメラ番号は指定\n",
    "# camera_num = 'HD21'\n",
    "# print(f\"カメラ番号: {camera_num}\")\n",
    "\n",
    "# target_dir = config.image_dir + \"/\" + dir_area + \"/\" + camera_num\n",
    "\n",
    "# # imagesフォルダ内の画像一覧取得\n",
    "# base_images = helpers.list_images(target_dir)\n",
    "# image_name = base_images[0].split('/')[-1]\n",
    "# print(f\"画像名: {image_name}\")\n",
    "\n",
    "# meas_year = image_name.split(\"_\")[0]\n",
    "# meas_idx = image_name.split(\"_\")[1]\n",
    "# print(f\"走行年度: {meas_year}, 年度内通番: {meas_idx}\")\n",
    "\n",
    "# # 車モニのマスターデータのファイルパス\n",
    "# tdm_fpath = f'{config.tdm_dir}/temp/TDM_GazoFileIndex_{meas_year}_{meas_idx}.csv'\n",
    "# print(f'{tdm_fpath=}')\n",
    "\n",
    "# 手持ちの線区フォルダ\n",
    "images_path = helpers.list_imagespath_nonCache(config.image_dir)\n",
    "\n",
    "# カラム名をS3から読み込む\n",
    "columns_csv_key = 'img-location-table/TDM_GazoFileIndex_ColumnsName.csv'\n",
    "columns = get_columns_from_csv(bucket_name, columns_csv_key)\n",
    "\n",
    "# meas_list = []\n",
    "for images_folder_num in images_path:    \n",
    "    # カメラ番号のリスト\n",
    "    cams_path = helpers.list_imagespath_nonCache(f\"{config.image_dir}/{images_folder_num}\")\n",
    "    \n",
    "    # 線区フォルダ内の最初の画像ファイル\n",
    "    target_dir = f\"{config.image_dir}/{images_folder_num}/{cams_path[0]}\"\n",
    "    base_images = helpers.list_images(target_dir)\n",
    "    image_name = base_images[0].split('/')[-1]\n",
    "    # print(image_name)\n",
    "    \n",
    "    meas_year = image_name.split(\"_\")[0]              # 走行年度\n",
    "    meas_idx = image_name.split(\"_\")[1]               # 年度通番\n",
    "    meas_senku = images_folder_num.split('_')[0]      # 線区\n",
    "    meas_kukan = images_folder_num.split('_')[2]      # 区間\n",
    "    # if images_folder_num.split('_')[3] == \"down\":     # 線別\n",
    "    #     meas_senbetsu = 21\n",
    "    # elif images_folder_num.split('_')[3] == \"up\":\n",
    "    #     meas_senbetsu = 22\n",
    "    # else:\n",
    "    #     meas_senbetsu = None                              # 他は？？\n",
    "    # meas_list.append([meas_year, meas_idx, meas_senku, meas_kukan, meas_senbetsu])\n",
    "\n",
    "\n",
    "    # 手持ち線区フォルダと一致するCSVをS3から探す\n",
    "    # stop_loop = 0\n",
    "    for csv_file in tqdm(csv_files):\n",
    "        if csv_file[-13:-4] == f\"{meas_year}_{meas_idx}\":\n",
    "            \n",
    "            # データフレームを読み込む\n",
    "            df_tdm = get_df2(bucket_name, csv_file, columns)            # 2024.08.12 とりあえず版 get_df2()\n",
    "            \n",
    "            # 走行日・線区ごとのキロ程補正情報の辞書を作成する\n",
    "            df_tdm, KiroTei_dict = get_KiroTei_dict(config, df_tdm)\n",
    "            \n",
    "            # 測定日を取得　※１つしかないはず・・・\n",
    "            date = df_tdm['SokuteiDate'].unique().item()\n",
    "            \n",
    "            # 線別コードを取得\n",
    "            if images_folder_num.split('_')[3] == \"down\":\n",
    "                SenbetsuCd = 21\n",
    "            elif images_folder_num.split('_')[3] == \"up\":\n",
    "                SenbetsuCd = 22\n",
    "            else:\n",
    "                SenbetsuCd = None                              # 他は？？\n",
    "            \n",
    "            # 基準となる電柱の情報\n",
    "            ref_point = {\n",
    "                \"EkiCd_NEWSS\": eki_code[meas_senku][meas_kukan][\"EkiCd_NEWSS\"],\n",
    "                \"pole_num_NEWSS\": eki_code[meas_senku][meas_kukan][\"pole_num_NEWSS\"],\n",
    "                \"pole_kilo_NEWSS\": eki_code[meas_senku][meas_kukan][\"pole_kilo_NEWSS\"]\n",
    "            }\n",
    "            \n",
    "            pole_kiro_offset = get_Kiro_offset(df_tdm, ref_point, date)\n",
    "            \n",
    "            kiro_offset_dict = {}\n",
    "            kiro_offset_dict[date] = pole_kiro_offset\n",
    "            \n",
    "            # NEWSSキロ程を計算して 列`KiroTei_NEWSS`に記録する\n",
    "            df_tdm = get_Kiro_NEWSS(df_tdm, kiro_offset_dict)\n",
    "            \n",
    "            # 確認用にエクセルに出力する\n",
    "            df_tdm.to_excel(f\"./TDM/temp/df_tdm_{images_folder_num}.xlsx\")\n",
    "            \n",
    "            # 初期設定の情報を出力\n",
    "            print(f\"画像フォルダ名：{images_folder_num}\")\n",
    "            print(f\"基準にする電柱：{ref_point['pole_num_NEWSS']}\")\n",
    "            print(f\"　　　　キロ程：{ref_point['pole_kilo_NEWSS']}\")\n",
    "            print(f\"検測キロ程ズレ：{round(kiro_offset_dict[date], 3)}\")\n",
    "\n",
    "            imgKilo = set_imgKiro(config, images_folder_num, df_tdm)\n",
    "            \n",
    "            if imgKilo != {}:\n",
    "                # 結果をJSONファイルに記録する\n",
    "                dir = f\"{config.tdm_dir}/{images_folder_num}.json\"\n",
    "                with open(dir, mode=\"wt\", encoding=\"utf-8\") as f:\n",
    "                    json.dump(imgKilo, f, ensure_ascii=False, indent=2, default=helpers.default)\n",
    "\n",
    "            print(f\"画像ファイルごとのキロ程情報を{dir}に記録しました\")\n",
    "            \n",
    "            print(df_tdm.info())\n",
    "            # stop_loop = 1\n",
    "            break\n",
    "            \n",
    "#     if stop_loop == 1:\n",
    "#         break\n",
    "            \n",
    "            \n",
    "\"\"\"\n",
    "2024.8.12　めも\n",
    "・必要なCSVファイルのみS3から持ってくる形式に変更（S3にある場合のみ）\n",
    "・必要なCSVファイルは走行年度と年度内通番から検索\n",
    "・それを手持ちの線区フォルダで順繰りに実施\n",
    "\"\"\""
   ]
  },
  {
   "cell_type": "code",
   "execution_count": null,
   "id": "14c9bcbc-298c-41e4-b83f-482b54bb505b",
   "metadata": {
    "tags": []
   },
   "outputs": [],
   "source": []
  },
  {
   "cell_type": "code",
   "execution_count": null,
   "id": "1567c145-ba8c-4c8e-9744-ab30d798c99c",
   "metadata": {},
   "outputs": [],
   "source": []
  },
  {
   "cell_type": "markdown",
   "id": "d02cde56-428e-4ece-9d2a-c49627b7dc9d",
   "metadata": {},
   "source": [
    "## 作成したJSONファイルの確認"
   ]
  },
  {
   "cell_type": "code",
   "execution_count": 9,
   "id": "3b1e945a-26b5-4fa5-9e89-3d21d68fb6cb",
   "metadata": {
    "tags": []
   },
   "outputs": [
    {
     "name": "stdout",
     "output_type": "stream",
     "text": [
      "TDM/Joban_002_Toride-Fujishiro_down_20240402_day.json\n"
     ]
    }
   ],
   "source": [
    "import json\n",
    "jsonPath = config.tdm_dir\n",
    "# jsonFile = \"Joban_001_Toride-st_down_20240402_day.json\"\n",
    "jsonFile = \"Joban_002_Toride-Fujishiro_down_20240402_day.json\"\n",
    "FullPath = jsonPath + \"/\" + jsonFile\n",
    "print(FullPath)\n",
    "\n",
    "jsonOpen = open(FullPath, 'r')\n",
    "tdmFile = json.load(jsonOpen)\n",
    "\n",
    "# print(jsonLoad)"
   ]
  },
  {
   "cell_type": "code",
   "execution_count": 11,
   "id": "adae5679-d330-47f3-b77a-ce7d2557147e",
   "metadata": {
    "tags": []
   },
   "outputs": [
    {
     "data": {
      "text/plain": [
       "'Joban_002_Toride-Fujishiro_down_20240402_day'"
      ]
     },
     "execution_count": 11,
     "metadata": {},
     "output_type": "execute_result"
    }
   ],
   "source": [
    "jsonFile.split('.')[0]"
   ]
  },
  {
   "cell_type": "code",
   "execution_count": 12,
   "id": "93489262-9486-4d59-9576-a8107016b892",
   "metadata": {
    "tags": []
   },
   "outputs": [],
   "source": [
    "import pandas as pd\n",
    "from openpyxl import Workbook\n",
    "# import openpyxl\n",
    "\n",
    "# writer = pd.ExcelWriter('Takasaki_99_Omiya-Kitaageo_down_20230509_day.xlsx', engine='openpyxl')\n",
    "# wb = openpyxl.Workbook()\n",
    "\n",
    "jsonname = jsonFile.split('.')[0]\n",
    "\n",
    "with pd.ExcelWriter(f'{jsonname}.xlsx') as writer:\n",
    "\n",
    "    for camera in ['HD11', 'HD12', 'HD21', 'HD22', 'HD31', 'HD32']:\n",
    "\n",
    "        Index, Kirotei, KiroDiff, PoleNum, NewPole = [], [], [], [], []\n",
    "        for ix, file in enumerate(tdmFile[camera]):\n",
    "            if ix == 0:\n",
    "                last_pole = tdmFile[camera][file]['DenchuNo']\n",
    "                last_kiro = tdmFile[camera][file]['KiroTei']\n",
    "\n",
    "            Index.append(ix)\n",
    "\n",
    "            Kirotei.append(tdmFile[camera][file]['KiroTei'])\n",
    "\n",
    "            KiroDiff.append(tdmFile[camera][file]['KiroTei'] - last_kiro)\n",
    "\n",
    "            PoleNum.append(tdmFile[camera][file]['DenchuNo'])\n",
    "\n",
    "            if tdmFile[camera][file]['DenchuNo'] != last_pole:\n",
    "                NewPole.append('True')\n",
    "            else:\n",
    "                NewPole.append('False')\n",
    "\n",
    "            last_pole = tdmFile[camera][file]['DenchuNo']\n",
    "            last_kiro = tdmFile[camera][file]['KiroTei']\n",
    "\n",
    "        df_json = pd.DataFrame({'Index': Index, 'PoleNum': PoleNum, 'NewPole': NewPole, 'Kirotei': Kirotei, 'KiroDiff':KiroDiff})\n",
    "        df_json.to_excel(writer, sheet_name=camera, index=False)\n",
    "        # df_json.to_excel(wb, sheet_name=camera, index=False)\n",
    "\n",
    "# Excelファイルを保存\n",
    "# writer.save()\n",
    "# wb.save('Takasaki_99_Omiya-Kitaageo_down_20230509_day.xlsx')\n"
   ]
  },
  {
   "cell_type": "code",
   "execution_count": 36,
   "id": "f589db20-ff33-49ec-92f2-c53e7413b9a8",
   "metadata": {
    "tags": []
   },
   "outputs": [
    {
     "data": {
      "text/html": [
       "<div class=\"bk-root\">\n",
       "        <a href=\"https://bokeh.org\" target=\"_blank\" class=\"bk-logo bk-logo-small bk-logo-notebook\"></a>\n",
       "        <span id=\"1209\">Loading BokehJS ...</span>\n",
       "    </div>\n"
      ]
     },
     "metadata": {},
     "output_type": "display_data"
    },
    {
     "data": {
      "application/javascript": [
       "(function(root) {\n",
       "  function now() {\n",
       "    return new Date();\n",
       "  }\n",
       "\n",
       "  const force = true;\n",
       "\n",
       "  if (typeof root._bokeh_onload_callbacks === \"undefined\" || force === true) {\n",
       "    root._bokeh_onload_callbacks = [];\n",
       "    root._bokeh_is_loading = undefined;\n",
       "  }\n",
       "\n",
       "const JS_MIME_TYPE = 'application/javascript';\n",
       "  const HTML_MIME_TYPE = 'text/html';\n",
       "  const EXEC_MIME_TYPE = 'application/vnd.bokehjs_exec.v0+json';\n",
       "  const CLASS_NAME = 'output_bokeh rendered_html';\n",
       "\n",
       "  /**\n",
       "   * Render data to the DOM node\n",
       "   */\n",
       "  function render(props, node) {\n",
       "    const script = document.createElement(\"script\");\n",
       "    node.appendChild(script);\n",
       "  }\n",
       "\n",
       "  /**\n",
       "   * Handle when an output is cleared or removed\n",
       "   */\n",
       "  function handleClearOutput(event, handle) {\n",
       "    const cell = handle.cell;\n",
       "\n",
       "    const id = cell.output_area._bokeh_element_id;\n",
       "    const server_id = cell.output_area._bokeh_server_id;\n",
       "    // Clean up Bokeh references\n",
       "    if (id != null && id in Bokeh.index) {\n",
       "      Bokeh.index[id].model.document.clear();\n",
       "      delete Bokeh.index[id];\n",
       "    }\n",
       "\n",
       "    if (server_id !== undefined) {\n",
       "      // Clean up Bokeh references\n",
       "      const cmd_clean = \"from bokeh.io.state import curstate; print(curstate().uuid_to_server['\" + server_id + \"'].get_sessions()[0].document.roots[0]._id)\";\n",
       "      cell.notebook.kernel.execute(cmd_clean, {\n",
       "        iopub: {\n",
       "          output: function(msg) {\n",
       "            const id = msg.content.text.trim();\n",
       "            if (id in Bokeh.index) {\n",
       "              Bokeh.index[id].model.document.clear();\n",
       "              delete Bokeh.index[id];\n",
       "            }\n",
       "          }\n",
       "        }\n",
       "      });\n",
       "      // Destroy server and session\n",
       "      const cmd_destroy = \"import bokeh.io.notebook as ion; ion.destroy_server('\" + server_id + \"')\";\n",
       "      cell.notebook.kernel.execute(cmd_destroy);\n",
       "    }\n",
       "  }\n",
       "\n",
       "  /**\n",
       "   * Handle when a new output is added\n",
       "   */\n",
       "  function handleAddOutput(event, handle) {\n",
       "    const output_area = handle.output_area;\n",
       "    const output = handle.output;\n",
       "\n",
       "    // limit handleAddOutput to display_data with EXEC_MIME_TYPE content only\n",
       "    if ((output.output_type != \"display_data\") || (!Object.prototype.hasOwnProperty.call(output.data, EXEC_MIME_TYPE))) {\n",
       "      return\n",
       "    }\n",
       "\n",
       "    const toinsert = output_area.element.find(\".\" + CLASS_NAME.split(' ')[0]);\n",
       "\n",
       "    if (output.metadata[EXEC_MIME_TYPE][\"id\"] !== undefined) {\n",
       "      toinsert[toinsert.length - 1].firstChild.textContent = output.data[JS_MIME_TYPE];\n",
       "      // store reference to embed id on output_area\n",
       "      output_area._bokeh_element_id = output.metadata[EXEC_MIME_TYPE][\"id\"];\n",
       "    }\n",
       "    if (output.metadata[EXEC_MIME_TYPE][\"server_id\"] !== undefined) {\n",
       "      const bk_div = document.createElement(\"div\");\n",
       "      bk_div.innerHTML = output.data[HTML_MIME_TYPE];\n",
       "      const script_attrs = bk_div.children[0].attributes;\n",
       "      for (let i = 0; i < script_attrs.length; i++) {\n",
       "        toinsert[toinsert.length - 1].firstChild.setAttribute(script_attrs[i].name, script_attrs[i].value);\n",
       "        toinsert[toinsert.length - 1].firstChild.textContent = bk_div.children[0].textContent\n",
       "      }\n",
       "      // store reference to server id on output_area\n",
       "      output_area._bokeh_server_id = output.metadata[EXEC_MIME_TYPE][\"server_id\"];\n",
       "    }\n",
       "  }\n",
       "\n",
       "  function register_renderer(events, OutputArea) {\n",
       "\n",
       "    function append_mime(data, metadata, element) {\n",
       "      // create a DOM node to render to\n",
       "      const toinsert = this.create_output_subarea(\n",
       "        metadata,\n",
       "        CLASS_NAME,\n",
       "        EXEC_MIME_TYPE\n",
       "      );\n",
       "      this.keyboard_manager.register_events(toinsert);\n",
       "      // Render to node\n",
       "      const props = {data: data, metadata: metadata[EXEC_MIME_TYPE]};\n",
       "      render(props, toinsert[toinsert.length - 1]);\n",
       "      element.append(toinsert);\n",
       "      return toinsert\n",
       "    }\n",
       "\n",
       "    /* Handle when an output is cleared or removed */\n",
       "    events.on('clear_output.CodeCell', handleClearOutput);\n",
       "    events.on('delete.Cell', handleClearOutput);\n",
       "\n",
       "    /* Handle when a new output is added */\n",
       "    events.on('output_added.OutputArea', handleAddOutput);\n",
       "\n",
       "    /**\n",
       "     * Register the mime type and append_mime function with output_area\n",
       "     */\n",
       "    OutputArea.prototype.register_mime_type(EXEC_MIME_TYPE, append_mime, {\n",
       "      /* Is output safe? */\n",
       "      safe: true,\n",
       "      /* Index of renderer in `output_area.display_order` */\n",
       "      index: 0\n",
       "    });\n",
       "  }\n",
       "\n",
       "  // register the mime type if in Jupyter Notebook environment and previously unregistered\n",
       "  if (root.Jupyter !== undefined) {\n",
       "    const events = require('base/js/events');\n",
       "    const OutputArea = require('notebook/js/outputarea').OutputArea;\n",
       "\n",
       "    if (OutputArea.prototype.mime_types().indexOf(EXEC_MIME_TYPE) == -1) {\n",
       "      register_renderer(events, OutputArea);\n",
       "    }\n",
       "  }\n",
       "  if (typeof (root._bokeh_timeout) === \"undefined\" || force === true) {\n",
       "    root._bokeh_timeout = Date.now() + 5000;\n",
       "    root._bokeh_failed_load = false;\n",
       "  }\n",
       "\n",
       "  const NB_LOAD_WARNING = {'data': {'text/html':\n",
       "     \"<div style='background-color: #fdd'>\\n\"+\n",
       "     \"<p>\\n\"+\n",
       "     \"BokehJS does not appear to have successfully loaded. If loading BokehJS from CDN, this \\n\"+\n",
       "     \"may be due to a slow or bad network connection. Possible fixes:\\n\"+\n",
       "     \"</p>\\n\"+\n",
       "     \"<ul>\\n\"+\n",
       "     \"<li>re-rerun `output_notebook()` to attempt to load from CDN again, or</li>\\n\"+\n",
       "     \"<li>use INLINE resources instead, as so:</li>\\n\"+\n",
       "     \"</ul>\\n\"+\n",
       "     \"<code>\\n\"+\n",
       "     \"from bokeh.resources import INLINE\\n\"+\n",
       "     \"output_notebook(resources=INLINE)\\n\"+\n",
       "     \"</code>\\n\"+\n",
       "     \"</div>\"}};\n",
       "\n",
       "  function display_loaded() {\n",
       "    const el = document.getElementById(\"1209\");\n",
       "    if (el != null) {\n",
       "      el.textContent = \"BokehJS is loading...\";\n",
       "    }\n",
       "    if (root.Bokeh !== undefined) {\n",
       "      if (el != null) {\n",
       "        el.textContent = \"BokehJS \" + root.Bokeh.version + \" successfully loaded.\";\n",
       "      }\n",
       "    } else if (Date.now() < root._bokeh_timeout) {\n",
       "      setTimeout(display_loaded, 100)\n",
       "    }\n",
       "  }\n",
       "\n",
       "  function run_callbacks() {\n",
       "    try {\n",
       "      root._bokeh_onload_callbacks.forEach(function(callback) {\n",
       "        if (callback != null)\n",
       "          callback();\n",
       "      });\n",
       "    } finally {\n",
       "      delete root._bokeh_onload_callbacks\n",
       "    }\n",
       "    console.debug(\"Bokeh: all callbacks have finished\");\n",
       "  }\n",
       "\n",
       "  function load_libs(css_urls, js_urls, callback) {\n",
       "    if (css_urls == null) css_urls = [];\n",
       "    if (js_urls == null) js_urls = [];\n",
       "\n",
       "    root._bokeh_onload_callbacks.push(callback);\n",
       "    if (root._bokeh_is_loading > 0) {\n",
       "      console.debug(\"Bokeh: BokehJS is being loaded, scheduling callback at\", now());\n",
       "      return null;\n",
       "    }\n",
       "    if (js_urls == null || js_urls.length === 0) {\n",
       "      run_callbacks();\n",
       "      return null;\n",
       "    }\n",
       "    console.debug(\"Bokeh: BokehJS not loaded, scheduling load and callback at\", now());\n",
       "    root._bokeh_is_loading = css_urls.length + js_urls.length;\n",
       "\n",
       "    function on_load() {\n",
       "      root._bokeh_is_loading--;\n",
       "      if (root._bokeh_is_loading === 0) {\n",
       "        console.debug(\"Bokeh: all BokehJS libraries/stylesheets loaded\");\n",
       "        run_callbacks()\n",
       "      }\n",
       "    }\n",
       "\n",
       "    function on_error(url) {\n",
       "      console.error(\"failed to load \" + url);\n",
       "    }\n",
       "\n",
       "    for (let i = 0; i < css_urls.length; i++) {\n",
       "      const url = css_urls[i];\n",
       "      const element = document.createElement(\"link\");\n",
       "      element.onload = on_load;\n",
       "      element.onerror = on_error.bind(null, url);\n",
       "      element.rel = \"stylesheet\";\n",
       "      element.type = \"text/css\";\n",
       "      element.href = url;\n",
       "      console.debug(\"Bokeh: injecting link tag for BokehJS stylesheet: \", url);\n",
       "      document.body.appendChild(element);\n",
       "    }\n",
       "\n",
       "    for (let i = 0; i < js_urls.length; i++) {\n",
       "      const url = js_urls[i];\n",
       "      const element = document.createElement('script');\n",
       "      element.onload = on_load;\n",
       "      element.onerror = on_error.bind(null, url);\n",
       "      element.async = false;\n",
       "      element.src = url;\n",
       "      console.debug(\"Bokeh: injecting script tag for BokehJS library: \", url);\n",
       "      document.head.appendChild(element);\n",
       "    }\n",
       "  };\n",
       "\n",
       "  function inject_raw_css(css) {\n",
       "    const element = document.createElement(\"style\");\n",
       "    element.appendChild(document.createTextNode(css));\n",
       "    document.body.appendChild(element);\n",
       "  }\n",
       "\n",
       "  const js_urls = [\"https://cdn.bokeh.org/bokeh/release/bokeh-2.4.3.min.js\", \"https://cdn.bokeh.org/bokeh/release/bokeh-gl-2.4.3.min.js\", \"https://cdn.bokeh.org/bokeh/release/bokeh-widgets-2.4.3.min.js\", \"https://cdn.bokeh.org/bokeh/release/bokeh-tables-2.4.3.min.js\", \"https://cdn.bokeh.org/bokeh/release/bokeh-mathjax-2.4.3.min.js\"];\n",
       "  const css_urls = [];\n",
       "\n",
       "  const inline_js = [    function(Bokeh) {\n",
       "      Bokeh.set_log_level(\"info\");\n",
       "    },\n",
       "function(Bokeh) {\n",
       "    }\n",
       "  ];\n",
       "\n",
       "  function run_inline_js() {\n",
       "    if (root.Bokeh !== undefined || force === true) {\n",
       "          for (let i = 0; i < inline_js.length; i++) {\n",
       "      inline_js[i].call(root, root.Bokeh);\n",
       "    }\n",
       "if (force === true) {\n",
       "        display_loaded();\n",
       "      }} else if (Date.now() < root._bokeh_timeout) {\n",
       "      setTimeout(run_inline_js, 100);\n",
       "    } else if (!root._bokeh_failed_load) {\n",
       "      console.log(\"Bokeh: BokehJS failed to load within specified timeout.\");\n",
       "      root._bokeh_failed_load = true;\n",
       "    } else if (force !== true) {\n",
       "      const cell = $(document.getElementById(\"1209\")).parents('.cell').data().cell;\n",
       "      cell.output_area.append_execute_result(NB_LOAD_WARNING)\n",
       "    }\n",
       "  }\n",
       "\n",
       "  if (root._bokeh_is_loading === 0) {\n",
       "    console.debug(\"Bokeh: BokehJS loaded, going straight to plotting\");\n",
       "    run_inline_js();\n",
       "  } else {\n",
       "    load_libs(css_urls, js_urls, function() {\n",
       "      console.debug(\"Bokeh: BokehJS plotting callback run at\", now());\n",
       "      run_inline_js();\n",
       "    });\n",
       "  }\n",
       "}(window));"
      ],
      "application/vnd.bokehjs_load.v0+json": "(function(root) {\n  function now() {\n    return new Date();\n  }\n\n  const force = true;\n\n  if (typeof root._bokeh_onload_callbacks === \"undefined\" || force === true) {\n    root._bokeh_onload_callbacks = [];\n    root._bokeh_is_loading = undefined;\n  }\n\n\n  if (typeof (root._bokeh_timeout) === \"undefined\" || force === true) {\n    root._bokeh_timeout = Date.now() + 5000;\n    root._bokeh_failed_load = false;\n  }\n\n  const NB_LOAD_WARNING = {'data': {'text/html':\n     \"<div style='background-color: #fdd'>\\n\"+\n     \"<p>\\n\"+\n     \"BokehJS does not appear to have successfully loaded. If loading BokehJS from CDN, this \\n\"+\n     \"may be due to a slow or bad network connection. Possible fixes:\\n\"+\n     \"</p>\\n\"+\n     \"<ul>\\n\"+\n     \"<li>re-rerun `output_notebook()` to attempt to load from CDN again, or</li>\\n\"+\n     \"<li>use INLINE resources instead, as so:</li>\\n\"+\n     \"</ul>\\n\"+\n     \"<code>\\n\"+\n     \"from bokeh.resources import INLINE\\n\"+\n     \"output_notebook(resources=INLINE)\\n\"+\n     \"</code>\\n\"+\n     \"</div>\"}};\n\n  function display_loaded() {\n    const el = document.getElementById(\"1209\");\n    if (el != null) {\n      el.textContent = \"BokehJS is loading...\";\n    }\n    if (root.Bokeh !== undefined) {\n      if (el != null) {\n        el.textContent = \"BokehJS \" + root.Bokeh.version + \" successfully loaded.\";\n      }\n    } else if (Date.now() < root._bokeh_timeout) {\n      setTimeout(display_loaded, 100)\n    }\n  }\n\n  function run_callbacks() {\n    try {\n      root._bokeh_onload_callbacks.forEach(function(callback) {\n        if (callback != null)\n          callback();\n      });\n    } finally {\n      delete root._bokeh_onload_callbacks\n    }\n    console.debug(\"Bokeh: all callbacks have finished\");\n  }\n\n  function load_libs(css_urls, js_urls, callback) {\n    if (css_urls == null) css_urls = [];\n    if (js_urls == null) js_urls = [];\n\n    root._bokeh_onload_callbacks.push(callback);\n    if (root._bokeh_is_loading > 0) {\n      console.debug(\"Bokeh: BokehJS is being loaded, scheduling callback at\", now());\n      return null;\n    }\n    if (js_urls == null || js_urls.length === 0) {\n      run_callbacks();\n      return null;\n    }\n    console.debug(\"Bokeh: BokehJS not loaded, scheduling load and callback at\", now());\n    root._bokeh_is_loading = css_urls.length + js_urls.length;\n\n    function on_load() {\n      root._bokeh_is_loading--;\n      if (root._bokeh_is_loading === 0) {\n        console.debug(\"Bokeh: all BokehJS libraries/stylesheets loaded\");\n        run_callbacks()\n      }\n    }\n\n    function on_error(url) {\n      console.error(\"failed to load \" + url);\n    }\n\n    for (let i = 0; i < css_urls.length; i++) {\n      const url = css_urls[i];\n      const element = document.createElement(\"link\");\n      element.onload = on_load;\n      element.onerror = on_error.bind(null, url);\n      element.rel = \"stylesheet\";\n      element.type = \"text/css\";\n      element.href = url;\n      console.debug(\"Bokeh: injecting link tag for BokehJS stylesheet: \", url);\n      document.body.appendChild(element);\n    }\n\n    for (let i = 0; i < js_urls.length; i++) {\n      const url = js_urls[i];\n      const element = document.createElement('script');\n      element.onload = on_load;\n      element.onerror = on_error.bind(null, url);\n      element.async = false;\n      element.src = url;\n      console.debug(\"Bokeh: injecting script tag for BokehJS library: \", url);\n      document.head.appendChild(element);\n    }\n  };\n\n  function inject_raw_css(css) {\n    const element = document.createElement(\"style\");\n    element.appendChild(document.createTextNode(css));\n    document.body.appendChild(element);\n  }\n\n  const js_urls = [\"https://cdn.bokeh.org/bokeh/release/bokeh-2.4.3.min.js\", \"https://cdn.bokeh.org/bokeh/release/bokeh-gl-2.4.3.min.js\", \"https://cdn.bokeh.org/bokeh/release/bokeh-widgets-2.4.3.min.js\", \"https://cdn.bokeh.org/bokeh/release/bokeh-tables-2.4.3.min.js\", \"https://cdn.bokeh.org/bokeh/release/bokeh-mathjax-2.4.3.min.js\"];\n  const css_urls = [];\n\n  const inline_js = [    function(Bokeh) {\n      Bokeh.set_log_level(\"info\");\n    },\nfunction(Bokeh) {\n    }\n  ];\n\n  function run_inline_js() {\n    if (root.Bokeh !== undefined || force === true) {\n          for (let i = 0; i < inline_js.length; i++) {\n      inline_js[i].call(root, root.Bokeh);\n    }\nif (force === true) {\n        display_loaded();\n      }} else if (Date.now() < root._bokeh_timeout) {\n      setTimeout(run_inline_js, 100);\n    } else if (!root._bokeh_failed_load) {\n      console.log(\"Bokeh: BokehJS failed to load within specified timeout.\");\n      root._bokeh_failed_load = true;\n    } else if (force !== true) {\n      const cell = $(document.getElementById(\"1209\")).parents('.cell').data().cell;\n      cell.output_area.append_execute_result(NB_LOAD_WARNING)\n    }\n  }\n\n  if (root._bokeh_is_loading === 0) {\n    console.debug(\"Bokeh: BokehJS loaded, going straight to plotting\");\n    run_inline_js();\n  } else {\n    load_libs(css_urls, js_urls, function() {\n      console.debug(\"Bokeh: BokehJS plotting callback run at\", now());\n      run_inline_js();\n    });\n  }\n}(window));"
     },
     "metadata": {},
     "output_type": "display_data"
    },
    {
     "data": {
      "text/html": [
       "\n",
       "  <div class=\"bk-root\" id=\"0a2214d9-330f-4dbd-895f-30876458e51f\" data-root-id=\"1211\"></div>\n"
      ]
     },
     "metadata": {},
     "output_type": "display_data"
    },
    {
     "data": {
      "application/javascript": [
       "(function(root) {\n",
       "  function embed_document(root) {\n",
       "  const docs_json = {\"2fa4109b-9008-4022-8157-758de9c95219\":{\"defs\":[],\"roots\":{\"references\":[{\"attributes\":{\"below\":[{\"id\":\"1220\"}],\"center\":[{\"id\":\"1223\"},{\"id\":\"1227\"}],\"left\":[{\"id\":\"1224\"}],\"renderers\":[{\"id\":\"1248\"}],\"title\":{\"id\":\"1270\"},\"toolbar\":{\"id\":\"1236\"},\"width\":2000,\"x_range\":{\"id\":\"1212\"},\"x_scale\":{\"id\":\"1216\"},\"y_range\":{\"id\":\"1214\"},\"y_scale\":{\"id\":\"1218\"}},\"id\":\"1211\",\"subtype\":\"Figure\",\"type\":\"Plot\"},{\"attributes\":{\"source\":{\"id\":\"1210\"}},\"id\":\"1249\",\"type\":\"CDSView\"},{\"attributes\":{},\"id\":\"1228\",\"type\":\"PanTool\"},{\"attributes\":{\"fill_alpha\":{\"value\":0.1},\"fill_color\":{\"value\":\"#1f77b4\"},\"hatch_alpha\":{\"value\":0.1},\"line_alpha\":{\"value\":0.1},\"line_color\":{\"value\":\"#1f77b4\"},\"x\":{\"field\":\"Index\"},\"y\":{\"field\":\"Kirotei\"}},\"id\":\"1246\",\"type\":\"Circle\"},{\"attributes\":{\"fill_color\":{\"value\":\"#1f77b4\"},\"line_color\":{\"value\":\"#1f77b4\"},\"x\":{\"field\":\"Index\"},\"y\":{\"field\":\"Kirotei\"}},\"id\":\"1245\",\"type\":\"Circle\"},{\"attributes\":{\"coordinates\":null,\"formatter\":{\"id\":\"1273\"},\"group\":null,\"major_label_policy\":{\"id\":\"1274\"},\"ticker\":{\"id\":\"1225\"}},\"id\":\"1224\",\"type\":\"LinearAxis\"},{\"attributes\":{},\"id\":\"1216\",\"type\":\"LinearScale\"},{\"attributes\":{},\"id\":\"1233\",\"type\":\"HelpTool\"},{\"attributes\":{},\"id\":\"1214\",\"type\":\"DataRange1d\"},{\"attributes\":{},\"id\":\"1278\",\"type\":\"UnionRenderers\"},{\"attributes\":{},\"id\":\"1229\",\"type\":\"WheelZoomTool\"},{\"attributes\":{},\"id\":\"1277\",\"type\":\"AllLabels\"},{\"attributes\":{},\"id\":\"1212\",\"type\":\"DataRange1d\"},{\"attributes\":{\"axis\":{\"id\":\"1220\"},\"coordinates\":null,\"group\":null,\"ticker\":null},\"id\":\"1223\",\"type\":\"Grid\"},{\"attributes\":{},\"id\":\"1274\",\"type\":\"AllLabels\"},{\"attributes\":{},\"id\":\"1232\",\"type\":\"ResetTool\"},{\"attributes\":{},\"id\":\"1225\",\"type\":\"BasicTicker\"},{\"attributes\":{},\"id\":\"1218\",\"type\":\"LinearScale\"},{\"attributes\":{\"coordinates\":null,\"group\":null},\"id\":\"1270\",\"type\":\"Title\"},{\"attributes\":{\"bottom_units\":\"screen\",\"coordinates\":null,\"fill_alpha\":0.5,\"fill_color\":\"lightgrey\",\"group\":null,\"left_units\":\"screen\",\"level\":\"overlay\",\"line_alpha\":1.0,\"line_color\":\"black\",\"line_dash\":[4,4],\"line_width\":2,\"right_units\":\"screen\",\"syncable\":false,\"top_units\":\"screen\"},\"id\":\"1234\",\"type\":\"BoxAnnotation\"},{\"attributes\":{\"coordinates\":null,\"formatter\":{\"id\":\"1276\"},\"group\":null,\"major_label_policy\":{\"id\":\"1277\"},\"ticker\":{\"id\":\"1221\"}},\"id\":\"1220\",\"type\":\"LinearAxis\"},{\"attributes\":{\"axis\":{\"id\":\"1224\"},\"coordinates\":null,\"dimension\":1,\"group\":null,\"ticker\":null},\"id\":\"1227\",\"type\":\"Grid\"},{\"attributes\":{},\"id\":\"1221\",\"type\":\"BasicTicker\"},{\"attributes\":{\"coordinates\":null,\"data_source\":{\"id\":\"1210\"},\"glyph\":{\"id\":\"1245\"},\"group\":null,\"hover_glyph\":null,\"muted_glyph\":{\"id\":\"1247\"},\"nonselection_glyph\":{\"id\":\"1246\"},\"view\":{\"id\":\"1249\"}},\"id\":\"1248\",\"type\":\"GlyphRenderer\"},{\"attributes\":{},\"id\":\"1231\",\"type\":\"SaveTool\"},{\"attributes\":{\"tools\":[{\"id\":\"1228\"},{\"id\":\"1229\"},{\"id\":\"1230\"},{\"id\":\"1231\"},{\"id\":\"1232\"},{\"id\":\"1233\"},{\"id\":\"1235\"}]},\"id\":\"1236\",\"type\":\"Toolbar\"},{\"attributes\":{},\"id\":\"1279\",\"type\":\"Selection\"},{\"attributes\":{\"overlay\":{\"id\":\"1234\"}},\"id\":\"1230\",\"type\":\"BoxZoomTool\"},{\"attributes\":{\"fill_alpha\":{\"value\":0.2},\"fill_color\":{\"value\":\"#1f77b4\"},\"hatch_alpha\":{\"value\":0.2},\"line_alpha\":{\"value\":0.2},\"line_color\":{\"value\":\"#1f77b4\"},\"x\":{\"field\":\"Index\"},\"y\":{\"field\":\"Kirotei\"}},\"id\":\"1247\",\"type\":\"Circle\"},{\"attributes\":{\"callback\":null,\"tooltips\":[[\"Index\",\"@ix\"],[\"PoleNum\",\"@PoleNum\"],[\"Kirotei\",\"@Kirotei\"]]},\"id\":\"1235\",\"type\":\"HoverTool\"},{\"attributes\":{},\"id\":\"1276\",\"type\":\"BasicTickFormatter\"},{\"attributes\":{\"data\":{\"Index\":[0,1,2,3,4,5,6,7,8,9,10,11,12,13,14,15,16,17,18,19,20,21,22,23,24,25,26,27,28,29,30,31,32,33,34,35,36,37,38,39,40,41,42,43,44,45,46,47,48,49,50,51,52,53,54,55,56,57,58,59,60,61,62,63,64,65,66,67,68,69,70,71,72,73,74,75,76,77,78,79,80,81,82,83,84,85,86,87,88,89,90,91,92,93,94,95,96,97,98,99,100,101,102,103,104,105,106,107,108,109,110,111,112,113,114,115,116,117,118,119,120,121,122,123,124,125,126,127,128,129,130,131,132,133,134,135,136,137,138,139,140,141,142,143,144,145,146,147,148,149,150,151,152,153,154,155,156,157,158,159,160,161,162,163,164,165,166,167,168,169,170,171,172,173,174,175,176,177,178,179,180,181,182,183,184,185,186,187,188,189,190,191,192,193,194,195,196,197,198,199,200,201,202,203,204,205,206,207,208,209,210,211,212,213,214,215,216,217,218,219,220,221,222,223,224,225,226,227,228,229,230,231,232,233,234,235,236,237,238,239,240,241,242,243,244,245,246,247,248,249,250,251,252,253,254,255,256,257,258,259,260,261,262,263,264,265,266,267,268,269,270,271,272,273,274,275,276,277,278,279,280,281,282,283,284,285,286,287,288,289,290,291,292,293,294,295,296,297,298,299,300,301,302,303,304,305,306,307,308,309,310,311,312,313,314,315,316,317,318,319,320,321,322,323,324,325,326,327,328,329,330,331,332,333,334,335,336,337,338,339,340,341,342,343,344,345,346,347,348,349,350,351,352,353,354,355,356,357,358,359,360,361,362,363,364,365,366,367,368,369,370,371,372,373,374,375,376,377,378,379,380,381,382,383,384,385,386,387,388,389,390,391,392,393,394,395,396,397,398,399,400,401,402,403,404,405,406,407,408,409,410,411,412,413,414,415,416,417,418,419,420,421,422,423,424,425,426,427,428,429,430,431,432,433,434,435,436,437,438,439,440,441,442,443,444,445,446,447,448,449,450,451,452,453,454,455,456,457,458,459,460,461,462,463,464,465,466,467,468,469,470,471,472,473,474,475,476,477,478,479,480,481,482,483,484,485,486,487,488,489,490,491,492,493,494,495,496,497,498,499,500,501,502,503,504,505,506,507,508,509,510,511,512,513,514,515,516,517],\"KiroDiff\":{\"__ndarray__\":\"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\",\"dtype\":\"float64\",\"order\":\"little\",\"shape\":[518]},\"Kirotei\":{\"__ndarray__\":\"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\",\"dtype\":\"float64\",\"order\":\"little\",\"shape\":[518]},\"NewPole\":[\"False\",\"False\",\"False\",\"True\",\"False\",\"False\",\"False\",\"False\",\"False\",\"False\",\"False\",\"False\",\"False\",\"False\",\"False\",\"False\",\"False\",\"False\",\"False\",\"False\",\"False\",\"False\",\"False\",\"True\",\"False\",\"False\",\"False\",\"False\",\"False\",\"False\",\"False\",\"False\",\"False\",\"False\",\"False\",\"False\",\"False\",\"False\",\"False\",\"False\",\"True\",\"False\",\"False\",\"False\",\"False\",\"False\",\"False\",\"False\",\"False\",\"False\",\"False\",\"False\",\"False\",\"False\",\"False\",\"False\",\"False\",\"False\",\"False\",\"False\",\"False\",\"False\",\"False\",\"True\",\"False\",\"False\",\"False\",\"False\",\"False\",\"False\",\"False\",\"False\",\"False\",\"False\",\"False\",\"False\",\"False\",\"False\",\"False\",\"False\",\"False\",\"True\",\"False\",\"False\",\"False\",\"False\",\"False\",\"False\",\"False\",\"False\",\"False\",\"False\",\"False\",\"False\",\"False\",\"False\",\"False\",\"False\",\"False\",\"False\",\"False\",\"False\",\"True\",\"False\",\"False\",\"False\",\"False\",\"False\",\"False\",\"False\",\"False\",\"False\",\"False\",\"False\",\"False\",\"False\",\"False\",\"False\",\"False\",\"False\",\"False\",\"False\",\"False\",\"False\",\"False\",\"False\",\"False\",\"False\",\"True\",\"False\",\"False\",\"False\",\"False\",\"False\",\"False\",\"False\",\"False\",\"False\",\"False\",\"False\",\"False\",\"False\",\"False\",\"False\",\"False\",\"False\",\"False\",\"False\",\"False\",\"False\",\"False\",\"False\",\"False\",\"True\",\"False\",\"False\",\"False\",\"False\",\"False\",\"False\",\"False\",\"False\",\"False\",\"False\",\"False\",\"False\",\"False\",\"False\",\"False\",\"False\",\"False\",\"False\",\"False\",\"False\",\"False\",\"False\",\"False\",\"False\",\"False\",\"False\",\"False\",\"True\",\"False\",\"False\",\"False\",\"False\",\"False\",\"False\",\"False\",\"False\",\"False\",\"False\",\"False\",\"False\",\"False\",\"False\",\"False\",\"False\",\"False\",\"False\",\"False\",\"False\",\"False\",\"False\",\"False\",\"False\",\"False\",\"False\",\"False\",\"True\",\"False\",\"False\",\"False\",\"False\",\"False\",\"False\",\"False\",\"False\",\"False\",\"False\",\"False\",\"False\",\"False\",\"False\",\"False\",\"False\",\"False\",\"False\",\"False\",\"False\",\"False\",\"False\",\"False\",\"False\",\"True\",\"False\",\"False\",\"False\",\"False\",\"False\",\"False\",\"False\",\"False\",\"False\",\"False\",\"True\",\"False\",\"False\",\"False\",\"False\",\"False\",\"False\",\"False\",\"False\",\"False\",\"False\",\"False\",\"False\",\"False\",\"False\",\"True\",\"False\",\"False\",\"False\",\"True\",\"False\",\"False\",\"False\",\"False\",\"False\",\"False\",\"False\",\"False\",\"False\",\"True\",\"False\",\"False\",\"False\",\"False\",\"False\",\"False\",\"False\",\"False\",\"False\",\"False\",\"False\",\"False\",\"False\",\"True\",\"False\",\"False\",\"False\",\"False\",\"False\",\"False\",\"False\",\"False\",\"False\",\"False\",\"False\",\"False\",\"False\",\"True\",\"False\",\"False\",\"False\",\"False\",\"False\",\"False\",\"False\",\"False\",\"False\",\"False\",\"False\",\"False\",\"False\",\"False\",\"False\",\"False\",\"False\",\"False\",\"True\",\"False\",\"False\",\"False\",\"False\",\"False\",\"False\",\"False\",\"False\",\"False\",\"False\",\"False\",\"False\",\"True\",\"False\",\"False\",\"False\",\"False\",\"False\",\"False\",\"False\",\"True\",\"False\",\"False\",\"False\",\"False\",\"False\",\"False\",\"False\",\"False\",\"False\",\"False\",\"False\",\"False\",\"False\",\"False\",\"True\",\"False\",\"False\",\"False\",\"False\",\"False\",\"False\",\"False\",\"False\",\"False\",\"False\",\"False\",\"False\",\"False\",\"False\",\"True\",\"False\",\"False\",\"False\",\"False\",\"False\",\"False\",\"False\",\"False\",\"False\",\"False\",\"False\",\"False\",\"False\",\"False\",\"False\",\"True\",\"False\",\"False\",\"False\",\"False\",\"False\",\"False\",\"False\",\"False\",\"False\",\"False\",\"False\",\"False\",\"False\",\"False\",\"False\",\"True\",\"False\",\"False\",\"False\",\"False\",\"False\",\"False\",\"False\",\"False\",\"False\",\"False\",\"False\",\"True\",\"False\",\"False\",\"False\",\"False\",\"False\",\"False\",\"False\",\"False\",\"False\",\"False\",\"False\",\"True\",\"False\",\"False\",\"False\",\"False\",\"False\",\"False\",\"False\",\"False\",\"False\",\"False\",\"False\",\"True\",\"False\",\"False\",\"False\",\"False\",\"False\",\"False\",\"False\",\"False\",\"False\",\"False\",\"False\",\"False\",\"False\",\"True\",\"False\",\"False\",\"False\",\"False\",\"False\",\"False\",\"False\",\"False\",\"False\",\"False\",\"False\",\"False\",\"True\",\"False\",\"False\",\"False\",\"False\",\"False\",\"False\",\"False\",\"False\",\"False\",\"False\",\"False\",\"False\",\"True\",\"False\",\"False\",\"False\",\"False\",\"False\",\"False\",\"False\",\"False\",\"False\",\"False\",\"False\",\"False\",\"True\",\"False\",\"False\",\"False\",\"False\",\"False\",\"False\",\"False\",\"False\",\"False\",\"False\",\"False\",\"False\",\"False\",\"False\",\"True\",\"False\",\"False\",\"False\",\"False\",\"False\",\"False\",\"False\",\"False\",\"False\"],\"PoleNum\":[423,423,423,424,424,424,424,424,424,424,424,424,424,424,424,424,424,424,424,424,424,424,424,1,1,1,1,1,1,1,1,1,1,1,1,1,1,1,1,1,2,2,2,2,2,2,2,2,2,2,2,2,2,2,2,2,2,2,2,2,2,2,2,3,3,3,3,3,3,3,3,3,3,3,3,3,3,3,3,3,3,5,5,5,5,5,5,5,5,5,5,5,5,5,5,5,5,5,5,5,5,5,6,6,6,6,6,6,6,6,6,6,6,6,6,6,6,6,6,6,6,6,6,6,6,6,6,6,7,7,7,7,7,7,7,7,7,7,7,7,7,7,7,7,7,7,7,7,7,7,7,7,7,8,8,8,8,8,8,8,8,8,8,8,8,8,8,8,8,8,8,8,8,8,8,8,8,8,8,8,8,9,9,9,9,9,9,9,9,9,9,9,9,9,9,9,9,9,9,9,9,9,9,9,9,9,9,9,9,10,10,10,10,10,10,10,10,10,10,10,10,10,10,10,10,10,10,10,10,10,10,10,10,10,11,11,11,11,11,11,11,11,11,11,11,201,201,201,201,201,201,201,201,201,201,201,201,201,201,201,202,202,202,202,203,203,203,203,203,203,203,203,203,203,204,204,204,204,204,204,204,204,204,204,204,204,204,204,12,12,12,12,12,12,12,12,12,12,12,12,12,12,13,13,13,13,13,13,13,13,13,13,13,13,13,13,13,13,13,13,13,15,15,15,15,15,15,15,15,15,15,15,15,15,205,205,205,205,205,205,205,205,206,206,206,206,206,206,206,206,206,206,206,206,206,206,206,16,16,16,16,16,16,16,16,16,16,16,16,16,16,16,17,17,17,17,17,17,17,17,17,17,17,17,17,17,17,17,18,18,18,18,18,18,18,18,18,18,18,18,18,18,18,18,19,19,19,19,19,19,19,19,19,19,19,19,20,20,20,20,20,20,20,20,20,20,20,20,21,21,21,21,21,21,21,21,21,21,21,21,22,22,22,22,22,22,22,22,22,22,22,22,22,22,23,23,23,23,23,23,23,23,23,23,23,23,23,24,24,24,24,24,24,24,24,24,24,24,24,24,25,25,25,25,25,25,25,25,25,25,25,25,25,1,1,1,1,1,1,1,1,1,1,1,1,1,1,1,2,2,2,2,2,2,2,2,2,2],\"index\":[0,1,2,3,4,5,6,7,8,9,10,11,12,13,14,15,16,17,18,19,20,21,22,23,24,25,26,27,28,29,30,31,32,33,34,35,36,37,38,39,40,41,42,43,44,45,46,47,48,49,50,51,52,53,54,55,56,57,58,59,60,61,62,63,64,65,66,67,68,69,70,71,72,73,74,75,76,77,78,79,80,81,82,83,84,85,86,87,88,89,90,91,92,93,94,95,96,97,98,99,100,101,102,103,104,105,106,107,108,109,110,111,112,113,114,115,116,117,118,119,120,121,122,123,124,125,126,127,128,129,130,131,132,133,134,135,136,137,138,139,140,141,142,143,144,145,146,147,148,149,150,151,152,153,154,155,156,157,158,159,160,161,162,163,164,165,166,167,168,169,170,171,172,173,174,175,176,177,178,179,180,181,182,183,184,185,186,187,188,189,190,191,192,193,194,195,196,197,198,199,200,201,202,203,204,205,206,207,208,209,210,211,212,213,214,215,216,217,218,219,220,221,222,223,224,225,226,227,228,229,230,231,232,233,234,235,236,237,238,239,240,241,242,243,244,245,246,247,248,249,250,251,252,253,254,255,256,257,258,259,260,261,262,263,264,265,266,267,268,269,270,271,272,273,274,275,276,277,278,279,280,281,282,283,284,285,286,287,288,289,290,291,292,293,294,295,296,297,298,299,300,301,302,303,304,305,306,307,308,309,310,311,312,313,314,315,316,317,318,319,320,321,322,323,324,325,326,327,328,329,330,331,332,333,334,335,336,337,338,339,340,341,342,343,344,345,346,347,348,349,350,351,352,353,354,355,356,357,358,359,360,361,362,363,364,365,366,367,368,369,370,371,372,373,374,375,376,377,378,379,380,381,382,383,384,385,386,387,388,389,390,391,392,393,394,395,396,397,398,399,400,401,402,403,404,405,406,407,408,409,410,411,412,413,414,415,416,417,418,419,420,421,422,423,424,425,426,427,428,429,430,431,432,433,434,435,436,437,438,439,440,441,442,443,444,445,446,447,448,449,450,451,452,453,454,455,456,457,458,459,460,461,462,463,464,465,466,467,468,469,470,471,472,473,474,475,476,477,478,479,480,481,482,483,484,485,486,487,488,489,490,491,492,493,494,495,496,497,498,499,500,501,502,503,504,505,506,507,508,509,510,511,512,513,514,515,516,517]},\"selected\":{\"id\":\"1279\"},\"selection_policy\":{\"id\":\"1278\"}},\"id\":\"1210\",\"type\":\"ColumnDataSource\"},{\"attributes\":{},\"id\":\"1273\",\"type\":\"BasicTickFormatter\"}],\"root_ids\":[\"1211\"]},\"title\":\"Bokeh Application\",\"version\":\"2.4.3\"}};\n",
       "  const render_items = [{\"docid\":\"2fa4109b-9008-4022-8157-758de9c95219\",\"root_ids\":[\"1211\"],\"roots\":{\"1211\":\"0a2214d9-330f-4dbd-895f-30876458e51f\"}}];\n",
       "  root.Bokeh.embed.embed_items_notebook(docs_json, render_items);\n",
       "  }\n",
       "  if (root.Bokeh !== undefined) {\n",
       "    embed_document(root);\n",
       "  } else {\n",
       "    let attempts = 0;\n",
       "    const timer = setInterval(function(root) {\n",
       "      if (root.Bokeh !== undefined) {\n",
       "        clearInterval(timer);\n",
       "        embed_document(root);\n",
       "      } else {\n",
       "        attempts++;\n",
       "        if (attempts > 100) {\n",
       "          clearInterval(timer);\n",
       "          console.log(\"Bokeh: ERROR: Unable to run BokehJS code because BokehJS library is missing\");\n",
       "        }\n",
       "      }\n",
       "    }, 10, root)\n",
       "  }\n",
       "})(window);"
      ],
      "application/vnd.bokehjs_exec.v0+json": ""
     },
     "metadata": {
      "application/vnd.bokehjs_exec.v0+json": {
       "id": "1211"
      }
     },
     "output_type": "display_data"
    }
   ],
   "source": [
    "from bokeh.plotting import figure, output_notebook, show\n",
    "from bokeh.models import ColumnDataSource, HoverTool\n",
    "output_notebook()\n",
    "\n",
    "source = ColumnDataSource(df_json)\n",
    "\n",
    "TOOLTIPS = [\n",
    "    ('Index', '@ix'),\n",
    "    ('PoleNum', '@PoleNum'),\n",
    "    ('Kirotei', '@Kirotei')\n",
    "]\n",
    "\n",
    "p = figure(\n",
    "    plot_width=2000, \n",
    "    plot_height=600,\n",
    "    tooltips=TOOLTIPS\n",
    ")\n",
    "     \n",
    "p.circle(\n",
    "    source=source, \n",
    "    # x='ix',\n",
    "    # y='kiro'\n",
    "    x='Index',\n",
    "    y='Kirotei'\n",
    ")\n",
    "\n",
    "show(p)"
   ]
  },
  {
   "cell_type": "code",
   "execution_count": null,
   "id": "a0cd9c16-8031-4593-9ac7-4d727bc6d859",
   "metadata": {},
   "outputs": [],
   "source": []
  },
  {
   "cell_type": "code",
   "execution_count": null,
   "id": "873ac57e-56bb-4207-9d97-16a5874b1f53",
   "metadata": {},
   "outputs": [],
   "source": []
  },
  {
   "cell_type": "markdown",
   "id": "effc1ece-3c38-48c3-b979-b05f208d2f39",
   "metadata": {},
   "source": [
    "## 駅・駅間コードのjson作成"
   ]
  },
  {
   "cell_type": "code",
   "execution_count": 2,
   "id": "f2ce4129-01dd-40a8-888d-f350ba57b849",
   "metadata": {
    "tags": []
   },
   "outputs": [
    {
     "name": "stderr",
     "output_type": "stream",
     "text": [
      "/home/ec2-user/anaconda3/envs/python3/lib/python3.10/site-packages/openpyxl/worksheet/header_footer.py:48: UserWarning: Cannot parse header or footer so it will be ignored\n",
      "  warn(\"\"\"Cannot parse header or footer so it will be ignored\"\"\")\n"
     ]
    }
   ],
   "source": [
    "# エクセル読み込み\n",
    "df_ekicode = pd.read_excel(\"TDM/Senku-Code.xlsx\")"
   ]
  },
  {
   "cell_type": "code",
   "execution_count": 3,
   "id": "b4baef2c-e4b9-406e-9a3e-def4ca730a27",
   "metadata": {
    "tags": []
   },
   "outputs": [],
   "source": [
    "# json元データ作成\n",
    "eki_code = {}\n",
    "for Senmei in df_ekicode[\"Senmei\"].unique():\n",
    "    eki_code[Senmei] = {}\n",
    "    for idx, Kukan in enumerate(df_ekicode[\"Kukan\"]):\n",
    "        eki_code[Senmei][Kukan] = {\n",
    "            \"EkiCd_NEWSS\":df_ekicode[\"EkiCd\"][idx],\n",
    "            \"pole_num_NEWSS\":df_ekicode[\"DenchuNo\"][idx],\n",
    "            \"pole_kilo_NEWSS\":df_ekicode[\"KiroTei\"][idx]\n",
    "        }"
   ]
  },
  {
   "cell_type": "code",
   "execution_count": 10,
   "id": "40ec0c9f-7311-480a-b34f-9b558d634b1c",
   "metadata": {
    "tags": []
   },
   "outputs": [],
   "source": [
    "# jsonファイルに書き出し\n",
    "path = f\"{config.tdm_dir}/eki_code.json\"\n",
    "with open(path, mode=\"wt\", encoding=\"utf-8\") as f:\n",
    "    json.dump(eki_code, f, ensure_ascii=False, indent=2, default=helpers.default)"
   ]
  },
  {
   "cell_type": "code",
   "execution_count": 116,
   "id": "51ababa4-ecb3-48f1-8e8f-5639fd2f81aa",
   "metadata": {
    "tags": []
   },
   "outputs": [],
   "source": [
    "# jsonファイル確認\n",
    "path = path = f\"{config.tdm_dir}/eki_code.json\"\n",
    "with open(path, encoding=\"utf-8\") as f:\n",
    "    eki_code_rd =  json.load(f)"
   ]
  },
  {
   "cell_type": "code",
   "execution_count": 117,
   "id": "11e3d7ac-b972-4820-99b3-ff3d173a211d",
   "metadata": {
    "tags": []
   },
   "outputs": [
    {
     "data": {
      "text/plain": [
       "dict_keys(['Omiya-Miyahara', 'Miyahara-st', 'Miyahara-Ageo', 'Ageo-st', 'Ageo-Kitaageo', 'Kitaageo-st', 'Kitaageo-Okegawa', 'Okegawa-st', 'Okegawa-Kitamoto', 'Kitamoto-st', 'Kitamoto-Kounosu', 'Kounosu-st', 'Kounosu-Kitakounosu', 'Kitakounosu-st', 'Kitakounosu-Fukiage', 'Fukiage-st', 'Fukiage-Gyouda', 'Gyouda-st', 'Gyouda-Kumagaya', 'Kumagaya-st', 'Kumagaya-KumagayaFT', 'KumagayaFT', 'KumagayaFT-Kagohara', 'Kagohara-st', 'Kagohara-Fukaya', 'Fukaya-st', 'Fukaya-Okabe', 'Okabe-st', 'Okabe-Honjo', 'Honjo-st', 'Honjo-Jinbohara', 'Jinbohara-st', 'Jinbohara-Shinmachi', 'Shinmachi-st', 'Shinmachi-Kitafujioka', 'Kitafujioka-st', 'Kitafujioka-Kuragano', 'Kuragano-st', 'Kuragano-TakasakiYD', 'TakasakiYD', 'TakasakiYD-Takasaki', 'Takasaki-st'])"
      ]
     },
     "execution_count": 117,
     "metadata": {},
     "output_type": "execute_result"
    }
   ],
   "source": [
    "eki_code_rd[\"Takasaki\"].keys()"
   ]
  }
 ],
 "metadata": {
  "kernelspec": {
   "display_name": "conda_python3",
   "language": "python",
   "name": "conda_python3"
  },
  "language_info": {
   "codemirror_mode": {
    "name": "ipython",
    "version": 3
   },
   "file_extension": ".py",
   "mimetype": "text/x-python",
   "name": "python",
   "nbconvert_exporter": "python",
   "pygments_lexer": "ipython3",
   "version": "3.10.14"
  }
 },
 "nbformat": 4,
 "nbformat_minor": 5
}
