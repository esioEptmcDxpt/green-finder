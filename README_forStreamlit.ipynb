{
 "cells": [
  {
   "cell_type": "markdown",
   "id": "cf59fc45-30b4-4f26-8d15-3535f235e813",
   "metadata": {
    "tags": []
   },
   "source": [
    "# _Trolley Tracing System_\n",
    "## ___トロリ線摩耗判定支援システム___\n",
    "\n",
    "## 👇ここからアクセス\n",
    "https://trolley-monitor-jrework.notebook.ap-northeast-1.sagemaker.aws/proxy/8501/\n",
    "\n",
    "　\n",
    "\n",
    "電車線金具モニタリングシステムからダウンロードしたパン周り画像を使用して、異常摩耗を探し出します\n",
    "\n",
    "#### ◆疑問？ コメント？\n",
    "\n",
    "疑問・コメントがありましたら、[Yammerコミュニティ](https://web.yammer.com/main/groups/eyJfdHlwZSI6Ikdyb3VwIiwiaWQiOiIxMjM0NzEzNjQwOTYifQ)へお願いします。\n",
    "\n",
    "または、下記連絡先に問い合わせてください。\n",
    "\n",
    "#### ◆問合わせ 連絡先\n",
    "JR東日本研究開発センター 電力技術メンテナンスユニット(電力設備)\n",
    "\n",
    "長山健太郎 [📫Mail][maillink]  [📢Teamsチャット][teamslink]\n",
    "\n",
    "\n",
    "[](\n",
    "メールリンク生成ページ：https://mailtolink.me/\n",
    ")\n",
    "\n",
    "[maillink]: mailto:k-nagayama@jreast.co.jp?cc=fukushima-n@jreast.co.jp&subject=%E3%80%90%E3%83%88%E3%83%AD%E3%83%AA%E7%B7%9A%E6%91%A9%E8%80%97%E5%88%A4%E5%AE%9A%E6%94%AF%E6%8F%B4%E3%82%B7%E3%82%B9%E3%83%86%E3%83%A0_%E8%B3%AA%E5%95%8F%E3%83%BB%E3%82%B3%E3%83%A1%E3%83%B3%E3%83%88%E3%80%91\n",
    "\n",
    "[teamslink]: https://teams.microsoft.com/l/chat/0/0?users=k-nagayama@jreast.co.jp,fukushima-n@jreast.co.jp&message=【トロリ線摩耗判定支援システム_質問・コメント】"
   ]
  },
  {
   "cell_type": "markdown",
   "id": "14b26c44-f3cc-4213-8632-1692cf10852f",
   "metadata": {},
   "source": [
    "## 必要なライブラリのインストール"
   ]
  },
  {
   "cell_type": "code",
   "execution_count": 1,
   "id": "68d51cbe-709e-47ba-986c-0c4fd0e6f446",
   "metadata": {
    "collapsed": true,
    "jupyter": {
     "outputs_hidden": true
    },
    "tags": []
   },
   "outputs": [
    {
     "name": "stdout",
     "output_type": "stream",
     "text": [
      "Obtaining file:///home/ec2-user/SageMaker/AmazonSageMaker-trolley-monitor-onSOW\n",
      "  Preparing metadata (setup.py) ... \u001b[?25ldone\n",
      "\u001b[?25hRequirement already satisfied: altair==4.2.2 in /home/ec2-user/anaconda3/envs/python3/lib/python3.10/site-packages (from trolley-line-analysis==0.1) (4.2.2)\n",
      "Requirement already satisfied: pandas==1.3.5 in /home/ec2-user/anaconda3/envs/python3/lib/python3.10/site-packages (from trolley-line-analysis==0.1) (1.3.5)\n",
      "Requirement already satisfied: numpy in /home/ec2-user/anaconda3/envs/python3/lib/python3.10/site-packages (from trolley-line-analysis==0.1) (1.22.3)\n",
      "Requirement already satisfied: opencv-python in /home/ec2-user/anaconda3/envs/python3/lib/python3.10/site-packages (from trolley-line-analysis==0.1) (4.8.1.78)\n",
      "Requirement already satisfied: opencv-contrib-python in /home/ec2-user/anaconda3/envs/python3/lib/python3.10/site-packages (from trolley-line-analysis==0.1) (4.8.1.78)\n",
      "Requirement already satisfied: matplotlib==3.5.3 in /home/ec2-user/anaconda3/envs/python3/lib/python3.10/site-packages (from trolley-line-analysis==0.1) (3.5.3)\n",
      "Requirement already satisfied: streamlit==1.13.0 in /home/ec2-user/anaconda3/envs/python3/lib/python3.10/site-packages (from trolley-line-analysis==0.1) (1.13.0)\n",
      "Requirement already satisfied: pykalman==0.9.5 in /home/ec2-user/anaconda3/envs/python3/lib/python3.10/site-packages (from trolley-line-analysis==0.1) (0.9.5)\n",
      "Requirement already satisfied: pillow==9.4.0 in /home/ec2-user/anaconda3/envs/python3/lib/python3.10/site-packages (from trolley-line-analysis==0.1) (9.4.0)\n",
      "Requirement already satisfied: scipy==1.7.3 in /home/ec2-user/anaconda3/envs/python3/lib/python3.10/site-packages (from trolley-line-analysis==0.1) (1.7.3)\n",
      "Requirement already satisfied: entrypoints in /home/ec2-user/anaconda3/envs/python3/lib/python3.10/site-packages (from altair==4.2.2->trolley-line-analysis==0.1) (0.4)\n",
      "Requirement already satisfied: jinja2 in /home/ec2-user/anaconda3/envs/python3/lib/python3.10/site-packages (from altair==4.2.2->trolley-line-analysis==0.1) (3.1.2)\n",
      "Requirement already satisfied: jsonschema>=3.0 in /home/ec2-user/anaconda3/envs/python3/lib/python3.10/site-packages (from altair==4.2.2->trolley-line-analysis==0.1) (4.18.4)\n",
      "Requirement already satisfied: toolz in /home/ec2-user/anaconda3/envs/python3/lib/python3.10/site-packages (from altair==4.2.2->trolley-line-analysis==0.1) (0.12.0)\n",
      "Requirement already satisfied: cycler>=0.10 in /home/ec2-user/anaconda3/envs/python3/lib/python3.10/site-packages (from matplotlib==3.5.3->trolley-line-analysis==0.1) (0.11.0)\n",
      "Requirement already satisfied: fonttools>=4.22.0 in /home/ec2-user/anaconda3/envs/python3/lib/python3.10/site-packages (from matplotlib==3.5.3->trolley-line-analysis==0.1) (4.41.0)\n",
      "Requirement already satisfied: kiwisolver>=1.0.1 in /home/ec2-user/anaconda3/envs/python3/lib/python3.10/site-packages (from matplotlib==3.5.3->trolley-line-analysis==0.1) (1.4.4)\n",
      "Requirement already satisfied: packaging>=20.0 in /home/ec2-user/anaconda3/envs/python3/lib/python3.10/site-packages (from matplotlib==3.5.3->trolley-line-analysis==0.1) (21.3)\n",
      "Requirement already satisfied: pyparsing>=2.2.1 in /home/ec2-user/anaconda3/envs/python3/lib/python3.10/site-packages (from matplotlib==3.5.3->trolley-line-analysis==0.1) (3.0.9)\n",
      "Requirement already satisfied: python-dateutil>=2.7 in /home/ec2-user/anaconda3/envs/python3/lib/python3.10/site-packages (from matplotlib==3.5.3->trolley-line-analysis==0.1) (2.8.2)\n",
      "Requirement already satisfied: pytz>=2017.3 in /home/ec2-user/anaconda3/envs/python3/lib/python3.10/site-packages (from pandas==1.3.5->trolley-line-analysis==0.1) (2023.3)\n",
      "Requirement already satisfied: blinker>=1.0.0 in /home/ec2-user/anaconda3/envs/python3/lib/python3.10/site-packages (from streamlit==1.13.0->trolley-line-analysis==0.1) (1.6.2)\n",
      "Requirement already satisfied: cachetools>=4.0 in /home/ec2-user/anaconda3/envs/python3/lib/python3.10/site-packages (from streamlit==1.13.0->trolley-line-analysis==0.1) (5.3.2)\n",
      "Requirement already satisfied: click>=7.0 in /home/ec2-user/anaconda3/envs/python3/lib/python3.10/site-packages (from streamlit==1.13.0->trolley-line-analysis==0.1) (8.1.6)\n",
      "Requirement already satisfied: importlib-metadata>=1.4 in /home/ec2-user/anaconda3/envs/python3/lib/python3.10/site-packages (from streamlit==1.13.0->trolley-line-analysis==0.1) (6.8.0)\n",
      "Requirement already satisfied: protobuf!=3.20.2,<4,>=3.12 in /home/ec2-user/anaconda3/envs/python3/lib/python3.10/site-packages (from streamlit==1.13.0->trolley-line-analysis==0.1) (3.20.3)\n",
      "Requirement already satisfied: pyarrow>=4.0 in /home/ec2-user/anaconda3/envs/python3/lib/python3.10/site-packages (from streamlit==1.13.0->trolley-line-analysis==0.1) (12.0.1)\n",
      "Requirement already satisfied: pydeck>=0.1.dev5 in /home/ec2-user/anaconda3/envs/python3/lib/python3.10/site-packages (from streamlit==1.13.0->trolley-line-analysis==0.1) (0.8.1b0)\n",
      "Requirement already satisfied: pympler>=0.9 in /home/ec2-user/anaconda3/envs/python3/lib/python3.10/site-packages (from streamlit==1.13.0->trolley-line-analysis==0.1) (1.0.1)\n",
      "Requirement already satisfied: requests>=2.4 in /home/ec2-user/anaconda3/envs/python3/lib/python3.10/site-packages (from streamlit==1.13.0->trolley-line-analysis==0.1) (2.31.0)\n",
      "Requirement already satisfied: rich>=10.11.0 in /home/ec2-user/anaconda3/envs/python3/lib/python3.10/site-packages (from streamlit==1.13.0->trolley-line-analysis==0.1) (13.6.0)\n",
      "Requirement already satisfied: semver in /home/ec2-user/anaconda3/envs/python3/lib/python3.10/site-packages (from streamlit==1.13.0->trolley-line-analysis==0.1) (3.0.2)\n",
      "Requirement already satisfied: toml in /home/ec2-user/anaconda3/envs/python3/lib/python3.10/site-packages (from streamlit==1.13.0->trolley-line-analysis==0.1) (0.10.2)\n",
      "Requirement already satisfied: tornado>=5.0 in /home/ec2-user/anaconda3/envs/python3/lib/python3.10/site-packages (from streamlit==1.13.0->trolley-line-analysis==0.1) (6.3.2)\n",
      "Requirement already satisfied: typing-extensions>=3.10.0.0 in /home/ec2-user/anaconda3/envs/python3/lib/python3.10/site-packages (from streamlit==1.13.0->trolley-line-analysis==0.1) (4.7.1)\n",
      "Requirement already satisfied: tzlocal>=1.1 in /home/ec2-user/anaconda3/envs/python3/lib/python3.10/site-packages (from streamlit==1.13.0->trolley-line-analysis==0.1) (5.2)\n",
      "Requirement already satisfied: validators>=0.2 in /home/ec2-user/anaconda3/envs/python3/lib/python3.10/site-packages (from streamlit==1.13.0->trolley-line-analysis==0.1) (0.22.0)\n",
      "Requirement already satisfied: gitpython!=3.1.19 in /home/ec2-user/anaconda3/envs/python3/lib/python3.10/site-packages (from streamlit==1.13.0->trolley-line-analysis==0.1) (3.1.40)\n",
      "Requirement already satisfied: watchdog in /home/ec2-user/anaconda3/envs/python3/lib/python3.10/site-packages (from streamlit==1.13.0->trolley-line-analysis==0.1) (3.0.0)\n",
      "Requirement already satisfied: gitdb<5,>=4.0.1 in /home/ec2-user/anaconda3/envs/python3/lib/python3.10/site-packages (from gitpython!=3.1.19->streamlit==1.13.0->trolley-line-analysis==0.1) (4.0.11)\n",
      "Requirement already satisfied: zipp>=0.5 in /home/ec2-user/anaconda3/envs/python3/lib/python3.10/site-packages (from importlib-metadata>=1.4->streamlit==1.13.0->trolley-line-analysis==0.1) (3.16.2)\n",
      "Requirement already satisfied: attrs>=22.2.0 in /home/ec2-user/anaconda3/envs/python3/lib/python3.10/site-packages (from jsonschema>=3.0->altair==4.2.2->trolley-line-analysis==0.1) (23.1.0)\n",
      "Requirement already satisfied: jsonschema-specifications>=2023.03.6 in /home/ec2-user/anaconda3/envs/python3/lib/python3.10/site-packages (from jsonschema>=3.0->altair==4.2.2->trolley-line-analysis==0.1) (2023.7.1)\n",
      "Requirement already satisfied: referencing>=0.28.4 in /home/ec2-user/anaconda3/envs/python3/lib/python3.10/site-packages (from jsonschema>=3.0->altair==4.2.2->trolley-line-analysis==0.1) (0.30.0)\n",
      "Requirement already satisfied: rpds-py>=0.7.1 in /home/ec2-user/anaconda3/envs/python3/lib/python3.10/site-packages (from jsonschema>=3.0->altair==4.2.2->trolley-line-analysis==0.1) (0.9.2)\n",
      "Requirement already satisfied: MarkupSafe>=2.0 in /home/ec2-user/anaconda3/envs/python3/lib/python3.10/site-packages (from jinja2->altair==4.2.2->trolley-line-analysis==0.1) (2.1.3)\n",
      "Requirement already satisfied: six>=1.5 in /home/ec2-user/anaconda3/envs/python3/lib/python3.10/site-packages (from python-dateutil>=2.7->matplotlib==3.5.3->trolley-line-analysis==0.1) (1.16.0)\n",
      "Requirement already satisfied: charset-normalizer<4,>=2 in /home/ec2-user/anaconda3/envs/python3/lib/python3.10/site-packages (from requests>=2.4->streamlit==1.13.0->trolley-line-analysis==0.1) (3.2.0)\n",
      "Requirement already satisfied: idna<4,>=2.5 in /home/ec2-user/anaconda3/envs/python3/lib/python3.10/site-packages (from requests>=2.4->streamlit==1.13.0->trolley-line-analysis==0.1) (3.4)\n",
      "Requirement already satisfied: urllib3<3,>=1.21.1 in /home/ec2-user/anaconda3/envs/python3/lib/python3.10/site-packages (from requests>=2.4->streamlit==1.13.0->trolley-line-analysis==0.1) (1.26.14)\n",
      "Requirement already satisfied: certifi>=2017.4.17 in /home/ec2-user/anaconda3/envs/python3/lib/python3.10/site-packages (from requests>=2.4->streamlit==1.13.0->trolley-line-analysis==0.1) (2023.5.7)\n",
      "Requirement already satisfied: markdown-it-py>=2.2.0 in /home/ec2-user/anaconda3/envs/python3/lib/python3.10/site-packages (from rich>=10.11.0->streamlit==1.13.0->trolley-line-analysis==0.1) (3.0.0)\n",
      "Requirement already satisfied: pygments<3.0.0,>=2.13.0 in /home/ec2-user/anaconda3/envs/python3/lib/python3.10/site-packages (from rich>=10.11.0->streamlit==1.13.0->trolley-line-analysis==0.1) (2.15.1)\n",
      "Requirement already satisfied: smmap<6,>=3.0.1 in /home/ec2-user/anaconda3/envs/python3/lib/python3.10/site-packages (from gitdb<5,>=4.0.1->gitpython!=3.1.19->streamlit==1.13.0->trolley-line-analysis==0.1) (5.0.1)\n",
      "Requirement already satisfied: mdurl~=0.1 in /home/ec2-user/anaconda3/envs/python3/lib/python3.10/site-packages (from markdown-it-py>=2.2.0->rich>=10.11.0->streamlit==1.13.0->trolley-line-analysis==0.1) (0.1.2)\n",
      "Installing collected packages: trolley-line-analysis\n",
      "  Attempting uninstall: trolley-line-analysis\n",
      "    Found existing installation: trolley-line-analysis 0.1\n",
      "    Uninstalling trolley-line-analysis-0.1:\n",
      "      Successfully uninstalled trolley-line-analysis-0.1\n",
      "  Running setup.py develop for trolley-line-analysis\n",
      "Successfully installed trolley-line-analysis-0.1\n"
     ]
    }
   ],
   "source": [
    "!pip install -e ."
   ]
  },
  {
   "cell_type": "markdown",
   "id": "0447d21b-593f-438f-b08e-35828ebc890e",
   "metadata": {},
   "source": [
    "## アプリを起動"
   ]
  },
  {
   "cell_type": "code",
   "execution_count": null,
   "id": "f1aa7084-41a2-4824-8038-338dd1443f74",
   "metadata": {
    "tags": []
   },
   "outputs": [
    {
     "name": "stdout",
     "output_type": "stream",
     "text": [
      "2023-11-27 11:27:56.288 INFO    numexpr.utils: NumExpr defaulting to 2 threads.\n",
      "\n",
      "Collecting usage statistics. To deactivate, set browser.gatherUsageStats to False.\n",
      "\u001b[0m\n",
      "\u001b[0m\n",
      "\u001b[34m\u001b[1m  You can now view your Streamlit app in your browser.\u001b[0m\n",
      "\u001b[0m\n",
      "\u001b[34m  Network URL: \u001b[0m\u001b[1mhttp://172.16.54.189:8501\u001b[0m\n",
      "\u001b[34m  External URL: \u001b[0m\u001b[1mhttp://54.178.182.46:8501\u001b[0m\n",
      "\u001b[0m\n"
     ]
    }
   ],
   "source": [
    "!streamlit run 🖐_Hello_OHC_System.py"
   ]
  },
  {
   "cell_type": "markdown",
   "id": "fdd1c921-a570-4b5f-b78b-1cd941c53b3c",
   "metadata": {},
   "source": [
    "## アプリへのアクセス👇\n",
    "https://trolley-tracing-system.notebook.ap-northeast-1.sagemaker.aws/proxy/8501/"
   ]
  },
  {
   "cell_type": "markdown",
   "id": "5d943adb-d28a-4d44-b0a0-86a9e4587b7e",
   "metadata": {},
   "source": [
    "# 以下、作業用"
   ]
  },
  {
   "cell_type": "markdown",
   "id": "ab1a34c8-0397-4476-8256-c5da5dd5167d",
   "metadata": {},
   "source": [
    "## StreamlitアクセスURL\n",
    "※ノートブックインスタンスのurlに修正して使用する\n",
    "\n",
    "1. AWSノートブックインスタンス用\n",
    "\n",
    "　　https://trolley-monitor.notebook.ap-northeast-1.sagemaker.aws/proxy/8501/\n",
    "\n",
    "2. JREノートブックインスタンス用\n",
    "\n",
    "　　https://trolley-monitor-jrework.notebook.ap-northeast-1.sagemaker.aws/proxy/8501/\n"
   ]
  },
  {
   "cell_type": "code",
   "execution_count": null,
   "id": "28549d70",
   "metadata": {
    "tags": []
   },
   "outputs": [],
   "source": [
    "!streamlit run 🖐_Hello_OHC_System.py"
   ]
  },
  {
   "cell_type": "markdown",
   "id": "1ccf2387-f25d-44b0-a8a6-4631d0fbf7d8",
   "metadata": {},
   "source": [
    "# テスト用"
   ]
  },
  {
   "cell_type": "code",
   "execution_count": null,
   "id": "658caaa4-fda2-445c-a395-c41281d89127",
   "metadata": {},
   "outputs": [],
   "source": [
    "!pip install -e test"
   ]
  },
  {
   "cell_type": "code",
   "execution_count": null,
   "id": "15cafea6-534d-480c-93b0-4ac5071cb380",
   "metadata": {},
   "outputs": [],
   "source": [
    "!python -m pytest -v tests/test_kalman.py"
   ]
  }
 ],
 "metadata": {
  "kernelspec": {
   "display_name": "conda_python3",
   "language": "python",
   "name": "conda_python3"
  },
  "language_info": {
   "codemirror_mode": {
    "name": "ipython",
    "version": 3
   },
   "file_extension": ".py",
   "mimetype": "text/x-python",
   "name": "python",
   "nbconvert_exporter": "python",
   "pygments_lexer": "ipython3",
   "version": "3.10.12"
  }
 },
 "nbformat": 4,
 "nbformat_minor": 5
}
