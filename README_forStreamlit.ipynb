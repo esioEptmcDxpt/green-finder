{
 "cells": [
  {
   "cell_type": "markdown",
   "id": "cf59fc45-30b4-4f26-8d15-3535f235e813",
   "metadata": {
    "tags": []
   },
   "source": [
    "# _Trolley Tracing System_\n",
    "## ___トロリ線摩耗判定支援システム___\n",
    "\n",
    "## 👇ここからアクセス\n",
    "https://trolley-monitor-jrework.notebook.ap-northeast-1.sagemaker.aws/proxy/8501/\n",
    "\n",
    "　\n",
    "\n",
    "電車線金具モニタリングシステムからダウンロードしたパン周り画像を使用して、異常摩耗を探し出します\n",
    "\n",
    "#### ◆疑問？ コメント？\n",
    "\n",
    "疑問・コメントがありましたら、[Yammerコミュニティ](https://web.yammer.com/main/groups/eyJfdHlwZSI6Ikdyb3VwIiwiaWQiOiIxMjM0NzEzNjQwOTYifQ)へお願いします。\n",
    "\n",
    "または、下記連絡先に問い合わせてください。\n",
    "\n",
    "#### ◆問合わせ 連絡先\n",
    "テクニカルセンター(電力設備G)\n",
    "\n",
    "長山健太郎 [📫Mail][maillink]  [📢Teamsチャット][teamslink]\n",
    "\n",
    "\n",
    "[](\n",
    "メールリンク生成ページ：https://mailtolink.me/\n",
    ")\n",
    "\n",
    "[maillink]: mailto:k-nagayama@jreast.co.jp?cc=fukushima-n@jreast.co.jp&subject=%E3%80%90%E3%83%88%E3%83%AD%E3%83%AA%E7%B7%9A%E6%91%A9%E8%80%97%E5%88%A4%E5%AE%9A%E6%94%AF%E6%8F%B4%E3%82%B7%E3%82%B9%E3%83%86%E3%83%A0_%E8%B3%AA%E5%95%8F%E3%83%BB%E3%82%B3%E3%83%A1%E3%83%B3%E3%83%88%E3%80%91\n",
    "\n",
    "[teamslink]: https://teams.microsoft.com/l/chat/0/0?users=k-nagayama@jreast.co.jp,fukushima-n@jreast.co.jp&message=【トロリ線摩耗判定支援システム_質問・コメント】"
   ]
  },
  {
   "cell_type": "code",
   "execution_count": 1,
   "id": "15692e85-412a-4e01-8e13-71e2cf355812",
   "metadata": {
    "collapsed": true,
    "jupyter": {
     "outputs_hidden": true
    },
    "tags": []
   },
   "outputs": [
    {
     "name": "stdout",
     "output_type": "stream",
     "text": [
      "Looking in indexes: https://pypi.org/simple, https://pip.repos.neuron.amazonaws.com\n",
      "Requirement already satisfied: altair==4.2.2 in /home/ec2-user/anaconda3/envs/python3/lib/python3.10/site-packages (from -r requirements.txt (line 1)) (4.2.2)\n",
      "Requirement already satisfied: pandas==1.3.5 in /home/ec2-user/anaconda3/envs/python3/lib/python3.10/site-packages (from -r requirements.txt (line 2)) (1.3.5)\n",
      "Requirement already satisfied: numpy in /home/ec2-user/anaconda3/envs/python3/lib/python3.10/site-packages (from -r requirements.txt (line 3)) (1.22.3)\n",
      "Requirement already satisfied: opencv-python in /home/ec2-user/anaconda3/envs/python3/lib/python3.10/site-packages (from -r requirements.txt (line 4)) (4.7.0.72)\n",
      "Requirement already satisfied: matplotlib==3.5.3 in /home/ec2-user/anaconda3/envs/python3/lib/python3.10/site-packages (from -r requirements.txt (line 5)) (3.5.3)\n",
      "Requirement already satisfied: pykalman==0.9.5 in /home/ec2-user/anaconda3/envs/python3/lib/python3.10/site-packages (from -r requirements.txt (line 7)) (0.9.5)\n",
      "Requirement already satisfied: pillow==9.4.0 in /home/ec2-user/anaconda3/envs/python3/lib/python3.10/site-packages (from -r requirements.txt (line 8)) (9.4.0)\n",
      "Requirement already satisfied: scipy==1.7.3 in /home/ec2-user/anaconda3/envs/python3/lib/python3.10/site-packages (from -r requirements.txt (line 9)) (1.7.3)\n",
      "Requirement already satisfied: flake8==5.0.4 in /home/ec2-user/anaconda3/envs/python3/lib/python3.10/site-packages (from -r requirements.txt (line 10)) (5.0.4)\n",
      "Requirement already satisfied: jinja2 in /home/ec2-user/anaconda3/envs/python3/lib/python3.10/site-packages (from altair==4.2.2->-r requirements.txt (line 1)) (3.1.2)\n",
      "Requirement already satisfied: jsonschema>=3.0 in /home/ec2-user/anaconda3/envs/python3/lib/python3.10/site-packages (from altair==4.2.2->-r requirements.txt (line 1)) (3.2.0)\n",
      "Requirement already satisfied: toolz in /home/ec2-user/anaconda3/envs/python3/lib/python3.10/site-packages (from altair==4.2.2->-r requirements.txt (line 1)) (0.12.0)\n",
      "Requirement already satisfied: entrypoints in /home/ec2-user/anaconda3/envs/python3/lib/python3.10/site-packages (from altair==4.2.2->-r requirements.txt (line 1)) (0.4)\n",
      "Requirement already satisfied: python-dateutil>=2.7.3 in /home/ec2-user/anaconda3/envs/python3/lib/python3.10/site-packages (from pandas==1.3.5->-r requirements.txt (line 2)) (2.8.2)\n",
      "Requirement already satisfied: pytz>=2017.3 in /home/ec2-user/anaconda3/envs/python3/lib/python3.10/site-packages (from pandas==1.3.5->-r requirements.txt (line 2)) (2022.7)\n",
      "Requirement already satisfied: kiwisolver>=1.0.1 in /home/ec2-user/anaconda3/envs/python3/lib/python3.10/site-packages (from matplotlib==3.5.3->-r requirements.txt (line 5)) (1.4.4)\n",
      "Requirement already satisfied: packaging>=20.0 in /home/ec2-user/anaconda3/envs/python3/lib/python3.10/site-packages (from matplotlib==3.5.3->-r requirements.txt (line 5)) (21.3)\n",
      "Requirement already satisfied: pyparsing>=2.2.1 in /home/ec2-user/anaconda3/envs/python3/lib/python3.10/site-packages (from matplotlib==3.5.3->-r requirements.txt (line 5)) (3.0.9)\n",
      "Requirement already satisfied: cycler>=0.10 in /home/ec2-user/anaconda3/envs/python3/lib/python3.10/site-packages (from matplotlib==3.5.3->-r requirements.txt (line 5)) (0.11.0)\n",
      "Requirement already satisfied: fonttools>=4.22.0 in /home/ec2-user/anaconda3/envs/python3/lib/python3.10/site-packages (from matplotlib==3.5.3->-r requirements.txt (line 5)) (4.38.0)\n",
      "Requirement already satisfied: mccabe<0.8.0,>=0.7.0 in /home/ec2-user/anaconda3/envs/python3/lib/python3.10/site-packages (from flake8==5.0.4->-r requirements.txt (line 10)) (0.7.0)\n",
      "Requirement already satisfied: pycodestyle<2.10.0,>=2.9.0 in /home/ec2-user/anaconda3/envs/python3/lib/python3.10/site-packages (from flake8==5.0.4->-r requirements.txt (line 10)) (2.9.1)\n",
      "Requirement already satisfied: pyflakes<2.6.0,>=2.5.0 in /home/ec2-user/anaconda3/envs/python3/lib/python3.10/site-packages (from flake8==5.0.4->-r requirements.txt (line 10)) (2.5.0)\n",
      "Requirement already satisfied: setuptools in /home/ec2-user/anaconda3/envs/python3/lib/python3.10/site-packages (from jsonschema>=3.0->altair==4.2.2->-r requirements.txt (line 1)) (65.6.3)\n",
      "Requirement already satisfied: attrs>=17.4.0 in /home/ec2-user/anaconda3/envs/python3/lib/python3.10/site-packages (from jsonschema>=3.0->altair==4.2.2->-r requirements.txt (line 1)) (22.2.0)\n",
      "Requirement already satisfied: pyrsistent>=0.14.0 in /home/ec2-user/anaconda3/envs/python3/lib/python3.10/site-packages (from jsonschema>=3.0->altair==4.2.2->-r requirements.txt (line 1)) (0.19.3)\n",
      "Requirement already satisfied: six>=1.11.0 in /home/ec2-user/anaconda3/envs/python3/lib/python3.10/site-packages (from jsonschema>=3.0->altair==4.2.2->-r requirements.txt (line 1)) (1.16.0)\n",
      "Requirement already satisfied: MarkupSafe>=2.0 in /home/ec2-user/anaconda3/envs/python3/lib/python3.10/site-packages (from jinja2->altair==4.2.2->-r requirements.txt (line 1)) (2.1.1)\n"
     ]
    }
   ],
   "source": [
    "!pip install -r requirements.txt"
   ]
  },
  {
   "cell_type": "code",
   "execution_count": null,
   "id": "fbb3edbc-6bfb-4f5b-ae6a-ed84c32a94bb",
   "metadata": {},
   "outputs": [],
   "source": []
  },
  {
   "cell_type": "markdown",
   "id": "5d943adb-d28a-4d44-b0a0-86a9e4587b7e",
   "metadata": {},
   "source": [
    "# 以下、作業用"
   ]
  },
  {
   "cell_type": "markdown",
   "id": "ab1a34c8-0397-4476-8256-c5da5dd5167d",
   "metadata": {},
   "source": [
    "## StreamlitアクセスURL\n",
    "※ノートブックインスタンスのurlに修正して使用する\n",
    "\n",
    "1. AWSノートブックインスタンス用\n",
    "\n",
    "　　https://trolley-monitor.notebook.ap-northeast-1.sagemaker.aws/proxy/8501/\n",
    "\n",
    "2. JREノートブックインスタンス用\n",
    "\n",
    "　　https://trolley-monitor-jrework.notebook.ap-northeast-1.sagemaker.aws/proxy/8501/\n"
   ]
  },
  {
   "cell_type": "code",
   "execution_count": null,
   "id": "28549d70",
   "metadata": {
    "tags": []
   },
   "outputs": [
    {
     "name": "stdout",
     "output_type": "stream",
     "text": [
      "2023-05-17 00:31:16.467 INFO    numexpr.utils: NumExpr defaulting to 4 threads.\n",
      "\n",
      "Collecting usage statistics. To deactivate, set browser.gatherUsageStats to False.\n",
      "\u001b[0m\n",
      "\u001b[0m\n",
      "\u001b[34m\u001b[1m  You can now view your Streamlit app in your browser.\u001b[0m\n",
      "\u001b[0m\n",
      "\u001b[34m  Network URL: \u001b[0m\u001b[1mhttp://172.16.41.247:8501\u001b[0m\n",
      "\u001b[34m  External URL: \u001b[0m\u001b[1mhttp://54.178.182.46:8501\u001b[0m\n",
      "\u001b[0m\n",
      "2023-05-17 00:54:21.393 Uncaught app exception\n",
      "Traceback (most recent call last):\n",
      "  File \"/home/ec2-user/anaconda3/envs/python3/lib/python3.10/dbm/dumb.py\", line 82, in _create\n",
      "    f = _io.open(self._datfile, 'r', encoding=\"Latin-1\")\n",
      "FileNotFoundError: [Errno 2] No such file or directory: 'output/Chuo_01_Tokyo-St_up_20230201_knight/HD11/rail.shelve.dat'\n",
      "\n",
      "During handling of the above exception, another exception occurred:\n",
      "\n",
      "Traceback (most recent call last):\n",
      "  File \"/home/ec2-user/anaconda3/envs/python3/lib/python3.10/site-packages/streamlit/runtime/scriptrunner/script_runner.py\", line 562, in _run_script\n",
      "    exec(code, module.__dict__)\n",
      "  File \"/home/ec2-user/SageMaker/AmazonSageMaker-trolley-monitor-onSOW/pages/2_📸_出力画像をチェックする.py\", line 83, in <module>\n",
      "    result_image_view()\n",
      "  File \"/home/ec2-user/SageMaker/AmazonSageMaker-trolley-monitor-onSOW/pages/2_📸_出力画像をチェックする.py\", line 48, in result_image_view\n",
      "    rail = shelve.open(outpath + \"/rail.shelve\")\n",
      "  File \"/home/ec2-user/anaconda3/envs/python3/lib/python3.10/shelve.py\", line 243, in open\n",
      "    return DbfilenameShelf(filename, flag, protocol, writeback)\n",
      "  File \"/home/ec2-user/anaconda3/envs/python3/lib/python3.10/shelve.py\", line 227, in __init__\n",
      "    Shelf.__init__(self, dbm.open(filename, flag), protocol, writeback)\n",
      "  File \"/home/ec2-user/anaconda3/envs/python3/lib/python3.10/dbm/__init__.py\", line 95, in open\n",
      "    return mod.open(file, flag, mode)\n",
      "  File \"/home/ec2-user/anaconda3/envs/python3/lib/python3.10/dbm/dumb.py\", line 316, in open\n",
      "    return _Database(file, mode, flag=flag)\n",
      "  File \"/home/ec2-user/anaconda3/envs/python3/lib/python3.10/dbm/dumb.py\", line 70, in __init__\n",
      "    self._create(flag)\n",
      "  File \"/home/ec2-user/anaconda3/envs/python3/lib/python3.10/dbm/dumb.py\", line 86, in _create\n",
      "    with _io.open(self._datfile, 'w', encoding=\"Latin-1\") as f:\n",
      "FileNotFoundError: [Errno 2] No such file or directory: 'output/Chuo_01_Tokyo-St_up_20230201_knight/HD11/rail.shelve.dat'\n",
      "rail initilize\n",
      "image_path:imgs/Chuo_01_Tokyo-St_up_20230201_knight/HD11/2022_0615_HD11_01_00022312.jpg\n",
      "0> upper_edge          :978\n",
      "0> upper_edge          :0\n",
      "0> upper_edge          :0\n",
      "0> last_state          :[978, 990]\n",
      "0> estimated_upper_edge:978 \n",
      "100> upper_edge          :985\n",
      "100> upper_edge          :0\n",
      "100> upper_edge          :0\n",
      "100> last_state          :[985, 997]\n",
      "100> estimated_upper_edge:985 \n",
      "200> upper_edge          :991\n",
      "200> upper_edge          :0\n",
      "200> upper_edge          :0\n",
      "200> last_state          :[991, 1003]\n",
      "200> estimated_upper_edge:991 \n",
      "300> upper_edge          :999\n",
      "300> upper_edge          :0\n",
      "300> upper_edge          :0\n",
      "300> last_state          :[999, 1010]\n",
      "300> estimated_upper_edge:999 \n",
      "400> upper_edge          :1006\n",
      "400> upper_edge          :0\n",
      "400> upper_edge          :0\n",
      "400> last_state          :[1006, 1018]\n",
      "400> estimated_upper_edge:1006 \n",
      "500> upper_edge          :1015\n",
      "500> upper_edge          :0\n",
      "500> upper_edge          :0\n",
      "500> last_state          :[1015, 1026]\n",
      "500> estimated_upper_edge:1015 \n",
      "600> upper_edge          :1022\n",
      "600> upper_edge          :0\n",
      "600> upper_edge          :0\n",
      "600> last_state          :[1022, 1034]\n",
      "600> estimated_upper_edge:1022 \n",
      "700> upper_edge          :1030\n",
      "700> upper_edge          :0\n",
      "700> upper_edge          :0\n",
      "700> last_state          :[1030, 1042]\n",
      "700> estimated_upper_edge:1030 \n",
      "800> upper_edge          :1037\n",
      "800> upper_edge          :0\n",
      "800> upper_edge          :0\n",
      "800> last_state          :[1037, 1049]\n",
      "800> estimated_upper_edge:1037 \n",
      "900> upper_edge          :1046\n",
      "900> upper_edge          :0\n",
      "900> upper_edge          :0\n",
      "900> last_state          :[1046, 1057]\n",
      "900> estimated_upper_edge:1046 \n",
      "^C\n",
      "\u001b[34m  Stopping...\u001b[0m\n"
     ]
    },
    {
     "name": "stderr",
     "output_type": "stream",
     "text": [
      "\n",
      "KeyboardInterrupt\n",
      "\n"
     ]
    }
   ],
   "source": [
    "!streamlit run 🖐_Hello_OHC_System.py"
   ]
  },
  {
   "cell_type": "code",
   "execution_count": null,
   "id": "f1d240c7-2dc0-49b7-8eb8-1b79f1ef8af5",
   "metadata": {
    "tags": []
   },
   "outputs": [],
   "source": [
    "!streamlit run app.py"
   ]
  },
  {
   "cell_type": "code",
   "execution_count": null,
   "id": "658caaa4-fda2-445c-a395-c41281d89127",
   "metadata": {},
   "outputs": [],
   "source": []
  }
 ],
 "metadata": {
  "kernelspec": {
   "display_name": "conda_python3",
   "language": "python",
   "name": "conda_python3"
  },
  "language_info": {
   "codemirror_mode": {
    "name": "ipython",
    "version": 3
   },
   "file_extension": ".py",
   "mimetype": "text/x-python",
   "name": "python",
   "nbconvert_exporter": "python",
   "pygments_lexer": "ipython3",
   "version": "3.10.8"
  }
 },
 "nbformat": 4,
 "nbformat_minor": 5
}
