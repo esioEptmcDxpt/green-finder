{
 "cells": [
  {
   "cell_type": "markdown",
   "id": "cf59fc45-30b4-4f26-8d15-3535f235e813",
   "metadata": {
    "tags": []
   },
   "source": [
    "# _Trolley Tracing System_\n",
    "## ___トロリ線摩耗判定支援システム___\n",
    "\n",
    "## 👇ここからアクセス\n",
    "https://trolley-monitor-jrework.notebook.ap-northeast-1.sagemaker.aws/proxy/8501/\n",
    "\n",
    "　\n",
    "\n",
    "電車線金具モニタリングシステムからダウンロードしたパン周り画像を使用して、異常摩耗を探し出します\n",
    "\n",
    "#### ◆疑問？ コメント？\n",
    "\n",
    "疑問・コメントがありましたら、[Yammerコミュニティ](https://web.yammer.com/main/groups/eyJfdHlwZSI6Ikdyb3VwIiwiaWQiOiIxMjM0NzEzNjQwOTYifQ)へお願いします。\n",
    "\n",
    "または、下記連絡先に問い合わせてください。\n",
    "\n",
    "#### ◆問合わせ 連絡先\n",
    "テクニカルセンター(電力設備G)\n",
    "\n",
    "長山健太郎 [📫Mail][maillink]  [📢Teamsチャット][teamslink]\n",
    "\n",
    "\n",
    "[](\n",
    "メールリンク生成ページ：https://mailtolink.me/\n",
    ")\n",
    "\n",
    "[maillink]: mailto:k-nagayama@jreast.co.jp?cc=fukushima-n@jreast.co.jp&subject=%E3%80%90%E3%83%88%E3%83%AD%E3%83%AA%E7%B7%9A%E6%91%A9%E8%80%97%E5%88%A4%E5%AE%9A%E6%94%AF%E6%8F%B4%E3%82%B7%E3%82%B9%E3%83%86%E3%83%A0_%E8%B3%AA%E5%95%8F%E3%83%BB%E3%82%B3%E3%83%A1%E3%83%B3%E3%83%88%E3%80%91\n",
    "\n",
    "[teamslink]: https://teams.microsoft.com/l/chat/0/0?users=k-nagayama@jreast.co.jp,fukushima-n@jreast.co.jp&message=【トロリ線摩耗判定支援システム_質問・コメント】"
   ]
  },
  {
   "cell_type": "code",
   "execution_count": null,
   "id": "15692e85-412a-4e01-8e13-71e2cf355812",
   "metadata": {
    "tags": []
   },
   "outputs": [],
   "source": [
    "!pip install -r requirements.txt"
   ]
  },
  {
   "cell_type": "code",
   "execution_count": null,
   "id": "e3c48051-3f40-45af-bc5b-da4e24186818",
   "metadata": {},
   "outputs": [],
   "source": []
  },
  {
   "cell_type": "markdown",
   "id": "5d943adb-d28a-4d44-b0a0-86a9e4587b7e",
   "metadata": {},
   "source": [
    "# 以下、作業用"
   ]
  },
  {
   "cell_type": "markdown",
   "id": "ab1a34c8-0397-4476-8256-c5da5dd5167d",
   "metadata": {},
   "source": [
    "## StreamlitアクセスURL\n",
    "※ノートブックインスタンスのurlに修正して使用する\n",
    "\n",
    "1. AWSノートブックインスタンス用\n",
    "\n",
    "　　https://trolley-monitor.notebook.ap-northeast-1.sagemaker.aws/proxy/8501/\n",
    "\n",
    "2. JREノートブックインスタンス用\n",
    "\n",
    "　　https://trolley-monitor-jrework.notebook.ap-northeast-1.sagemaker.aws/proxy/8501/\n"
   ]
  },
  {
   "cell_type": "code",
   "execution_count": null,
   "id": "28549d70",
   "metadata": {
    "tags": []
   },
   "outputs": [],
   "source": [
    "!streamlit run 🖐_Hello_OHC_System.py"
   ]
  },
  {
   "cell_type": "code",
   "execution_count": null,
   "id": "f1d240c7-2dc0-49b7-8eb8-1b79f1ef8af5",
   "metadata": {
    "tags": []
   },
   "outputs": [],
   "source": [
    "!streamlit run app.py"
   ]
  },
  {
   "cell_type": "code",
   "execution_count": null,
   "id": "658caaa4-fda2-445c-a395-c41281d89127",
   "metadata": {},
   "outputs": [],
   "source": []
  }
 ],
 "metadata": {
  "kernelspec": {
   "display_name": "conda_python3",
   "language": "python",
   "name": "conda_python3"
  },
  "language_info": {
   "codemirror_mode": {
    "name": "ipython",
    "version": 3
   },
   "file_extension": ".py",
   "mimetype": "text/x-python",
   "name": "python",
   "nbconvert_exporter": "python",
   "pygments_lexer": "ipython3",
   "version": "3.10.8"
  }
 },
 "nbformat": 4,
 "nbformat_minor": 5
}
