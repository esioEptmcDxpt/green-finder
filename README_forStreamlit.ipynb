{
 "cells": [
  {
   "cell_type": "markdown",
   "id": "cf59fc45-30b4-4f26-8d15-3535f235e813",
   "metadata": {
    "tags": []
   },
   "source": [
    "# _Trolley Inspection System_\n",
    "## ___トロリ線摩耗判定支援システム___\n",
    "\n",
    "電車線金具モニタリングシステムからダウンロードしたパン周り画像を使用して、異常摩耗を探索します\n",
    "\n",
    "#### ◆疑問？ コメント？\n",
    "\n",
    "疑問・コメントがありましたら、[Yammerコミュニティ](https://web.yammer.com/main/groups/eyJfdHlwZSI6Ikdyb3VwIiwiaWQiOiIxMjM0NzEzNjQwOTYifQ)へお願いします。\n",
    "\n",
    "または、下記連絡先に問い合わせてください。\n",
    "\n",
    "#### ◆問合わせ 連絡先\n",
    "電気SIO 電力技術管理センター 企画国際(DXPT)\n",
    "\n",
    "長山健太郎、山澤玄胤 [📫Mail][maillink]  [📢Teamsチャット][teamslink]\n",
    "\n",
    "\n",
    "[](\n",
    "メールリンク生成ページ：https://mailtolink.me/\n",
    ")\n",
    "\n",
    "[maillink]: mailto:k-nagayama@jreast.co.jp?cc=yamazawa@jreast.co.jp&subject=%E3%80%90%E3%83%88%E3%83%AD%E3%83%AA%E7%B7%9A%E6%91%A9%E8%80%97%E5%88%A4%E5%AE%9A%E6%94%AF%E6%8F%B4%E3%82%B7%E3%82%B9%E3%83%86%E3%83%A0_%E8%B3%AA%E5%95%8F%E3%83%BB%E3%82%B3%E3%83%A1%E3%83%B3%E3%83%88%E3%80%91\n",
    "\n",
    "[teamslink]: https://teams.microsoft.com/l/chat/0/0?users=k-nagayama@jreast.co.jp,yamazawa@jreast.co.jp&message=【トロリ線摩耗判定支援システム_質問・コメント】"
   ]
  },
  {
   "cell_type": "markdown",
   "id": "bf4b8acc-e095-4a25-b28f-e6c49ea3080b",
   "metadata": {},
   "source": [
    "# 操作方法\n",
    "👇のセルを選択して `Shift + Enter` を (5回くらい) 連打してください！"
   ]
  },
  {
   "cell_type": "markdown",
   "id": "14b26c44-f3cc-4213-8632-1692cf10852f",
   "metadata": {},
   "source": [
    "## 必要なライブラリのインストール"
   ]
  },
  {
   "cell_type": "code",
   "execution_count": null,
   "id": "68d51cbe-709e-47ba-986c-0c4fd0e6f446",
   "metadata": {
    "scrolled": true,
    "tags": []
   },
   "outputs": [],
   "source": [
    "!pip install -e ."
   ]
  },
  {
   "cell_type": "markdown",
   "id": "0447d21b-593f-438f-b08e-35828ebc890e",
   "metadata": {},
   "source": [
    "## アプリを起動する"
   ]
  },
  {
   "cell_type": "code",
   "execution_count": null,
   "id": "fa83639a-ca33-43f8-a559-26be50f4f1ed",
   "metadata": {
    "tags": []
   },
   "outputs": [],
   "source": [
    "!python src/get_strun_url.py"
   ]
  },
  {
   "cell_type": "code",
   "execution_count": null,
   "id": "f1aa7084-41a2-4824-8038-338dd1443f74",
   "metadata": {
    "tags": []
   },
   "outputs": [],
   "source": [
    "!streamlit run Hello_OHC_System.py --server.port=8501"
   ]
  },
  {
   "cell_type": "code",
   "execution_count": null,
   "id": "237afb05-ab61-440c-b03e-924311bb5805",
   "metadata": {},
   "outputs": [],
   "source": []
  },
  {
   "cell_type": "code",
   "execution_count": null,
   "id": "fada39a6-9645-4298-8bde-c86af9e4b772",
   "metadata": {},
   "outputs": [],
   "source": []
  },
  {
   "cell_type": "code",
   "execution_count": null,
   "id": "ac5eda0a-ffc5-474b-9c5c-8651b8566661",
   "metadata": {},
   "outputs": [],
   "source": []
  },
  {
   "cell_type": "code",
   "execution_count": null,
   "id": "535e1041-8c70-48b4-948d-53bc4717bfd4",
   "metadata": {},
   "outputs": [],
   "source": []
  },
  {
   "cell_type": "markdown",
   "id": "1ccf2387-f25d-44b0-a8a6-4631d0fbf7d8",
   "metadata": {},
   "source": [
    "# テスト用\n",
    "___！！！通常は使用しない！！！___"
   ]
  },
  {
   "cell_type": "code",
   "execution_count": null,
   "id": "658caaa4-fda2-445c-a395-c41281d89127",
   "metadata": {},
   "outputs": [],
   "source": [
    "!pip install -e test"
   ]
  },
  {
   "cell_type": "code",
   "execution_count": null,
   "id": "15cafea6-534d-480c-93b0-4ac5071cb380",
   "metadata": {},
   "outputs": [],
   "source": [
    "!python -m pytest -v tests/test_kalman.py"
   ]
  },
  {
   "cell_type": "code",
   "execution_count": null,
   "id": "0664667b-9c34-451e-a776-8f9c17b451b4",
   "metadata": {
    "tags": []
   },
   "outputs": [],
   "source": [
    "!pip freeze"
   ]
  },
  {
   "cell_type": "code",
   "execution_count": null,
   "id": "bbc4f221-7535-412e-b380-f0f4592ba8d7",
   "metadata": {},
   "outputs": [],
   "source": []
  }
 ],
 "metadata": {
  "kernelspec": {
   "display_name": "conda_python3",
   "language": "python",
   "name": "conda_python3"
  },
  "language_info": {
   "codemirror_mode": {
    "name": "ipython",
    "version": 3
   },
   "file_extension": ".py",
   "mimetype": "text/x-python",
   "name": "python",
   "nbconvert_exporter": "python",
   "pygments_lexer": "ipython3",
   "version": "3.10.14"
  }
 },
 "nbformat": 4,
 "nbformat_minor": 5
}
