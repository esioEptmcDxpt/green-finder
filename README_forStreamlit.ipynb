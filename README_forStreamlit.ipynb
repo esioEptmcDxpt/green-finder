{
 "cells": [
  {
   "cell_type": "markdown",
   "id": "cf59fc45-30b4-4f26-8d15-3535f235e813",
   "metadata": {
    "tags": []
   },
   "source": [
    "# _Trolley Tracing System_\n",
    "## ___トロリ線摩耗判定支援システム___\n",
    "\n",
    "## 👇ここからアクセス\n",
    "https://trolley-monitor-jrework.notebook.ap-northeast-1.sagemaker.aws/proxy/8501/\n",
    "\n",
    "　\n",
    "\n",
    "電車線金具モニタリングシステムからダウンロードしたパン周り画像を使用して、異常摩耗を探し出します\n",
    "\n",
    "#### ◆疑問？ コメント？\n",
    "\n",
    "疑問・コメントがありましたら、[Yammerコミュニティ](https://web.yammer.com/main/groups/eyJfdHlwZSI6Ikdyb3VwIiwiaWQiOiIxMjM0NzEzNjQwOTYifQ)へお願いします。\n",
    "\n",
    "または、下記連絡先に問い合わせてください。\n",
    "\n",
    "#### ◆問合わせ 連絡先\n",
    "テクニカルセンター(電力設備G)\n",
    "\n",
    "長山健太郎 [📫Mail][maillink]  [📢Teamsチャット][teamslink]\n",
    "\n",
    "\n",
    "[](\n",
    "メールリンク生成ページ：https://mailtolink.me/\n",
    ")\n",
    "\n",
    "[maillink]: mailto:k-nagayama@jreast.co.jp?cc=fukushima-n@jreast.co.jp&subject=%E3%80%90%E3%83%88%E3%83%AD%E3%83%AA%E7%B7%9A%E6%91%A9%E8%80%97%E5%88%A4%E5%AE%9A%E6%94%AF%E6%8F%B4%E3%82%B7%E3%82%B9%E3%83%86%E3%83%A0_%E8%B3%AA%E5%95%8F%E3%83%BB%E3%82%B3%E3%83%A1%E3%83%B3%E3%83%88%E3%80%91\n",
    "\n",
    "[teamslink]: https://teams.microsoft.com/l/chat/0/0?users=k-nagayama@jreast.co.jp,fukushima-n@jreast.co.jp&message=【トロリ線摩耗判定支援システム_質問・コメント】"
   ]
  },
  {
   "cell_type": "code",
   "execution_count": 3,
   "id": "15692e85-412a-4e01-8e13-71e2cf355812",
   "metadata": {
    "tags": []
   },
   "outputs": [
    {
     "name": "stdout",
     "output_type": "stream",
     "text": [
      "Looking in indexes: https://pypi.org/simple, https://pip.repos.neuron.amazonaws.com\n",
      "Requirement already satisfied: pandas==1.3.5 in /home/ec2-user/anaconda3/envs/python3/lib/python3.10/site-packages (from -r requirements.txt (line 1)) (1.3.5)\n",
      "Requirement already satisfied: numpy in /home/ec2-user/anaconda3/envs/python3/lib/python3.10/site-packages (from -r requirements.txt (line 2)) (1.22.3)\n",
      "Requirement already satisfied: streamlit==1.11.0 in /home/ec2-user/anaconda3/envs/python3/lib/python3.10/site-packages (from -r requirements.txt (line 3)) (1.11.0)\n",
      "Requirement already satisfied: pykalman==0.9.5 in /home/ec2-user/anaconda3/envs/python3/lib/python3.10/site-packages (from -r requirements.txt (line 4)) (0.9.5)\n",
      "Requirement already satisfied: pillow==9.4.0 in /home/ec2-user/anaconda3/envs/python3/lib/python3.10/site-packages (from -r requirements.txt (line 5)) (9.4.0)\n",
      "Requirement already satisfied: scipy==1.7.3 in /home/ec2-user/anaconda3/envs/python3/lib/python3.10/site-packages (from -r requirements.txt (line 6)) (1.7.3)\n",
      "Requirement already satisfied: matplotlib==3.5.3 in /home/ec2-user/anaconda3/envs/python3/lib/python3.10/site-packages (from -r requirements.txt (line 7)) (3.5.3)\n",
      "Requirement already satisfied: flake8==6.0.0 in /home/ec2-user/anaconda3/envs/python3/lib/python3.10/site-packages (from -r requirements.txt (line 8)) (6.0.0)\n",
      "Collecting opencv-python\n",
      "  Downloading opencv_python-4.7.0.72-cp37-abi3-manylinux_2_17_x86_64.manylinux2014_x86_64.whl (61.8 MB)\n",
      "\u001b[2K     \u001b[90m━━━━━━━━━━━━━━━━━━━━━━━━━━━━━━━━━━━━━━━━\u001b[0m \u001b[32m61.8/61.8 MB\u001b[0m \u001b[31m8.5 MB/s\u001b[0m eta \u001b[36m0:00:00\u001b[0m:00:01\u001b[0m00:01\u001b[0m\n",
      "\u001b[?25hCollecting opencv-contrib-python\n",
      "  Downloading opencv_contrib_python-4.7.0.72-cp37-abi3-manylinux_2_17_x86_64.manylinux2014_x86_64.whl (67.9 MB)\n",
      "\u001b[2K     \u001b[90m━━━━━━━━━━━━━━━━━━━━━━━━━━━━━━━━━━━━━━━━\u001b[0m \u001b[32m67.9/67.9 MB\u001b[0m \u001b[31m7.2 MB/s\u001b[0m eta \u001b[36m0:00:00\u001b[0m:00:01\u001b[0m00:01\u001b[0m\n",
      "\u001b[?25hRequirement already satisfied: python-dateutil>=2.7.3 in /home/ec2-user/anaconda3/envs/python3/lib/python3.10/site-packages (from pandas==1.3.5->-r requirements.txt (line 1)) (2.8.2)\n",
      "Requirement already satisfied: pytz>=2017.3 in /home/ec2-user/anaconda3/envs/python3/lib/python3.10/site-packages (from pandas==1.3.5->-r requirements.txt (line 1)) (2022.7)\n",
      "Requirement already satisfied: pympler>=0.9 in /home/ec2-user/anaconda3/envs/python3/lib/python3.10/site-packages (from streamlit==1.11.0->-r requirements.txt (line 3)) (1.0.1)\n",
      "Requirement already satisfied: gitpython!=3.1.19 in /home/ec2-user/anaconda3/envs/python3/lib/python3.10/site-packages (from streamlit==1.11.0->-r requirements.txt (line 3)) (3.1.31)\n",
      "Requirement already satisfied: rich>=10.11.0 in /home/ec2-user/anaconda3/envs/python3/lib/python3.10/site-packages (from streamlit==1.11.0->-r requirements.txt (line 3)) (13.3.5)\n",
      "Requirement already satisfied: attrs>=16.0.0 in /home/ec2-user/anaconda3/envs/python3/lib/python3.10/site-packages (from streamlit==1.11.0->-r requirements.txt (line 3)) (22.2.0)\n",
      "Requirement already satisfied: tornado>=5.0 in /home/ec2-user/anaconda3/envs/python3/lib/python3.10/site-packages (from streamlit==1.11.0->-r requirements.txt (line 3)) (6.1)\n",
      "Requirement already satisfied: requests>=2.4 in /home/ec2-user/anaconda3/envs/python3/lib/python3.10/site-packages (from streamlit==1.11.0->-r requirements.txt (line 3)) (2.28.1)\n",
      "Requirement already satisfied: protobuf<4,>=3.12 in /home/ec2-user/anaconda3/envs/python3/lib/python3.10/site-packages (from streamlit==1.11.0->-r requirements.txt (line 3)) (3.20.3)\n",
      "Requirement already satisfied: watchdog in /home/ec2-user/anaconda3/envs/python3/lib/python3.10/site-packages (from streamlit==1.11.0->-r requirements.txt (line 3)) (2.2.1)\n",
      "Requirement already satisfied: click>=7.0 in /home/ec2-user/anaconda3/envs/python3/lib/python3.10/site-packages (from streamlit==1.11.0->-r requirements.txt (line 3)) (8.1.3)\n",
      "Requirement already satisfied: typing-extensions>=3.10.0.0 in /home/ec2-user/anaconda3/envs/python3/lib/python3.10/site-packages (from streamlit==1.11.0->-r requirements.txt (line 3)) (4.4.0)\n",
      "Requirement already satisfied: packaging>=14.1 in /home/ec2-user/anaconda3/envs/python3/lib/python3.10/site-packages (from streamlit==1.11.0->-r requirements.txt (line 3)) (21.3)\n",
      "Requirement already satisfied: blinker>=1.0.0 in /home/ec2-user/anaconda3/envs/python3/lib/python3.10/site-packages (from streamlit==1.11.0->-r requirements.txt (line 3)) (1.6.2)\n",
      "Requirement already satisfied: pyarrow>=4.0 in /home/ec2-user/anaconda3/envs/python3/lib/python3.10/site-packages (from streamlit==1.11.0->-r requirements.txt (line 3)) (12.0.0)\n",
      "Requirement already satisfied: pydeck>=0.1.dev5 in /home/ec2-user/anaconda3/envs/python3/lib/python3.10/site-packages (from streamlit==1.11.0->-r requirements.txt (line 3)) (0.8.1b0)\n",
      "Requirement already satisfied: validators>=0.2 in /home/ec2-user/anaconda3/envs/python3/lib/python3.10/site-packages (from streamlit==1.11.0->-r requirements.txt (line 3)) (0.20.0)\n",
      "Requirement already satisfied: semver in /home/ec2-user/anaconda3/envs/python3/lib/python3.10/site-packages (from streamlit==1.11.0->-r requirements.txt (line 3)) (3.0.0)\n",
      "Requirement already satisfied: importlib-metadata>=1.4 in /home/ec2-user/anaconda3/envs/python3/lib/python3.10/site-packages (from streamlit==1.11.0->-r requirements.txt (line 3)) (4.13.0)\n",
      "Requirement already satisfied: cachetools>=4.0 in /home/ec2-user/anaconda3/envs/python3/lib/python3.10/site-packages (from streamlit==1.11.0->-r requirements.txt (line 3)) (5.3.0)\n",
      "Requirement already satisfied: altair>=3.2.0 in /home/ec2-user/anaconda3/envs/python3/lib/python3.10/site-packages (from streamlit==1.11.0->-r requirements.txt (line 3)) (4.2.2)\n",
      "Requirement already satisfied: tzlocal>=1.1 in /home/ec2-user/anaconda3/envs/python3/lib/python3.10/site-packages (from streamlit==1.11.0->-r requirements.txt (line 3)) (4.3)\n",
      "Requirement already satisfied: toml in /home/ec2-user/anaconda3/envs/python3/lib/python3.10/site-packages (from streamlit==1.11.0->-r requirements.txt (line 3)) (0.10.2)\n",
      "Requirement already satisfied: cycler>=0.10 in /home/ec2-user/anaconda3/envs/python3/lib/python3.10/site-packages (from matplotlib==3.5.3->-r requirements.txt (line 7)) (0.11.0)\n",
      "Requirement already satisfied: fonttools>=4.22.0 in /home/ec2-user/anaconda3/envs/python3/lib/python3.10/site-packages (from matplotlib==3.5.3->-r requirements.txt (line 7)) (4.38.0)\n",
      "Requirement already satisfied: kiwisolver>=1.0.1 in /home/ec2-user/anaconda3/envs/python3/lib/python3.10/site-packages (from matplotlib==3.5.3->-r requirements.txt (line 7)) (1.4.4)\n",
      "Requirement already satisfied: pyparsing>=2.2.1 in /home/ec2-user/anaconda3/envs/python3/lib/python3.10/site-packages (from matplotlib==3.5.3->-r requirements.txt (line 7)) (3.0.9)\n",
      "Requirement already satisfied: pyflakes<3.1.0,>=3.0.0 in /home/ec2-user/anaconda3/envs/python3/lib/python3.10/site-packages (from flake8==6.0.0->-r requirements.txt (line 8)) (3.0.1)\n",
      "Requirement already satisfied: pycodestyle<2.11.0,>=2.10.0 in /home/ec2-user/anaconda3/envs/python3/lib/python3.10/site-packages (from flake8==6.0.0->-r requirements.txt (line 8)) (2.10.0)\n",
      "Requirement already satisfied: mccabe<0.8.0,>=0.7.0 in /home/ec2-user/anaconda3/envs/python3/lib/python3.10/site-packages (from flake8==6.0.0->-r requirements.txt (line 8)) (0.7.0)\n",
      "Requirement already satisfied: toolz in /home/ec2-user/anaconda3/envs/python3/lib/python3.10/site-packages (from altair>=3.2.0->streamlit==1.11.0->-r requirements.txt (line 3)) (0.12.0)\n",
      "Requirement already satisfied: jsonschema>=3.0 in /home/ec2-user/anaconda3/envs/python3/lib/python3.10/site-packages (from altair>=3.2.0->streamlit==1.11.0->-r requirements.txt (line 3)) (3.2.0)\n",
      "Requirement already satisfied: entrypoints in /home/ec2-user/anaconda3/envs/python3/lib/python3.10/site-packages (from altair>=3.2.0->streamlit==1.11.0->-r requirements.txt (line 3)) (0.4)\n",
      "Requirement already satisfied: jinja2 in /home/ec2-user/anaconda3/envs/python3/lib/python3.10/site-packages (from altair>=3.2.0->streamlit==1.11.0->-r requirements.txt (line 3)) (3.1.2)\n",
      "Requirement already satisfied: gitdb<5,>=4.0.1 in /home/ec2-user/anaconda3/envs/python3/lib/python3.10/site-packages (from gitpython!=3.1.19->streamlit==1.11.0->-r requirements.txt (line 3)) (4.0.10)\n",
      "Requirement already satisfied: zipp>=0.5 in /home/ec2-user/anaconda3/envs/python3/lib/python3.10/site-packages (from importlib-metadata>=1.4->streamlit==1.11.0->-r requirements.txt (line 3)) (3.11.0)\n",
      "Requirement already satisfied: six>=1.5 in /home/ec2-user/anaconda3/envs/python3/lib/python3.10/site-packages (from python-dateutil>=2.7.3->pandas==1.3.5->-r requirements.txt (line 1)) (1.16.0)\n",
      "Requirement already satisfied: certifi>=2017.4.17 in /home/ec2-user/anaconda3/envs/python3/lib/python3.10/site-packages (from requests>=2.4->streamlit==1.11.0->-r requirements.txt (line 3)) (2022.12.7)\n",
      "Requirement already satisfied: idna<4,>=2.5 in /home/ec2-user/anaconda3/envs/python3/lib/python3.10/site-packages (from requests>=2.4->streamlit==1.11.0->-r requirements.txt (line 3)) (3.4)\n",
      "Requirement already satisfied: urllib3<1.27,>=1.21.1 in /home/ec2-user/anaconda3/envs/python3/lib/python3.10/site-packages (from requests>=2.4->streamlit==1.11.0->-r requirements.txt (line 3)) (1.26.8)\n",
      "Requirement already satisfied: charset-normalizer<3,>=2 in /home/ec2-user/anaconda3/envs/python3/lib/python3.10/site-packages (from requests>=2.4->streamlit==1.11.0->-r requirements.txt (line 3)) (2.1.1)\n",
      "Requirement already satisfied: markdown-it-py<3.0.0,>=2.2.0 in /home/ec2-user/anaconda3/envs/python3/lib/python3.10/site-packages (from rich>=10.11.0->streamlit==1.11.0->-r requirements.txt (line 3)) (2.2.0)\n",
      "Requirement already satisfied: pygments<3.0.0,>=2.13.0 in /home/ec2-user/anaconda3/envs/python3/lib/python3.10/site-packages (from rich>=10.11.0->streamlit==1.11.0->-r requirements.txt (line 3)) (2.14.0)\n",
      "Requirement already satisfied: pytz-deprecation-shim in /home/ec2-user/anaconda3/envs/python3/lib/python3.10/site-packages (from tzlocal>=1.1->streamlit==1.11.0->-r requirements.txt (line 3)) (0.1.0.post0)\n",
      "Requirement already satisfied: decorator>=3.4.0 in /home/ec2-user/anaconda3/envs/python3/lib/python3.10/site-packages (from validators>=0.2->streamlit==1.11.0->-r requirements.txt (line 3)) (5.1.1)\n",
      "Requirement already satisfied: smmap<6,>=3.0.1 in /home/ec2-user/anaconda3/envs/python3/lib/python3.10/site-packages (from gitdb<5,>=4.0.1->gitpython!=3.1.19->streamlit==1.11.0->-r requirements.txt (line 3)) (5.0.0)\n",
      "Requirement already satisfied: MarkupSafe>=2.0 in /home/ec2-user/anaconda3/envs/python3/lib/python3.10/site-packages (from jinja2->altair>=3.2.0->streamlit==1.11.0->-r requirements.txt (line 3)) (2.1.1)\n",
      "Requirement already satisfied: setuptools in /home/ec2-user/anaconda3/envs/python3/lib/python3.10/site-packages (from jsonschema>=3.0->altair>=3.2.0->streamlit==1.11.0->-r requirements.txt (line 3)) (65.6.3)\n",
      "Requirement already satisfied: pyrsistent>=0.14.0 in /home/ec2-user/anaconda3/envs/python3/lib/python3.10/site-packages (from jsonschema>=3.0->altair>=3.2.0->streamlit==1.11.0->-r requirements.txt (line 3)) (0.19.3)\n",
      "Requirement already satisfied: mdurl~=0.1 in /home/ec2-user/anaconda3/envs/python3/lib/python3.10/site-packages (from markdown-it-py<3.0.0,>=2.2.0->rich>=10.11.0->streamlit==1.11.0->-r requirements.txt (line 3)) (0.1.2)\n",
      "Requirement already satisfied: tzdata in /home/ec2-user/anaconda3/envs/python3/lib/python3.10/site-packages (from pytz-deprecation-shim->tzlocal>=1.1->streamlit==1.11.0->-r requirements.txt (line 3)) (2023.3)\n",
      "Installing collected packages: opencv-python, opencv-contrib-python\n",
      "Successfully installed opencv-contrib-python-4.7.0.72 opencv-python-4.7.0.72\n"
     ]
    }
   ],
   "source": [
    "!pip install -r requirements.txt"
   ]
  },
  {
   "cell_type": "code",
   "execution_count": null,
   "id": "e3c48051-3f40-45af-bc5b-da4e24186818",
   "metadata": {},
   "outputs": [],
   "source": []
  },
  {
   "cell_type": "markdown",
   "id": "5d943adb-d28a-4d44-b0a0-86a9e4587b7e",
   "metadata": {},
   "source": [
    "# 以下、作業用"
   ]
  },
  {
   "cell_type": "markdown",
   "id": "ab1a34c8-0397-4476-8256-c5da5dd5167d",
   "metadata": {},
   "source": [
    "## StreamlitアクセスURL\n",
    "※ノートブックインスタンスのurlに修正して使用する\n",
    "\n",
    "1. AWSノートブックインスタンス用\n",
    "\n",
    "　　https://trolley-monitor.notebook.ap-northeast-1.sagemaker.aws/proxy/8501/\n",
    "\n",
    "2. JREノートブックインスタンス用\n",
    "\n",
    "　　https://trolley-monitor-jrework.notebook.ap-northeast-1.sagemaker.aws/proxy/8501/\n"
   ]
  },
  {
   "cell_type": "code",
   "execution_count": 4,
   "id": "28549d70",
   "metadata": {
    "tags": []
   },
   "outputs": [
    {
     "name": "stdout",
     "output_type": "stream",
     "text": [
      "2023-05-09 06:21:46.880 INFO    numexpr.utils: NumExpr defaulting to 2 threads.\n",
      "\u001b[0m\n",
      "\u001b[34m\u001b[1m  You can now view your Streamlit app in your browser.\u001b[0m\n",
      "\u001b[0m\n",
      "\u001b[34m  URL: \u001b[0m\u001b[1mhttp://localhost:8501\u001b[0m\n",
      "\u001b[0m\n",
      "2023-05-09 06:21:57.487 Uncaught app exception\n",
      "Traceback (most recent call last):\n",
      "  File \"/home/ec2-user/anaconda3/envs/python3/lib/python3.10/site-packages/streamlit/legacy_caching/caching.py\", line 539, in get_or_create_cached_value\n",
      "    return_value = _read_from_cache(\n",
      "  File \"/home/ec2-user/anaconda3/envs/python3/lib/python3.10/site-packages/streamlit/legacy_caching/caching.py\", line 338, in _read_from_cache\n",
      "    raise e\n",
      "  File \"/home/ec2-user/anaconda3/envs/python3/lib/python3.10/site-packages/streamlit/legacy_caching/caching.py\", line 323, in _read_from_cache\n",
      "    return _read_from_mem_cache(\n",
      "  File \"/home/ec2-user/anaconda3/envs/python3/lib/python3.10/site-packages/streamlit/legacy_caching/caching.py\", line 241, in _read_from_mem_cache\n",
      "    raise CacheKeyNotFoundError(\"Key not found in mem cache\")\n",
      "streamlit.legacy_caching.caching.CacheKeyNotFoundError: Key not found in mem cache\n",
      "\n",
      "During handling of the above exception, another exception occurred:\n",
      "\n",
      "Traceback (most recent call last):\n",
      "  File \"/home/ec2-user/anaconda3/envs/python3/lib/python3.10/site-packages/streamlit/scriptrunner/script_runner.py\", line 557, in _run_script\n",
      "    exec(code, module.__dict__)\n",
      "  File \"pages/1_⚡_摩耗判定システム.py\", line 127, in <module>\n",
      "    ohc_wear_analysis(config)\n",
      "  File \"pages/1_⚡_摩耗判定システム.py\", line 32, in ohc_wear_analysis\n",
      "    vis.dir_area_view_JP(config, dir_area, main_view)\n",
      "  File \"/home/ec2-user/SageMaker/AmazonSageMaker-trolley-monitor-onSOW/src/visualize.py\", line 36, in dir_area_view_JP\n",
      "    rail_name, st_name, updown_name, measurement_date, measurement_time = helpers.rail_message(dir_area, config)\n",
      "  File \"/home/ec2-user/anaconda3/envs/python3/lib/python3.10/site-packages/streamlit/legacy_caching/caching.py\", line 573, in wrapped_func\n",
      "    return get_or_create_cached_value()\n",
      "  File \"/home/ec2-user/anaconda3/envs/python3/lib/python3.10/site-packages/streamlit/legacy_caching/caching.py\", line 557, in get_or_create_cached_value\n",
      "    return_value = func(*args, **kwargs)\n",
      "  File \"/home/ec2-user/SageMaker/AmazonSageMaker-trolley-monitor-onSOW/src/helpers.py\", line 95, in rail_message\n",
      "    str_list = re.split('[_-]', dir_area)\n",
      "  File \"/home/ec2-user/anaconda3/envs/python3/lib/python3.10/re.py\", line 230, in split\n",
      "    return _compile(pattern, flags).split(string, maxsplit)\n",
      "TypeError: expected string or bytes-like object\n",
      "2023-05-09 06:26:52.041 Uncaught app exception\n",
      "Traceback (most recent call last):\n",
      "  File \"/home/ec2-user/anaconda3/envs/python3/lib/python3.10/site-packages/streamlit/legacy_caching/caching.py\", line 539, in get_or_create_cached_value\n",
      "    return_value = _read_from_cache(\n",
      "  File \"/home/ec2-user/anaconda3/envs/python3/lib/python3.10/site-packages/streamlit/legacy_caching/caching.py\", line 338, in _read_from_cache\n",
      "    raise e\n",
      "  File \"/home/ec2-user/anaconda3/envs/python3/lib/python3.10/site-packages/streamlit/legacy_caching/caching.py\", line 323, in _read_from_cache\n",
      "    return _read_from_mem_cache(\n",
      "  File \"/home/ec2-user/anaconda3/envs/python3/lib/python3.10/site-packages/streamlit/legacy_caching/caching.py\", line 241, in _read_from_mem_cache\n",
      "    raise CacheKeyNotFoundError(\"Key not found in mem cache\")\n",
      "streamlit.legacy_caching.caching.CacheKeyNotFoundError: Key not found in mem cache\n",
      "\n",
      "During handling of the above exception, another exception occurred:\n",
      "\n",
      "Traceback (most recent call last):\n",
      "  File \"/home/ec2-user/anaconda3/envs/python3/lib/python3.10/site-packages/streamlit/scriptrunner/script_runner.py\", line 557, in _run_script\n",
      "    exec(code, module.__dict__)\n",
      "  File \"pages/1_⚡_摩耗判定システム.py\", line 127, in <module>\n",
      "    ohc_wear_analysis(config)\n",
      "  File \"pages/1_⚡_摩耗判定システム.py\", line 32, in ohc_wear_analysis\n",
      "    vis.dir_area_view_JP(config, dir_area, main_view)\n",
      "  File \"/home/ec2-user/SageMaker/AmazonSageMaker-trolley-monitor-onSOW/src/visualize.py\", line 36, in dir_area_view_JP\n",
      "    rail_name, st_name, updown_name, measurement_date, measurement_time = helpers.rail_message(dir_area, config)\n",
      "  File \"/home/ec2-user/anaconda3/envs/python3/lib/python3.10/site-packages/streamlit/legacy_caching/caching.py\", line 573, in wrapped_func\n",
      "    return get_or_create_cached_value()\n",
      "  File \"/home/ec2-user/anaconda3/envs/python3/lib/python3.10/site-packages/streamlit/legacy_caching/caching.py\", line 557, in get_or_create_cached_value\n",
      "    return_value = func(*args, **kwargs)\n",
      "  File \"/home/ec2-user/SageMaker/AmazonSageMaker-trolley-monitor-onSOW/src/helpers.py\", line 95, in rail_message\n",
      "    str_list = re.split('[_-]', dir_area)\n",
      "  File \"/home/ec2-user/anaconda3/envs/python3/lib/python3.10/re.py\", line 230, in split\n",
      "    return _compile(pattern, flags).split(string, maxsplit)\n",
      "TypeError: expected string or bytes-like object\n",
      "^C\n",
      "\u001b[34m  Stopping...\u001b[0m\n"
     ]
    }
   ],
   "source": [
    "!streamlit run 🖐_Hello_OHC_System.py"
   ]
  },
  {
   "cell_type": "code",
   "execution_count": null,
   "id": "f1d240c7-2dc0-49b7-8eb8-1b79f1ef8af5",
   "metadata": {
    "tags": []
   },
   "outputs": [],
   "source": [
    "!streamlit run app.py"
   ]
  },
  {
   "cell_type": "code",
   "execution_count": null,
   "id": "658caaa4-fda2-445c-a395-c41281d89127",
   "metadata": {},
   "outputs": [],
   "source": []
  }
 ],
 "metadata": {
  "kernelspec": {
   "display_name": "conda_python3",
   "language": "python",
   "name": "conda_python3"
  },
  "language_info": {
   "codemirror_mode": {
    "name": "ipython",
    "version": 3
   },
   "file_extension": ".py",
   "mimetype": "text/x-python",
   "name": "python",
   "nbconvert_exporter": "python",
   "pygments_lexer": "ipython3",
   "version": "3.10.8"
  }
 },
 "nbformat": 4,
 "nbformat_minor": 5
}
