{
 "cells": [
  {
   "cell_type": "markdown",
   "id": "ed96f9e8-77d2-40fb-9402-437fcd4e4e5f",
   "metadata": {},
   "source": [
    "# railファイル確認用"
   ]
  },
  {
   "cell_type": "code",
   "execution_count": 1,
   "id": "cee54604-0345-448c-aaa6-84483a0b892a",
   "metadata": {
    "tags": []
   },
   "outputs": [
    {
     "name": "stderr",
     "output_type": "stream",
     "text": [
      "2023-05-25 06:10:28.218 INFO    numexpr.utils: NumExpr defaulting to 4 threads.\n"
     ]
    }
   ],
   "source": [
    "import boto3\n",
    "import os\n",
    "import shelve\n",
    "import copy\n",
    "import streamlit as st\n",
    "import matplotlib.pyplot as plt\n",
    "from PIL import Image\n",
    "from io import BytesIO\n",
    "import pandas as pd\n",
    "import numpy as np\n",
    "import datetime\n",
    "# import src.utilsST_01 as utlst\n",
    "import src.helpers as helpers\n",
    "import src.visualize as vis\n",
    "from src.config import appProperties\n",
    "from src.trolley import trolley\n",
    "from src.similar_pixel import pixel\n",
    "\n",
    "config = appProperties('config.yml')"
   ]
  },
  {
   "cell_type": "code",
   "execution_count": 8,
   "id": "8232d452-550e-4bf0-a865-10238907dedd",
   "metadata": {
    "tags": []
   },
   "outputs": [],
   "source": [
    "dir_area = \"Chuo_01_Tokyo-St_up_20230201_knight\"\n",
    "# dir_area = \"Chuo_02_Tokyo-Kanda_up_20230201_knight\"\n",
    "camera_num = \"HD11\"\n",
    "target_dir = config.image_dir + \"/\" + dir_area + \"/\" + camera_num\n",
    "outpath = config.output_dir + \"/\" + dir_area + \"/\" + camera_num\n",
    "\n",
    "base_images = helpers.list_images(target_dir)\n",
    "\n",
    "rail_fpath = outpath + \"/rail.shelve\"\n",
    "\n",
    "with shelve.open(rail_fpath) as rail:\n",
    "    rail_dict = copy.deepcopy(rail)\n",
    "\n",
    "# rail = shelve.open(rail_fpath)"
   ]
  },
  {
   "cell_type": "code",
   "execution_count": null,
   "id": "b592d919-cd06-4947-97b2-d01901a4a3b3",
   "metadata": {
    "tags": []
   },
   "outputs": [],
   "source": [
    "keys = rail_dict.keys()\n",
    "for i, key in enumerate(keys):\n",
    "    print(f'{i}: {key}')"
   ]
  },
  {
   "cell_type": "code",
   "execution_count": null,
   "id": "63efdd86-4b0c-4228-ad36-a50b89b7e52f",
   "metadata": {
    "tags": []
   },
   "outputs": [],
   "source": [
    "keys = rail_dict[camera_num].keys()\n",
    "for i, key in enumerate(keys):\n",
    "    print(f'{i}: {key}')"
   ]
  },
  {
   "cell_type": "code",
   "execution_count": null,
   "id": "7020f4bc-0dfd-407d-893e-daef4852aaf1",
   "metadata": {
    "tags": []
   },
   "outputs": [],
   "source": [
    "image_path = base_images[9]\n",
    "image_path"
   ]
  },
  {
   "cell_type": "code",
   "execution_count": null,
   "id": "475a706b-ccbb-44e1-886b-24a6ed5b6c0a",
   "metadata": {
    "tags": []
   },
   "outputs": [],
   "source": [
    "keys = rail_dict[camera_num][image_path].keys()\n",
    "for i, key in enumerate(keys):\n",
    "    print(f'{i}: {key}')"
   ]
  },
  {
   "cell_type": "code",
   "execution_count": null,
   "id": "47ce7338-7349-4126-a4ff-69a29794b6fe",
   "metadata": {
    "tags": []
   },
   "outputs": [],
   "source": [
    "keys = rail_dict[camera_num][image_path][\"trolley1\"].keys()\n",
    "for i, key in enumerate(keys):\n",
    "    print(f'{i}: {key}')"
   ]
  },
  {
   "cell_type": "code",
   "execution_count": null,
   "id": "57e42afe-4b92-4099-ba6f-b5d98948f5bd",
   "metadata": {
    "tags": []
   },
   "outputs": [],
   "source": [
    "image_path = base_images[1]\n",
    "rail[\"HD11\"][image_path][\"trolley1\"][\"estimated_upper_edge\"]"
   ]
  },
  {
   "cell_type": "code",
   "execution_count": 9,
   "id": "a2155471-7633-4a85-a18a-90e0f7901ade",
   "metadata": {
    "tags": []
   },
   "outputs": [
    {
     "name": "stdout",
     "output_type": "stream",
     "text": [
      "0> imgs/Chuo_01_Tokyo-St_up_20230201_knight/HD11/2022_0615_HD11_01_00022312.jpg\n",
      "1> imgs/Chuo_01_Tokyo-St_up_20230201_knight/HD11/2022_0615_HD11_01_00022313.jpg\n",
      "2> imgs/Chuo_01_Tokyo-St_up_20230201_knight/HD11/2022_0615_HD11_01_00022314.jpg\n",
      "3> imgs/Chuo_01_Tokyo-St_up_20230201_knight/HD11/2022_0615_HD11_01_00022315.jpg\n",
      "4> imgs/Chuo_01_Tokyo-St_up_20230201_knight/HD11/2022_0615_HD11_01_00022316.jpg\n",
      "5> imgs/Chuo_01_Tokyo-St_up_20230201_knight/HD11/2022_0615_HD11_01_00022317.jpg\n",
      "6> imgs/Chuo_01_Tokyo-St_up_20230201_knight/HD11/2022_0615_HD11_01_00022318.jpg\n",
      "7> imgs/Chuo_01_Tokyo-St_up_20230201_knight/HD11/2022_0615_HD11_01_00022319.jpg\n",
      "8> imgs/Chuo_01_Tokyo-St_up_20230201_knight/HD11/2022_0615_HD11_01_00022320.jpg\n",
      "9> imgs/Chuo_01_Tokyo-St_up_20230201_knight/HD11/2022_0615_HD11_01_00022321.jpg\n",
      "10> imgs/Chuo_01_Tokyo-St_up_20230201_knight/HD11/2022_0615_HD11_01_00022322.jpg\n",
      "11> imgs/Chuo_01_Tokyo-St_up_20230201_knight/HD11/2022_0615_HD11_01_00022323.jpg\n",
      "12> imgs/Chuo_01_Tokyo-St_up_20230201_knight/HD11/2022_0615_HD11_01_00022324.jpg\n",
      "13> imgs/Chuo_01_Tokyo-St_up_20230201_knight/HD11/2022_0615_HD11_01_00022325.jpg\n",
      "14> imgs/Chuo_01_Tokyo-St_up_20230201_knight/HD11/2022_0615_HD11_01_00022326.jpg\n",
      "15> imgs/Chuo_01_Tokyo-St_up_20230201_knight/HD11/2022_0615_HD11_01_00022327.jpg\n",
      "16> imgs/Chuo_01_Tokyo-St_up_20230201_knight/HD11/2022_0615_HD11_01_00022328.jpg\n",
      "17> imgs/Chuo_01_Tokyo-St_up_20230201_knight/HD11/2022_0615_HD11_01_00022329.jpg\n",
      "18> imgs/Chuo_01_Tokyo-St_up_20230201_knight/HD11/2022_0615_HD11_01_00022330.jpg\n",
      "19> imgs/Chuo_01_Tokyo-St_up_20230201_knight/HD11/2022_0615_HD11_01_00022331.jpg\n",
      "20> imgs/Chuo_01_Tokyo-St_up_20230201_knight/HD11/2022_0615_HD11_01_00022332.jpg\n",
      "21> imgs/Chuo_01_Tokyo-St_up_20230201_knight/HD11/2022_0615_HD11_01_00022333.jpg\n",
      "22> imgs/Chuo_01_Tokyo-St_up_20230201_knight/HD11/2022_0615_HD11_01_00022334.jpg\n",
      "23> imgs/Chuo_01_Tokyo-St_up_20230201_knight/HD11/2022_0615_HD11_01_00022335.jpg\n",
      "24> imgs/Chuo_01_Tokyo-St_up_20230201_knight/HD11/2022_0615_HD11_01_00022336.jpg\n",
      "25> imgs/Chuo_01_Tokyo-St_up_20230201_knight/HD11/2022_0615_HD11_01_00022337.jpg\n",
      "26> imgs/Chuo_01_Tokyo-St_up_20230201_knight/HD11/2022_0615_HD11_01_00022338.jpg\n",
      "27> imgs/Chuo_01_Tokyo-St_up_20230201_knight/HD11/2022_0615_HD11_01_00022339.jpg\n",
      "28> imgs/Chuo_01_Tokyo-St_up_20230201_knight/HD11/2022_0615_HD11_01_00022340.jpg\n",
      "29> imgs/Chuo_01_Tokyo-St_up_20230201_knight/HD11/2022_0615_HD11_01_00022341.jpg\n",
      "30> imgs/Chuo_01_Tokyo-St_up_20230201_knight/HD11/2022_0615_HD11_01_00022342.jpg\n",
      "31> imgs/Chuo_01_Tokyo-St_up_20230201_knight/HD11/2022_0615_HD11_01_00022343.jpg\n",
      "32> imgs/Chuo_01_Tokyo-St_up_20230201_knight/HD11/2022_0615_HD11_01_00022344.jpg\n",
      "33> imgs/Chuo_01_Tokyo-St_up_20230201_knight/HD11/2022_0615_HD11_01_00022345.jpg\n",
      "34> imgs/Chuo_01_Tokyo-St_up_20230201_knight/HD11/2022_0615_HD11_01_00022346.jpg\n",
      "35> imgs/Chuo_01_Tokyo-St_up_20230201_knight/HD11/2022_0615_HD11_01_00022347.jpg\n",
      "36> imgs/Chuo_01_Tokyo-St_up_20230201_knight/HD11/2022_0615_HD11_01_00022348.jpg\n",
      "37> imgs/Chuo_01_Tokyo-St_up_20230201_knight/HD11/2022_0615_HD11_01_00022349.jpg\n",
      "38> imgs/Chuo_01_Tokyo-St_up_20230201_knight/HD11/2022_0615_HD11_01_00022350.jpg\n",
      "39> imgs/Chuo_01_Tokyo-St_up_20230201_knight/HD11/2022_0615_HD11_01_00022351.jpg\n",
      "40> imgs/Chuo_01_Tokyo-St_up_20230201_knight/HD11/2022_0615_HD11_01_00022352.jpg\n",
      "41> imgs/Chuo_01_Tokyo-St_up_20230201_knight/HD11/2022_0615_HD11_01_00022353.jpg\n",
      "42> imgs/Chuo_01_Tokyo-St_up_20230201_knight/HD11/2022_0615_HD11_01_00022354.jpg\n",
      "43> imgs/Chuo_01_Tokyo-St_up_20230201_knight/HD11/2022_0615_HD11_01_00022355.jpg\n",
      "44> imgs/Chuo_01_Tokyo-St_up_20230201_knight/HD11/2022_0615_HD11_01_00022356.jpg\n",
      "45> imgs/Chuo_01_Tokyo-St_up_20230201_knight/HD11/2022_0615_HD11_01_00022357.jpg\n",
      "46> imgs/Chuo_01_Tokyo-St_up_20230201_knight/HD11/2022_0615_HD11_01_00022358.jpg\n",
      "47> imgs/Chuo_01_Tokyo-St_up_20230201_knight/HD11/2022_0615_HD11_01_00022359.jpg\n",
      "48> imgs/Chuo_01_Tokyo-St_up_20230201_knight/HD11/2022_0615_HD11_01_00022360.jpg\n",
      "49> imgs/Chuo_01_Tokyo-St_up_20230201_knight/HD11/2022_0615_HD11_01_00022361.jpg\n",
      "break\n"
     ]
    },
    {
     "data": {
      "image/png": "[encoded data removed]",
      "text/plain": [
       "<Figure size 640x480 with 1 Axes>"
      ]
     },
     "metadata": {},
     "output_type": "display_data"
    },
    {
     "name": "stdout",
     "output_type": "stream",
     "text": [
      "2023-05-25 07:02:57.639392 Process end :0:00:02.260500\n"
     ]
    }
   ],
   "source": [
    "'''\n",
    "case1: xのみnp.array   -> 2023-05-24 00:44:31.574638 Process end :0:00:45.240699\n",
    "case2: x,yをnp.array   -> 2023-05-24 02:24:05.555617 Process end :0:00:57.180313\n",
    "case3: rail_dict化     -> 2023-05-24 04:58:30.819891 Process end :0:00:07.624567\n",
    "case4: shelve.open追加 -> 2023-05-24 05:17:12.809013 Process end :0:00:03.504746\n",
    "'''\n",
    "\n",
    "dt01 = datetime.datetime.now()\n",
    "\n",
    "img_num = 50\n",
    "\n",
    "with shelve.open(rail_fpath) as rail:\n",
    "    trolley_dict = copy.deepcopy(rail[camera_num])\n",
    "\n",
    "for idx, image_path in enumerate(base_images):\n",
    "    print(f\"{idx}> {image_path}\")\n",
    "    x_values = np.array([n + 1000 * idx for n in trolley_dict[image_path][config.trolley_ids[0]][\"ix\"]])\n",
    "    for trolley_id in config.trolley_ids:\n",
    "        plt.plot(x_values, trolley_dict[image_path][trolley_id][\"estimated_upper_edge\"])\n",
    "        plt.plot(x_values, trolley_dict[image_path][trolley_id][\"estimated_lower_edge\"])\n",
    "    if idx >= img_num-1:\n",
    "        print(\"break\")\n",
    "        break\n",
    "\n",
    "plt.show()\n",
    "\n",
    "dt02 = datetime.datetime.now()\n",
    "prc_time = dt02 - dt01\n",
    "print(str(datetime.datetime.now()) + f' Process end :{prc_time}')"
   ]
  },
  {
   "cell_type": "code",
   "execution_count": 10,
   "id": "fd3e99c0-44ab-46c0-b17d-b5dfcbc3f8e6",
   "metadata": {
    "tags": []
   },
   "outputs": [
    {
     "name": "stdout",
     "output_type": "stream",
     "text": [
      "ix\n",
      "estimated_upper_edge\n",
      "estimated_lower_edge\n",
      "estimated_width\n",
      "estimated_slope\n",
      "brightness_center\n",
      "brightness_mean\n",
      "brightness_std\n",
      "current_state\n",
      "estimated_upper_edge_variance\n",
      "estimated_lower_edge_variance\n",
      "estimated_slope_variance\n",
      "upper_boundary\n",
      "lower_boundary\n"
     ]
    }
   ],
   "source": [
    "for key in trolley_dict[base_images[0]]['trolley1'].keys():\n",
    "    print(key)"
   ]
  },
  {
   "cell_type": "code",
   "execution_count": 11,
   "id": "93c6336e-c9e8-41a0-92a3-a8edb0b35839",
   "metadata": {
    "tags": []
   },
   "outputs": [
    {
     "name": "stdout",
     "output_type": "stream",
     "text": [
      "最後の検出結果\n",
      "trolley_id:trolley1\n",
      "estimated_upper_edge:1165\n",
      "estimated_lower_edge:1178\n",
      "brightness_std:40.11698454494794\n",
      "brightness_center:255\n",
      "trolley_id:trolley2\n",
      "estimated_upper_edge:0\n",
      "estimated_lower_edge:0\n",
      "brightness_std:0.0\n",
      "brightness_center:12\n",
      "trolley_id:trolley3\n",
      "estimated_upper_edge:0\n",
      "estimated_lower_edge:0\n",
      "brightness_std:0.0\n",
      "brightness_center:12\n"
     ]
    }
   ],
   "source": [
    "print(\"最後の検出結果\")\n",
    "for trolley_id in config.trolley_ids:\n",
    "    print(f\"trolley_id:{trolley_id}\")\n",
    "    print(f'estimated_upper_edge:{trolley_dict[image_path][trolley_id][\"estimated_upper_edge\"][999]}')\n",
    "    print(f'estimated_lower_edge:{trolley_dict[image_path][trolley_id][\"estimated_lower_edge\"][999]}')\n",
    "    print(f'brightness_std:{trolley_dict[image_path][trolley_id][\"brightness_std\"][999]}')\n",
    "    print(f'brightness_center:{trolley_dict[image_path][trolley_id][\"brightness_center\"][999]}')"
   ]
  },
  {
   "cell_type": "code",
   "execution_count": null,
   "id": "92b70c08-b122-4706-bc35-f5cb6c5a5aed",
   "metadata": {},
   "outputs": [],
   "source": []
  },
  {
   "cell_type": "markdown",
   "id": "32af0814-cfea-4773-a0a9-129fa2aa93cc",
   "metadata": {},
   "source": [
    "# 結果画像の表示"
   ]
  },
  {
   "cell_type": "code",
   "execution_count": null,
   "id": "c5a101f4-7aff-4bd7-9583-f9d31e82d1cd",
   "metadata": {},
   "outputs": [],
   "source": [
    "with shelve.open(rail_fpath) as rail:\n",
    "    trolley_dict = copy.deepcopy(rail[camera_num])\n",
    "\n",
    "idx = 0\n",
    "image_path = base_images[idx]\n",
    "img = Image.open(image_path)\n",
    "print(f\"{idx}> {image_path}\")\n",
    "\n",
    "x_values = np.array([n + 1000 * idx for n in trolley_dict[image_path][config.trolley_ids[0]][\"ix\"]])\n",
    "for trolley_id in config.trolley_ids:\n",
    "    plt.plot(x_values, trolley_dict[image_path][trolley_id][\"estimated_upper_edge\"])\n",
    "    plt.plot(x_values, trolley_dict[image_path][trolley_id][\"estimated_lower_edge\"])\n"
   ]
  },
  {
   "cell_type": "code",
   "execution_count": null,
   "id": "1f155a5a-e5cc-4447-ba61-a32d06b1bbbd",
   "metadata": {
    "tags": []
   },
   "outputs": [],
   "source": [
    "# 画像とデータの読み込み\n",
    "with shelve.open(rail_fpath) as rail:\n",
    "    trolley_dict = copy.deepcopy(rail[camera_num])\n",
    "\n",
    "idx = 0\n",
    "image_path = base_images[idx]\n",
    "img = Image.open(image_path)\n",
    "print(f\"{idx}> {image_path}\")\n",
    "\n",
    "# 画像をnumpy配列に変換\n",
    "img_array = np.array(img)\n",
    "\n",
    "# ランダムに1000画素を選択し、その平均輝度を背景の輝度とする\n",
    "random_pixels = img_array[np.random.randint(0, img_array.shape[0], 1000), np.random.randint(0, img_array.shape[1], 1000)]\n",
    "background_brightness = random_pixels.mean()\n",
    "\n",
    "# データを描画\n",
    "x_values = trolley_dict[image_path][config.trolley_ids[0]][\"ix\"]\n",
    "for trolley_id in config.trolley_ids:\n",
    "    upper_edge = trolley_dict[image_path][trolley_id][\"estimated_upper_edge\"]\n",
    "    lower_edge = trolley_dict[image_path][trolley_id][\"estimated_lower_edge\"]\n",
    "    for x, y1, y2 in zip(x_values, upper_edge, lower_edge):\n",
    "        # estimated_upper_edgeとestimated_lower_edgeが0でない場合のみ色を変更\n",
    "        if y1 != 0:\n",
    "            color_upper = [0, 255, 0] if background_brightness < 128 else [255, 0, 0]  # 緑または赤\n",
    "            img_array[y1, x] = color_upper\n",
    "        if y2 != 0:\n",
    "            color_lower = [0, 255, 0] if background_brightness < 128 else [255, 0, 0]  # 緑または赤\n",
    "            img_array[y2, x] = color_lower\n",
    "\n",
    "# 変更後の画像を表示\n",
    "display_img = Image.fromarray(img_array)\n",
    "display_img"
   ]
  },
  {
   "cell_type": "markdown",
   "id": "94adae79-db68-4a5c-9abc-3a52100995f8",
   "metadata": {},
   "source": [
    "# 結果をCSV出力する"
   ]
  },
  {
   "cell_type": "code",
   "execution_count": null,
   "id": "5ab9e95a-555e-457b-ac69-4575c33441d1",
   "metadata": {},
   "outputs": [],
   "source": []
  }
 ],
 "metadata": {
  "kernelspec": {
   "display_name": "conda_python3",
   "language": "python",
   "name": "conda_python3"
  },
  "language_info": {
   "codemirror_mode": {
    "name": "ipython",
    "version": 3
   },
   "file_extension": ".py",
   "mimetype": "text/x-python",
   "name": "python",
   "nbconvert_exporter": "python",
   "pygments_lexer": "ipython3",
   "version": "3.10.8"
  }
 },
 "nbformat": 4,
 "nbformat_minor": 5
}
