{
 "cells": [
  {
   "cell_type": "markdown",
   "id": "ed96f9e8-77d2-40fb-9402-437fcd4e4e5f",
   "metadata": {},
   "source": [
    "# railファイル確認用"
   ]
  },
  {
   "cell_type": "code",
   "execution_count": 19,
   "id": "cee54604-0345-448c-aaa6-84483a0b892a",
   "metadata": {
    "tags": []
   },
   "outputs": [],
   "source": [
    "import boto3\n",
    "import os\n",
    "import importlib\n",
    "import shelve\n",
    "import copy\n",
    "import streamlit as st\n",
    "import matplotlib.pyplot as plt\n",
    "from PIL import Image\n",
    "from io import BytesIO\n",
    "import pandas as pd\n",
    "import numpy as np\n",
    "import datetime\n",
    "# import src.utilsST_01 as utlst\n",
    "import src.helpers as helpers\n",
    "import src.visualize as vis\n",
    "from src.config import appProperties\n",
    "from src.trolley import trolley\n",
    "from src.similar_pixel import pixel\n",
    "from src.kalman import kalman\n",
    "from src.logger import my_logger\n",
    "from pprint import pprint\n",
    "importlib.reload(helpers)\n",
    "importlib.reload(vis)\n",
    "\n",
    "config = appProperties('config.yml')"
   ]
  },
  {
   "cell_type": "code",
   "execution_count": 2,
   "id": "8232d452-550e-4bf0-a865-10238907dedd",
   "metadata": {
    "tags": []
   },
   "outputs": [],
   "source": [
    "images_path = helpers.list_imagespath_nonCache(config.image_dir)\n",
    "# dir_area = \"Chuo_01_Tokyo-St_up_20230201_knight\"\n",
    "# dir_area = \"Chuo_02_Tokyo-Kanda_up_20230201_knight\"\n",
    "# dir_area = \"Kawagoe_02_Nishioomiya-Sashiougi_down_20220626_knight\"\n",
    "# dir_area = \"Chuo_24_Higashinakano-Nakano_down_20230201_day\"\n",
    "# dir_area = \"Takasaki_01_Omiya-Miyahara_up_20230217_day\"\n",
    "# dir_area = \"Yamate_49_Takadanobaba-st_soto_20230129_knight\"\n",
    "dir_area = \"Yamate_40_Shibuya-st_soto_20230129_knight\"\n",
    "camera_num = \"HD11\"\n",
    "target_dir = config.image_dir + \"/\" + dir_area + \"/\" + camera_num\n",
    "outpath = config.output_dir + \"/\" + dir_area + \"/\" + camera_num\n",
    "\n",
    "base_images = helpers.list_images(target_dir)\n",
    "\n",
    "rail_fpath = outpath + \"/rail.shelve\"\n",
    "\n",
    "# with shelve.open(rail_fpath) as rail:\n",
    "#     rail_dict = copy.deepcopy(rail)\n",
    "\n",
    "# rail = shelve.open(rail_fpath)"
   ]
  },
  {
   "cell_type": "code",
   "execution_count": null,
   "id": "c804ddf0-c0c2-4489-a2b1-f0b0312ad89a",
   "metadata": {
    "tags": []
   },
   "outputs": [],
   "source": [
    "len(base_images)"
   ]
  },
  {
   "cell_type": "markdown",
   "id": "079450dd-d51f-4d62-aaf4-27a323a32aee",
   "metadata": {
    "tags": []
   },
   "source": [
    "# shelveファイルの中身を1階層ずつチェックする"
   ]
  },
  {
   "cell_type": "code",
   "execution_count": null,
   "id": "b592d919-cd06-4947-97b2-d01901a4a3b3",
   "metadata": {
    "tags": []
   },
   "outputs": [],
   "source": [
    "with shelve.open(rail_fpath) as rail:\n",
    "    rail_dict = copy.deepcopy(rail)\n",
    "\n",
    "keys = rail_dict.keys()\n",
    "for i, key in enumerate(keys):\n",
    "    print(f'{i}: {key}')"
   ]
  },
  {
   "cell_type": "code",
   "execution_count": null,
   "id": "63efdd86-4b0c-4228-ad36-a50b89b7e52f",
   "metadata": {
    "tags": []
   },
   "outputs": [],
   "source": [
    "keys = rail_dict[camera_num].keys()\n",
    "for i, key in enumerate(keys):\n",
    "    print(f'{i}: {key}')"
   ]
  },
  {
   "cell_type": "code",
   "execution_count": null,
   "id": "7020f4bc-0dfd-407d-893e-daef4852aaf1",
   "metadata": {
    "tags": []
   },
   "outputs": [],
   "source": [
    "image_path = base_images[0]\n",
    "image_path"
   ]
  },
  {
   "cell_type": "code",
   "execution_count": null,
   "id": "475a706b-ccbb-44e1-886b-24a6ed5b6c0a",
   "metadata": {
    "tags": []
   },
   "outputs": [],
   "source": [
    "keys = rail_dict[camera_num][image_path].keys()\n",
    "for i, key in enumerate(keys):\n",
    "    print(f'{i}: {key}')"
   ]
  },
  {
   "cell_type": "code",
   "execution_count": null,
   "id": "78477b7d-428d-4352-a197-fcd816e66c3c",
   "metadata": {},
   "outputs": [],
   "source": []
  },
  {
   "cell_type": "code",
   "execution_count": null,
   "id": "3da2bd3c-40d2-4bd9-9a81-216a31cf2304",
   "metadata": {
    "tags": []
   },
   "outputs": [],
   "source": [
    "with shelve.open(rail_fpath) as rail:\n",
    "    trolley_dict = copy.deepcopy(rail[camera_num])"
   ]
  },
  {
   "cell_type": "code",
   "execution_count": null,
   "id": "3eb55a05-78ed-452b-a4f2-a6833c7dfa37",
   "metadata": {
    "tags": []
   },
   "outputs": [],
   "source": [
    "len(trolley_dict)"
   ]
  },
  {
   "cell_type": "code",
   "execution_count": null,
   "id": "891630c7-4722-47f1-8e9c-97b4d752103e",
   "metadata": {
    "tags": []
   },
   "outputs": [],
   "source": [
    "# for trolley_id in config.trolley_ids[:len(trolley_dict)]:\n",
    "for trolley_id in trolley_dict.keys():\n",
    "    print(trolley_id)\n",
    "    for key in trolley_dict[trolley_id].keys():\n",
    "        print(key)"
   ]
  },
  {
   "cell_type": "code",
   "execution_count": null,
   "id": "c2c110fc-17ff-4b95-92fe-aac7520c098f",
   "metadata": {
    "tags": []
   },
   "outputs": [],
   "source": [
    "trolley_dict['imgs/Yamate_40_Shibuya-st_soto_20230129_knight/HD12/2022_0599_HD12_01_00009117.jpg']"
   ]
  },
  {
   "cell_type": "code",
   "execution_count": null,
   "id": "7d52732f-f5d5-44dc-bb34-c5b6d6ed6e51",
   "metadata": {
    "tags": []
   },
   "outputs": [],
   "source": [
    "trolley_dict[][\"estimated_upper_edge\"]"
   ]
  },
  {
   "cell_type": "code",
   "execution_count": null,
   "id": "47ce7338-7349-4126-a4ff-69a29794b6fe",
   "metadata": {
    "tags": []
   },
   "outputs": [],
   "source": [
    "keys = rail_dict[camera_num][image_path][\"trolley1\"].keys()\n",
    "for i, key in enumerate(keys):\n",
    "    # print(f'{i}: {key}')\n",
    "    try:\n",
    "        key_len = len(rail_dict[camera_num][image_path][\"trolley1\"][key])\n",
    "    except:\n",
    "        key_len = 0\n",
    "    print(f'{key} > length:{key_len}')"
   ]
  },
  {
   "cell_type": "code",
   "execution_count": null,
   "id": "57e42afe-4b92-4099-ba6f-b5d98948f5bd",
   "metadata": {
    "tags": []
   },
   "outputs": [],
   "source": [
    "image_path = base_images[0]\n",
    "rail[\"HD11\"][image_path][\"trolley1\"][\"estimated_upper_edge\"]"
   ]
  },
  {
   "cell_type": "code",
   "execution_count": null,
   "id": "a2155471-7633-4a85-a18a-90e0f7901ade",
   "metadata": {
    "tags": []
   },
   "outputs": [],
   "source": [
    "'''\n",
    "case1: xのみnp.array   -> 2023-05-24 00:44:31.574638 Process end :0:00:45.240699\n",
    "case2: x,yをnp.array   -> 2023-05-24 02:24:05.555617 Process end :0:00:57.180313\n",
    "case3: rail_dict化     -> 2023-05-24 04:58:30.819891 Process end :0:00:07.624567\n",
    "case4: shelve.open追加 -> 2023-05-24 05:17:12.809013 Process end :0:00:03.504746\n",
    "'''\n",
    "\n",
    "dt01 = datetime.datetime.now()\n",
    "\n",
    "img_num = 50\n",
    "\n",
    "with shelve.open(rail_fpath) as rail:\n",
    "    trolley_dict = copy.deepcopy(rail[camera_num])\n",
    "\n",
    "for idx, image_path in enumerate(base_images):\n",
    "    print(f\"{idx}> {image_path}\")\n",
    "    x_values = np.array([n + 1000 * idx for n in trolley_dict[image_path][config.trolley_ids[0]][\"ix\"]])\n",
    "    for trolley_id in config.trolley_ids:\n",
    "        plt.plot(x_values, trolley_dict[image_path][trolley_id][\"estimated_upper_edge\"])\n",
    "        plt.plot(x_values, trolley_dict[image_path][trolley_id][\"estimated_lower_edge\"])\n",
    "    if idx >= img_num-1:\n",
    "        print(\"break\")\n",
    "        break\n",
    "\n",
    "plt.show()\n",
    "\n",
    "dt02 = datetime.datetime.now()\n",
    "prc_time = dt02 - dt01\n",
    "print(str(datetime.datetime.now()) + f' Process end :{prc_time}')"
   ]
  },
  {
   "cell_type": "code",
   "execution_count": null,
   "id": "fd3e99c0-44ab-46c0-b17d-b5dfcbc3f8e6",
   "metadata": {
    "tags": []
   },
   "outputs": [],
   "source": [
    "for key in trolley_dict[base_images[0]]['trolley1'].keys():\n",
    "    print(key)"
   ]
  },
  {
   "cell_type": "code",
   "execution_count": null,
   "id": "93c6336e-c9e8-41a0-92a3-a8edb0b35839",
   "metadata": {
    "tags": []
   },
   "outputs": [],
   "source": [
    "print(\"最後の検出結果\")\n",
    "for trolley_id in config.trolley_ids:\n",
    "    print(f\"trolley_id:{trolley_id}\")\n",
    "    print(f'estimated_upper_edge:{trolley_dict[image_path][trolley_id][\"estimated_upper_edge\"][999]}')\n",
    "    print(f'estimated_lower_edge:{trolley_dict[image_path][trolley_id][\"estimated_lower_edge\"][999]}')\n",
    "    print(f'brightness_std:{trolley_dict[image_path][trolley_id][\"brightness_std\"][999]}')\n",
    "    print(f'brightness_center:{trolley_dict[image_path][trolley_id][\"brightness_center\"][999]}')"
   ]
  },
  {
   "cell_type": "code",
   "execution_count": null,
   "id": "80eebba5-cccc-4dea-b966-eef689d215e0",
   "metadata": {},
   "outputs": [],
   "source": []
  },
  {
   "cell_type": "code",
   "execution_count": null,
   "id": "92f3b43d-e369-464b-9fa0-637172bf8b06",
   "metadata": {
    "tags": []
   },
   "outputs": [],
   "source": [
    "%%time\n",
    "with shelve.open(rail_fpath) as rail:\n",
    "    if len(rail) < 2 or not any(len(rail[camera_num].get(image_path, {})) > 0 for image_path in base_images):\n",
    "        print('rail initilize')\n",
    "        print(f'dir_area: {rail[\"name\"]}')\n",
    "        # railを初期化\n",
    "        rail[camera_num] = {image_path: {trolley_id: {} for trolley_id in trolley_ids} for image_path in base_images}"
   ]
  },
  {
   "cell_type": "code",
   "execution_count": null,
   "id": "d158e9ca-40c8-4f58-9f95-727956da5b5a",
   "metadata": {
    "tags": []
   },
   "outputs": [],
   "source": [
    "%%time\n",
    "with shelve.open(rail_fpath) as rail:\n",
    "    if len(rail) < 2:    # 初めてrailが生成された場合は\"name\"だけなのでlen(rail)は1\n",
    "            rail_check = False\n",
    "    else:    # 一度でも解析されるとtrolley_idが追加されるため1以上\n",
    "        rail_check = any(len(rail[camera_num][image_path]) > 0 for image_path in base_images)\n",
    "    if not rail_check:\n",
    "        print('rail initilize')\n",
    "        print(f'dir_area: {rail[\"name\"]}')\n",
    "        # railを初期化\n",
    "        # base_imagesと同じ長さの空のdictionaryを作成してrailを初期化\n",
    "        blankdict_size = [{}] * len(base_images)\n",
    "        rail[camera_num] = dict(zip(base_images, blankdict_size))\n",
    "        # trolley_idsと同じ長さの空のdictionaryを作成してrailを初期化\n",
    "        blankdict_size = [{}] * len(trolley_ids)\n",
    "        for image_path in base_images:\n",
    "            rail[camera_num][image_path] = dict(zip(trolley_ids, blankdict_size))"
   ]
  },
  {
   "cell_type": "code",
   "execution_count": null,
   "id": "92b70c08-b122-4706-bc35-f5cb6c5a5aed",
   "metadata": {
    "tags": []
   },
   "outputs": [],
   "source": [
    "%%time\n",
    "with shelve.open(rail_fpath) as rail:\n",
    "    trolley_dict = copy.copy(rail[camera_num])\n",
    "\n",
    "rail_check = any(len(trolley_dict[image_path]) > 0 for image_path in base_images)\n",
    "print(rail_check)"
   ]
  },
  {
   "cell_type": "code",
   "execution_count": null,
   "id": "9c3ef43c-35bc-4a4c-8703-e1f429f59964",
   "metadata": {
    "tags": []
   },
   "outputs": [],
   "source": [
    "%%time\n",
    "with shelve.open(rail_fpath) as rail:\n",
    "    rail_check = any(len(rail[camera_num][image_path]) > 0 for image_path in base_images)\n",
    "print(rail_check)"
   ]
  },
  {
   "cell_type": "markdown",
   "id": "32af0814-cfea-4773-a0a9-129fa2aa93cc",
   "metadata": {
    "tags": []
   },
   "source": [
    "# 結果画像を表示する"
   ]
  },
  {
   "cell_type": "code",
   "execution_count": null,
   "id": "c5a101f4-7aff-4bd7-9583-f9d31e82d1cd",
   "metadata": {},
   "outputs": [],
   "source": [
    "with shelve.open(rail_fpath) as rail:\n",
    "    trolley_dict = copy.deepcopy(rail[camera_num])\n",
    "\n",
    "idx = 0\n",
    "image_path = base_images[idx]\n",
    "img = Image.open(image_path)\n",
    "print(f\"{idx}> {image_path}\")\n",
    "\n",
    "x_values = np.array([n + 1000 * idx for n in trolley_dict[image_path][config.trolley_ids[0]][\"ix\"]])\n",
    "for trolley_id in config.trolley_ids:\n",
    "    plt.plot(x_values, trolley_dict[image_path][trolley_id][\"estimated_upper_edge\"])\n",
    "    plt.plot(x_values, trolley_dict[image_path][trolley_id][\"estimated_lower_edge\"])\n"
   ]
  },
  {
   "cell_type": "code",
   "execution_count": null,
   "id": "1f155a5a-e5cc-4447-ba61-a32d06b1bbbd",
   "metadata": {
    "tags": []
   },
   "outputs": [],
   "source": [
    "# 画像とデータの読み込み\n",
    "with shelve.open(rail_fpath) as rail:\n",
    "    trolley_dict = copy.deepcopy(rail[camera_num])\n",
    "\n",
    "idx = 0\n",
    "image_path = base_images[idx]\n",
    "img = Image.open(image_path)\n",
    "print(f\"{idx}> {image_path}\")\n",
    "\n",
    "# 画像をnumpy配列に変換\n",
    "img_array = np.array(img)\n",
    "\n",
    "# ランダムに1000画素を選択し、その平均輝度を背景の輝度とする\n",
    "random_pixels = img_array[np.random.randint(0, img_array.shape[0], 1000), np.random.randint(0, img_array.shape[1], 1000)]\n",
    "background_brightness = random_pixels.mean()\n",
    "\n",
    "# データを描画\n",
    "x_values = trolley_dict[image_path][config.trolley_ids[0]][\"ix\"]\n",
    "for trolley_id in config.trolley_ids:\n",
    "    upper_edge = trolley_dict[image_path][trolley_id][\"estimated_upper_edge\"]\n",
    "    lower_edge = trolley_dict[image_path][trolley_id][\"estimated_lower_edge\"]\n",
    "    for x, y1, y2 in zip(x_values, upper_edge, lower_edge):\n",
    "        # estimated_upper_edgeとestimated_lower_edgeが0でない場合のみ色を変更\n",
    "        if y1 != 0:\n",
    "            color_upper = [0, 255, 0] if background_brightness < 128 else [255, 0, 0]  # 緑または赤\n",
    "            img_array[y1, x] = color_upper\n",
    "        if y2 != 0:\n",
    "            color_lower = [0, 255, 0] if background_brightness < 128 else [255, 0, 0]  # 緑または赤\n",
    "            img_array[y2, x] = color_lower\n",
    "\n",
    "# 変更後の画像を表示\n",
    "display_img = Image.fromarray(img_array)\n",
    "display_img"
   ]
  },
  {
   "cell_type": "markdown",
   "id": "94adae79-db68-4a5c-9abc-3a52100995f8",
   "metadata": {
    "tags": []
   },
   "source": [
    "# 結果をCSV出力する"
   ]
  },
  {
   "cell_type": "code",
   "execution_count": null,
   "id": "5ab9e95a-555e-457b-ac69-4575c33441d1",
   "metadata": {
    "tags": []
   },
   "outputs": [],
   "source": [
    "# CSVファイルの保存パスを指定\n",
    "csv_fpath = rail_fpath.replace(\".shelve\", \".csv\")\n",
    "\n",
    "# shelveファイルを読み込む\n",
    "with shelve.open(rail_fpath) as rail:\n",
    "    trolley_dict = copy.deepcopy(rail[camera_num])"
   ]
  },
  {
   "cell_type": "code",
   "execution_count": null,
   "id": "63d55cdb-42f3-4441-ba5b-945dbe3d2667",
   "metadata": {
    "tags": []
   },
   "outputs": [],
   "source": [
    "base_images = list(trolley_dict.keys())\n",
    "print(f\"Images count: {len(base_images)}\")\n",
    "img_path = base_images[int(input(\"set index number: \"))]\n",
    "print(f\"img_path: {img_path}\")"
   ]
  },
  {
   "cell_type": "code",
   "execution_count": null,
   "id": "3b09f011-07a4-47f2-a314-86e7d2361cc6",
   "metadata": {
    "tags": []
   },
   "outputs": [],
   "source": [
    "config.trolley_ids"
   ]
  },
  {
   "cell_type": "code",
   "execution_count": null,
   "id": "54b58ddc-e3fb-4ac7-b19f-cecdaf601331",
   "metadata": {
    "tags": []
   },
   "outputs": [],
   "source": [
    "print(f\"img_path: {trolley_dict[img_path]}\")\n",
    "for key in trolley_dict[img_path].keys():\n",
    "    print(key)"
   ]
  },
  {
   "cell_type": "code",
   "execution_count": null,
   "id": "5b0dbde5-0cc9-4969-910a-c19bdd733814",
   "metadata": {
    "tags": []
   },
   "outputs": [],
   "source": [
    "for key in trolley_dict[img_path][config.trolley_ids[0]].keys():\n",
    "    print(key)"
   ]
  },
  {
   "cell_type": "code",
   "execution_count": null,
   "id": "66888bd3-e7b3-4e33-a8c4-46270e9d76c7",
   "metadata": {
    "tags": []
   },
   "outputs": [],
   "source": [
    "trolley_id = config.trolley_ids[0]\n",
    "key = \"estimated_upper_edge\"\n",
    "print(trolley_id)\n",
    "print(type(trolley_dict[img_path][trolley_id][key]))\n",
    "print(len(trolley_dict[img_path][trolley_id][key]))\n",
    "print(trolley_dict[img_path][trolley_id][key])"
   ]
  },
  {
   "cell_type": "code",
   "execution_count": null,
   "id": "3f853053-410c-42eb-ab9e-4af7c001cf9e",
   "metadata": {
    "tags": []
   },
   "outputs": [],
   "source": [
    "# 単体テスト用\n",
    "# shelveをCSVファイルとして書き出す\n",
    "\n",
    "# CSVファイルの保存パスを指定\n",
    "csv_fpath = rail_fpath.replace(\".shelve\", \".csv\")\n",
    "print(f\"csv_fpath:{csv_fpath}\")\n",
    "\n",
    "# 1画像あたりの間引く数を指定\n",
    "thin_out = 50\n",
    "\n",
    "# shelveファイルを読み込む\n",
    "with shelve.open(rail_fpath) as rail:\n",
    "    trolley_dict = copy.deepcopy(rail[camera_num])"
   ]
  },
  {
   "cell_type": "code",
   "execution_count": null,
   "id": "36ae4c15-e2f3-4e1d-9d8a-74f86154cea7",
   "metadata": {
    "tags": []
   },
   "outputs": [],
   "source": [
    "img_path = 'imgs/Takasaki_01_Omiya-Miyahara_up_20230217_day/HD11/2022_0599_HD11_01_00012454.jpg'\n",
    "trolley_dict[img_path].keys()"
   ]
  },
  {
   "cell_type": "code",
   "execution_count": null,
   "id": "3ab75cc5-2a6c-436b-89f7-29be1642770a",
   "metadata": {
    "tags": []
   },
   "outputs": [],
   "source": [
    "trolley_id = config.trolley_ids[0]\n",
    "column_name = [trolley_id + \"_\" + key for key in list(trolley_dict[img_path][trolley_id].keys())]\n",
    "column_name"
   ]
  },
  {
   "cell_type": "code",
   "execution_count": null,
   "id": "9f7da752-fc6c-40b1-bf4f-7779cae8f5a3",
   "metadata": {
    "tags": []
   },
   "outputs": [],
   "source": [
    "column_name = [\"ix\"]\n",
    "for trolley_id in config.trolley_ids:\n",
    "    trolley_column = [trolley_id + \"_\" + key for key in config.result_keys]\n",
    "    column_name = column_name + trolley_column\n",
    "print(column_name)"
   ]
  },
  {
   "cell_type": "code",
   "execution_count": null,
   "id": "615d27c8-e755-4eee-bafc-14a5c2421b11",
   "metadata": {
    "tags": []
   },
   "outputs": [],
   "source": [
    "column_name = [\n",
    "    f\"{trolley_id}_{key}\"\n",
    "    for trolley_id in config.trolley_ids\n",
    "    for key in config.result_keys\n",
    "]\n",
    "print(column_name)"
   ]
  },
  {
   "cell_type": "code",
   "execution_count": null,
   "id": "9825ce32-56a7-4e20-a6d5-9b169d3b7204",
   "metadata": {
    "tags": []
   },
   "outputs": [],
   "source": [
    "df = pd.DataFrame(np.nan, index=np.arange(config.max_len), columns=column_name)\n",
    "df"
   ]
  },
  {
   "cell_type": "code",
   "execution_count": null,
   "id": "2e96f71f-f79e-4194-846f-0cacac1880cf",
   "metadata": {
    "tags": []
   },
   "outputs": [],
   "source": [
    "trolley_id = config.trolley_ids[0]\n",
    "helpers.trim_trolley_dict(config, trolley_dict, img_path)\n",
    "df = pd.DataFrame(trolley_dict[img_path][trolley_id]).copy()"
   ]
  },
  {
   "cell_type": "code",
   "execution_count": null,
   "id": "5dfedd3b-c61b-4bf7-97e7-6921adff5c3a",
   "metadata": {
    "tags": []
   },
   "outputs": [],
   "source": [
    "df"
   ]
  },
  {
   "cell_type": "code",
   "execution_count": null,
   "id": "81b83e0b-966c-4175-bf06-8ff02cb25ea9",
   "metadata": {
    "tags": []
   },
   "outputs": [],
   "source": [
    "for i, key in enumerate(config.result_keys):\n",
    "    print(f'{i}> key:{key} ->{bool(key in df.columns)}')"
   ]
  },
  {
   "cell_type": "code",
   "execution_count": null,
   "id": "b40df111-33b2-4200-ad56-08a5337f735f",
   "metadata": {
    "tags": []
   },
   "outputs": [],
   "source": [
    "len(config.result_keys)"
   ]
  },
  {
   "cell_type": "code",
   "execution_count": null,
   "id": "a0ecb6d7-3c82-4266-b805-3a61bb32d9be",
   "metadata": {
    "tags": []
   },
   "outputs": [],
   "source": [
    "len(df.columns)"
   ]
  },
  {
   "cell_type": "code",
   "execution_count": null,
   "id": "6cd46c4f-c282-4f6f-a777-bcefebed74c7",
   "metadata": {
    "tags": []
   },
   "outputs": [],
   "source": [
    "trolley_id = config.trolley_ids[0]\n",
    "df1 = pd.DataFrame(trolley_dict[img_path][trolley_id])\n",
    "diff_list = list(set(config.result_keys) - set(list(df1.columns)))\n",
    "for column in diff_list:\n",
    "    df1[column] = pd.Series([np.nan]*config.max_len, index=df.index)\n",
    "df1 = df1.reindex(columns=config.result_keys, copy=False)\n",
    "df1.columns"
   ]
  },
  {
   "cell_type": "code",
   "execution_count": null,
   "id": "e2394453-4280-420b-aed1-1e103b6763da",
   "metadata": {
    "tags": []
   },
   "outputs": [],
   "source": [
    "trolley_id = config.trolley_ids[0]\n",
    "df2 = pd.DataFrame(trolley_dict[img_path][trolley_id])\n",
    "diff_list = list(set(config.result_keys) - set(list(df2.columns)))\n",
    "for column in diff_list:\n",
    "    df2[column] = pd.Series([np.nan]*config.max_len, index=df.index)\n",
    "df2 = df2.reindex(columns=config.result_keys, copy=False)\n",
    "df2.columns"
   ]
  },
  {
   "cell_type": "code",
   "execution_count": null,
   "id": "9e8c01f4-9361-4636-889e-45e76b334a0e",
   "metadata": {
    "tags": []
   },
   "outputs": [],
   "source": [
    "trolley_id = config.trolley_ids[0]\n",
    "df3 = pd.DataFrame(trolley_dict[img_path][trolley_id])\n",
    "diff_list = list(set(config.result_keys) - set(list(df3.columns)))\n",
    "for column in diff_list:\n",
    "    df3[column] = pd.Series([np.nan]*config.max_len, index=df.index)\n",
    "df3 = df3.reindex(columns=config.result_keys, copy=False)\n",
    "df3.columns"
   ]
  },
  {
   "cell_type": "code",
   "execution_count": null,
   "id": "873221f2-5005-448b-b570-4872ddc2ac77",
   "metadata": {
    "tags": []
   },
   "outputs": [],
   "source": [
    "df_trolley = pd.DataFrame()\n",
    "df_trolley = pd.concat([df_trolley, df1], axis=1)\n",
    "df_trolley = pd.concat([df_trolley, df2], axis=1)\n",
    "df_trolley = pd.concat([df_trolley, df3], axis=1)\n",
    "df_trolley.columns"
   ]
  },
  {
   "cell_type": "code",
   "execution_count": null,
   "id": "ad5a2f2b-2fb1-4960-b756-b9fcc9d7ac80",
   "metadata": {
    "tags": []
   },
   "outputs": [],
   "source": [
    "df_trolley.columns = column_name\n",
    "df_trolley.columns"
   ]
  },
  {
   "cell_type": "code",
   "execution_count": null,
   "id": "c9ce354f-981b-4cd0-bcc9-cc6c8ccac3d1",
   "metadata": {
    "tags": []
   },
   "outputs": [],
   "source": [
    "len(df_trolley.columns)"
   ]
  },
  {
   "cell_type": "code",
   "execution_count": null,
   "id": "d398b7ef-ee52-4cca-95ab-bb1d6b53ffa6",
   "metadata": {
    "tags": []
   },
   "outputs": [],
   "source": [
    "len(df_trolley.columns)"
   ]
  },
  {
   "cell_type": "code",
   "execution_count": null,
   "id": "610bbbaf-0104-45de-98ec-86dcfebc528e",
   "metadata": {
    "tags": []
   },
   "outputs": [],
   "source": [
    "len(column_name)"
   ]
  },
  {
   "cell_type": "code",
   "execution_count": null,
   "id": "ec97b290-eb76-4ead-8b4c-6782c487a5bc",
   "metadata": {
    "tags": []
   },
   "outputs": [],
   "source": []
  },
  {
   "cell_type": "code",
   "execution_count": null,
   "id": "677e159f-f352-4130-8f9d-171fc194e09a",
   "metadata": {},
   "outputs": [],
   "source": []
  },
  {
   "cell_type": "code",
   "execution_count": null,
   "id": "f4c83262-ab0c-4ad9-826d-d9dc7ff5a1ce",
   "metadata": {},
   "outputs": [],
   "source": []
  },
  {
   "cell_type": "code",
   "execution_count": null,
   "id": "dbf33326-f1d2-4bf3-8576-12c7ef156156",
   "metadata": {},
   "outputs": [],
   "source": []
  },
  {
   "cell_type": "code",
   "execution_count": null,
   "id": "bfdcc579-8bb0-472b-ac81-a84ccf7fc82c",
   "metadata": {},
   "outputs": [],
   "source": [
    "dfs = pd.DataFrame()\n",
    "for img_idx, img_path in enumerate(base_images):\n",
    "    # print(f\"{img_idx}> img_path: {img_path}\")\n",
    "    if len(trolley_dict[img_path]):\n",
    "        # img_pathの結果が空でないときに実行する\n",
    "        df_trolley = helpers.read_trolley_dict(config, trolley_dict, img_idx, img_path, thin_out).copy()\n",
    "        # ixの値が連番になるように修正\n",
    "        df_trolley['ix'] = df_trolley['ix'] + 1000 * img_idx\n",
    "    elif img_idx:\n",
    "        # img_pathの結果が空のとき & img_idxが0以外のとき\n",
    "        # print(\"trolley_dict[img_path] is empty\")\n",
    "        df_trolley = helpers.trolley_dict_fillna(img_idx, img_path, dfs.columns).copy()\n",
    "    elif img_idx:\n",
    "        # 1枚目の画像でエラーになる\n",
    "        print(\"解析結果がないため、CSVファイルを生成できませんでした。\")\n",
    "        break\n",
    "    dfs = pd.concat([dfs, df_trolley], ignore_index=True)\n",
    "\n",
    "# estimated_widthの標準偏差を計算して追記する\n",
    "dfs = helpers.width_std_calc(config, dfs, thin_out)\n",
    "# データを間引く\n",
    "dfs = dfs[::thin_out]\n",
    "print(\"convert shelve to dataframe\")\n",
    "dfs"
   ]
  },
  {
   "cell_type": "code",
   "execution_count": null,
   "id": "02b65187-3f50-46bd-81cc-7fadbe5b5b1c",
   "metadata": {
    "tags": []
   },
   "outputs": [],
   "source": [
    "dfs.columns"
   ]
  },
  {
   "cell_type": "code",
   "execution_count": null,
   "id": "dd46b85d-7d40-4dbb-a056-155bd8d871bf",
   "metadata": {
    "tags": []
   },
   "outputs": [],
   "source": [
    "# CSVファイルに変換する\n",
    "dfs.to_csv(csv_fpath, encoding='cp932')"
   ]
  },
  {
   "cell_type": "markdown",
   "id": "28aab724-28b6-4eaf-9a29-cd4e86900c1d",
   "metadata": {
    "jp-MarkdownHeadingCollapsed": true,
    "tags": []
   },
   "source": [
    "# CSVファイルからグラフを表示する"
   ]
  },
  {
   "cell_type": "code",
   "execution_count": null,
   "id": "f677a706-90e4-40d3-ba2d-42b5c635358b",
   "metadata": {},
   "outputs": [],
   "source": [
    "csv_fpath = "
   ]
  },
  {
   "cell_type": "code",
   "execution_count": null,
   "id": "7ae8bb5c-0ab1-4a0f-8cf8-f3bebbe9dc3d",
   "metadata": {
    "tags": []
   },
   "outputs": [],
   "source": [
    "from bokeh.plotting import figure, gridplot, output_notebook, show\n",
    "from bokeh.models import ColumnDataSource, HoverTool\n",
    "from bokeh.palettes import d3\n",
    "output_notebook()\n",
    "\n",
    "\n",
    "def plot_fig_bokeh(csv_fpath, graph_height, graph_width):\n",
    "\n",
    "    # CSVファイルをデータフレームとして読み込む\n",
    "    df_csv = pd.read_csv(csv_fpath, encoding='cp932')\n",
    "    \n",
    "    # CSVから作成したデータフレームをbokeh形式で読み込む\n",
    "    source = ColumnDataSource(data=df_csv)\n",
    "    \n",
    "    # グラフの色情報を設定する\n",
    "    # グラフの数に合わせて12色だけ取得する\n",
    "    colors = d3[\"Category20\"][12]\n",
    "\n",
    "    # ツールチップを設定\n",
    "    TOOLTIPS_EDGE=[\n",
    "        ('index', '@img_idx'),\n",
    "        ('image_name', '@image_name'),\n",
    "        ('upper_edge1', '@trolley1_estimated_upper_edge'),\n",
    "        ('lower_edge1', '@trolley1_estimated_lower_edge'),\n",
    "        ('upper_edge2', '@trolley2_estimated_upper_edge'),\n",
    "        ('lower_edge2', '@trolley2_estimated_lower_edge'),\n",
    "        ('upper_edge3', '@trolley3_estimated_upper_edge'),\n",
    "        ('lower_edge3', '@trolley3_estimated_lower_edge'),\n",
    "    ]\n",
    "    TOOLTIPS_WIDTH=[\n",
    "        ('index', '@img_idx'),\n",
    "        ('image_name', '@image_name'),\n",
    "        ('estimated_width1', '@trolley1_estimated_width'),\n",
    "        ('estimated_width2', '@trolley2_estimated_width'),\n",
    "        ('estimated_width3', '@trolley3_estimated_width'),\n",
    "    ]\n",
    "    TOOLTIPS_BRIGHTNESS=[\n",
    "        ('index', '@img_idx'),\n",
    "        ('image_name', '@image_name'),\n",
    "        ('brightness_center1', '@trolley1_brightness_center'),\n",
    "        ('brightness_center2', '@trolley2_brightness_center'),\n",
    "        ('brightness_center3', '@trolley3_brightness_center'),\n",
    "    ]\n",
    "\n",
    "    # グラフを作成\n",
    "    p_edge = figure(\n",
    "        title=\"Upper and Lower Edge\",\n",
    "        sizing_mode=\"stretch_width\",\n",
    "        tooltips=TOOLTIPS_EDGE,\n",
    "        height=int(graph_height),\n",
    "        width=int(graph_width)\n",
    "    )\n",
    "    p_width = figure(\n",
    "        title=\"Width\",\n",
    "        sizing_mode=\"stretch_width\",\n",
    "        tooltips=TOOLTIPS_WIDTH,\n",
    "        x_range=p_edge.x_range,\n",
    "        height=int(graph_height),\n",
    "        width=int(graph_width)\n",
    "    )\n",
    "    p_center = figure(\n",
    "        title=\"Brightness Center\",\n",
    "        sizing_mode=\"stretch_width\",\n",
    "        tooltips=TOOLTIPS_BRIGHTNESS,\n",
    "        x_range=p_edge.x_range,\n",
    "        height=int(graph_height),\n",
    "        width=int(graph_width)\n",
    "    )\n",
    "\n",
    "    # グラフを表示する領域を作成\n",
    "    grid = gridplot(\n",
    "        [[p_edge], [p_width], [p_center]],\n",
    "        toolbar_location=\"above\"\n",
    "    )\n",
    "\n",
    "    # データを追加\n",
    "    x_values = \"ix\"\n",
    "    upper_edge1 = \"trolley1_estimated_upper_edge\"\n",
    "    lower_edge1 = \"trolley1_estimated_lower_edge\"\n",
    "    upper_edge2 = \"trolley2_estimated_upper_edge\"\n",
    "    lower_edge2 = \"trolley2_estimated_lower_edge\"\n",
    "    upper_edge3 = \"trolley3_estimated_upper_edge\"\n",
    "    lower_edge3 = \"trolley3_estimated_lower_edge\"\n",
    "    estimated_width1 = \"trolley1_estimated_width\"\n",
    "    estimated_width2 = \"trolley2_estimated_width\"\n",
    "    estimated_width3 = \"trolley3_estimated_width\"\n",
    "    brightness_center1 = \"trolley1_brightness_center\"\n",
    "    brightness_center2 = \"trolley2_brightness_center\"\n",
    "    brightness_center3 = \"trolley3_brightness_center\"\n",
    "\n",
    "    # グラフにデータを追加\n",
    "    # 1つ目のグラフ（Upper and Lower Edge）\n",
    "    p_edge.line(x_values, upper_edge1, line_color=colors[0], source=source)\n",
    "    p_edge.line(x_values, upper_edge2, line_color=colors[1], source=source)\n",
    "    p_edge.line(x_values, upper_edge3, line_color=colors[2], source=source)\n",
    "    p_edge.line(x_values, lower_edge1, line_color=colors[3], source=source)\n",
    "    p_edge.line(x_values, lower_edge2, line_color=colors[4], source=source)\n",
    "    p_edge.line(x_values, lower_edge3, line_color=colors[5], source=source)\n",
    "\n",
    "    # 2つ目のグラフ（Brightness Std）\n",
    "    p_width.line(x_values, estimated_width1, line_color=colors[6], source=source)\n",
    "    p_width.line(x_values, estimated_width2, line_color=colors[7], source=source)\n",
    "    p_width.line(x_values, estimated_width3, line_color=colors[8], source=source)\n",
    "\n",
    "    # 3つ目のグラフ（Brightness Center）\n",
    "    p_center.line(x_values, brightness_center1, line_color=colors[9], source=source)\n",
    "    p_center.line(x_values, brightness_center2, line_color=colors[10], source=source)\n",
    "    p_center.line(x_values, brightness_center3, line_color=colors[11], source=source)\n",
    "\n",
    "    return grid\n",
    "\n",
    "# メインループ\n",
    "# CSVファイルの保存パスを指定\n",
    "csv_fpath = rail_fpath.replace(\".shelve\", \".csv\")\n",
    "print(f\"csv path:{csv_fpath}\")\n",
    "\n",
    "graph_height = 200\n",
    "graph_width = 1000\n",
    "\n",
    "grid = plot_fig_bokeh(csv_fpath, graph_height, graph_width)\n",
    "\n",
    "show(grid)\n"
   ]
  },
  {
   "cell_type": "code",
   "execution_count": null,
   "id": "d522a74c-5ba5-40d0-b630-c1d5c71bcb23",
   "metadata": {
    "tags": []
   },
   "outputs": [],
   "source": [
    "# グラフを作成\n",
    "p_edge = figure(\n",
    "    title=\"Upper and Lower Edge\",\n",
    "    sizing_mode=\"stretch_width\",\n",
    "    height=int(graph_height)\n",
    ")\n",
    "p_width = figure(\n",
    "    title=\"Width\",\n",
    "    sizing_mode=\"stretch_width\",\n",
    "    x_range=p_edge.x_range,\n",
    "    height=int(graph_height)\n",
    ")\n",
    "p_center = figure(\n",
    "    title=\"Brightness Center\",\n",
    "    sizing_mode=\"stretch_width\",\n",
    "    x_range=p_edge.x_range,\n",
    "    height=int(graph_height)\n",
    ")\n",
    "\n",
    "# グラフを表示する領域を作成\n",
    "grid = gridplot(\n",
    "    [[p_edge], [p_width], [p_center]],\n",
    "    toolbar_location=\"above\"\n",
    ")\n",
    "\n",
    "# データを追加\n",
    "x_values = df_csv[\"ix\"]\n",
    "upper_edge = df_csv[\"trolley1_estimated_upper_edge\"]\n",
    "lower_edge = df_csv[\"trolley1_estimated_lower_edge\"]\n",
    "estimated_width = df_csv[\"trolley1_estimated_width\"]\n",
    "brightness_center = df_csv[\"trolley1_brightness_center\"]\n",
    "\n",
    "# グラフにデータを追加\n",
    "# 1つ目のグラフ（Upper and Lower Edge）\n",
    "p_edge.line(x_values, upper_edge, line_color=\"blue\")\n",
    "p_edge.line(x_values, lower_edge, line_color=\"red\")\n",
    "\n",
    "# 2つ目のグラフ（Brightness Std）\n",
    "p_width.line(x_values, estimated_width, line_color=\"green\")\n",
    "\n",
    "# 3つ目のグラフ（Brightness Center）\n",
    "p_center.line(x_values, brightness_center, line_color=\"orange\")\n",
    "\n",
    "show(grid)"
   ]
  },
  {
   "cell_type": "code",
   "execution_count": null,
   "id": "eb704f93-6d89-4b99-8e44-ae516dddfc69",
   "metadata": {
    "tags": []
   },
   "outputs": [],
   "source": [
    "config.camera_name_to_type"
   ]
  },
  {
   "cell_type": "code",
   "execution_count": null,
   "id": "10159a7b-1887-4b79-850f-627ee7871c17",
   "metadata": {
    "tags": []
   },
   "outputs": [],
   "source": []
  },
  {
   "cell_type": "code",
   "execution_count": null,
   "id": "a30a9ad5-7447-41f2-a2d9-7b1394a84bff",
   "metadata": {
    "tags": []
   },
   "outputs": [],
   "source": []
  },
  {
   "cell_type": "code",
   "execution_count": null,
   "id": "3635f876-3913-4406-86d5-6dec937cad1a",
   "metadata": {
    "tags": []
   },
   "outputs": [],
   "source": []
  },
  {
   "cell_type": "code",
   "execution_count": null,
   "id": "93df1d55-73df-4c4d-92ae-6c84a03e2728",
   "metadata": {},
   "outputs": [],
   "source": []
  },
  {
   "cell_type": "code",
   "execution_count": null,
   "id": "247d5ee6-596b-4738-8178-5e56d3d8335a",
   "metadata": {},
   "outputs": [],
   "source": []
  },
  {
   "cell_type": "code",
   "execution_count": null,
   "id": "38657e93-ca52-4ad6-b3f9-cc21bb847170",
   "metadata": {
    "tags": []
   },
   "outputs": [],
   "source": [
    "def set_column_names(config, trolley_dict):\n",
    "    column_names = []\n",
    "    for idx, trolley_id in enumerate(config.trolley_ids):\n",
    "        for key in trolley_dict[img_path][trolley_id].keys():\n",
    "            column_names.append(trolley_id + \"_\" + key)\n",
    "    return column_names\n",
    "\n",
    "column_names = set_column_names(config, trolley_dict)\n",
    "pprint(f\"column length: {len(column_names)}\")\n",
    "pprint(column_names)"
   ]
  },
  {
   "cell_type": "code",
   "execution_count": null,
   "id": "6fd15db9-8f62-44ea-b5f6-db31f360c343",
   "metadata": {
    "tags": []
   },
   "outputs": [],
   "source": [
    "print(f\"img_path: {img_path}\")\n",
    "for key in trolley_dict[img_path][config.trolley_ids[0]].keys():\n",
    "    pprint(f\"{key} > {len(trolley_dict[img_path][config.trolley_ids[0]][key])}\")"
   ]
  },
  {
   "cell_type": "code",
   "execution_count": null,
   "id": "54cf6b71-e8e4-43bf-89b8-10daca76ec40",
   "metadata": {},
   "outputs": [],
   "source": []
  },
  {
   "cell_type": "markdown",
   "id": "62aba274-d3b9-4ec3-9719-9fe113b3d337",
   "metadata": {
    "tags": []
   },
   "source": [
    "# Shelve2CSV"
   ]
  },
  {
   "cell_type": "code",
   "execution_count": null,
   "id": "98fccd41-10bf-4a4d-b839-8641cf5a021a",
   "metadata": {
    "tags": []
   },
   "outputs": [],
   "source": [
    "shelve_name = \"/rail.shelve\"\n",
    "\n",
    "print(f'outpath    : {outpath}')\n",
    "print(f'shelve name: {shelve_name}')"
   ]
  },
  {
   "cell_type": "code",
   "execution_count": null,
   "id": "8d81cb9e-eab4-4912-b722-b5e2092cf265",
   "metadata": {
    "tags": []
   },
   "outputs": [],
   "source": [
    "%%time\n",
    "# 時間かかるので注意\n",
    "\n",
    "# 格納されている名称と画像のリストを確認\n",
    "with shelve.open(outpath + shelve_name, flag='r') as rail:\n",
    "    print(rail['name'])\n",
    "    image_list = []\n",
    "    for img_path in rail[camera_num].keys():\n",
    "        num_trolleyid = len(rail[camera_num][img_path].keys())\n",
    "        image_list.append([img_path.split('/')[-1], num_trolleyid])\n",
    "pd.DataFrame(image_list).head(5)"
   ]
  },
  {
   "cell_type": "code",
   "execution_count": null,
   "id": "7d11afe8-7508-4c9d-80fe-80486c6784f2",
   "metadata": {
    "tags": []
   },
   "outputs": [],
   "source": [
    "# 格納パラメータを確認\n",
    "# imagename = 'imgs/Chuo_01_Tokyo-St_up_20230201_knight/HD11/2022_0615_HD11_01_00022313.jpg'\n",
    "imagename = base_images[410]\n",
    "\n",
    "with shelve.open(outpath + shelve_name, flag='r') as rail:\n",
    "    print(f'パラメータ数は{len(rail[camera_num][imagename].keys())}')\n",
    "    testdict = rail[camera_num]\n",
    "    for key in testdict[imagename]['trolley1'].keys():\n",
    "        if len(testdict[imagename]['trolley1'][key]):\n",
    "            print(f\"{key}: type:{type(testdict[imagename]['trolley1'][key][0])}\")\n",
    "        else:\n",
    "            print(f\"{key}\")"
   ]
  },
  {
   "cell_type": "code",
   "execution_count": null,
   "id": "49b48ed5-8721-4030-b89c-7a39d52a70f7",
   "metadata": {
    "tags": []
   },
   "outputs": [],
   "source": [
    "img_idx = 410\n",
    "img_path = base_images[img_idx]\n",
    "print(img_path)\n",
    "dir_area, camera_num = img_path.split(\"/\")[1:3]\n",
    "image_name = img_path.split('/')[-1]\n",
    "\n",
    "columns_to_insert = [(\"img_idx\", img_idx, 0),\n",
    "                         (\"dir_area\", dir_area, 1),\n",
    "                         (\"camera_num\", camera_num, 2),\n",
    "                         (\"image_name\", image_name, 3)]\n",
    "print(columns_to_insert)"
   ]
  },
  {
   "cell_type": "code",
   "execution_count": null,
   "id": "a676c73e-dfb6-429a-a3c0-51cf697ddf66",
   "metadata": {
    "tags": []
   },
   "outputs": [],
   "source": [
    "%%time\n",
    "from tqdm import tqdm\n",
    "\n",
    "\n",
    "# for test\n",
    "images_path = helpers.list_imagespath_nonCache(config.image_dir)\n",
    "# dir_area = \"Chuo_01_Tokyo-St_up_20230201_knight\"\n",
    "# dir_area = \"Chuo_02_Tokyo-Kanda_up_20230201_knight\"\n",
    "# dir_area = \"Kawagoe_02_Nishioomiya-Sashiougi_down_20220626_knight\"\n",
    "# dir_area = \"Chuo_24_Higashinakano-Nakano_down_20230201_day\"\n",
    "dir_area = \"Takasaki_01_Omiya-Miyahara_up_20230217_day\"\n",
    "camera_num = \"HD11\"\n",
    "target_dir = config.image_dir + \"/\" + dir_area + \"/\" + camera_num\n",
    "outpath = config.output_dir + \"/\" + dir_area + \"/\" + camera_num\n",
    "base_images = helpers.list_images(target_dir)\n",
    "shelve_name = \"/rail.shelve\"\n",
    "rail_fpath = outpath + shelve_name\n",
    "print(f'outpath    : {outpath}')\n",
    "print(f'shelve name: {shelve_name}')\n",
    "\n",
    "window = 100\n",
    "if window <= 2:\n",
    "    window = 2\n",
    "    min_periods = 1\n",
    "elif window > 2:\n",
    "    min_periods = int(window / 2)\n",
    "print(f'window size={window}, min_periods={min_periods}')\n",
    "\n",
    "\n",
    "\n",
    "ix_list = [int(x) for x in range(1000)]\n",
    "\n",
    "with shelve.open(outpath + shelve_name, flag='r') as rail:\n",
    "    print(f'camera_num:{camera_num}   <shelve reading...>')\n",
    "    trolley_dict = rail[camera_num]\n",
    "\n",
    "df_concat = pd.DataFrame(columns=config.columns_list)\n",
    "# for idx, image_path in enumerate(trolley_dict.keys()):\n",
    "for idx, image_path in tqdm(enumerate(trolley_dict.keys()), total=len(trolley_dict.keys()), desc='shelve2csv converting...'):\n",
    "    # 線区名等の情報を取得\n",
    "    dir_area, camera_num = image_path.split(\"/\")[1:3]\n",
    "    image_name = image_path.split('/')[-1]\n",
    "\n",
    "    # shelveの中身をデータフレームにコピー\n",
    "    for trolleyid in trolley_dict[image_path].keys():\n",
    "        # print(f'trolley ID> {trolleyid}')\n",
    "        df = pd.DataFrame.from_dict(trolley_dict[image_path][trolleyid], orient='index').T\n",
    "        # <データ整形>データ数が1000行未満の場合に空白行を追加する\n",
    "        if len(df) < 1000:\n",
    "            num_rows_to_add = config.max_len - df.shape[0]\n",
    "            if num_rows_to_add > 0:\n",
    "                empty_df = pd.DataFrame(np.nan, index=range(num_rows_to_add), columns=df.columns)\n",
    "                df = pd.concat([df, empty_df], ignore_index=True)\n",
    "        # データフレームにインデックス・画像名等を挿入\n",
    "        df.insert(0, 'image_idx', idx)\n",
    "        df.insert(1, 'ix', ix_list)\n",
    "        df['ix'] = df['ix'] + idx * 1000\n",
    "        df.insert(2, 'measurement_area', dir_area)\n",
    "        df.insert(3, 'camera_num', camera_num)\n",
    "        df.insert(4, 'image_name', image_name)\n",
    "        df.insert(5, 'trolley_id', trolleyid)\n",
    "        df.insert([df.columns.get_loc(c) for c in df.columns if 'estimated_lower_edge' in c][0] + 1,\n",
    "                  'estimated_width', df['estimated_lower_edge'] - df['estimated_upper_edge'])\n",
    "        # df['img_idx'] = idx\n",
    "        # df['ix'] = ix_list\n",
    "        # df['ix'] = df['ix'] + idx * 1000\n",
    "        # df['dir_area'] = dir_area\n",
    "        # df['image_path'] = image_path\n",
    "        # df['camera_num'] = camera_num\n",
    "        # df['image_name'] = image_name\n",
    "        # df['estimated_width'] = df['estimated_lower_edge'] - df['estimated_upper_edge']\n",
    "        # df['trolley_id'] = trolleyid\n",
    "        try:\n",
    "            df_concat = pd.concat([df_concat, df], ignore_index=True)\n",
    "        except:\n",
    "            print(\"concat error -> skip\")\n",
    "            \n",
    "print(df_concat.shape)"
   ]
  },
  {
   "cell_type": "code",
   "execution_count": null,
   "id": "e6fd0117-177d-4b2e-b78e-d596fda7e5c2",
   "metadata": {},
   "outputs": [],
   "source": [
    "df_concat['estimated_width_std'] = df_concat['estimated_width'].rolling(window=window, min_periods=min_periods).std()\n",
    "print(df_concat.shape)\n",
    "df_concat.to_csv(f'df_concat_{camera_num}.csv')\n",
    "print(f'csv file name -> df_concat_{camera_num}.csv')\n",
    "df_concat"
   ]
  },
  {
   "cell_type": "code",
   "execution_count": null,
   "id": "c861ede9-08a5-4435-83b8-babe21ea04a8",
   "metadata": {
    "tags": []
   },
   "outputs": [],
   "source": [
    "df_temp = df_concat.copy()\n",
    "df_temp"
   ]
  },
  {
   "cell_type": "code",
   "execution_count": null,
   "id": "fa457846-2dbb-402d-a454-543bbfc3799a",
   "metadata": {
    "tags": []
   },
   "outputs": [],
   "source": [
    "list(df_temp.columns)"
   ]
  },
  {
   "cell_type": "code",
   "execution_count": null,
   "id": "d6566025-f130-4d63-be7b-2c6222cb65bf",
   "metadata": {
    "tags": []
   },
   "outputs": [],
   "source": [
    "plt.plot(df_temp['ix'], df_temp['estimated_width'])\n",
    "plt.show()"
   ]
  },
  {
   "cell_type": "code",
   "execution_count": null,
   "id": "243f604a-9939-4a8c-b536-336e7be9c42e",
   "metadata": {
    "tags": []
   },
   "outputs": [],
   "source": [
    "window = 100\n",
    "\n",
    "if window <= 2:\n",
    "    window = 2\n",
    "    min_periods = 1\n",
    "elif window > 2:\n",
    "    min_periods = int(window / 2)\n",
    "\n",
    "df_temp['estimated_width_std'] = df_temp['estimated_width'].rolling(window=window, min_periods=min_periods).std()"
   ]
  },
  {
   "cell_type": "code",
   "execution_count": null,
   "id": "f7be1709-5803-44ec-8d93-70ce3aa47ba6",
   "metadata": {
    "tags": []
   },
   "outputs": [],
   "source": [
    "plt.plot(df_temp['ix'], df_temp['estimated_width_std'])\n",
    "plt.show()"
   ]
  },
  {
   "cell_type": "code",
   "execution_count": null,
   "id": "1a78c441-95fe-4208-bea2-96a730e7a6d3",
   "metadata": {},
   "outputs": [],
   "source": []
  },
  {
   "cell_type": "code",
   "execution_count": null,
   "id": "3e4f8633-1bb2-4002-aa1f-4c1113fcfb19",
   "metadata": {},
   "outputs": [],
   "source": []
  },
  {
   "cell_type": "code",
   "execution_count": null,
   "id": "2158b385-3e4f-4db1-afb8-0f2bfb6966d6",
   "metadata": {},
   "outputs": [],
   "source": []
  },
  {
   "cell_type": "code",
   "execution_count": null,
   "id": "5d3a70c5-d82b-4db3-a261-9350a51a7802",
   "metadata": {
    "tags": []
   },
   "outputs": [],
   "source": [
    "ix_list = [int(x) for x in range(1000)]\n",
    "\n",
    "img_idx = 409\n",
    "image_path = base_images[img_idx]\n",
    "dir_area, camera_num = image_path.split(\"/\")[1:3]\n",
    "image_name = image_path.split('/')[-1]\n",
    "\n",
    "print(f'dir_area  :{dir_area}')\n",
    "print(f'camera_num:{camera_num}')\n",
    "print(f'image_path:{image_path}')"
   ]
  },
  {
   "cell_type": "code",
   "execution_count": null,
   "id": "e5dd37fb-e907-4b99-8751-c5d267428439",
   "metadata": {
    "tags": []
   },
   "outputs": [],
   "source": [
    "%%time\n",
    "for trolleyid in trolley_dict[image_path].keys():\n",
    "    df = pd.DataFrame.from_dict(trolley_dict[image_path][trolleyid], orient='index').T\n",
    "    df.insert(0, 'image_idx', img_idx)\n",
    "    df.insert(1, 'ix', ix_list)\n",
    "    df['ix'] = df['ix'] + idx * 1000\n",
    "    df.insert(2, 'measurement_area', dir_area)\n",
    "    df.insert(3, 'camera_num', camera_num)\n",
    "    df.insert(4, 'image_name', image_name)\n",
    "    df.insert(5, 'trolley_id', trolleyid)\n",
    "    df.insert(8, 'estimated_width', df['estimated_lower_edge'] - df['estimated_upper_edge'])\n",
    "    # df['img_idx'] = idx\n",
    "    # df['ix'] = ix_list\n",
    "    # df['dir_area'] = dir_area\n",
    "    # df['image_path'] = image_path\n",
    "    # df['camera_num'] = camera_num\n",
    "    # df['image_name'] = image_name\n",
    "    # df['estimated_width'] = df['estimated_lower_edge'] - df['estimated_upper_edge']\n",
    "    # df['trolley_id'] = trolleyid\n",
    "df"
   ]
  },
  {
   "cell_type": "code",
   "execution_count": null,
   "id": "f5ca0649-bec1-48ad-8c3f-a264dc2d5cd6",
   "metadata": {
    "tags": []
   },
   "outputs": [],
   "source": []
  },
  {
   "cell_type": "code",
   "execution_count": null,
   "id": "5e365fc4-c1ff-4ea7-b4b6-bf7dda814e1d",
   "metadata": {},
   "outputs": [],
   "source": []
  },
  {
   "cell_type": "code",
   "execution_count": null,
   "id": "9652ffd1-a4be-4b32-a796-40891ed66d01",
   "metadata": {
    "tags": []
   },
   "outputs": [],
   "source": [
    "df_concat.info(verbose=True)"
   ]
  },
  {
   "cell_type": "markdown",
   "id": "ad955f80-91da-4aea-b4cd-76dde03a5bc7",
   "metadata": {
    "tags": []
   },
   "source": [
    "# CSVからグラフを表示する（Shelve2CSV後の処理を想定）"
   ]
  },
  {
   "cell_type": "code",
   "execution_count": null,
   "id": "9e8bd5bf-1b3b-4d30-bc3b-a2ab76eb13a8",
   "metadata": {
    "tags": []
   },
   "outputs": [],
   "source": [
    "csv_fpath = f'df_concat_{camera_num}.csv'\n",
    "print(csv_fpath)"
   ]
  },
  {
   "cell_type": "code",
   "execution_count": null,
   "id": "3450c511-db6e-4b9b-a1ca-fb2fa3d7af25",
   "metadata": {
    "tags": []
   },
   "outputs": [],
   "source": [
    "csv_fpath = rail_fpath.replace(\".shelve\", \".csv\")\n",
    "print(csv_fpath)"
   ]
  },
  {
   "cell_type": "code",
   "execution_count": null,
   "id": "b71b22a1-fd69-41fc-9712-7659f4402caa",
   "metadata": {
    "tags": []
   },
   "outputs": [],
   "source": [
    "%%time\n",
    "df = pd.read_csv(csv_fpath, engine='c', dtype=config.csv_dtype)"
   ]
  },
  {
   "cell_type": "code",
   "execution_count": null,
   "id": "1992c9e9-5334-4ed7-9033-80f9273e2ecf",
   "metadata": {
    "tags": []
   },
   "outputs": [],
   "source": [
    "from bokeh.plotting import figure, gridplot, show, output_notebook\n",
    "from bokeh.layouts import column\n",
    "from bokeh.models import ColumnDataSource, FuncTickFormatter\n",
    "from bokeh.models import NumeralTickFormatter\n",
    "from bokeh.palettes import d3\n",
    "output_notebook()\n",
    "\n",
    "\n",
    "# for test\n",
    "graph_height = 200\n",
    "graph_width = 600\n",
    "graph_thinout = 100\n",
    "ix_set_flag = False\n",
    "ix_view_range = (10000, 20000)\n",
    "\n",
    "# 初期設定\n",
    "csv_fpath = rail_fpath.replace(\".shelve\", \".csv\")\n",
    "title_text = f'Analysis data on Camera:{camera_num}'\n",
    "\n",
    "# CSVを読み込む\n",
    "# df = pd.read_csv(csv_fpath)\n",
    "df = pd.read_csv(csv_fpath, engine='c', dtype=config.csv_dtype)    # 列の型を指定\n",
    "print(f'csv -> DataFrame finish  df len:{len(df)}')\n",
    "if not ix_set_flag:\n",
    "    ix_view_range = (int(df['ix'].min()), int(df['ix'].max()))\n",
    "# グラフ表示のためデータを間引く（メモリ不足…）\n",
    "print(f'graph_thinout:{graph_thinout}')\n",
    "df = df[::graph_thinout].copy()\n",
    "print(f'thinout -> df len{len(df)}')\n",
    "\n",
    "# グラフ描画エリアを設定\n",
    "p1 = figure(width=graph_width, height=graph_height, title=title_text + ' - Estimated Edge')\n",
    "p2 = figure(width=graph_width, height=graph_height, title='Width')\n",
    "p3 = figure(width=graph_width, height=graph_height, title='Width Std')\n",
    "p4 = figure(width=graph_width, height=graph_height, title='Brightness Std')\n",
    "\n",
    "# グラフの要素を追加, trolley_idごとに追加\n",
    "for trolleyid in df['trolley_id'].unique():\n",
    "    df_temp = df.query(f'trolley_id == \"{trolleyid}\"').copy()\n",
    "    x = df_temp.query(f'{ix_view_range[0]} <= ix <= {ix_view_range[1]}')['ix']\n",
    "\n",
    "    p1.line(\n",
    "        x, \n",
    "        df_temp.query(f'{ix_view_range[0]} <= ix <= {ix_view_range[1]}')['estimated_upper_edge'],\n",
    "        legend_label=str(trolleyid)\n",
    "    )\n",
    "    p1.line(\n",
    "        x,\n",
    "        df_temp.query(f'{ix_view_range[0]} <= ix <= {ix_view_range[1]}')['estimated_lower_edge'],\n",
    "        legend_label=str(trolleyid)\n",
    "    )\n",
    "    p2.line(\n",
    "        x, \n",
    "        df_temp.query(f'{ix_view_range[0]} <= ix <= {ix_view_range[1]}')['estimated_width'], \n",
    "        legend_label=str(trolleyid)\n",
    "    )\n",
    "    p3.line(\n",
    "        x, \n",
    "        df_temp.query(f'{ix_view_range[0]} <= ix <= {ix_view_range[1]}')['estimated_width_std'],\n",
    "        legend_label=str(trolleyid)\n",
    "    )\n",
    "    p4.line(x,\n",
    "            df_temp.query(f'{ix_view_range[0]} <= ix <= {ix_view_range[1]}')['brightness_std'],\n",
    "            legend_label=str(trolleyid)\n",
    "           )\n",
    "\n",
    "# プロットを垂直に配置\n",
    "layout = column(p1, p2, p3, p4)\n",
    "\n",
    "# グラフを表示\n",
    "show(layout)"
   ]
  },
  {
   "cell_type": "code",
   "execution_count": null,
   "id": "f957ebee-b54d-498a-8ab7-e42dd97afd5d",
   "metadata": {},
   "outputs": [],
   "source": []
  },
  {
   "cell_type": "code",
   "execution_count": null,
   "id": "c0622881-2e5f-4aeb-b478-d611c84c0944",
   "metadata": {},
   "outputs": [],
   "source": []
  },
  {
   "cell_type": "code",
   "execution_count": null,
   "id": "d32fbcf0-37d3-43dc-b1d4-420de2bb2797",
   "metadata": {},
   "outputs": [],
   "source": []
  },
  {
   "cell_type": "code",
   "execution_count": null,
   "id": "0379082a-3385-4434-95c0-94b85b0e370d",
   "metadata": {},
   "outputs": [],
   "source": []
  },
  {
   "cell_type": "code",
   "execution_count": null,
   "id": "4c506e67-2b24-4708-81b2-3fbb27aba10a",
   "metadata": {
    "tags": []
   },
   "outputs": [],
   "source": [
    "import matplotlib.pyplot as plt\n",
    "\n",
    "\n",
    "# for test\n",
    "ix_set_flag = True\n",
    "\n",
    "# 初期設定\n",
    "camera_num = 'HD21'\n",
    "csv_fpath = f'df_concat_{camera_num}.csv'\n",
    "graph_width = 10    # グラフ全体の幅\n",
    "graph_height = 8    # グラフ全体の高さ\n",
    "title_text = f'Analysis data on Camera:{camera_num}'    # タイトル共通ヘッダ\n",
    "\n",
    "# CSVを読み込む\n",
    "df = pd.read_csv(csv_fpath)\n",
    "# 表示するixの範囲を指定\n",
    "if ix_set_flag:\n",
    "    ix = (400000, 450000)    # ixの範囲を指定する\n",
    "else:\n",
    "    ix = (int(df['ix'].min()), int(df['ix'].max()))\n",
    "\n",
    "# グラフ描画エリアを設定\n",
    "fig, (ax1, ax2, ax3) = plt.subplots(3, 1, figsize=(graph_width, graph_height))    # figsize (width, height)\n",
    "plt.subplots_adjust(hspace=graph_height / 25)    # グラフ間の間隔を調整\n",
    "\n",
    "fig.suptitle(title_text)\n",
    "# ax1.set_xlabel('ix')\n",
    "ax1.set_ylabel('estimated_edge')\n",
    "# ax2.set_xlabel('ix')\n",
    "ax2.set_ylabel('width')\n",
    "ax3.set_xlabel('ix')\n",
    "ax3.set_ylabel('brightness_std')\n",
    "\n",
    "# グラフの要素を追加, trolley_idごとに追加\n",
    "for trolleyid in df['trolley_id'].unique():\n",
    "    df_temp = df.query(f'trolley_id == \"{trolleyid}\"').copy()\n",
    "    x = df_temp.query(f'{ix[0]} <= ix <= {ix[1]}')['ix']\n",
    "    ax1.plot(x, df_temp.query(f'{ix[0]} <= ix <= {ix[1]}')['estimated_upper_edge'], label=trolleyid)\n",
    "    ax1.plot(x, df_temp.query(f'{ix[0]} <= ix <= {ix[1]}')['estimated_lower_edge'], label=trolleyid)\n",
    "    ax2.plot(x, df_temp.query(f'{ix[0]} <= ix <= {ix[1]}')['estimated_width'], label=trolleyid)\n",
    "    ax3.plot(x, df_temp.query(f'{ix[0]} <= ix <= {ix[1]}')['brightness_std'], label=trolleyid)\n",
    "\n",
    "# 凡例を有効化する\n",
    "ax1.legend()\n",
    "ax2.legend()\n",
    "ax3.legend()\n",
    "    \n",
    "plt.show()"
   ]
  },
  {
   "cell_type": "code",
   "execution_count": null,
   "id": "70e0f19d-4a0e-48b8-8ac1-0b2e63743a3d",
   "metadata": {
    "tags": []
   },
   "outputs": [],
   "source": [
    "from bokeh.plotting import figure, show\n",
    "# from bokeh.layouts import column\n",
    "from bokeh.layouts import gridplot\n",
    "from bokeh.models import NumeralTickFormatter\n",
    "from bokeh.io import output_notebook\n",
    "import pandas as pd\n",
    "\n",
    "# for test\n",
    "ix_set_flag = False\n",
    "\n",
    "# 初期設定\n",
    "camera_num = 'HD21'\n",
    "csv_fpath = f'df_concat_{camera_num}.csv'\n",
    "graph_width = 800    # グラフ全体の幅 (Bokeh uses pixels)\n",
    "graph_height = 200    # グラフ全体の高さ (Bokeh uses pixels)\n",
    "title_text = f'Analysis data on Camera:{camera_num} - '    # タイトル共通ヘッダ\n",
    "\n",
    "# CSVを読み込む\n",
    "df = pd.read_csv(csv_fpath)\n",
    "if ix_set_flag:\n",
    "    ix = (400000, 450000)    # ixの範囲を指定する\n",
    "else:\n",
    "    ix = (int(df['ix'].min()), int(df['ix'].max()))\n",
    "\n",
    "# グラフ描画エリアを設定\n",
    "p1 = figure(width=graph_width, height=graph_height, title=title_text + 'Estimated Edge')\n",
    "p2 = figure(width=graph_width, height=graph_height, title=title_text + 'Width', x_range = p1.x_range)\n",
    "p3 = figure(width=graph_width, height=graph_height, title=title_text + 'Brightness Std', x_range = p1.x_range)\n",
    "\n",
    "# x軸の値を千単位でカンマ区切りに設定\n",
    "p1.xaxis.formatter = NumeralTickFormatter(format=\"0,0\")\n",
    "p2.xaxis.formatter = NumeralTickFormatter(format=\"0,0\")\n",
    "p3.xaxis.formatter = NumeralTickFormatter(format=\"0,0\")\n",
    "\n",
    "# グラフの要素を追加\n",
    "for trolleyid in df['trolley_id'].unique():\n",
    "    df_temp = df.query(f'trolley_id == \"{trolleyid}\"').copy()\n",
    "    x = df_temp.query(f'{ix[0]} <= ix <= {ix[1]}')['ix']\n",
    "    p1.line(x, df_temp.query(f'{ix[0]} <= ix <= {ix[1]}')['estimated_upper_edge'], line_color='blue')\n",
    "    p1.line(x, df_temp.query(f'{ix[0]} <= ix <= {ix[1]}')['estimated_lower_edge'], line_color='red')\n",
    "    p2.line(x, df_temp.query(f'{ix[0]} <= ix <= {ix[1]}')['estimated_width'], line_color='green')\n",
    "    p3.line(x, df_temp.query(f'{ix[0]} <= ix <= {ix[1]}')['brightness_std'], line_color='purple')\n",
    "\n",
    "\n",
    "# プロットを垂直に配置\n",
    "# layout = column(p1, p2, p3)\n",
    "grid = gridplot([[p1], [p2], [p3]])\n",
    "\n",
    "# グラフを表示\n",
    "output_notebook()\n",
    "# show(layout)\n",
    "show(grid)\n"
   ]
  },
  {
   "cell_type": "code",
   "execution_count": null,
   "id": "df89ab74-c13b-476d-94cd-dc53dde9721f",
   "metadata": {},
   "outputs": [],
   "source": []
  },
  {
   "cell_type": "code",
   "execution_count": null,
   "id": "a9caeca3-a61f-45eb-bafb-b9b4ee687c36",
   "metadata": {},
   "outputs": [],
   "source": []
  },
  {
   "cell_type": "code",
   "execution_count": null,
   "id": "96229cc3-9eae-420f-99ba-1c6c9b89f9f9",
   "metadata": {},
   "outputs": [],
   "source": []
  },
  {
   "cell_type": "code",
   "execution_count": null,
   "id": "57e33b0d-30ae-429b-9735-bb12e5c1847a",
   "metadata": {},
   "outputs": [],
   "source": []
  },
  {
   "cell_type": "code",
   "execution_count": null,
   "id": "4d51640e-15a8-43e1-8a1d-f25cc4007d8e",
   "metadata": {},
   "outputs": [],
   "source": []
  },
  {
   "cell_type": "code",
   "execution_count": null,
   "id": "06f6b7ed-a86b-421e-88f4-2f86712643ec",
   "metadata": {},
   "outputs": [],
   "source": []
  },
  {
   "cell_type": "code",
   "execution_count": null,
   "id": "303cb155-2d29-481a-bf42-bb0d36d7294a",
   "metadata": {},
   "outputs": [],
   "source": []
  }
 ],
 "metadata": {
  "kernelspec": {
   "display_name": "conda_python3",
   "language": "python",
   "name": "conda_python3"
  },
  "language_info": {
   "codemirror_mode": {
    "name": "ipython",
    "version": 3
   },
   "file_extension": ".py",
   "mimetype": "text/x-python",
   "name": "python",
   "nbconvert_exporter": "python",
   "pygments_lexer": "ipython3",
   "version": "3.10.12"
  }
 },
 "nbformat": 4,
 "nbformat_minor": 5
}
