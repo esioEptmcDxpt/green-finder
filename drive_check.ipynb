{
 "cells": [
  {
   "cell_type": "markdown",
   "id": "2da58e38-181a-4539-842b-b63638497f71",
   "metadata": {},
   "source": [
    "# ドライブチェック"
   ]
  },
  {
   "cell_type": "markdown",
   "id": "f099cd6f-8f33-47fe-9e2f-db09de1b3e84",
   "metadata": {},
   "source": [
    "# dfコマンド使用\n",
    "ディスク単位での使用率をチェック"
   ]
  },
  {
   "cell_type": "code",
   "execution_count": 1,
   "id": "84f160f7-69ea-4740-8401-f55f556aa64e",
   "metadata": {
    "tags": []
   },
   "outputs": [
    {
     "name": "stdout",
     "output_type": "stream",
     "text": [
      "Filesystem      Size  Used Avail Use% Mounted on\n",
      "devtmpfs        3.7G     0  3.7G   0% /dev\n",
      "tmpfs           3.8G     0  3.8G   0% /dev/shm\n",
      "tmpfs           3.8G  660K  3.8G   1% /run\n",
      "tmpfs           3.8G     0  3.8G   0% /sys/fs/cgroup\n",
      "/dev/nvme0n1p1  180G  134G   47G  75% /\n",
      "/dev/nvme1n1     50G   32G   15G  68% /home/ec2-user/SageMaker\n",
      "tmpfs           759M     0  759M   0% /run/user/1002\n",
      "tmpfs           759M     0  759M   0% /run/user/1001\n",
      "tmpfs           759M     0  759M   0% /run/user/1000\n",
      "tmpfs           759M     0  759M   0% /run/user/0\n"
     ]
    }
   ],
   "source": [
    "!df -h"
   ]
  },
  {
   "cell_type": "markdown",
   "id": "e71f1a27-b1bc-43c5-b8d9-00c7c96786e9",
   "metadata": {},
   "source": [
    "# duコマンド\n",
    "ノートブックインスタンスでの使用容量をチェック\n",
    "\n",
    "- 2>/dev/null ⇒ エラーメッセージを非表示\n",
    "- sort -hr ⇒ 容量順にソート"
   ]
  },
  {
   "cell_type": "code",
   "execution_count": 12,
   "id": "378d498e-8edb-44f6-b2e2-c5f83d56ff70",
   "metadata": {
    "tags": []
   },
   "outputs": [
    {
     "name": "stdout",
     "output_type": "stream",
     "text": [
      "32G\t/home/ec2-user/SageMaker/AmazonSageMaker-trolley-monitor-onSOW/\n",
      "13G\t/home/ec2-user/SageMaker/AmazonSageMaker-trolley-monitor-onSOW/output\n",
      "8.6G\t/home/ec2-user/SageMaker/AmazonSageMaker-trolley-monitor-onSOW/_output_esc\n",
      "6.1G\t/home/ec2-user/SageMaker/AmazonSageMaker-trolley-monitor-onSOW/_imgs_esc\n",
      "4.2G\t/home/ec2-user/SageMaker/AmazonSageMaker-trolley-monitor-onSOW/imgs\n",
      "90M\t/home/ec2-user/SageMaker/AmazonSageMaker-trolley-monitor-onSOW/.Chuo_01_Tokyo-St_20230201_knight\n",
      "32M\t/home/ec2-user/SageMaker/AmazonSageMaker-trolley-monitor-onSOW/.git\n",
      "4.1M\t/home/ec2-user/SageMaker/AmazonSageMaker-trolley-monitor-onSOW/.ipynb_checkpoints\n",
      "1.8M\t/home/ec2-user/SageMaker/AmazonSageMaker-trolley-monitor-onSOW/utils\n",
      "380K\t/home/ec2-user/SageMaker/AmazonSageMaker-trolley-monitor-onSOW/src\n",
      "88K\t/home/ec2-user/SageMaker/AmazonSageMaker-trolley-monitor-onSOW/pages\n",
      "52K\t/home/ec2-user/SageMaker/AmazonSageMaker-trolley-monitor-onSOW/trolley_line_analysis.egg-info\n",
      "36K\t/home/ec2-user/SageMaker/AmazonSageMaker-trolley-monitor-onSOW/tests\n"
     ]
    }
   ],
   "source": [
    "!du -h -x -d 1 /home/ec2-user/SageMaker/AmazonSageMaker-trolley-monitor-onSOW/ 2>/dev/null | sort -hr"
   ]
  },
  {
   "cell_type": "code",
   "execution_count": 13,
   "id": "2241d83d-bdb3-4a9f-a37e-23dd522ee5c6",
   "metadata": {
    "tags": []
   },
   "outputs": [
    {
     "name": "stdout",
     "output_type": "stream",
     "text": [
      "13G\t/home/ec2-user/SageMaker/AmazonSageMaker-trolley-monitor-onSOW/output\n",
      "6.5G\t/home/ec2-user/SageMaker/AmazonSageMaker-trolley-monitor-onSOW/output/Chuo_24_Higashinakano-Nakano_down_20230201_day\n",
      "4.5G\t/home/ec2-user/SageMaker/AmazonSageMaker-trolley-monitor-onSOW/output/Yamate_01_Tokyo-Kanda_soto_20230129_knight\n",
      "1.5G\t/home/ec2-user/SageMaker/AmazonSageMaker-trolley-monitor-onSOW/output/ChuoKanko_12_Shinanomachi-Sendagaya_up_20230207_day\n",
      "157M\t/home/ec2-user/SageMaker/AmazonSageMaker-trolley-monitor-onSOW/output/Chuo_16_Shinanomachi-Sendagaya_down_20230202_knight\n",
      "150M\t/home/ec2-user/SageMaker/AmazonSageMaker-trolley-monitor-onSOW/output/Kawagoe_01_Omiya-Nisshin_down_20210721_knight\n"
     ]
    }
   ],
   "source": [
    "!du -h -x -d 1 /home/ec2-user/SageMaker/AmazonSageMaker-trolley-monitor-onSOW/output 2>/dev/null | sort -hr"
   ]
  }
 ],
 "metadata": {
  "kernelspec": {
   "display_name": "conda_python3",
   "language": "python",
   "name": "conda_python3"
  },
  "language_info": {
   "codemirror_mode": {
    "name": "ipython",
    "version": 3
   },
   "file_extension": ".py",
   "mimetype": "text/x-python",
   "name": "python",
   "nbconvert_exporter": "python",
   "pygments_lexer": "ipython3",
   "version": "3.10.10"
  }
 },
 "nbformat": 4,
 "nbformat_minor": 5
}
