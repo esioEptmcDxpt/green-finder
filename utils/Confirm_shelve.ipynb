{
 "cells": [
  {
   "cell_type": "markdown",
   "id": "ad87258e-258b-4d24-8692-cdbb0bba5ba4",
   "metadata": {},
   "source": [
    "# Shelveの格納チェック\n",
    "Streamlit上で動作するshelveへのデータ格納状況を確認するためのスクリプトです。\n",
    "\n",
    "注意事項\n",
    "Shelve ファイルにデータは格納されています。  \n",
    "Shelve ファイルを読み込む際には、以下の二点に注意してください。  \n",
    "[1] Read only モードで読み込みする  \n",
    "[2] with 句でファイルを開く（予期せぬエラーによるclose処理の忘却を避けることができます。）  "
   ]
  },
  {
   "cell_type": "code",
   "execution_count": 4,
   "id": "7c568a1a-0e88-4a65-912d-f77941742d3c",
   "metadata": {
    "tags": []
   },
   "outputs": [
    {
     "name": "stdout",
     "output_type": "stream",
     "text": [
      "/home/ec2-user/SageMaker/AmazonSageMaker-trolley-monitor-onSOW/utils\n"
     ]
    }
   ],
   "source": [
    "import os\n",
    "import shelve\n",
    "import copy\n",
    "import pandas as pd\n",
    "\n",
    "print(os.getcwd())"
   ]
  },
  {
   "cell_type": "code",
   "execution_count": 5,
   "id": "3d3c1a27-60b9-4513-99d2-1623eb5533fb",
   "metadata": {
    "tags": []
   },
   "outputs": [],
   "source": [
    "# ファイル名の指定\n",
    "output_path = '../output/Chuo_01_Tokyo-St_up_20230201_knight/'\n",
    "camera_num = 'HD11'\n",
    "shelve_name = \"/rail.shelve\""
   ]
  },
  {
   "cell_type": "code",
   "execution_count": 11,
   "id": "d6b28cd1-667f-4d40-bc04-9ebcaad0b9fc",
   "metadata": {
    "tags": []
   },
   "outputs": [
    {
     "name": "stdout",
     "output_type": "stream",
     "text": [
      "Chuo_01_Tokyo-St_up_20230201_knight\n"
     ]
    },
    {
     "data": {
      "text/html": [
       "<div>\n",
       "<style scoped>\n",
       "    .dataframe tbody tr th:only-of-type {\n",
       "        vertical-align: middle;\n",
       "    }\n",
       "\n",
       "    .dataframe tbody tr th {\n",
       "        vertical-align: top;\n",
       "    }\n",
       "\n",
       "    .dataframe thead th {\n",
       "        text-align: right;\n",
       "    }\n",
       "</style>\n",
       "<table border=\"1\" class=\"dataframe\">\n",
       "  <thead>\n",
       "    <tr style=\"text-align: right;\">\n",
       "      <th></th>\n",
       "      <th>0</th>\n",
       "      <th>1</th>\n",
       "    </tr>\n",
       "  </thead>\n",
       "  <tbody>\n",
       "    <tr>\n",
       "      <th>0</th>\n",
       "      <td>2022_0615_HD11_01_00022312.jpg</td>\n",
       "      <td>1</td>\n",
       "    </tr>\n",
       "    <tr>\n",
       "      <th>1</th>\n",
       "      <td>2022_0615_HD11_01_00022313.jpg</td>\n",
       "      <td>1</td>\n",
       "    </tr>\n",
       "    <tr>\n",
       "      <th>2</th>\n",
       "      <td>2022_0615_HD11_01_00022314.jpg</td>\n",
       "      <td>1</td>\n",
       "    </tr>\n",
       "    <tr>\n",
       "      <th>3</th>\n",
       "      <td>2022_0615_HD11_01_00022315.jpg</td>\n",
       "      <td>1</td>\n",
       "    </tr>\n",
       "    <tr>\n",
       "      <th>4</th>\n",
       "      <td>2022_0615_HD11_01_00022316.jpg</td>\n",
       "      <td>1</td>\n",
       "    </tr>\n",
       "  </tbody>\n",
       "</table>\n",
       "</div>"
      ],
      "text/plain": [
       "                                0  1\n",
       "0  2022_0615_HD11_01_00022312.jpg  1\n",
       "1  2022_0615_HD11_01_00022313.jpg  1\n",
       "2  2022_0615_HD11_01_00022314.jpg  1\n",
       "3  2022_0615_HD11_01_00022315.jpg  1\n",
       "4  2022_0615_HD11_01_00022316.jpg  1"
      ]
     },
     "execution_count": 11,
     "metadata": {},
     "output_type": "execute_result"
    }
   ],
   "source": [
    "# 格納されている名称と画像のリストを確認\n",
    "with shelve.open(output_path + camera_num + shelve_name, flag='r') as rail:\n",
    "    print(rail['name'])\n",
    "    \n",
    "    image_list = []\n",
    "    for img_path in rail[camera_num].keys():\n",
    "        num_trolleyid = len(rail[camera_num][img_path].keys())\n",
    "        image_list.append([img_path.split('/')[-1], num_trolleyid])\n",
    "pd.DataFrame(image_list).head(5)"
   ]
  },
  {
   "cell_type": "code",
   "execution_count": 12,
   "id": "1a31980b-e2d9-4564-83fe-04b9c61a3609",
   "metadata": {
    "tags": []
   },
   "outputs": [
    {
     "name": "stdout",
     "output_type": "stream",
     "text": [
      "パラメータ数は38\n",
      "x_init\n",
      "y_init_u\n",
      "y_init_l\n",
      "num_obs\n",
      "missingCounts\n",
      "initial_state_covariance\n",
      "initial_state_mean\n",
      "transition_matrix\n",
      "transition_covariance\n",
      "current_state\n",
      "last_state\n",
      "last_state_covariance\n",
      "estimated_upper_edge\n",
      "estimated_lower_edge\n",
      "estimated_width\n",
      "estimated_slope\n",
      "estimated_upper_edge_variance\n",
      "estimated_lower_edge_variance\n",
      "estimated_slope_variance\n",
      "blightness_center\n",
      "blightness_mean\n",
      "blightness_std\n",
      "measured_upper_edge\n",
      "measured_lower_edge\n",
      "missing_state\n",
      "trolley_end_reason\n",
      "brightness\n",
      "new_measurement\n",
      "mask\n",
      "center\n",
      "last_boundary_expectation\n",
      "last_brightness\n",
      "mxn_slope_iy\n",
      "value_iy\n",
      "box_width\n",
      "observation_matrix\n",
      "observation_covariance\n",
      "current_state_covariance\n"
     ]
    }
   ],
   "source": [
    "# 格納パラメータを確認\n",
    "imagename = 'imgs/Chuo_01_Tokyo-St_up_20230201_knight/HD11/2022_0615_HD11_01_00022312.jpg'\n",
    "trolley_id = 'trolley2'\n",
    "\n",
    "with shelve.open(output_path + camera_num + shelve_name, flag='r') as rail:\n",
    "    print(f'パラメータ数は{len(rail[camera_num][imagename][trolley_id].keys())}')\n",
    "    for key in rail[camera_num][imagename][trolley_id].keys():\n",
    "        print(key)"
   ]
  },
  {
   "cell_type": "code",
   "execution_count": null,
   "id": "13c27954-5a4e-4b6f-82b5-87d5d05ce798",
   "metadata": {},
   "outputs": [],
   "source": []
  }
 ],
 "metadata": {
  "kernelspec": {
   "display_name": "conda_amazonei_pytorch_latest_p37",
   "language": "python",
   "name": "conda_amazonei_pytorch_latest_p37"
  },
  "language_info": {
   "codemirror_mode": {
    "name": "ipython",
    "version": 3
   },
   "file_extension": ".py",
   "mimetype": "text/x-python",
   "name": "python",
   "nbconvert_exporter": "python",
   "pygments_lexer": "ipython3",
   "version": "3.7.10"
  }
 },
 "nbformat": 4,
 "nbformat_minor": 5
}
