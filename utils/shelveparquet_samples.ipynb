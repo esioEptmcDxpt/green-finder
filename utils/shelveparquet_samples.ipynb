{
 "cells": [
  {
   "cell_type": "markdown",
   "id": "ad87258e-258b-4d24-8692-cdbb0bba5ba4",
   "metadata": {},
   "source": [
    "# Shelveの格納チェック\n",
    "るshelveへのデータ格納状況を確認し、parquet形式へと変換するサンプルスクリプトです。\n",
    "\n",
    "[1] 既にshelveファイルに格納されているデータをparquet形式に変換\n",
    "[2] 今後利用するshelvesをparquet形式に保存する"
   ]
  },
  {
   "cell_type": "code",
   "execution_count": 10,
   "id": "7c568a1a-0e88-4a65-912d-f77941742d3c",
   "metadata": {
    "tags": []
   },
   "outputs": [
    {
     "ename": "ModuleNotFoundError",
     "evalue": "No module named 'src'",
     "output_type": "error",
     "traceback": [
      "\u001b[0;31m---------------------------------------------------------------------------\u001b[0m",
      "\u001b[0;31mModuleNotFoundError\u001b[0m                       Traceback (most recent call last)",
      "\u001b[0;32m/tmp/ipykernel_28415/3726816458.py\u001b[0m in \u001b[0;36m<module>\u001b[0;34m\u001b[0m\n\u001b[1;32m      3\u001b[0m \u001b[0;32mimport\u001b[0m \u001b[0mcopy\u001b[0m\u001b[0;34m\u001b[0m\u001b[0;34m\u001b[0m\u001b[0m\n\u001b[1;32m      4\u001b[0m \u001b[0;32mimport\u001b[0m \u001b[0mpandas\u001b[0m \u001b[0;32mas\u001b[0m \u001b[0mpd\u001b[0m\u001b[0;34m\u001b[0m\u001b[0;34m\u001b[0m\u001b[0m\n\u001b[0;32m----> 5\u001b[0;31m \u001b[0;32mfrom\u001b[0m \u001b[0msrc\u001b[0m\u001b[0;34m.\u001b[0m\u001b[0mconfig\u001b[0m \u001b[0;32mimport\u001b[0m \u001b[0mappProperties\u001b[0m\u001b[0;34m\u001b[0m\u001b[0;34m\u001b[0m\u001b[0m\n\u001b[0m\u001b[1;32m      6\u001b[0m \u001b[0;34m\u001b[0m\u001b[0m\n\u001b[1;32m      7\u001b[0m \u001b[0mconfig\u001b[0m \u001b[0;34m=\u001b[0m \u001b[0mappProperties\u001b[0m\u001b[0;34m(\u001b[0m\u001b[0;34m'../config.yml'\u001b[0m\u001b[0;34m)\u001b[0m\u001b[0;34m\u001b[0m\u001b[0;34m\u001b[0m\u001b[0m\n",
      "\u001b[0;31mModuleNotFoundError\u001b[0m: No module named 'src'"
     ]
    }
   ],
   "source": [
    "import os\n",
    "import shelve\n",
    "import copy\n",
    "import pandas as pd\n",
    "from src.config import appProperties\n",
    "\n",
    "config = appProperties('../config.yml')\n",
    "\n",
    "print(os.getcwd())"
   ]
  },
  {
   "cell_type": "code",
   "execution_count": 5,
   "id": "3d3c1a27-60b9-4513-99d2-1623eb5533fb",
   "metadata": {
    "tags": []
   },
   "outputs": [],
   "source": [
    "# ファイル名の指定\n",
    "# output_path = '../output/Chuo_01_Tokyo-St_up_20230201_knight/'\n",
    "output_path = '../output/Takasaki_01_Omiya-Miyahara_up_20230217_day/'\n",
    "camera_num = 'HD11'\n",
    "shelve_name = \"/rail.shelve\""
   ]
  },
  {
   "cell_type": "code",
   "execution_count": 6,
   "id": "d6b28cd1-667f-4d40-bc04-9ebcaad0b9fc",
   "metadata": {
    "tags": []
   },
   "outputs": [
    {
     "name": "stdout",
     "output_type": "stream",
     "text": [
      "Chuo_01_Tokyo-St_up_20230201_knight\n",
      "Chuo_01_Tokyo-St_up_20230201_knight\n",
      "Chuo_01_Tokyo-St_up_20230201_knight\n",
      "Chuo_01_Tokyo-St_up_20230201_knight\n",
      "Chuo_01_Tokyo-St_up_20230201_knight\n",
      "Chuo_01_Tokyo-St_up_20230201_knight\n",
      "Chuo_01_Tokyo-St_up_20230201_knight\n",
      "Chuo_01_Tokyo-St_up_20230201_knight\n",
      "10.6 s ± 40.3 ms per loop (mean ± std. dev. of 7 runs, 1 loop each)\n"
     ]
    }
   ],
   "source": [
    "%%timeit\n",
    "# 格納されている名称と画像のリストを確認\n",
    "with shelve.open(output_path + camera_num + shelve_name, flag='r') as rail:\n",
    "    print(rail['name'])\n",
    "    image_list = []\n",
    "    for img_path in rail[camera_num].keys():\n",
    "        num_trolleyid = len(rail[camera_num][img_path].keys())\n",
    "        image_list.append([img_path.split('/')[-1], num_trolleyid])\n",
    "pd.DataFrame(image_list).head(5)"
   ]
  },
  {
   "cell_type": "code",
   "execution_count": 7,
   "id": "1a31980b-e2d9-4564-83fe-04b9c61a3609",
   "metadata": {
    "tags": []
   },
   "outputs": [
    {
     "name": "stdout",
     "output_type": "stream",
     "text": [
      "パラメータ数は1\n",
      "estimated_upper_edge\n",
      "estimated_lower_edge\n",
      "brightness_center\n",
      "brightness_mean\n",
      "brightness_std\n",
      "estimated_upper_edge_variance\n",
      "estimated_lower_edge_variance\n",
      "estimated_slope_variance\n",
      "measured_upper_edge\n",
      "measured_lower_edge\n",
      "trolley_end_reason\n",
      "mask_edgelog_1\n",
      "mask_edgelog_2\n"
     ]
    }
   ],
   "source": [
    "# 格納パラメータを確認\n",
    "# imagename = 'imgs/Chuo_01_Tokyo-St_up_20230201_knight/HD11/2022_0615_HD11_01_00022313.jpg'\n",
    "imagename = 'imgs/Takasaki_01_Omiya-Miyahara_up_20230217_day/HD11/2022_0690_HD11_01_00076549.jpg'\n",
    "\n",
    "with shelve.open(output_path + camera_num + shelve_name, flag='r') as rail:\n",
    "    print(f'パラメータ数は{len(rail[camera_num][imagename].keys())}')\n",
    "    testdict = rail[camera_num]\n",
    "    for key in rail[camera_num][imagename]['trolley1'].keys():\n",
    "        print(key)"
   ]
  },
  {
   "cell_type": "code",
   "execution_count": 8,
   "id": "e1e285af-ba7a-40aa-8a82-ab58cb0439e2",
   "metadata": {
    "tags": []
   },
   "outputs": [
    {
     "data": {
      "text/plain": [
       "(29817, 15)"
      ]
     },
     "execution_count": 8,
     "metadata": {},
     "output_type": "execute_result"
    }
   ],
   "source": [
    "listdf = ['estimated_upper_edge', 'estimated_lower_edge', 'brightness_center', 'brightness_mean', 'brightness_std', \n",
    "          'estimated_upper_edge_variance', 'estimated_lower_edge_variance', 'estimated_slope_variance', 'measured_upper_edge',\n",
    "          'measured_lower_edge', 'trolley_end_reason', 'mask_edgelog_1', 'mask_edgelog_2', 'trolley_id', 'image_path']\n",
    "\n",
    "df_concat = pd.DataFrame(columns=listdf)\n",
    "for image_path in testdict.keys():\n",
    "    for trolleyid in testdict[image_path].keys():\n",
    "        df = pd.DataFrame.from_dict(testdict[image_path][trolleyid], orient='index').T\n",
    "        df['image_path'] = image_path\n",
    "        df['trolley_id'] = trolleyid\n",
    "        df_concat = pd.concat([df_concat, df], ignore_index=True)\n",
    "df_concat.shape"
   ]
  },
  {
   "cell_type": "code",
   "execution_count": 9,
   "id": "1eb7d370-6dc5-46cd-bb1c-b9d2bbba3754",
   "metadata": {
    "tags": []
   },
   "outputs": [
    {
     "name": "stdout",
     "output_type": "stream",
     "text": [
      "<class 'pandas.core.frame.DataFrame'>\n",
      "RangeIndex: 29817 entries, 0 to 29816\n",
      "Data columns (total 15 columns):\n",
      " #   Column                         Non-Null Count  Dtype \n",
      "---  ------                         --------------  ----- \n",
      " 0   estimated_upper_edge           29817 non-null  object\n",
      " 1   estimated_lower_edge           29817 non-null  object\n",
      " 2   brightness_center              29817 non-null  object\n",
      " 3   brightness_mean                29817 non-null  object\n",
      " 4   brightness_std                 29817 non-null  object\n",
      " 5   estimated_upper_edge_variance  29817 non-null  object\n",
      " 6   estimated_lower_edge_variance  29817 non-null  object\n",
      " 7   estimated_slope_variance       29817 non-null  object\n",
      " 8   measured_upper_edge            29817 non-null  object\n",
      " 9   measured_lower_edge            29817 non-null  object\n",
      " 10  trolley_end_reason             1 non-null      object\n",
      " 11  mask_edgelog_1                 29817 non-null  object\n",
      " 12  mask_edgelog_2                 29817 non-null  object\n",
      " 13  trolley_id                     29817 non-null  object\n",
      " 14  image_path                     29817 non-null  object\n",
      "dtypes: object(15)\n",
      "memory usage: 3.4+ MB\n"
     ]
    }
   ],
   "source": [
    "df_concat.info(verbose=True)"
   ]
  },
  {
   "cell_type": "code",
   "execution_count": 10,
   "id": "38d16405-3484-497d-bec3-474231a1c235",
   "metadata": {
    "tags": []
   },
   "outputs": [
    {
     "data": {
      "text/html": [
       "<div>\n",
       "<style scoped>\n",
       "    .dataframe tbody tr th:only-of-type {\n",
       "        vertical-align: middle;\n",
       "    }\n",
       "\n",
       "    .dataframe tbody tr th {\n",
       "        vertical-align: top;\n",
       "    }\n",
       "\n",
       "    .dataframe thead th {\n",
       "        text-align: right;\n",
       "    }\n",
       "</style>\n",
       "<table border=\"1\" class=\"dataframe\">\n",
       "  <thead>\n",
       "    <tr style=\"text-align: right;\">\n",
       "      <th></th>\n",
       "      <th>estimated_upper_edge</th>\n",
       "      <th>estimated_lower_edge</th>\n",
       "      <th>brightness_center</th>\n",
       "      <th>brightness_mean</th>\n",
       "      <th>brightness_std</th>\n",
       "      <th>estimated_upper_edge_variance</th>\n",
       "      <th>estimated_lower_edge_variance</th>\n",
       "      <th>estimated_slope_variance</th>\n",
       "      <th>measured_upper_edge</th>\n",
       "      <th>measured_lower_edge</th>\n",
       "      <th>trolley_end_reason</th>\n",
       "      <th>mask_edgelog_1</th>\n",
       "      <th>mask_edgelog_2</th>\n",
       "      <th>trolley_id</th>\n",
       "      <th>image_path</th>\n",
       "    </tr>\n",
       "  </thead>\n",
       "  <tbody>\n",
       "    <tr>\n",
       "      <th>0</th>\n",
       "      <td>978.0</td>\n",
       "      <td>990.0</td>\n",
       "      <td>255.0</td>\n",
       "      <td>231.5</td>\n",
       "      <td>44.96875</td>\n",
       "      <td>0.750488</td>\n",
       "      <td>0.750488</td>\n",
       "      <td>0.001049</td>\n",
       "      <td>978.0</td>\n",
       "      <td>989.0</td>\n",
       "      <td>NaN</td>\n",
       "      <td>0.0</td>\n",
       "      <td>0.0</td>\n",
       "      <td>trolley1</td>\n",
       "      <td>imgs/Chuo_01_Tokyo-St_up_20230201_knight/HD11/...</td>\n",
       "    </tr>\n",
       "    <tr>\n",
       "      <th>1</th>\n",
       "      <td>978.0</td>\n",
       "      <td>990.0</td>\n",
       "      <td>254.0</td>\n",
       "      <td>231.875</td>\n",
       "      <td>43.6875</td>\n",
       "      <td>0.602051</td>\n",
       "      <td>0.602051</td>\n",
       "      <td>0.001098</td>\n",
       "      <td>978.0</td>\n",
       "      <td>989.0</td>\n",
       "      <td>NaN</td>\n",
       "      <td>0.0</td>\n",
       "      <td>0.0</td>\n",
       "      <td>trolley1</td>\n",
       "      <td>imgs/Chuo_01_Tokyo-St_up_20230201_knight/HD11/...</td>\n",
       "    </tr>\n",
       "    <tr>\n",
       "      <th>2</th>\n",
       "      <td>978.0</td>\n",
       "      <td>990.0</td>\n",
       "      <td>255.0</td>\n",
       "      <td>232.25</td>\n",
       "      <td>41.75</td>\n",
       "      <td>0.504395</td>\n",
       "      <td>0.503906</td>\n",
       "      <td>0.001144</td>\n",
       "      <td>978.0</td>\n",
       "      <td>990.0</td>\n",
       "      <td>NaN</td>\n",
       "      <td>0.0</td>\n",
       "      <td>0.0</td>\n",
       "      <td>trolley1</td>\n",
       "      <td>imgs/Chuo_01_Tokyo-St_up_20230201_knight/HD11/...</td>\n",
       "    </tr>\n",
       "    <tr>\n",
       "      <th>3</th>\n",
       "      <td>978.0</td>\n",
       "      <td>990.0</td>\n",
       "      <td>255.0</td>\n",
       "      <td>233.125</td>\n",
       "      <td>40.0</td>\n",
       "      <td>0.435547</td>\n",
       "      <td>0.435547</td>\n",
       "      <td>0.001188</td>\n",
       "      <td>978.0</td>\n",
       "      <td>990.0</td>\n",
       "      <td>NaN</td>\n",
       "      <td>0.0</td>\n",
       "      <td>0.0</td>\n",
       "      <td>trolley1</td>\n",
       "      <td>imgs/Chuo_01_Tokyo-St_up_20230201_knight/HD11/...</td>\n",
       "    </tr>\n",
       "    <tr>\n",
       "      <th>4</th>\n",
       "      <td>978.0</td>\n",
       "      <td>990.0</td>\n",
       "      <td>255.0</td>\n",
       "      <td>233.0</td>\n",
       "      <td>39.09375</td>\n",
       "      <td>0.385498</td>\n",
       "      <td>0.385254</td>\n",
       "      <td>0.001229</td>\n",
       "      <td>978.0</td>\n",
       "      <td>990.0</td>\n",
       "      <td>NaN</td>\n",
       "      <td>0.0</td>\n",
       "      <td>0.0</td>\n",
       "      <td>trolley1</td>\n",
       "      <td>imgs/Chuo_01_Tokyo-St_up_20230201_knight/HD11/...</td>\n",
       "    </tr>\n",
       "  </tbody>\n",
       "</table>\n",
       "</div>"
      ],
      "text/plain": [
       "  estimated_upper_edge estimated_lower_edge brightness_center brightness_mean  \\\n",
       "0                978.0                990.0             255.0           231.5   \n",
       "1                978.0                990.0             254.0         231.875   \n",
       "2                978.0                990.0             255.0          232.25   \n",
       "3                978.0                990.0             255.0         233.125   \n",
       "4                978.0                990.0             255.0           233.0   \n",
       "\n",
       "  brightness_std estimated_upper_edge_variance estimated_lower_edge_variance  \\\n",
       "0       44.96875                      0.750488                      0.750488   \n",
       "1        43.6875                      0.602051                      0.602051   \n",
       "2          41.75                      0.504395                      0.503906   \n",
       "3           40.0                      0.435547                      0.435547   \n",
       "4       39.09375                      0.385498                      0.385254   \n",
       "\n",
       "  estimated_slope_variance measured_upper_edge measured_lower_edge  \\\n",
       "0                 0.001049               978.0               989.0   \n",
       "1                 0.001098               978.0               989.0   \n",
       "2                 0.001144               978.0               990.0   \n",
       "3                 0.001188               978.0               990.0   \n",
       "4                 0.001229               978.0               990.0   \n",
       "\n",
       "  trolley_end_reason mask_edgelog_1 mask_edgelog_2 trolley_id  \\\n",
       "0                NaN            0.0            0.0   trolley1   \n",
       "1                NaN            0.0            0.0   trolley1   \n",
       "2                NaN            0.0            0.0   trolley1   \n",
       "3                NaN            0.0            0.0   trolley1   \n",
       "4                NaN            0.0            0.0   trolley1   \n",
       "\n",
       "                                          image_path  \n",
       "0  imgs/Chuo_01_Tokyo-St_up_20230201_knight/HD11/...  \n",
       "1  imgs/Chuo_01_Tokyo-St_up_20230201_knight/HD11/...  \n",
       "2  imgs/Chuo_01_Tokyo-St_up_20230201_knight/HD11/...  \n",
       "3  imgs/Chuo_01_Tokyo-St_up_20230201_knight/HD11/...  \n",
       "4  imgs/Chuo_01_Tokyo-St_up_20230201_knight/HD11/...  "
      ]
     },
     "execution_count": 10,
     "metadata": {},
     "output_type": "execute_result"
    }
   ],
   "source": [
    "df_concat.head(5)"
   ]
  },
  {
   "cell_type": "code",
   "execution_count": 11,
   "id": "28064ce7-cdab-42fb-a22e-f9297fd96c49",
   "metadata": {
    "tags": []
   },
   "outputs": [
    {
     "data": {
      "text/html": [
       "<div>\n",
       "<style scoped>\n",
       "    .dataframe tbody tr th:only-of-type {\n",
       "        vertical-align: middle;\n",
       "    }\n",
       "\n",
       "    .dataframe tbody tr th {\n",
       "        vertical-align: top;\n",
       "    }\n",
       "\n",
       "    .dataframe thead th {\n",
       "        text-align: right;\n",
       "    }\n",
       "</style>\n",
       "<table border=\"1\" class=\"dataframe\">\n",
       "  <thead>\n",
       "    <tr style=\"text-align: right;\">\n",
       "      <th></th>\n",
       "      <th>estimated_upper_edge</th>\n",
       "      <th>estimated_lower_edge</th>\n",
       "      <th>brightness_center</th>\n",
       "      <th>brightness_mean</th>\n",
       "      <th>brightness_std</th>\n",
       "      <th>estimated_upper_edge_variance</th>\n",
       "      <th>estimated_lower_edge_variance</th>\n",
       "      <th>estimated_slope_variance</th>\n",
       "      <th>measured_upper_edge</th>\n",
       "      <th>measured_lower_edge</th>\n",
       "      <th>trolley_end_reason</th>\n",
       "      <th>mask_edgelog_1</th>\n",
       "      <th>mask_edgelog_2</th>\n",
       "      <th>image_path</th>\n",
       "    </tr>\n",
       "    <tr>\n",
       "      <th>trolley_id</th>\n",
       "      <th></th>\n",
       "      <th></th>\n",
       "      <th></th>\n",
       "      <th></th>\n",
       "      <th></th>\n",
       "      <th></th>\n",
       "      <th></th>\n",
       "      <th></th>\n",
       "      <th></th>\n",
       "      <th></th>\n",
       "      <th></th>\n",
       "      <th></th>\n",
       "      <th></th>\n",
       "      <th></th>\n",
       "    </tr>\n",
       "  </thead>\n",
       "  <tbody>\n",
       "    <tr>\n",
       "      <th>trolley1</th>\n",
       "      <td>29817</td>\n",
       "      <td>29817</td>\n",
       "      <td>29817</td>\n",
       "      <td>29817</td>\n",
       "      <td>29817</td>\n",
       "      <td>29817</td>\n",
       "      <td>29817</td>\n",
       "      <td>29817</td>\n",
       "      <td>29817</td>\n",
       "      <td>29817</td>\n",
       "      <td>1</td>\n",
       "      <td>29817</td>\n",
       "      <td>29817</td>\n",
       "      <td>29817</td>\n",
       "    </tr>\n",
       "  </tbody>\n",
       "</table>\n",
       "</div>"
      ],
      "text/plain": [
       "            estimated_upper_edge  estimated_lower_edge  brightness_center  \\\n",
       "trolley_id                                                                  \n",
       "trolley1                   29817                 29817              29817   \n",
       "\n",
       "            brightness_mean  brightness_std  estimated_upper_edge_variance  \\\n",
       "trolley_id                                                                   \n",
       "trolley1              29817           29817                          29817   \n",
       "\n",
       "            estimated_lower_edge_variance  estimated_slope_variance  \\\n",
       "trolley_id                                                            \n",
       "trolley1                            29817                     29817   \n",
       "\n",
       "            measured_upper_edge  measured_lower_edge  trolley_end_reason  \\\n",
       "trolley_id                                                                 \n",
       "trolley1                  29817                29817                   1   \n",
       "\n",
       "            mask_edgelog_1  mask_edgelog_2  image_path  \n",
       "trolley_id                                              \n",
       "trolley1             29817           29817       29817  "
      ]
     },
     "execution_count": 11,
     "metadata": {},
     "output_type": "execute_result"
    }
   ],
   "source": [
    "df_concat.groupby('trolley_id').count()"
   ]
  },
  {
   "cell_type": "code",
   "execution_count": null,
   "id": "e411caea-aac4-4c2c-baa7-dd5795ae8940",
   "metadata": {},
   "outputs": [],
   "source": [
    "!pip install pyarrow"
   ]
  },
  {
   "cell_type": "code",
   "execution_count": 12,
   "id": "94af7a31-c9c3-4c74-bf1c-71f220f22112",
   "metadata": {
    "tags": []
   },
   "outputs": [
    {
     "ename": "ModuleNotFoundError",
     "evalue": "No module named 'pyarrow'",
     "output_type": "error",
     "traceback": [
      "\u001b[0;31m---------------------------------------------------------------------------\u001b[0m",
      "\u001b[0;31mModuleNotFoundError\u001b[0m                       Traceback (most recent call last)",
      "\u001b[0;32m/tmp/ipykernel_2995/3295091589.py\u001b[0m in \u001b[0;36m<module>\u001b[0;34m\u001b[0m\n\u001b[1;32m      1\u001b[0m \u001b[0;31m# Parquetに変換する。\u001b[0m\u001b[0;34m\u001b[0m\u001b[0;34m\u001b[0m\u001b[0;34m\u001b[0m\u001b[0m\n\u001b[0;32m----> 2\u001b[0;31m \u001b[0;32mimport\u001b[0m \u001b[0mpyarrow\u001b[0m \u001b[0;32mas\u001b[0m \u001b[0mpa\u001b[0m\u001b[0;34m\u001b[0m\u001b[0;34m\u001b[0m\u001b[0m\n\u001b[0m\u001b[1;32m      3\u001b[0m \u001b[0;34m\u001b[0m\u001b[0m\n\u001b[1;32m      4\u001b[0m \u001b[0mtable\u001b[0m \u001b[0;34m=\u001b[0m \u001b[0mpa\u001b[0m\u001b[0;34m.\u001b[0m\u001b[0mTable\u001b[0m\u001b[0;34m.\u001b[0m\u001b[0mfrom_pandas\u001b[0m\u001b[0;34m(\u001b[0m\u001b[0mdf_concat\u001b[0m\u001b[0;34m)\u001b[0m\u001b[0;34m\u001b[0m\u001b[0;34m\u001b[0m\u001b[0m\n",
      "\u001b[0;31mModuleNotFoundError\u001b[0m: No module named 'pyarrow'"
     ]
    }
   ],
   "source": [
    "# Parquetに変換する。\n",
    "import pyarrow as pa\n",
    "\n",
    "table = pa.Table.from_pandas(df_concat)"
   ]
  },
  {
   "cell_type": "code",
   "execution_count": null,
   "id": "15bcfe02-6f62-4e86-a815-2a28f50ddcb8",
   "metadata": {
    "tags": []
   },
   "outputs": [],
   "source": [
    "# 書き込み\n",
    "from pyarrow import parquet as pq\n",
    "pq.write_table(table, 'shelvechenge.parquet', compression=None)\n",
    "df.to_csv('test.csv.gz', compression='gzip')"
   ]
  },
  {
   "cell_type": "code",
   "execution_count": null,
   "id": "cc609440-23ed-43d8-948b-3c721cf6ea99",
   "metadata": {
    "tags": []
   },
   "outputs": [],
   "source": [
    "%%timeit\n",
    "# 読み込み\n",
    "df_parquet = pd.read_parquet('shelvechenge.gzip.parquet')"
   ]
  },
  {
   "cell_type": "code",
   "execution_count": 17,
   "id": "4a4b4f82-7909-48e8-a004-6a08212be097",
   "metadata": {
    "tags": []
   },
   "outputs": [
    {
     "name": "stdout",
     "output_type": "stream",
     "text": [
      "5.61 ms ± 89.7 µs per loop (mean ± std. dev. of 7 runs, 100 loops each)\n"
     ]
    }
   ],
   "source": [
    "%%timeit\n",
    "# 読み込み\n",
    "df_parquet_nocompression = pd.read_parquet('shelvechenge.parquet')"
   ]
  },
  {
   "cell_type": "code",
   "execution_count": 15,
   "id": "b03fc110-bef0-422f-bacc-e74fcaf02504",
   "metadata": {
    "tags": []
   },
   "outputs": [
    {
     "name": "stdout",
     "output_type": "stream",
     "text": [
      "2.56 ms ± 31.5 µs per loop (mean ± std. dev. of 7 runs, 100 loops each)\n"
     ]
    }
   ],
   "source": [
    "%%timeit\n",
    "df_csv = pd.read_csv('shelvechange.csv')"
   ]
  },
  {
   "cell_type": "code",
   "execution_count": 19,
   "id": "94178071-39f2-4cff-8eb2-1f86507dd44b",
   "metadata": {
    "tags": []
   },
   "outputs": [
    {
     "name": "stdout",
     "output_type": "stream",
     "text": [
      "2.94 ms ± 4.52 µs per loop (mean ± std. dev. of 7 runs, 100 loops each)\n"
     ]
    }
   ],
   "source": [
    "%%timeit\n",
    "df_csv_gz = pd.read_csv('test.csv.gz')"
   ]
  }
 ],
 "metadata": {
  "kernelspec": {
   "display_name": "conda_amazonei_pytorch_latest_p37",
   "language": "python",
   "name": "conda_amazonei_pytorch_latest_p37"
  },
  "language_info": {
   "codemirror_mode": {
    "name": "ipython",
    "version": 3
   },
   "file_extension": ".py",
   "mimetype": "text/x-python",
   "name": "python",
   "nbconvert_exporter": "python",
   "pygments_lexer": "ipython3",
   "version": "3.7.10"
  }
 },
 "nbformat": 4,
 "nbformat_minor": 5
}
