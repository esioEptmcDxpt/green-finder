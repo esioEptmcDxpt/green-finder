{
 "cells": [
  {
   "cell_type": "markdown",
   "id": "ad87258e-258b-4d24-8692-cdbb0bba5ba4",
   "metadata": {},
   "source": [
    "# Shelveの格納チェック\n",
    "るshelveへのデータ格納状況を確認し、parquet形式へと変換するサンプルスクリプトです。\n",
    "\n",
    "[1] 既にshelveファイルに格納されているデータをparquet形式に変換\n",
    "[2] 今後利用するshelvesをparquet形式に保存する"
   ]
  },
  {
   "cell_type": "code",
   "execution_count": 2,
   "id": "7c568a1a-0e88-4a65-912d-f77941742d3c",
   "metadata": {
    "tags": []
   },
   "outputs": [
    {
     "name": "stdout",
     "output_type": "stream",
     "text": [
      "/home/ec2-user/SageMaker/AmazonSageMaker-trolley-monitor-onSOW/utils\n"
     ]
    }
   ],
   "source": [
    "import os\n",
    "import shelve\n",
    "import copy\n",
    "import pandas as pd\n",
    "\n",
    "print(os.getcwd())"
   ]
  },
  {
   "cell_type": "code",
   "execution_count": 3,
   "id": "3d3c1a27-60b9-4513-99d2-1623eb5533fb",
   "metadata": {
    "tags": []
   },
   "outputs": [],
   "source": [
    "# ファイル名の指定\n",
    "output_path = '../output/Chuo_01_Tokyo-St_up_20230201_knight/'\n",
    "camera_num = 'HD11'\n",
    "shelve_name = \"/rail.shelve\""
   ]
  },
  {
   "cell_type": "code",
   "execution_count": 4,
   "id": "d6b28cd1-667f-4d40-bc04-9ebcaad0b9fc",
   "metadata": {
    "tags": []
   },
   "outputs": [
    {
     "name": "stdout",
     "output_type": "stream",
     "text": [
      "Chuo_01_Tokyo-St_up_20230201_knight\n",
      "Chuo_01_Tokyo-St_up_20230201_knight\n",
      "Chuo_01_Tokyo-St_up_20230201_knight\n",
      "Chuo_01_Tokyo-St_up_20230201_knight\n",
      "Chuo_01_Tokyo-St_up_20230201_knight\n",
      "Chuo_01_Tokyo-St_up_20230201_knight\n",
      "Chuo_01_Tokyo-St_up_20230201_knight\n",
      "Chuo_01_Tokyo-St_up_20230201_knight\n",
      "13.8 s ± 12.8 ms per loop (mean ± std. dev. of 7 runs, 1 loop each)\n"
     ]
    }
   ],
   "source": [
    "%%timeit\n",
    "# 格納されている名称と画像のリストを確認\n",
    "with shelve.open(output_path + camera_num + shelve_name, flag='r') as rail:\n",
    "    print(rail['name'])\n",
    "    image_list = []\n",
    "    for img_path in rail[camera_num].keys():\n",
    "        num_trolleyid = len(rail[camera_num][img_path].keys())\n",
    "        image_list.append([img_path.split('/')[-1], num_trolleyid])\n",
    "pd.DataFrame(image_list).head(5)"
   ]
  },
  {
   "cell_type": "code",
   "execution_count": 5,
   "id": "1a31980b-e2d9-4564-83fe-04b9c61a3609",
   "metadata": {
    "tags": []
   },
   "outputs": [
    {
     "name": "stdout",
     "output_type": "stream",
     "text": [
      "パラメータ数は3\n",
      "estimated_upper_edge\n",
      "estimated_lower_edge\n",
      "brightness_center\n",
      "brightness_mean\n",
      "brightness_std\n",
      "estimated_upper_edge_variance\n",
      "estimated_lower_edge_variance\n",
      "estimated_slope_variance\n",
      "measured_upper_edge\n",
      "measured_lower_edge\n",
      "trolley_end_reason\n",
      "mask_edgelog_1\n",
      "mask_edgelog_2\n"
     ]
    }
   ],
   "source": [
    "# 格納パラメータを確認\n",
    "imagename = 'imgs/Chuo_01_Tokyo-St_up_20230201_knight/HD11/2022_0615_HD11_01_00022313.jpg'\n",
    "\n",
    "with shelve.open(output_path + camera_num + shelve_name, flag='r') as rail:\n",
    "    print(f'パラメータ数は{len(rail[camera_num][imagename].keys())}')\n",
    "    testdict = rail[camera_num]\n",
    "    for key in rail[camera_num][imagename]['trolley1'].keys():\n",
    "        print(key)"
   ]
  },
  {
   "cell_type": "code",
   "execution_count": 8,
   "id": "e1e285af-ba7a-40aa-8a82-ab58cb0439e2",
   "metadata": {
    "tags": []
   },
   "outputs": [
    {
     "data": {
      "text/plain": [
       "(35817, 16)"
      ]
     },
     "execution_count": 8,
     "metadata": {},
     "output_type": "execute_result"
    }
   ],
   "source": [
    "listdf = ['estimated_upper_edge', 'estimated_lower_edge', 'brightness_center', 'brightness_mean', 'brightness_std', \n",
    "          'estimated_upper_edge_variance', 'estimated_lower_edge_variance', 'estimated_slope_variance', 'measured_upper_edge',\n",
    "          'measured_lower_edge', 'trolley_end_reason', 'mask_edgelog_1', 'mask_edgelog_2', 'trolley_id', 'image_path']\n",
    "\n",
    "df_concat = pd.DataFrame(columns=listdf)\n",
    "for image_path in testdict.keys():\n",
    "    for trolleyid in testdict[image_path].keys():\n",
    "        df = pd.DataFrame.from_dict(testdict[image_path][trolleyid], orient='index').T\n",
    "        df['image_path'] = image_path\n",
    "        df['trolley_id'] = trolleyid\n",
    "        df['x_coordinate'] = [i for i in range(len(df))]\n",
    "        df_concat = pd.concat([df_concat, df], ignore_index=True)\n",
    "df_concat.shape"
   ]
  },
  {
   "cell_type": "code",
   "execution_count": 9,
   "id": "1eb7d370-6dc5-46cd-bb1c-b9d2bbba3754",
   "metadata": {
    "tags": []
   },
   "outputs": [
    {
     "name": "stdout",
     "output_type": "stream",
     "text": [
      "<class 'pandas.core.frame.DataFrame'>\n",
      "RangeIndex: 35817 entries, 0 to 35816\n",
      "Data columns (total 16 columns):\n",
      " #   Column                         Non-Null Count  Dtype  \n",
      "---  ------                         --------------  -----  \n",
      " 0   estimated_upper_edge           35817 non-null  object \n",
      " 1   estimated_lower_edge           35817 non-null  object \n",
      " 2   brightness_center              35817 non-null  object \n",
      " 3   brightness_mean                35817 non-null  object \n",
      " 4   brightness_std                 35817 non-null  object \n",
      " 5   estimated_upper_edge_variance  35817 non-null  object \n",
      " 6   estimated_lower_edge_variance  35817 non-null  object \n",
      " 7   estimated_slope_variance       35817 non-null  object \n",
      " 8   measured_upper_edge            35817 non-null  object \n",
      " 9   measured_lower_edge            35817 non-null  object \n",
      " 10  trolley_end_reason             1 non-null      object \n",
      " 11  mask_edgelog_1                 35817 non-null  object \n",
      " 12  mask_edgelog_2                 35817 non-null  object \n",
      " 13  trolley_id                     35817 non-null  object \n",
      " 14  image_path                     35817 non-null  object \n",
      " 15  x_coordinate                   35817 non-null  float64\n",
      "dtypes: float64(1), object(15)\n",
      "memory usage: 4.4+ MB\n"
     ]
    }
   ],
   "source": [
    "df_concat.info(verbose=True)"
   ]
  },
  {
   "cell_type": "code",
   "execution_count": 10,
   "id": "38d16405-3484-497d-bec3-474231a1c235",
   "metadata": {
    "tags": []
   },
   "outputs": [
    {
     "data": {
      "text/html": [
       "<div>\n",
       "<style scoped>\n",
       "    .dataframe tbody tr th:only-of-type {\n",
       "        vertical-align: middle;\n",
       "    }\n",
       "\n",
       "    .dataframe tbody tr th {\n",
       "        vertical-align: top;\n",
       "    }\n",
       "\n",
       "    .dataframe thead th {\n",
       "        text-align: right;\n",
       "    }\n",
       "</style>\n",
       "<table border=\"1\" class=\"dataframe\">\n",
       "  <thead>\n",
       "    <tr style=\"text-align: right;\">\n",
       "      <th></th>\n",
       "      <th>estimated_upper_edge</th>\n",
       "      <th>estimated_lower_edge</th>\n",
       "      <th>brightness_center</th>\n",
       "      <th>brightness_mean</th>\n",
       "      <th>brightness_std</th>\n",
       "      <th>estimated_upper_edge_variance</th>\n",
       "      <th>estimated_lower_edge_variance</th>\n",
       "      <th>estimated_slope_variance</th>\n",
       "      <th>measured_upper_edge</th>\n",
       "      <th>measured_lower_edge</th>\n",
       "      <th>trolley_end_reason</th>\n",
       "      <th>mask_edgelog_1</th>\n",
       "      <th>mask_edgelog_2</th>\n",
       "      <th>trolley_id</th>\n",
       "      <th>image_path</th>\n",
       "      <th>x_coordinate</th>\n",
       "    </tr>\n",
       "  </thead>\n",
       "  <tbody>\n",
       "    <tr>\n",
       "      <th>0</th>\n",
       "      <td>971.0</td>\n",
       "      <td>998.0</td>\n",
       "      <td>254.0</td>\n",
       "      <td>133.0</td>\n",
       "      <td>98.4375</td>\n",
       "      <td>0.750488</td>\n",
       "      <td>0.750488</td>\n",
       "      <td>0.001049</td>\n",
       "      <td>978.0</td>\n",
       "      <td>989.0</td>\n",
       "      <td>NaN</td>\n",
       "      <td>0.0</td>\n",
       "      <td>0.0</td>\n",
       "      <td>trolley1</td>\n",
       "      <td>imgs/Chuo_01_Tokyo-St_up_20230201_knight/HD11/...</td>\n",
       "      <td>0.0</td>\n",
       "    </tr>\n",
       "    <tr>\n",
       "      <th>1</th>\n",
       "      <td>973.0</td>\n",
       "      <td>996.0</td>\n",
       "      <td>254.0</td>\n",
       "      <td>149.125</td>\n",
       "      <td>97.125</td>\n",
       "      <td>0.602051</td>\n",
       "      <td>0.602051</td>\n",
       "      <td>0.001098</td>\n",
       "      <td>978.0</td>\n",
       "      <td>989.0</td>\n",
       "      <td>NaN</td>\n",
       "      <td>0.0</td>\n",
       "      <td>0.0</td>\n",
       "      <td>trolley1</td>\n",
       "      <td>imgs/Chuo_01_Tokyo-St_up_20230201_knight/HD11/...</td>\n",
       "      <td>1.0</td>\n",
       "    </tr>\n",
       "    <tr>\n",
       "      <th>2</th>\n",
       "      <td>973.0</td>\n",
       "      <td>995.0</td>\n",
       "      <td>255.0</td>\n",
       "      <td>154.75</td>\n",
       "      <td>95.0</td>\n",
       "      <td>0.504395</td>\n",
       "      <td>0.503906</td>\n",
       "      <td>0.001144</td>\n",
       "      <td>978.0</td>\n",
       "      <td>990.0</td>\n",
       "      <td>NaN</td>\n",
       "      <td>0.0</td>\n",
       "      <td>0.0</td>\n",
       "      <td>trolley1</td>\n",
       "      <td>imgs/Chuo_01_Tokyo-St_up_20230201_knight/HD11/...</td>\n",
       "      <td>2.0</td>\n",
       "    </tr>\n",
       "    <tr>\n",
       "      <th>3</th>\n",
       "      <td>974.0</td>\n",
       "      <td>994.0</td>\n",
       "      <td>255.0</td>\n",
       "      <td>166.25</td>\n",
       "      <td>91.875</td>\n",
       "      <td>0.435547</td>\n",
       "      <td>0.435547</td>\n",
       "      <td>0.001188</td>\n",
       "      <td>978.0</td>\n",
       "      <td>990.0</td>\n",
       "      <td>NaN</td>\n",
       "      <td>0.0</td>\n",
       "      <td>0.0</td>\n",
       "      <td>trolley1</td>\n",
       "      <td>imgs/Chuo_01_Tokyo-St_up_20230201_knight/HD11/...</td>\n",
       "      <td>3.0</td>\n",
       "    </tr>\n",
       "    <tr>\n",
       "      <th>4</th>\n",
       "      <td>974.0</td>\n",
       "      <td>994.0</td>\n",
       "      <td>255.0</td>\n",
       "      <td>166.125</td>\n",
       "      <td>91.625</td>\n",
       "      <td>0.385498</td>\n",
       "      <td>0.385254</td>\n",
       "      <td>0.001229</td>\n",
       "      <td>978.0</td>\n",
       "      <td>990.0</td>\n",
       "      <td>NaN</td>\n",
       "      <td>0.0</td>\n",
       "      <td>0.0</td>\n",
       "      <td>trolley1</td>\n",
       "      <td>imgs/Chuo_01_Tokyo-St_up_20230201_knight/HD11/...</td>\n",
       "      <td>4.0</td>\n",
       "    </tr>\n",
       "  </tbody>\n",
       "</table>\n",
       "</div>"
      ],
      "text/plain": [
       "  estimated_upper_edge estimated_lower_edge brightness_center brightness_mean  \\\n",
       "0                971.0                998.0             254.0           133.0   \n",
       "1                973.0                996.0             254.0         149.125   \n",
       "2                973.0                995.0             255.0          154.75   \n",
       "3                974.0                994.0             255.0          166.25   \n",
       "4                974.0                994.0             255.0         166.125   \n",
       "\n",
       "  brightness_std estimated_upper_edge_variance estimated_lower_edge_variance  \\\n",
       "0        98.4375                      0.750488                      0.750488   \n",
       "1         97.125                      0.602051                      0.602051   \n",
       "2           95.0                      0.504395                      0.503906   \n",
       "3         91.875                      0.435547                      0.435547   \n",
       "4         91.625                      0.385498                      0.385254   \n",
       "\n",
       "  estimated_slope_variance measured_upper_edge measured_lower_edge  \\\n",
       "0                 0.001049               978.0               989.0   \n",
       "1                 0.001098               978.0               989.0   \n",
       "2                 0.001144               978.0               990.0   \n",
       "3                 0.001188               978.0               990.0   \n",
       "4                 0.001229               978.0               990.0   \n",
       "\n",
       "  trolley_end_reason mask_edgelog_1 mask_edgelog_2 trolley_id  \\\n",
       "0                NaN            0.0            0.0   trolley1   \n",
       "1                NaN            0.0            0.0   trolley1   \n",
       "2                NaN            0.0            0.0   trolley1   \n",
       "3                NaN            0.0            0.0   trolley1   \n",
       "4                NaN            0.0            0.0   trolley1   \n",
       "\n",
       "                                          image_path  x_coordinate  \n",
       "0  imgs/Chuo_01_Tokyo-St_up_20230201_knight/HD11/...           0.0  \n",
       "1  imgs/Chuo_01_Tokyo-St_up_20230201_knight/HD11/...           1.0  \n",
       "2  imgs/Chuo_01_Tokyo-St_up_20230201_knight/HD11/...           2.0  \n",
       "3  imgs/Chuo_01_Tokyo-St_up_20230201_knight/HD11/...           3.0  \n",
       "4  imgs/Chuo_01_Tokyo-St_up_20230201_knight/HD11/...           4.0  "
      ]
     },
     "execution_count": 10,
     "metadata": {},
     "output_type": "execute_result"
    }
   ],
   "source": [
    "df_concat.head(5)"
   ]
  },
  {
   "cell_type": "code",
   "execution_count": 23,
   "id": "568a12b1-08dd-4738-a072-30fdd58902bf",
   "metadata": {
    "tags": []
   },
   "outputs": [],
   "source": [
    "df_concat['x_coordinate'] = df_concat['x_coordinate'].astype(int)"
   ]
  },
  {
   "cell_type": "code",
   "execution_count": null,
   "id": "28064ce7-cdab-42fb-a22e-f9297fd96c49",
   "metadata": {
    "tags": []
   },
   "outputs": [],
   "source": [
    "df_concat.groupby('trolley_id').count()"
   ]
  },
  {
   "cell_type": "code",
   "execution_count": 21,
   "id": "2d50f32e-67ee-4876-af66-1b6ce169c9be",
   "metadata": {
    "tags": []
   },
   "outputs": [],
   "source": [
    "for i in df_concat[['image_path', 'trolley_id']].values:\n",
    "    set(i)"
   ]
  },
  {
   "cell_type": "code",
   "execution_count": null,
   "id": "e411caea-aac4-4c2c-baa7-dd5795ae8940",
   "metadata": {
    "tags": []
   },
   "outputs": [],
   "source": [
    "!pip install pyarrow"
   ]
  },
  {
   "cell_type": "code",
   "execution_count": 12,
   "id": "94af7a31-c9c3-4c74-bf1c-71f220f22112",
   "metadata": {
    "tags": []
   },
   "outputs": [
    {
     "ename": "ModuleNotFoundError",
     "evalue": "No module named 'pyarrow'",
     "output_type": "error",
     "traceback": [
      "\u001b[0;31m---------------------------------------------------------------------------\u001b[0m",
      "\u001b[0;31mModuleNotFoundError\u001b[0m                       Traceback (most recent call last)",
      "\u001b[0;32m/tmp/ipykernel_2995/3295091589.py\u001b[0m in \u001b[0;36m<module>\u001b[0;34m\u001b[0m\n\u001b[1;32m      1\u001b[0m \u001b[0;31m# Parquetに変換する。\u001b[0m\u001b[0;34m\u001b[0m\u001b[0;34m\u001b[0m\u001b[0;34m\u001b[0m\u001b[0m\n\u001b[0;32m----> 2\u001b[0;31m \u001b[0;32mimport\u001b[0m \u001b[0mpyarrow\u001b[0m \u001b[0;32mas\u001b[0m \u001b[0mpa\u001b[0m\u001b[0;34m\u001b[0m\u001b[0;34m\u001b[0m\u001b[0m\n\u001b[0m\u001b[1;32m      3\u001b[0m \u001b[0;34m\u001b[0m\u001b[0m\n\u001b[1;32m      4\u001b[0m \u001b[0mtable\u001b[0m \u001b[0;34m=\u001b[0m \u001b[0mpa\u001b[0m\u001b[0;34m.\u001b[0m\u001b[0mTable\u001b[0m\u001b[0;34m.\u001b[0m\u001b[0mfrom_pandas\u001b[0m\u001b[0;34m(\u001b[0m\u001b[0mdf_concat\u001b[0m\u001b[0;34m)\u001b[0m\u001b[0;34m\u001b[0m\u001b[0;34m\u001b[0m\u001b[0m\n",
      "\u001b[0;31mModuleNotFoundError\u001b[0m: No module named 'pyarrow'"
     ]
    }
   ],
   "source": [
    "# Parquetに変換する。\n",
    "import pyarrow as pa\n",
    "\n",
    "table = pa.Table.from_pandas(df_concat)"
   ]
  },
  {
   "cell_type": "code",
   "execution_count": null,
   "id": "15bcfe02-6f62-4e86-a815-2a28f50ddcb8",
   "metadata": {
    "tags": []
   },
   "outputs": [],
   "source": [
    "# 書き込み\n",
    "from pyarrow import parquet as pq\n",
    "pq.write_table(table, 'shelvechenge.parquet', compression=None)\n",
    "df.to_csv('test.csv.gz', compression='gzip')"
   ]
  },
  {
   "cell_type": "code",
   "execution_count": null,
   "id": "cc609440-23ed-43d8-948b-3c721cf6ea99",
   "metadata": {
    "tags": []
   },
   "outputs": [],
   "source": [
    "%%timeit\n",
    "# 読み込み\n",
    "df_parquet = pd.read_parquet('shelvechenge.gzip.parquet')"
   ]
  },
  {
   "cell_type": "code",
   "execution_count": 17,
   "id": "4a4b4f82-7909-48e8-a004-6a08212be097",
   "metadata": {
    "tags": []
   },
   "outputs": [
    {
     "name": "stdout",
     "output_type": "stream",
     "text": [
      "5.61 ms ± 89.7 µs per loop (mean ± std. dev. of 7 runs, 100 loops each)\n"
     ]
    }
   ],
   "source": [
    "%%timeit\n",
    "# 読み込み\n",
    "df_parquet_nocompression = pd.read_parquet('shelvechenge.parquet')"
   ]
  },
  {
   "cell_type": "code",
   "execution_count": 15,
   "id": "b03fc110-bef0-422f-bacc-e74fcaf02504",
   "metadata": {
    "tags": []
   },
   "outputs": [
    {
     "name": "stdout",
     "output_type": "stream",
     "text": [
      "2.56 ms ± 31.5 µs per loop (mean ± std. dev. of 7 runs, 100 loops each)\n"
     ]
    }
   ],
   "source": [
    "%%timeit\n",
    "df_csv = pd.read_csv('shelvechange.csv')"
   ]
  },
  {
   "cell_type": "code",
   "execution_count": 19,
   "id": "94178071-39f2-4cff-8eb2-1f86507dd44b",
   "metadata": {
    "tags": []
   },
   "outputs": [
    {
     "name": "stdout",
     "output_type": "stream",
     "text": [
      "2.94 ms ± 4.52 µs per loop (mean ± std. dev. of 7 runs, 100 loops each)\n"
     ]
    }
   ],
   "source": [
    "%%timeit\n",
    "df_csv_gz = pd.read_csv('test.csv.gz')"
   ]
  }
 ],
 "metadata": {
  "kernelspec": {
   "display_name": "conda_amazonei_pytorch_latest_p37",
   "language": "python",
   "name": "conda_amazonei_pytorch_latest_p37"
  },
  "language_info": {
   "codemirror_mode": {
    "name": "ipython",
    "version": 3
   },
   "file_extension": ".py",
   "mimetype": "text/x-python",
   "name": "python",
   "nbconvert_exporter": "python",
   "pygments_lexer": "ipython3",
   "version": "3.7.10"
  }
 },
 "nbformat": 4,
 "nbformat_minor": 5
}
