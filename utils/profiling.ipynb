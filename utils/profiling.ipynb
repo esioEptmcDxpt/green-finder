{
 "cells": [
  {
   "cell_type": "code",
   "execution_count": 1,
   "id": "d0540a5b-bde5-4c68-966c-d7824321cc87",
   "metadata": {
    "tags": []
   },
   "outputs": [],
   "source": [
    "from sagemaker.processing import ProcessingInput, ProcessingOutput\n",
    "from sagemaker.sklearn.processing import SKLearnProcessor\n",
    "from sagemaker import get_execution_role\n",
    "from sagemaker.session import Session\n",
    "from time import time\n",
    "\n",
    "import pandas as pd"
   ]
  },
  {
   "cell_type": "code",
   "execution_count": 2,
   "id": "b603e74f-fc46-42e3-8f87-668258273e4d",
   "metadata": {
    "tags": []
   },
   "outputs": [
    {
     "name": "stdout",
     "output_type": "stream",
     "text": [
      "arn:aws:iam::326497581172:role/service-role/AmazonSageMaker-ExecutionRole-20230418T103673\n"
     ]
    }
   ],
   "source": [
    "# ロールを取得する\n",
    "role = get_execution_role()\n",
    "print(role)"
   ]
  },
  {
   "cell_type": "code",
   "execution_count": 15,
   "id": "dbfaaa80-1a85-4e62-a44c-7abf4cd0391b",
   "metadata": {
    "tags": []
   },
   "outputs": [
    {
     "name": "stderr",
     "output_type": "stream",
     "text": [
      "INFO:botocore.credentials:Found credentials from IAM Role: BaseNotebookInstanceEc2InstanceRole\n"
     ]
    }
   ],
   "source": [
    "#使用するバケットを指定してください\n",
    "bucket=\"trolley-monitor\"\n",
    "session = Session(default_bucket=bucket)\n",
    "app_name = \"sample_data\"\n",
    "workflow_id = str(time()).replace(\".\", \"\")"
   ]
  },
  {
   "cell_type": "code",
   "execution_count": 16,
   "id": "48d5950e-71d0-456a-9f3c-b2e25a1abf81",
   "metadata": {
    "tags": []
   },
   "outputs": [],
   "source": [
    "input_data_uri = f's3://{bucket}/{app_name}/adult/adult.data'"
   ]
  },
  {
   "cell_type": "code",
   "execution_count": 17,
   "id": "8833217e-d8ba-4a43-bac5-b67247dd74be",
   "metadata": {
    "tags": []
   },
   "outputs": [],
   "source": [
    "INPUT_DESTINATION = \"/opt/ml/processing/input\"\n",
    "OUTPUT_SOURCE = \"/opt/ml/processing/output\""
   ]
  },
  {
   "cell_type": "code",
   "execution_count": 18,
   "id": "4e1a29b7-b7e4-432a-a64d-6eb0b1f4b0cc",
   "metadata": {
    "tags": []
   },
   "outputs": [
    {
     "name": "stderr",
     "output_type": "stream",
     "text": [
      "INFO:sagemaker.image_uris:Defaulting to only available Python version: py3\n",
      "INFO:sagemaker:Creating processing-job with name trolley-monitor-profiling16902702543032303\n"
     ]
    }
   ],
   "source": [
    "sklearn_processor = SKLearnProcessor(\n",
    "    framework_version='1.0-1',\n",
    "    role=role,\n",
    "    instance_type='ml.t3.medium',\n",
    "    instance_count=1,\n",
    "    sagemaker_session=session\n",
    ")\n",
    "\n",
    "sklearn_processor.run(\n",
    "    code=\"profiling.py\",\n",
    "    inputs=[\n",
    "        ProcessingInput(\n",
    "            source=input_data_uri,\n",
    "            destination=INPUT_DESTINATION\n",
    "        )\n",
    "    ],\n",
    "    outputs=[\n",
    "        ProcessingOutput(\n",
    "            output_name=\"profiling\",\n",
    "            source=OUTPUT_SOURCE,\n",
    "            destination=f\"s3://{bucket}/{app_name}/{workflow_id}/profiling\"\n",
    "        ),\n",
    "    ],\n",
    "    arguments=[\n",
    "        \"--input_file\", input_data_uri,\n",
    "        \"--output_dir\", OUTPUT_SOURCE,\n",
    "        \"--output_file\", \"profiling.html\"\n",
    "    ],\n",
    "    wait=False,\n",
    "    job_name=\"trolley-monitor-profiling\" + workflow_id\n",
    ")"
   ]
  },
  {
   "cell_type": "code",
   "execution_count": null,
   "id": "d2c5ffcd-5f44-44ca-93db-6b49aa076d6c",
   "metadata": {},
   "outputs": [],
   "source": []
  },
  {
   "cell_type": "code",
   "execution_count": null,
   "id": "d2a39c4f-4609-4b2a-95c4-b82f709d81c3",
   "metadata": {},
   "outputs": [],
   "source": []
  }
 ],
 "metadata": {
  "kernelspec": {
   "display_name": "conda_python3",
   "language": "python",
   "name": "conda_python3"
  },
  "language_info": {
   "codemirror_mode": {
    "name": "ipython",
    "version": 3
   },
   "file_extension": ".py",
   "mimetype": "text/x-python",
   "name": "python",
   "nbconvert_exporter": "python",
   "pygments_lexer": "ipython3",
   "version": "3.10.10"
  }
 },
 "nbformat": 4,
 "nbformat_minor": 5
}
