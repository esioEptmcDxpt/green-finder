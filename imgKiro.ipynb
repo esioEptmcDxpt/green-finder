{
 "cells": [
  {
   "cell_type": "markdown",
   "id": "04d40131-7754-4344-97e8-339fe17323e5",
   "metadata": {
    "tags": []
   },
   "source": [
    "# 画像ファイルに対応するキロ程紐づけ用のJSONファイルを作成するノートブック\n",
    "```\n",
    "以下のコマンドを順番に実行していく\n",
    "想定しているディレクトリ構造は以下のとおり\n",
    ".\n",
    "├ imgs\n",
    "│  └ dir_area    :線区単位の画像を保存\n",
    "│     ├ HD11     :カメラ毎の画像を保存\n",
    "│     ├ HD12     :以下、同じ\n",
    "│     ├ HD21         \n",
    "│     ├ HD21 \n",
    "│     ├ HD31 \n",
    "│     └ HD32 \n",
    "├ TDM\n",
    "│  └ TDM_GazoFileIndex.xlsx  :車モニから出力したマスターデータ\n",
    "└ imgKiro.ipynb  :本ファイル\n",
    "```"
   ]
  },
  {
   "cell_type": "markdown",
   "id": "4beeb4a3-38e8-4a15-aa64-8f9415a507d9",
   "metadata": {},
   "source": [
    "## 1. ライブラリを読み込む"
   ]
  },
  {
   "cell_type": "code",
   "execution_count": 20,
   "id": "5938c02f-b83b-4668-a4fb-8bb748ee24a4",
   "metadata": {},
   "outputs": [
    {
     "name": "stdout",
     "output_type": "stream",
     "text": [
      "準備完了\n"
     ]
    }
   ],
   "source": [
    "import importlib\n",
    "\n",
    "import gc\n",
    "import re\n",
    "import json\n",
    "import pandas as pd\n",
    "import numpy as np\n",
    "from tqdm.notebook import tqdm\n",
    "from PIL import Image, ImageDraw, ImageFont\n",
    "from src.config import appProperties\n",
    "import src.helpers as helpers\n",
    "import src.visualize as vis\n",
    "importlib.reload(helpers)\n",
    "importlib.reload(vis)\n",
    "\n",
    "config = appProperties('config.yml')\n",
    "\n",
    "print(\"準備完了\")"
   ]
  },
  {
   "cell_type": "markdown",
   "id": "7a52fc45-585d-480f-8982-cd48f6f40d1a",
   "metadata": {},
   "source": [
    "## 2. 初期設定\n",
    "```\n",
    "ファイルパスなどを設定する\n",
    "車モニのマスターデータは検測キロ程になっているため、NEWSSキロ程に合わせる基準を設定する\n",
    "```"
   ]
  },
  {
   "cell_type": "code",
   "execution_count": 2,
   "id": "1874eb0a-8fc4-4539-b090-ea75d9c84135",
   "metadata": {
    "tags": []
   },
   "outputs": [
    {
     "name": "stdout",
     "output_type": "stream",
     "text": [
      "車モニ マスターデータのファイルパス:TDM/TDM_GazoFileIndex.xlsx\n",
      "解析対象フォルダ:Takasaki_99_Omiya-Kitaageo_down_20230509_day\n",
      "基準にする電柱：1号柱 3.561km\n"
     ]
    }
   ],
   "source": [
    "# 初期設定\n",
    "\n",
    "# 車モニのマスターデータのファイルパス\n",
    "tdm_fpath = f'{config.tdm_dir}/TDM_GazoFileIndex.xlsx'\n",
    "print(f\"車モニ マスターデータのファイルパス:{tdm_fpath}\")\n",
    "\n",
    "# 画像ファイルを保存したフォルダ\n",
    "dir_area = \"Takasaki_99_Omiya-Kitaageo_down_20230509_day\"\n",
    "print(f\"解析対象フォルダ:{dir_area}\")\n",
    "\n",
    "# 境界部でのNEWSSキロ程\n",
    "# 例) 1号柱のキロ程を指定する\n",
    "#    電柱番号: int型\n",
    "#    キロ程  : float型 km単位\n",
    "EkiCd_NEWSS = 14010\n",
    "pole_num_NEWSS = 1\n",
    "pole_kilo_NEWSS = 3.561\n",
    "print(f\"基準にする電柱：{pole_num_NEWSS}号柱 {pole_kilo_NEWSS}km\")"
   ]
  },
  {
   "cell_type": "markdown",
   "id": "ea51d83e-8a18-468d-9045-77bc40a4a271",
   "metadata": {},
   "source": [
    "## 3. 車モニのマスターデータを読込んでいく"
   ]
  },
  {
   "cell_type": "code",
   "execution_count": 4,
   "id": "295719c8-97c7-4a75-9ce3-00337718007a",
   "metadata": {
    "tags": []
   },
   "outputs": [
    {
     "name": "stdout",
     "output_type": "stream",
     "text": [
      "車モニのマスターデータを読み込みます ※少し時間がかかります\n",
      "車モニのマスターデータを読み込みました\n",
      "データフレームのサイズ:(53398, 90)\n",
      "CPU times: user 42.2 s, sys: 122 ms, total: 42.4 s\n",
      "Wall time: 51.2 s\n"
     ]
    }
   ],
   "source": [
    "%%time\n",
    "# 車モニのマスタデータを読み込む\n",
    "print(\"車モニのマスターデータを読み込みます ※少し時間がかかります\")\n",
    "df_tdm = pd.read_excel(tdm_fpath)\n",
    "print(\"車モニのマスターデータを読み込みました\")\n",
    "print(f\"データフレームのサイズ:{df_tdm.shape}\")\n",
    "# print(\"車モニ マスターデータに含まれるカラム名\")\n",
    "# df_tdm.columns"
   ]
  },
  {
   "cell_type": "markdown",
   "id": "00e6d4a1-8477-4500-9203-19d0d6bb8b27",
   "metadata": {},
   "source": [
    "## 4. データの前処理・NEWSSキロ程に変換する"
   ]
  },
  {
   "cell_type": "code",
   "execution_count": 5,
   "id": "f6097cbd-7e16-43c6-808f-7ad1c678848d",
   "metadata": {
    "tags": []
   },
   "outputs": [
    {
     "name": "stdout",
     "output_type": "stream",
     "text": [
      "基準にする電柱の検測キロ程: 1.9815km\n",
      "　　　キロ程のオフセット値: 1.5795km\n",
      "必要な情報だけフィルタリングしました\n",
      "データフレームのサイズ:(53398, 10)\n",
      "読み込まれたデータベースに含まれる測定日↓\n",
      "0> 走行日：20220917 線別：下り線\n",
      "1> 走行日：20221130 線別：下り線\n",
      "2> 走行日：20230216 線別：下り線\n",
      "3> 走行日：20230509 線別：下り線\n",
      "4> 走行日：20230510 線別：上り線\n",
      "5> 走行日：20230920 線別：下り線\n",
      "6> 走行日：20230921 線別：上り線\n",
      "NEWSSキロ程に合うように、キロ程をオフセットしました\n",
      "\n"
     ]
    },
    {
     "data": {
      "text/html": [
       "<div>\n",
       "<style scoped>\n",
       "    .dataframe tbody tr th:only-of-type {\n",
       "        vertical-align: middle;\n",
       "    }\n",
       "\n",
       "    .dataframe tbody tr th {\n",
       "        vertical-align: top;\n",
       "    }\n",
       "\n",
       "    .dataframe thead th {\n",
       "        text-align: right;\n",
       "    }\n",
       "</style>\n",
       "<table border=\"1\" class=\"dataframe\">\n",
       "  <thead>\n",
       "    <tr style=\"text-align: right;\">\n",
       "      <th></th>\n",
       "      <th>SenbetsuCd</th>\n",
       "      <th>SokuteiDate</th>\n",
       "      <th>DenchuNo</th>\n",
       "      <th>KiroTei</th>\n",
       "      <th>GazoFileNameHD11</th>\n",
       "      <th>GazoFileNameHD12</th>\n",
       "      <th>GazoFileNameHD21</th>\n",
       "      <th>GazoFileNameHD22</th>\n",
       "      <th>GazoFileNameHD31</th>\n",
       "      <th>GazoFileNameHD32</th>\n",
       "      <th>KiroTei_NEWSS</th>\n",
       "    </tr>\n",
       "  </thead>\n",
       "  <tbody>\n",
       "    <tr>\n",
       "      <th>0</th>\n",
       "      <td>21</td>\n",
       "      <td>20220917</td>\n",
       "      <td>901</td>\n",
       "      <td>1.9495</td>\n",
       "      <td>NaN</td>\n",
       "      <td>NaN</td>\n",
       "      <td>NaN</td>\n",
       "      <td>NaN</td>\n",
       "      <td>NaN</td>\n",
       "      <td>NaN</td>\n",
       "      <td>3.5290</td>\n",
       "    </tr>\n",
       "    <tr>\n",
       "      <th>1</th>\n",
       "      <td>21</td>\n",
       "      <td>20220917</td>\n",
       "      <td>901</td>\n",
       "      <td>1.9505</td>\n",
       "      <td>2022_0347_HD11_01_00015607</td>\n",
       "      <td>2022_0347_HD12_01_00015607</td>\n",
       "      <td>2022_0347_HD21_01_00015608</td>\n",
       "      <td>2022_0347_HD22_01_00015608</td>\n",
       "      <td>2022_0347_HD31_01_00015607</td>\n",
       "      <td>2022_0347_HD32_01_00015607</td>\n",
       "      <td>3.5300</td>\n",
       "    </tr>\n",
       "    <tr>\n",
       "      <th>2</th>\n",
       "      <td>21</td>\n",
       "      <td>20220917</td>\n",
       "      <td>901</td>\n",
       "      <td>1.9515</td>\n",
       "      <td>NaN</td>\n",
       "      <td>NaN</td>\n",
       "      <td>NaN</td>\n",
       "      <td>NaN</td>\n",
       "      <td>NaN</td>\n",
       "      <td>NaN</td>\n",
       "      <td>3.5310</td>\n",
       "    </tr>\n",
       "    <tr>\n",
       "      <th>3</th>\n",
       "      <td>21</td>\n",
       "      <td>20220917</td>\n",
       "      <td>901</td>\n",
       "      <td>1.9525</td>\n",
       "      <td>2022_0347_HD11_01_00015608</td>\n",
       "      <td>2022_0347_HD12_01_00015608</td>\n",
       "      <td>2022_0347_HD21_01_00015609</td>\n",
       "      <td>2022_0347_HD22_01_00015609</td>\n",
       "      <td>2022_0347_HD31_01_00015608</td>\n",
       "      <td>2022_0347_HD32_01_00015608</td>\n",
       "      <td>3.5320</td>\n",
       "    </tr>\n",
       "    <tr>\n",
       "      <th>4</th>\n",
       "      <td>21</td>\n",
       "      <td>20220917</td>\n",
       "      <td>901</td>\n",
       "      <td>1.9535</td>\n",
       "      <td>NaN</td>\n",
       "      <td>NaN</td>\n",
       "      <td>NaN</td>\n",
       "      <td>NaN</td>\n",
       "      <td>NaN</td>\n",
       "      <td>NaN</td>\n",
       "      <td>3.5330</td>\n",
       "    </tr>\n",
       "    <tr>\n",
       "      <th>...</th>\n",
       "      <td>...</td>\n",
       "      <td>...</td>\n",
       "      <td>...</td>\n",
       "      <td>...</td>\n",
       "      <td>...</td>\n",
       "      <td>...</td>\n",
       "      <td>...</td>\n",
       "      <td>...</td>\n",
       "      <td>...</td>\n",
       "      <td>...</td>\n",
       "      <td>...</td>\n",
       "    </tr>\n",
       "    <tr>\n",
       "      <th>53393</th>\n",
       "      <td>22</td>\n",
       "      <td>20230921</td>\n",
       "      <td>12</td>\n",
       "      <td>8.5438</td>\n",
       "      <td>2023_0379_HD11_01_00073022</td>\n",
       "      <td>2023_0379_HD12_01_00073022</td>\n",
       "      <td>2023_0379_HD21_01_00073025</td>\n",
       "      <td>2023_0379_HD22_01_00073025</td>\n",
       "      <td>2023_0379_HD31_01_00073024</td>\n",
       "      <td>2023_0379_HD32_01_00073024</td>\n",
       "      <td>10.1233</td>\n",
       "    </tr>\n",
       "    <tr>\n",
       "      <th>53394</th>\n",
       "      <td>22</td>\n",
       "      <td>20230921</td>\n",
       "      <td>12</td>\n",
       "      <td>8.5448</td>\n",
       "      <td>NaN</td>\n",
       "      <td>NaN</td>\n",
       "      <td>2023_0379_HD21_01_00073024</td>\n",
       "      <td>2023_0379_HD22_01_00073024</td>\n",
       "      <td>NaN</td>\n",
       "      <td>NaN</td>\n",
       "      <td>10.1243</td>\n",
       "    </tr>\n",
       "    <tr>\n",
       "      <th>53395</th>\n",
       "      <td>22</td>\n",
       "      <td>20230921</td>\n",
       "      <td>12</td>\n",
       "      <td>8.5448</td>\n",
       "      <td>NaN</td>\n",
       "      <td>NaN</td>\n",
       "      <td>NaN</td>\n",
       "      <td>NaN</td>\n",
       "      <td>NaN</td>\n",
       "      <td>NaN</td>\n",
       "      <td>10.1243</td>\n",
       "    </tr>\n",
       "    <tr>\n",
       "      <th>53396</th>\n",
       "      <td>22</td>\n",
       "      <td>20230921</td>\n",
       "      <td>12</td>\n",
       "      <td>8.5458</td>\n",
       "      <td>2023_0379_HD11_01_00073021</td>\n",
       "      <td>2023_0379_HD12_01_00073021</td>\n",
       "      <td>NaN</td>\n",
       "      <td>NaN</td>\n",
       "      <td>2023_0379_HD31_01_00073023</td>\n",
       "      <td>2023_0379_HD32_01_00073023</td>\n",
       "      <td>10.1253</td>\n",
       "    </tr>\n",
       "    <tr>\n",
       "      <th>53397</th>\n",
       "      <td>22</td>\n",
       "      <td>20230921</td>\n",
       "      <td>12</td>\n",
       "      <td>8.5468</td>\n",
       "      <td>NaN</td>\n",
       "      <td>NaN</td>\n",
       "      <td>2023_0379_HD21_01_00073023</td>\n",
       "      <td>2023_0379_HD22_01_00073023</td>\n",
       "      <td>2023_0379_HD31_01_00073022</td>\n",
       "      <td>2023_0379_HD32_01_00073022</td>\n",
       "      <td>10.1263</td>\n",
       "    </tr>\n",
       "  </tbody>\n",
       "</table>\n",
       "<p>53398 rows × 11 columns</p>\n",
       "</div>"
      ],
      "text/plain": [
       "       SenbetsuCd  SokuteiDate  DenchuNo  KiroTei            GazoFileNameHD11  \\\n",
       "0              21     20220917       901   1.9495                         NaN   \n",
       "1              21     20220917       901   1.9505  2022_0347_HD11_01_00015607   \n",
       "2              21     20220917       901   1.9515                         NaN   \n",
       "3              21     20220917       901   1.9525  2022_0347_HD11_01_00015608   \n",
       "4              21     20220917       901   1.9535                         NaN   \n",
       "...           ...          ...       ...      ...                         ...   \n",
       "53393          22     20230921        12   8.5438  2023_0379_HD11_01_00073022   \n",
       "53394          22     20230921        12   8.5448                         NaN   \n",
       "53395          22     20230921        12   8.5448                         NaN   \n",
       "53396          22     20230921        12   8.5458  2023_0379_HD11_01_00073021   \n",
       "53397          22     20230921        12   8.5468                         NaN   \n",
       "\n",
       "                 GazoFileNameHD12            GazoFileNameHD21  \\\n",
       "0                             NaN                         NaN   \n",
       "1      2022_0347_HD12_01_00015607  2022_0347_HD21_01_00015608   \n",
       "2                             NaN                         NaN   \n",
       "3      2022_0347_HD12_01_00015608  2022_0347_HD21_01_00015609   \n",
       "4                             NaN                         NaN   \n",
       "...                           ...                         ...   \n",
       "53393  2023_0379_HD12_01_00073022  2023_0379_HD21_01_00073025   \n",
       "53394                         NaN  2023_0379_HD21_01_00073024   \n",
       "53395                         NaN                         NaN   \n",
       "53396  2023_0379_HD12_01_00073021                         NaN   \n",
       "53397                         NaN  2023_0379_HD21_01_00073023   \n",
       "\n",
       "                 GazoFileNameHD22            GazoFileNameHD31  \\\n",
       "0                             NaN                         NaN   \n",
       "1      2022_0347_HD22_01_00015608  2022_0347_HD31_01_00015607   \n",
       "2                             NaN                         NaN   \n",
       "3      2022_0347_HD22_01_00015609  2022_0347_HD31_01_00015608   \n",
       "4                             NaN                         NaN   \n",
       "...                           ...                         ...   \n",
       "53393  2023_0379_HD22_01_00073025  2023_0379_HD31_01_00073024   \n",
       "53394  2023_0379_HD22_01_00073024                         NaN   \n",
       "53395                         NaN                         NaN   \n",
       "53396                         NaN  2023_0379_HD31_01_00073023   \n",
       "53397  2023_0379_HD22_01_00073023  2023_0379_HD31_01_00073022   \n",
       "\n",
       "                 GazoFileNameHD32  KiroTei_NEWSS  \n",
       "0                             NaN         3.5290  \n",
       "1      2022_0347_HD32_01_00015607         3.5300  \n",
       "2                             NaN         3.5310  \n",
       "3      2022_0347_HD32_01_00015608         3.5320  \n",
       "4                             NaN         3.5330  \n",
       "...                           ...            ...  \n",
       "53393  2023_0379_HD32_01_00073024        10.1233  \n",
       "53394                         NaN        10.1243  \n",
       "53395                         NaN        10.1243  \n",
       "53396  2023_0379_HD32_01_00073023        10.1253  \n",
       "53397  2023_0379_HD32_01_00073022        10.1263  \n",
       "\n",
       "[53398 rows x 11 columns]"
      ]
     },
     "execution_count": 5,
     "metadata": {},
     "output_type": "execute_result"
    }
   ],
   "source": [
    "# 車モニ マスターデータにおける、基準にする電柱の検測キロ程を取得\n",
    "# オフセット値を設定する\n",
    "pole_num_matched = df_tdm[df_tdm['EkiCd'] == EkiCd_NEWSS].query(f\"DenchuNo == {pole_num_NEWSS}\").index.tolist()\n",
    "pole_kiro_twins = df_tdm.loc[min(pole_num_matched)]['KiroTei']\n",
    "pole_kiro_offset = pole_kilo_NEWSS - pole_kiro_twins\n",
    "print(f\"基準にする電柱の検測キロ程: {pole_kiro_twins}km\")\n",
    "print(f\"　　　キロ程のオフセット値: {pole_kiro_offset}km\")\n",
    "\n",
    "\n",
    "# 欲しい列だけ抽出し、画像ファイル名がNaNの行は削除\n",
    "df_tdm_temp = df_tdm.filter([\n",
    "    'SenbetsuCd', 'SokuteiDate', 'DenchuNo', 'KiroTei', 'GazoFileNameHD11', 'GazoFileNameHD12',\n",
    "    'GazoFileNameHD21', 'GazoFileNameHD22', 'GazoFileNameHD31', 'GazoFileNameHD32'\n",
    "]).copy()\n",
    "# ]).dropna(subset=[\n",
    "#     'GazoFileNameHD11', 'GazoFileNameHD12', 'GazoFileNameHD21', \n",
    "#     'GazoFileNameHD22', 'GazoFileNameHD31', 'GazoFileNameHD32'\n",
    "# ]).copy()\n",
    "\n",
    "# print(\"NaNの数をチェック\")\n",
    "# print(df_tdm_temp.isna().sum())\n",
    "# df_tdm_temp\n",
    "print(\"必要な情報だけフィルタリングしました\")\n",
    "print(f\"データフレームのサイズ:{df_tdm_temp.shape}\")\n",
    "\n",
    "\n",
    "# SenbetsuCd_dict = {\n",
    "#     21: \"下り線\",\n",
    "#     22: \"上り線\"\n",
    "# }\n",
    "# 測定日・走行条件を表示する\n",
    "SokuteiDate = df_tdm_temp['SokuteiDate'].unique()\n",
    "print(\"読み込まれたデータベースに含まれる測定日↓\")\n",
    "for i, date in enumerate(SokuteiDate):\n",
    "    # 線別コードを取得\n",
    "    SenbetsuCd = df_tdm_temp[df_tdm_temp['SokuteiDate'] == date]['SenbetsuCd'].unique().item()\n",
    "    print(f\"{i}> 走行日：{date} 線別：{config.SenbetsuCd[SenbetsuCd]}\")\n",
    "    \n",
    "# 車モニのデータは検測車キロ程なので、NEWSSキロ程に合わせてオフセットする\n",
    "df_tdm_temp['KiroTei_NEWSS'] = [KiroTei + pole_kiro_offset for KiroTei in df_tdm_temp['KiroTei']]\n",
    "print(\"NEWSSキロ程に合うように、キロ程をオフセットしました\")\n",
    "print()\n",
    "df_tdm_temp"
   ]
  },
  {
   "cell_type": "markdown",
   "id": "b7054bfd-6789-4909-96b4-85c306a4f7be",
   "metadata": {},
   "source": [
    "## 5. 摩耗判定システムで利用可能なJSONファイルを作成する"
   ]
  },
  {
   "cell_type": "code",
   "execution_count": 6,
   "id": "21c9f304-231b-45af-b03e-6f77ea7ec158",
   "metadata": {
    "tags": []
   },
   "outputs": [
    {
     "name": "stdout",
     "output_type": "stream",
     "text": [
      "画像フォルダ名：Takasaki_99_Omiya-Kitaageo_down_20230509_day\n",
      "基準にする電柱：1\n",
      "　　　　キロ程：3.561\n",
      "検測キロ程ズレ：1.5795\n",
      "imgs/Takasaki_99_Omiya-Kitaageo_down_20230509_day/HD11/\n",
      "Image counts:3443\n"
     ]
    },
    {
     "data": {
      "application/vnd.jupyter.widget-view+json": {
       "model_id": "7d4a1d76bc37472381c9a04a85b3f750",
       "version_major": 2,
       "version_minor": 0
      },
      "text/plain": [
       "  0%|          | 0/3443 [00:00<?, ?it/s]"
      ]
     },
     "metadata": {},
     "output_type": "display_data"
    },
    {
     "name": "stdout",
     "output_type": "stream",
     "text": [
      "imgs/Takasaki_99_Omiya-Kitaageo_down_20230509_day/HD12/\n",
      "Image counts:3443\n"
     ]
    },
    {
     "data": {
      "application/vnd.jupyter.widget-view+json": {
       "model_id": "4fbc07d637e74e51a8f8c330653ccc2e",
       "version_major": 2,
       "version_minor": 0
      },
      "text/plain": [
       "  0%|          | 0/3443 [00:00<?, ?it/s]"
      ]
     },
     "metadata": {},
     "output_type": "display_data"
    },
    {
     "name": "stdout",
     "output_type": "stream",
     "text": [
      "imgs/Takasaki_99_Omiya-Kitaageo_down_20230509_day/HD21/\n",
      "Image counts:3443\n"
     ]
    },
    {
     "data": {
      "application/vnd.jupyter.widget-view+json": {
       "model_id": "d3af96a4ba954149ab9c9ee28ea57f9d",
       "version_major": 2,
       "version_minor": 0
      },
      "text/plain": [
       "  0%|          | 0/3443 [00:00<?, ?it/s]"
      ]
     },
     "metadata": {},
     "output_type": "display_data"
    },
    {
     "name": "stdout",
     "output_type": "stream",
     "text": [
      "imgs/Takasaki_99_Omiya-Kitaageo_down_20230509_day/HD22/\n",
      "Image counts:3443\n"
     ]
    },
    {
     "data": {
      "application/vnd.jupyter.widget-view+json": {
       "model_id": "df3fadc310914560a41daaf102cf0f2e",
       "version_major": 2,
       "version_minor": 0
      },
      "text/plain": [
       "  0%|          | 0/3443 [00:00<?, ?it/s]"
      ]
     },
     "metadata": {},
     "output_type": "display_data"
    },
    {
     "name": "stdout",
     "output_type": "stream",
     "text": [
      "imgs/Takasaki_99_Omiya-Kitaageo_down_20230509_day/HD31/\n",
      "Image counts:3443\n"
     ]
    },
    {
     "data": {
      "application/vnd.jupyter.widget-view+json": {
       "model_id": "4207b43158a14b6ab8ba4a7183d815c0",
       "version_major": 2,
       "version_minor": 0
      },
      "text/plain": [
       "  0%|          | 0/3443 [00:00<?, ?it/s]"
      ]
     },
     "metadata": {},
     "output_type": "display_data"
    },
    {
     "name": "stdout",
     "output_type": "stream",
     "text": [
      "imgs/Takasaki_99_Omiya-Kitaageo_down_20230509_day/HD32/\n",
      "Image counts:3443\n"
     ]
    },
    {
     "data": {
      "application/vnd.jupyter.widget-view+json": {
       "model_id": "99f7714fbe6647e9bc7fbff295e24e6e",
       "version_major": 2,
       "version_minor": 0
      },
      "text/plain": [
       "  0%|          | 0/3443 [00:00<?, ?it/s]"
      ]
     },
     "metadata": {},
     "output_type": "display_data"
    },
    {
     "name": "stdout",
     "output_type": "stream",
     "text": [
      "画像ファイルごとのキロ程情報をTDM/Takasaki_99_Omiya-Kitaageo_down_20230509_day.jsonに記録しました\n"
     ]
    }
   ],
   "source": [
    "# 初期設定の情報を出力\n",
    "print(f\"画像フォルダ名：{dir_area}\")\n",
    "print(f\"基準にする電柱：{pole_num_NEWSS}\")\n",
    "print(f\"　　　　キロ程：{pole_kilo_NEWSS}\")\n",
    "print(f\"検測キロ程ズレ：{pole_kiro_offset}\")\n",
    "\n",
    "imgKilo = {}\n",
    "imgKilo_temp_values = {}\n",
    "for camera_num in config.camera_types:\n",
    "    # カメラフォルダ内の画像ファイルを取得\n",
    "    image_dir = f\"{config.image_dir}/{dir_area}/{camera_num}/\"\n",
    "    print(image_dir)\n",
    "    list_images = helpers.list_images(image_dir)\n",
    "    print(f\"Image counts:{len(list_images)}\")\n",
    "\n",
    "    # 画像ファイル名に対応するキロ程を抽出して辞書型で記録する\n",
    "    imgKilo_temp = {}\n",
    "    imgKilo_temp_values = {}\n",
    "    for fname in tqdm(list_images):\n",
    "    # for fname in list_images:\n",
    "        image_name = re.split('[./]', fname)[-2]\n",
    "        # image_name = \"2023_0117_HD11_01_00017734\"\n",
    "        # print(image_name)\n",
    "        df_tdm_Series = df_tdm_temp[df_tdm_temp[f\"GazoFileName{camera_num}\"] == image_name].copy()\n",
    "        if df_tdm_Series.empty:\n",
    "            continue\n",
    "        else:\n",
    "            DenchuNo = df_tdm_Series['DenchuNo'].item()\n",
    "            KiroTei = df_tdm_Series['KiroTei_NEWSS'].item()\n",
    "        \n",
    "        imgKilo_temp_values[\"DenchuNo\"] = DenchuNo\n",
    "        imgKilo_temp_values[\"KiroTei\"] = KiroTei\n",
    "        imgKilo_temp[image_name] = imgKilo_temp_values.copy()\n",
    "        # if image_name == \"2023_0117_HD11_01_00017734\":\n",
    "        #     break    # 指定した画像で中断する\n",
    "        # break\n",
    "    imgKilo[camera_num] = imgKilo_temp.copy()\n",
    "    # break\n",
    "\n",
    "# 結果をJSONファイルに記録する\n",
    "dir = f\"{config.tdm_dir}/{dir_area}.json\"\n",
    "with open(dir, mode=\"wt\", encoding=\"utf-8\") as f:\n",
    "    json.dump(imgKilo, f, ensure_ascii=False, indent=2, default=helpers.default)\n",
    "\n",
    "print(f\"画像ファイルごとのキロ程情報を{dir}に記録しました\")\n",
    "\n",
    "# print(f\"DenchuNo:{DenchuNo} <{type(DenchuNo)}>  KiroTei:{KiroTei} <{type(KiroTei)}>\")\n",
    "# df_tdm_Series"
   ]
  },
  {
   "cell_type": "markdown",
   "id": "c2f3384f-766d-482b-aebc-791f1fba08aa",
   "metadata": {},
   "source": [
    "## 6. 作成されたJSONファイルのチェック"
   ]
  },
  {
   "cell_type": "code",
   "execution_count": 22,
   "id": "658e1580-2009-417f-a6ff-92dc8f4aaf49",
   "metadata": {
    "tags": []
   },
   "outputs": [],
   "source": [
    "# 作業用"
   ]
  },
  {
   "cell_type": "code",
   "execution_count": 21,
   "id": "3d3bd9d3-92a2-4716-8898-bd35596a1186",
   "metadata": {
    "tags": []
   },
   "outputs": [],
   "source": [
    "with open(f\"{config.tdm_dir}/{dir_area}.json\", 'r') as file:\n",
    "    kiro_dict = json.load(file)"
   ]
  },
  {
   "cell_type": "code",
   "execution_count": 77,
   "id": "433943d9-899a-4aba-8f35-d94915efb81e",
   "metadata": {
    "tags": []
   },
   "outputs": [
    {
     "data": {
      "text/plain": [
       "'2023_0117_HD32_01_00015314'"
      ]
     },
     "execution_count": 77,
     "metadata": {},
     "output_type": "execute_result"
    }
   ],
   "source": [
    "fname = list_images[0]\n",
    "image_name = re.split('[./]', fname)[-2]\n",
    "image_name"
   ]
  },
  {
   "cell_type": "code",
   "execution_count": 81,
   "id": "cb0ab1a4-4217-443b-8351-e421f8ec6502",
   "metadata": {
    "tags": []
   },
   "outputs": [
    {
     "data": {
      "text/plain": [
       "'HD11'"
      ]
     },
     "execution_count": 81,
     "metadata": {},
     "output_type": "execute_result"
    }
   ],
   "source": [
    "camera_num = config.camera_types[0]\n",
    "camera_num"
   ]
  },
  {
   "cell_type": "code",
   "execution_count": 85,
   "id": "4f7105f5-0390-48dc-8930-d90bd912b454",
   "metadata": {
    "tags": []
   },
   "outputs": [
    {
     "name": "stdout",
     "output_type": "stream",
     "text": [
      "imgs/Takasaki_99_Omiya-Kitaageo_down_20230509_day/HD11/\n"
     ]
    }
   ],
   "source": [
    "# カメラフォルダ内の画像ファイルを取得\n",
    "image_dir = f\"{config.image_dir}/{dir_area}/{camera_num}/\"\n",
    "print(image_dir)\n",
    "list_images = helpers.list_images(image_dir)"
   ]
  },
  {
   "cell_type": "code",
   "execution_count": 86,
   "id": "f6509db5-493f-4c5a-89ac-33de4dd1e0f6",
   "metadata": {
    "tags": []
   },
   "outputs": [
    {
     "data": {
      "text/plain": [
       "[25, 3442]"
      ]
     },
     "execution_count": 86,
     "metadata": {},
     "output_type": "execute_result"
    }
   ],
   "source": [
    "image_match_idx = experimental_get_image_match_idx(list_images, kiro_dict, camera_num)\n",
    "image_match_idx"
   ]
  },
  {
   "cell_type": "code",
   "execution_count": 96,
   "id": "82183875-a00d-4731-999b-6090ac6c4a61",
   "metadata": {
    "tags": []
   },
   "outputs": [
    {
     "name": "stdout",
     "output_type": "stream",
     "text": [
      "kiro_tei_init_head: 2.9997999999999996\n",
      "kiro_tei_init_tail: 9.589559999999999\n"
     ]
    }
   ],
   "source": [
    "fname = list_images[image_match_idx[0]]\n",
    "image_name = re.split('[./]', fname)[-2]\n",
    "kiro_tei_init_head = kiro_dict[camera_num][image_name]['KiroTei']\n",
    "\n",
    "fname = list_images[image_match_idx[1]]\n",
    "image_name = re.split('[./]', fname)[-2]\n",
    "kiro_tei_init_tail = kiro_dict[camera_num][image_name]['KiroTei']\n",
    "\n",
    "print(f\"kiro_tei_init_head: {kiro_tei_init_head}\")\n",
    "print(f\"kiro_tei_init_tail: {kiro_tei_init_tail}\")"
   ]
  },
  {
   "cell_type": "markdown",
   "id": "4c1ecbd1-e4ff-4119-8a29-cfb6267148c9",
   "metadata": {},
   "source": [
    "画像1枚:2m, 1,000px -> 2mm/px -> 0.000002km/px -> 0.002km/idx"
   ]
  },
  {
   "cell_type": "code",
   "execution_count": 97,
   "id": "01a4ee03-7985-4d5c-bbcd-9415326ce497",
   "metadata": {
    "tags": []
   },
   "outputs": [
    {
     "data": {
      "text/plain": [
       "0.002"
      ]
     },
     "execution_count": 97,
     "metadata": {},
     "output_type": "execute_result"
    }
   ],
   "source": [
    "2 / config.img_width"
   ]
  },
  {
   "cell_type": "code",
   "execution_count": null,
   "id": "bcc83c42-262f-4b51-a861-5a5e3edab209",
   "metadata": {},
   "outputs": [],
   "source": []
  },
  {
   "cell_type": "code",
   "execution_count": 78,
   "id": "6c5b3be4-65d4-4813-8461-18ee2318d2ac",
   "metadata": {
    "tags": []
   },
   "outputs": [
    {
     "data": {
      "text/plain": [
       "'imgs/Takasaki_99_Omiya-Kitaageo_down_20230509_day/HD32/2023_0117_HD32_01_00015339.jpg'"
      ]
     },
     "execution_count": 78,
     "metadata": {},
     "output_type": "execute_result"
    }
   ],
   "source": [
    "list_images[image_match_idx[0]]"
   ]
  },
  {
   "cell_type": "code",
   "execution_count": null,
   "id": "4daf29db-b3b1-4195-816b-d322dc4d732c",
   "metadata": {},
   "outputs": [],
   "source": [
    "list_images[0]"
   ]
  },
  {
   "cell_type": "code",
   "execution_count": 75,
   "id": "29205c52-75f9-4b4d-8ce2-de821e7c621f",
   "metadata": {
    "tags": []
   },
   "outputs": [
    {
     "data": {
      "text/plain": [
       "False"
      ]
     },
     "execution_count": 75,
     "metadata": {},
     "output_type": "execute_result"
    }
   ],
   "source": [
    "image_name.split(\".\")[0] in kiro_dict[camera_num].keys()"
   ]
  },
  {
   "cell_type": "code",
   "execution_count": null,
   "id": "8116ee20-f6a3-4db1-8164-92949a9f3c76",
   "metadata": {},
   "outputs": [],
   "source": [
    "image_name.split(\".\")[0]"
   ]
  },
  {
   "cell_type": "code",
   "execution_count": 25,
   "id": "8d787853-c7ff-4330-a1fc-7dd975fb0d7f",
   "metadata": {
    "collapsed": true,
    "jupyter": {
     "outputs_hidden": true
    },
    "tags": []
   },
   "outputs": [
    {
     "data": {
      "text/plain": [
       "dict_keys(['2023_0117_HD32_01_00015339', '2023_0117_HD32_01_00015340', '2023_0117_HD32_01_00015341', '2023_0117_HD32_01_00015342', '2023_0117_HD32_01_00015343', '2023_0117_HD32_01_00015344', '2023_0117_HD32_01_00015345', '2023_0117_HD32_01_00015346', '2023_0117_HD32_01_00015347', '2023_0117_HD32_01_00015348', '2023_0117_HD32_01_00015349', '2023_0117_HD32_01_00015350', '2023_0117_HD32_01_00015351', '2023_0117_HD32_01_00015352', '2023_0117_HD32_01_00015353', '2023_0117_HD32_01_00015354', '2023_0117_HD32_01_00015355', '2023_0117_HD32_01_00015356', '2023_0117_HD32_01_00015357', '2023_0117_HD32_01_00015358', '2023_0117_HD32_01_00015359', '2023_0117_HD32_01_00015360', '2023_0117_HD32_01_00015361', '2023_0117_HD32_01_00015362', '2023_0117_HD32_01_00015363', '2023_0117_HD32_01_00015364', '2023_0117_HD32_01_00015365', '2023_0117_HD32_01_00015366', '2023_0117_HD32_01_00015367', '2023_0117_HD32_01_00015368', '2023_0117_HD32_01_00015369', '2023_0117_HD32_01_00015370', '2023_0117_HD32_01_00015371', '2023_0117_HD32_01_00015372', '2023_0117_HD32_01_00015373', '2023_0117_HD32_01_00015374', '2023_0117_HD32_01_00015375', '2023_0117_HD32_01_00015376', '2023_0117_HD32_01_00015377', '2023_0117_HD32_01_00015378', '2023_0117_HD32_01_00015379', '2023_0117_HD32_01_00015380', '2023_0117_HD32_01_00015381', '2023_0117_HD32_01_00015382', '2023_0117_HD32_01_00015383', '2023_0117_HD32_01_00015384', '2023_0117_HD32_01_00015385', '2023_0117_HD32_01_00015386', '2023_0117_HD32_01_00015387', '2023_0117_HD32_01_00015388', '2023_0117_HD32_01_00015389', '2023_0117_HD32_01_00015390', '2023_0117_HD32_01_00015391', '2023_0117_HD32_01_00015392', '2023_0117_HD32_01_00015393', '2023_0117_HD32_01_00015394', '2023_0117_HD32_01_00015395', '2023_0117_HD32_01_00015396', '2023_0117_HD32_01_00015397', '2023_0117_HD32_01_00015398', '2023_0117_HD32_01_00015399', '2023_0117_HD32_01_00015400', '2023_0117_HD32_01_00015401', '2023_0117_HD32_01_00015402', '2023_0117_HD32_01_00015403', '2023_0117_HD32_01_00015404', '2023_0117_HD32_01_00015405', '2023_0117_HD32_01_00015406', '2023_0117_HD32_01_00015407', '2023_0117_HD32_01_00015408', '2023_0117_HD32_01_00015409', '2023_0117_HD32_01_00015410', '2023_0117_HD32_01_00015411', '2023_0117_HD32_01_00015412', '2023_0117_HD32_01_00015413', '2023_0117_HD32_01_00015414', '2023_0117_HD32_01_00015415', '2023_0117_HD32_01_00015416', '2023_0117_HD32_01_00015417', '2023_0117_HD32_01_00015418', '2023_0117_HD32_01_00015419', '2023_0117_HD32_01_00015420', '2023_0117_HD32_01_00015421', '2023_0117_HD32_01_00015422', '2023_0117_HD32_01_00015423', '2023_0117_HD32_01_00015424', '2023_0117_HD32_01_00015425', '2023_0117_HD32_01_00015426', '2023_0117_HD32_01_00015427', '2023_0117_HD32_01_00015428', '2023_0117_HD32_01_00015429', '2023_0117_HD32_01_00015430', '2023_0117_HD32_01_00015431', '2023_0117_HD32_01_00015432', '2023_0117_HD32_01_00015433', '2023_0117_HD32_01_00015434', '2023_0117_HD32_01_00015435', '2023_0117_HD32_01_00015436', '2023_0117_HD32_01_00015437', '2023_0117_HD32_01_00015438', '2023_0117_HD32_01_00015439', '2023_0117_HD32_01_00015440', '2023_0117_HD32_01_00015441', '2023_0117_HD32_01_00015442', '2023_0117_HD32_01_00015443', '2023_0117_HD32_01_00015444', '2023_0117_HD32_01_00015445', '2023_0117_HD32_01_00015446', '2023_0117_HD32_01_00015447', '2023_0117_HD32_01_00015448', '2023_0117_HD32_01_00015449', '2023_0117_HD32_01_00015450', '2023_0117_HD32_01_00015451', '2023_0117_HD32_01_00015452', '2023_0117_HD32_01_00015453', '2023_0117_HD32_01_00015454', '2023_0117_HD32_01_00015455', '2023_0117_HD32_01_00015456', '2023_0117_HD32_01_00015457', '2023_0117_HD32_01_00015458', '2023_0117_HD32_01_00015459', '2023_0117_HD32_01_00015460', '2023_0117_HD32_01_00015461', '2023_0117_HD32_01_00015462', '2023_0117_HD32_01_00015463', '2023_0117_HD32_01_00015464', '2023_0117_HD32_01_00015465', '2023_0117_HD32_01_00015466', '2023_0117_HD32_01_00015467', '2023_0117_HD32_01_00015468', '2023_0117_HD32_01_00015469', '2023_0117_HD32_01_00015470', '2023_0117_HD32_01_00015471', '2023_0117_HD32_01_00015472', '2023_0117_HD32_01_00015473', '2023_0117_HD32_01_00015474', '2023_0117_HD32_01_00015475', '2023_0117_HD32_01_00015476', '2023_0117_HD32_01_00015477', '2023_0117_HD32_01_00015478', '2023_0117_HD32_01_00015479', '2023_0117_HD32_01_00015480', '2023_0117_HD32_01_00015481', '2023_0117_HD32_01_00015482', '2023_0117_HD32_01_00015483', '2023_0117_HD32_01_00015484', '2023_0117_HD32_01_00015485', '2023_0117_HD32_01_00015486', '2023_0117_HD32_01_00015487', '2023_0117_HD32_01_00015488', '2023_0117_HD32_01_00015489', '2023_0117_HD32_01_00015490', '2023_0117_HD32_01_00015491', '2023_0117_HD32_01_00015492', '2023_0117_HD32_01_00015493', '2023_0117_HD32_01_00015494', '2023_0117_HD32_01_00015495', '2023_0117_HD32_01_00015496', '2023_0117_HD32_01_00015497', '2023_0117_HD32_01_00015498', '2023_0117_HD32_01_00015499', '2023_0117_HD32_01_00015500', '2023_0117_HD32_01_00015501', '2023_0117_HD32_01_00015502', '2023_0117_HD32_01_00015503', '2023_0117_HD32_01_00015504', '2023_0117_HD32_01_00015505', '2023_0117_HD32_01_00015506', '2023_0117_HD32_01_00015507', '2023_0117_HD32_01_00015508', '2023_0117_HD32_01_00015509', '2023_0117_HD32_01_00015510', '2023_0117_HD32_01_00015511', '2023_0117_HD32_01_00015512', '2023_0117_HD32_01_00015513', '2023_0117_HD32_01_00015514', '2023_0117_HD32_01_00015515', '2023_0117_HD32_01_00015516', '2023_0117_HD32_01_00015517', '2023_0117_HD32_01_00015518', '2023_0117_HD32_01_00015519', '2023_0117_HD32_01_00015520', '2023_0117_HD32_01_00015521', '2023_0117_HD32_01_00015522', '2023_0117_HD32_01_00015523', '2023_0117_HD32_01_00015524', '2023_0117_HD32_01_00015525', '2023_0117_HD32_01_00015526', '2023_0117_HD32_01_00015527', '2023_0117_HD32_01_00015528', '2023_0117_HD32_01_00015529', '2023_0117_HD32_01_00015530', '2023_0117_HD32_01_00015531', '2023_0117_HD32_01_00015532', '2023_0117_HD32_01_00015533', '2023_0117_HD32_01_00015534', '2023_0117_HD32_01_00015535', '2023_0117_HD32_01_00015536', '2023_0117_HD32_01_00015537', '2023_0117_HD32_01_00015538', '2023_0117_HD32_01_00015539', '2023_0117_HD32_01_00015540', '2023_0117_HD32_01_00015541', '2023_0117_HD32_01_00015542', '2023_0117_HD32_01_00015543', '2023_0117_HD32_01_00015544', '2023_0117_HD32_01_00015545', '2023_0117_HD32_01_00015546', '2023_0117_HD32_01_00015547', '2023_0117_HD32_01_00015548', '2023_0117_HD32_01_00015549', '2023_0117_HD32_01_00015550', '2023_0117_HD32_01_00015551', '2023_0117_HD32_01_00015552', '2023_0117_HD32_01_00015553', '2023_0117_HD32_01_00015554', '2023_0117_HD32_01_00015555', '2023_0117_HD32_01_00015556', '2023_0117_HD32_01_00015557', '2023_0117_HD32_01_00015558', '2023_0117_HD32_01_00015559', '2023_0117_HD32_01_00015560', '2023_0117_HD32_01_00015561', '2023_0117_HD32_01_00015562', '2023_0117_HD32_01_00015563', '2023_0117_HD32_01_00015564', '2023_0117_HD32_01_00015565', '2023_0117_HD32_01_00015566', '2023_0117_HD32_01_00015567', '2023_0117_HD32_01_00015568', '2023_0117_HD32_01_00015569', '2023_0117_HD32_01_00015570', '2023_0117_HD32_01_00015571', '2023_0117_HD32_01_00015572', '2023_0117_HD32_01_00015573', '2023_0117_HD32_01_00015574', '2023_0117_HD32_01_00015575', '2023_0117_HD32_01_00015576', '2023_0117_HD32_01_00015577', '2023_0117_HD32_01_00015578', '2023_0117_HD32_01_00015579', '2023_0117_HD32_01_00015580', '2023_0117_HD32_01_00015581', '2023_0117_HD32_01_00015582', '2023_0117_HD32_01_00015583', '2023_0117_HD32_01_00015584', '2023_0117_HD32_01_00015585', '2023_0117_HD32_01_00015586', '2023_0117_HD32_01_00015587', '2023_0117_HD32_01_00015588', '2023_0117_HD32_01_00015589', '2023_0117_HD32_01_00015590', '2023_0117_HD32_01_00015591', '2023_0117_HD32_01_00015592', '2023_0117_HD32_01_00015593', '2023_0117_HD32_01_00015594', '2023_0117_HD32_01_00015595', '2023_0117_HD32_01_00015596', '2023_0117_HD32_01_00015597', '2023_0117_HD32_01_00015598', '2023_0117_HD32_01_00015599', '2023_0117_HD32_01_00015600', '2023_0117_HD32_01_00015601', '2023_0117_HD32_01_00015602', '2023_0117_HD32_01_00015603', '2023_0117_HD32_01_00015604', '2023_0117_HD32_01_00015605', '2023_0117_HD32_01_00015606', '2023_0117_HD32_01_00015607', '2023_0117_HD32_01_00015608', '2023_0117_HD32_01_00015609', '2023_0117_HD32_01_00015610', '2023_0117_HD32_01_00015611', '2023_0117_HD32_01_00015612', '2023_0117_HD32_01_00015613', '2023_0117_HD32_01_00015614', '2023_0117_HD32_01_00015615', '2023_0117_HD32_01_00015616', '2023_0117_HD32_01_00015617', '2023_0117_HD32_01_00015618', '2023_0117_HD32_01_00015619', '2023_0117_HD32_01_00015620', '2023_0117_HD32_01_00015621', '2023_0117_HD32_01_00015622', '2023_0117_HD32_01_00015623', '2023_0117_HD32_01_00015624', '2023_0117_HD32_01_00015625', '2023_0117_HD32_01_00015626', '2023_0117_HD32_01_00015627', '2023_0117_HD32_01_00015628', '2023_0117_HD32_01_00015629', '2023_0117_HD32_01_00015630', '2023_0117_HD32_01_00015631', '2023_0117_HD32_01_00015632', '2023_0117_HD32_01_00015633', '2023_0117_HD32_01_00015634', '2023_0117_HD32_01_00015635', '2023_0117_HD32_01_00015636', '2023_0117_HD32_01_00015637', '2023_0117_HD32_01_00015638', '2023_0117_HD32_01_00015639', '2023_0117_HD32_01_00015640', '2023_0117_HD32_01_00015641', '2023_0117_HD32_01_00015642', '2023_0117_HD32_01_00015643', '2023_0117_HD32_01_00015644', '2023_0117_HD32_01_00015645', '2023_0117_HD32_01_00015646', '2023_0117_HD32_01_00015647', '2023_0117_HD32_01_00015648', '2023_0117_HD32_01_00015649', '2023_0117_HD32_01_00015650', '2023_0117_HD32_01_00015651', '2023_0117_HD32_01_00015652', '2023_0117_HD32_01_00015653', '2023_0117_HD32_01_00015654', '2023_0117_HD32_01_00015655', '2023_0117_HD32_01_00015656', '2023_0117_HD32_01_00015657', '2023_0117_HD32_01_00015658', '2023_0117_HD32_01_00015659', '2023_0117_HD32_01_00015660', '2023_0117_HD32_01_00015661', '2023_0117_HD32_01_00015662', '2023_0117_HD32_01_00015663', '2023_0117_HD32_01_00015664', '2023_0117_HD32_01_00015665', '2023_0117_HD32_01_00015666', '2023_0117_HD32_01_00015667', '2023_0117_HD32_01_00015668', '2023_0117_HD32_01_00015669', '2023_0117_HD32_01_00015670', '2023_0117_HD32_01_00015671', '2023_0117_HD32_01_00015672', '2023_0117_HD32_01_00015673', '2023_0117_HD32_01_00015674', '2023_0117_HD32_01_00015675', '2023_0117_HD32_01_00015676', '2023_0117_HD32_01_00015677', '2023_0117_HD32_01_00015678', '2023_0117_HD32_01_00015679', '2023_0117_HD32_01_00015680', '2023_0117_HD32_01_00015681', '2023_0117_HD32_01_00015682', '2023_0117_HD32_01_00015683', '2023_0117_HD32_01_00015684', '2023_0117_HD32_01_00015685', '2023_0117_HD32_01_00015686', '2023_0117_HD32_01_00015687', '2023_0117_HD32_01_00015688', '2023_0117_HD32_01_00015689', '2023_0117_HD32_01_00015690', '2023_0117_HD32_01_00015691', '2023_0117_HD32_01_00015692', '2023_0117_HD32_01_00015693', '2023_0117_HD32_01_00015694', '2023_0117_HD32_01_00015695', '2023_0117_HD32_01_00015696', '2023_0117_HD32_01_00015697', '2023_0117_HD32_01_00015698', '2023_0117_HD32_01_00015699', '2023_0117_HD32_01_00015700', '2023_0117_HD32_01_00015701', '2023_0117_HD32_01_00015702', '2023_0117_HD32_01_00015703', '2023_0117_HD32_01_00015704', '2023_0117_HD32_01_00015705', '2023_0117_HD32_01_00015706', '2023_0117_HD32_01_00015707', '2023_0117_HD32_01_00015708', '2023_0117_HD32_01_00015709', '2023_0117_HD32_01_00015710', '2023_0117_HD32_01_00015711', '2023_0117_HD32_01_00015712', '2023_0117_HD32_01_00015713', '2023_0117_HD32_01_00015714', '2023_0117_HD32_01_00015715', '2023_0117_HD32_01_00015716', '2023_0117_HD32_01_00015717', '2023_0117_HD32_01_00015718', '2023_0117_HD32_01_00015719', '2023_0117_HD32_01_00015720', '2023_0117_HD32_01_00015721', '2023_0117_HD32_01_00015722', '2023_0117_HD32_01_00015723', '2023_0117_HD32_01_00015724', '2023_0117_HD32_01_00015725', '2023_0117_HD32_01_00015726', '2023_0117_HD32_01_00015727', '2023_0117_HD32_01_00015728', '2023_0117_HD32_01_00015729', '2023_0117_HD32_01_00015730', '2023_0117_HD32_01_00015731', '2023_0117_HD32_01_00015732', '2023_0117_HD32_01_00015733', '2023_0117_HD32_01_00015734', '2023_0117_HD32_01_00015735', '2023_0117_HD32_01_00015736', '2023_0117_HD32_01_00015737', '2023_0117_HD32_01_00015738', '2023_0117_HD32_01_00015739', '2023_0117_HD32_01_00015740', '2023_0117_HD32_01_00015741', '2023_0117_HD32_01_00015742', '2023_0117_HD32_01_00015743', '2023_0117_HD32_01_00015744', '2023_0117_HD32_01_00015745', '2023_0117_HD32_01_00015746', '2023_0117_HD32_01_00015747', '2023_0117_HD32_01_00015748', '2023_0117_HD32_01_00015749', '2023_0117_HD32_01_00015750', '2023_0117_HD32_01_00015751', '2023_0117_HD32_01_00015752', '2023_0117_HD32_01_00015753', '2023_0117_HD32_01_00015754', '2023_0117_HD32_01_00015755', '2023_0117_HD32_01_00015756', '2023_0117_HD32_01_00015757', '2023_0117_HD32_01_00015758', '2023_0117_HD32_01_00015759', '2023_0117_HD32_01_00015760', '2023_0117_HD32_01_00015761', '2023_0117_HD32_01_00015762', '2023_0117_HD32_01_00015763', '2023_0117_HD32_01_00015764', '2023_0117_HD32_01_00015765', '2023_0117_HD32_01_00015766', '2023_0117_HD32_01_00015767', '2023_0117_HD32_01_00015768', '2023_0117_HD32_01_00015769', '2023_0117_HD32_01_00015770', '2023_0117_HD32_01_00015771', '2023_0117_HD32_01_00015772', '2023_0117_HD32_01_00015773', '2023_0117_HD32_01_00015774', '2023_0117_HD32_01_00015775', '2023_0117_HD32_01_00015776', '2023_0117_HD32_01_00015777', '2023_0117_HD32_01_00015778', '2023_0117_HD32_01_00015779', '2023_0117_HD32_01_00015780', '2023_0117_HD32_01_00015781', '2023_0117_HD32_01_00015782', '2023_0117_HD32_01_00015783', '2023_0117_HD32_01_00015784', '2023_0117_HD32_01_00015785', '2023_0117_HD32_01_00015786', '2023_0117_HD32_01_00015787', '2023_0117_HD32_01_00015788', '2023_0117_HD32_01_00015789', '2023_0117_HD32_01_00015790', '2023_0117_HD32_01_00015791', '2023_0117_HD32_01_00015792', '2023_0117_HD32_01_00015793', '2023_0117_HD32_01_00015794', '2023_0117_HD32_01_00015795', '2023_0117_HD32_01_00015796', '2023_0117_HD32_01_00015797', '2023_0117_HD32_01_00015798', '2023_0117_HD32_01_00015799', '2023_0117_HD32_01_00015800', '2023_0117_HD32_01_00015801', '2023_0117_HD32_01_00015802', '2023_0117_HD32_01_00015803', '2023_0117_HD32_01_00015804', '2023_0117_HD32_01_00015805', '2023_0117_HD32_01_00015806', '2023_0117_HD32_01_00015807', '2023_0117_HD32_01_00015808', '2023_0117_HD32_01_00015809', '2023_0117_HD32_01_00015810', '2023_0117_HD32_01_00015811', '2023_0117_HD32_01_00015812', '2023_0117_HD32_01_00015813', '2023_0117_HD32_01_00015814', '2023_0117_HD32_01_00015815', '2023_0117_HD32_01_00015816', '2023_0117_HD32_01_00015817', '2023_0117_HD32_01_00015818', '2023_0117_HD32_01_00015819', '2023_0117_HD32_01_00015820', '2023_0117_HD32_01_00015821', '2023_0117_HD32_01_00015822', '2023_0117_HD32_01_00015823', '2023_0117_HD32_01_00015824', '2023_0117_HD32_01_00015825', '2023_0117_HD32_01_00015826', '2023_0117_HD32_01_00015827', '2023_0117_HD32_01_00015828', '2023_0117_HD32_01_00015829', '2023_0117_HD32_01_00015830', '2023_0117_HD32_01_00015831', '2023_0117_HD32_01_00015832', '2023_0117_HD32_01_00015833', '2023_0117_HD32_01_00015834', '2023_0117_HD32_01_00015835', '2023_0117_HD32_01_00015836', '2023_0117_HD32_01_00015837', '2023_0117_HD32_01_00015838', '2023_0117_HD32_01_00015839', '2023_0117_HD32_01_00015840', '2023_0117_HD32_01_00015841', '2023_0117_HD32_01_00015842', '2023_0117_HD32_01_00015843', '2023_0117_HD32_01_00015844', '2023_0117_HD32_01_00015845', '2023_0117_HD32_01_00015846', '2023_0117_HD32_01_00015847', '2023_0117_HD32_01_00015848', '2023_0117_HD32_01_00015849', '2023_0117_HD32_01_00015850', '2023_0117_HD32_01_00015851', '2023_0117_HD32_01_00015852', '2023_0117_HD32_01_00015853', '2023_0117_HD32_01_00015854', '2023_0117_HD32_01_00015855', '2023_0117_HD32_01_00015856', '2023_0117_HD32_01_00015857', '2023_0117_HD32_01_00015858', '2023_0117_HD32_01_00015859', '2023_0117_HD32_01_00015860', '2023_0117_HD32_01_00015861', '2023_0117_HD32_01_00015862', '2023_0117_HD32_01_00015863', '2023_0117_HD32_01_00015864', '2023_0117_HD32_01_00015865', '2023_0117_HD32_01_00015866', '2023_0117_HD32_01_00015867', '2023_0117_HD32_01_00015868', '2023_0117_HD32_01_00015869', '2023_0117_HD32_01_00015870', '2023_0117_HD32_01_00015871', '2023_0117_HD32_01_00015872', '2023_0117_HD32_01_00015873', '2023_0117_HD32_01_00015874', '2023_0117_HD32_01_00015875', '2023_0117_HD32_01_00015876', '2023_0117_HD32_01_00015877', '2023_0117_HD32_01_00015878', '2023_0117_HD32_01_00015879', '2023_0117_HD32_01_00015880', '2023_0117_HD32_01_00015881', '2023_0117_HD32_01_00015882', '2023_0117_HD32_01_00015883', '2023_0117_HD32_01_00015884', '2023_0117_HD32_01_00015885', '2023_0117_HD32_01_00015886', '2023_0117_HD32_01_00015887', '2023_0117_HD32_01_00015888', '2023_0117_HD32_01_00015889', '2023_0117_HD32_01_00015890', '2023_0117_HD32_01_00015891', '2023_0117_HD32_01_00015892', '2023_0117_HD32_01_00015893', '2023_0117_HD32_01_00015894', '2023_0117_HD32_01_00015895', '2023_0117_HD32_01_00015896', '2023_0117_HD32_01_00015897', '2023_0117_HD32_01_00015898', '2023_0117_HD32_01_00015899', '2023_0117_HD32_01_00015900', '2023_0117_HD32_01_00015901', '2023_0117_HD32_01_00015902', '2023_0117_HD32_01_00015903', '2023_0117_HD32_01_00015904', '2023_0117_HD32_01_00015905', '2023_0117_HD32_01_00015906', '2023_0117_HD32_01_00015907', '2023_0117_HD32_01_00015908', '2023_0117_HD32_01_00015909', '2023_0117_HD32_01_00015910', '2023_0117_HD32_01_00015911', '2023_0117_HD32_01_00015912', '2023_0117_HD32_01_00015913', '2023_0117_HD32_01_00015914', '2023_0117_HD32_01_00015915', '2023_0117_HD32_01_00015916', '2023_0117_HD32_01_00015917', '2023_0117_HD32_01_00015918', '2023_0117_HD32_01_00015919', '2023_0117_HD32_01_00015920', '2023_0117_HD32_01_00015921', '2023_0117_HD32_01_00015922', '2023_0117_HD32_01_00015923', '2023_0117_HD32_01_00015924', '2023_0117_HD32_01_00015925', '2023_0117_HD32_01_00015926', '2023_0117_HD32_01_00015927', '2023_0117_HD32_01_00015928', '2023_0117_HD32_01_00015929', '2023_0117_HD32_01_00015930', '2023_0117_HD32_01_00015931', '2023_0117_HD32_01_00015932', '2023_0117_HD32_01_00015933', '2023_0117_HD32_01_00015934', '2023_0117_HD32_01_00015935', '2023_0117_HD32_01_00015936', '2023_0117_HD32_01_00015937', '2023_0117_HD32_01_00015938', '2023_0117_HD32_01_00015939', '2023_0117_HD32_01_00015940', '2023_0117_HD32_01_00015941', '2023_0117_HD32_01_00015942', '2023_0117_HD32_01_00015943', '2023_0117_HD32_01_00015944', '2023_0117_HD32_01_00015945', '2023_0117_HD32_01_00015946', '2023_0117_HD32_01_00015947', '2023_0117_HD32_01_00015948', '2023_0117_HD32_01_00015949', '2023_0117_HD32_01_00015950', '2023_0117_HD32_01_00015951', '2023_0117_HD32_01_00015952', '2023_0117_HD32_01_00015953', '2023_0117_HD32_01_00015954', '2023_0117_HD32_01_00015955', '2023_0117_HD32_01_00015956', '2023_0117_HD32_01_00015957', '2023_0117_HD32_01_00015958', '2023_0117_HD32_01_00015959', '2023_0117_HD32_01_00015960', '2023_0117_HD32_01_00015961', '2023_0117_HD32_01_00015962', '2023_0117_HD32_01_00015963', '2023_0117_HD32_01_00015964', '2023_0117_HD32_01_00015965', '2023_0117_HD32_01_00015966', '2023_0117_HD32_01_00015967', '2023_0117_HD32_01_00015968', '2023_0117_HD32_01_00015969', '2023_0117_HD32_01_00015970', '2023_0117_HD32_01_00015971', '2023_0117_HD32_01_00015972', '2023_0117_HD32_01_00015973', '2023_0117_HD32_01_00015974', '2023_0117_HD32_01_00015975', '2023_0117_HD32_01_00015976', '2023_0117_HD32_01_00015977', '2023_0117_HD32_01_00015978', '2023_0117_HD32_01_00015979', '2023_0117_HD32_01_00015980', '2023_0117_HD32_01_00015981', '2023_0117_HD32_01_00015982', '2023_0117_HD32_01_00015983', '2023_0117_HD32_01_00015984', '2023_0117_HD32_01_00015985', '2023_0117_HD32_01_00015986', '2023_0117_HD32_01_00015987', '2023_0117_HD32_01_00015988', '2023_0117_HD32_01_00015989', '2023_0117_HD32_01_00015990', '2023_0117_HD32_01_00015991', '2023_0117_HD32_01_00015992', '2023_0117_HD32_01_00015993', '2023_0117_HD32_01_00015994', '2023_0117_HD32_01_00015995', '2023_0117_HD32_01_00015996', '2023_0117_HD32_01_00015997', '2023_0117_HD32_01_00015998', '2023_0117_HD32_01_00015999', '2023_0117_HD32_01_00016000', '2023_0117_HD32_01_00016001', '2023_0117_HD32_01_00016002', '2023_0117_HD32_01_00016003', '2023_0117_HD32_01_00016004', '2023_0117_HD32_01_00016005', '2023_0117_HD32_01_00016006', '2023_0117_HD32_01_00016007', '2023_0117_HD32_01_00016008', '2023_0117_HD32_01_00016009', '2023_0117_HD32_01_00016010', '2023_0117_HD32_01_00016011', '2023_0117_HD32_01_00016012', '2023_0117_HD32_01_00016013', '2023_0117_HD32_01_00016014', '2023_0117_HD32_01_00016015', '2023_0117_HD32_01_00016016', '2023_0117_HD32_01_00016017', '2023_0117_HD32_01_00016018', '2023_0117_HD32_01_00016019', '2023_0117_HD32_01_00016020', '2023_0117_HD32_01_00016021', '2023_0117_HD32_01_00016022', '2023_0117_HD32_01_00016023', '2023_0117_HD32_01_00016024', '2023_0117_HD32_01_00016025', '2023_0117_HD32_01_00016026', '2023_0117_HD32_01_00016027', '2023_0117_HD32_01_00016028', '2023_0117_HD32_01_00016029', '2023_0117_HD32_01_00016030', '2023_0117_HD32_01_00016031', '2023_0117_HD32_01_00016032', '2023_0117_HD32_01_00016033', '2023_0117_HD32_01_00016034', '2023_0117_HD32_01_00016035', '2023_0117_HD32_01_00016036', '2023_0117_HD32_01_00016037', '2023_0117_HD32_01_00016038', '2023_0117_HD32_01_00016039', '2023_0117_HD32_01_00016040', '2023_0117_HD32_01_00016041', '2023_0117_HD32_01_00016042', '2023_0117_HD32_01_00016043', '2023_0117_HD32_01_00016044', '2023_0117_HD32_01_00016045', '2023_0117_HD32_01_00016046', '2023_0117_HD32_01_00016047', '2023_0117_HD32_01_00016048', '2023_0117_HD32_01_00016049', '2023_0117_HD32_01_00016050', '2023_0117_HD32_01_00016051', '2023_0117_HD32_01_00016052', '2023_0117_HD32_01_00016053', '2023_0117_HD32_01_00016054', '2023_0117_HD32_01_00016055', '2023_0117_HD32_01_00016056', '2023_0117_HD32_01_00016057', '2023_0117_HD32_01_00016058', '2023_0117_HD32_01_00016059', '2023_0117_HD32_01_00016060', '2023_0117_HD32_01_00016061', '2023_0117_HD32_01_00016062', '2023_0117_HD32_01_00016063', '2023_0117_HD32_01_00016064', '2023_0117_HD32_01_00016065', '2023_0117_HD32_01_00016066', '2023_0117_HD32_01_00016067', '2023_0117_HD32_01_00016068', '2023_0117_HD32_01_00016069', '2023_0117_HD32_01_00016070', '2023_0117_HD32_01_00016071', '2023_0117_HD32_01_00016072', '2023_0117_HD32_01_00016073', '2023_0117_HD32_01_00016074', '2023_0117_HD32_01_00016075', '2023_0117_HD32_01_00016076', '2023_0117_HD32_01_00016077', '2023_0117_HD32_01_00016078', '2023_0117_HD32_01_00016079', '2023_0117_HD32_01_00016080', '2023_0117_HD32_01_00016081', '2023_0117_HD32_01_00016082', '2023_0117_HD32_01_00016083', '2023_0117_HD32_01_00016084', '2023_0117_HD32_01_00016085', '2023_0117_HD32_01_00016086', '2023_0117_HD32_01_00016087', '2023_0117_HD32_01_00016088', '2023_0117_HD32_01_00016089', '2023_0117_HD32_01_00016090', '2023_0117_HD32_01_00016091', '2023_0117_HD32_01_00016092', '2023_0117_HD32_01_00016093', '2023_0117_HD32_01_00016094', '2023_0117_HD32_01_00016095', '2023_0117_HD32_01_00016096', '2023_0117_HD32_01_00016097', '2023_0117_HD32_01_00016098', '2023_0117_HD32_01_00016099', '2023_0117_HD32_01_00016100', '2023_0117_HD32_01_00016101', '2023_0117_HD32_01_00016102', '2023_0117_HD32_01_00016103', '2023_0117_HD32_01_00016104', '2023_0117_HD32_01_00016105', '2023_0117_HD32_01_00016106', '2023_0117_HD32_01_00016107', '2023_0117_HD32_01_00016108', '2023_0117_HD32_01_00016109', '2023_0117_HD32_01_00016110', '2023_0117_HD32_01_00016111', '2023_0117_HD32_01_00016112', '2023_0117_HD32_01_00016113', '2023_0117_HD32_01_00016114', '2023_0117_HD32_01_00016115', '2023_0117_HD32_01_00016116', '2023_0117_HD32_01_00016117', '2023_0117_HD32_01_00016118', '2023_0117_HD32_01_00016119', '2023_0117_HD32_01_00016120', '2023_0117_HD32_01_00016121', '2023_0117_HD32_01_00016122', '2023_0117_HD32_01_00016123', '2023_0117_HD32_01_00016124', '2023_0117_HD32_01_00016125', '2023_0117_HD32_01_00016126', '2023_0117_HD32_01_00016127', '2023_0117_HD32_01_00016128', '2023_0117_HD32_01_00016129', '2023_0117_HD32_01_00016130', '2023_0117_HD32_01_00016131', '2023_0117_HD32_01_00016132', '2023_0117_HD32_01_00016133', '2023_0117_HD32_01_00016134', '2023_0117_HD32_01_00016135', '2023_0117_HD32_01_00016136', '2023_0117_HD32_01_00016137', '2023_0117_HD32_01_00016138', '2023_0117_HD32_01_00016139', '2023_0117_HD32_01_00016140', '2023_0117_HD32_01_00016141', '2023_0117_HD32_01_00016142', '2023_0117_HD32_01_00016143', '2023_0117_HD32_01_00016144', '2023_0117_HD32_01_00016145', '2023_0117_HD32_01_00016146', '2023_0117_HD32_01_00016147', '2023_0117_HD32_01_00016148', '2023_0117_HD32_01_00016149', '2023_0117_HD32_01_00016150', '2023_0117_HD32_01_00016151', '2023_0117_HD32_01_00016152', '2023_0117_HD32_01_00016153', '2023_0117_HD32_01_00016154', '2023_0117_HD32_01_00016155', '2023_0117_HD32_01_00016156', '2023_0117_HD32_01_00016157', '2023_0117_HD32_01_00016158', '2023_0117_HD32_01_00016159', '2023_0117_HD32_01_00016160', '2023_0117_HD32_01_00016161', '2023_0117_HD32_01_00016162', '2023_0117_HD32_01_00016163', '2023_0117_HD32_01_00016164', '2023_0117_HD32_01_00016165', '2023_0117_HD32_01_00016166', '2023_0117_HD32_01_00016167', '2023_0117_HD32_01_00016168', '2023_0117_HD32_01_00016169', '2023_0117_HD32_01_00016170', '2023_0117_HD32_01_00016171', '2023_0117_HD32_01_00016172', '2023_0117_HD32_01_00016173', '2023_0117_HD32_01_00016174', '2023_0117_HD32_01_00016175', '2023_0117_HD32_01_00016176', '2023_0117_HD32_01_00016177', '2023_0117_HD32_01_00016178', '2023_0117_HD32_01_00016179', '2023_0117_HD32_01_00016180', '2023_0117_HD32_01_00016181', '2023_0117_HD32_01_00016182', '2023_0117_HD32_01_00016183', '2023_0117_HD32_01_00016184', '2023_0117_HD32_01_00016185', '2023_0117_HD32_01_00016186', '2023_0117_HD32_01_00016187', '2023_0117_HD32_01_00016188', '2023_0117_HD32_01_00016189', '2023_0117_HD32_01_00016190', '2023_0117_HD32_01_00016191', '2023_0117_HD32_01_00016192', '2023_0117_HD32_01_00016193', '2023_0117_HD32_01_00016194', '2023_0117_HD32_01_00016195', '2023_0117_HD32_01_00016196', '2023_0117_HD32_01_00016197', '2023_0117_HD32_01_00016198', '2023_0117_HD32_01_00016199', '2023_0117_HD32_01_00016200', '2023_0117_HD32_01_00016201', '2023_0117_HD32_01_00016202', '2023_0117_HD32_01_00016203', '2023_0117_HD32_01_00016204', '2023_0117_HD32_01_00016205', '2023_0117_HD32_01_00016206', '2023_0117_HD32_01_00016207', '2023_0117_HD32_01_00016208', '2023_0117_HD32_01_00016209', '2023_0117_HD32_01_00016210', '2023_0117_HD32_01_00016211', '2023_0117_HD32_01_00016212', '2023_0117_HD32_01_00016213', '2023_0117_HD32_01_00016214', '2023_0117_HD32_01_00016215', '2023_0117_HD32_01_00016216', '2023_0117_HD32_01_00016217', '2023_0117_HD32_01_00016218', '2023_0117_HD32_01_00016219', '2023_0117_HD32_01_00016220', '2023_0117_HD32_01_00016221', '2023_0117_HD32_01_00016222', '2023_0117_HD32_01_00016223', '2023_0117_HD32_01_00016224', '2023_0117_HD32_01_00016225', '2023_0117_HD32_01_00016226', '2023_0117_HD32_01_00016227', '2023_0117_HD32_01_00016228', '2023_0117_HD32_01_00016229', '2023_0117_HD32_01_00016230', '2023_0117_HD32_01_00016231', '2023_0117_HD32_01_00016232', '2023_0117_HD32_01_00016233', '2023_0117_HD32_01_00016234', '2023_0117_HD32_01_00016235', '2023_0117_HD32_01_00016236', '2023_0117_HD32_01_00016237', '2023_0117_HD32_01_00016238', '2023_0117_HD32_01_00016239', '2023_0117_HD32_01_00016240', '2023_0117_HD32_01_00016241', '2023_0117_HD32_01_00016242', '2023_0117_HD32_01_00016243', '2023_0117_HD32_01_00016244', '2023_0117_HD32_01_00016245', '2023_0117_HD32_01_00016246', '2023_0117_HD32_01_00016247', '2023_0117_HD32_01_00016248', '2023_0117_HD32_01_00016249', '2023_0117_HD32_01_00016250', '2023_0117_HD32_01_00016251', '2023_0117_HD32_01_00016252', '2023_0117_HD32_01_00016253', '2023_0117_HD32_01_00016254', '2023_0117_HD32_01_00016255', '2023_0117_HD32_01_00016256', '2023_0117_HD32_01_00016257', '2023_0117_HD32_01_00016258', '2023_0117_HD32_01_00016259', '2023_0117_HD32_01_00016260', '2023_0117_HD32_01_00016261', '2023_0117_HD32_01_00016262', '2023_0117_HD32_01_00016263', '2023_0117_HD32_01_00016264', '2023_0117_HD32_01_00016265', '2023_0117_HD32_01_00016266', '2023_0117_HD32_01_00016267', '2023_0117_HD32_01_00016268', '2023_0117_HD32_01_00016269', '2023_0117_HD32_01_00016270', '2023_0117_HD32_01_00016271', '2023_0117_HD32_01_00016272', '2023_0117_HD32_01_00016273', '2023_0117_HD32_01_00016274', '2023_0117_HD32_01_00016275', '2023_0117_HD32_01_00016276', '2023_0117_HD32_01_00016277', '2023_0117_HD32_01_00016278', '2023_0117_HD32_01_00016279', '2023_0117_HD32_01_00016280', '2023_0117_HD32_01_00016281', '2023_0117_HD32_01_00016282', '2023_0117_HD32_01_00016283', '2023_0117_HD32_01_00016284', '2023_0117_HD32_01_00016285', '2023_0117_HD32_01_00016286', '2023_0117_HD32_01_00016287', '2023_0117_HD32_01_00016288', '2023_0117_HD32_01_00016289', '2023_0117_HD32_01_00016290', '2023_0117_HD32_01_00016291', '2023_0117_HD32_01_00016292', '2023_0117_HD32_01_00016293', '2023_0117_HD32_01_00016294', '2023_0117_HD32_01_00016295', '2023_0117_HD32_01_00016296', '2023_0117_HD32_01_00016297', '2023_0117_HD32_01_00016298', '2023_0117_HD32_01_00016299', '2023_0117_HD32_01_00016300', '2023_0117_HD32_01_00016301', '2023_0117_HD32_01_00016302', '2023_0117_HD32_01_00016303', '2023_0117_HD32_01_00016304', '2023_0117_HD32_01_00016305', '2023_0117_HD32_01_00016306', '2023_0117_HD32_01_00016307', '2023_0117_HD32_01_00016308', '2023_0117_HD32_01_00016309', '2023_0117_HD32_01_00016310', '2023_0117_HD32_01_00016311', '2023_0117_HD32_01_00016312', '2023_0117_HD32_01_00016313', '2023_0117_HD32_01_00016314', '2023_0117_HD32_01_00016315', '2023_0117_HD32_01_00016316', '2023_0117_HD32_01_00016317', '2023_0117_HD32_01_00016318', '2023_0117_HD32_01_00016319', '2023_0117_HD32_01_00016320', '2023_0117_HD32_01_00016321', '2023_0117_HD32_01_00016322', '2023_0117_HD32_01_00016323', '2023_0117_HD32_01_00016324', '2023_0117_HD32_01_00016325', '2023_0117_HD32_01_00016326', '2023_0117_HD32_01_00016327', '2023_0117_HD32_01_00016328', '2023_0117_HD32_01_00016329', '2023_0117_HD32_01_00016330', '2023_0117_HD32_01_00016331', '2023_0117_HD32_01_00016332', '2023_0117_HD32_01_00016333', '2023_0117_HD32_01_00016334', '2023_0117_HD32_01_00016335', '2023_0117_HD32_01_00016336', '2023_0117_HD32_01_00016337', '2023_0117_HD32_01_00016338', '2023_0117_HD32_01_00016339', '2023_0117_HD32_01_00016340', '2023_0117_HD32_01_00016341', '2023_0117_HD32_01_00016342', '2023_0117_HD32_01_00016343', '2023_0117_HD32_01_00016344', '2023_0117_HD32_01_00016345', '2023_0117_HD32_01_00016346', '2023_0117_HD32_01_00016347', '2023_0117_HD32_01_00016348', '2023_0117_HD32_01_00016349', '2023_0117_HD32_01_00016350', '2023_0117_HD32_01_00016351', '2023_0117_HD32_01_00016352', '2023_0117_HD32_01_00016353', '2023_0117_HD32_01_00016354', '2023_0117_HD32_01_00016355', '2023_0117_HD32_01_00016356', '2023_0117_HD32_01_00016357', '2023_0117_HD32_01_00016358', '2023_0117_HD32_01_00016359', '2023_0117_HD32_01_00016360', '2023_0117_HD32_01_00016361', '2023_0117_HD32_01_00016362', '2023_0117_HD32_01_00016363', '2023_0117_HD32_01_00016364', '2023_0117_HD32_01_00016365', '2023_0117_HD32_01_00016366', '2023_0117_HD32_01_00016367', '2023_0117_HD32_01_00016368', '2023_0117_HD32_01_00016369', '2023_0117_HD32_01_00016370', '2023_0117_HD32_01_00016371', '2023_0117_HD32_01_00016372', '2023_0117_HD32_01_00016373', '2023_0117_HD32_01_00016374', '2023_0117_HD32_01_00016375', '2023_0117_HD32_01_00016376', '2023_0117_HD32_01_00016377', '2023_0117_HD32_01_00016378', '2023_0117_HD32_01_00016379', '2023_0117_HD32_01_00016380', '2023_0117_HD32_01_00016381', '2023_0117_HD32_01_00016382', '2023_0117_HD32_01_00016383', '2023_0117_HD32_01_00016384', '2023_0117_HD32_01_00016385', '2023_0117_HD32_01_00016386', '2023_0117_HD32_01_00016387', '2023_0117_HD32_01_00016388', '2023_0117_HD32_01_00016389', '2023_0117_HD32_01_00016390', '2023_0117_HD32_01_00016391', '2023_0117_HD32_01_00016392', '2023_0117_HD32_01_00016393', '2023_0117_HD32_01_00016394', '2023_0117_HD32_01_00016395', '2023_0117_HD32_01_00016396', '2023_0117_HD32_01_00016397', '2023_0117_HD32_01_00016398', '2023_0117_HD32_01_00016399', '2023_0117_HD32_01_00016400', '2023_0117_HD32_01_00016401', '2023_0117_HD32_01_00016402', '2023_0117_HD32_01_00016403', '2023_0117_HD32_01_00016404', '2023_0117_HD32_01_00016405', '2023_0117_HD32_01_00016406', '2023_0117_HD32_01_00016407', '2023_0117_HD32_01_00016408', '2023_0117_HD32_01_00016409', '2023_0117_HD32_01_00016410', '2023_0117_HD32_01_00016411', '2023_0117_HD32_01_00016412', '2023_0117_HD32_01_00016413', '2023_0117_HD32_01_00016414', '2023_0117_HD32_01_00016415', '2023_0117_HD32_01_00016416', '2023_0117_HD32_01_00016417', '2023_0117_HD32_01_00016418', '2023_0117_HD32_01_00016419', '2023_0117_HD32_01_00016420', '2023_0117_HD32_01_00016421', '2023_0117_HD32_01_00016422', '2023_0117_HD32_01_00016423', '2023_0117_HD32_01_00016424', '2023_0117_HD32_01_00016425', '2023_0117_HD32_01_00016426', '2023_0117_HD32_01_00016427', '2023_0117_HD32_01_00016428', '2023_0117_HD32_01_00016429', '2023_0117_HD32_01_00016430', '2023_0117_HD32_01_00016431', '2023_0117_HD32_01_00016432', '2023_0117_HD32_01_00016433', '2023_0117_HD32_01_00016434', '2023_0117_HD32_01_00016435', '2023_0117_HD32_01_00016436', '2023_0117_HD32_01_00016437', '2023_0117_HD32_01_00016438', '2023_0117_HD32_01_00016439', '2023_0117_HD32_01_00016440', '2023_0117_HD32_01_00016441', '2023_0117_HD32_01_00016442', '2023_0117_HD32_01_00016443', '2023_0117_HD32_01_00016444', '2023_0117_HD32_01_00016445', '2023_0117_HD32_01_00016446', '2023_0117_HD32_01_00016447', '2023_0117_HD32_01_00016448', '2023_0117_HD32_01_00016449', '2023_0117_HD32_01_00016450', '2023_0117_HD32_01_00016451', '2023_0117_HD32_01_00016452', '2023_0117_HD32_01_00016453', '2023_0117_HD32_01_00016454', '2023_0117_HD32_01_00016455', '2023_0117_HD32_01_00016456', '2023_0117_HD32_01_00016457', '2023_0117_HD32_01_00016458', '2023_0117_HD32_01_00016459', '2023_0117_HD32_01_00016460', '2023_0117_HD32_01_00016461', '2023_0117_HD32_01_00016462', '2023_0117_HD32_01_00016463', '2023_0117_HD32_01_00016464', '2023_0117_HD32_01_00016465', '2023_0117_HD32_01_00016466', '2023_0117_HD32_01_00016467', '2023_0117_HD32_01_00016468', '2023_0117_HD32_01_00016469', '2023_0117_HD32_01_00016470', '2023_0117_HD32_01_00016471', '2023_0117_HD32_01_00016472', '2023_0117_HD32_01_00016473', '2023_0117_HD32_01_00016474', '2023_0117_HD32_01_00016475', '2023_0117_HD32_01_00016476', '2023_0117_HD32_01_00016477', '2023_0117_HD32_01_00016478', '2023_0117_HD32_01_00016479', '2023_0117_HD32_01_00016480', '2023_0117_HD32_01_00016481', '2023_0117_HD32_01_00016482', '2023_0117_HD32_01_00016483', '2023_0117_HD32_01_00016484', '2023_0117_HD32_01_00016485', '2023_0117_HD32_01_00016486', '2023_0117_HD32_01_00016487', '2023_0117_HD32_01_00016488', '2023_0117_HD32_01_00016489', '2023_0117_HD32_01_00016490', '2023_0117_HD32_01_00016491', '2023_0117_HD32_01_00016492', '2023_0117_HD32_01_00016493', '2023_0117_HD32_01_00016494', '2023_0117_HD32_01_00016495', '2023_0117_HD32_01_00016496', '2023_0117_HD32_01_00016497', '2023_0117_HD32_01_00016498', '2023_0117_HD32_01_00016499', '2023_0117_HD32_01_00016500', '2023_0117_HD32_01_00016501', '2023_0117_HD32_01_00016502', '2023_0117_HD32_01_00016503', '2023_0117_HD32_01_00016504', '2023_0117_HD32_01_00016505', '2023_0117_HD32_01_00016506', '2023_0117_HD32_01_00016507', '2023_0117_HD32_01_00016508', '2023_0117_HD32_01_00016509', '2023_0117_HD32_01_00016510', '2023_0117_HD32_01_00016511', '2023_0117_HD32_01_00016512', '2023_0117_HD32_01_00016513', '2023_0117_HD32_01_00016514', '2023_0117_HD32_01_00016515', '2023_0117_HD32_01_00016516', '2023_0117_HD32_01_00016517', '2023_0117_HD32_01_00016518', '2023_0117_HD32_01_00016519', '2023_0117_HD32_01_00016520', '2023_0117_HD32_01_00016521', '2023_0117_HD32_01_00016522', '2023_0117_HD32_01_00016523', '2023_0117_HD32_01_00016524', '2023_0117_HD32_01_00016525', '2023_0117_HD32_01_00016526', '2023_0117_HD32_01_00016527', '2023_0117_HD32_01_00016528', '2023_0117_HD32_01_00016529', '2023_0117_HD32_01_00016530', '2023_0117_HD32_01_00016531', '2023_0117_HD32_01_00016532', '2023_0117_HD32_01_00016533', '2023_0117_HD32_01_00016534', '2023_0117_HD32_01_00016535', '2023_0117_HD32_01_00016536', '2023_0117_HD32_01_00016537', '2023_0117_HD32_01_00016538', '2023_0117_HD32_01_00016539', '2023_0117_HD32_01_00016540', '2023_0117_HD32_01_00016541', '2023_0117_HD32_01_00016542', '2023_0117_HD32_01_00016543', '2023_0117_HD32_01_00016544', '2023_0117_HD32_01_00016545', '2023_0117_HD32_01_00016546', '2023_0117_HD32_01_00016547', '2023_0117_HD32_01_00016548', '2023_0117_HD32_01_00016549', '2023_0117_HD32_01_00016550', '2023_0117_HD32_01_00016551', '2023_0117_HD32_01_00016552', '2023_0117_HD32_01_00016553', '2023_0117_HD32_01_00016554', '2023_0117_HD32_01_00016555', '2023_0117_HD32_01_00016556', '2023_0117_HD32_01_00016557', '2023_0117_HD32_01_00016558', '2023_0117_HD32_01_00016559', '2023_0117_HD32_01_00016560', '2023_0117_HD32_01_00016561', '2023_0117_HD32_01_00016562', '2023_0117_HD32_01_00016563', '2023_0117_HD32_01_00016564', '2023_0117_HD32_01_00016565', '2023_0117_HD32_01_00016566', '2023_0117_HD32_01_00016567', '2023_0117_HD32_01_00016568', '2023_0117_HD32_01_00016569', '2023_0117_HD32_01_00016570', '2023_0117_HD32_01_00016571', '2023_0117_HD32_01_00016572', '2023_0117_HD32_01_00016573', '2023_0117_HD32_01_00016574', '2023_0117_HD32_01_00016575', '2023_0117_HD32_01_00016576', '2023_0117_HD32_01_00016577', '2023_0117_HD32_01_00016578', '2023_0117_HD32_01_00016579', '2023_0117_HD32_01_00016580', '2023_0117_HD32_01_00016581', '2023_0117_HD32_01_00016582', '2023_0117_HD32_01_00016583', '2023_0117_HD32_01_00016584', '2023_0117_HD32_01_00016585', '2023_0117_HD32_01_00016586', '2023_0117_HD32_01_00016587', '2023_0117_HD32_01_00016588', '2023_0117_HD32_01_00016589', '2023_0117_HD32_01_00016590', '2023_0117_HD32_01_00016591', '2023_0117_HD32_01_00016592', '2023_0117_HD32_01_00016593', '2023_0117_HD32_01_00016594', '2023_0117_HD32_01_00016595', '2023_0117_HD32_01_00016596', '2023_0117_HD32_01_00016597', '2023_0117_HD32_01_00016598', '2023_0117_HD32_01_00016599', '2023_0117_HD32_01_00016600', '2023_0117_HD32_01_00016601', '2023_0117_HD32_01_00016602', '2023_0117_HD32_01_00016603', '2023_0117_HD32_01_00016604', '2023_0117_HD32_01_00016605', '2023_0117_HD32_01_00016606', '2023_0117_HD32_01_00016607', '2023_0117_HD32_01_00016608', '2023_0117_HD32_01_00016609', '2023_0117_HD32_01_00016610', '2023_0117_HD32_01_00016611', '2023_0117_HD32_01_00016612', '2023_0117_HD32_01_00016613', '2023_0117_HD32_01_00016614', '2023_0117_HD32_01_00016615', '2023_0117_HD32_01_00016616', '2023_0117_HD32_01_00016617', '2023_0117_HD32_01_00016618', '2023_0117_HD32_01_00016619', '2023_0117_HD32_01_00016620', '2023_0117_HD32_01_00016621', '2023_0117_HD32_01_00016622', '2023_0117_HD32_01_00016623', '2023_0117_HD32_01_00016624', '2023_0117_HD32_01_00016625', '2023_0117_HD32_01_00016626', '2023_0117_HD32_01_00016627', '2023_0117_HD32_01_00016628', '2023_0117_HD32_01_00016629', '2023_0117_HD32_01_00016630', '2023_0117_HD32_01_00016631', '2023_0117_HD32_01_00016632', '2023_0117_HD32_01_00016633', '2023_0117_HD32_01_00016634', '2023_0117_HD32_01_00016635', '2023_0117_HD32_01_00016636', '2023_0117_HD32_01_00016637', '2023_0117_HD32_01_00016638', '2023_0117_HD32_01_00016639', '2023_0117_HD32_01_00016640', '2023_0117_HD32_01_00016641', '2023_0117_HD32_01_00016642', '2023_0117_HD32_01_00016643', '2023_0117_HD32_01_00016644', '2023_0117_HD32_01_00016645', '2023_0117_HD32_01_00016646', '2023_0117_HD32_01_00016647', '2023_0117_HD32_01_00016648', '2023_0117_HD32_01_00016649', '2023_0117_HD32_01_00016650', '2023_0117_HD32_01_00016651', '2023_0117_HD32_01_00016652', '2023_0117_HD32_01_00016653', '2023_0117_HD32_01_00016654', '2023_0117_HD32_01_00016655', '2023_0117_HD32_01_00016656', '2023_0117_HD32_01_00016657', '2023_0117_HD32_01_00016658', '2023_0117_HD32_01_00016659', '2023_0117_HD32_01_00016660', '2023_0117_HD32_01_00016661', '2023_0117_HD32_01_00016662', '2023_0117_HD32_01_00016663', '2023_0117_HD32_01_00016664', '2023_0117_HD32_01_00016665', '2023_0117_HD32_01_00016666', '2023_0117_HD32_01_00016667', '2023_0117_HD32_01_00016668', '2023_0117_HD32_01_00016669', '2023_0117_HD32_01_00016670', '2023_0117_HD32_01_00016671', '2023_0117_HD32_01_00016672', '2023_0117_HD32_01_00016673', '2023_0117_HD32_01_00016674', '2023_0117_HD32_01_00016675', '2023_0117_HD32_01_00016676', '2023_0117_HD32_01_00016677', '2023_0117_HD32_01_00016678', '2023_0117_HD32_01_00016679', '2023_0117_HD32_01_00016680', '2023_0117_HD32_01_00016681', '2023_0117_HD32_01_00016682', '2023_0117_HD32_01_00016683', '2023_0117_HD32_01_00016684', '2023_0117_HD32_01_00016685', '2023_0117_HD32_01_00016686', '2023_0117_HD32_01_00016687', '2023_0117_HD32_01_00016688', '2023_0117_HD32_01_00016689', '2023_0117_HD32_01_00016690', '2023_0117_HD32_01_00016691', '2023_0117_HD32_01_00016692', '2023_0117_HD32_01_00016693', '2023_0117_HD32_01_00016694', '2023_0117_HD32_01_00016695', '2023_0117_HD32_01_00016696', '2023_0117_HD32_01_00016697', '2023_0117_HD32_01_00016698', '2023_0117_HD32_01_00016699', '2023_0117_HD32_01_00016700', '2023_0117_HD32_01_00016701', '2023_0117_HD32_01_00016702', '2023_0117_HD32_01_00016703', '2023_0117_HD32_01_00016704', '2023_0117_HD32_01_00016705', '2023_0117_HD32_01_00016706', '2023_0117_HD32_01_00016707', '2023_0117_HD32_01_00016708', '2023_0117_HD32_01_00016709', '2023_0117_HD32_01_00016710', '2023_0117_HD32_01_00016711', '2023_0117_HD32_01_00016712', '2023_0117_HD32_01_00016713', '2023_0117_HD32_01_00016714', '2023_0117_HD32_01_00016715', '2023_0117_HD32_01_00016716', '2023_0117_HD32_01_00016717', '2023_0117_HD32_01_00016718', '2023_0117_HD32_01_00016719', '2023_0117_HD32_01_00016720', '2023_0117_HD32_01_00016721', '2023_0117_HD32_01_00016722', '2023_0117_HD32_01_00016723', '2023_0117_HD32_01_00016724', '2023_0117_HD32_01_00016725', '2023_0117_HD32_01_00016726', '2023_0117_HD32_01_00016727', '2023_0117_HD32_01_00016728', '2023_0117_HD32_01_00016729', '2023_0117_HD32_01_00016730', '2023_0117_HD32_01_00016731', '2023_0117_HD32_01_00016732', '2023_0117_HD32_01_00016733', '2023_0117_HD32_01_00016734', '2023_0117_HD32_01_00016735', '2023_0117_HD32_01_00016736', '2023_0117_HD32_01_00016737', '2023_0117_HD32_01_00016738', '2023_0117_HD32_01_00016739', '2023_0117_HD32_01_00016740', '2023_0117_HD32_01_00016741', '2023_0117_HD32_01_00016742', '2023_0117_HD32_01_00016743', '2023_0117_HD32_01_00016744', '2023_0117_HD32_01_00016745', '2023_0117_HD32_01_00016746', '2023_0117_HD32_01_00016747', '2023_0117_HD32_01_00016748', '2023_0117_HD32_01_00016749', '2023_0117_HD32_01_00016750', '2023_0117_HD32_01_00016751', '2023_0117_HD32_01_00016752', '2023_0117_HD32_01_00016753', '2023_0117_HD32_01_00016754', '2023_0117_HD32_01_00016755', '2023_0117_HD32_01_00016756', '2023_0117_HD32_01_00016757', '2023_0117_HD32_01_00016758', '2023_0117_HD32_01_00016759', '2023_0117_HD32_01_00016760', '2023_0117_HD32_01_00016761', '2023_0117_HD32_01_00016762', '2023_0117_HD32_01_00016763', '2023_0117_HD32_01_00016764', '2023_0117_HD32_01_00016765', '2023_0117_HD32_01_00016766', '2023_0117_HD32_01_00016767', '2023_0117_HD32_01_00016768', '2023_0117_HD32_01_00016769', '2023_0117_HD32_01_00016770', '2023_0117_HD32_01_00016771', '2023_0117_HD32_01_00016772', '2023_0117_HD32_01_00016773', '2023_0117_HD32_01_00016774', '2023_0117_HD32_01_00016775', '2023_0117_HD32_01_00016776', '2023_0117_HD32_01_00016777', '2023_0117_HD32_01_00016778', '2023_0117_HD32_01_00016779', '2023_0117_HD32_01_00016780', '2023_0117_HD32_01_00016781', '2023_0117_HD32_01_00016782', '2023_0117_HD32_01_00016783', '2023_0117_HD32_01_00016784', '2023_0117_HD32_01_00016785', '2023_0117_HD32_01_00016786', '2023_0117_HD32_01_00016787', '2023_0117_HD32_01_00016788', '2023_0117_HD32_01_00016789', '2023_0117_HD32_01_00016790', '2023_0117_HD32_01_00016791', '2023_0117_HD32_01_00016792', '2023_0117_HD32_01_00016793', '2023_0117_HD32_01_00016794', '2023_0117_HD32_01_00016795', '2023_0117_HD32_01_00016796', '2023_0117_HD32_01_00016797', '2023_0117_HD32_01_00016798', '2023_0117_HD32_01_00016799', '2023_0117_HD32_01_00016800', '2023_0117_HD32_01_00016801', '2023_0117_HD32_01_00016802', '2023_0117_HD32_01_00016803', '2023_0117_HD32_01_00016804', '2023_0117_HD32_01_00016805', '2023_0117_HD32_01_00016806', '2023_0117_HD32_01_00016807', '2023_0117_HD32_01_00016808', '2023_0117_HD32_01_00016809', '2023_0117_HD32_01_00016810', '2023_0117_HD32_01_00016811', '2023_0117_HD32_01_00016812', '2023_0117_HD32_01_00016813', '2023_0117_HD32_01_00016814', '2023_0117_HD32_01_00016815', '2023_0117_HD32_01_00016816', '2023_0117_HD32_01_00016817', '2023_0117_HD32_01_00016818', '2023_0117_HD32_01_00016819', '2023_0117_HD32_01_00016820', '2023_0117_HD32_01_00016821', '2023_0117_HD32_01_00016822', '2023_0117_HD32_01_00016823', '2023_0117_HD32_01_00016824', '2023_0117_HD32_01_00016825', '2023_0117_HD32_01_00016826', '2023_0117_HD32_01_00016827', '2023_0117_HD32_01_00016828', '2023_0117_HD32_01_00016829', '2023_0117_HD32_01_00016830', '2023_0117_HD32_01_00016831', '2023_0117_HD32_01_00016832', '2023_0117_HD32_01_00016833', '2023_0117_HD32_01_00016834', '2023_0117_HD32_01_00016835', '2023_0117_HD32_01_00016836', '2023_0117_HD32_01_00016837', '2023_0117_HD32_01_00016838', '2023_0117_HD32_01_00016839', '2023_0117_HD32_01_00016840', '2023_0117_HD32_01_00016841', '2023_0117_HD32_01_00016842', '2023_0117_HD32_01_00016843', '2023_0117_HD32_01_00016844', '2023_0117_HD32_01_00016845', '2023_0117_HD32_01_00016846', '2023_0117_HD32_01_00016847', '2023_0117_HD32_01_00016848', '2023_0117_HD32_01_00016849', '2023_0117_HD32_01_00016850', '2023_0117_HD32_01_00016851', '2023_0117_HD32_01_00016852', '2023_0117_HD32_01_00016853', '2023_0117_HD32_01_00016854', '2023_0117_HD32_01_00016855', '2023_0117_HD32_01_00016856', '2023_0117_HD32_01_00016857', '2023_0117_HD32_01_00016858', '2023_0117_HD32_01_00016859', '2023_0117_HD32_01_00016860', '2023_0117_HD32_01_00016861', '2023_0117_HD32_01_00016862', '2023_0117_HD32_01_00016863', '2023_0117_HD32_01_00016864', '2023_0117_HD32_01_00016865', '2023_0117_HD32_01_00016866', '2023_0117_HD32_01_00016867', '2023_0117_HD32_01_00016868', '2023_0117_HD32_01_00016869', '2023_0117_HD32_01_00016870', '2023_0117_HD32_01_00016871', '2023_0117_HD32_01_00016872', '2023_0117_HD32_01_00016873', '2023_0117_HD32_01_00016874', '2023_0117_HD32_01_00016875', '2023_0117_HD32_01_00016876', '2023_0117_HD32_01_00016877', '2023_0117_HD32_01_00016878', '2023_0117_HD32_01_00016879', '2023_0117_HD32_01_00016880', '2023_0117_HD32_01_00016881', '2023_0117_HD32_01_00016882', '2023_0117_HD32_01_00016883', '2023_0117_HD32_01_00016884', '2023_0117_HD32_01_00016885', '2023_0117_HD32_01_00016886', '2023_0117_HD32_01_00016887', '2023_0117_HD32_01_00016888', '2023_0117_HD32_01_00016889', '2023_0117_HD32_01_00016890', '2023_0117_HD32_01_00016891', '2023_0117_HD32_01_00016892', '2023_0117_HD32_01_00016893', '2023_0117_HD32_01_00016894', '2023_0117_HD32_01_00016895', '2023_0117_HD32_01_00016896', '2023_0117_HD32_01_00016897', '2023_0117_HD32_01_00016898', '2023_0117_HD32_01_00016899', '2023_0117_HD32_01_00016900', '2023_0117_HD32_01_00016901', '2023_0117_HD32_01_00016902', '2023_0117_HD32_01_00016903', '2023_0117_HD32_01_00016904', '2023_0117_HD32_01_00016905', '2023_0117_HD32_01_00016906', '2023_0117_HD32_01_00016907', '2023_0117_HD32_01_00016908', '2023_0117_HD32_01_00016909', '2023_0117_HD32_01_00016910', '2023_0117_HD32_01_00016911', '2023_0117_HD32_01_00016912', '2023_0117_HD32_01_00016913', '2023_0117_HD32_01_00016914', '2023_0117_HD32_01_00016915', '2023_0117_HD32_01_00016916', '2023_0117_HD32_01_00016917', '2023_0117_HD32_01_00016918', '2023_0117_HD32_01_00016919', '2023_0117_HD32_01_00016920', '2023_0117_HD32_01_00016921', '2023_0117_HD32_01_00016922', '2023_0117_HD32_01_00016923', '2023_0117_HD32_01_00016924', '2023_0117_HD32_01_00016925', '2023_0117_HD32_01_00016926', '2023_0117_HD32_01_00016927', '2023_0117_HD32_01_00016928', '2023_0117_HD32_01_00016929', '2023_0117_HD32_01_00016930', '2023_0117_HD32_01_00016931', '2023_0117_HD32_01_00016932', '2023_0117_HD32_01_00016933', '2023_0117_HD32_01_00016934', '2023_0117_HD32_01_00016935', '2023_0117_HD32_01_00016936', '2023_0117_HD32_01_00016937', '2023_0117_HD32_01_00016938', '2023_0117_HD32_01_00016939', '2023_0117_HD32_01_00016940', '2023_0117_HD32_01_00016941', '2023_0117_HD32_01_00016942', '2023_0117_HD32_01_00016943', '2023_0117_HD32_01_00016944', '2023_0117_HD32_01_00016945', '2023_0117_HD32_01_00016946', '2023_0117_HD32_01_00016947', '2023_0117_HD32_01_00016948', '2023_0117_HD32_01_00016949', '2023_0117_HD32_01_00016950', '2023_0117_HD32_01_00016951', '2023_0117_HD32_01_00016952', '2023_0117_HD32_01_00016953', '2023_0117_HD32_01_00016954', '2023_0117_HD32_01_00016955', '2023_0117_HD32_01_00016956', '2023_0117_HD32_01_00016957', '2023_0117_HD32_01_00016958', '2023_0117_HD32_01_00016959', '2023_0117_HD32_01_00016960', '2023_0117_HD32_01_00016961', '2023_0117_HD32_01_00016962', '2023_0117_HD32_01_00016963', '2023_0117_HD32_01_00016964', '2023_0117_HD32_01_00016965', '2023_0117_HD32_01_00016966', '2023_0117_HD32_01_00016967', '2023_0117_HD32_01_00016968', '2023_0117_HD32_01_00016969', '2023_0117_HD32_01_00016970', '2023_0117_HD32_01_00016971', '2023_0117_HD32_01_00016972', '2023_0117_HD32_01_00016973', '2023_0117_HD32_01_00016974', '2023_0117_HD32_01_00016975', '2023_0117_HD32_01_00016976', '2023_0117_HD32_01_00016977', '2023_0117_HD32_01_00016978', '2023_0117_HD32_01_00016979', '2023_0117_HD32_01_00016980', '2023_0117_HD32_01_00016981', '2023_0117_HD32_01_00016982', '2023_0117_HD32_01_00016983', '2023_0117_HD32_01_00016984', '2023_0117_HD32_01_00016985', '2023_0117_HD32_01_00016986', '2023_0117_HD32_01_00016987', '2023_0117_HD32_01_00016988', '2023_0117_HD32_01_00016989', '2023_0117_HD32_01_00016990', '2023_0117_HD32_01_00016991', '2023_0117_HD32_01_00016992', '2023_0117_HD32_01_00016993', '2023_0117_HD32_01_00016994', '2023_0117_HD32_01_00016995', '2023_0117_HD32_01_00016996', '2023_0117_HD32_01_00016997', '2023_0117_HD32_01_00016998', '2023_0117_HD32_01_00016999', '2023_0117_HD32_01_00017000', '2023_0117_HD32_01_00017001', '2023_0117_HD32_01_00017002', '2023_0117_HD32_01_00017003', '2023_0117_HD32_01_00017004', '2023_0117_HD32_01_00017005', '2023_0117_HD32_01_00017006', '2023_0117_HD32_01_00017007', '2023_0117_HD32_01_00017008', '2023_0117_HD32_01_00017009', '2023_0117_HD32_01_00017010', '2023_0117_HD32_01_00017011', '2023_0117_HD32_01_00017012', '2023_0117_HD32_01_00017013', '2023_0117_HD32_01_00017014', '2023_0117_HD32_01_00017015', '2023_0117_HD32_01_00017016', '2023_0117_HD32_01_00017017', '2023_0117_HD32_01_00017018', '2023_0117_HD32_01_00017019', '2023_0117_HD32_01_00017020', '2023_0117_HD32_01_00017021', '2023_0117_HD32_01_00017022', '2023_0117_HD32_01_00017023', '2023_0117_HD32_01_00017024', '2023_0117_HD32_01_00017025', '2023_0117_HD32_01_00017026', '2023_0117_HD32_01_00017027', '2023_0117_HD32_01_00017028', '2023_0117_HD32_01_00017029', '2023_0117_HD32_01_00017030', '2023_0117_HD32_01_00017031', '2023_0117_HD32_01_00017032', '2023_0117_HD32_01_00017033', '2023_0117_HD32_01_00017034', '2023_0117_HD32_01_00017035', '2023_0117_HD32_01_00017036', '2023_0117_HD32_01_00017037', '2023_0117_HD32_01_00017038', '2023_0117_HD32_01_00017039', '2023_0117_HD32_01_00017040', '2023_0117_HD32_01_00017041', '2023_0117_HD32_01_00017042', '2023_0117_HD32_01_00017043', '2023_0117_HD32_01_00017044', '2023_0117_HD32_01_00017045', '2023_0117_HD32_01_00017046', '2023_0117_HD32_01_00017047', '2023_0117_HD32_01_00017048', '2023_0117_HD32_01_00017049', '2023_0117_HD32_01_00017050', '2023_0117_HD32_01_00017051', '2023_0117_HD32_01_00017052', '2023_0117_HD32_01_00017053', '2023_0117_HD32_01_00017054', '2023_0117_HD32_01_00017055', '2023_0117_HD32_01_00017056', '2023_0117_HD32_01_00017057', '2023_0117_HD32_01_00017058', '2023_0117_HD32_01_00017059', '2023_0117_HD32_01_00017060', '2023_0117_HD32_01_00017061', '2023_0117_HD32_01_00017062', '2023_0117_HD32_01_00017063', '2023_0117_HD32_01_00017064', '2023_0117_HD32_01_00017065', '2023_0117_HD32_01_00017066', '2023_0117_HD32_01_00017067', '2023_0117_HD32_01_00017068', '2023_0117_HD32_01_00017069', '2023_0117_HD32_01_00017070', '2023_0117_HD32_01_00017071', '2023_0117_HD32_01_00017072', '2023_0117_HD32_01_00017073', '2023_0117_HD32_01_00017074', '2023_0117_HD32_01_00017075', '2023_0117_HD32_01_00017076', '2023_0117_HD32_01_00017077', '2023_0117_HD32_01_00017078', '2023_0117_HD32_01_00017079', '2023_0117_HD32_01_00017080', '2023_0117_HD32_01_00017081', '2023_0117_HD32_01_00017082', '2023_0117_HD32_01_00017083', '2023_0117_HD32_01_00017084', '2023_0117_HD32_01_00017085', '2023_0117_HD32_01_00017086', '2023_0117_HD32_01_00017087', '2023_0117_HD32_01_00017088', '2023_0117_HD32_01_00017089', '2023_0117_HD32_01_00017090', '2023_0117_HD32_01_00017091', '2023_0117_HD32_01_00017092', '2023_0117_HD32_01_00017093', '2023_0117_HD32_01_00017094', '2023_0117_HD32_01_00017095', '2023_0117_HD32_01_00017096', '2023_0117_HD32_01_00017097', '2023_0117_HD32_01_00017098', '2023_0117_HD32_01_00017099', '2023_0117_HD32_01_00017100', '2023_0117_HD32_01_00017101', '2023_0117_HD32_01_00017102', '2023_0117_HD32_01_00017103', '2023_0117_HD32_01_00017104', '2023_0117_HD32_01_00017105', '2023_0117_HD32_01_00017106', '2023_0117_HD32_01_00017107', '2023_0117_HD32_01_00017108', '2023_0117_HD32_01_00017109', '2023_0117_HD32_01_00017110', '2023_0117_HD32_01_00017111', '2023_0117_HD32_01_00017112', '2023_0117_HD32_01_00017113', '2023_0117_HD32_01_00017114', '2023_0117_HD32_01_00017115', '2023_0117_HD32_01_00017116', '2023_0117_HD32_01_00017117', '2023_0117_HD32_01_00017118', '2023_0117_HD32_01_00017119', '2023_0117_HD32_01_00017120', '2023_0117_HD32_01_00017121', '2023_0117_HD32_01_00017122', '2023_0117_HD32_01_00017123', '2023_0117_HD32_01_00017124', '2023_0117_HD32_01_00017125', '2023_0117_HD32_01_00017126', '2023_0117_HD32_01_00017127', '2023_0117_HD32_01_00017128', '2023_0117_HD32_01_00017129', '2023_0117_HD32_01_00017130', '2023_0117_HD32_01_00017131', '2023_0117_HD32_01_00017132', '2023_0117_HD32_01_00017133', '2023_0117_HD32_01_00017134', '2023_0117_HD32_01_00017135', '2023_0117_HD32_01_00017136', '2023_0117_HD32_01_00017137', '2023_0117_HD32_01_00017138', '2023_0117_HD32_01_00017139', '2023_0117_HD32_01_00017140', '2023_0117_HD32_01_00017141', '2023_0117_HD32_01_00017142', '2023_0117_HD32_01_00017143', '2023_0117_HD32_01_00017144', '2023_0117_HD32_01_00017145', '2023_0117_HD32_01_00017146', '2023_0117_HD32_01_00017147', '2023_0117_HD32_01_00017148', '2023_0117_HD32_01_00017149', '2023_0117_HD32_01_00017150', '2023_0117_HD32_01_00017151', '2023_0117_HD32_01_00017152', '2023_0117_HD32_01_00017153', '2023_0117_HD32_01_00017154', '2023_0117_HD32_01_00017155', '2023_0117_HD32_01_00017156', '2023_0117_HD32_01_00017157', '2023_0117_HD32_01_00017158', '2023_0117_HD32_01_00017159', '2023_0117_HD32_01_00017160', '2023_0117_HD32_01_00017161', '2023_0117_HD32_01_00017162', '2023_0117_HD32_01_00017163', '2023_0117_HD32_01_00017164', '2023_0117_HD32_01_00017165', '2023_0117_HD32_01_00017166', '2023_0117_HD32_01_00017167', '2023_0117_HD32_01_00017168', '2023_0117_HD32_01_00017169', '2023_0117_HD32_01_00017170', '2023_0117_HD32_01_00017171', '2023_0117_HD32_01_00017172', '2023_0117_HD32_01_00017173', '2023_0117_HD32_01_00017174', '2023_0117_HD32_01_00017175', '2023_0117_HD32_01_00017176', '2023_0117_HD32_01_00017177', '2023_0117_HD32_01_00017178', '2023_0117_HD32_01_00017179', '2023_0117_HD32_01_00017180', '2023_0117_HD32_01_00017181', '2023_0117_HD32_01_00017182', '2023_0117_HD32_01_00017183', '2023_0117_HD32_01_00017184', '2023_0117_HD32_01_00017185', '2023_0117_HD32_01_00017186', '2023_0117_HD32_01_00017187', '2023_0117_HD32_01_00017188', '2023_0117_HD32_01_00017189', '2023_0117_HD32_01_00017190', '2023_0117_HD32_01_00017191', '2023_0117_HD32_01_00017192', '2023_0117_HD32_01_00017193', '2023_0117_HD32_01_00017194', '2023_0117_HD32_01_00017195', '2023_0117_HD32_01_00017196', '2023_0117_HD32_01_00017197', '2023_0117_HD32_01_00017198', '2023_0117_HD32_01_00017199', '2023_0117_HD32_01_00017200', '2023_0117_HD32_01_00017201', '2023_0117_HD32_01_00017202', '2023_0117_HD32_01_00017203', '2023_0117_HD32_01_00017204', '2023_0117_HD32_01_00017205', '2023_0117_HD32_01_00017206', '2023_0117_HD32_01_00017207', '2023_0117_HD32_01_00017208', '2023_0117_HD32_01_00017209', '2023_0117_HD32_01_00017210', '2023_0117_HD32_01_00017211', '2023_0117_HD32_01_00017212', '2023_0117_HD32_01_00017213', '2023_0117_HD32_01_00017214', '2023_0117_HD32_01_00017215', '2023_0117_HD32_01_00017216', '2023_0117_HD32_01_00017217', '2023_0117_HD32_01_00017218', '2023_0117_HD32_01_00017219', '2023_0117_HD32_01_00017220', '2023_0117_HD32_01_00017221', '2023_0117_HD32_01_00017222', '2023_0117_HD32_01_00017223', '2023_0117_HD32_01_00017224', '2023_0117_HD32_01_00017225', '2023_0117_HD32_01_00017226', '2023_0117_HD32_01_00017227', '2023_0117_HD32_01_00017228', '2023_0117_HD32_01_00017229', '2023_0117_HD32_01_00017230', '2023_0117_HD32_01_00017231', '2023_0117_HD32_01_00017232', '2023_0117_HD32_01_00017233', '2023_0117_HD32_01_00017234', '2023_0117_HD32_01_00017235', '2023_0117_HD32_01_00017236', '2023_0117_HD32_01_00017237', '2023_0117_HD32_01_00017238', '2023_0117_HD32_01_00017239', '2023_0117_HD32_01_00017240', '2023_0117_HD32_01_00017241', '2023_0117_HD32_01_00017242', '2023_0117_HD32_01_00017243', '2023_0117_HD32_01_00017244', '2023_0117_HD32_01_00017245', '2023_0117_HD32_01_00017246', '2023_0117_HD32_01_00017247', '2023_0117_HD32_01_00017248', '2023_0117_HD32_01_00017249', '2023_0117_HD32_01_00017250', '2023_0117_HD32_01_00017251', '2023_0117_HD32_01_00017252', '2023_0117_HD32_01_00017253', '2023_0117_HD32_01_00017254', '2023_0117_HD32_01_00017255', '2023_0117_HD32_01_00017256', '2023_0117_HD32_01_00017257', '2023_0117_HD32_01_00017258', '2023_0117_HD32_01_00017259', '2023_0117_HD32_01_00017260', '2023_0117_HD32_01_00017261', '2023_0117_HD32_01_00017262', '2023_0117_HD32_01_00017263', '2023_0117_HD32_01_00017264', '2023_0117_HD32_01_00017265', '2023_0117_HD32_01_00017266', '2023_0117_HD32_01_00017267', '2023_0117_HD32_01_00017268', '2023_0117_HD32_01_00017269', '2023_0117_HD32_01_00017270', '2023_0117_HD32_01_00017271', '2023_0117_HD32_01_00017272', '2023_0117_HD32_01_00017273', '2023_0117_HD32_01_00017274', '2023_0117_HD32_01_00017275', '2023_0117_HD32_01_00017276', '2023_0117_HD32_01_00017277', '2023_0117_HD32_01_00017278', '2023_0117_HD32_01_00017279', '2023_0117_HD32_01_00017280', '2023_0117_HD32_01_00017281', '2023_0117_HD32_01_00017282', '2023_0117_HD32_01_00017283', '2023_0117_HD32_01_00017284', '2023_0117_HD32_01_00017285', '2023_0117_HD32_01_00017286', '2023_0117_HD32_01_00017287', '2023_0117_HD32_01_00017288', '2023_0117_HD32_01_00017289', '2023_0117_HD32_01_00017290', '2023_0117_HD32_01_00017291', '2023_0117_HD32_01_00017292', '2023_0117_HD32_01_00017293', '2023_0117_HD32_01_00017294', '2023_0117_HD32_01_00017295', '2023_0117_HD32_01_00017296', '2023_0117_HD32_01_00017297', '2023_0117_HD32_01_00017298', '2023_0117_HD32_01_00017299', '2023_0117_HD32_01_00017300', '2023_0117_HD32_01_00017301', '2023_0117_HD32_01_00017302', '2023_0117_HD32_01_00017303', '2023_0117_HD32_01_00017304', '2023_0117_HD32_01_00017305', '2023_0117_HD32_01_00017306', '2023_0117_HD32_01_00017307', '2023_0117_HD32_01_00017308', '2023_0117_HD32_01_00017309', '2023_0117_HD32_01_00017310', '2023_0117_HD32_01_00017311', '2023_0117_HD32_01_00017312', '2023_0117_HD32_01_00017313', '2023_0117_HD32_01_00017314', '2023_0117_HD32_01_00017315', '2023_0117_HD32_01_00017316', '2023_0117_HD32_01_00017317', '2023_0117_HD32_01_00017318', '2023_0117_HD32_01_00017319', '2023_0117_HD32_01_00017320', '2023_0117_HD32_01_00017321', '2023_0117_HD32_01_00017322', '2023_0117_HD32_01_00017323', '2023_0117_HD32_01_00017324', '2023_0117_HD32_01_00017325', '2023_0117_HD32_01_00017326', '2023_0117_HD32_01_00017327', '2023_0117_HD32_01_00017328', '2023_0117_HD32_01_00017329', '2023_0117_HD32_01_00017330', '2023_0117_HD32_01_00017331', '2023_0117_HD32_01_00017332', '2023_0117_HD32_01_00017333', '2023_0117_HD32_01_00017334', '2023_0117_HD32_01_00017335', '2023_0117_HD32_01_00017336', '2023_0117_HD32_01_00017337', '2023_0117_HD32_01_00017338', '2023_0117_HD32_01_00017339', '2023_0117_HD32_01_00017340', '2023_0117_HD32_01_00017341', '2023_0117_HD32_01_00017342', '2023_0117_HD32_01_00017343', '2023_0117_HD32_01_00017344', '2023_0117_HD32_01_00017345', '2023_0117_HD32_01_00017346', '2023_0117_HD32_01_00017347', '2023_0117_HD32_01_00017348', '2023_0117_HD32_01_00017349', '2023_0117_HD32_01_00017350', '2023_0117_HD32_01_00017351', '2023_0117_HD32_01_00017352', '2023_0117_HD32_01_00017353', '2023_0117_HD32_01_00017354', '2023_0117_HD32_01_00017355', '2023_0117_HD32_01_00017356', '2023_0117_HD32_01_00017357', '2023_0117_HD32_01_00017358', '2023_0117_HD32_01_00017359', '2023_0117_HD32_01_00017360', '2023_0117_HD32_01_00017361', '2023_0117_HD32_01_00017362', '2023_0117_HD32_01_00017363', '2023_0117_HD32_01_00017364', '2023_0117_HD32_01_00017365', '2023_0117_HD32_01_00017366', '2023_0117_HD32_01_00017367', '2023_0117_HD32_01_00017368', '2023_0117_HD32_01_00017369', '2023_0117_HD32_01_00017370', '2023_0117_HD32_01_00017371', '2023_0117_HD32_01_00017372', '2023_0117_HD32_01_00017373', '2023_0117_HD32_01_00017374', '2023_0117_HD32_01_00017375', '2023_0117_HD32_01_00017376', '2023_0117_HD32_01_00017377', '2023_0117_HD32_01_00017378', '2023_0117_HD32_01_00017379', '2023_0117_HD32_01_00017380', '2023_0117_HD32_01_00017381', '2023_0117_HD32_01_00017382', '2023_0117_HD32_01_00017383', '2023_0117_HD32_01_00017384', '2023_0117_HD32_01_00017385', '2023_0117_HD32_01_00017386', '2023_0117_HD32_01_00017387', '2023_0117_HD32_01_00017388', '2023_0117_HD32_01_00017389', '2023_0117_HD32_01_00017390', '2023_0117_HD32_01_00017391', '2023_0117_HD32_01_00017392', '2023_0117_HD32_01_00017393', '2023_0117_HD32_01_00017394', '2023_0117_HD32_01_00017395', '2023_0117_HD32_01_00017396', '2023_0117_HD32_01_00017397', '2023_0117_HD32_01_00017398', '2023_0117_HD32_01_00017399', '2023_0117_HD32_01_00017400', '2023_0117_HD32_01_00017401', '2023_0117_HD32_01_00017402', '2023_0117_HD32_01_00017403', '2023_0117_HD32_01_00017404', '2023_0117_HD32_01_00017405', '2023_0117_HD32_01_00017406', '2023_0117_HD32_01_00017407', '2023_0117_HD32_01_00017408', '2023_0117_HD32_01_00017409', '2023_0117_HD32_01_00017410', '2023_0117_HD32_01_00017411', '2023_0117_HD32_01_00017412', '2023_0117_HD32_01_00017413', '2023_0117_HD32_01_00017414', '2023_0117_HD32_01_00017415', '2023_0117_HD32_01_00017416', '2023_0117_HD32_01_00017417', '2023_0117_HD32_01_00017418', '2023_0117_HD32_01_00017419', '2023_0117_HD32_01_00017420', '2023_0117_HD32_01_00017421', '2023_0117_HD32_01_00017422', '2023_0117_HD32_01_00017423', '2023_0117_HD32_01_00017424', '2023_0117_HD32_01_00017425', '2023_0117_HD32_01_00017426', '2023_0117_HD32_01_00017427', '2023_0117_HD32_01_00017428', '2023_0117_HD32_01_00017429', '2023_0117_HD32_01_00017430', '2023_0117_HD32_01_00017431', '2023_0117_HD32_01_00017432', '2023_0117_HD32_01_00017433', '2023_0117_HD32_01_00017434', '2023_0117_HD32_01_00017435', '2023_0117_HD32_01_00017436', '2023_0117_HD32_01_00017437', '2023_0117_HD32_01_00017438', '2023_0117_HD32_01_00017439', '2023_0117_HD32_01_00017440', '2023_0117_HD32_01_00017441', '2023_0117_HD32_01_00017442', '2023_0117_HD32_01_00017443', '2023_0117_HD32_01_00017444', '2023_0117_HD32_01_00017445', '2023_0117_HD32_01_00017446', '2023_0117_HD32_01_00017447', '2023_0117_HD32_01_00017448', '2023_0117_HD32_01_00017449', '2023_0117_HD32_01_00017450', '2023_0117_HD32_01_00017451', '2023_0117_HD32_01_00017452', '2023_0117_HD32_01_00017453', '2023_0117_HD32_01_00017454', '2023_0117_HD32_01_00017455', '2023_0117_HD32_01_00017456', '2023_0117_HD32_01_00017457', '2023_0117_HD32_01_00017458', '2023_0117_HD32_01_00017459', '2023_0117_HD32_01_00017460', '2023_0117_HD32_01_00017461', '2023_0117_HD32_01_00017462', '2023_0117_HD32_01_00017463', '2023_0117_HD32_01_00017464', '2023_0117_HD32_01_00017465', '2023_0117_HD32_01_00017466', '2023_0117_HD32_01_00017467', '2023_0117_HD32_01_00017468', '2023_0117_HD32_01_00017469', '2023_0117_HD32_01_00017470', '2023_0117_HD32_01_00017471', '2023_0117_HD32_01_00017472', '2023_0117_HD32_01_00017473', '2023_0117_HD32_01_00017474', '2023_0117_HD32_01_00017475', '2023_0117_HD32_01_00017476', '2023_0117_HD32_01_00017477', '2023_0117_HD32_01_00017478', '2023_0117_HD32_01_00017479', '2023_0117_HD32_01_00017480', '2023_0117_HD32_01_00017481', '2023_0117_HD32_01_00017482', '2023_0117_HD32_01_00017483', '2023_0117_HD32_01_00017484', '2023_0117_HD32_01_00017485', '2023_0117_HD32_01_00017486', '2023_0117_HD32_01_00017487', '2023_0117_HD32_01_00017488', '2023_0117_HD32_01_00017489', '2023_0117_HD32_01_00017490', '2023_0117_HD32_01_00017491', '2023_0117_HD32_01_00017492', '2023_0117_HD32_01_00017493', '2023_0117_HD32_01_00017494', '2023_0117_HD32_01_00017495', '2023_0117_HD32_01_00017496', '2023_0117_HD32_01_00017497', '2023_0117_HD32_01_00017498', '2023_0117_HD32_01_00017499', '2023_0117_HD32_01_00017500', '2023_0117_HD32_01_00017501', '2023_0117_HD32_01_00017502', '2023_0117_HD32_01_00017503', '2023_0117_HD32_01_00017504', '2023_0117_HD32_01_00017505', '2023_0117_HD32_01_00017506', '2023_0117_HD32_01_00017507', '2023_0117_HD32_01_00017508', '2023_0117_HD32_01_00017509', '2023_0117_HD32_01_00017510', '2023_0117_HD32_01_00017511', '2023_0117_HD32_01_00017512', '2023_0117_HD32_01_00017513', '2023_0117_HD32_01_00017514', '2023_0117_HD32_01_00017515', '2023_0117_HD32_01_00017516', '2023_0117_HD32_01_00017517', '2023_0117_HD32_01_00017518', '2023_0117_HD32_01_00017519', '2023_0117_HD32_01_00017520', '2023_0117_HD32_01_00017521', '2023_0117_HD32_01_00017522', '2023_0117_HD32_01_00017523', '2023_0117_HD32_01_00017524', '2023_0117_HD32_01_00017525', '2023_0117_HD32_01_00017526', '2023_0117_HD32_01_00017527', '2023_0117_HD32_01_00017528', '2023_0117_HD32_01_00017529', '2023_0117_HD32_01_00017530', '2023_0117_HD32_01_00017531', '2023_0117_HD32_01_00017532', '2023_0117_HD32_01_00017533', '2023_0117_HD32_01_00017534', '2023_0117_HD32_01_00017535', '2023_0117_HD32_01_00017536', '2023_0117_HD32_01_00017537', '2023_0117_HD32_01_00017538', '2023_0117_HD32_01_00017539', '2023_0117_HD32_01_00017540', '2023_0117_HD32_01_00017541', '2023_0117_HD32_01_00017542', '2023_0117_HD32_01_00017543', '2023_0117_HD32_01_00017544', '2023_0117_HD32_01_00017545', '2023_0117_HD32_01_00017546', '2023_0117_HD32_01_00017547', '2023_0117_HD32_01_00017548', '2023_0117_HD32_01_00017549', '2023_0117_HD32_01_00017550', '2023_0117_HD32_01_00017551', '2023_0117_HD32_01_00017552', '2023_0117_HD32_01_00017553', '2023_0117_HD32_01_00017554', '2023_0117_HD32_01_00017555', '2023_0117_HD32_01_00017556', '2023_0117_HD32_01_00017557', '2023_0117_HD32_01_00017558', '2023_0117_HD32_01_00017559', '2023_0117_HD32_01_00017560', '2023_0117_HD32_01_00017561', '2023_0117_HD32_01_00017562', '2023_0117_HD32_01_00017563', '2023_0117_HD32_01_00017564', '2023_0117_HD32_01_00017565', '2023_0117_HD32_01_00017566', '2023_0117_HD32_01_00017567', '2023_0117_HD32_01_00017568', '2023_0117_HD32_01_00017569', '2023_0117_HD32_01_00017570', '2023_0117_HD32_01_00017571', '2023_0117_HD32_01_00017572', '2023_0117_HD32_01_00017573', '2023_0117_HD32_01_00017574', '2023_0117_HD32_01_00017575', '2023_0117_HD32_01_00017576', '2023_0117_HD32_01_00017577', '2023_0117_HD32_01_00017578', '2023_0117_HD32_01_00017579', '2023_0117_HD32_01_00017580', '2023_0117_HD32_01_00017581', '2023_0117_HD32_01_00017582', '2023_0117_HD32_01_00017583', '2023_0117_HD32_01_00017584', '2023_0117_HD32_01_00017585', '2023_0117_HD32_01_00017586', '2023_0117_HD32_01_00017587', '2023_0117_HD32_01_00017588', '2023_0117_HD32_01_00017589', '2023_0117_HD32_01_00017590', '2023_0117_HD32_01_00017591', '2023_0117_HD32_01_00017592', '2023_0117_HD32_01_00017593', '2023_0117_HD32_01_00017594', '2023_0117_HD32_01_00017595', '2023_0117_HD32_01_00017596', '2023_0117_HD32_01_00017597', '2023_0117_HD32_01_00017598', '2023_0117_HD32_01_00017599', '2023_0117_HD32_01_00017600', '2023_0117_HD32_01_00017601', '2023_0117_HD32_01_00017602', '2023_0117_HD32_01_00017603', '2023_0117_HD32_01_00017604', '2023_0117_HD32_01_00017605', '2023_0117_HD32_01_00017606', '2023_0117_HD32_01_00017607', '2023_0117_HD32_01_00017608', '2023_0117_HD32_01_00017609', '2023_0117_HD32_01_00017610', '2023_0117_HD32_01_00017611', '2023_0117_HD32_01_00017612', '2023_0117_HD32_01_00017613', '2023_0117_HD32_01_00017614', '2023_0117_HD32_01_00017615', '2023_0117_HD32_01_00017616', '2023_0117_HD32_01_00017617', '2023_0117_HD32_01_00017618', '2023_0117_HD32_01_00017619', '2023_0117_HD32_01_00017620', '2023_0117_HD32_01_00017621', '2023_0117_HD32_01_00017622', '2023_0117_HD32_01_00017623', '2023_0117_HD32_01_00017624', '2023_0117_HD32_01_00017625', '2023_0117_HD32_01_00017626', '2023_0117_HD32_01_00017627', '2023_0117_HD32_01_00017628', '2023_0117_HD32_01_00017629', '2023_0117_HD32_01_00017630', '2023_0117_HD32_01_00017631', '2023_0117_HD32_01_00017632', '2023_0117_HD32_01_00017633', '2023_0117_HD32_01_00017634', '2023_0117_HD32_01_00017635', '2023_0117_HD32_01_00017636', '2023_0117_HD32_01_00017637', '2023_0117_HD32_01_00017638', '2023_0117_HD32_01_00017639', '2023_0117_HD32_01_00017640', '2023_0117_HD32_01_00017641', '2023_0117_HD32_01_00017642', '2023_0117_HD32_01_00017643', '2023_0117_HD32_01_00017644', '2023_0117_HD32_01_00017645', '2023_0117_HD32_01_00017646', '2023_0117_HD32_01_00017647', '2023_0117_HD32_01_00017648', '2023_0117_HD32_01_00017649', '2023_0117_HD32_01_00017650', '2023_0117_HD32_01_00017651', '2023_0117_HD32_01_00017652', '2023_0117_HD32_01_00017653', '2023_0117_HD32_01_00017654', '2023_0117_HD32_01_00017655', '2023_0117_HD32_01_00017656', '2023_0117_HD32_01_00017657', '2023_0117_HD32_01_00017658', '2023_0117_HD32_01_00017659', '2023_0117_HD32_01_00017660', '2023_0117_HD32_01_00017661', '2023_0117_HD32_01_00017662', '2023_0117_HD32_01_00017663', '2023_0117_HD32_01_00017664', '2023_0117_HD32_01_00017665', '2023_0117_HD32_01_00017666', '2023_0117_HD32_01_00017667', '2023_0117_HD32_01_00017668', '2023_0117_HD32_01_00017669', '2023_0117_HD32_01_00017670', '2023_0117_HD32_01_00017671', '2023_0117_HD32_01_00017672', '2023_0117_HD32_01_00017673', '2023_0117_HD32_01_00017674', '2023_0117_HD32_01_00017675', '2023_0117_HD32_01_00017676', '2023_0117_HD32_01_00017677', '2023_0117_HD32_01_00017678', '2023_0117_HD32_01_00017679', '2023_0117_HD32_01_00017680', '2023_0117_HD32_01_00017681', '2023_0117_HD32_01_00017682', '2023_0117_HD32_01_00017683', '2023_0117_HD32_01_00017684', '2023_0117_HD32_01_00017685', '2023_0117_HD32_01_00017686', '2023_0117_HD32_01_00017687', '2023_0117_HD32_01_00017688', '2023_0117_HD32_01_00017689', '2023_0117_HD32_01_00017690', '2023_0117_HD32_01_00017691', '2023_0117_HD32_01_00017692', '2023_0117_HD32_01_00017693', '2023_0117_HD32_01_00017694', '2023_0117_HD32_01_00017695', '2023_0117_HD32_01_00017696', '2023_0117_HD32_01_00017697', '2023_0117_HD32_01_00017698', '2023_0117_HD32_01_00017699', '2023_0117_HD32_01_00017700', '2023_0117_HD32_01_00017701', '2023_0117_HD32_01_00017702', '2023_0117_HD32_01_00017703', '2023_0117_HD32_01_00017704', '2023_0117_HD32_01_00017705', '2023_0117_HD32_01_00017706', '2023_0117_HD32_01_00017707', '2023_0117_HD32_01_00017708', '2023_0117_HD32_01_00017709', '2023_0117_HD32_01_00017710', '2023_0117_HD32_01_00017711', '2023_0117_HD32_01_00017712', '2023_0117_HD32_01_00017713', '2023_0117_HD32_01_00017714', '2023_0117_HD32_01_00017715', '2023_0117_HD32_01_00017716', '2023_0117_HD32_01_00017717', '2023_0117_HD32_01_00017718', '2023_0117_HD32_01_00017719', '2023_0117_HD32_01_00017720', '2023_0117_HD32_01_00017721', '2023_0117_HD32_01_00017722', '2023_0117_HD32_01_00017723', '2023_0117_HD32_01_00017724', '2023_0117_HD32_01_00017725', '2023_0117_HD32_01_00017726', '2023_0117_HD32_01_00017727', '2023_0117_HD32_01_00017728', '2023_0117_HD32_01_00017729', '2023_0117_HD32_01_00017730', '2023_0117_HD32_01_00017731', '2023_0117_HD32_01_00017732', '2023_0117_HD32_01_00017733', '2023_0117_HD32_01_00017734', '2023_0117_HD32_01_00017735', '2023_0117_HD32_01_00017736', '2023_0117_HD32_01_00017737', '2023_0117_HD32_01_00017738', '2023_0117_HD32_01_00017739', '2023_0117_HD32_01_00017740', '2023_0117_HD32_01_00017741', '2023_0117_HD32_01_00017742', '2023_0117_HD32_01_00017743', '2023_0117_HD32_01_00017744', '2023_0117_HD32_01_00017745', '2023_0117_HD32_01_00017746', '2023_0117_HD32_01_00017747', '2023_0117_HD32_01_00017748', '2023_0117_HD32_01_00017749', '2023_0117_HD32_01_00017750', '2023_0117_HD32_01_00017751', '2023_0117_HD32_01_00017752', '2023_0117_HD32_01_00017753', '2023_0117_HD32_01_00017754', '2023_0117_HD32_01_00017755', '2023_0117_HD32_01_00017756', '2023_0117_HD32_01_00017757', '2023_0117_HD32_01_00017758', '2023_0117_HD32_01_00017759', '2023_0117_HD32_01_00017760', '2023_0117_HD32_01_00017761', '2023_0117_HD32_01_00017762', '2023_0117_HD32_01_00017763', '2023_0117_HD32_01_00017764', '2023_0117_HD32_01_00017765', '2023_0117_HD32_01_00017766', '2023_0117_HD32_01_00017767', '2023_0117_HD32_01_00017768', '2023_0117_HD32_01_00017769', '2023_0117_HD32_01_00017770', '2023_0117_HD32_01_00017771', '2023_0117_HD32_01_00017772', '2023_0117_HD32_01_00017773', '2023_0117_HD32_01_00017774', '2023_0117_HD32_01_00017775', '2023_0117_HD32_01_00017776', '2023_0117_HD32_01_00017777', '2023_0117_HD32_01_00017778', '2023_0117_HD32_01_00017779', '2023_0117_HD32_01_00017780', '2023_0117_HD32_01_00017781', '2023_0117_HD32_01_00017782', '2023_0117_HD32_01_00017783', '2023_0117_HD32_01_00017784', '2023_0117_HD32_01_00017785', '2023_0117_HD32_01_00017786', '2023_0117_HD32_01_00017787', '2023_0117_HD32_01_00017788', '2023_0117_HD32_01_00017789', '2023_0117_HD32_01_00017790', '2023_0117_HD32_01_00017791', '2023_0117_HD32_01_00017792', '2023_0117_HD32_01_00017793', '2023_0117_HD32_01_00017794', '2023_0117_HD32_01_00017795', '2023_0117_HD32_01_00017796', '2023_0117_HD32_01_00017797', '2023_0117_HD32_01_00017798', '2023_0117_HD32_01_00017799', '2023_0117_HD32_01_00017800', '2023_0117_HD32_01_00017801', '2023_0117_HD32_01_00017802', '2023_0117_HD32_01_00017803', '2023_0117_HD32_01_00017804', '2023_0117_HD32_01_00017805', '2023_0117_HD32_01_00017806', '2023_0117_HD32_01_00017807', '2023_0117_HD32_01_00017808', '2023_0117_HD32_01_00017809', '2023_0117_HD32_01_00017810', '2023_0117_HD32_01_00017811', '2023_0117_HD32_01_00017812', '2023_0117_HD32_01_00017813', '2023_0117_HD32_01_00017814', '2023_0117_HD32_01_00017815', '2023_0117_HD32_01_00017816', '2023_0117_HD32_01_00017817', '2023_0117_HD32_01_00017818', '2023_0117_HD32_01_00017819', '2023_0117_HD32_01_00017820', '2023_0117_HD32_01_00017821', '2023_0117_HD32_01_00017822', '2023_0117_HD32_01_00017823', '2023_0117_HD32_01_00017824', '2023_0117_HD32_01_00017825', '2023_0117_HD32_01_00017826', '2023_0117_HD32_01_00017827', '2023_0117_HD32_01_00017828', '2023_0117_HD32_01_00017829', '2023_0117_HD32_01_00017830', '2023_0117_HD32_01_00017831', '2023_0117_HD32_01_00017832', '2023_0117_HD32_01_00017833', '2023_0117_HD32_01_00017834', '2023_0117_HD32_01_00017835', '2023_0117_HD32_01_00017836', '2023_0117_HD32_01_00017837', '2023_0117_HD32_01_00017838', '2023_0117_HD32_01_00017839', '2023_0117_HD32_01_00017840', '2023_0117_HD32_01_00017841', '2023_0117_HD32_01_00017842', '2023_0117_HD32_01_00017843', '2023_0117_HD32_01_00017844', '2023_0117_HD32_01_00017845', '2023_0117_HD32_01_00017846', '2023_0117_HD32_01_00017847', '2023_0117_HD32_01_00017848', '2023_0117_HD32_01_00017849', '2023_0117_HD32_01_00017850', '2023_0117_HD32_01_00017851', '2023_0117_HD32_01_00017852', '2023_0117_HD32_01_00017853', '2023_0117_HD32_01_00017854', '2023_0117_HD32_01_00017855', '2023_0117_HD32_01_00017856', '2023_0117_HD32_01_00017857', '2023_0117_HD32_01_00017858', '2023_0117_HD32_01_00017859', '2023_0117_HD32_01_00017860', '2023_0117_HD32_01_00017861', '2023_0117_HD32_01_00017862', '2023_0117_HD32_01_00017863', '2023_0117_HD32_01_00017864', '2023_0117_HD32_01_00017865', '2023_0117_HD32_01_00017866', '2023_0117_HD32_01_00017867', '2023_0117_HD32_01_00017868', '2023_0117_HD32_01_00017869', '2023_0117_HD32_01_00017870', '2023_0117_HD32_01_00017871', '2023_0117_HD32_01_00017872', '2023_0117_HD32_01_00017873', '2023_0117_HD32_01_00017874', '2023_0117_HD32_01_00017875', '2023_0117_HD32_01_00017876', '2023_0117_HD32_01_00017877', '2023_0117_HD32_01_00017878', '2023_0117_HD32_01_00017879', '2023_0117_HD32_01_00017880', '2023_0117_HD32_01_00017881', '2023_0117_HD32_01_00017882', '2023_0117_HD32_01_00017883', '2023_0117_HD32_01_00017884', '2023_0117_HD32_01_00017885', '2023_0117_HD32_01_00017886', '2023_0117_HD32_01_00017887', '2023_0117_HD32_01_00017888', '2023_0117_HD32_01_00017889', '2023_0117_HD32_01_00017890', '2023_0117_HD32_01_00017891', '2023_0117_HD32_01_00017892', '2023_0117_HD32_01_00017893', '2023_0117_HD32_01_00017894', '2023_0117_HD32_01_00017895', '2023_0117_HD32_01_00017896', '2023_0117_HD32_01_00017897', '2023_0117_HD32_01_00017898', '2023_0117_HD32_01_00017899', '2023_0117_HD32_01_00017900', '2023_0117_HD32_01_00017901', '2023_0117_HD32_01_00017902', '2023_0117_HD32_01_00017903', '2023_0117_HD32_01_00017904', '2023_0117_HD32_01_00017905', '2023_0117_HD32_01_00017906', '2023_0117_HD32_01_00017907', '2023_0117_HD32_01_00017908', '2023_0117_HD32_01_00017909', '2023_0117_HD32_01_00017910', '2023_0117_HD32_01_00017911', '2023_0117_HD32_01_00017912', '2023_0117_HD32_01_00017913', '2023_0117_HD32_01_00017914', '2023_0117_HD32_01_00017915', '2023_0117_HD32_01_00017916', '2023_0117_HD32_01_00017917', '2023_0117_HD32_01_00017918', '2023_0117_HD32_01_00017919', '2023_0117_HD32_01_00017920', '2023_0117_HD32_01_00017921', '2023_0117_HD32_01_00017922', '2023_0117_HD32_01_00017923', '2023_0117_HD32_01_00017924', '2023_0117_HD32_01_00017925', '2023_0117_HD32_01_00017926', '2023_0117_HD32_01_00017927', '2023_0117_HD32_01_00017928', '2023_0117_HD32_01_00017929', '2023_0117_HD32_01_00017930', '2023_0117_HD32_01_00017931', '2023_0117_HD32_01_00017932', '2023_0117_HD32_01_00017933', '2023_0117_HD32_01_00017934', '2023_0117_HD32_01_00017935', '2023_0117_HD32_01_00017936', '2023_0117_HD32_01_00017937', '2023_0117_HD32_01_00017938', '2023_0117_HD32_01_00017939', '2023_0117_HD32_01_00017940', '2023_0117_HD32_01_00017941', '2023_0117_HD32_01_00017942', '2023_0117_HD32_01_00017943', '2023_0117_HD32_01_00017944', '2023_0117_HD32_01_00017945', '2023_0117_HD32_01_00017946', '2023_0117_HD32_01_00017947', '2023_0117_HD32_01_00017948', '2023_0117_HD32_01_00017949', '2023_0117_HD32_01_00017950', '2023_0117_HD32_01_00017951', '2023_0117_HD32_01_00017952', '2023_0117_HD32_01_00017953', '2023_0117_HD32_01_00017954', '2023_0117_HD32_01_00017955', '2023_0117_HD32_01_00017956', '2023_0117_HD32_01_00017957', '2023_0117_HD32_01_00017958', '2023_0117_HD32_01_00017959', '2023_0117_HD32_01_00017960', '2023_0117_HD32_01_00017961', '2023_0117_HD32_01_00017962', '2023_0117_HD32_01_00017963', '2023_0117_HD32_01_00017964', '2023_0117_HD32_01_00017965', '2023_0117_HD32_01_00017966', '2023_0117_HD32_01_00017967', '2023_0117_HD32_01_00017968', '2023_0117_HD32_01_00017969', '2023_0117_HD32_01_00017970', '2023_0117_HD32_01_00017971', '2023_0117_HD32_01_00017972', '2023_0117_HD32_01_00017973', '2023_0117_HD32_01_00017974', '2023_0117_HD32_01_00017975', '2023_0117_HD32_01_00017976', '2023_0117_HD32_01_00017977', '2023_0117_HD32_01_00017978', '2023_0117_HD32_01_00017979', '2023_0117_HD32_01_00017980', '2023_0117_HD32_01_00017981', '2023_0117_HD32_01_00017982', '2023_0117_HD32_01_00017983', '2023_0117_HD32_01_00017984', '2023_0117_HD32_01_00017985', '2023_0117_HD32_01_00017986', '2023_0117_HD32_01_00017987', '2023_0117_HD32_01_00017988', '2023_0117_HD32_01_00017989', '2023_0117_HD32_01_00017990', '2023_0117_HD32_01_00017991', '2023_0117_HD32_01_00017992', '2023_0117_HD32_01_00017993', '2023_0117_HD32_01_00017994', '2023_0117_HD32_01_00017995', '2023_0117_HD32_01_00017996', '2023_0117_HD32_01_00017997', '2023_0117_HD32_01_00017998', '2023_0117_HD32_01_00017999', '2023_0117_HD32_01_00018000', '2023_0117_HD32_01_00018001', '2023_0117_HD32_01_00018002', '2023_0117_HD32_01_00018003', '2023_0117_HD32_01_00018004', '2023_0117_HD32_01_00018005', '2023_0117_HD32_01_00018006', '2023_0117_HD32_01_00018007', '2023_0117_HD32_01_00018008', '2023_0117_HD32_01_00018009', '2023_0117_HD32_01_00018010', '2023_0117_HD32_01_00018011', '2023_0117_HD32_01_00018012', '2023_0117_HD32_01_00018013', '2023_0117_HD32_01_00018014', '2023_0117_HD32_01_00018015', '2023_0117_HD32_01_00018016', '2023_0117_HD32_01_00018017', '2023_0117_HD32_01_00018018', '2023_0117_HD32_01_00018019', '2023_0117_HD32_01_00018020', '2023_0117_HD32_01_00018021', '2023_0117_HD32_01_00018022', '2023_0117_HD32_01_00018023', '2023_0117_HD32_01_00018024', '2023_0117_HD32_01_00018025', '2023_0117_HD32_01_00018026', '2023_0117_HD32_01_00018027', '2023_0117_HD32_01_00018028', '2023_0117_HD32_01_00018029', '2023_0117_HD32_01_00018030', '2023_0117_HD32_01_00018031', '2023_0117_HD32_01_00018032', '2023_0117_HD32_01_00018033', '2023_0117_HD32_01_00018034', '2023_0117_HD32_01_00018035', '2023_0117_HD32_01_00018036', '2023_0117_HD32_01_00018037', '2023_0117_HD32_01_00018038', '2023_0117_HD32_01_00018039', '2023_0117_HD32_01_00018040', '2023_0117_HD32_01_00018041', '2023_0117_HD32_01_00018042', '2023_0117_HD32_01_00018043', '2023_0117_HD32_01_00018044', '2023_0117_HD32_01_00018045', '2023_0117_HD32_01_00018046', '2023_0117_HD32_01_00018047', '2023_0117_HD32_01_00018048', '2023_0117_HD32_01_00018049', '2023_0117_HD32_01_00018050', '2023_0117_HD32_01_00018051', '2023_0117_HD32_01_00018052', '2023_0117_HD32_01_00018053', '2023_0117_HD32_01_00018054', '2023_0117_HD32_01_00018055', '2023_0117_HD32_01_00018056', '2023_0117_HD32_01_00018057', '2023_0117_HD32_01_00018058', '2023_0117_HD32_01_00018059', '2023_0117_HD32_01_00018060', '2023_0117_HD32_01_00018061', '2023_0117_HD32_01_00018062', '2023_0117_HD32_01_00018063', '2023_0117_HD32_01_00018064', '2023_0117_HD32_01_00018065', '2023_0117_HD32_01_00018066', '2023_0117_HD32_01_00018067', '2023_0117_HD32_01_00018068', '2023_0117_HD32_01_00018069', '2023_0117_HD32_01_00018070', '2023_0117_HD32_01_00018071', '2023_0117_HD32_01_00018072', '2023_0117_HD32_01_00018073', '2023_0117_HD32_01_00018074', '2023_0117_HD32_01_00018075', '2023_0117_HD32_01_00018076', '2023_0117_HD32_01_00018077', '2023_0117_HD32_01_00018078', '2023_0117_HD32_01_00018079', '2023_0117_HD32_01_00018080', '2023_0117_HD32_01_00018081', '2023_0117_HD32_01_00018082', '2023_0117_HD32_01_00018083', '2023_0117_HD32_01_00018084', '2023_0117_HD32_01_00018085', '2023_0117_HD32_01_00018086', '2023_0117_HD32_01_00018087', '2023_0117_HD32_01_00018088', '2023_0117_HD32_01_00018089', '2023_0117_HD32_01_00018090', '2023_0117_HD32_01_00018091', '2023_0117_HD32_01_00018092', '2023_0117_HD32_01_00018093', '2023_0117_HD32_01_00018094', '2023_0117_HD32_01_00018095', '2023_0117_HD32_01_00018096', '2023_0117_HD32_01_00018097', '2023_0117_HD32_01_00018098', '2023_0117_HD32_01_00018099', '2023_0117_HD32_01_00018100', '2023_0117_HD32_01_00018101', '2023_0117_HD32_01_00018102', '2023_0117_HD32_01_00018103', '2023_0117_HD32_01_00018104', '2023_0117_HD32_01_00018105', '2023_0117_HD32_01_00018106', '2023_0117_HD32_01_00018107', '2023_0117_HD32_01_00018108', '2023_0117_HD32_01_00018109', '2023_0117_HD32_01_00018110', '2023_0117_HD32_01_00018111', '2023_0117_HD32_01_00018112', '2023_0117_HD32_01_00018113', '2023_0117_HD32_01_00018114', '2023_0117_HD32_01_00018115', '2023_0117_HD32_01_00018116', '2023_0117_HD32_01_00018117', '2023_0117_HD32_01_00018118', '2023_0117_HD32_01_00018119', '2023_0117_HD32_01_00018120', '2023_0117_HD32_01_00018121', '2023_0117_HD32_01_00018122', '2023_0117_HD32_01_00018123', '2023_0117_HD32_01_00018124', '2023_0117_HD32_01_00018125', '2023_0117_HD32_01_00018126', '2023_0117_HD32_01_00018127', '2023_0117_HD32_01_00018128', '2023_0117_HD32_01_00018129', '2023_0117_HD32_01_00018130', '2023_0117_HD32_01_00018131', '2023_0117_HD32_01_00018132', '2023_0117_HD32_01_00018133', '2023_0117_HD32_01_00018134', '2023_0117_HD32_01_00018135', '2023_0117_HD32_01_00018136', '2023_0117_HD32_01_00018137', '2023_0117_HD32_01_00018138', '2023_0117_HD32_01_00018139', '2023_0117_HD32_01_00018140', '2023_0117_HD32_01_00018141', '2023_0117_HD32_01_00018142', '2023_0117_HD32_01_00018143', '2023_0117_HD32_01_00018144', '2023_0117_HD32_01_00018145', '2023_0117_HD32_01_00018146', '2023_0117_HD32_01_00018147', '2023_0117_HD32_01_00018148', '2023_0117_HD32_01_00018149', '2023_0117_HD32_01_00018150', '2023_0117_HD32_01_00018151', '2023_0117_HD32_01_00018152', '2023_0117_HD32_01_00018153', '2023_0117_HD32_01_00018154', '2023_0117_HD32_01_00018155', '2023_0117_HD32_01_00018156', '2023_0117_HD32_01_00018157', '2023_0117_HD32_01_00018158', '2023_0117_HD32_01_00018159', '2023_0117_HD32_01_00018160', '2023_0117_HD32_01_00018161', '2023_0117_HD32_01_00018162', '2023_0117_HD32_01_00018163', '2023_0117_HD32_01_00018164', '2023_0117_HD32_01_00018165', '2023_0117_HD32_01_00018166', '2023_0117_HD32_01_00018167', '2023_0117_HD32_01_00018168', '2023_0117_HD32_01_00018169', '2023_0117_HD32_01_00018170', '2023_0117_HD32_01_00018171', '2023_0117_HD32_01_00018172', '2023_0117_HD32_01_00018173', '2023_0117_HD32_01_00018174', '2023_0117_HD32_01_00018175', '2023_0117_HD32_01_00018176', '2023_0117_HD32_01_00018177', '2023_0117_HD32_01_00018178', '2023_0117_HD32_01_00018179', '2023_0117_HD32_01_00018180', '2023_0117_HD32_01_00018181', '2023_0117_HD32_01_00018182', '2023_0117_HD32_01_00018183', '2023_0117_HD32_01_00018184', '2023_0117_HD32_01_00018185', '2023_0117_HD32_01_00018186', '2023_0117_HD32_01_00018187', '2023_0117_HD32_01_00018188', '2023_0117_HD32_01_00018189', '2023_0117_HD32_01_00018190', '2023_0117_HD32_01_00018191', '2023_0117_HD32_01_00018192', '2023_0117_HD32_01_00018193', '2023_0117_HD32_01_00018194', '2023_0117_HD32_01_00018195', '2023_0117_HD32_01_00018196', '2023_0117_HD32_01_00018197', '2023_0117_HD32_01_00018198', '2023_0117_HD32_01_00018199', '2023_0117_HD32_01_00018200', '2023_0117_HD32_01_00018201', '2023_0117_HD32_01_00018202', '2023_0117_HD32_01_00018203', '2023_0117_HD32_01_00018204', '2023_0117_HD32_01_00018205', '2023_0117_HD32_01_00018206', '2023_0117_HD32_01_00018207', '2023_0117_HD32_01_00018208', '2023_0117_HD32_01_00018209', '2023_0117_HD32_01_00018210', '2023_0117_HD32_01_00018211', '2023_0117_HD32_01_00018212', '2023_0117_HD32_01_00018213', '2023_0117_HD32_01_00018214', '2023_0117_HD32_01_00018215', '2023_0117_HD32_01_00018216', '2023_0117_HD32_01_00018217', '2023_0117_HD32_01_00018218', '2023_0117_HD32_01_00018219', '2023_0117_HD32_01_00018220', '2023_0117_HD32_01_00018221', '2023_0117_HD32_01_00018222', '2023_0117_HD32_01_00018223', '2023_0117_HD32_01_00018224', '2023_0117_HD32_01_00018225', '2023_0117_HD32_01_00018226', '2023_0117_HD32_01_00018227', '2023_0117_HD32_01_00018228', '2023_0117_HD32_01_00018229', '2023_0117_HD32_01_00018230', '2023_0117_HD32_01_00018231', '2023_0117_HD32_01_00018232', '2023_0117_HD32_01_00018233', '2023_0117_HD32_01_00018234', '2023_0117_HD32_01_00018235', '2023_0117_HD32_01_00018236', '2023_0117_HD32_01_00018237', '2023_0117_HD32_01_00018238', '2023_0117_HD32_01_00018239', '2023_0117_HD32_01_00018240', '2023_0117_HD32_01_00018241', '2023_0117_HD32_01_00018242', '2023_0117_HD32_01_00018243', '2023_0117_HD32_01_00018244', '2023_0117_HD32_01_00018245', '2023_0117_HD32_01_00018246', '2023_0117_HD32_01_00018247', '2023_0117_HD32_01_00018248', '2023_0117_HD32_01_00018249', '2023_0117_HD32_01_00018250', '2023_0117_HD32_01_00018251', '2023_0117_HD32_01_00018252', '2023_0117_HD32_01_00018253', '2023_0117_HD32_01_00018254', '2023_0117_HD32_01_00018255', '2023_0117_HD32_01_00018256', '2023_0117_HD32_01_00018257', '2023_0117_HD32_01_00018258', '2023_0117_HD32_01_00018259', '2023_0117_HD32_01_00018260', '2023_0117_HD32_01_00018261', '2023_0117_HD32_01_00018262', '2023_0117_HD32_01_00018263', '2023_0117_HD32_01_00018264', '2023_0117_HD32_01_00018265', '2023_0117_HD32_01_00018266', '2023_0117_HD32_01_00018267', '2023_0117_HD32_01_00018268', '2023_0117_HD32_01_00018269', '2023_0117_HD32_01_00018270', '2023_0117_HD32_01_00018271', '2023_0117_HD32_01_00018272', '2023_0117_HD32_01_00018273', '2023_0117_HD32_01_00018274', '2023_0117_HD32_01_00018275', '2023_0117_HD32_01_00018276', '2023_0117_HD32_01_00018277', '2023_0117_HD32_01_00018278', '2023_0117_HD32_01_00018279', '2023_0117_HD32_01_00018280', '2023_0117_HD32_01_00018281', '2023_0117_HD32_01_00018282', '2023_0117_HD32_01_00018283', '2023_0117_HD32_01_00018284', '2023_0117_HD32_01_00018285', '2023_0117_HD32_01_00018286', '2023_0117_HD32_01_00018287', '2023_0117_HD32_01_00018288', '2023_0117_HD32_01_00018289', '2023_0117_HD32_01_00018290', '2023_0117_HD32_01_00018291', '2023_0117_HD32_01_00018292', '2023_0117_HD32_01_00018293', '2023_0117_HD32_01_00018294', '2023_0117_HD32_01_00018295', '2023_0117_HD32_01_00018296', '2023_0117_HD32_01_00018297', '2023_0117_HD32_01_00018298', '2023_0117_HD32_01_00018299', '2023_0117_HD32_01_00018300', '2023_0117_HD32_01_00018301', '2023_0117_HD32_01_00018302', '2023_0117_HD32_01_00018303', '2023_0117_HD32_01_00018304', '2023_0117_HD32_01_00018305', '2023_0117_HD32_01_00018306', '2023_0117_HD32_01_00018307', '2023_0117_HD32_01_00018308', '2023_0117_HD32_01_00018309', '2023_0117_HD32_01_00018310', '2023_0117_HD32_01_00018311', '2023_0117_HD32_01_00018312', '2023_0117_HD32_01_00018313', '2023_0117_HD32_01_00018314', '2023_0117_HD32_01_00018315', '2023_0117_HD32_01_00018316', '2023_0117_HD32_01_00018317', '2023_0117_HD32_01_00018318', '2023_0117_HD32_01_00018319', '2023_0117_HD32_01_00018320', '2023_0117_HD32_01_00018321', '2023_0117_HD32_01_00018322', '2023_0117_HD32_01_00018323', '2023_0117_HD32_01_00018324', '2023_0117_HD32_01_00018325', '2023_0117_HD32_01_00018326', '2023_0117_HD32_01_00018327', '2023_0117_HD32_01_00018328', '2023_0117_HD32_01_00018329', '2023_0117_HD32_01_00018330', '2023_0117_HD32_01_00018331', '2023_0117_HD32_01_00018332', '2023_0117_HD32_01_00018333', '2023_0117_HD32_01_00018334', '2023_0117_HD32_01_00018335', '2023_0117_HD32_01_00018336', '2023_0117_HD32_01_00018337', '2023_0117_HD32_01_00018338', '2023_0117_HD32_01_00018339', '2023_0117_HD32_01_00018340', '2023_0117_HD32_01_00018341', '2023_0117_HD32_01_00018342', '2023_0117_HD32_01_00018343', '2023_0117_HD32_01_00018344', '2023_0117_HD32_01_00018345', '2023_0117_HD32_01_00018346', '2023_0117_HD32_01_00018347', '2023_0117_HD32_01_00018348', '2023_0117_HD32_01_00018349', '2023_0117_HD32_01_00018350', '2023_0117_HD32_01_00018351', '2023_0117_HD32_01_00018352', '2023_0117_HD32_01_00018353', '2023_0117_HD32_01_00018354', '2023_0117_HD32_01_00018355', '2023_0117_HD32_01_00018356', '2023_0117_HD32_01_00018357', '2023_0117_HD32_01_00018358', '2023_0117_HD32_01_00018359', '2023_0117_HD32_01_00018360', '2023_0117_HD32_01_00018361', '2023_0117_HD32_01_00018362', '2023_0117_HD32_01_00018363', '2023_0117_HD32_01_00018364', '2023_0117_HD32_01_00018365', '2023_0117_HD32_01_00018366', '2023_0117_HD32_01_00018367', '2023_0117_HD32_01_00018368', '2023_0117_HD32_01_00018369', '2023_0117_HD32_01_00018370', '2023_0117_HD32_01_00018371', '2023_0117_HD32_01_00018372', '2023_0117_HD32_01_00018373', '2023_0117_HD32_01_00018374', '2023_0117_HD32_01_00018375', '2023_0117_HD32_01_00018376', '2023_0117_HD32_01_00018377', '2023_0117_HD32_01_00018378', '2023_0117_HD32_01_00018379', '2023_0117_HD32_01_00018380', '2023_0117_HD32_01_00018381', '2023_0117_HD32_01_00018382', '2023_0117_HD32_01_00018383', '2023_0117_HD32_01_00018384', '2023_0117_HD32_01_00018385', '2023_0117_HD32_01_00018386', '2023_0117_HD32_01_00018387', '2023_0117_HD32_01_00018388', '2023_0117_HD32_01_00018389', '2023_0117_HD32_01_00018390', '2023_0117_HD32_01_00018391', '2023_0117_HD32_01_00018392', '2023_0117_HD32_01_00018393', '2023_0117_HD32_01_00018394', '2023_0117_HD32_01_00018395', '2023_0117_HD32_01_00018396', '2023_0117_HD32_01_00018397', '2023_0117_HD32_01_00018398', '2023_0117_HD32_01_00018399', '2023_0117_HD32_01_00018400', '2023_0117_HD32_01_00018401', '2023_0117_HD32_01_00018402', '2023_0117_HD32_01_00018403', '2023_0117_HD32_01_00018404', '2023_0117_HD32_01_00018405', '2023_0117_HD32_01_00018406', '2023_0117_HD32_01_00018407', '2023_0117_HD32_01_00018408', '2023_0117_HD32_01_00018409', '2023_0117_HD32_01_00018410', '2023_0117_HD32_01_00018411', '2023_0117_HD32_01_00018412', '2023_0117_HD32_01_00018413', '2023_0117_HD32_01_00018414', '2023_0117_HD32_01_00018415', '2023_0117_HD32_01_00018416', '2023_0117_HD32_01_00018417', '2023_0117_HD32_01_00018418', '2023_0117_HD32_01_00018419', '2023_0117_HD32_01_00018420', '2023_0117_HD32_01_00018421', '2023_0117_HD32_01_00018422', '2023_0117_HD32_01_00018423', '2023_0117_HD32_01_00018424', '2023_0117_HD32_01_00018425', '2023_0117_HD32_01_00018426', '2023_0117_HD32_01_00018427', '2023_0117_HD32_01_00018428', '2023_0117_HD32_01_00018429', '2023_0117_HD32_01_00018430', '2023_0117_HD32_01_00018431', '2023_0117_HD32_01_00018432', '2023_0117_HD32_01_00018433', '2023_0117_HD32_01_00018434', '2023_0117_HD32_01_00018435', '2023_0117_HD32_01_00018436', '2023_0117_HD32_01_00018437', '2023_0117_HD32_01_00018438', '2023_0117_HD32_01_00018439', '2023_0117_HD32_01_00018440', '2023_0117_HD32_01_00018441', '2023_0117_HD32_01_00018442', '2023_0117_HD32_01_00018443', '2023_0117_HD32_01_00018444', '2023_0117_HD32_01_00018445', '2023_0117_HD32_01_00018446', '2023_0117_HD32_01_00018447', '2023_0117_HD32_01_00018448', '2023_0117_HD32_01_00018449', '2023_0117_HD32_01_00018450', '2023_0117_HD32_01_00018451', '2023_0117_HD32_01_00018452', '2023_0117_HD32_01_00018453', '2023_0117_HD32_01_00018454', '2023_0117_HD32_01_00018455', '2023_0117_HD32_01_00018456', '2023_0117_HD32_01_00018457', '2023_0117_HD32_01_00018458', '2023_0117_HD32_01_00018459', '2023_0117_HD32_01_00018460', '2023_0117_HD32_01_00018461', '2023_0117_HD32_01_00018462', '2023_0117_HD32_01_00018463', '2023_0117_HD32_01_00018464', '2023_0117_HD32_01_00018465', '2023_0117_HD32_01_00018466', '2023_0117_HD32_01_00018467', '2023_0117_HD32_01_00018468', '2023_0117_HD32_01_00018469', '2023_0117_HD32_01_00018470', '2023_0117_HD32_01_00018471', '2023_0117_HD32_01_00018472', '2023_0117_HD32_01_00018473', '2023_0117_HD32_01_00018474', '2023_0117_HD32_01_00018475', '2023_0117_HD32_01_00018476', '2023_0117_HD32_01_00018477', '2023_0117_HD32_01_00018478', '2023_0117_HD32_01_00018479', '2023_0117_HD32_01_00018480', '2023_0117_HD32_01_00018481', '2023_0117_HD32_01_00018482', '2023_0117_HD32_01_00018483', '2023_0117_HD32_01_00018484', '2023_0117_HD32_01_00018485', '2023_0117_HD32_01_00018486', '2023_0117_HD32_01_00018487', '2023_0117_HD32_01_00018488', '2023_0117_HD32_01_00018489', '2023_0117_HD32_01_00018490', '2023_0117_HD32_01_00018491', '2023_0117_HD32_01_00018492', '2023_0117_HD32_01_00018493', '2023_0117_HD32_01_00018494', '2023_0117_HD32_01_00018495', '2023_0117_HD32_01_00018496', '2023_0117_HD32_01_00018497', '2023_0117_HD32_01_00018498', '2023_0117_HD32_01_00018499', '2023_0117_HD32_01_00018500', '2023_0117_HD32_01_00018501', '2023_0117_HD32_01_00018502', '2023_0117_HD32_01_00018503', '2023_0117_HD32_01_00018504', '2023_0117_HD32_01_00018505', '2023_0117_HD32_01_00018506', '2023_0117_HD32_01_00018507', '2023_0117_HD32_01_00018508', '2023_0117_HD32_01_00018509', '2023_0117_HD32_01_00018510', '2023_0117_HD32_01_00018511', '2023_0117_HD32_01_00018512', '2023_0117_HD32_01_00018513', '2023_0117_HD32_01_00018514', '2023_0117_HD32_01_00018515', '2023_0117_HD32_01_00018516', '2023_0117_HD32_01_00018517', '2023_0117_HD32_01_00018518', '2023_0117_HD32_01_00018519', '2023_0117_HD32_01_00018520', '2023_0117_HD32_01_00018521', '2023_0117_HD32_01_00018522', '2023_0117_HD32_01_00018523', '2023_0117_HD32_01_00018524', '2023_0117_HD32_01_00018525', '2023_0117_HD32_01_00018526', '2023_0117_HD32_01_00018527', '2023_0117_HD32_01_00018528', '2023_0117_HD32_01_00018529', '2023_0117_HD32_01_00018530', '2023_0117_HD32_01_00018531', '2023_0117_HD32_01_00018532', '2023_0117_HD32_01_00018533', '2023_0117_HD32_01_00018534', '2023_0117_HD32_01_00018535', '2023_0117_HD32_01_00018536', '2023_0117_HD32_01_00018537', '2023_0117_HD32_01_00018538', '2023_0117_HD32_01_00018539', '2023_0117_HD32_01_00018540', '2023_0117_HD32_01_00018541', '2023_0117_HD32_01_00018542', '2023_0117_HD32_01_00018543', '2023_0117_HD32_01_00018544', '2023_0117_HD32_01_00018545', '2023_0117_HD32_01_00018546', '2023_0117_HD32_01_00018547', '2023_0117_HD32_01_00018548', '2023_0117_HD32_01_00018549', '2023_0117_HD32_01_00018550', '2023_0117_HD32_01_00018551', '2023_0117_HD32_01_00018552', '2023_0117_HD32_01_00018553', '2023_0117_HD32_01_00018554', '2023_0117_HD32_01_00018555', '2023_0117_HD32_01_00018556', '2023_0117_HD32_01_00018557', '2023_0117_HD32_01_00018558', '2023_0117_HD32_01_00018559', '2023_0117_HD32_01_00018560', '2023_0117_HD32_01_00018561', '2023_0117_HD32_01_00018562', '2023_0117_HD32_01_00018563', '2023_0117_HD32_01_00018564', '2023_0117_HD32_01_00018565', '2023_0117_HD32_01_00018566', '2023_0117_HD32_01_00018567', '2023_0117_HD32_01_00018568', '2023_0117_HD32_01_00018569', '2023_0117_HD32_01_00018570', '2023_0117_HD32_01_00018571', '2023_0117_HD32_01_00018572', '2023_0117_HD32_01_00018573', '2023_0117_HD32_01_00018574', '2023_0117_HD32_01_00018575', '2023_0117_HD32_01_00018576', '2023_0117_HD32_01_00018577', '2023_0117_HD32_01_00018578', '2023_0117_HD32_01_00018579', '2023_0117_HD32_01_00018580', '2023_0117_HD32_01_00018581', '2023_0117_HD32_01_00018582', '2023_0117_HD32_01_00018583', '2023_0117_HD32_01_00018584', '2023_0117_HD32_01_00018585', '2023_0117_HD32_01_00018586', '2023_0117_HD32_01_00018587', '2023_0117_HD32_01_00018588', '2023_0117_HD32_01_00018589', '2023_0117_HD32_01_00018590', '2023_0117_HD32_01_00018591', '2023_0117_HD32_01_00018592', '2023_0117_HD32_01_00018593', '2023_0117_HD32_01_00018594', '2023_0117_HD32_01_00018595', '2023_0117_HD32_01_00018596', '2023_0117_HD32_01_00018597', '2023_0117_HD32_01_00018598', '2023_0117_HD32_01_00018599', '2023_0117_HD32_01_00018600', '2023_0117_HD32_01_00018601', '2023_0117_HD32_01_00018602', '2023_0117_HD32_01_00018603', '2023_0117_HD32_01_00018604', '2023_0117_HD32_01_00018605', '2023_0117_HD32_01_00018606', '2023_0117_HD32_01_00018607', '2023_0117_HD32_01_00018608', '2023_0117_HD32_01_00018609', '2023_0117_HD32_01_00018610', '2023_0117_HD32_01_00018611', '2023_0117_HD32_01_00018612', '2023_0117_HD32_01_00018613', '2023_0117_HD32_01_00018614', '2023_0117_HD32_01_00018615', '2023_0117_HD32_01_00018616', '2023_0117_HD32_01_00018617', '2023_0117_HD32_01_00018618', '2023_0117_HD32_01_00018619', '2023_0117_HD32_01_00018620', '2023_0117_HD32_01_00018621', '2023_0117_HD32_01_00018622', '2023_0117_HD32_01_00018623', '2023_0117_HD32_01_00018624', '2023_0117_HD32_01_00018625', '2023_0117_HD32_01_00018626', '2023_0117_HD32_01_00018627', '2023_0117_HD32_01_00018628', '2023_0117_HD32_01_00018629', '2023_0117_HD32_01_00018630', '2023_0117_HD32_01_00018631', '2023_0117_HD32_01_00018632', '2023_0117_HD32_01_00018633', '2023_0117_HD32_01_00018634', '2023_0117_HD32_01_00018635', '2023_0117_HD32_01_00018636', '2023_0117_HD32_01_00018637', '2023_0117_HD32_01_00018638', '2023_0117_HD32_01_00018639', '2023_0117_HD32_01_00018640', '2023_0117_HD32_01_00018641', '2023_0117_HD32_01_00018642', '2023_0117_HD32_01_00018643', '2023_0117_HD32_01_00018644', '2023_0117_HD32_01_00018645', '2023_0117_HD32_01_00018646', '2023_0117_HD32_01_00018647', '2023_0117_HD32_01_00018648', '2023_0117_HD32_01_00018649', '2023_0117_HD32_01_00018650', '2023_0117_HD32_01_00018651', '2023_0117_HD32_01_00018652', '2023_0117_HD32_01_00018653', '2023_0117_HD32_01_00018654', '2023_0117_HD32_01_00018655', '2023_0117_HD32_01_00018656', '2023_0117_HD32_01_00018657', '2023_0117_HD32_01_00018658', '2023_0117_HD32_01_00018659', '2023_0117_HD32_01_00018660', '2023_0117_HD32_01_00018661', '2023_0117_HD32_01_00018662', '2023_0117_HD32_01_00018663', '2023_0117_HD32_01_00018664', '2023_0117_HD32_01_00018665', '2023_0117_HD32_01_00018666', '2023_0117_HD32_01_00018667', '2023_0117_HD32_01_00018668', '2023_0117_HD32_01_00018669', '2023_0117_HD32_01_00018670', '2023_0117_HD32_01_00018671', '2023_0117_HD32_01_00018672', '2023_0117_HD32_01_00018673', '2023_0117_HD32_01_00018674', '2023_0117_HD32_01_00018675', '2023_0117_HD32_01_00018676', '2023_0117_HD32_01_00018677', '2023_0117_HD32_01_00018678', '2023_0117_HD32_01_00018679', '2023_0117_HD32_01_00018680', '2023_0117_HD32_01_00018681', '2023_0117_HD32_01_00018682', '2023_0117_HD32_01_00018683', '2023_0117_HD32_01_00018684', '2023_0117_HD32_01_00018685', '2023_0117_HD32_01_00018686', '2023_0117_HD32_01_00018687', '2023_0117_HD32_01_00018688', '2023_0117_HD32_01_00018689', '2023_0117_HD32_01_00018690', '2023_0117_HD32_01_00018691', '2023_0117_HD32_01_00018692', '2023_0117_HD32_01_00018693', '2023_0117_HD32_01_00018694', '2023_0117_HD32_01_00018695', '2023_0117_HD32_01_00018696', '2023_0117_HD32_01_00018697', '2023_0117_HD32_01_00018698', '2023_0117_HD32_01_00018699', '2023_0117_HD32_01_00018700', '2023_0117_HD32_01_00018701', '2023_0117_HD32_01_00018702', '2023_0117_HD32_01_00018703', '2023_0117_HD32_01_00018704', '2023_0117_HD32_01_00018705', '2023_0117_HD32_01_00018706', '2023_0117_HD32_01_00018707', '2023_0117_HD32_01_00018708', '2023_0117_HD32_01_00018709', '2023_0117_HD32_01_00018710', '2023_0117_HD32_01_00018711', '2023_0117_HD32_01_00018712', '2023_0117_HD32_01_00018713', '2023_0117_HD32_01_00018714', '2023_0117_HD32_01_00018715', '2023_0117_HD32_01_00018716', '2023_0117_HD32_01_00018717', '2023_0117_HD32_01_00018718', '2023_0117_HD32_01_00018719', '2023_0117_HD32_01_00018720', '2023_0117_HD32_01_00018721', '2023_0117_HD32_01_00018722', '2023_0117_HD32_01_00018723', '2023_0117_HD32_01_00018724', '2023_0117_HD32_01_00018725', '2023_0117_HD32_01_00018726', '2023_0117_HD32_01_00018727', '2023_0117_HD32_01_00018728', '2023_0117_HD32_01_00018729', '2023_0117_HD32_01_00018730', '2023_0117_HD32_01_00018731', '2023_0117_HD32_01_00018732', '2023_0117_HD32_01_00018733', '2023_0117_HD32_01_00018734', '2023_0117_HD32_01_00018735', '2023_0117_HD32_01_00018736', '2023_0117_HD32_01_00018737', '2023_0117_HD32_01_00018738', '2023_0117_HD32_01_00018739', '2023_0117_HD32_01_00018740', '2023_0117_HD32_01_00018741', '2023_0117_HD32_01_00018742', '2023_0117_HD32_01_00018743', '2023_0117_HD32_01_00018744', '2023_0117_HD32_01_00018745', '2023_0117_HD32_01_00018746', '2023_0117_HD32_01_00018747', '2023_0117_HD32_01_00018748', '2023_0117_HD32_01_00018749', '2023_0117_HD32_01_00018750', '2023_0117_HD32_01_00018751', '2023_0117_HD32_01_00018752', '2023_0117_HD32_01_00018753', '2023_0117_HD32_01_00018754', '2023_0117_HD32_01_00018755', '2023_0117_HD32_01_00018756'])"
      ]
     },
     "execution_count": 25,
     "metadata": {},
     "output_type": "execute_result"
    }
   ],
   "source": [
    "kiro_dict[camera_num].keys()"
   ]
  },
  {
   "cell_type": "code",
   "execution_count": 32,
   "id": "654167c3-0438-4014-908f-131e263f7b07",
   "metadata": {
    "collapsed": true,
    "jupyter": {
     "outputs_hidden": true
    },
    "tags": []
   },
   "outputs": [
    {
     "data": {
      "text/plain": [
       "[1.5,\n",
       " 1.501,\n",
       " 1.502,\n",
       " 1.503,\n",
       " 1.504,\n",
       " 1.505,\n",
       " 1.506,\n",
       " 1.507,\n",
       " 1.508,\n",
       " 1.509,\n",
       " 1.51,\n",
       " 1.511,\n",
       " 1.512,\n",
       " 1.513,\n",
       " 1.514,\n",
       " 1.515,\n",
       " 1.516,\n",
       " 1.517,\n",
       " 1.518,\n",
       " 1.519,\n",
       " 1.52,\n",
       " 1.521,\n",
       " 1.522,\n",
       " 1.523,\n",
       " 1.524,\n",
       " 1.525,\n",
       " 1.526,\n",
       " 1.527,\n",
       " 1.528,\n",
       " 1.529,\n",
       " 1.53,\n",
       " 1.531,\n",
       " 1.532,\n",
       " 1.533,\n",
       " 1.534,\n",
       " 1.535,\n",
       " 1.536,\n",
       " 1.537,\n",
       " 1.538,\n",
       " 1.539,\n",
       " 1.54,\n",
       " 1.541,\n",
       " 1.542,\n",
       " 1.543,\n",
       " 1.544,\n",
       " 1.545,\n",
       " 1.546,\n",
       " 1.547,\n",
       " 1.548,\n",
       " 1.549,\n",
       " 1.55,\n",
       " 1.551,\n",
       " 1.552,\n",
       " 1.553,\n",
       " 1.554,\n",
       " 1.555,\n",
       " 1.556,\n",
       " 1.557,\n",
       " 1.558,\n",
       " 1.559,\n",
       " 1.56,\n",
       " 1.561,\n",
       " 1.562,\n",
       " 1.563,\n",
       " 1.564,\n",
       " 1.565,\n",
       " 1.566,\n",
       " 1.567,\n",
       " 1.568,\n",
       " 1.569,\n",
       " 1.57,\n",
       " 1.571,\n",
       " 1.572,\n",
       " 1.573,\n",
       " 1.574,\n",
       " 1.575,\n",
       " 1.576,\n",
       " 1.577,\n",
       " 1.578,\n",
       " 1.579,\n",
       " 1.58,\n",
       " 1.581,\n",
       " 1.582,\n",
       " 1.583,\n",
       " 1.584,\n",
       " 1.585,\n",
       " 1.586,\n",
       " 1.587,\n",
       " 1.588,\n",
       " 1.589,\n",
       " 1.59,\n",
       " 1.591,\n",
       " 1.592,\n",
       " 1.593,\n",
       " 1.594,\n",
       " 1.595,\n",
       " 1.596,\n",
       " 1.597,\n",
       " 1.598,\n",
       " 1.599,\n",
       " 1.6,\n",
       " 1.601,\n",
       " 1.602,\n",
       " 1.603,\n",
       " 1.604,\n",
       " 1.605,\n",
       " 1.606,\n",
       " 1.607,\n",
       " 1.608,\n",
       " 1.609,\n",
       " 1.61,\n",
       " 1.611,\n",
       " 1.612,\n",
       " 1.613,\n",
       " 1.614,\n",
       " 1.615,\n",
       " 1.616,\n",
       " 1.617,\n",
       " 1.6179999999999999,\n",
       " 1.619,\n",
       " 1.62,\n",
       " 1.621,\n",
       " 1.6219999999999999,\n",
       " 1.623,\n",
       " 1.624,\n",
       " 1.625,\n",
       " 1.626,\n",
       " 1.627,\n",
       " 1.6280000000000001,\n",
       " 1.629,\n",
       " 1.63,\n",
       " 1.631,\n",
       " 1.6320000000000001,\n",
       " 1.633,\n",
       " 1.634,\n",
       " 1.635,\n",
       " 1.6360000000000001,\n",
       " 1.637,\n",
       " 1.638,\n",
       " 1.639,\n",
       " 1.6400000000000001,\n",
       " 1.641,\n",
       " 1.642,\n",
       " 1.643,\n",
       " 1.644,\n",
       " 1.645,\n",
       " 1.646,\n",
       " 1.647,\n",
       " 1.648,\n",
       " 1.649,\n",
       " 1.65,\n",
       " 1.651,\n",
       " 1.652,\n",
       " 1.653,\n",
       " 1.654,\n",
       " 1.655,\n",
       " 1.656,\n",
       " 1.657,\n",
       " 1.658,\n",
       " 1.659,\n",
       " 1.66,\n",
       " 1.661,\n",
       " 1.662,\n",
       " 1.663,\n",
       " 1.664,\n",
       " 1.665,\n",
       " 1.666,\n",
       " 1.667,\n",
       " 1.668,\n",
       " 1.669,\n",
       " 1.67,\n",
       " 1.671,\n",
       " 1.672,\n",
       " 1.673,\n",
       " 1.674,\n",
       " 1.675,\n",
       " 1.676,\n",
       " 1.677,\n",
       " 1.678,\n",
       " 1.679,\n",
       " 1.68,\n",
       " 1.681,\n",
       " 1.682,\n",
       " 1.683,\n",
       " 1.684,\n",
       " 1.685,\n",
       " 1.686,\n",
       " 1.687,\n",
       " 1.688,\n",
       " 1.689,\n",
       " 1.69,\n",
       " 1.691,\n",
       " 1.692,\n",
       " 1.693,\n",
       " 1.694,\n",
       " 1.695,\n",
       " 1.696,\n",
       " 1.697,\n",
       " 1.698,\n",
       " 1.699,\n",
       " 1.7,\n",
       " 1.701,\n",
       " 1.702,\n",
       " 1.703,\n",
       " 1.704,\n",
       " 1.705,\n",
       " 1.706,\n",
       " 1.707,\n",
       " 1.708,\n",
       " 1.709,\n",
       " 1.71,\n",
       " 1.711,\n",
       " 1.712,\n",
       " 1.713,\n",
       " 1.714,\n",
       " 1.715,\n",
       " 1.716,\n",
       " 1.717,\n",
       " 1.718,\n",
       " 1.719,\n",
       " 1.72,\n",
       " 1.721,\n",
       " 1.722,\n",
       " 1.723,\n",
       " 1.724,\n",
       " 1.725,\n",
       " 1.726,\n",
       " 1.727,\n",
       " 1.728,\n",
       " 1.729,\n",
       " 1.73,\n",
       " 1.731,\n",
       " 1.732,\n",
       " 1.733,\n",
       " 1.734,\n",
       " 1.7349999999999999,\n",
       " 1.736,\n",
       " 1.737,\n",
       " 1.738,\n",
       " 1.7389999999999999,\n",
       " 1.74,\n",
       " 1.741,\n",
       " 1.742,\n",
       " 1.7429999999999999,\n",
       " 1.744,\n",
       " 1.745,\n",
       " 1.746,\n",
       " 1.7469999999999999,\n",
       " 1.748,\n",
       " 1.749,\n",
       " 1.75,\n",
       " 1.751,\n",
       " 1.752,\n",
       " 1.7530000000000001,\n",
       " 1.754,\n",
       " 1.755,\n",
       " 1.756,\n",
       " 1.7570000000000001,\n",
       " 1.758,\n",
       " 1.759,\n",
       " 1.76,\n",
       " 1.7610000000000001,\n",
       " 1.762,\n",
       " 1.763,\n",
       " 1.764,\n",
       " 1.7650000000000001,\n",
       " 1.766,\n",
       " 1.767,\n",
       " 1.768,\n",
       " 1.7690000000000001,\n",
       " 1.77,\n",
       " 1.771,\n",
       " 1.772,\n",
       " 1.7730000000000001,\n",
       " 1.774,\n",
       " 1.775,\n",
       " 1.776,\n",
       " 1.7770000000000001,\n",
       " 1.778,\n",
       " 1.779,\n",
       " 1.78,\n",
       " 1.7810000000000001,\n",
       " 1.782,\n",
       " 1.783,\n",
       " 1.784,\n",
       " 1.785,\n",
       " 1.786,\n",
       " 1.787,\n",
       " 1.788,\n",
       " 1.789,\n",
       " 1.79,\n",
       " 1.791,\n",
       " 1.792,\n",
       " 1.793,\n",
       " 1.794,\n",
       " 1.795,\n",
       " 1.796,\n",
       " 1.797,\n",
       " 1.798,\n",
       " 1.799,\n",
       " 1.8,\n",
       " 1.801,\n",
       " 1.802,\n",
       " 1.803,\n",
       " 1.804,\n",
       " 1.805,\n",
       " 1.806,\n",
       " 1.807,\n",
       " 1.808,\n",
       " 1.809,\n",
       " 1.81,\n",
       " 1.811,\n",
       " 1.812,\n",
       " 1.813,\n",
       " 1.814,\n",
       " 1.815,\n",
       " 1.816,\n",
       " 1.817,\n",
       " 1.818,\n",
       " 1.819,\n",
       " 1.82,\n",
       " 1.821,\n",
       " 1.822,\n",
       " 1.823,\n",
       " 1.824,\n",
       " 1.825,\n",
       " 1.826,\n",
       " 1.827,\n",
       " 1.828,\n",
       " 1.829,\n",
       " 1.83,\n",
       " 1.831,\n",
       " 1.832,\n",
       " 1.833,\n",
       " 1.834,\n",
       " 1.835,\n",
       " 1.836,\n",
       " 1.837,\n",
       " 1.838,\n",
       " 1.839,\n",
       " 1.84,\n",
       " 1.841,\n",
       " 1.842,\n",
       " 1.843,\n",
       " 1.8439999999999999,\n",
       " 1.845,\n",
       " 1.846,\n",
       " 1.847,\n",
       " 1.8479999999999999,\n",
       " 1.849,\n",
       " 1.85,\n",
       " 1.851,\n",
       " 1.8519999999999999,\n",
       " 1.853,\n",
       " 1.854,\n",
       " 1.855,\n",
       " 1.8559999999999999,\n",
       " 1.857,\n",
       " 1.858,\n",
       " 1.859,\n",
       " 1.8599999999999999,\n",
       " 1.861,\n",
       " 1.862,\n",
       " 1.863,\n",
       " 1.8639999999999999,\n",
       " 1.865,\n",
       " 1.866,\n",
       " 1.867,\n",
       " 1.8679999999999999,\n",
       " 1.869,\n",
       " 1.87,\n",
       " 1.871,\n",
       " 1.8719999999999999,\n",
       " 1.873,\n",
       " 1.874,\n",
       " 1.875,\n",
       " 1.876,\n",
       " 1.877,\n",
       " 1.8780000000000001,\n",
       " 1.879,\n",
       " 1.88,\n",
       " 1.881,\n",
       " 1.8820000000000001,\n",
       " 1.883,\n",
       " 1.884,\n",
       " 1.885,\n",
       " 1.8860000000000001,\n",
       " 1.887,\n",
       " 1.888,\n",
       " 1.889,\n",
       " 1.8900000000000001,\n",
       " 1.891,\n",
       " 1.892,\n",
       " 1.893,\n",
       " 1.8940000000000001,\n",
       " 1.895,\n",
       " 1.896,\n",
       " 1.897,\n",
       " 1.8980000000000001,\n",
       " 1.899,\n",
       " 1.9,\n",
       " 1.901,\n",
       " 1.9020000000000001,\n",
       " 1.903,\n",
       " 1.904,\n",
       " 1.905,\n",
       " 1.9060000000000001,\n",
       " 1.907,\n",
       " 1.908,\n",
       " 1.909,\n",
       " 1.91,\n",
       " 1.911,\n",
       " 1.912,\n",
       " 1.913,\n",
       " 1.914,\n",
       " 1.915,\n",
       " 1.916,\n",
       " 1.917,\n",
       " 1.918,\n",
       " 1.919,\n",
       " 1.92,\n",
       " 1.921,\n",
       " 1.922,\n",
       " 1.923,\n",
       " 1.924,\n",
       " 1.925,\n",
       " 1.926,\n",
       " 1.927,\n",
       " 1.928,\n",
       " 1.929,\n",
       " 1.93,\n",
       " 1.931,\n",
       " 1.932,\n",
       " 1.933,\n",
       " 1.934,\n",
       " 1.935,\n",
       " 1.936,\n",
       " 1.937,\n",
       " 1.938,\n",
       " 1.939,\n",
       " 1.94,\n",
       " 1.941,\n",
       " 1.942,\n",
       " 1.943,\n",
       " 1.944,\n",
       " 1.945,\n",
       " 1.946,\n",
       " 1.947,\n",
       " 1.948,\n",
       " 1.949,\n",
       " 1.95,\n",
       " 1.951,\n",
       " 1.952,\n",
       " 1.953,\n",
       " 1.954,\n",
       " 1.955,\n",
       " 1.956,\n",
       " 1.957,\n",
       " 1.958,\n",
       " 1.959,\n",
       " 1.96,\n",
       " 1.961,\n",
       " 1.962,\n",
       " 1.963,\n",
       " 1.964,\n",
       " 1.965,\n",
       " 1.966,\n",
       " 1.967,\n",
       " 1.968,\n",
       " 1.9689999999999999,\n",
       " 1.97,\n",
       " 1.971,\n",
       " 1.972,\n",
       " 1.9729999999999999,\n",
       " 1.974,\n",
       " 1.975,\n",
       " 1.976,\n",
       " 1.9769999999999999,\n",
       " 1.978,\n",
       " 1.979,\n",
       " 1.98,\n",
       " 1.9809999999999999,\n",
       " 1.982,\n",
       " 1.983,\n",
       " 1.984,\n",
       " 1.9849999999999999,\n",
       " 1.986,\n",
       " 1.987,\n",
       " 1.988,\n",
       " 1.9889999999999999,\n",
       " 1.99,\n",
       " 1.991,\n",
       " 1.992,\n",
       " 1.9929999999999999,\n",
       " 1.994,\n",
       " 1.995,\n",
       " 1.996,\n",
       " 1.9969999999999999,\n",
       " 1.998,\n",
       " 1.999,\n",
       " 2.0,\n",
       " 2.001,\n",
       " 2.002,\n",
       " 2.003,\n",
       " 2.004,\n",
       " 2.005,\n",
       " 2.0060000000000002,\n",
       " 2.007,\n",
       " 2.008,\n",
       " 2.009,\n",
       " 2.01,\n",
       " 2.011,\n",
       " 2.012,\n",
       " 2.013,\n",
       " 2.0140000000000002,\n",
       " 2.015,\n",
       " 2.016,\n",
       " 2.017,\n",
       " 2.018,\n",
       " 2.019,\n",
       " 2.02,\n",
       " 2.021,\n",
       " 2.0220000000000002,\n",
       " 2.023,\n",
       " 2.024,\n",
       " 2.025,\n",
       " 2.026,\n",
       " 2.027,\n",
       " 2.028,\n",
       " 2.029,\n",
       " 2.0300000000000002,\n",
       " 2.031,\n",
       " 2.032,\n",
       " 2.033,\n",
       " 2.034,\n",
       " 2.035,\n",
       " 2.036,\n",
       " 2.037,\n",
       " 2.0380000000000003,\n",
       " 2.039,\n",
       " 2.04,\n",
       " 2.041,\n",
       " 2.042,\n",
       " 2.043,\n",
       " 2.044,\n",
       " 2.045,\n",
       " 2.0460000000000003,\n",
       " 2.047,\n",
       " 2.048,\n",
       " 2.049,\n",
       " 2.05,\n",
       " 2.051,\n",
       " 2.052,\n",
       " 2.053,\n",
       " 2.0540000000000003,\n",
       " 2.055,\n",
       " 2.056,\n",
       " 2.057,\n",
       " 2.058,\n",
       " 2.059,\n",
       " 2.06,\n",
       " 2.061,\n",
       " 2.0620000000000003,\n",
       " 2.0629999999999997,\n",
       " 2.064,\n",
       " 2.065,\n",
       " 2.066,\n",
       " 2.067,\n",
       " 2.068,\n",
       " 2.069,\n",
       " 2.07,\n",
       " 2.0709999999999997,\n",
       " 2.072,\n",
       " 2.073,\n",
       " 2.074,\n",
       " 2.075,\n",
       " 2.076,\n",
       " 2.077,\n",
       " 2.078,\n",
       " 2.0789999999999997,\n",
       " 2.08,\n",
       " 2.081,\n",
       " 2.082,\n",
       " 2.083,\n",
       " 2.084,\n",
       " 2.085,\n",
       " 2.086,\n",
       " 2.0869999999999997,\n",
       " 2.088,\n",
       " 2.089,\n",
       " 2.09,\n",
       " 2.091,\n",
       " 2.092,\n",
       " 2.093,\n",
       " 2.094,\n",
       " 2.0949999999999998,\n",
       " 2.096,\n",
       " 2.097,\n",
       " 2.098,\n",
       " 2.099,\n",
       " 2.1,\n",
       " 2.101,\n",
       " 2.102,\n",
       " 2.1029999999999998,\n",
       " 2.104,\n",
       " 2.105,\n",
       " 2.106,\n",
       " 2.107,\n",
       " 2.108,\n",
       " 2.109,\n",
       " 2.11,\n",
       " 2.1109999999999998,\n",
       " 2.112,\n",
       " 2.113,\n",
       " 2.114,\n",
       " 2.115,\n",
       " 2.116,\n",
       " 2.117,\n",
       " 2.118,\n",
       " 2.1189999999999998,\n",
       " 2.12,\n",
       " 2.121,\n",
       " 2.122,\n",
       " 2.123,\n",
       " 2.124,\n",
       " 2.125,\n",
       " 2.126,\n",
       " 2.127,\n",
       " 2.128,\n",
       " 2.129,\n",
       " 2.13,\n",
       " 2.1310000000000002,\n",
       " 2.132,\n",
       " 2.133,\n",
       " 2.134,\n",
       " 2.135,\n",
       " 2.136,\n",
       " 2.137,\n",
       " 2.138,\n",
       " 2.1390000000000002,\n",
       " 2.14,\n",
       " 2.141,\n",
       " 2.142,\n",
       " 2.143,\n",
       " 2.144,\n",
       " 2.145,\n",
       " 2.146,\n",
       " 2.1470000000000002,\n",
       " 2.148,\n",
       " 2.149,\n",
       " 2.15,\n",
       " 2.151,\n",
       " 2.152,\n",
       " 2.153,\n",
       " 2.154,\n",
       " 2.1550000000000002,\n",
       " 2.156,\n",
       " 2.157,\n",
       " 2.158,\n",
       " 2.159,\n",
       " 2.16,\n",
       " 2.161,\n",
       " 2.162,\n",
       " 2.1630000000000003,\n",
       " 2.164,\n",
       " 2.165,\n",
       " 2.166,\n",
       " 2.167,\n",
       " 2.168,\n",
       " 2.169,\n",
       " 2.17,\n",
       " 2.1710000000000003,\n",
       " 2.172,\n",
       " 2.173,\n",
       " 2.174,\n",
       " 2.175,\n",
       " 2.176,\n",
       " 2.177,\n",
       " 2.178,\n",
       " 2.1790000000000003,\n",
       " 2.18,\n",
       " 2.181,\n",
       " 2.182,\n",
       " 2.183,\n",
       " 2.184,\n",
       " 2.185,\n",
       " 2.186,\n",
       " 2.1870000000000003,\n",
       " 2.1879999999999997,\n",
       " 2.189,\n",
       " 2.19,\n",
       " 2.191,\n",
       " 2.192,\n",
       " 2.193,\n",
       " 2.194,\n",
       " 2.195,\n",
       " 2.1959999999999997,\n",
       " 2.197,\n",
       " 2.198,\n",
       " 2.199,\n",
       " 2.2,\n",
       " 2.201,\n",
       " 2.202,\n",
       " 2.203,\n",
       " 2.2039999999999997,\n",
       " 2.205,\n",
       " 2.206,\n",
       " 2.207,\n",
       " 2.208,\n",
       " 2.209,\n",
       " 2.21,\n",
       " 2.211,\n",
       " 2.2119999999999997,\n",
       " 2.213,\n",
       " 2.214,\n",
       " 2.215,\n",
       " 2.216,\n",
       " 2.217,\n",
       " 2.218,\n",
       " 2.219,\n",
       " 2.2199999999999998,\n",
       " 2.221,\n",
       " 2.222,\n",
       " 2.223,\n",
       " 2.224,\n",
       " 2.225,\n",
       " 2.226,\n",
       " 2.227,\n",
       " 2.2279999999999998,\n",
       " 2.229,\n",
       " 2.23,\n",
       " 2.231,\n",
       " 2.232,\n",
       " 2.233,\n",
       " 2.234,\n",
       " 2.235,\n",
       " 2.2359999999999998,\n",
       " 2.237,\n",
       " 2.238,\n",
       " 2.239,\n",
       " 2.24,\n",
       " 2.241,\n",
       " 2.242,\n",
       " 2.243,\n",
       " 2.2439999999999998,\n",
       " 2.245,\n",
       " 2.246,\n",
       " 2.247,\n",
       " 2.248,\n",
       " 2.249,\n",
       " 2.25,\n",
       " 2.251,\n",
       " 2.252,\n",
       " 2.253,\n",
       " 2.254,\n",
       " 2.255,\n",
       " 2.2560000000000002,\n",
       " 2.257,\n",
       " 2.258,\n",
       " 2.259,\n",
       " 2.26,\n",
       " 2.261,\n",
       " 2.262,\n",
       " 2.263,\n",
       " 2.2640000000000002,\n",
       " 2.265,\n",
       " 2.266,\n",
       " 2.267,\n",
       " 2.268,\n",
       " 2.269,\n",
       " 2.27,\n",
       " 2.271,\n",
       " 2.2720000000000002,\n",
       " 2.273,\n",
       " 2.274,\n",
       " 2.275,\n",
       " 2.276,\n",
       " 2.277,\n",
       " 2.278,\n",
       " 2.279,\n",
       " 2.2800000000000002,\n",
       " 2.281,\n",
       " 2.282,\n",
       " 2.283,\n",
       " 2.284,\n",
       " 2.285,\n",
       " 2.286,\n",
       " 2.287,\n",
       " 2.2880000000000003,\n",
       " 2.289,\n",
       " 2.29,\n",
       " 2.291,\n",
       " 2.292,\n",
       " 2.293,\n",
       " 2.294,\n",
       " 2.295,\n",
       " 2.2960000000000003,\n",
       " 2.297,\n",
       " 2.298,\n",
       " 2.299,\n",
       " 2.3,\n",
       " 2.301,\n",
       " 2.302,\n",
       " 2.303,\n",
       " 2.3040000000000003,\n",
       " 2.305,\n",
       " 2.306,\n",
       " 2.307,\n",
       " 2.308,\n",
       " 2.309,\n",
       " 2.31,\n",
       " 2.311,\n",
       " 2.3120000000000003,\n",
       " 2.3129999999999997,\n",
       " 2.314,\n",
       " 2.315,\n",
       " 2.316,\n",
       " 2.317,\n",
       " 2.318,\n",
       " 2.319,\n",
       " 2.32,\n",
       " 2.3209999999999997,\n",
       " 2.322,\n",
       " 2.323,\n",
       " 2.324,\n",
       " 2.325,\n",
       " 2.326,\n",
       " 2.327,\n",
       " 2.328,\n",
       " 2.3289999999999997,\n",
       " 2.33,\n",
       " 2.331,\n",
       " 2.332,\n",
       " 2.333,\n",
       " 2.334,\n",
       " 2.335,\n",
       " 2.336,\n",
       " 2.3369999999999997,\n",
       " 2.338,\n",
       " 2.339,\n",
       " 2.34,\n",
       " 2.341,\n",
       " 2.342,\n",
       " 2.343,\n",
       " 2.344,\n",
       " 2.3449999999999998,\n",
       " 2.346,\n",
       " 2.347,\n",
       " 2.348,\n",
       " 2.349,\n",
       " 2.35,\n",
       " 2.351,\n",
       " 2.352,\n",
       " 2.3529999999999998,\n",
       " 2.354,\n",
       " 2.355,\n",
       " 2.356,\n",
       " 2.357,\n",
       " 2.358,\n",
       " 2.359,\n",
       " 2.36,\n",
       " 2.3609999999999998,\n",
       " 2.362,\n",
       " 2.363,\n",
       " 2.364,\n",
       " 2.365,\n",
       " 2.366,\n",
       " 2.367,\n",
       " 2.368,\n",
       " 2.3689999999999998,\n",
       " 2.37,\n",
       " 2.371,\n",
       " 2.372,\n",
       " 2.373,\n",
       " 2.374,\n",
       " 2.375,\n",
       " 2.376,\n",
       " 2.377,\n",
       " 2.378,\n",
       " 2.379,\n",
       " 2.38,\n",
       " 2.3810000000000002,\n",
       " 2.382,\n",
       " 2.383,\n",
       " 2.384,\n",
       " 2.385,\n",
       " 2.386,\n",
       " 2.387,\n",
       " 2.388,\n",
       " 2.3890000000000002,\n",
       " 2.39,\n",
       " 2.391,\n",
       " 2.392,\n",
       " 2.393,\n",
       " 2.394,\n",
       " 2.395,\n",
       " 2.396,\n",
       " 2.3970000000000002,\n",
       " 2.398,\n",
       " 2.399,\n",
       " 2.4,\n",
       " 2.401,\n",
       " 2.402,\n",
       " 2.403,\n",
       " 2.404,\n",
       " 2.4050000000000002,\n",
       " 2.406,\n",
       " 2.407,\n",
       " 2.408,\n",
       " 2.409,\n",
       " 2.41,\n",
       " 2.411,\n",
       " 2.412,\n",
       " 2.4130000000000003,\n",
       " 2.414,\n",
       " 2.415,\n",
       " 2.416,\n",
       " 2.417,\n",
       " 2.418,\n",
       " 2.419,\n",
       " 2.42,\n",
       " 2.4210000000000003,\n",
       " 2.422,\n",
       " 2.423,\n",
       " 2.424,\n",
       " 2.425,\n",
       " 2.426,\n",
       " 2.427,\n",
       " 2.428,\n",
       " 2.4290000000000003,\n",
       " 2.43,\n",
       " 2.431,\n",
       " 2.432,\n",
       " 2.433,\n",
       " 2.434,\n",
       " 2.435,\n",
       " 2.436,\n",
       " 2.4370000000000003,\n",
       " 2.4379999999999997,\n",
       " 2.439,\n",
       " 2.44,\n",
       " 2.441,\n",
       " 2.442,\n",
       " 2.443,\n",
       " 2.444,\n",
       " 2.445,\n",
       " 2.4459999999999997,\n",
       " 2.447,\n",
       " 2.448,\n",
       " 2.449,\n",
       " 2.45,\n",
       " 2.451,\n",
       " 2.452,\n",
       " 2.453,\n",
       " 2.4539999999999997,\n",
       " 2.455,\n",
       " 2.456,\n",
       " 2.457,\n",
       " 2.458,\n",
       " 2.459,\n",
       " 2.46,\n",
       " 2.461,\n",
       " 2.4619999999999997,\n",
       " 2.463,\n",
       " 2.464,\n",
       " 2.465,\n",
       " 2.466,\n",
       " 2.467,\n",
       " 2.468,\n",
       " 2.469,\n",
       " 2.4699999999999998,\n",
       " 2.471,\n",
       " 2.472,\n",
       " 2.473,\n",
       " 2.474,\n",
       " 2.475,\n",
       " 2.476,\n",
       " 2.477,\n",
       " 2.4779999999999998,\n",
       " 2.479,\n",
       " 2.48,\n",
       " 2.481,\n",
       " 2.482,\n",
       " 2.483,\n",
       " 2.484,\n",
       " 2.485,\n",
       " 2.4859999999999998,\n",
       " 2.487,\n",
       " 2.488,\n",
       " 2.489,\n",
       " 2.49,\n",
       " 2.491,\n",
       " 2.492,\n",
       " 2.493,\n",
       " 2.4939999999999998,\n",
       " 2.495,\n",
       " 2.496,\n",
       " 2.497,\n",
       " 2.498,\n",
       " 2.499]"
      ]
     },
     "execution_count": 32,
     "metadata": {},
     "output_type": "execute_result"
    }
   ],
   "source": [
    "[1.5 + ix / 1000 for ix in config.ix_list]"
   ]
  },
  {
   "cell_type": "code",
   "execution_count": 84,
   "id": "d3dbc923-79b7-484f-8885-0be779ff7b39",
   "metadata": {
    "scrolled": true,
    "tags": []
   },
   "outputs": [
    {
     "name": "stdout",
     "output_type": "stream",
     "text": [
      "find_kiro_idx_head: 0\n",
      "find_kiro_idx_tail: 0\n"
     ]
    }
   ],
   "source": [
    "find_kiro_idx_head = 0\n",
    "find_kiro_idx_tail = 0\n",
    "for idx, fname in enumerate(list_images):\n",
    "    image_name = re.split('[./]', fname)[-2]\n",
    "    if not find_kiro_idx_head:\n",
    "        # print(f\"{idx}> if\")\n",
    "        if image_name.split(\".\")[0] in kiro_dict[camera_num].keys():\n",
    "            find_kiro_idx_head = idx\n",
    "            continue\n",
    "    else:\n",
    "        # print(f\"{idx}> else\")\n",
    "        if image_name.split(\".\")[0] in kiro_dict[camera_num].keys():\n",
    "            # print(\"if\")\n",
    "            find_kiro_idx_tail = idx\n",
    "\n",
    "if find_kiro_idx_head and not find_kiro_idx_tail:\n",
    "    find_kiro_idx_tail = len(list_images) - 1\n",
    "\n",
    "print(f\"find_kiro_idx_head: {find_kiro_idx_head}\")\n",
    "print(f\"find_kiro_idx_tail: {find_kiro_idx_tail}\")\n"
   ]
  },
  {
   "cell_type": "code",
   "execution_count": 43,
   "id": "c8870a7b-5a96-4be8-b3b1-774dd8bf2932",
   "metadata": {
    "tags": []
   },
   "outputs": [
    {
     "data": {
      "text/plain": [
       "False"
      ]
     },
     "execution_count": 43,
     "metadata": {},
     "output_type": "execute_result"
    }
   ],
   "source": [
    "bool(not find_kiro_idx_head)"
   ]
  },
  {
   "cell_type": "code",
   "execution_count": 44,
   "id": "3b56f35b-0c89-4dfd-ab5c-b2531c1a8256",
   "metadata": {
    "tags": []
   },
   "outputs": [
    {
     "data": {
      "text/plain": [
       "'2023_0117_HD32_01_00018756'"
      ]
     },
     "execution_count": 44,
     "metadata": {},
     "output_type": "execute_result"
    }
   ],
   "source": [
    "image_name.split(\".\")[0]"
   ]
  },
  {
   "cell_type": "code",
   "execution_count": 79,
   "id": "239c57b5-1c4e-41cd-a659-88aefbc61882",
   "metadata": {
    "tags": []
   },
   "outputs": [],
   "source": [
    "# 修正後\n",
    "def experimental_get_image_match_idx(list_images, kiro_dict, camera_num):\n",
    "    \"\"\" ローカルの画像ファイル名リストについて、キロ程情報の辞書に含まれる範囲を取得する\n",
    "    Args:\n",
    "        list_images(list): ディレクトリ内のファイル名リスト\n",
    "        kiro_dict(dict): 車モニのデータベースから作成したキロ程情報の辞書\n",
    "        camera_num(str): 解析中のカメラ番号 (例)HD11\n",
    "    Return:\n",
    "        image_match_idx(list): マッチする範囲のリスト[最初, 最後]\n",
    "    \"\"\"\n",
    "    find_kiro_idx_head = 0\n",
    "    find_kiro_idx_tail = 0\n",
    "    kiro_keys = set(kiro_dict[camera_num].keys())  # 辞書のキーをセットに変換\n",
    "\n",
    "    # find_kiro_idx_headを見つける\n",
    "    for idx, fname in enumerate(list_images):\n",
    "        image_name = re.split('[./]', fname)[-2]\n",
    "        if image_name.split(\".\")[0] in kiro_keys:\n",
    "            find_kiro_idx_head = idx\n",
    "            break\n",
    "\n",
    "    # find_kiro_idx_tailを見つける\n",
    "    for idx, fname in reversed(list(enumerate(list_images))):\n",
    "        image_name = re.split('[./]', fname)[-2]\n",
    "        if image_name.split(\".\")[0] in kiro_keys:\n",
    "            find_kiro_idx_tail = idx\n",
    "            break\n",
    "\n",
    "    # find_kiro_idx_headが設定されていない場合の処理\n",
    "    if not find_kiro_idx_head:\n",
    "        find_kiro_idx_tail = len(list_images) - 1\n",
    "    return [find_kiro_idx_head, find_kiro_idx_tail]"
   ]
  },
  {
   "cell_type": "code",
   "execution_count": 72,
   "id": "8369f20f-592a-45e6-b50c-e975a2d008a8",
   "metadata": {
    "tags": []
   },
   "outputs": [
    {
     "name": "stdout",
     "output_type": "stream",
     "text": [
      "523 µs ± 86.3 µs per loop (mean ± std. dev. of 7 runs, 1,000 loops each)\n"
     ]
    }
   ],
   "source": [
    "%%timeit\n",
    "image_match_idx = experimental_get_image_match_idx(list_images, kiro_dict)"
   ]
  },
  {
   "cell_type": "code",
   "execution_count": 73,
   "id": "936d2557-15ff-476e-8ae5-c893b034f4cb",
   "metadata": {
    "tags": []
   },
   "outputs": [
    {
     "name": "stdout",
     "output_type": "stream",
     "text": [
      "CPU times: user 3.51 ms, sys: 0 ns, total: 3.51 ms\n",
      "Wall time: 5.21 ms\n"
     ]
    },
    {
     "data": {
      "text/plain": [
       "[25, 3442]"
      ]
     },
     "execution_count": 73,
     "metadata": {},
     "output_type": "execute_result"
    }
   ],
   "source": [
    "%%time\n",
    "image_match_idx = experimental_get_image_match_idx(list_images, kiro_dict)\n",
    "image_match_idx"
   ]
  },
  {
   "cell_type": "code",
   "execution_count": null,
   "id": "213f8c4b-e4f9-4832-911a-cf98fdb061cb",
   "metadata": {},
   "outputs": [],
   "source": []
  },
  {
   "cell_type": "code",
   "execution_count": 69,
   "id": "b4d84045-77fc-4dce-93f1-0dbe30085a3d",
   "metadata": {
    "tags": []
   },
   "outputs": [
    {
     "data": {
      "text/plain": [
       "[25, 3442]"
      ]
     },
     "execution_count": 69,
     "metadata": {},
     "output_type": "execute_result"
    }
   ],
   "source": [
    "image_match_idx"
   ]
  },
  {
   "cell_type": "code",
   "execution_count": 23,
   "id": "4de71490-a8ff-405b-bc57-129a36c1f7d1",
   "metadata": {
    "tags": []
   },
   "outputs": [],
   "source": [
    "# 作業用ここまで"
   ]
  },
  {
   "cell_type": "code",
   "execution_count": null,
   "id": "9814f3a1-4433-4ded-b339-6272ce16a3e6",
   "metadata": {},
   "outputs": [],
   "source": []
  },
  {
   "cell_type": "code",
   "execution_count": null,
   "id": "466ddcf6-7737-442a-962b-7043ee0df81d",
   "metadata": {},
   "outputs": [],
   "source": []
  },
  {
   "cell_type": "code",
   "execution_count": 7,
   "id": "11586316-4263-43d0-a0f0-bccf2fbbb4ea",
   "metadata": {
    "tags": []
   },
   "outputs": [
    {
     "data": {
      "text/html": [
       "<div>\n",
       "<style scoped>\n",
       "    .dataframe tbody tr th:only-of-type {\n",
       "        vertical-align: middle;\n",
       "    }\n",
       "\n",
       "    .dataframe tbody tr th {\n",
       "        vertical-align: top;\n",
       "    }\n",
       "\n",
       "    .dataframe thead th {\n",
       "        text-align: right;\n",
       "    }\n",
       "</style>\n",
       "<table border=\"1\" class=\"dataframe\">\n",
       "  <thead>\n",
       "    <tr style=\"text-align: right;\">\n",
       "      <th></th>\n",
       "      <th>DenchuNo</th>\n",
       "      <th>KiroTei</th>\n",
       "    </tr>\n",
       "    <tr>\n",
       "      <th>file_name</th>\n",
       "      <th></th>\n",
       "      <th></th>\n",
       "    </tr>\n",
       "  </thead>\n",
       "  <tbody>\n",
       "    <tr>\n",
       "      <th>HD11_2023_0117_HD11_01_00015339</th>\n",
       "      <td>33</td>\n",
       "      <td>2.99980</td>\n",
       "    </tr>\n",
       "    <tr>\n",
       "      <th>HD11_2023_0117_HD11_01_00015340</th>\n",
       "      <td>33</td>\n",
       "      <td>3.00180</td>\n",
       "    </tr>\n",
       "    <tr>\n",
       "      <th>HD11_2023_0117_HD11_01_00015341</th>\n",
       "      <td>33</td>\n",
       "      <td>3.00380</td>\n",
       "    </tr>\n",
       "    <tr>\n",
       "      <th>HD11_2023_0117_HD11_01_00015342</th>\n",
       "      <td>33</td>\n",
       "      <td>3.00580</td>\n",
       "    </tr>\n",
       "    <tr>\n",
       "      <th>HD11_2023_0117_HD11_01_00015343</th>\n",
       "      <td>33</td>\n",
       "      <td>3.00780</td>\n",
       "    </tr>\n",
       "    <tr>\n",
       "      <th>...</th>\n",
       "      <td>...</td>\n",
       "      <td>...</td>\n",
       "    </tr>\n",
       "    <tr>\n",
       "      <th>HD32_2023_0117_HD32_01_00018752</th>\n",
       "      <td>1</td>\n",
       "      <td>9.58148</td>\n",
       "    </tr>\n",
       "    <tr>\n",
       "      <th>HD32_2023_0117_HD32_01_00018753</th>\n",
       "      <td>1</td>\n",
       "      <td>9.58350</td>\n",
       "    </tr>\n",
       "    <tr>\n",
       "      <th>HD32_2023_0117_HD32_01_00018754</th>\n",
       "      <td>1</td>\n",
       "      <td>9.58552</td>\n",
       "    </tr>\n",
       "    <tr>\n",
       "      <th>HD32_2023_0117_HD32_01_00018755</th>\n",
       "      <td>1</td>\n",
       "      <td>9.58754</td>\n",
       "    </tr>\n",
       "    <tr>\n",
       "      <th>HD32_2023_0117_HD32_01_00018756</th>\n",
       "      <td>1</td>\n",
       "      <td>9.58956</td>\n",
       "    </tr>\n",
       "  </tbody>\n",
       "</table>\n",
       "<p>20508 rows × 2 columns</p>\n",
       "</div>"
      ],
      "text/plain": [
       "                                 DenchuNo  KiroTei\n",
       "file_name                                         \n",
       "HD11_2023_0117_HD11_01_00015339        33  2.99980\n",
       "HD11_2023_0117_HD11_01_00015340        33  3.00180\n",
       "HD11_2023_0117_HD11_01_00015341        33  3.00380\n",
       "HD11_2023_0117_HD11_01_00015342        33  3.00580\n",
       "HD11_2023_0117_HD11_01_00015343        33  3.00780\n",
       "...                                   ...      ...\n",
       "HD32_2023_0117_HD32_01_00018752         1  9.58148\n",
       "HD32_2023_0117_HD32_01_00018753         1  9.58350\n",
       "HD32_2023_0117_HD32_01_00018754         1  9.58552\n",
       "HD32_2023_0117_HD32_01_00018755         1  9.58754\n",
       "HD32_2023_0117_HD32_01_00018756         1  9.58956\n",
       "\n",
       "[20508 rows x 2 columns]"
      ]
     },
     "execution_count": 7,
     "metadata": {},
     "output_type": "execute_result"
    }
   ],
   "source": [
    "# チェック用\n",
    "# JSONファイルの内容を読み込んでしてCSVで出力する\n",
    "\n",
    "import pandas as pd\n",
    "import json\n",
    "\n",
    "# JSONファイルのパス\n",
    "file_path = f'{config.tdm_dir}/{dir_area}.json'\n",
    "\n",
    "# JSONファイルを読み込む\n",
    "with open(file_path, 'r') as file:\n",
    "    data = json.load(file)\n",
    "\n",
    "# JSONデータからPandas DataFrameを作成\n",
    "# 行名を階層的なキーから生成し、各カラムに値を設定\n",
    "rows = []\n",
    "for parent_key, child_dict in data.items():\n",
    "    for child_key, attributes in child_dict.items():\n",
    "        file_name = f\"{parent_key}_{child_key}\"\n",
    "        rows.append({'file_name': file_name, 'DenchuNo': attributes['DenchuNo'], 'KiroTei': attributes['KiroTei']})\n",
    "\n",
    "# データフレームを作成\n",
    "df_json = pd.DataFrame(rows).set_index('file_name')\n",
    "\n",
    "# JSONから変換したCSVファイルを作成\n",
    "df_json.to_csv(\"TDM/{dir_area}.csv\")\n",
    "df_json"
   ]
  },
  {
   "cell_type": "code",
   "execution_count": 8,
   "id": "83a82b8a-fee1-48c9-af9d-4604bf01b29f",
   "metadata": {
    "tags": []
   },
   "outputs": [
    {
     "name": "stdout",
     "output_type": "stream",
     "text": [
      "JSONファイルに含まれる電柱番号\n"
     ]
    },
    {
     "data": {
      "text/plain": [
       "array([ 33,  34,  35,  36,  37,  38,  39,  40,  41,  42,  43,  44, 901,\n",
       "         1,   2,   3,   4,   5,   6,   7,   8,   9,  10,  11,  12,  13,\n",
       "        14,  15,  16,  17,  18,  19,  20,  21,  22,  23,  24,  25,  26,\n",
       "        27, 102,  28,  29,  30,  31,  32,  45,  46,  47,  48,  49,  50,\n",
       "        51,  52,  53,  54,  55,  56,  57,  58,  59,  60,  61,  62, 902])"
      ]
     },
     "execution_count": 8,
     "metadata": {},
     "output_type": "execute_result"
    }
   ],
   "source": [
    "print(\"JSONファイルに含まれる電柱番号\")\n",
    "df_json['DenchuNo'].unique()"
   ]
  },
  {
   "cell_type": "code",
   "execution_count": 9,
   "id": "115f579e-ad09-4db1-95ff-bf78a0ed5b97",
   "metadata": {
    "tags": []
   },
   "outputs": [
    {
     "name": "stdout",
     "output_type": "stream",
     "text": [
      "読み込まれたカメラ番号\n",
      "HD11 img_counts:3418\n",
      "HD12 img_counts:3418\n",
      "HD21 img_counts:3418\n",
      "HD22 img_counts:3418\n",
      "HD31 img_counts:3418\n",
      "HD32 img_counts:3418\n"
     ]
    },
    {
     "data": {
      "text/plain": [
       "{'DenchuNo': 33, 'KiroTei': 2.9997999999999996}"
      ]
     },
     "execution_count": 9,
     "metadata": {},
     "output_type": "execute_result"
    }
   ],
   "source": [
    "# 直接JSONファイルの中身を確認\n",
    "with open(file_path, 'r') as file:\n",
    "    data = json.load(file)\n",
    "\n",
    "print(\"読み込まれたカメラ番号\")\n",
    "for key in data.keys():\n",
    "    print(f\"{key} img_counts:{len(data[key])}\")\n",
    "\n",
    "# 画像ファイル名を指定して中身をチェックする\n",
    "data['HD11']['2023_0117_HD11_01_00015339']"
   ]
  },
  {
   "cell_type": "code",
   "execution_count": null,
   "id": "8a5f42ba-1d09-4342-884e-c322118c0d70",
   "metadata": {},
   "outputs": [],
   "source": []
  },
  {
   "cell_type": "code",
   "execution_count": 12,
   "id": "09655da2-eacf-49b8-89b4-fc6321f29e42",
   "metadata": {
    "tags": []
   },
   "outputs": [
    {
     "data": {
      "text/plain": [
       "'2023_0117_HD11_01_00015339'"
      ]
     },
     "execution_count": 12,
     "metadata": {},
     "output_type": "execute_result"
    }
   ],
   "source": [
    "image_name = \"2023_0117_HD11_01_00015339.jpg\"\n",
    "image_name.split(\".\")[0]"
   ]
  },
  {
   "cell_type": "code",
   "execution_count": 17,
   "id": "b41bb440-d4c9-451d-b1f8-394bf6e42363",
   "metadata": {
    "tags": []
   },
   "outputs": [
    {
     "data": {
      "text/plain": [
       "33"
      ]
     },
     "execution_count": 17,
     "metadata": {},
     "output_type": "execute_result"
    }
   ],
   "source": [
    "data['HD11'][image_name.split(\".\")[0]]['DenchuNo']"
   ]
  },
  {
   "cell_type": "code",
   "execution_count": 19,
   "id": "b7f0be05-e20b-4893-8c94-f27b885fe92d",
   "metadata": {
    "tags": []
   },
   "outputs": [
    {
     "data": {
      "text/plain": [
       "2.9997999999999996"
      ]
     },
     "execution_count": 19,
     "metadata": {},
     "output_type": "execute_result"
    }
   ],
   "source": [
    "data['HD11'][image_name.split(\".\")[0]]['KiroTei']"
   ]
  },
  {
   "cell_type": "code",
   "execution_count": null,
   "id": "0280165b-1a75-48e8-9e4a-0d1c1b2183f0",
   "metadata": {},
   "outputs": [],
   "source": []
  }
 ],
 "metadata": {
  "kernelspec": {
   "display_name": "conda_python3",
   "language": "python",
   "name": "conda_python3"
  },
  "language_info": {
   "codemirror_mode": {
    "name": "ipython",
    "version": 3
   },
   "file_extension": ".py",
   "mimetype": "text/x-python",
   "name": "python",
   "nbconvert_exporter": "python",
   "pygments_lexer": "ipython3",
   "version": "3.10.13"
  }
 },
 "nbformat": 4,
 "nbformat_minor": 5
}
