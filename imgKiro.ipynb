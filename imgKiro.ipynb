{
 "cells": [
  {
   "cell_type": "markdown",
   "id": "04d40131-7754-4344-97e8-339fe17323e5",
   "metadata": {
    "tags": []
   },
   "source": [
    "# 画像ファイルに対応するキロ程紐づけ用のJSONファイルを作成するノートブック\n",
    "```\n",
    "以下のコマンドを順番に実行していく\n",
    "想定しているディレクトリ構造は以下のとおり\n",
    ".\n",
    "├ imgs\n",
    "│  └ dir_area    :線区単位の画像を保存\n",
    "│     ├ HD11     :カメラ毎の画像を保存\n",
    "│     ├ HD12     :以下、同じ\n",
    "│     ├ HD21         \n",
    "│     ├ HD21 \n",
    "│     ├ HD31 \n",
    "│     └ HD32 \n",
    "├ TDM\n",
    "│  └ TDM_GazoFileIndex.xlsx  :車モニから出力したマスターデータ\n",
    "└ imgKiro.ipynb  :本ファイル\n",
    "```"
   ]
  },
  {
   "cell_type": "code",
   "execution_count": null,
   "id": "5845d9f9-3d02-4f6e-b7ec-6d1e8d20e965",
   "metadata": {
    "scrolled": true,
    "tags": []
   },
   "outputs": [],
   "source": [
    "!pip list"
   ]
  },
  {
   "cell_type": "markdown",
   "id": "64e9beed-a323-42f0-a53a-6347b9b1f542",
   "metadata": {
    "tags": []
   },
   "source": [
    "# 一括で線区フォルダごとのJSONファイルを作成する"
   ]
  },
  {
   "cell_type": "markdown",
   "id": "4beeb4a3-38e8-4a15-aa64-8f9415a507d9",
   "metadata": {},
   "source": [
    "## 1. ライブラリ読込み＆関数の定義"
   ]
  },
  {
   "cell_type": "code",
   "execution_count": 3,
   "id": "5938c02f-b83b-4668-a4fb-8bb748ee24a4",
   "metadata": {
    "tags": []
   },
   "outputs": [
    {
     "name": "stdout",
     "output_type": "stream",
     "text": [
      "準備完了\n"
     ]
    }
   ],
   "source": [
    "import importlib\n",
    "from pprint import pprint\n",
    "import boto3\n",
    "import gc\n",
    "import re\n",
    "import json\n",
    "import pandas as pd\n",
    "import numpy as np\n",
    "from tqdm.notebook import tqdm\n",
    "from PIL import Image, ImageDraw, ImageFont\n",
    "from src.config import appProperties\n",
    "import src.helpers as helpers\n",
    "# import src.visualize as vis\n",
    "importlib.reload(helpers)\n",
    "# importlib.reload(vis)\n",
    "\n",
    "config = appProperties('config.yml')    # config を取得\n",
    "\n",
    "\n",
    "def get_df(bucket_name, csv_file, columns):\n",
    "    \"\"\" 車モニのマスタデータを読み込む\n",
    "    Args:\n",
    "        tdm_fpath(str): 車モニ マスターデータのパス\n",
    "    Return:\n",
    "        df_tdm(DataFrame): 読み込まれたデータフレーム\n",
    "    \"\"\"\n",
    "\n",
    "    # TDM(車モニCSV)をS3からダウンロードする\n",
    "    download_path = f\"TDM/temp/{csv_file.split('/')[-1]}\"\n",
    "    print(\"車モニのマスターデータを読み込みます ※少し時間がかかります\")\n",
    "    download_file_from_s3(bucket_name, csv_file, download_path)\n",
    "    print(f'complete: {download_path=}')\n",
    "\n",
    "    # CSVからデータフレームを読み込む\n",
    "    df_tdm = pd.read_csv(download_path, names=columns, delimiter='|')\n",
    "\n",
    "    # データフレームを整形する\n",
    "    df_tdm['TimeCode'] = pd.to_datetime(df_tdm['TimeCode'])\n",
    "    df_tdm = df_tdm.sort_values(by=['SokuteiDate', 'KiroTei'], ignore_index=True)\n",
    "    print(\"車モニのマスターデータを読み込みました\")\n",
    "    print(f\"データフレームのサイズ:{df_tdm.shape}\")\n",
    "\n",
    "    # 欲しい列だけ抽出する\n",
    "    df_tdm = df_tdm.filter([\n",
    "        'EkiCd', 'SenbetsuCd', 'SokuteiDate', 'DenchuNo', 'KiroTei',               # Comment Out    'SokuteiYear' 'NennaiSeqNo'は追加されている\n",
    "        'GazoFileNameHD11', 'GazoFileNameHD12',\n",
    "        'GazoFileNameHD21', 'GazoFileNameHD22',\n",
    "        'GazoFileNameHD31', 'GazoFileNameHD32'\n",
    "    ]).copy()\n",
    "\n",
    "    print(\"必要な情報だけフィルタリングしました\")\n",
    "    print(f\"データフレームのサイズ:{df_tdm.shape}\")\n",
    "    return df_tdm\n",
    "\n",
    "\n",
    "def list_csv_files(bucket_name, prefix):\n",
    "    \"\"\" S3にあるCSVの一覧をゲット\n",
    "    \"\"\"\n",
    "    s3 = boto3.client('s3')\n",
    "    paginator = s3.get_paginator('list_objects_v2')\n",
    "\n",
    "    csv_files = []\n",
    "    for page in paginator.paginate(Bucket=bucket_name, Prefix=prefix):\n",
    "        if 'Contents' in page:\n",
    "            for obj in page['Contents']:\n",
    "                if obj['Key'].endswith('.csv'):\n",
    "                    csv_files.append(obj['Key'])\n",
    "\n",
    "    return csv_files\n",
    "\n",
    "\n",
    "def download_file_from_s3(bucket_name, key, download_path):\n",
    "    \"\"\" S3からダウンロードする\n",
    "    \"\"\"\n",
    "    s3 = boto3.client('s3')\n",
    "    s3.download_file(bucket_name, key, download_path)\n",
    "\n",
    "\n",
    "def get_columns_from_csv(bucket_name, columns_csv_key):\n",
    "    \"\"\" S3からカラム名リストをゲット\n",
    "    \"\"\"\n",
    "    s3 = boto3.client('s3')\n",
    "    obj = s3.get_object(Bucket=bucket_name, Key=columns_csv_key)\n",
    "    columns_df = pd.read_csv(obj['Body'])\n",
    "    return columns_df.columns.tolist()\n",
    "\n",
    "\n",
    "def get_KiroTei_dict(config, df):\n",
    "    \"\"\" 走行日・線区ごとのキロ程補正情報を辞書に記録する\n",
    "    \"\"\"\n",
    "    # カメラ番号ごとに、EkiCdのはじめの行をTrueとして記録する\n",
    "    for camera_num in config.camera_types:\n",
    "        df[f\"EkiCdDiff{camera_num}\"] = df.query(f\"GazoFileName{camera_num}.notnull()\", engine='python')['EkiCd'].diff().map(lambda x: x != 0)\n",
    "    # 走行日・線区ごとに、画像1枚あたりの幅(m)を算出して辞書に記録する\n",
    "    result_dict = {}\n",
    "    for camera_num in config.camera_types:\n",
    "        grouped_df = df.query(f\"GazoFileName{camera_num}.notnull()\", engine='python').groupby(['SokuteiDate', 'EkiCd'])['KiroTei'].count()\n",
    "        for (date, ekicd), count in grouped_df.items():\n",
    "            if date not in result_dict:\n",
    "                result_dict[date] = {}\n",
    "            if ekicd not in result_dict[date]:\n",
    "                result_dict[date][ekicd] = {}\n",
    "            # print(f\"camera_num: {camera_num}, date: {date}, ekicd: {ekicd}\")\n",
    "            KiroTei_head = df.query(f\"EkiCdDiff{camera_num}.notnull() & SokuteiDate == {date} & EkiCd == {ekicd}\", engine='python')['KiroTei'].iloc[0]\n",
    "            KiroTei_tail = df.query(f\"EkiCdDiff{camera_num}.notnull() & SokuteiDate == {date} & EkiCd == {ekicd}\", engine='python')['KiroTei'].iloc[-1]\n",
    "            result_dict[date][ekicd][camera_num] = {\n",
    "                'KiroTei_head': KiroTei_head,\n",
    "                'KiroTei_tail': KiroTei_tail,\n",
    "                'KiroTei_dist': round(KiroTei_tail - KiroTei_head, 4),\n",
    "                'KiroTei_delta': round((KiroTei_tail - KiroTei_head) / (count - 1), 6),\n",
    "                'count': count\n",
    "            }\n",
    "    return df.copy(), result_dict\n",
    "\n",
    "\n",
    "# def get_Kiro_offset(df_tdm, ref_point, date):                                                                                               # 2024.10.4 キロ程オフセット未使用化のためコメントアウト\n",
    "#     \"\"\" 基準位置を指定し、検測キロ程をNEWSSキロ程に変換するオフセット値を取得する\n",
    "#     Args:\n",
    "#         df_tdm(pd.DataFrame): \n",
    "#     Return:\n",
    "    \n",
    "#     \"\"\"\n",
    "#     pole_num_matched = df_tdm.query(\n",
    "#         f\"EkiCd == {ref_point['EkiCd_NEWSS']} & SokuteiDate == {date} & DenchuNo == {ref_point['pole_num_NEWSS']}\", engine='python'\n",
    "#     ).index.tolist()\n",
    "#     pole_kiro_twins = df_tdm.loc[min(pole_num_matched)]['KiroTei']\n",
    "#     pole_kiro_offset = ref_point['pole_kilo_NEWSS'] - pole_kiro_twins\n",
    "#     print(f\"基準にする電柱の検測キロ程: {pole_kiro_twins}km\")\n",
    "#     print(f\"　　　キロ程のオフセット値: {pole_kiro_offset}km\")\n",
    "#     return pole_kiro_offset\n",
    "\n",
    "\n",
    "# def get_Kiro_NEWSS(df_tdm, kiro_offset_dict):                                                                                               # 2024.10.4 キロ程オフセット未使用化のためコメントアウト\n",
    "#     df_tdm['KiroTei_NEWSS'] = df_tdm.apply(lambda row: row['KiroTei'] + kiro_offset_dict[row['SokuteiDate']], axis=1)\n",
    "#     return df_tdm\n",
    "\n",
    "\n",
    "def set_imgKiro(config, dir_area, df_tdm):\n",
    "    imgKilo = {}\n",
    "    for camera_num in tqdm(config.camera_types):\n",
    "        # カメラフォルダ内の画像ファイルを取得\n",
    "        image_dir = f\"{config.image_dir}/{dir_area}/{camera_num}/\"\n",
    "        print(image_dir)\n",
    "        list_images = helpers.list_images(image_dir)\n",
    "        print(f\"Image counts:{len(list_images)}\")\n",
    "        # 画像ファイル名に対応するキロ程を抽出して辞書型で記録する\n",
    "        imgKilo_temp = {}\n",
    "        # imgKilo_temp_values = {}\n",
    "        for fname in list_images:\n",
    "        # for fname in list_images:\n",
    "            image_name = re.split('[./]', fname)[-2]\n",
    "            df_tdm_Series = df_tdm[df_tdm[f\"GazoFileName{camera_num}\"] == image_name].copy()\n",
    "            if df_tdm_Series.empty:\n",
    "                continue\n",
    "            else:\n",
    "                DenchuNo = df_tdm_Series['DenchuNo'].item()\n",
    "                # KiroTei = df_tdm_Series['KiroTei_NEWSS'].round(4).item()                            # 2024.10.4 キロ程オフセット未使用化のためコメントアウト\n",
    "                KiroTei = df_tdm_Series['KiroTei'].round(4).item()                                    # 2024.10.4 キロ程オフセット未使用化のため追加\n",
    "\n",
    "            # imgKilo_temp_values[\"DenchuNo\"] = DenchuNo\n",
    "            # imgKilo_temp_values[\"KiroTei\"] = KiroTei\n",
    "            # imgKilo_temp[image_name] = imgKilo_temp_values.copy()\n",
    "            imgKilo_temp[image_name] = {\n",
    "                \"DenchuNo\": DenchuNo,\n",
    "                \"KiroTei\": KiroTei\n",
    "            }\n",
    "\n",
    "        if imgKilo_temp != {}:\n",
    "            imgKilo[camera_num] = imgKilo_temp.copy()\n",
    "\n",
    "    return imgKilo\n",
    "\n",
    "print(\"準備完了\")"
   ]
  },
  {
   "cell_type": "markdown",
   "id": "9be2c1bb-07c0-4f9a-8e99-d80b88243895",
   "metadata": {},
   "source": [
    "## 駅・駅間コードのjson作成"
   ]
  },
  {
   "cell_type": "code",
   "execution_count": null,
   "id": "1cb11995-f69c-48ba-9fe8-c270c1641dbe",
   "metadata": {
    "scrolled": true,
    "tags": []
   },
   "outputs": [],
   "source": [
    "## 2024.10.4 キロ程オフセット未使用化のためコメントアウト ##\n",
    "\n",
    "# エクセル読み込み\n",
    "# df_ekicode = pd.read_excel(f\"{config.tdm_dir}/Senku-Code.xlsx\")\n",
    "\n",
    "# # json元データ作成\n",
    "# eki_code = {}\n",
    "# for Senmei in df_ekicode[\"Senmei\"].unique():\n",
    "#     eki_code[Senmei] = {}\n",
    "#     # for idx, Kukan in enumerate(df_ekicode[\"Kukan\"]):\n",
    "#     for idx, Kukan in enumerate(df_ekicode[(df_ekicode['Senmei'] == Senmei)][\"Kukan\"]):\n",
    "#         df_ekicode_filtered = df_ekicode.query(f\"Senmei == '{Senmei}' & Kukan == '{Kukan}'\", engine=\"python\")\n",
    "#         eki_code[Senmei][Kukan] = {\n",
    "#             \"EkiCd_NEWSS\":df_ekicode_filtered[\"EkiCd\"].iloc[0],\n",
    "#             \"pole_num_NEWSS\":df_ekicode_filtered[\"DenchuNo\"].iloc[0],\n",
    "#             \"pole_kilo_NEWSS\":df_ekicode_filtered[\"KiroTei\"].iloc[0]\n",
    "#         }\n",
    "\n",
    "# # jsonファイルに書き出し\n",
    "# path = f\"{config.tdm_dir}/eki_code.json\"\n",
    "# with open(path, mode=\"wt\", encoding=\"utf-8\") as f:\n",
    "#     json.dump(eki_code, f, ensure_ascii=False, indent=2, default=helpers.default)"
   ]
  },
  {
   "cell_type": "code",
   "execution_count": null,
   "id": "4f7de836-1620-4553-965b-8489216e379f",
   "metadata": {
    "scrolled": true,
    "tags": []
   },
   "outputs": [],
   "source": [
    "## 2024.10.4 キロ程オフセット未使用化のためコメントアウト ##\n",
    "\n",
    "# jsonファイル確認（）\n",
    "# path = path = f\"{config.tdm_dir}/eki_code.json\"\n",
    "# with open(path, encoding=\"utf-8\") as f:\n",
    "#     eki_code_rd =  json.load(f)\n",
    "\n",
    "# for key in eki_code_rd[\"Takasaki\"].keys():\n",
    "#     print(key)"
   ]
  },
  {
   "cell_type": "code",
   "execution_count": null,
   "id": "3c26a086-722e-4288-b287-405831324af6",
   "metadata": {
    "tags": []
   },
   "outputs": [],
   "source": [
    "## 2024.10.4 キロ程オフセット未使用化のためコメントアウト ##\n",
    "\n",
    "# 駅コードのjsonファイルを読み込んでセットする\n",
    "# path = f\"{config.tdm_dir}/eki_code.json\"\n",
    "# with open(path, encoding=\"utf-8\") as f:\n",
    "#     eki_code =  json.load(f)"
   ]
  },
  {
   "cell_type": "markdown",
   "id": "7a52fc45-585d-480f-8982-cd48f6f40d1a",
   "metadata": {},
   "source": [
    "## 2. 車モニデータを利用して画像ごとのキロ程マスターデータ(JSON)を作成する\n",
    "```\n",
    "ファイルパスなどを設定する\n",
    "車モニのマスターデータは検測キロ程になっているため、NEWSSキロ程に合わせる基準を設定する\n",
    "```"
   ]
  },
  {
   "cell_type": "code",
   "execution_count": 2,
   "id": "df4ca01d-f9a5-43b3-a2a5-9d3219e4f9e0",
   "metadata": {
    "scrolled": true,
    "tags": []
   },
   "outputs": [
    {
     "name": "stderr",
     "output_type": "stream",
     "text": [
      "2024-10-07 03:41:56.814 INFO    botocore.credentials: Found credentials from IAM Role: BaseNotebookInstanceEc2InstanceRole\n"
     ]
    },
    {
     "name": "stdout",
     "output_type": "stream",
     "text": [
      "参考\n",
      "S3にあるTDM(車モニCSV):\n",
      "0> img-location-table/2024Q1/2024_0001-0180/TDM_GazoFileIndex_2024_0001.csv\n",
      "1> img-location-table/2024Q1/2024_0001-0180/TDM_GazoFileIndex_2024_0002.csv\n",
      "2> img-location-table/2024Q1/2024_0001-0180/TDM_GazoFileIndex_2024_0003.csv\n",
      "3> img-location-table/2024Q1/2024_0001-0180/TDM_GazoFileIndex_2024_0004.csv\n",
      "4> img-location-table/2024Q1/2024_0001-0180/TDM_GazoFileIndex_2024_0005.csv\n",
      "5> img-location-table/2024Q1/2024_0001-0180/TDM_GazoFileIndex_2024_0006.csv\n",
      "6> img-location-table/2024Q1/2024_0001-0180/TDM_GazoFileIndex_2024_0007.csv\n",
      "7> img-location-table/2024Q1/2024_0001-0180/TDM_GazoFileIndex_2024_0008.csv\n",
      "8> img-location-table/2024Q1/2024_0001-0180/TDM_GazoFileIndex_2024_0009.csv\n",
      "9> img-location-table/2024Q1/2024_0001-0180/TDM_GazoFileIndex_2024_0010.csv\n",
      "10> img-location-table/2024Q1/2024_0001-0180/TDM_GazoFileIndex_2024_0011.csv\n",
      "11> img-location-table/2024Q1/2024_0001-0180/TDM_GazoFileIndex_2024_0012.csv\n",
      "12> img-location-table/2024Q1/2024_0001-0180/TDM_GazoFileIndex_2024_0013.csv\n",
      "13> img-location-table/2024Q1/2024_0001-0180/TDM_GazoFileIndex_2024_0014.csv\n",
      "14> img-location-table/2024Q1/2024_0001-0180/TDM_GazoFileIndex_2024_0015.csv\n",
      "15> img-location-table/2024Q1/2024_0001-0180/TDM_GazoFileIndex_2024_0016.csv\n",
      "16> img-location-table/2024Q1/2024_0001-0180/TDM_GazoFileIndex_2024_0017.csv\n",
      "17> img-location-table/2024Q1/2024_0001-0180/TDM_GazoFileIndex_2024_0018.csv\n",
      "18> img-location-table/2024Q1/2024_0001-0180/TDM_GazoFileIndex_2024_0019.csv\n",
      "19> img-location-table/2024Q1/2024_0001-0180/TDM_GazoFileIndex_2024_0020.csv\n",
      "20> img-location-table/2024Q1/2024_0001-0180/TDM_GazoFileIndex_2024_0021.csv\n",
      "21> img-location-table/2024Q1/2024_0001-0180/TDM_GazoFileIndex_2024_0022.csv\n",
      "22> img-location-table/2024Q1/2024_0001-0180/TDM_GazoFileIndex_2024_0023.csv\n",
      "23> img-location-table/2024Q1/2024_0001-0180/TDM_GazoFileIndex_2024_0024.csv\n",
      "24> img-location-table/2024Q1/2024_0001-0180/TDM_GazoFileIndex_2024_0025.csv\n",
      "25> img-location-table/2024Q1/2024_0001-0180/TDM_GazoFileIndex_2024_0026.csv\n",
      "26> img-location-table/2024Q1/2024_0001-0180/TDM_GazoFileIndex_2024_0027.csv\n",
      "27> img-location-table/2024Q1/2024_0001-0180/TDM_GazoFileIndex_2024_0028.csv\n",
      "28> img-location-table/2024Q1/2024_0001-0180/TDM_GazoFileIndex_2024_0029.csv\n",
      "29> img-location-table/2024Q1/2024_0001-0180/TDM_GazoFileIndex_2024_0030.csv\n",
      "30> img-location-table/2024Q1/2024_0001-0180/TDM_GazoFileIndex_2024_0031.csv\n",
      "31> img-location-table/2024Q1/2024_0001-0180/TDM_GazoFileIndex_2024_0032.csv\n",
      "32> img-location-table/2024Q1/2024_0001-0180/TDM_GazoFileIndex_2024_0033.csv\n",
      "33> img-location-table/2024Q1/2024_0001-0180/TDM_GazoFileIndex_2024_0034.csv\n",
      "34> img-location-table/2024Q1/2024_0001-0180/TDM_GazoFileIndex_2024_0035.csv\n",
      "35> img-location-table/2024Q1/2024_0001-0180/TDM_GazoFileIndex_2024_0036.csv\n",
      "36> img-location-table/2024Q1/2024_0001-0180/TDM_GazoFileIndex_2024_0037.csv\n",
      "37> img-location-table/2024Q1/2024_0001-0180/TDM_GazoFileIndex_2024_0038.csv\n",
      "38> img-location-table/2024Q1/2024_0001-0180/TDM_GazoFileIndex_2024_0039.csv\n",
      "39> img-location-table/2024Q1/2024_0001-0180/TDM_GazoFileIndex_2024_0040.csv\n",
      "40> img-location-table/2024Q1/2024_0001-0180/TDM_GazoFileIndex_2024_0041.csv\n",
      "41> img-location-table/2024Q1/2024_0001-0180/TDM_GazoFileIndex_2024_0042.csv\n",
      "42> img-location-table/2024Q1/2024_0001-0180/TDM_GazoFileIndex_2024_0043.csv\n",
      "43> img-location-table/2024Q1/2024_0001-0180/TDM_GazoFileIndex_2024_0044.csv\n",
      "44> img-location-table/2024Q1/2024_0001-0180/TDM_GazoFileIndex_2024_0045.csv\n",
      "45> img-location-table/2024Q1/2024_0001-0180/TDM_GazoFileIndex_2024_0046.csv\n",
      "46> img-location-table/2024Q1/2024_0001-0180/TDM_GazoFileIndex_2024_0047.csv\n",
      "47> img-location-table/2024Q1/2024_0001-0180/TDM_GazoFileIndex_2024_0048.csv\n",
      "48> img-location-table/2024Q1/2024_0001-0180/TDM_GazoFileIndex_2024_0049.csv\n",
      "49> img-location-table/2024Q1/2024_0001-0180/TDM_GazoFileIndex_2024_0050.csv\n",
      "50> img-location-table/2024Q1/2024_0001-0180/TDM_GazoFileIndex_2024_0051.csv\n",
      "51> img-location-table/2024Q1/2024_0001-0180/TDM_GazoFileIndex_2024_0052.csv\n",
      "52> img-location-table/2024Q1/2024_0001-0180/TDM_GazoFileIndex_2024_0053.csv\n",
      "53> img-location-table/2024Q1/2024_0001-0180/TDM_GazoFileIndex_2024_0054.csv\n",
      "54> img-location-table/2024Q1/2024_0001-0180/TDM_GazoFileIndex_2024_0055.csv\n",
      "55> img-location-table/2024Q1/2024_0001-0180/TDM_GazoFileIndex_2024_0056.csv\n",
      "56> img-location-table/2024Q1/2024_0001-0180/TDM_GazoFileIndex_2024_0057.csv\n",
      "57> img-location-table/2024Q1/2024_0001-0180/TDM_GazoFileIndex_2024_0058.csv\n",
      "58> img-location-table/2024Q1/2024_0001-0180/TDM_GazoFileIndex_2024_0059.csv\n",
      "59> img-location-table/2024Q1/2024_0001-0180/TDM_GazoFileIndex_2024_0060.csv\n",
      "60> img-location-table/2024Q1/2024_0001-0180/TDM_GazoFileIndex_2024_0061.csv\n",
      "61> img-location-table/2024Q1/2024_0001-0180/TDM_GazoFileIndex_2024_0062.csv\n",
      "62> img-location-table/2024Q1/2024_0001-0180/TDM_GazoFileIndex_2024_0063.csv\n",
      "63> img-location-table/2024Q1/2024_0001-0180/TDM_GazoFileIndex_2024_0064.csv\n",
      "64> img-location-table/2024Q1/2024_0001-0180/TDM_GazoFileIndex_2024_0065.csv\n",
      "65> img-location-table/2024Q1/2024_0001-0180/TDM_GazoFileIndex_2024_0066.csv\n",
      "66> img-location-table/2024Q1/2024_0001-0180/TDM_GazoFileIndex_2024_0067.csv\n",
      "67> img-location-table/2024Q1/2024_0001-0180/TDM_GazoFileIndex_2024_0068.csv\n",
      "68> img-location-table/2024Q1/2024_0001-0180/TDM_GazoFileIndex_2024_0069.csv\n",
      "69> img-location-table/2024Q1/2024_0001-0180/TDM_GazoFileIndex_2024_0070.csv\n",
      "70> img-location-table/2024Q1/2024_0001-0180/TDM_GazoFileIndex_2024_0071.csv\n",
      "71> img-location-table/2024Q1/2024_0001-0180/TDM_GazoFileIndex_2024_0072.csv\n",
      "72> img-location-table/2024Q1/2024_0001-0180/TDM_GazoFileIndex_2024_0073.csv\n",
      "73> img-location-table/2024Q1/2024_0001-0180/TDM_GazoFileIndex_2024_0074.csv\n",
      "74> img-location-table/2024Q1/2024_0001-0180/TDM_GazoFileIndex_2024_0075.csv\n",
      "75> img-location-table/2024Q1/2024_0001-0180/TDM_GazoFileIndex_2024_0076.csv\n",
      "76> img-location-table/2024Q1/2024_0001-0180/TDM_GazoFileIndex_2024_0077.csv\n",
      "77> img-location-table/2024Q1/2024_0001-0180/TDM_GazoFileIndex_2024_0078.csv\n",
      "78> img-location-table/2024Q1/2024_0001-0180/TDM_GazoFileIndex_2024_0079.csv\n",
      "79> img-location-table/2024Q1/2024_0001-0180/TDM_GazoFileIndex_2024_0080.csv\n",
      "80> img-location-table/2024Q1/2024_0001-0180/TDM_GazoFileIndex_2024_0081.csv\n",
      "81> img-location-table/2024Q1/2024_0001-0180/TDM_GazoFileIndex_2024_0082.csv\n",
      "82> img-location-table/2024Q1/2024_0001-0180/TDM_GazoFileIndex_2024_0083.csv\n",
      "83> img-location-table/2024Q1/2024_0001-0180/TDM_GazoFileIndex_2024_0084.csv\n",
      "84> img-location-table/2024Q1/2024_0001-0180/TDM_GazoFileIndex_2024_0085.csv\n",
      "85> img-location-table/2024Q1/2024_0001-0180/TDM_GazoFileIndex_2024_0086.csv\n",
      "86> img-location-table/2024Q1/2024_0001-0180/TDM_GazoFileIndex_2024_0087.csv\n",
      "87> img-location-table/2024Q1/2024_0001-0180/TDM_GazoFileIndex_2024_0088.csv\n",
      "88> img-location-table/2024Q1/2024_0001-0180/TDM_GazoFileIndex_2024_0089.csv\n",
      "89> img-location-table/2024Q1/2024_0001-0180/TDM_GazoFileIndex_2024_0090.csv\n",
      "90> img-location-table/2024Q1/2024_0001-0180/TDM_GazoFileIndex_2024_0091.csv\n",
      "91> img-location-table/2024Q1/2024_0001-0180/TDM_GazoFileIndex_2024_0092.csv\n",
      "92> img-location-table/2024Q1/2024_0001-0180/TDM_GazoFileIndex_2024_0093.csv\n",
      "93> img-location-table/2024Q1/2024_0001-0180/TDM_GazoFileIndex_2024_0094.csv\n",
      "94> img-location-table/2024Q1/2024_0001-0180/TDM_GazoFileIndex_2024_0095.csv\n",
      "95> img-location-table/2024Q1/2024_0001-0180/TDM_GazoFileIndex_2024_0096.csv\n",
      "96> img-location-table/2024Q1/2024_0001-0180/TDM_GazoFileIndex_2024_0097.csv\n",
      "97> img-location-table/2024Q1/2024_0001-0180/TDM_GazoFileIndex_2024_0098.csv\n",
      "98> img-location-table/2024Q1/2024_0001-0180/TDM_GazoFileIndex_2024_0099.csv\n",
      "99> img-location-table/2024Q1/2024_0001-0180/TDM_GazoFileIndex_2024_0100.csv\n",
      "100> img-location-table/2024Q1/2024_0001-0180/TDM_GazoFileIndex_2024_0101.csv\n",
      "101> img-location-table/2024Q1/2024_0001-0180/TDM_GazoFileIndex_2024_0102.csv\n",
      "102> img-location-table/2024Q1/2024_0001-0180/TDM_GazoFileIndex_2024_0103.csv\n",
      "103> img-location-table/2024Q1/2024_0001-0180/TDM_GazoFileIndex_2024_0104.csv\n",
      "104> img-location-table/2024Q1/2024_0001-0180/TDM_GazoFileIndex_2024_0105.csv\n",
      "105> img-location-table/2024Q1/2024_0001-0180/TDM_GazoFileIndex_2024_0106.csv\n",
      "106> img-location-table/2024Q1/2024_0001-0180/TDM_GazoFileIndex_2024_0107.csv\n",
      "107> img-location-table/2024Q1/2024_0001-0180/TDM_GazoFileIndex_2024_0108.csv\n",
      "108> img-location-table/2024Q1/2024_0001-0180/TDM_GazoFileIndex_2024_0109.csv\n",
      "109> img-location-table/2024Q1/2024_0001-0180/TDM_GazoFileIndex_2024_0110.csv\n",
      "110> img-location-table/2024Q1/2024_0001-0180/TDM_GazoFileIndex_2024_0111.csv\n",
      "111> img-location-table/2024Q1/2024_0001-0180/TDM_GazoFileIndex_2024_0112.csv\n",
      "112> img-location-table/2024Q1/2024_0001-0180/TDM_GazoFileIndex_2024_0113.csv\n",
      "113> img-location-table/2024Q1/2024_0001-0180/TDM_GazoFileIndex_2024_0114.csv\n",
      "114> img-location-table/2024Q1/2024_0001-0180/TDM_GazoFileIndex_2024_0115.csv\n",
      "115> img-location-table/2024Q1/2024_0001-0180/TDM_GazoFileIndex_2024_0116.csv\n",
      "116> img-location-table/2024Q1/2024_0001-0180/TDM_GazoFileIndex_2024_0117.csv\n",
      "117> img-location-table/2024Q1/2024_0001-0180/TDM_GazoFileIndex_2024_0118.csv\n",
      "118> img-location-table/2024Q1/2024_0001-0180/TDM_GazoFileIndex_2024_0119.csv\n",
      "119> img-location-table/2024Q1/2024_0001-0180/TDM_GazoFileIndex_2024_0120.csv\n",
      "120> img-location-table/2024Q1/2024_0001-0180/TDM_GazoFileIndex_2024_0121.csv\n",
      "121> img-location-table/2024Q1/2024_0001-0180/TDM_GazoFileIndex_2024_0122.csv\n",
      "122> img-location-table/2024Q1/2024_0001-0180/TDM_GazoFileIndex_2024_0123.csv\n",
      "123> img-location-table/2024Q1/2024_0001-0180/TDM_GazoFileIndex_2024_0124.csv\n",
      "124> img-location-table/2024Q1/2024_0001-0180/TDM_GazoFileIndex_2024_0125.csv\n",
      "125> img-location-table/2024Q1/2024_0001-0180/TDM_GazoFileIndex_2024_0126.csv\n",
      "126> img-location-table/2024Q1/2024_0001-0180/TDM_GazoFileIndex_2024_0127.csv\n",
      "127> img-location-table/2024Q1/2024_0001-0180/TDM_GazoFileIndex_2024_0128.csv\n",
      "128> img-location-table/2024Q1/2024_0001-0180/TDM_GazoFileIndex_2024_0129.csv\n",
      "129> img-location-table/2024Q1/2024_0001-0180/TDM_GazoFileIndex_2024_0130.csv\n",
      "130> img-location-table/2024Q1/2024_0001-0180/TDM_GazoFileIndex_2024_0131.csv\n",
      "131> img-location-table/2024Q1/2024_0001-0180/TDM_GazoFileIndex_2024_0132.csv\n",
      "132> img-location-table/2024Q1/2024_0001-0180/TDM_GazoFileIndex_2024_0133.csv\n",
      "133> img-location-table/2024Q1/2024_0001-0180/TDM_GazoFileIndex_2024_0134.csv\n",
      "134> img-location-table/2024Q1/2024_0001-0180/TDM_GazoFileIndex_2024_0135.csv\n",
      "135> img-location-table/2024Q1/2024_0001-0180/TDM_GazoFileIndex_2024_0136.csv\n",
      "136> img-location-table/2024Q1/2024_0001-0180/TDM_GazoFileIndex_2024_0137.csv\n",
      "137> img-location-table/2024Q1/2024_0001-0180/TDM_GazoFileIndex_2024_0138.csv\n",
      "138> img-location-table/2024Q1/2024_0001-0180/TDM_GazoFileIndex_2024_0139.csv\n",
      "139> img-location-table/2024Q1/2024_0001-0180/TDM_GazoFileIndex_2024_0140.csv\n",
      "140> img-location-table/2024Q1/2024_0001-0180/TDM_GazoFileIndex_2024_0141.csv\n",
      "141> img-location-table/2024Q1/2024_0001-0180/TDM_GazoFileIndex_2024_0142.csv\n",
      "142> img-location-table/2024Q1/2024_0001-0180/TDM_GazoFileIndex_2024_0143.csv\n",
      "143> img-location-table/2024Q1/2024_0001-0180/TDM_GazoFileIndex_2024_0144.csv\n",
      "144> img-location-table/2024Q1/2024_0001-0180/TDM_GazoFileIndex_2024_0145.csv\n",
      "145> img-location-table/2024Q1/2024_0001-0180/TDM_GazoFileIndex_2024_0146.csv\n",
      "146> img-location-table/2024Q1/2024_0001-0180/TDM_GazoFileIndex_2024_0147.csv\n",
      "147> img-location-table/2024Q1/2024_0001-0180/TDM_GazoFileIndex_2024_0148.csv\n",
      "148> img-location-table/2024Q1/2024_0001-0180/TDM_GazoFileIndex_2024_0149.csv\n",
      "149> img-location-table/2024Q1/2024_0001-0180/TDM_GazoFileIndex_2024_0150.csv\n",
      "150> img-location-table/2024Q1/2024_0001-0180/TDM_GazoFileIndex_2024_0151.csv\n",
      "151> img-location-table/2024Q1/2024_0001-0180/TDM_GazoFileIndex_2024_0152.csv\n",
      "152> img-location-table/2024Q1/2024_0001-0180/TDM_GazoFileIndex_2024_0153.csv\n",
      "153> img-location-table/2024Q1/2024_0001-0180/TDM_GazoFileIndex_2024_0154.csv\n",
      "154> img-location-table/2024Q1/2024_0001-0180/TDM_GazoFileIndex_2024_0155.csv\n",
      "155> img-location-table/2024Q1/2024_0001-0180/TDM_GazoFileIndex_2024_0156.csv\n",
      "156> img-location-table/2024Q1/2024_0001-0180/TDM_GazoFileIndex_2024_0157.csv\n",
      "157> img-location-table/2024Q1/2024_0001-0180/TDM_GazoFileIndex_2024_0158.csv\n",
      "158> img-location-table/2024Q1/2024_0001-0180/TDM_GazoFileIndex_2024_0159.csv\n",
      "159> img-location-table/2024Q1/2024_0001-0180/TDM_GazoFileIndex_2024_0160.csv\n",
      "160> img-location-table/2024Q1/2024_0001-0180/TDM_GazoFileIndex_2024_0161.csv\n",
      "161> img-location-table/2024Q1/2024_0001-0180/TDM_GazoFileIndex_2024_0162.csv\n",
      "162> img-location-table/2024Q1/2024_0001-0180/TDM_GazoFileIndex_2024_0163.csv\n",
      "163> img-location-table/2024Q1/2024_0001-0180/TDM_GazoFileIndex_2024_0164.csv\n",
      "164> img-location-table/2024Q1/2024_0001-0180/TDM_GazoFileIndex_2024_0165.csv\n",
      "165> img-location-table/2024Q1/2024_0001-0180/TDM_GazoFileIndex_2024_0166.csv\n",
      "166> img-location-table/2024Q1/2024_0001-0180/TDM_GazoFileIndex_2024_0167.csv\n",
      "167> img-location-table/2024Q1/2024_0001-0180/TDM_GazoFileIndex_2024_0168.csv\n",
      "168> img-location-table/2024Q1/2024_0001-0180/TDM_GazoFileIndex_2024_0169.csv\n",
      "169> img-location-table/2024Q1/2024_0001-0180/TDM_GazoFileIndex_2024_0170.csv\n",
      "170> img-location-table/2024Q1/2024_0001-0180/TDM_GazoFileIndex_2024_0171.csv\n",
      "171> img-location-table/2024Q1/2024_0001-0180/TDM_GazoFileIndex_2024_0172.csv\n",
      "172> img-location-table/2024Q1/2024_0001-0180/TDM_GazoFileIndex_2024_0173.csv\n",
      "173> img-location-table/2024Q1/2024_0001-0180/TDM_GazoFileIndex_2024_0174.csv\n",
      "174> img-location-table/2024Q1/2024_0001-0180/TDM_GazoFileIndex_2024_0175.csv\n",
      "175> img-location-table/2024Q1/2024_0001-0180/TDM_GazoFileIndex_2024_0176.csv\n",
      "176> img-location-table/2024Q1/2024_0001-0180/TDM_GazoFileIndex_2024_0177.csv\n",
      "177> img-location-table/2024Q1/2024_0001-0180/TDM_GazoFileIndex_2024_0178.csv\n",
      "178> img-location-table/2024Q1/2024_0001-0180/TDM_GazoFileIndex_2024_0179.csv\n",
      "179> img-location-table/2024Q1/2024_0001-0180/TDM_GazoFileIndex_2024_0180.csv\n"
     ]
    }
   ],
   "source": [
    "# S3にあるCSVファイルを読み込む\n",
    "bucket_name = 'trolley-monitor'\n",
    "prefix = 'img-location-table/2024Q1/2024_0001-0180/'\n",
    "csv_files = list_csv_files(bucket_name, prefix)\n",
    "print(\"参考\")\n",
    "print(f\"S3にあるTDM(車モニCSV):\")\n",
    "for i, csv_file in enumerate(csv_files):\n",
    "    print(f\"{i}> {csv_file}\")"
   ]
  },
  {
   "cell_type": "markdown",
   "id": "72e17d86-4b74-433a-94af-45724c404ee8",
   "metadata": {},
   "source": [
    "### imgs内の全ての線区ディレクトリに対して、キロ程jsonを作成する"
   ]
  },
  {
   "cell_type": "code",
   "execution_count": 4,
   "id": "8aeb3950-d3a4-4ba5-a69f-8ac372da9697",
   "metadata": {
    "tags": []
   },
   "outputs": [
    {
     "name": "stdout",
     "output_type": "stream",
     "text": [
      "image_name='2024_0004_HD11_01_00020303.jpg'\n",
      "測定年度: 2024  年度通番: 0004  線区: Joban  区間: Toride-st\n",
      "車モニのマスターデータを読み込みます ※少し時間がかかります\n",
      "complete: download_path='TDM/temp/TDM_GazoFileIndex_2024_0004.csv'\n"
     ]
    },
    {
     "name": "stderr",
     "output_type": "stream",
     "text": [
      "<timed exec>:31: DtypeWarning: Columns (23,26,29,32) have mixed types.Specify dtype option on import or set low_memory=False.\n"
     ]
    },
    {
     "name": "stdout",
     "output_type": "stream",
     "text": [
      "車モニのマスターデータを読み込みました\n",
      "データフレームのサイズ:(83501, 90)\n",
      "必要な情報だけフィルタリングしました\n",
      "データフレームのサイズ:(83501, 11)\n",
      "画像フォルダ名：Joban_001_Toride-st_down_20240402_day\n"
     ]
    },
    {
     "data": {
      "application/vnd.jupyter.widget-view+json": {
       "model_id": "5b05579007614565a7b6cd37fff36915",
       "version_major": 2,
       "version_minor": 0
      },
      "text/plain": [
       "  0%|          | 0/6 [00:00<?, ?it/s]"
      ]
     },
     "metadata": {},
     "output_type": "display_data"
    },
    {
     "name": "stdout",
     "output_type": "stream",
     "text": [
      "imgs/Joban_001_Toride-st_down_20240402_day/HD11/\n",
      "Image counts:518\n",
      "imgs/Joban_001_Toride-st_down_20240402_day/HD12/\n",
      "Image counts:518\n",
      "imgs/Joban_001_Toride-st_down_20240402_day/HD21/\n",
      "Image counts:518\n",
      "imgs/Joban_001_Toride-st_down_20240402_day/HD22/\n",
      "Image counts:518\n",
      "imgs/Joban_001_Toride-st_down_20240402_day/HD31/\n",
      "Image counts:518\n",
      "imgs/Joban_001_Toride-st_down_20240402_day/HD32/\n",
      "Image counts:518\n",
      "画像ファイルごとのキロ程情報をTDM/Joban_001_Toride-st_down_20240402_day.jsonに記録しました\n",
      "image_name='2024_0003_HD11_01_00042619.jpg'\n",
      "測定年度: 2024  年度通番: 0003  線区: Joban  区間: Toride-st\n",
      "車モニのマスターデータを読み込みます ※少し時間がかかります\n",
      "complete: download_path='TDM/temp/TDM_GazoFileIndex_2024_0003.csv'\n",
      "車モニのマスターデータを読み込みました\n",
      "データフレームのサイズ:(138202, 90)\n",
      "必要な情報だけフィルタリングしました\n",
      "データフレームのサイズ:(138202, 11)\n",
      "画像フォルダ名：Joban_001_Toride-st_up_20240402_day\n"
     ]
    },
    {
     "data": {
      "application/vnd.jupyter.widget-view+json": {
       "model_id": "aeccbb13a18c4a799c91cf92a90ac14e",
       "version_major": 2,
       "version_minor": 0
      },
      "text/plain": [
       "  0%|          | 0/6 [00:00<?, ?it/s]"
      ]
     },
     "metadata": {},
     "output_type": "display_data"
    },
    {
     "name": "stdout",
     "output_type": "stream",
     "text": [
      "imgs/Joban_001_Toride-st_up_20240402_day/HD11/\n",
      "Image counts:513\n",
      "imgs/Joban_001_Toride-st_up_20240402_day/HD12/\n",
      "Image counts:513\n",
      "imgs/Joban_001_Toride-st_up_20240402_day/HD21/\n",
      "Image counts:514\n",
      "imgs/Joban_001_Toride-st_up_20240402_day/HD22/\n",
      "Image counts:514\n",
      "imgs/Joban_001_Toride-st_up_20240402_day/HD31/\n",
      "Image counts:514\n",
      "imgs/Joban_001_Toride-st_up_20240402_day/HD32/\n",
      "Image counts:514\n",
      "画像ファイルごとのキロ程情報をTDM/Joban_001_Toride-st_up_20240402_day.jsonに記録しました\n",
      "image_name='2024_0004_HD11_01_00020769.jpg'\n",
      "測定年度: 2024  年度通番: 0004  線区: Joban  区間: Toride-Fujishiro\n",
      "車モニのマスターデータを読み込みます ※少し時間がかかります\n",
      "complete: download_path='TDM/temp/TDM_GazoFileIndex_2024_0004.csv'\n",
      "車モニのマスターデータを読み込みました\n",
      "データフレームのサイズ:(83501, 90)\n",
      "必要な情報だけフィルタリングしました\n",
      "データフレームのサイズ:(83501, 11)\n",
      "画像フォルダ名：Joban_002_Toride-Fujishiro_down_20240402_day\n"
     ]
    },
    {
     "data": {
      "application/vnd.jupyter.widget-view+json": {
       "model_id": "0a380e2eb2ac4928941924d829ba0058",
       "version_major": 2,
       "version_minor": 0
      },
      "text/plain": [
       "  0%|          | 0/6 [00:00<?, ?it/s]"
      ]
     },
     "metadata": {},
     "output_type": "display_data"
    },
    {
     "name": "stdout",
     "output_type": "stream",
     "text": [
      "imgs/Joban_002_Toride-Fujishiro_down_20240402_day/HD11/\n",
      "Image counts:1015\n",
      "imgs/Joban_002_Toride-Fujishiro_down_20240402_day/HD12/\n",
      "Image counts:1015\n",
      "imgs/Joban_002_Toride-Fujishiro_down_20240402_day/HD21/\n",
      "Image counts:1014\n",
      "imgs/Joban_002_Toride-Fujishiro_down_20240402_day/HD22/\n",
      "Image counts:1014\n",
      "imgs/Joban_002_Toride-Fujishiro_down_20240402_day/HD31/\n",
      "Image counts:1014\n",
      "imgs/Joban_002_Toride-Fujishiro_down_20240402_day/HD32/\n",
      "Image counts:1014\n",
      "画像ファイルごとのキロ程情報をTDM/Joban_002_Toride-Fujishiro_down_20240402_day.jsonに記録しました\n",
      "image_name='2024_0003_HD11_01_00041655.jpg'\n",
      "測定年度: 2024  年度通番: 0003  線区: Joban  区間: Toride-Fujishiro\n",
      "車モニのマスターデータを読み込みます ※少し時間がかかります\n",
      "complete: download_path='TDM/temp/TDM_GazoFileIndex_2024_0003.csv'\n",
      "車モニのマスターデータを読み込みました\n",
      "データフレームのサイズ:(138202, 90)\n",
      "必要な情報だけフィルタリングしました\n",
      "データフレームのサイズ:(138202, 11)\n",
      "画像フォルダ名：Joban_002_Toride-Fujishiro_up_20240402_day\n"
     ]
    },
    {
     "data": {
      "application/vnd.jupyter.widget-view+json": {
       "model_id": "51cda6b69d0144c4b66331609850cbf9",
       "version_major": 2,
       "version_minor": 0
      },
      "text/plain": [
       "  0%|          | 0/6 [00:00<?, ?it/s]"
      ]
     },
     "metadata": {},
     "output_type": "display_data"
    },
    {
     "name": "stdout",
     "output_type": "stream",
     "text": [
      "imgs/Joban_002_Toride-Fujishiro_up_20240402_day/HD11/\n",
      "Image counts:1013\n",
      "imgs/Joban_002_Toride-Fujishiro_up_20240402_day/HD12/\n",
      "Image counts:1013\n",
      "imgs/Joban_002_Toride-Fujishiro_up_20240402_day/HD21/\n",
      "Image counts:1013\n",
      "imgs/Joban_002_Toride-Fujishiro_up_20240402_day/HD22/\n",
      "Image counts:1013\n",
      "imgs/Joban_002_Toride-Fujishiro_up_20240402_day/HD31/\n",
      "Image counts:1013\n",
      "imgs/Joban_002_Toride-Fujishiro_up_20240402_day/HD32/\n",
      "Image counts:1013\n",
      "画像ファイルごとのキロ程情報をTDM/Joban_002_Toride-Fujishiro_up_20240402_day.jsonに記録しました\n",
      "image_name='2024_0018_HD11_01_00032961.jpg'\n",
      "測定年度: 2024  年度通番: 0018  線区: Negishi  区間: Ishikawacho-Yamate\n",
      "車モニのマスターデータを読み込みます ※少し時間がかかります\n",
      "complete: download_path='TDM/temp/TDM_GazoFileIndex_2024_0018.csv'\n",
      "車モニのマスターデータを読み込みました\n",
      "データフレームのサイズ:(118473, 90)\n",
      "必要な情報だけフィルタリングしました\n",
      "データフレームのサイズ:(118473, 11)\n",
      "画像フォルダ名：Negishi_017_Ishikawacho-Yamate_down_20240406_day\n"
     ]
    },
    {
     "data": {
      "application/vnd.jupyter.widget-view+json": {
       "model_id": "127d29d21be44615ada6ea4e428c307b",
       "version_major": 2,
       "version_minor": 0
      },
      "text/plain": [
       "  0%|          | 0/6 [00:00<?, ?it/s]"
      ]
     },
     "metadata": {},
     "output_type": "display_data"
    },
    {
     "name": "stdout",
     "output_type": "stream",
     "text": [
      "imgs/Negishi_017_Ishikawacho-Yamate_down_20240406_day/HD11/\n",
      "Image counts:594\n",
      "imgs/Negishi_017_Ishikawacho-Yamate_down_20240406_day/HD12/\n",
      "Image counts:594\n",
      "imgs/Negishi_017_Ishikawacho-Yamate_down_20240406_day/HD21/\n",
      "Image counts:594\n",
      "imgs/Negishi_017_Ishikawacho-Yamate_down_20240406_day/HD22/\n",
      "Image counts:594\n",
      "imgs/Negishi_017_Ishikawacho-Yamate_down_20240406_day/HD31/\n",
      "Image counts:594\n",
      "imgs/Negishi_017_Ishikawacho-Yamate_down_20240406_day/HD32/\n",
      "Image counts:594\n",
      "画像ファイルごとのキロ程情報をTDM/Negishi_017_Ishikawacho-Yamate_down_20240406_day.jsonに記録しました\n",
      "image_name='2024_0016_HD11_01_00007039.jpg'\n",
      "測定年度: 2024  年度通番: 0016  線区: Negishi  区間: Ishikawacho-Yamate\n",
      "車モニのマスターデータを読み込みます ※少し時間がかかります\n",
      "complete: download_path='TDM/temp/TDM_GazoFileIndex_2024_0016.csv'\n",
      "車モニのマスターデータを読み込みました\n",
      "データフレームのサイズ:(111188, 90)\n",
      "必要な情報だけフィルタリングしました\n",
      "データフレームのサイズ:(111188, 11)\n",
      "画像フォルダ名：Negishi_017_Ishikawacho-Yamate_up_20240406_day\n"
     ]
    },
    {
     "data": {
      "application/vnd.jupyter.widget-view+json": {
       "model_id": "b0a26ddc05374f73a591be76c6c2b796",
       "version_major": 2,
       "version_minor": 0
      },
      "text/plain": [
       "  0%|          | 0/6 [00:00<?, ?it/s]"
      ]
     },
     "metadata": {},
     "output_type": "display_data"
    },
    {
     "name": "stdout",
     "output_type": "stream",
     "text": [
      "imgs/Negishi_017_Ishikawacho-Yamate_up_20240406_day/HD11/\n",
      "Image counts:589\n",
      "imgs/Negishi_017_Ishikawacho-Yamate_up_20240406_day/HD12/\n",
      "Image counts:589\n",
      "imgs/Negishi_017_Ishikawacho-Yamate_up_20240406_day/HD21/\n",
      "Image counts:589\n",
      "imgs/Negishi_017_Ishikawacho-Yamate_up_20240406_day/HD22/\n",
      "Image counts:589\n",
      "imgs/Negishi_017_Ishikawacho-Yamate_up_20240406_day/HD31/\n",
      "Image counts:589\n",
      "imgs/Negishi_017_Ishikawacho-Yamate_up_20240406_day/HD32/\n",
      "Image counts:589\n",
      "画像ファイルごとのキロ程情報をTDM/Negishi_017_Ishikawacho-Yamate_up_20240406_day.jsonに記録しました\n",
      "image_name='2024_0121_HD11_01_00029248.jpg'\n",
      "測定年度: 2024  年度通番: 0121  線区: Takasaki  区間: Gyouda-Kumagaya\n",
      "車モニのマスターデータを読み込みます ※少し時間がかかります\n",
      "complete: download_path='TDM/temp/TDM_GazoFileIndex_2024_0121.csv'\n",
      "車モニのマスターデータを読み込みました\n",
      "データフレームのサイズ:(145210, 90)\n",
      "必要な情報だけフィルタリングしました\n",
      "データフレームのサイズ:(145210, 11)\n",
      "画像フォルダ名：Takasaki_19_Gyouda-Kumagaya_down_20240508_day\n"
     ]
    },
    {
     "data": {
      "application/vnd.jupyter.widget-view+json": {
       "model_id": "5649405533f64d51b9990f6a86cb983c",
       "version_major": 2,
       "version_minor": 0
      },
      "text/plain": [
       "  0%|          | 0/6 [00:00<?, ?it/s]"
      ]
     },
     "metadata": {},
     "output_type": "display_data"
    },
    {
     "name": "stdout",
     "output_type": "stream",
     "text": [
      "imgs/Takasaki_19_Gyouda-Kumagaya_down_20240508_day/HD11/\n",
      "Image counts:1946\n",
      "imgs/Takasaki_19_Gyouda-Kumagaya_down_20240508_day/HD12/\n",
      "Image counts:1946\n",
      "imgs/Takasaki_19_Gyouda-Kumagaya_down_20240508_day/HD21/\n",
      "Image counts:1946\n",
      "imgs/Takasaki_19_Gyouda-Kumagaya_down_20240508_day/HD22/\n",
      "Image counts:1946\n",
      "imgs/Takasaki_19_Gyouda-Kumagaya_down_20240508_day/HD31/\n",
      "Image counts:1947\n",
      "imgs/Takasaki_19_Gyouda-Kumagaya_down_20240508_day/HD32/\n",
      "Image counts:1947\n",
      "画像ファイルごとのキロ程情報をTDM/Takasaki_19_Gyouda-Kumagaya_down_20240508_day.jsonに記録しました\n",
      "image_name='2024_0124_HD11_01_00060787.jpg'\n",
      "測定年度: 2024  年度通番: 0124  線区: Takasaki  区間: Gyouda-Kumagaya\n",
      "車モニのマスターデータを読み込みます ※少し時間がかかります\n",
      "complete: download_path='TDM/temp/TDM_GazoFileIndex_2024_0124.csv'\n",
      "車モニのマスターデータを読み込みました\n",
      "データフレームのサイズ:(199219, 90)\n",
      "必要な情報だけフィルタリングしました\n",
      "データフレームのサイズ:(199219, 11)\n",
      "画像フォルダ名：Takasaki_19_Gyouda-Kumagaya_up_20240509_day\n"
     ]
    },
    {
     "data": {
      "application/vnd.jupyter.widget-view+json": {
       "model_id": "ce3ce7f074c74904b0a1f4a7ebe06763",
       "version_major": 2,
       "version_minor": 0
      },
      "text/plain": [
       "  0%|          | 0/6 [00:00<?, ?it/s]"
      ]
     },
     "metadata": {},
     "output_type": "display_data"
    },
    {
     "name": "stdout",
     "output_type": "stream",
     "text": [
      "imgs/Takasaki_19_Gyouda-Kumagaya_up_20240509_day/HD11/\n",
      "Image counts:1947\n",
      "imgs/Takasaki_19_Gyouda-Kumagaya_up_20240509_day/HD12/\n",
      "Image counts:1947\n",
      "imgs/Takasaki_19_Gyouda-Kumagaya_up_20240509_day/HD21/\n",
      "Image counts:1947\n",
      "imgs/Takasaki_19_Gyouda-Kumagaya_up_20240509_day/HD22/\n",
      "Image counts:1947\n",
      "imgs/Takasaki_19_Gyouda-Kumagaya_up_20240509_day/HD31/\n",
      "Image counts:1947\n",
      "imgs/Takasaki_19_Gyouda-Kumagaya_up_20240509_day/HD32/\n",
      "Image counts:1947\n",
      "画像ファイルごとのキロ程情報をTDM/Takasaki_19_Gyouda-Kumagaya_up_20240509_day.jsonに記録しました\n",
      "image_name='2024_0028_HD11_01_00000227.jpg'\n",
      "測定年度: 2024  年度通番: 0028  線区: Tokaido  区間: Yurakucho-st\n",
      "車モニのマスターデータを読み込みます ※少し時間がかかります\n",
      "complete: download_path='TDM/temp/TDM_GazoFileIndex_2024_0028.csv'\n"
     ]
    },
    {
     "name": "stderr",
     "output_type": "stream",
     "text": [
      "<timed exec>:31: DtypeWarning: Columns (5) have mixed types.Specify dtype option on import or set low_memory=False.\n"
     ]
    },
    {
     "name": "stdout",
     "output_type": "stream",
     "text": [
      "車モニのマスターデータを読み込みました\n",
      "データフレームのサイズ:(202684, 90)\n",
      "必要な情報だけフィルタリングしました\n",
      "データフレームのサイズ:(202684, 11)\n",
      "画像フォルダ名：Tokaido_03_Yurakucho-st_down_20240408_day\n"
     ]
    },
    {
     "data": {
      "application/vnd.jupyter.widget-view+json": {
       "model_id": "7846a32007b34ae39926b9250fd93c59",
       "version_major": 2,
       "version_minor": 0
      },
      "text/plain": [
       "  0%|          | 0/6 [00:00<?, ?it/s]"
      ]
     },
     "metadata": {},
     "output_type": "display_data"
    },
    {
     "name": "stdout",
     "output_type": "stream",
     "text": [
      "imgs/Tokaido_03_Yurakucho-st_down_20240408_day/HD11/\n",
      "Image counts:360\n",
      "imgs/Tokaido_03_Yurakucho-st_down_20240408_day/HD12/\n",
      "Image counts:360\n",
      "imgs/Tokaido_03_Yurakucho-st_down_20240408_day/HD21/\n",
      "Image counts:360\n",
      "imgs/Tokaido_03_Yurakucho-st_down_20240408_day/HD22/\n",
      "Image counts:360\n",
      "imgs/Tokaido_03_Yurakucho-st_down_20240408_day/HD31/\n",
      "Image counts:360\n",
      "imgs/Tokaido_03_Yurakucho-st_down_20240408_day/HD32/\n",
      "Image counts:360\n",
      "画像ファイルごとのキロ程情報をTDM/Tokaido_03_Yurakucho-st_down_20240408_day.jsonに記録しました\n",
      "image_name='2024_0028_HD11_01_00002557.jpg'\n",
      "測定年度: 2024  年度通番: 0028  線区: Tokaido  区間: Shinagawa-st\n",
      "車モニのマスターデータを読み込みます ※少し時間がかかります\n",
      "complete: download_path='TDM/temp/TDM_GazoFileIndex_2024_0028.csv'\n",
      "車モニのマスターデータを読み込みました\n",
      "データフレームのサイズ:(202684, 90)\n",
      "必要な情報だけフィルタリングしました\n",
      "データフレームのサイズ:(202684, 11)\n",
      "画像フォルダ名：Tokaido_11_Shinagawa-st_down_20240408_day\n"
     ]
    },
    {
     "data": {
      "application/vnd.jupyter.widget-view+json": {
       "model_id": "a6a94223a89f4836a6c4acc246f615ca",
       "version_major": 2,
       "version_minor": 0
      },
      "text/plain": [
       "  0%|          | 0/6 [00:00<?, ?it/s]"
      ]
     },
     "metadata": {},
     "output_type": "display_data"
    },
    {
     "name": "stdout",
     "output_type": "stream",
     "text": [
      "imgs/Tokaido_11_Shinagawa-st_down_20240408_day/HD11/\n",
      "Image counts:1255\n",
      "imgs/Tokaido_11_Shinagawa-st_down_20240408_day/HD12/\n",
      "Image counts:1255\n",
      "imgs/Tokaido_11_Shinagawa-st_down_20240408_day/HD21/\n",
      "Image counts:1255\n",
      "imgs/Tokaido_11_Shinagawa-st_down_20240408_day/HD22/\n",
      "Image counts:1255\n",
      "imgs/Tokaido_11_Shinagawa-st_down_20240408_day/HD31/\n",
      "Image counts:1255\n",
      "imgs/Tokaido_11_Shinagawa-st_down_20240408_day/HD32/\n",
      "Image counts:1255\n",
      "画像ファイルごとのキロ程情報をTDM/Tokaido_11_Shinagawa-st_down_20240408_day.jsonに記録しました\n",
      "image_name='2024_0028_HD11_01_00003735.jpg'\n",
      "測定年度: 2024  年度通番: 0028  線区: Tokaido  区間: Shinagawa-Oimachi\n",
      "車モニのマスターデータを読み込みます ※少し時間がかかります\n",
      "complete: download_path='TDM/temp/TDM_GazoFileIndex_2024_0028.csv'\n",
      "車モニのマスターデータを読み込みました\n",
      "データフレームのサイズ:(202684, 90)\n",
      "必要な情報だけフィルタリングしました\n",
      "データフレームのサイズ:(202684, 11)\n",
      "画像フォルダ名：Tokaido_12_Shinagawa-Oimachi_down_20240408_day\n"
     ]
    },
    {
     "data": {
      "application/vnd.jupyter.widget-view+json": {
       "model_id": "372a9271c90542409e70da8f3a579b6b",
       "version_major": 2,
       "version_minor": 0
      },
      "text/plain": [
       "  0%|          | 0/6 [00:00<?, ?it/s]"
      ]
     },
     "metadata": {},
     "output_type": "display_data"
    },
    {
     "name": "stdout",
     "output_type": "stream",
     "text": [
      "imgs/Tokaido_12_Shinagawa-Oimachi_down_20240408_day/HD11/\n",
      "Image counts:893\n",
      "imgs/Tokaido_12_Shinagawa-Oimachi_down_20240408_day/HD12/\n",
      "Image counts:893\n",
      "imgs/Tokaido_12_Shinagawa-Oimachi_down_20240408_day/HD21/\n",
      "Image counts:892\n",
      "imgs/Tokaido_12_Shinagawa-Oimachi_down_20240408_day/HD22/\n",
      "Image counts:892\n",
      "imgs/Tokaido_12_Shinagawa-Oimachi_down_20240408_day/HD31/\n",
      "Image counts:893\n",
      "imgs/Tokaido_12_Shinagawa-Oimachi_down_20240408_day/HD32/\n",
      "Image counts:893\n",
      "画像ファイルごとのキロ程情報をTDM/Tokaido_12_Shinagawa-Oimachi_down_20240408_day.jsonに記録しました\n",
      "image_name='2024_0028_HD11_01_00005959.jpg'\n",
      "測定年度: 2024  年度通番: 0028  線区: Tokaido  区間: Omori-Kamata\n",
      "車モニのマスターデータを読み込みます ※少し時間がかかります\n",
      "complete: download_path='TDM/temp/TDM_GazoFileIndex_2024_0028.csv'\n",
      "車モニのマスターデータを読み込みました\n",
      "データフレームのサイズ:(202684, 90)\n",
      "必要な情報だけフィルタリングしました\n",
      "データフレームのサイズ:(202684, 11)\n",
      "画像フォルダ名：Tokaido_16_Omori-Kamata_down_20240408_day\n"
     ]
    },
    {
     "data": {
      "application/vnd.jupyter.widget-view+json": {
       "model_id": "bc53bb6767dc4b52b03e54e69d6461b1",
       "version_major": 2,
       "version_minor": 0
      },
      "text/plain": [
       "  0%|          | 0/6 [00:00<?, ?it/s]"
      ]
     },
     "metadata": {},
     "output_type": "display_data"
    },
    {
     "name": "stdout",
     "output_type": "stream",
     "text": [
      "imgs/Tokaido_16_Omori-Kamata_down_20240408_day/HD11/\n",
      "Image counts:1289\n",
      "imgs/Tokaido_16_Omori-Kamata_down_20240408_day/HD12/\n",
      "Image counts:1289\n",
      "imgs/Tokaido_16_Omori-Kamata_down_20240408_day/HD21/\n",
      "Image counts:1290\n",
      "imgs/Tokaido_16_Omori-Kamata_down_20240408_day/HD22/\n",
      "Image counts:1290\n",
      "imgs/Tokaido_16_Omori-Kamata_down_20240408_day/HD31/\n",
      "Image counts:1289\n",
      "imgs/Tokaido_16_Omori-Kamata_down_20240408_day/HD32/\n",
      "Image counts:1289\n",
      "画像ファイルごとのキロ程情報をTDM/Tokaido_16_Omori-Kamata_down_20240408_day.jsonに記録しました\n",
      "image_name='2024_0026_HD11_01_00035983.jpg'\n",
      "測定年度: 2024  年度通番: 0026  線区: Tokaido  区間: Shinagawa-st\n",
      "車モニのマスターデータを読み込みます ※少し時間がかかります\n",
      "complete: download_path='TDM/temp/TDM_GazoFileIndex_2024_0026.csv'\n",
      "車モニのマスターデータを読み込みました\n",
      "データフレームのサイズ:(83656, 90)\n",
      "必要な情報だけフィルタリングしました\n",
      "データフレームのサイズ:(83656, 11)\n",
      "画像フォルダ名：Tokaido_70_Shinagawa-st_up_20240408_day\n"
     ]
    },
    {
     "data": {
      "application/vnd.jupyter.widget-view+json": {
       "model_id": "17ea5a50893d42709bb1ec6951c82b35",
       "version_major": 2,
       "version_minor": 0
      },
      "text/plain": [
       "  0%|          | 0/6 [00:00<?, ?it/s]"
      ]
     },
     "metadata": {},
     "output_type": "display_data"
    },
    {
     "name": "stdout",
     "output_type": "stream",
     "text": [
      "imgs/Tokaido_70_Shinagawa-st_up_20240408_day/HD11/\n",
      "Image counts:1273\n",
      "imgs/Tokaido_70_Shinagawa-st_up_20240408_day/HD12/\n",
      "Image counts:1273\n",
      "imgs/Tokaido_70_Shinagawa-st_up_20240408_day/HD21/\n",
      "Image counts:1274\n",
      "imgs/Tokaido_70_Shinagawa-st_up_20240408_day/HD22/\n",
      "Image counts:1274\n",
      "imgs/Tokaido_70_Shinagawa-st_up_20240408_day/HD31/\n",
      "Image counts:1273\n",
      "imgs/Tokaido_70_Shinagawa-st_up_20240408_day/HD32/\n",
      "Image counts:1273\n",
      "画像ファイルごとのキロ程情報をTDM/Tokaido_70_Shinagawa-st_up_20240408_day.jsonに記録しました\n",
      "image_name='2024_0026_HD11_01_00037566.jpg'\n",
      "測定年度: 2024  年度通番: 0026  線区: Tokaido  区間: Hamamatsucho-Tamachi\n",
      "車モニのマスターデータを読み込みます ※少し時間がかかります\n",
      "complete: download_path='TDM/temp/TDM_GazoFileIndex_2024_0026.csv'\n",
      "車モニのマスターデータを読み込みました\n",
      "データフレームのサイズ:(83656, 90)\n",
      "必要な情報だけフィルタリングしました\n",
      "データフレームのサイズ:(83656, 11)\n",
      "画像フォルダ名：Tokaido_73_Hamamatsucho-Tamachi_up_20240408_day\n"
     ]
    },
    {
     "data": {
      "application/vnd.jupyter.widget-view+json": {
       "model_id": "92c971b6f7024df0a8278e2ab9c88632",
       "version_major": 2,
       "version_minor": 0
      },
      "text/plain": [
       "  0%|          | 0/6 [00:00<?, ?it/s]"
      ]
     },
     "metadata": {},
     "output_type": "display_data"
    },
    {
     "name": "stdout",
     "output_type": "stream",
     "text": [
      "imgs/Tokaido_73_Hamamatsucho-Tamachi_up_20240408_day/HD11/\n",
      "Image counts:510\n",
      "imgs/Tokaido_73_Hamamatsucho-Tamachi_up_20240408_day/HD12/\n",
      "Image counts:510\n",
      "imgs/Tokaido_73_Hamamatsucho-Tamachi_up_20240408_day/HD21/\n",
      "Image counts:510\n",
      "imgs/Tokaido_73_Hamamatsucho-Tamachi_up_20240408_day/HD22/\n",
      "Image counts:510\n",
      "imgs/Tokaido_73_Hamamatsucho-Tamachi_up_20240408_day/HD31/\n",
      "Image counts:510\n",
      "imgs/Tokaido_73_Hamamatsucho-Tamachi_up_20240408_day/HD32/\n",
      "Image counts:510\n",
      "画像ファイルごとのキロ程情報をTDM/Tokaido_73_Hamamatsucho-Tamachi_up_20240408_day.jsonに記録しました\n",
      "image_name='2024_0015_HD11_01_00002904.jpg'\n",
      "測定年度: 2024  年度通番: 0015  線区: Yokohama  区間: ShinYokohama-st\n",
      "車モニのマスターデータを読み込みます ※少し時間がかかります\n",
      "complete: download_path='TDM/temp/TDM_GazoFileIndex_2024_0015.csv'\n",
      "車モニのマスターデータを読み込みました\n",
      "データフレームのサイズ:(53859, 90)\n",
      "必要な情報だけフィルタリングしました\n",
      "データフレームのサイズ:(53859, 11)\n",
      "画像フォルダ名：Yokohama_007_ShinYokohama-st_down_20240405_day\n"
     ]
    },
    {
     "data": {
      "application/vnd.jupyter.widget-view+json": {
       "model_id": "5673171322a74776aa48f7b5e13a5e86",
       "version_major": 2,
       "version_minor": 0
      },
      "text/plain": [
       "  0%|          | 0/6 [00:00<?, ?it/s]"
      ]
     },
     "metadata": {},
     "output_type": "display_data"
    },
    {
     "name": "stdout",
     "output_type": "stream",
     "text": [
      "imgs/Yokohama_007_ShinYokohama-st_down_20240405_day/HD11/\n",
      "Image counts:381\n",
      "imgs/Yokohama_007_ShinYokohama-st_down_20240405_day/HD12/\n",
      "Image counts:381\n",
      "imgs/Yokohama_007_ShinYokohama-st_down_20240405_day/HD21/\n",
      "Image counts:380\n",
      "imgs/Yokohama_007_ShinYokohama-st_down_20240405_day/HD22/\n",
      "Image counts:380\n",
      "imgs/Yokohama_007_ShinYokohama-st_down_20240405_day/HD31/\n",
      "Image counts:381\n",
      "imgs/Yokohama_007_ShinYokohama-st_down_20240405_day/HD32/\n",
      "Image counts:381\n",
      "画像ファイルごとのキロ程情報をTDM/Yokohama_007_ShinYokohama-st_down_20240405_day.jsonに記録しました\n",
      "image_name='2024_0014_HD11_01_00018678.jpg'\n",
      "測定年度: 2024  年度通番: 0014  線区: Yokohama  区間: ShinYokohama-st\n",
      "車モニのマスターデータを読み込みます ※少し時間がかかります\n",
      "complete: download_path='TDM/temp/TDM_GazoFileIndex_2024_0014.csv'\n",
      "車モニのマスターデータを読み込みました\n",
      "データフレームのサイズ:(52317, 90)\n",
      "必要な情報だけフィルタリングしました\n",
      "データフレームのサイズ:(52317, 11)\n",
      "画像フォルダ名：Yokohama_007_ShinYokohama-st_up_20240405_day\n"
     ]
    },
    {
     "data": {
      "application/vnd.jupyter.widget-view+json": {
       "model_id": "4f26ea19e4354ce9ac719ba8d519dc48",
       "version_major": 2,
       "version_minor": 0
      },
      "text/plain": [
       "  0%|          | 0/6 [00:00<?, ?it/s]"
      ]
     },
     "metadata": {},
     "output_type": "display_data"
    },
    {
     "name": "stdout",
     "output_type": "stream",
     "text": [
      "imgs/Yokohama_007_ShinYokohama-st_up_20240405_day/HD11/\n",
      "Image counts:404\n",
      "imgs/Yokohama_007_ShinYokohama-st_up_20240405_day/HD12/\n",
      "Image counts:404\n",
      "imgs/Yokohama_007_ShinYokohama-st_up_20240405_day/HD21/\n",
      "Image counts:404\n",
      "imgs/Yokohama_007_ShinYokohama-st_up_20240405_day/HD22/\n",
      "Image counts:404\n",
      "imgs/Yokohama_007_ShinYokohama-st_up_20240405_day/HD31/\n",
      "Image counts:404\n",
      "imgs/Yokohama_007_ShinYokohama-st_up_20240405_day/HD32/\n",
      "Image counts:404\n",
      "画像ファイルごとのキロ程情報をTDM/Yokohama_007_ShinYokohama-st_up_20240405_day.jsonに記録しました\n",
      "image_name='2024_0015_HD11_01_00003217.jpg'\n",
      "測定年度: 2024  年度通番: 0015  線区: Yokohama  区間: ShinYokohama-Kozukue\n",
      "車モニのマスターデータを読み込みます ※少し時間がかかります\n",
      "complete: download_path='TDM/temp/TDM_GazoFileIndex_2024_0015.csv'\n",
      "車モニのマスターデータを読み込みました\n",
      "データフレームのサイズ:(53859, 90)\n",
      "必要な情報だけフィルタリングしました\n",
      "データフレームのサイズ:(53859, 11)\n",
      "画像フォルダ名：Yokohama_008_ShinYokohama-Kozukue_down_20240405_day\n"
     ]
    },
    {
     "data": {
      "application/vnd.jupyter.widget-view+json": {
       "model_id": "2708aba6889843dc84350860225e4dc5",
       "version_major": 2,
       "version_minor": 0
      },
      "text/plain": [
       "  0%|          | 0/6 [00:00<?, ?it/s]"
      ]
     },
     "metadata": {},
     "output_type": "display_data"
    },
    {
     "name": "stdout",
     "output_type": "stream",
     "text": [
      "imgs/Yokohama_008_ShinYokohama-Kozukue_down_20240405_day/HD11/\n",
      "Image counts:590\n",
      "imgs/Yokohama_008_ShinYokohama-Kozukue_down_20240405_day/HD12/\n",
      "Image counts:590\n",
      "imgs/Yokohama_008_ShinYokohama-Kozukue_down_20240405_day/HD21/\n",
      "Image counts:591\n",
      "imgs/Yokohama_008_ShinYokohama-Kozukue_down_20240405_day/HD22/\n",
      "Image counts:591\n",
      "imgs/Yokohama_008_ShinYokohama-Kozukue_down_20240405_day/HD31/\n",
      "Image counts:590\n",
      "imgs/Yokohama_008_ShinYokohama-Kozukue_down_20240405_day/HD32/\n",
      "Image counts:590\n",
      "画像ファイルごとのキロ程情報をTDM/Yokohama_008_ShinYokohama-Kozukue_down_20240405_day.jsonに記録しました\n",
      "image_name='2024_0014_HD11_01_00018163.jpg'\n",
      "測定年度: 2024  年度通番: 0014  線区: Yokohama  区間: ShinYokohama-Kozukue\n",
      "車モニのマスターデータを読み込みます ※少し時間がかかります\n",
      "complete: download_path='TDM/temp/TDM_GazoFileIndex_2024_0014.csv'\n",
      "車モニのマスターデータを読み込みました\n",
      "データフレームのサイズ:(52317, 90)\n",
      "必要な情報だけフィルタリングしました\n",
      "データフレームのサイズ:(52317, 11)\n",
      "画像フォルダ名：Yokohama_008_ShinYokohama-Kozukue_up_20240405_day\n"
     ]
    },
    {
     "data": {
      "application/vnd.jupyter.widget-view+json": {
       "model_id": "667c5f903c15485bb4ec7b1e27d8fd08",
       "version_major": 2,
       "version_minor": 0
      },
      "text/plain": [
       "  0%|          | 0/6 [00:00<?, ?it/s]"
      ]
     },
     "metadata": {},
     "output_type": "display_data"
    },
    {
     "name": "stdout",
     "output_type": "stream",
     "text": [
      "imgs/Yokohama_008_ShinYokohama-Kozukue_up_20240405_day/HD11/\n",
      "Image counts:594\n",
      "imgs/Yokohama_008_ShinYokohama-Kozukue_up_20240405_day/HD12/\n",
      "Image counts:594\n",
      "imgs/Yokohama_008_ShinYokohama-Kozukue_up_20240405_day/HD21/\n",
      "Image counts:594\n",
      "imgs/Yokohama_008_ShinYokohama-Kozukue_up_20240405_day/HD22/\n",
      "Image counts:594\n",
      "imgs/Yokohama_008_ShinYokohama-Kozukue_up_20240405_day/HD31/\n",
      "Image counts:593\n",
      "imgs/Yokohama_008_ShinYokohama-Kozukue_up_20240405_day/HD32/\n",
      "Image counts:593\n",
      "画像ファイルごとのキロ程情報をTDM/Yokohama_008_ShinYokohama-Kozukue_up_20240405_day.jsonに記録しました\n",
      "image_name='2024_0015_HD11_01_00003744.jpg'\n",
      "測定年度: 2024  年度通番: 0015  線区: Yokohama  区間: Kozukue-st\n",
      "車モニのマスターデータを読み込みます ※少し時間がかかります\n",
      "complete: download_path='TDM/temp/TDM_GazoFileIndex_2024_0015.csv'\n",
      "車モニのマスターデータを読み込みました\n",
      "データフレームのサイズ:(53859, 90)\n",
      "必要な情報だけフィルタリングしました\n",
      "データフレームのサイズ:(53859, 11)\n",
      "画像フォルダ名：Yokohama_009_Kozukue-st_down_20240405_day\n"
     ]
    },
    {
     "data": {
      "application/vnd.jupyter.widget-view+json": {
       "model_id": "8ca8e0847e1d4b8bb7b13192ef803090",
       "version_major": 2,
       "version_minor": 0
      },
      "text/plain": [
       "  0%|          | 0/6 [00:00<?, ?it/s]"
      ]
     },
     "metadata": {},
     "output_type": "display_data"
    },
    {
     "name": "stdout",
     "output_type": "stream",
     "text": [
      "imgs/Yokohama_009_Kozukue-st_down_20240405_day/HD11/\n",
      "Image counts:552\n",
      "imgs/Yokohama_009_Kozukue-st_down_20240405_day/HD12/\n",
      "Image counts:552\n",
      "imgs/Yokohama_009_Kozukue-st_down_20240405_day/HD21/\n",
      "Image counts:552\n",
      "imgs/Yokohama_009_Kozukue-st_down_20240405_day/HD22/\n",
      "Image counts:552\n",
      "imgs/Yokohama_009_Kozukue-st_down_20240405_day/HD31/\n",
      "Image counts:552\n",
      "imgs/Yokohama_009_Kozukue-st_down_20240405_day/HD32/\n",
      "Image counts:552\n",
      "画像ファイルごとのキロ程情報をTDM/Yokohama_009_Kozukue-st_down_20240405_day.jsonに記録しました\n",
      "image_name='2024_0014_HD11_01_00017673.jpg'\n",
      "測定年度: 2024  年度通番: 0014  線区: Yokohama  区間: Kozukue-st\n",
      "車モニのマスターデータを読み込みます ※少し時間がかかります\n",
      "complete: download_path='TDM/temp/TDM_GazoFileIndex_2024_0014.csv'\n",
      "車モニのマスターデータを読み込みました\n",
      "データフレームのサイズ:(52317, 90)\n",
      "必要な情報だけフィルタリングしました\n",
      "データフレームのサイズ:(52317, 11)\n",
      "画像フォルダ名：Yokohama_009_Kozukue-st_up_20240405_day\n"
     ]
    },
    {
     "data": {
      "application/vnd.jupyter.widget-view+json": {
       "model_id": "e2607028626643fbb3f9e449fd86c51f",
       "version_major": 2,
       "version_minor": 0
      },
      "text/plain": [
       "  0%|          | 0/6 [00:00<?, ?it/s]"
      ]
     },
     "metadata": {},
     "output_type": "display_data"
    },
    {
     "name": "stdout",
     "output_type": "stream",
     "text": [
      "imgs/Yokohama_009_Kozukue-st_up_20240405_day/HD11/\n",
      "Image counts:570\n",
      "imgs/Yokohama_009_Kozukue-st_up_20240405_day/HD12/\n",
      "Image counts:570\n",
      "imgs/Yokohama_009_Kozukue-st_up_20240405_day/HD21/\n",
      "Image counts:570\n",
      "imgs/Yokohama_009_Kozukue-st_up_20240405_day/HD22/\n",
      "Image counts:570\n",
      "imgs/Yokohama_009_Kozukue-st_up_20240405_day/HD31/\n",
      "Image counts:570\n",
      "imgs/Yokohama_009_Kozukue-st_up_20240405_day/HD32/\n",
      "Image counts:570\n",
      "画像ファイルごとのキロ程情報をTDM/Yokohama_009_Kozukue-st_up_20240405_day.jsonに記録しました\n",
      "線区ディレクトリにある画像ファイルに対応するキロ程情報を読み込みました\n",
      "CPU times: user 21min 51s, sys: 11.5 s, total: 22min 3s\n",
      "Wall time: 27min 24s\n"
     ]
    }
   ],
   "source": [
    "%%time\n",
    "\n",
    "# 初期設定\n",
    "images_path = helpers.list_imagespath_nonCache(config.image_dir)\n",
    "\n",
    "# カラム名をS3から読み込む\n",
    "columns_csv_key = 'img-location-table/TDM_GazoFileIndex_ColumnsName.csv'\n",
    "columns = get_columns_from_csv(bucket_name, columns_csv_key)\n",
    "# print(f\"{columns=}\")\n",
    "\n",
    "# meas_list = []\n",
    "for images_folder_num in images_path:\n",
    "    # カメラ番号のリスト\n",
    "    cams_path = helpers.list_imagespath_nonCache(f\"{config.image_dir}/{images_folder_num}\")\n",
    "\n",
    "    # 線区フォルダ内の最初の画像ファイル\n",
    "    target_dir = f\"{config.image_dir}/{images_folder_num}/{cams_path[0]}\"\n",
    "    base_images = helpers.list_images(target_dir)\n",
    "    image_name = base_images[0].split('/')[-1]\n",
    "    print(f\"{image_name=}\")\n",
    "\n",
    "    meas_year = image_name.split(\"_\")[0]              # 走行年度\n",
    "    meas_idx = image_name.split(\"_\")[1]               # 年度通番\n",
    "    meas_senku = images_folder_num.split('_')[0]      # 線区\n",
    "    meas_kukan = images_folder_num.split('_')[2]      # 区間\n",
    "    print(f\"測定年度: {meas_year}  年度通番: {meas_idx}  線区: {meas_senku}  区間: {meas_kukan}\")\n",
    "\n",
    "    # 手持ち線区フォルダと一致するCSVをS3から探す\n",
    "    # stop_loop = 0\n",
    "    for csv_file in csv_files:\n",
    "        if csv_file[-13:-4] == f\"{meas_year}_{meas_idx}\":\n",
    "            # データフレームを読み込む\n",
    "            df_tdm = get_df(bucket_name, csv_file, columns)\n",
    "\n",
    "            # 走行日・線区ごとのキロ程補正情報の辞書を作成する\n",
    "            df_tdm, KiroTei_dict = get_KiroTei_dict(config, df_tdm)\n",
    "\n",
    "            # 測定日を取得　※１つしかないはず・・・\n",
    "            date = df_tdm['SokuteiDate'].unique().item()\n",
    "\n",
    "            # 線別コードを取得\n",
    "            if images_folder_num.split('_')[3] == \"down\":\n",
    "                SenbetsuCd = 21\n",
    "            elif images_folder_num.split('_')[3] == \"up\":\n",
    "                SenbetsuCd = 22\n",
    "            else:\n",
    "                SenbetsuCd = None                              # 他は？？\n",
    "\n",
    "            # 基準となる電柱の情報                                                                                               # キロ程オフセット未使用化のため追加\n",
    "            # ref_point = {\n",
    "            #     \"EkiCd_NEWSS\": eki_code[meas_senku][meas_kukan][\"EkiCd_NEWSS\"],\n",
    "            #     \"pole_num_NEWSS\": eki_code[meas_senku][meas_kukan][\"pole_num_NEWSS\"],\n",
    "            #     \"pole_kilo_NEWSS\": eki_code[meas_senku][meas_kukan][\"pole_kilo_NEWSS\"]\n",
    "            # }\n",
    "            \n",
    "            # print('df_tdm <head>')\n",
    "            # print(df_tdm.head())\n",
    "\n",
    "            # pole_kiro_offset = get_Kiro_offset(df_tdm, ref_point, date)                                                        # キロ程オフセット未使用化のため追加\n",
    "\n",
    "            # kiro_offset_dict = {}                                                                                              # キロ程オフセット未使用化のため追加\n",
    "            # kiro_offset_dict[date] = pole_kiro_offset                                                                          # キロ程オフセット未使用化のため追加\n",
    "\n",
    "            # # NEWSSキロ程を計算して 列`KiroTei_NEWSS`に記録する                                                                  # キロ程オフセット未使用化のため追加\n",
    "            # df_tdm = get_Kiro_NEWSS(df_tdm, kiro_offset_dict)                                                                  # キロ程オフセット未使用化のため追加\n",
    "\n",
    "            # 確認用にエクセルに出力する\n",
    "            df_tdm.to_excel(f\"./TDM/temp/df_tdm_{images_folder_num}.xlsx\")\n",
    "\n",
    "            # 初期設定の情報を出力\n",
    "            print(f\"画像フォルダ名：{images_folder_num}\")\n",
    "            # print(f\"基準にする電柱：{ref_point['pole_num_NEWSS']}\")                                                             # キロ程オフセット未使用化のため追加\n",
    "            # print(f\"　　　　キロ程：{ref_point['pole_kilo_NEWSS']}\")                                                            # キロ程オフセット未使用化のため追加\n",
    "            # print(f\"検測キロ程ズレ：{round(kiro_offset_dict[date], 3)}\")                                                        # キロ程オフセット未使用化のため追加\n",
    "\n",
    "            imgKilo = set_imgKiro(config, images_folder_num, df_tdm)\n",
    "\n",
    "            if imgKilo != {}:\n",
    "                # 結果をJSONファイルに記録する\n",
    "                dir = f\"{config.tdm_dir}/{images_folder_num}.json\"\n",
    "                with open(dir, mode=\"wt\", encoding=\"utf-8\") as f:\n",
    "                    json.dump(imgKilo, f, ensure_ascii=False, indent=2, default=helpers.default)\n",
    "\n",
    "            print(f\"画像ファイルごとのキロ程情報を{dir}に記録しました\")\n",
    "            break\n",
    "\n",
    "#     if stop_loop == 1:\n",
    "#         break\n",
    "\n",
    "\n",
    "\"\"\"\n",
    "2024.8.12　めも\n",
    "・必要なCSVファイルのみS3から持ってくる形式に変更（S3にある場合のみ）\n",
    "・必要なCSVファイルは走行年度と年度内通番から検索\n",
    "・それを手持ちの線区フォルダで順繰りに実施\n",
    "\"\"\"\n",
    "\n",
    "print(\"線区ディレクトリにある画像ファイルに対応するキロ程情報を読み込みました\")"
   ]
  },
  {
   "cell_type": "code",
   "execution_count": null,
   "id": "1567c145-ba8c-4c8e-9744-ab30d798c99c",
   "metadata": {},
   "outputs": [],
   "source": []
  },
  {
   "cell_type": "code",
   "execution_count": null,
   "id": "db505aa7-bba6-4eab-ad6c-0b0d098fcc54",
   "metadata": {},
   "outputs": [],
   "source": []
  },
  {
   "cell_type": "markdown",
   "id": "d02cde56-428e-4ece-9d2a-c49627b7dc9d",
   "metadata": {},
   "source": [
    "## 作成したJSONファイルの確認"
   ]
  },
  {
   "cell_type": "code",
   "execution_count": null,
   "id": "3b1e945a-26b5-4fa5-9e89-3d21d68fb6cb",
   "metadata": {
    "tags": []
   },
   "outputs": [],
   "source": [
    "import json\n",
    "jsonPath = config.tdm_dir\n",
    "# jsonFile = \"Joban_001_Toride-st_down_20240402_day.json\"\n",
    "jsonFile = \"Joban_002_Toride-Fujishiro_down_20240402_day.json\"\n",
    "FullPath = jsonPath + \"/\" + jsonFile\n",
    "print(FullPath)\n",
    "\n",
    "jsonOpen = open(FullPath, 'r')\n",
    "tdmFile = json.load(jsonOpen)\n",
    "\n",
    "# print(jsonLoad)"
   ]
  },
  {
   "cell_type": "code",
   "execution_count": null,
   "id": "adae5679-d330-47f3-b77a-ce7d2557147e",
   "metadata": {
    "tags": []
   },
   "outputs": [],
   "source": [
    "jsonFile.split('.')[0]"
   ]
  },
  {
   "cell_type": "code",
   "execution_count": null,
   "id": "93489262-9486-4d59-9576-a8107016b892",
   "metadata": {
    "tags": []
   },
   "outputs": [],
   "source": [
    "import pandas as pd\n",
    "from openpyxl import Workbook\n",
    "# import openpyxl\n",
    "\n",
    "# writer = pd.ExcelWriter('Takasaki_99_Omiya-Kitaageo_down_20230509_day.xlsx', engine='openpyxl')\n",
    "# wb = openpyxl.Workbook()\n",
    "\n",
    "jsonname = jsonFile.split('.')[0]\n",
    "\n",
    "with pd.ExcelWriter(f'{jsonname}.xlsx') as writer:\n",
    "\n",
    "    for camera in ['HD11', 'HD12', 'HD21', 'HD22', 'HD31', 'HD32']:\n",
    "\n",
    "        Index, Kirotei, KiroDiff, PoleNum, NewPole = [], [], [], [], []\n",
    "        for ix, file in enumerate(tdmFile[camera]):\n",
    "            if ix == 0:\n",
    "                last_pole = tdmFile[camera][file]['DenchuNo']\n",
    "                last_kiro = tdmFile[camera][file]['KiroTei']\n",
    "\n",
    "            Index.append(ix)\n",
    "\n",
    "            Kirotei.append(tdmFile[camera][file]['KiroTei'])\n",
    "\n",
    "            KiroDiff.append(tdmFile[camera][file]['KiroTei'] - last_kiro)\n",
    "\n",
    "            PoleNum.append(tdmFile[camera][file]['DenchuNo'])\n",
    "\n",
    "            if tdmFile[camera][file]['DenchuNo'] != last_pole:\n",
    "                NewPole.append('True')\n",
    "            else:\n",
    "                NewPole.append('False')\n",
    "\n",
    "            last_pole = tdmFile[camera][file]['DenchuNo']\n",
    "            last_kiro = tdmFile[camera][file]['KiroTei']\n",
    "\n",
    "        df_json = pd.DataFrame({'Index': Index, 'PoleNum': PoleNum, 'NewPole': NewPole, 'Kirotei': Kirotei, 'KiroDiff':KiroDiff})\n",
    "        df_json.to_excel(writer, sheet_name=camera, index=False)\n",
    "        # df_json.to_excel(wb, sheet_name=camera, index=False)\n",
    "\n",
    "# Excelファイルを保存\n",
    "# writer.save()\n",
    "# wb.save('Takasaki_99_Omiya-Kitaageo_down_20230509_day.xlsx')\n"
   ]
  },
  {
   "cell_type": "code",
   "execution_count": null,
   "id": "f589db20-ff33-49ec-92f2-c53e7413b9a8",
   "metadata": {
    "tags": []
   },
   "outputs": [],
   "source": [
    "from bokeh.plotting import figure, output_notebook, show\n",
    "from bokeh.models import ColumnDataSource, HoverTool\n",
    "output_notebook()\n",
    "\n",
    "source = ColumnDataSource(df_json)\n",
    "\n",
    "TOOLTIPS = [\n",
    "    ('Index', '@ix'),\n",
    "    ('PoleNum', '@PoleNum'),\n",
    "    ('Kirotei', '@Kirotei')\n",
    "]\n",
    "\n",
    "p = figure(\n",
    "    plot_width=2000, \n",
    "    plot_height=600,\n",
    "    tooltips=TOOLTIPS\n",
    ")\n",
    "     \n",
    "p.circle(\n",
    "    source=source, \n",
    "    # x='ix',\n",
    "    # y='kiro'\n",
    "    x='Index',\n",
    "    y='Kirotei'\n",
    ")\n",
    "\n",
    "show(p)"
   ]
  },
  {
   "cell_type": "code",
   "execution_count": null,
   "id": "b5398ab2-7705-4a44-9560-9d106dd68514",
   "metadata": {},
   "outputs": [],
   "source": []
  },
  {
   "cell_type": "code",
   "execution_count": null,
   "id": "9085dab4-b593-4fb8-8268-678e8fd50d69",
   "metadata": {},
   "outputs": [],
   "source": []
  },
  {
   "cell_type": "code",
   "execution_count": null,
   "id": "8198f818-b344-4b69-946a-6f46791e7e2d",
   "metadata": {
    "tags": []
   },
   "outputs": [],
   "source": [
    "date = df_tdm['SokuteiDate'].unique().item()\n",
    "date"
   ]
  },
  {
   "cell_type": "code",
   "execution_count": null,
   "id": "0346a5e6-99ad-49d4-ad20-87ab5b88cce1",
   "metadata": {
    "tags": []
   },
   "outputs": [],
   "source": [
    "meas_senku = 'Joban'\n",
    "meas_kukan = 'Toride-st'\n",
    "\n",
    "ref_point = {\n",
    "    \"EkiCd_NEWSS\": eki_code[meas_senku][meas_kukan][\"EkiCd_NEWSS\"],\n",
    "    \"pole_num_NEWSS\": eki_code[meas_senku][meas_kukan][\"pole_num_NEWSS\"],\n",
    "    \"pole_kilo_NEWSS\": eki_code[meas_senku][meas_kukan][\"pole_kilo_NEWSS\"]\n",
    "}"
   ]
  },
  {
   "cell_type": "code",
   "execution_count": null,
   "id": "887d3de8-e18b-4906-93c9-1030ba7bd03b",
   "metadata": {
    "tags": []
   },
   "outputs": [],
   "source": [
    "ref_point"
   ]
  },
  {
   "cell_type": "code",
   "execution_count": null,
   "id": "0342c049-eb30-4132-bfaf-d2afc592f8ea",
   "metadata": {
    "tags": []
   },
   "outputs": [],
   "source": [
    "pole_num_matched = df_tdm.query(\n",
    "    f\"EkiCd == {ref_point['EkiCd_NEWSS']} & SokuteiDate == {date} & DenchuNo == {ref_point['pole_num_NEWSS']}\", engine='python'\n",
    ").index.tolist()"
   ]
  },
  {
   "cell_type": "code",
   "execution_count": null,
   "id": "7bc4cb72-ee1e-4ca1-98f7-e84c9640d31e",
   "metadata": {
    "tags": []
   },
   "outputs": [],
   "source": [
    "df_tdm[df_tdm['EkiCd'] == ref_point['EkiCd_NEWSS']]"
   ]
  },
  {
   "cell_type": "code",
   "execution_count": null,
   "id": "1638cbb3-8ab1-415c-ba2e-6a7a7cc0cef5",
   "metadata": {
    "tags": []
   },
   "outputs": [],
   "source": [
    "pole_num_matched"
   ]
  },
  {
   "cell_type": "code",
   "execution_count": null,
   "id": "7ad14c1d-9f08-4bb7-b451-0ad20ef33e39",
   "metadata": {
    "tags": []
   },
   "outputs": [],
   "source": [
    "df_tdm"
   ]
  },
  {
   "cell_type": "code",
   "execution_count": null,
   "id": "9f646971-6dad-4a8e-8e68-35ec3bfbfa92",
   "metadata": {},
   "outputs": [],
   "source": []
  },
  {
   "cell_type": "code",
   "execution_count": null,
   "id": "314c94b8-e3a1-4c1f-98d2-594ef5479843",
   "metadata": {},
   "outputs": [],
   "source": []
  }
 ],
 "metadata": {
  "kernelspec": {
   "display_name": "conda_python3",
   "language": "python",
   "name": "conda_python3"
  },
  "language_info": {
   "codemirror_mode": {
    "name": "ipython",
    "version": 3
   },
   "file_extension": ".py",
   "mimetype": "text/x-python",
   "name": "python",
   "nbconvert_exporter": "python",
   "pygments_lexer": "ipython3",
   "version": "3.10.14"
  }
 },
 "nbformat": 4,
 "nbformat_minor": 5
}
