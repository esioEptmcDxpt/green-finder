{
 "cells": [
  {
   "cell_type": "markdown",
   "id": "04d40131-7754-4344-97e8-339fe17323e5",
   "metadata": {
    "tags": []
   },
   "source": [
    "# 画像ファイルに対応するキロ程紐づけ用のJSONファイルを作成するノートブック\n",
    "```\n",
    "以下のコマンドを順番に実行していく\n",
    "想定しているディレクトリ構造は以下のとおり\n",
    ".\n",
    "├ imgs\n",
    "│  └ dir_area    :線区単位の画像を保存\n",
    "│     ├ HD11     :カメラ毎の画像を保存\n",
    "│     ├ HD12     :以下、同じ\n",
    "│     ├ HD21         \n",
    "│     ├ HD21 \n",
    "│     ├ HD31 \n",
    "│     └ HD32 \n",
    "├ TDM\n",
    "│  └ TDM_GazoFileIndex.xlsx  :車モニから出力したマスターデータ\n",
    "└ imgKiro.ipynb  :本ファイル\n",
    "```"
   ]
  },
  {
   "cell_type": "code",
   "execution_count": null,
   "id": "5845d9f9-3d02-4f6e-b7ec-6d1e8d20e965",
   "metadata": {
    "scrolled": true,
    "tags": []
   },
   "outputs": [],
   "source": [
    "!pip list"
   ]
  },
  {
   "cell_type": "markdown",
   "id": "64e9beed-a323-42f0-a53a-6347b9b1f542",
   "metadata": {
    "tags": []
   },
   "source": [
    "# 一括で線区フォルダごとのJSONファイルを作成する"
   ]
  },
  {
   "cell_type": "markdown",
   "id": "4beeb4a3-38e8-4a15-aa64-8f9415a507d9",
   "metadata": {},
   "source": [
    "## 1. ライブラリ読込み＆関数の定義"
   ]
  },
  {
   "cell_type": "code",
   "execution_count": 1,
   "id": "5938c02f-b83b-4668-a4fb-8bb748ee24a4",
   "metadata": {
    "tags": []
   },
   "outputs": [
    {
     "name": "stdout",
     "output_type": "stream",
     "text": [
      "準備完了\n"
     ]
    }
   ],
   "source": [
    "import importlib\n",
    "from pprint import pprint\n",
    "from tqdm.notebook import tqdm\n",
    "import boto3\n",
    "\n",
    "import gc\n",
    "import re\n",
    "import json\n",
    "import pandas as pd\n",
    "import numpy as np\n",
    "from tqdm.notebook import tqdm\n",
    "from PIL import Image, ImageDraw, ImageFont\n",
    "from src.config import appProperties\n",
    "import src.helpers as helpers\n",
    "import src.visualize as vis\n",
    "importlib.reload(helpers)\n",
    "importlib.reload(vis)\n",
    "\n",
    "config = appProperties('config.yml')    # config を取得\n",
    "\n",
    "\n",
    "def get_df(bucket_name, csv_file, columns):\n",
    "    \"\"\" 車モニのマスタデータを読み込む\n",
    "    Args:\n",
    "        tdm_fpath(str): 車モニ マスターデータのパス\n",
    "    Return:\n",
    "        df_tdm(DataFrame): 読み込まれたデータフレーム\n",
    "    \"\"\"\n",
    "\n",
    "    # TDM(車モニCSV)をS3からダウンロードする\n",
    "    download_path = f\"TDM/temp/{csv_file.split('/')[-1]}\"\n",
    "    print(\"車モニのマスターデータを読み込みます ※少し時間がかかります\")\n",
    "    download_file_from_s3(bucket_name, csv_file, download_path)\n",
    "    print(f'complete: {download_path=}')\n",
    "\n",
    "    # CSVからデータフレームを読み込む\n",
    "    df_tdm = pd.read_csv(download_path, names=columns, delimiter='|')\n",
    "\n",
    "    # データフレームを整形する\n",
    "    df_tdm['TimeCode'] = pd.to_datetime(df_tdm['TimeCode'])\n",
    "    df_tdm = df_tdm.sort_values(by=['SokuteiDate', 'KiroTei'], ignore_index=True)\n",
    "    print(\"車モニのマスターデータを読み込みました\")\n",
    "    print(f\"データフレームのサイズ:{df_tdm.shape}\")\n",
    "\n",
    "    # 欲しい列だけ抽出する\n",
    "    df_tdm = df_tdm.filter([\n",
    "        'EkiCd', 'SenbetsuCd', 'SokuteiDate', 'DenchuNo', 'KiroTei',               # Comment Out    'SokuteiYear' 'NennaiSeqNo'は追加されている\n",
    "        'GazoFileNameHD11', 'GazoFileNameHD12',\n",
    "        'GazoFileNameHD21', 'GazoFileNameHD22',\n",
    "        'GazoFileNameHD31', 'GazoFileNameHD32'\n",
    "    ]).copy()\n",
    "\n",
    "    print(\"必要な情報だけフィルタリングしました\")\n",
    "    print(f\"データフレームのサイズ:{df_tdm.shape}\")\n",
    "    return df_tdm\n",
    "\n",
    "\n",
    "def list_csv_files(bucket_name, prefix):\n",
    "    \"\"\" S3にあるCSVの一覧をゲット\n",
    "    \"\"\"\n",
    "    s3 = boto3.client('s3')\n",
    "    paginator = s3.get_paginator('list_objects_v2')\n",
    "\n",
    "    csv_files = []\n",
    "    for page in paginator.paginate(Bucket=bucket_name, Prefix=prefix):\n",
    "        if 'Contents' in page:\n",
    "            for obj in page['Contents']:\n",
    "                if obj['Key'].endswith('.csv'):\n",
    "                    csv_files.append(obj['Key'])\n",
    "\n",
    "    return csv_files\n",
    "\n",
    "\n",
    "def download_file_from_s3(bucket_name, key, download_path):\n",
    "    \"\"\" S3からダウンロードする\n",
    "    \"\"\"\n",
    "    # print(f\"{bucket_name=} {key=} {download_path=}\")\n",
    "    s3 = boto3.client('s3')\n",
    "    s3.download_file(bucket_name, key, download_path)\n",
    "\n",
    "\n",
    "def get_columns_from_csv(bucket_name, columns_csv_key):\n",
    "    \"\"\" S3からカラム名リストをゲット\n",
    "    \"\"\"\n",
    "    s3 = boto3.client('s3')\n",
    "    obj = s3.get_object(Bucket=bucket_name, Key=columns_csv_key)\n",
    "    columns_df = pd.read_csv(obj['Body'])\n",
    "    return columns_df.columns.tolist()\n",
    "\n",
    "\n",
    "def get_KiroTei_dict(config, df):\n",
    "    \"\"\" 走行日・線区ごとのキロ程補正情報を辞書に記録する\n",
    "    \"\"\"\n",
    "    # カメラ番号ごとに、EkiCdのはじめの行をTrueとして記録する\n",
    "    for camera_num in config.camera_types:\n",
    "        df[f\"EkiCdDiff{camera_num}\"] = df.query(f\"GazoFileName{camera_num}.notnull()\", engine='python')['EkiCd'].diff().map(lambda x: x != 0)\n",
    "    # 走行日・線区ごとに、画像1枚あたりの幅(m)を算出して辞書に記録する\n",
    "    result_dict = {}\n",
    "    for camera_num in config.camera_types:\n",
    "        grouped_df = df.query(f\"GazoFileName{camera_num}.notnull()\", engine='python').groupby(['SokuteiDate', 'EkiCd'])['KiroTei'].count()\n",
    "        for (date, ekicd), count in grouped_df.items():\n",
    "            if date not in result_dict:\n",
    "                result_dict[date] = {}\n",
    "            if ekicd not in result_dict[date]:\n",
    "                result_dict[date][ekicd] = {}\n",
    "            # print(f\"camera_num: {camera_num}, date: {date}, ekicd: {ekicd}\")\n",
    "            KiroTei_head = df.query(f\"EkiCdDiff{camera_num}.notnull() & SokuteiDate == {date} & EkiCd == {ekicd}\", engine='python')['KiroTei'].iloc[0]\n",
    "            KiroTei_tail = df.query(f\"EkiCdDiff{camera_num}.notnull() & SokuteiDate == {date} & EkiCd == {ekicd}\", engine='python')['KiroTei'].iloc[-1]\n",
    "            result_dict[date][ekicd][camera_num] = {\n",
    "                'KiroTei_head': KiroTei_head,\n",
    "                'KiroTei_tail': KiroTei_tail,\n",
    "                'KiroTei_dist': round(KiroTei_tail - KiroTei_head, 4),\n",
    "                'KiroTei_delta': round((KiroTei_tail - KiroTei_head) / (count - 1), 6),\n",
    "                'count': count\n",
    "            }\n",
    "    return df.copy(), result_dict\n",
    "\n",
    "\n",
    "def get_Kiro_offset(df_tdm, ref_point, date):\n",
    "    \"\"\" 基準位置を指定し、検測キロ程をNEWSSキロ程に変換するオフセット値を取得する\n",
    "    Args:\n",
    "    \n",
    "    Return:\n",
    "    \n",
    "    \"\"\"\n",
    "    pole_num_matched = df_tdm.query(\n",
    "        f\"EkiCd == {ref_point['EkiCd_NEWSS']} & SokuteiDate == {date} & DenchuNo == {ref_point['pole_num_NEWSS']}\"\n",
    "    ).index.tolist()\n",
    "    pole_kiro_twins = df_tdm.loc[min(pole_num_matched)]['KiroTei']\n",
    "    pole_kiro_offset = ref_point['pole_kilo_NEWSS'] - pole_kiro_twins\n",
    "    print(f\"基準にする電柱の検測キロ程: {pole_kiro_twins}km\")\n",
    "    print(f\"　　　キロ程のオフセット値: {pole_kiro_offset}km\")\n",
    "    return pole_kiro_offset\n",
    "\n",
    "\n",
    "def get_Kiro_NEWSS(df_tdm, kiro_offset_dict):\n",
    "    df_tdm['KiroTei_NEWSS'] = df_tdm.apply(lambda row: row['KiroTei'] + kiro_offset_dict[row['SokuteiDate']], axis=1)\n",
    "    return df_tdm\n",
    "\n",
    "\n",
    "def set_imgKiro(config, dir_area, df_tdm):\n",
    "    imgKilo = {}\n",
    "    for camera_num in config.camera_types:\n",
    "        # カメラフォルダ内の画像ファイルを取得\n",
    "        image_dir = f\"{config.image_dir}/{dir_area}/{camera_num}/\"\n",
    "        print(image_dir)\n",
    "        list_images = helpers.list_images(image_dir)\n",
    "        print(f\"Image counts:{len(list_images)}\")\n",
    "        # 画像ファイル名に対応するキロ程を抽出して辞書型で記録する\n",
    "        imgKilo_temp = {}\n",
    "        # imgKilo_temp_values = {}\n",
    "        for fname in tqdm(list_images):\n",
    "        # for fname in list_images:\n",
    "            image_name = re.split('[./]', fname)[-2]\n",
    "            df_tdm_Series = df_tdm[df_tdm[f\"GazoFileName{camera_num}\"] == image_name].copy()\n",
    "            if df_tdm_Series.empty:\n",
    "                continue\n",
    "            else:\n",
    "                DenchuNo = df_tdm_Series['DenchuNo'].item()\n",
    "                KiroTei = df_tdm_Series['KiroTei_NEWSS'].round(4).item()\n",
    "\n",
    "            # imgKilo_temp_values[\"DenchuNo\"] = DenchuNo\n",
    "            # imgKilo_temp_values[\"KiroTei\"] = KiroTei\n",
    "            # imgKilo_temp[image_name] = imgKilo_temp_values.copy()\n",
    "            imgKilo_temp[image_name] = {\n",
    "                \"DenchuNo\": DenchuNo,\n",
    "                \"KiroTei\": KiroTei\n",
    "            }\n",
    "\n",
    "        if imgKilo_temp != {}:\n",
    "            imgKilo[camera_num] = imgKilo_temp.copy()\n",
    "\n",
    "    return imgKilo\n",
    "\n",
    "print(\"準備完了\")"
   ]
  },
  {
   "cell_type": "markdown",
   "id": "9be2c1bb-07c0-4f9a-8e99-d80b88243895",
   "metadata": {},
   "source": [
    "## 駅・駅間コードのjson作成"
   ]
  },
  {
   "cell_type": "code",
   "execution_count": 2,
   "id": "83d9f835-25f9-4c02-bdb2-f81d9332de23",
   "metadata": {
    "tags": []
   },
   "outputs": [
    {
     "name": "stderr",
     "output_type": "stream",
     "text": [
      "/home/ec2-user/anaconda3/envs/python3/lib/python3.10/site-packages/openpyxl/worksheet/header_footer.py:48: UserWarning: Cannot parse header or footer so it will be ignored\n",
      "  warn(\"\"\"Cannot parse header or footer so it will be ignored\"\"\")\n"
     ]
    }
   ],
   "source": [
    "# エクセル読み込み\n",
    "df_ekicode = pd.read_excel(\"TDM/Senku-Code.xlsx\")\n",
    "\n",
    "# json元データ作成\n",
    "eki_code = {}\n",
    "for Senmei in df_ekicode[\"Senmei\"].unique():\n",
    "    eki_code[Senmei] = {}\n",
    "    for idx, Kukan in enumerate(df_ekicode[\"Kukan\"]):\n",
    "        eki_code[Senmei][Kukan] = {\n",
    "            \"EkiCd_NEWSS\":df_ekicode[\"EkiCd\"][idx],\n",
    "            \"pole_num_NEWSS\":df_ekicode[\"DenchuNo\"][idx],\n",
    "            \"pole_kilo_NEWSS\":df_ekicode[\"KiroTei\"][idx]\n",
    "        }\n",
    "\n",
    "# jsonファイルに書き出し\n",
    "path = f\"{config.tdm_dir}/eki_code.json\"\n",
    "with open(path, mode=\"wt\", encoding=\"utf-8\") as f:\n",
    "    json.dump(eki_code, f, ensure_ascii=False, indent=2, default=helpers.default)"
   ]
  },
  {
   "cell_type": "code",
   "execution_count": 3,
   "id": "4f7de836-1620-4553-965b-8489216e379f",
   "metadata": {
    "tags": []
   },
   "outputs": [
    {
     "data": {
      "text/plain": [
       "dict_keys(['Omiya-Miyahara', 'Miyahara-st', 'Miyahara-Ageo', 'Ageo-st', 'Ageo-Kitaageo', 'Kitaageo-st', 'Kitaageo-Okegawa', 'Okegawa-st', 'Okegawa-Kitamoto', 'Kitamoto-st', 'Kitamoto-Kounosu', 'Kounosu-st', 'Kounosu-Kitakounosu', 'Kitakounosu-st', 'Kitakounosu-Fukiage', 'Fukiage-st', 'Fukiage-Gyouda', 'Gyouda-st', 'Gyouda-Kumagaya', 'Kumagaya-st', 'Kumagaya-KumagayaFT', 'KumagayaFT', 'KumagayaFT-Kagohara', 'Kagohara-st', 'Kagohara-Fukaya', 'Fukaya-st', 'Fukaya-Okabe', 'Okabe-st', 'Okabe-Honjo', 'Honjo-st', 'Honjo-Jinbohara', 'Jinbohara-st', 'Jinbohara-Shinmachi', 'Shinmachi-st', 'Shinmachi-Kitafujioka', 'Kitafujioka-st', 'Kitafujioka-Kuragano', 'Kuragano-st', 'Kuragano-TakasakiYD', 'TakasakiYD', 'TakasakiYD-Takasaki', 'Takasaki-st', 'Nippori-Mikawashima', 'Mikawashima-st', 'Mikawashima-Minamisenju', 'Minamisenju-st', 'Minamisenju-Kitasenju', 'Kitasenju-st', 'Kitasenju-Ayase', 'Ayase-st', 'Ayase-Kameari', 'Kameari-st', 'Kameari-Kanamachi', 'Kanamachi-st', 'Kanamachi-Matsudo', 'Matsudo-st', 'Matsudo-Kitamatsudo', 'Kitamatsudo-st', 'Mabashi-st', 'Mabashi-Shinmatsudo', 'Shinmatsudo-st', 'Shinmatsudo-Kitakogane', 'Kitakogane-st', 'Kitakogane-Minamikashiwa', 'Minamikashiwa-st', 'Minamikashiwa-Kashiwa', 'Kashiwa-st', 'Kashiwa-Kitakashiwa', 'Kitakashiwa-st', 'Abiko-st', 'Abiko-Tennodai', 'Tennodai-st', 'Tennodai-Toride', 'Toride-st', 'Toride-Fujishiro'])"
      ]
     },
     "execution_count": 3,
     "metadata": {},
     "output_type": "execute_result"
    }
   ],
   "source": [
    "# jsonファイル確認\n",
    "path = path = f\"{config.tdm_dir}/eki_code.json\"\n",
    "with open(path, encoding=\"utf-8\") as f:\n",
    "    eki_code_rd =  json.load(f)\n",
    "\n",
    "eki_code_rd[\"Takasaki\"].keys()"
   ]
  },
  {
   "cell_type": "code",
   "execution_count": 4,
   "id": "3c26a086-722e-4288-b287-405831324af6",
   "metadata": {
    "tags": []
   },
   "outputs": [],
   "source": [
    "# 駅コードのjsonファイルを読み込んでセットする\n",
    "path = path = f\"{config.tdm_dir}/eki_code.json\"\n",
    "with open(path, encoding=\"utf-8\") as f:\n",
    "    eki_code =  json.load(f)"
   ]
  },
  {
   "cell_type": "markdown",
   "id": "7a52fc45-585d-480f-8982-cd48f6f40d1a",
   "metadata": {},
   "source": [
    "## 2. 車モニデータを利用して画像ごとのキロ程マスターデータ(JSON)を作成する\n",
    "```\n",
    "ファイルパスなどを設定する\n",
    "車モニのマスターデータは検測キロ程になっているため、NEWSSキロ程に合わせる基準を設定する\n",
    "```"
   ]
  },
  {
   "cell_type": "code",
   "execution_count": 5,
   "id": "df4ca01d-f9a5-43b3-a2a5-9d3219e4f9e0",
   "metadata": {
    "scrolled": true,
    "tags": []
   },
   "outputs": [
    {
     "name": "stderr",
     "output_type": "stream",
     "text": [
      "2024-08-22 00:56:33.844 INFO    botocore.credentials: Found credentials from IAM Role: BaseNotebookInstanceEc2InstanceRole\n"
     ]
    },
    {
     "name": "stdout",
     "output_type": "stream",
     "text": [
      "参考\n",
      "S3にあるTDM(車モニCSV):\n",
      "0> img-location-table/2024Q1/2024_0001-0180/TDM_GazoFileIndex_2024_0001.csv\n",
      "1> img-location-table/2024Q1/2024_0001-0180/TDM_GazoFileIndex_2024_0002.csv\n",
      "2> img-location-table/2024Q1/2024_0001-0180/TDM_GazoFileIndex_2024_0003.csv\n",
      "3> img-location-table/2024Q1/2024_0001-0180/TDM_GazoFileIndex_2024_0004.csv\n",
      "4> img-location-table/2024Q1/2024_0001-0180/TDM_GazoFileIndex_2024_0005.csv\n",
      "5> img-location-table/2024Q1/2024_0001-0180/TDM_GazoFileIndex_2024_0006.csv\n",
      "6> img-location-table/2024Q1/2024_0001-0180/TDM_GazoFileIndex_2024_0007.csv\n",
      "7> img-location-table/2024Q1/2024_0001-0180/TDM_GazoFileIndex_2024_0008.csv\n",
      "8> img-location-table/2024Q1/2024_0001-0180/TDM_GazoFileIndex_2024_0009.csv\n",
      "9> img-location-table/2024Q1/2024_0001-0180/TDM_GazoFileIndex_2024_0010.csv\n",
      "10> img-location-table/2024Q1/2024_0001-0180/TDM_GazoFileIndex_2024_0011.csv\n",
      "11> img-location-table/2024Q1/2024_0001-0180/TDM_GazoFileIndex_2024_0012.csv\n",
      "12> img-location-table/2024Q1/2024_0001-0180/TDM_GazoFileIndex_2024_0013.csv\n",
      "13> img-location-table/2024Q1/2024_0001-0180/TDM_GazoFileIndex_2024_0014.csv\n",
      "14> img-location-table/2024Q1/2024_0001-0180/TDM_GazoFileIndex_2024_0015.csv\n",
      "15> img-location-table/2024Q1/2024_0001-0180/TDM_GazoFileIndex_2024_0016.csv\n",
      "16> img-location-table/2024Q1/2024_0001-0180/TDM_GazoFileIndex_2024_0017.csv\n",
      "17> img-location-table/2024Q1/2024_0001-0180/TDM_GazoFileIndex_2024_0018.csv\n",
      "18> img-location-table/2024Q1/2024_0001-0180/TDM_GazoFileIndex_2024_0019.csv\n",
      "19> img-location-table/2024Q1/2024_0001-0180/TDM_GazoFileIndex_2024_0020.csv\n",
      "20> img-location-table/2024Q1/2024_0001-0180/TDM_GazoFileIndex_2024_0021.csv\n",
      "21> img-location-table/2024Q1/2024_0001-0180/TDM_GazoFileIndex_2024_0022.csv\n",
      "22> img-location-table/2024Q1/2024_0001-0180/TDM_GazoFileIndex_2024_0023.csv\n",
      "23> img-location-table/2024Q1/2024_0001-0180/TDM_GazoFileIndex_2024_0024.csv\n",
      "24> img-location-table/2024Q1/2024_0001-0180/TDM_GazoFileIndex_2024_0025.csv\n",
      "25> img-location-table/2024Q1/2024_0001-0180/TDM_GazoFileIndex_2024_0026.csv\n",
      "26> img-location-table/2024Q1/2024_0001-0180/TDM_GazoFileIndex_2024_0027.csv\n",
      "27> img-location-table/2024Q1/2024_0001-0180/TDM_GazoFileIndex_2024_0028.csv\n",
      "28> img-location-table/2024Q1/2024_0001-0180/TDM_GazoFileIndex_2024_0029.csv\n",
      "29> img-location-table/2024Q1/2024_0001-0180/TDM_GazoFileIndex_2024_0030.csv\n",
      "30> img-location-table/2024Q1/2024_0001-0180/TDM_GazoFileIndex_2024_0031.csv\n",
      "31> img-location-table/2024Q1/2024_0001-0180/TDM_GazoFileIndex_2024_0032.csv\n",
      "32> img-location-table/2024Q1/2024_0001-0180/TDM_GazoFileIndex_2024_0033.csv\n",
      "33> img-location-table/2024Q1/2024_0001-0180/TDM_GazoFileIndex_2024_0034.csv\n",
      "34> img-location-table/2024Q1/2024_0001-0180/TDM_GazoFileIndex_2024_0035.csv\n",
      "35> img-location-table/2024Q1/2024_0001-0180/TDM_GazoFileIndex_2024_0036.csv\n",
      "36> img-location-table/2024Q1/2024_0001-0180/TDM_GazoFileIndex_2024_0037.csv\n",
      "37> img-location-table/2024Q1/2024_0001-0180/TDM_GazoFileIndex_2024_0038.csv\n",
      "38> img-location-table/2024Q1/2024_0001-0180/TDM_GazoFileIndex_2024_0039.csv\n",
      "39> img-location-table/2024Q1/2024_0001-0180/TDM_GazoFileIndex_2024_0040.csv\n",
      "40> img-location-table/2024Q1/2024_0001-0180/TDM_GazoFileIndex_2024_0041.csv\n",
      "41> img-location-table/2024Q1/2024_0001-0180/TDM_GazoFileIndex_2024_0042.csv\n",
      "42> img-location-table/2024Q1/2024_0001-0180/TDM_GazoFileIndex_2024_0043.csv\n",
      "43> img-location-table/2024Q1/2024_0001-0180/TDM_GazoFileIndex_2024_0044.csv\n",
      "44> img-location-table/2024Q1/2024_0001-0180/TDM_GazoFileIndex_2024_0045.csv\n",
      "45> img-location-table/2024Q1/2024_0001-0180/TDM_GazoFileIndex_2024_0046.csv\n",
      "46> img-location-table/2024Q1/2024_0001-0180/TDM_GazoFileIndex_2024_0047.csv\n",
      "47> img-location-table/2024Q1/2024_0001-0180/TDM_GazoFileIndex_2024_0048.csv\n",
      "48> img-location-table/2024Q1/2024_0001-0180/TDM_GazoFileIndex_2024_0049.csv\n",
      "49> img-location-table/2024Q1/2024_0001-0180/TDM_GazoFileIndex_2024_0050.csv\n",
      "50> img-location-table/2024Q1/2024_0001-0180/TDM_GazoFileIndex_2024_0051.csv\n",
      "51> img-location-table/2024Q1/2024_0001-0180/TDM_GazoFileIndex_2024_0052.csv\n",
      "52> img-location-table/2024Q1/2024_0001-0180/TDM_GazoFileIndex_2024_0053.csv\n",
      "53> img-location-table/2024Q1/2024_0001-0180/TDM_GazoFileIndex_2024_0054.csv\n",
      "54> img-location-table/2024Q1/2024_0001-0180/TDM_GazoFileIndex_2024_0055.csv\n",
      "55> img-location-table/2024Q1/2024_0001-0180/TDM_GazoFileIndex_2024_0056.csv\n",
      "56> img-location-table/2024Q1/2024_0001-0180/TDM_GazoFileIndex_2024_0057.csv\n",
      "57> img-location-table/2024Q1/2024_0001-0180/TDM_GazoFileIndex_2024_0058.csv\n",
      "58> img-location-table/2024Q1/2024_0001-0180/TDM_GazoFileIndex_2024_0059.csv\n",
      "59> img-location-table/2024Q1/2024_0001-0180/TDM_GazoFileIndex_2024_0060.csv\n",
      "60> img-location-table/2024Q1/2024_0001-0180/TDM_GazoFileIndex_2024_0061.csv\n",
      "61> img-location-table/2024Q1/2024_0001-0180/TDM_GazoFileIndex_2024_0062.csv\n",
      "62> img-location-table/2024Q1/2024_0001-0180/TDM_GazoFileIndex_2024_0063.csv\n",
      "63> img-location-table/2024Q1/2024_0001-0180/TDM_GazoFileIndex_2024_0064.csv\n",
      "64> img-location-table/2024Q1/2024_0001-0180/TDM_GazoFileIndex_2024_0065.csv\n",
      "65> img-location-table/2024Q1/2024_0001-0180/TDM_GazoFileIndex_2024_0066.csv\n",
      "66> img-location-table/2024Q1/2024_0001-0180/TDM_GazoFileIndex_2024_0067.csv\n",
      "67> img-location-table/2024Q1/2024_0001-0180/TDM_GazoFileIndex_2024_0068.csv\n",
      "68> img-location-table/2024Q1/2024_0001-0180/TDM_GazoFileIndex_2024_0069.csv\n",
      "69> img-location-table/2024Q1/2024_0001-0180/TDM_GazoFileIndex_2024_0070.csv\n",
      "70> img-location-table/2024Q1/2024_0001-0180/TDM_GazoFileIndex_2024_0071.csv\n",
      "71> img-location-table/2024Q1/2024_0001-0180/TDM_GazoFileIndex_2024_0072.csv\n",
      "72> img-location-table/2024Q1/2024_0001-0180/TDM_GazoFileIndex_2024_0073.csv\n",
      "73> img-location-table/2024Q1/2024_0001-0180/TDM_GazoFileIndex_2024_0074.csv\n",
      "74> img-location-table/2024Q1/2024_0001-0180/TDM_GazoFileIndex_2024_0075.csv\n",
      "75> img-location-table/2024Q1/2024_0001-0180/TDM_GazoFileIndex_2024_0076.csv\n",
      "76> img-location-table/2024Q1/2024_0001-0180/TDM_GazoFileIndex_2024_0077.csv\n",
      "77> img-location-table/2024Q1/2024_0001-0180/TDM_GazoFileIndex_2024_0078.csv\n",
      "78> img-location-table/2024Q1/2024_0001-0180/TDM_GazoFileIndex_2024_0079.csv\n",
      "79> img-location-table/2024Q1/2024_0001-0180/TDM_GazoFileIndex_2024_0080.csv\n",
      "80> img-location-table/2024Q1/2024_0001-0180/TDM_GazoFileIndex_2024_0081.csv\n",
      "81> img-location-table/2024Q1/2024_0001-0180/TDM_GazoFileIndex_2024_0082.csv\n",
      "82> img-location-table/2024Q1/2024_0001-0180/TDM_GazoFileIndex_2024_0083.csv\n",
      "83> img-location-table/2024Q1/2024_0001-0180/TDM_GazoFileIndex_2024_0084.csv\n",
      "84> img-location-table/2024Q1/2024_0001-0180/TDM_GazoFileIndex_2024_0085.csv\n",
      "85> img-location-table/2024Q1/2024_0001-0180/TDM_GazoFileIndex_2024_0086.csv\n",
      "86> img-location-table/2024Q1/2024_0001-0180/TDM_GazoFileIndex_2024_0087.csv\n",
      "87> img-location-table/2024Q1/2024_0001-0180/TDM_GazoFileIndex_2024_0088.csv\n",
      "88> img-location-table/2024Q1/2024_0001-0180/TDM_GazoFileIndex_2024_0089.csv\n",
      "89> img-location-table/2024Q1/2024_0001-0180/TDM_GazoFileIndex_2024_0090.csv\n",
      "90> img-location-table/2024Q1/2024_0001-0180/TDM_GazoFileIndex_2024_0091.csv\n",
      "91> img-location-table/2024Q1/2024_0001-0180/TDM_GazoFileIndex_2024_0092.csv\n",
      "92> img-location-table/2024Q1/2024_0001-0180/TDM_GazoFileIndex_2024_0093.csv\n",
      "93> img-location-table/2024Q1/2024_0001-0180/TDM_GazoFileIndex_2024_0094.csv\n",
      "94> img-location-table/2024Q1/2024_0001-0180/TDM_GazoFileIndex_2024_0095.csv\n",
      "95> img-location-table/2024Q1/2024_0001-0180/TDM_GazoFileIndex_2024_0096.csv\n",
      "96> img-location-table/2024Q1/2024_0001-0180/TDM_GazoFileIndex_2024_0097.csv\n",
      "97> img-location-table/2024Q1/2024_0001-0180/TDM_GazoFileIndex_2024_0098.csv\n",
      "98> img-location-table/2024Q1/2024_0001-0180/TDM_GazoFileIndex_2024_0099.csv\n",
      "99> img-location-table/2024Q1/2024_0001-0180/TDM_GazoFileIndex_2024_0100.csv\n",
      "100> img-location-table/2024Q1/2024_0001-0180/TDM_GazoFileIndex_2024_0101.csv\n",
      "101> img-location-table/2024Q1/2024_0001-0180/TDM_GazoFileIndex_2024_0102.csv\n",
      "102> img-location-table/2024Q1/2024_0001-0180/TDM_GazoFileIndex_2024_0103.csv\n",
      "103> img-location-table/2024Q1/2024_0001-0180/TDM_GazoFileIndex_2024_0104.csv\n",
      "104> img-location-table/2024Q1/2024_0001-0180/TDM_GazoFileIndex_2024_0105.csv\n",
      "105> img-location-table/2024Q1/2024_0001-0180/TDM_GazoFileIndex_2024_0106.csv\n",
      "106> img-location-table/2024Q1/2024_0001-0180/TDM_GazoFileIndex_2024_0107.csv\n",
      "107> img-location-table/2024Q1/2024_0001-0180/TDM_GazoFileIndex_2024_0108.csv\n",
      "108> img-location-table/2024Q1/2024_0001-0180/TDM_GazoFileIndex_2024_0109.csv\n",
      "109> img-location-table/2024Q1/2024_0001-0180/TDM_GazoFileIndex_2024_0110.csv\n",
      "110> img-location-table/2024Q1/2024_0001-0180/TDM_GazoFileIndex_2024_0111.csv\n",
      "111> img-location-table/2024Q1/2024_0001-0180/TDM_GazoFileIndex_2024_0112.csv\n",
      "112> img-location-table/2024Q1/2024_0001-0180/TDM_GazoFileIndex_2024_0113.csv\n",
      "113> img-location-table/2024Q1/2024_0001-0180/TDM_GazoFileIndex_2024_0114.csv\n",
      "114> img-location-table/2024Q1/2024_0001-0180/TDM_GazoFileIndex_2024_0115.csv\n",
      "115> img-location-table/2024Q1/2024_0001-0180/TDM_GazoFileIndex_2024_0116.csv\n",
      "116> img-location-table/2024Q1/2024_0001-0180/TDM_GazoFileIndex_2024_0117.csv\n",
      "117> img-location-table/2024Q1/2024_0001-0180/TDM_GazoFileIndex_2024_0118.csv\n",
      "118> img-location-table/2024Q1/2024_0001-0180/TDM_GazoFileIndex_2024_0119.csv\n",
      "119> img-location-table/2024Q1/2024_0001-0180/TDM_GazoFileIndex_2024_0120.csv\n",
      "120> img-location-table/2024Q1/2024_0001-0180/TDM_GazoFileIndex_2024_0121.csv\n",
      "121> img-location-table/2024Q1/2024_0001-0180/TDM_GazoFileIndex_2024_0122.csv\n",
      "122> img-location-table/2024Q1/2024_0001-0180/TDM_GazoFileIndex_2024_0123.csv\n",
      "123> img-location-table/2024Q1/2024_0001-0180/TDM_GazoFileIndex_2024_0124.csv\n",
      "124> img-location-table/2024Q1/2024_0001-0180/TDM_GazoFileIndex_2024_0125.csv\n",
      "125> img-location-table/2024Q1/2024_0001-0180/TDM_GazoFileIndex_2024_0126.csv\n",
      "126> img-location-table/2024Q1/2024_0001-0180/TDM_GazoFileIndex_2024_0127.csv\n",
      "127> img-location-table/2024Q1/2024_0001-0180/TDM_GazoFileIndex_2024_0128.csv\n",
      "128> img-location-table/2024Q1/2024_0001-0180/TDM_GazoFileIndex_2024_0129.csv\n",
      "129> img-location-table/2024Q1/2024_0001-0180/TDM_GazoFileIndex_2024_0130.csv\n",
      "130> img-location-table/2024Q1/2024_0001-0180/TDM_GazoFileIndex_2024_0131.csv\n",
      "131> img-location-table/2024Q1/2024_0001-0180/TDM_GazoFileIndex_2024_0132.csv\n",
      "132> img-location-table/2024Q1/2024_0001-0180/TDM_GazoFileIndex_2024_0133.csv\n",
      "133> img-location-table/2024Q1/2024_0001-0180/TDM_GazoFileIndex_2024_0134.csv\n",
      "134> img-location-table/2024Q1/2024_0001-0180/TDM_GazoFileIndex_2024_0135.csv\n",
      "135> img-location-table/2024Q1/2024_0001-0180/TDM_GazoFileIndex_2024_0136.csv\n",
      "136> img-location-table/2024Q1/2024_0001-0180/TDM_GazoFileIndex_2024_0137.csv\n",
      "137> img-location-table/2024Q1/2024_0001-0180/TDM_GazoFileIndex_2024_0138.csv\n",
      "138> img-location-table/2024Q1/2024_0001-0180/TDM_GazoFileIndex_2024_0139.csv\n",
      "139> img-location-table/2024Q1/2024_0001-0180/TDM_GazoFileIndex_2024_0140.csv\n",
      "140> img-location-table/2024Q1/2024_0001-0180/TDM_GazoFileIndex_2024_0141.csv\n",
      "141> img-location-table/2024Q1/2024_0001-0180/TDM_GazoFileIndex_2024_0142.csv\n",
      "142> img-location-table/2024Q1/2024_0001-0180/TDM_GazoFileIndex_2024_0143.csv\n",
      "143> img-location-table/2024Q1/2024_0001-0180/TDM_GazoFileIndex_2024_0144.csv\n",
      "144> img-location-table/2024Q1/2024_0001-0180/TDM_GazoFileIndex_2024_0145.csv\n",
      "145> img-location-table/2024Q1/2024_0001-0180/TDM_GazoFileIndex_2024_0146.csv\n",
      "146> img-location-table/2024Q1/2024_0001-0180/TDM_GazoFileIndex_2024_0147.csv\n",
      "147> img-location-table/2024Q1/2024_0001-0180/TDM_GazoFileIndex_2024_0148.csv\n",
      "148> img-location-table/2024Q1/2024_0001-0180/TDM_GazoFileIndex_2024_0149.csv\n",
      "149> img-location-table/2024Q1/2024_0001-0180/TDM_GazoFileIndex_2024_0150.csv\n",
      "150> img-location-table/2024Q1/2024_0001-0180/TDM_GazoFileIndex_2024_0151.csv\n",
      "151> img-location-table/2024Q1/2024_0001-0180/TDM_GazoFileIndex_2024_0152.csv\n",
      "152> img-location-table/2024Q1/2024_0001-0180/TDM_GazoFileIndex_2024_0153.csv\n",
      "153> img-location-table/2024Q1/2024_0001-0180/TDM_GazoFileIndex_2024_0154.csv\n",
      "154> img-location-table/2024Q1/2024_0001-0180/TDM_GazoFileIndex_2024_0155.csv\n",
      "155> img-location-table/2024Q1/2024_0001-0180/TDM_GazoFileIndex_2024_0156.csv\n",
      "156> img-location-table/2024Q1/2024_0001-0180/TDM_GazoFileIndex_2024_0157.csv\n",
      "157> img-location-table/2024Q1/2024_0001-0180/TDM_GazoFileIndex_2024_0158.csv\n",
      "158> img-location-table/2024Q1/2024_0001-0180/TDM_GazoFileIndex_2024_0159.csv\n",
      "159> img-location-table/2024Q1/2024_0001-0180/TDM_GazoFileIndex_2024_0160.csv\n",
      "160> img-location-table/2024Q1/2024_0001-0180/TDM_GazoFileIndex_2024_0161.csv\n",
      "161> img-location-table/2024Q1/2024_0001-0180/TDM_GazoFileIndex_2024_0162.csv\n",
      "162> img-location-table/2024Q1/2024_0001-0180/TDM_GazoFileIndex_2024_0163.csv\n",
      "163> img-location-table/2024Q1/2024_0001-0180/TDM_GazoFileIndex_2024_0164.csv\n",
      "164> img-location-table/2024Q1/2024_0001-0180/TDM_GazoFileIndex_2024_0165.csv\n",
      "165> img-location-table/2024Q1/2024_0001-0180/TDM_GazoFileIndex_2024_0166.csv\n",
      "166> img-location-table/2024Q1/2024_0001-0180/TDM_GazoFileIndex_2024_0167.csv\n",
      "167> img-location-table/2024Q1/2024_0001-0180/TDM_GazoFileIndex_2024_0168.csv\n",
      "168> img-location-table/2024Q1/2024_0001-0180/TDM_GazoFileIndex_2024_0169.csv\n",
      "169> img-location-table/2024Q1/2024_0001-0180/TDM_GazoFileIndex_2024_0170.csv\n",
      "170> img-location-table/2024Q1/2024_0001-0180/TDM_GazoFileIndex_2024_0171.csv\n",
      "171> img-location-table/2024Q1/2024_0001-0180/TDM_GazoFileIndex_2024_0172.csv\n",
      "172> img-location-table/2024Q1/2024_0001-0180/TDM_GazoFileIndex_2024_0173.csv\n",
      "173> img-location-table/2024Q1/2024_0001-0180/TDM_GazoFileIndex_2024_0174.csv\n",
      "174> img-location-table/2024Q1/2024_0001-0180/TDM_GazoFileIndex_2024_0175.csv\n",
      "175> img-location-table/2024Q1/2024_0001-0180/TDM_GazoFileIndex_2024_0176.csv\n",
      "176> img-location-table/2024Q1/2024_0001-0180/TDM_GazoFileIndex_2024_0177.csv\n",
      "177> img-location-table/2024Q1/2024_0001-0180/TDM_GazoFileIndex_2024_0178.csv\n",
      "178> img-location-table/2024Q1/2024_0001-0180/TDM_GazoFileIndex_2024_0179.csv\n",
      "179> img-location-table/2024Q1/2024_0001-0180/TDM_GazoFileIndex_2024_0180.csv\n"
     ]
    }
   ],
   "source": [
    "# S3にあるCSVファイルを読み込む\n",
    "bucket_name = 'trolley-monitor'\n",
    "prefix = 'img-location-table/2024Q1/2024_0001-0180/'\n",
    "csv_files = list_csv_files(bucket_name, prefix)\n",
    "print(\"参考\")\n",
    "print(f\"S3にあるTDM(車モニCSV):\")\n",
    "for i, csv_file in enumerate(csv_files):\n",
    "    print(f\"{i}> {csv_file}\")"
   ]
  },
  {
   "cell_type": "markdown",
   "id": "72e17d86-4b74-433a-94af-45724c404ee8",
   "metadata": {},
   "source": [
    "### imgs内の全ての線区ディレクトリに対して、キロ程jsonを作成する"
   ]
  },
  {
   "cell_type": "code",
   "execution_count": 6,
   "id": "8aeb3950-d3a4-4ba5-a69f-8ac372da9697",
   "metadata": {
    "tags": []
   },
   "outputs": [
    {
     "name": "stdout",
     "output_type": "stream",
     "text": [
      "image_name='2024_0004_HD11_01_00020303.jpg'\n",
      "測定年度: 2024  年度通番: 0004  線区: Joban  区間: Toride-st\n"
     ]
    },
    {
     "data": {
      "application/vnd.jupyter.widget-view+json": {
       "model_id": "d689f9e312d34d48ba82770cdad26dbd",
       "version_major": 2,
       "version_minor": 0
      },
      "text/plain": [
       "  0%|          | 0/180 [00:00<?, ?it/s]"
      ]
     },
     "metadata": {},
     "output_type": "display_data"
    },
    {
     "name": "stdout",
     "output_type": "stream",
     "text": [
      "車モニのマスターデータを読み込みます ※少し時間がかかります\n",
      "complete: download_path='TDM/temp/TDM_GazoFileIndex_2024_0004.csv'\n"
     ]
    },
    {
     "name": "stderr",
     "output_type": "stream",
     "text": [
      "/tmp/ipykernel_516/2468668886.py:37: DtypeWarning: Columns (23,26,29,32) have mixed types. Specify dtype option on import or set low_memory=False.\n",
      "  df_tdm = pd.read_csv(download_path, names=columns, delimiter='|')\n"
     ]
    },
    {
     "name": "stdout",
     "output_type": "stream",
     "text": [
      "車モニのマスターデータを読み込みました\n",
      "データフレームのサイズ:(83501, 90)\n",
      "必要な情報だけフィルタリングしました\n",
      "データフレームのサイズ:(83501, 11)\n",
      "基準にする電柱の検測キロ程: 37.2817km\n",
      "　　　キロ程のオフセット値: -0.14269999999999783km\n",
      "画像フォルダ名：Joban_001_Toride-st_down_20240402_day\n",
      "基準にする電柱：1\n",
      "　　　　キロ程：37.139\n",
      "検測キロ程ズレ：-0.143\n",
      "imgs/Joban_001_Toride-st_down_20240402_day/HD11/\n",
      "Image counts:1036\n"
     ]
    },
    {
     "data": {
      "application/vnd.jupyter.widget-view+json": {
       "model_id": "10e8e064d0b2445a99d27b6b4572b3d2",
       "version_major": 2,
       "version_minor": 0
      },
      "text/plain": [
       "  0%|          | 0/1036 [00:00<?, ?it/s]"
      ]
     },
     "metadata": {},
     "output_type": "display_data"
    },
    {
     "name": "stdout",
     "output_type": "stream",
     "text": [
      "imgs/Joban_001_Toride-st_down_20240402_day/HD12/\n",
      "Image counts:1036\n"
     ]
    },
    {
     "data": {
      "application/vnd.jupyter.widget-view+json": {
       "model_id": "c83af410e4634d628ab9c5841ca589be",
       "version_major": 2,
       "version_minor": 0
      },
      "text/plain": [
       "  0%|          | 0/1036 [00:00<?, ?it/s]"
      ]
     },
     "metadata": {},
     "output_type": "display_data"
    },
    {
     "name": "stdout",
     "output_type": "stream",
     "text": [
      "imgs/Joban_001_Toride-st_down_20240402_day/HD21/\n",
      "Image counts:1036\n"
     ]
    },
    {
     "data": {
      "application/vnd.jupyter.widget-view+json": {
       "model_id": "0e8a0c98225c4a6ea0223b87dbbc1b2b",
       "version_major": 2,
       "version_minor": 0
      },
      "text/plain": [
       "  0%|          | 0/1036 [00:00<?, ?it/s]"
      ]
     },
     "metadata": {},
     "output_type": "display_data"
    },
    {
     "name": "stdout",
     "output_type": "stream",
     "text": [
      "imgs/Joban_001_Toride-st_down_20240402_day/HD22/\n",
      "Image counts:1036\n"
     ]
    },
    {
     "data": {
      "application/vnd.jupyter.widget-view+json": {
       "model_id": "cdad46761a734a8da769c969a4720016",
       "version_major": 2,
       "version_minor": 0
      },
      "text/plain": [
       "  0%|          | 0/1036 [00:00<?, ?it/s]"
      ]
     },
     "metadata": {},
     "output_type": "display_data"
    },
    {
     "name": "stdout",
     "output_type": "stream",
     "text": [
      "imgs/Joban_001_Toride-st_down_20240402_day/HD31/\n",
      "Image counts:1036\n"
     ]
    },
    {
     "data": {
      "application/vnd.jupyter.widget-view+json": {
       "model_id": "3c8e5e81a0614eec8c69aac6001ca480",
       "version_major": 2,
       "version_minor": 0
      },
      "text/plain": [
       "  0%|          | 0/1036 [00:00<?, ?it/s]"
      ]
     },
     "metadata": {},
     "output_type": "display_data"
    },
    {
     "name": "stdout",
     "output_type": "stream",
     "text": [
      "imgs/Joban_001_Toride-st_down_20240402_day/HD32/\n",
      "Image counts:1036\n"
     ]
    },
    {
     "data": {
      "application/vnd.jupyter.widget-view+json": {
       "model_id": "9881393f38534c7c8598c475ac8b6e9f",
       "version_major": 2,
       "version_minor": 0
      },
      "text/plain": [
       "  0%|          | 0/1036 [00:00<?, ?it/s]"
      ]
     },
     "metadata": {},
     "output_type": "display_data"
    },
    {
     "name": "stdout",
     "output_type": "stream",
     "text": [
      "画像ファイルごとのキロ程情報をTDM/Joban_001_Toride-st_down_20240402_day.jsonに記録しました\n",
      "<class 'pandas.core.frame.DataFrame'>\n",
      "RangeIndex: 83501 entries, 0 to 83500\n",
      "Data columns (total 18 columns):\n",
      " #   Column            Non-Null Count  Dtype  \n",
      "---  ------            --------------  -----  \n",
      " 0   EkiCd             83501 non-null  int64  \n",
      " 1   SenbetsuCd        83501 non-null  int64  \n",
      " 2   SokuteiDate       83501 non-null  int64  \n",
      " 3   DenchuNo          83501 non-null  int64  \n",
      " 4   KiroTei           83501 non-null  float64\n",
      " 5   GazoFileNameHD11  34503 non-null  object \n",
      " 6   GazoFileNameHD12  34503 non-null  object \n",
      " 7   GazoFileNameHD21  34501 non-null  object \n",
      " 8   GazoFileNameHD22  34501 non-null  object \n",
      " 9   GazoFileNameHD31  34501 non-null  object \n",
      " 10  GazoFileNameHD32  34501 non-null  object \n",
      " 11  EkiCdDiffHD11     34503 non-null  object \n",
      " 12  EkiCdDiffHD12     34503 non-null  object \n",
      " 13  EkiCdDiffHD21     34501 non-null  object \n",
      " 14  EkiCdDiffHD22     34501 non-null  object \n",
      " 15  EkiCdDiffHD31     34501 non-null  object \n",
      " 16  EkiCdDiffHD32     34501 non-null  object \n",
      " 17  KiroTei_NEWSS     83501 non-null  float64\n",
      "dtypes: float64(2), int64(4), object(12)\n",
      "memory usage: 11.5+ MB\n",
      "None\n",
      "image_name='2024_0004_HD11_01_00020769.jpg'\n",
      "測定年度: 2024  年度通番: 0004  線区: Joban  区間: Toride-Fujishiro\n"
     ]
    },
    {
     "data": {
      "application/vnd.jupyter.widget-view+json": {
       "model_id": "61aac767af124af4880624a05a4726f2",
       "version_major": 2,
       "version_minor": 0
      },
      "text/plain": [
       "  0%|          | 0/180 [00:00<?, ?it/s]"
      ]
     },
     "metadata": {},
     "output_type": "display_data"
    },
    {
     "name": "stdout",
     "output_type": "stream",
     "text": [
      "車モニのマスターデータを読み込みます ※少し時間がかかります\n",
      "complete: download_path='TDM/temp/TDM_GazoFileIndex_2024_0004.csv'\n"
     ]
    },
    {
     "name": "stderr",
     "output_type": "stream",
     "text": [
      "/tmp/ipykernel_516/2468668886.py:37: DtypeWarning: Columns (23,26,29,32) have mixed types. Specify dtype option on import or set low_memory=False.\n",
      "  df_tdm = pd.read_csv(download_path, names=columns, delimiter='|')\n"
     ]
    },
    {
     "name": "stdout",
     "output_type": "stream",
     "text": [
      "車モニのマスターデータを読み込みました\n",
      "データフレームのサイズ:(83501, 90)\n",
      "必要な情報だけフィルタリングしました\n",
      "データフレームのサイズ:(83501, 11)\n",
      "基準にする電柱の検測キロ程: 38.1617km\n",
      "　　　キロ程のオフセット値: -0.14270000000000493km\n",
      "画像フォルダ名：Joban_002_Toride-Fujishiro_down_20240402_day\n",
      "基準にする電柱：1\n",
      "　　　　キロ程：38.019\n",
      "検測キロ程ズレ：-0.143\n",
      "imgs/Joban_002_Toride-Fujishiro_down_20240402_day/HD11/\n",
      "Image counts:2030\n"
     ]
    },
    {
     "data": {
      "application/vnd.jupyter.widget-view+json": {
       "model_id": "76294d1bfef44956b182395813a6689b",
       "version_major": 2,
       "version_minor": 0
      },
      "text/plain": [
       "  0%|          | 0/2030 [00:00<?, ?it/s]"
      ]
     },
     "metadata": {},
     "output_type": "display_data"
    },
    {
     "name": "stdout",
     "output_type": "stream",
     "text": [
      "imgs/Joban_002_Toride-Fujishiro_down_20240402_day/HD12/\n",
      "Image counts:2030\n"
     ]
    },
    {
     "data": {
      "application/vnd.jupyter.widget-view+json": {
       "model_id": "eb51aee5e4e24aee9385da3d8828d5f4",
       "version_major": 2,
       "version_minor": 0
      },
      "text/plain": [
       "  0%|          | 0/2030 [00:00<?, ?it/s]"
      ]
     },
     "metadata": {},
     "output_type": "display_data"
    },
    {
     "name": "stdout",
     "output_type": "stream",
     "text": [
      "imgs/Joban_002_Toride-Fujishiro_down_20240402_day/HD21/\n",
      "Image counts:2028\n"
     ]
    },
    {
     "data": {
      "application/vnd.jupyter.widget-view+json": {
       "model_id": "80dbafb86c354b97aecf50b3bc3709be",
       "version_major": 2,
       "version_minor": 0
      },
      "text/plain": [
       "  0%|          | 0/2028 [00:00<?, ?it/s]"
      ]
     },
     "metadata": {},
     "output_type": "display_data"
    },
    {
     "name": "stdout",
     "output_type": "stream",
     "text": [
      "imgs/Joban_002_Toride-Fujishiro_down_20240402_day/HD22/\n",
      "Image counts:2028\n"
     ]
    },
    {
     "data": {
      "application/vnd.jupyter.widget-view+json": {
       "model_id": "19c36f371eb248e7965893009f43a52b",
       "version_major": 2,
       "version_minor": 0
      },
      "text/plain": [
       "  0%|          | 0/2028 [00:00<?, ?it/s]"
      ]
     },
     "metadata": {},
     "output_type": "display_data"
    },
    {
     "name": "stdout",
     "output_type": "stream",
     "text": [
      "imgs/Joban_002_Toride-Fujishiro_down_20240402_day/HD31/\n",
      "Image counts:2028\n"
     ]
    },
    {
     "data": {
      "application/vnd.jupyter.widget-view+json": {
       "model_id": "c5217d8bbade4a8390d980558491d503",
       "version_major": 2,
       "version_minor": 0
      },
      "text/plain": [
       "  0%|          | 0/2028 [00:00<?, ?it/s]"
      ]
     },
     "metadata": {},
     "output_type": "display_data"
    },
    {
     "name": "stdout",
     "output_type": "stream",
     "text": [
      "imgs/Joban_002_Toride-Fujishiro_down_20240402_day/HD32/\n",
      "Image counts:2028\n"
     ]
    },
    {
     "data": {
      "application/vnd.jupyter.widget-view+json": {
       "model_id": "2e333c042d9048f0981fed2082d57a9f",
       "version_major": 2,
       "version_minor": 0
      },
      "text/plain": [
       "  0%|          | 0/2028 [00:00<?, ?it/s]"
      ]
     },
     "metadata": {},
     "output_type": "display_data"
    },
    {
     "name": "stdout",
     "output_type": "stream",
     "text": [
      "画像ファイルごとのキロ程情報をTDM/Joban_002_Toride-Fujishiro_down_20240402_day.jsonに記録しました\n",
      "<class 'pandas.core.frame.DataFrame'>\n",
      "RangeIndex: 83501 entries, 0 to 83500\n",
      "Data columns (total 18 columns):\n",
      " #   Column            Non-Null Count  Dtype  \n",
      "---  ------            --------------  -----  \n",
      " 0   EkiCd             83501 non-null  int64  \n",
      " 1   SenbetsuCd        83501 non-null  int64  \n",
      " 2   SokuteiDate       83501 non-null  int64  \n",
      " 3   DenchuNo          83501 non-null  int64  \n",
      " 4   KiroTei           83501 non-null  float64\n",
      " 5   GazoFileNameHD11  34503 non-null  object \n",
      " 6   GazoFileNameHD12  34503 non-null  object \n",
      " 7   GazoFileNameHD21  34501 non-null  object \n",
      " 8   GazoFileNameHD22  34501 non-null  object \n",
      " 9   GazoFileNameHD31  34501 non-null  object \n",
      " 10  GazoFileNameHD32  34501 non-null  object \n",
      " 11  EkiCdDiffHD11     34503 non-null  object \n",
      " 12  EkiCdDiffHD12     34503 non-null  object \n",
      " 13  EkiCdDiffHD21     34501 non-null  object \n",
      " 14  EkiCdDiffHD22     34501 non-null  object \n",
      " 15  EkiCdDiffHD31     34501 non-null  object \n",
      " 16  EkiCdDiffHD32     34501 non-null  object \n",
      " 17  KiroTei_NEWSS     83501 non-null  float64\n",
      "dtypes: float64(2), int64(4), object(12)\n",
      "memory usage: 11.5+ MB\n",
      "None\n",
      "線区ディレクトリにある画像ファイルに対応するキロ程情報を読み込みました\n"
     ]
    }
   ],
   "source": [
    "# 初期設定\n",
    "images_path = helpers.list_imagespath_nonCache(config.image_dir)\n",
    "\n",
    "# カラム名をS3から読み込む\n",
    "columns_csv_key = 'img-location-table/TDM_GazoFileIndex_ColumnsName.csv'\n",
    "columns = get_columns_from_csv(bucket_name, columns_csv_key)\n",
    "# print(f\"{columns=}\")\n",
    "\n",
    "# meas_list = []\n",
    "for images_folder_num in images_path:\n",
    "    # カメラ番号のリスト\n",
    "    cams_path = helpers.list_imagespath_nonCache(f\"{config.image_dir}/{images_folder_num}\")\n",
    "\n",
    "    # 線区フォルダ内の最初の画像ファイル\n",
    "    target_dir = f\"{config.image_dir}/{images_folder_num}/{cams_path[0]}\"\n",
    "    base_images = helpers.list_images(target_dir)\n",
    "    image_name = base_images[0].split('/')[-1]\n",
    "    print(f\"{image_name=}\")\n",
    "\n",
    "    meas_year = image_name.split(\"_\")[0]              # 走行年度\n",
    "    meas_idx = image_name.split(\"_\")[1]               # 年度通番\n",
    "    meas_senku = images_folder_num.split('_')[0]      # 線区\n",
    "    meas_kukan = images_folder_num.split('_')[2]      # 区間\n",
    "    print(f\"測定年度: {meas_year}  年度通番: {meas_idx}  線区: {meas_senku}  区間: {meas_kukan}\")\n",
    "\n",
    "    # 手持ち線区フォルダと一致するCSVをS3から探す\n",
    "    # stop_loop = 0\n",
    "    for csv_file in csv_files:\n",
    "        if csv_file[-13:-4] == f\"{meas_year}_{meas_idx}\":\n",
    "            # データフレームを読み込む\n",
    "            df_tdm = get_df(bucket_name, csv_file, columns)\n",
    "\n",
    "            # 走行日・線区ごとのキロ程補正情報の辞書を作成する\n",
    "            df_tdm, KiroTei_dict = get_KiroTei_dict(config, df_tdm)\n",
    "\n",
    "            # 測定日を取得　※１つしかないはず・・・\n",
    "            date = df_tdm['SokuteiDate'].unique().item()\n",
    "\n",
    "            # 線別コードを取得\n",
    "            if images_folder_num.split('_')[3] == \"down\":\n",
    "                SenbetsuCd = 21\n",
    "            elif images_folder_num.split('_')[3] == \"up\":\n",
    "                SenbetsuCd = 22\n",
    "            else:\n",
    "                SenbetsuCd = None                              # 他は？？\n",
    "\n",
    "            # 基準となる電柱の情報\n",
    "            ref_point = {\n",
    "                \"EkiCd_NEWSS\": eki_code[meas_senku][meas_kukan][\"EkiCd_NEWSS\"],\n",
    "                \"pole_num_NEWSS\": eki_code[meas_senku][meas_kukan][\"pole_num_NEWSS\"],\n",
    "                \"pole_kilo_NEWSS\": eki_code[meas_senku][meas_kukan][\"pole_kilo_NEWSS\"]\n",
    "            }\n",
    "\n",
    "            pole_kiro_offset = get_Kiro_offset(df_tdm, ref_point, date)\n",
    "\n",
    "            kiro_offset_dict = {}\n",
    "            kiro_offset_dict[date] = pole_kiro_offset\n",
    "\n",
    "            # NEWSSキロ程を計算して 列`KiroTei_NEWSS`に記録する\n",
    "            df_tdm = get_Kiro_NEWSS(df_tdm, kiro_offset_dict)\n",
    "\n",
    "            # 確認用にエクセルに出力する\n",
    "            df_tdm.to_excel(f\"./TDM/temp/df_tdm_{images_folder_num}.xlsx\")\n",
    "\n",
    "            # 初期設定の情報を出力\n",
    "            print(f\"画像フォルダ名：{images_folder_num}\")\n",
    "            print(f\"基準にする電柱：{ref_point['pole_num_NEWSS']}\")\n",
    "            print(f\"　　　　キロ程：{ref_point['pole_kilo_NEWSS']}\")\n",
    "            print(f\"検測キロ程ズレ：{round(kiro_offset_dict[date], 3)}\")\n",
    "\n",
    "            imgKilo = set_imgKiro(config, images_folder_num, df_tdm)\n",
    "\n",
    "            if imgKilo != {}:\n",
    "                # 結果をJSONファイルに記録する\n",
    "                dir = f\"{config.tdm_dir}/{images_folder_num}.json\"\n",
    "                with open(dir, mode=\"wt\", encoding=\"utf-8\") as f:\n",
    "                    json.dump(imgKilo, f, ensure_ascii=False, indent=2, default=helpers.default)\n",
    "\n",
    "            print(f\"画像ファイルごとのキロ程情報を{dir}に記録しました\")\n",
    "            break\n",
    "\n",
    "#     if stop_loop == 1:\n",
    "#         break\n",
    "\n",
    "\n",
    "\"\"\"\n",
    "2024.8.12　めも\n",
    "・必要なCSVファイルのみS3から持ってくる形式に変更（S3にある場合のみ）\n",
    "・必要なCSVファイルは走行年度と年度内通番から検索\n",
    "・それを手持ちの線区フォルダで順繰りに実施\n",
    "\"\"\"\n",
    "\n",
    "print(\"線区ディレクトリにある画像ファイルに対応するキロ程情報を読み込みました\")"
   ]
  },
  {
   "cell_type": "code",
   "execution_count": null,
   "id": "14c9bcbc-298c-41e4-b83f-482b54bb505b",
   "metadata": {
    "tags": []
   },
   "outputs": [],
   "source": []
  },
  {
   "cell_type": "code",
   "execution_count": null,
   "id": "1567c145-ba8c-4c8e-9744-ab30d798c99c",
   "metadata": {},
   "outputs": [],
   "source": []
  },
  {
   "cell_type": "markdown",
   "id": "d02cde56-428e-4ece-9d2a-c49627b7dc9d",
   "metadata": {},
   "source": [
    "## 作成したJSONファイルの確認"
   ]
  },
  {
   "cell_type": "code",
   "execution_count": null,
   "id": "3b1e945a-26b5-4fa5-9e89-3d21d68fb6cb",
   "metadata": {
    "tags": []
   },
   "outputs": [],
   "source": [
    "import json\n",
    "jsonPath = config.tdm_dir\n",
    "# jsonFile = \"Joban_001_Toride-st_down_20240402_day.json\"\n",
    "jsonFile = \"Joban_002_Toride-Fujishiro_down_20240402_day.json\"\n",
    "FullPath = jsonPath + \"/\" + jsonFile\n",
    "print(FullPath)\n",
    "\n",
    "jsonOpen = open(FullPath, 'r')\n",
    "tdmFile = json.load(jsonOpen)\n",
    "\n",
    "# print(jsonLoad)"
   ]
  },
  {
   "cell_type": "code",
   "execution_count": null,
   "id": "adae5679-d330-47f3-b77a-ce7d2557147e",
   "metadata": {
    "tags": []
   },
   "outputs": [],
   "source": [
    "jsonFile.split('.')[0]"
   ]
  },
  {
   "cell_type": "code",
   "execution_count": null,
   "id": "93489262-9486-4d59-9576-a8107016b892",
   "metadata": {
    "tags": []
   },
   "outputs": [],
   "source": [
    "import pandas as pd\n",
    "from openpyxl import Workbook\n",
    "# import openpyxl\n",
    "\n",
    "# writer = pd.ExcelWriter('Takasaki_99_Omiya-Kitaageo_down_20230509_day.xlsx', engine='openpyxl')\n",
    "# wb = openpyxl.Workbook()\n",
    "\n",
    "jsonname = jsonFile.split('.')[0]\n",
    "\n",
    "with pd.ExcelWriter(f'{jsonname}.xlsx') as writer:\n",
    "\n",
    "    for camera in ['HD11', 'HD12', 'HD21', 'HD22', 'HD31', 'HD32']:\n",
    "\n",
    "        Index, Kirotei, KiroDiff, PoleNum, NewPole = [], [], [], [], []\n",
    "        for ix, file in enumerate(tdmFile[camera]):\n",
    "            if ix == 0:\n",
    "                last_pole = tdmFile[camera][file]['DenchuNo']\n",
    "                last_kiro = tdmFile[camera][file]['KiroTei']\n",
    "\n",
    "            Index.append(ix)\n",
    "\n",
    "            Kirotei.append(tdmFile[camera][file]['KiroTei'])\n",
    "\n",
    "            KiroDiff.append(tdmFile[camera][file]['KiroTei'] - last_kiro)\n",
    "\n",
    "            PoleNum.append(tdmFile[camera][file]['DenchuNo'])\n",
    "\n",
    "            if tdmFile[camera][file]['DenchuNo'] != last_pole:\n",
    "                NewPole.append('True')\n",
    "            else:\n",
    "                NewPole.append('False')\n",
    "\n",
    "            last_pole = tdmFile[camera][file]['DenchuNo']\n",
    "            last_kiro = tdmFile[camera][file]['KiroTei']\n",
    "\n",
    "        df_json = pd.DataFrame({'Index': Index, 'PoleNum': PoleNum, 'NewPole': NewPole, 'Kirotei': Kirotei, 'KiroDiff':KiroDiff})\n",
    "        df_json.to_excel(writer, sheet_name=camera, index=False)\n",
    "        # df_json.to_excel(wb, sheet_name=camera, index=False)\n",
    "\n",
    "# Excelファイルを保存\n",
    "# writer.save()\n",
    "# wb.save('Takasaki_99_Omiya-Kitaageo_down_20230509_day.xlsx')\n"
   ]
  },
  {
   "cell_type": "code",
   "execution_count": null,
   "id": "f589db20-ff33-49ec-92f2-c53e7413b9a8",
   "metadata": {
    "tags": []
   },
   "outputs": [],
   "source": [
    "from bokeh.plotting import figure, output_notebook, show\n",
    "from bokeh.models import ColumnDataSource, HoverTool\n",
    "output_notebook()\n",
    "\n",
    "source = ColumnDataSource(df_json)\n",
    "\n",
    "TOOLTIPS = [\n",
    "    ('Index', '@ix'),\n",
    "    ('PoleNum', '@PoleNum'),\n",
    "    ('Kirotei', '@Kirotei')\n",
    "]\n",
    "\n",
    "p = figure(\n",
    "    plot_width=2000, \n",
    "    plot_height=600,\n",
    "    tooltips=TOOLTIPS\n",
    ")\n",
    "     \n",
    "p.circle(\n",
    "    source=source, \n",
    "    # x='ix',\n",
    "    # y='kiro'\n",
    "    x='Index',\n",
    "    y='Kirotei'\n",
    ")\n",
    "\n",
    "show(p)"
   ]
  },
  {
   "cell_type": "code",
   "execution_count": null,
   "id": "b5398ab2-7705-4a44-9560-9d106dd68514",
   "metadata": {},
   "outputs": [],
   "source": []
  },
  {
   "cell_type": "code",
   "execution_count": null,
   "id": "0342c049-eb30-4132-bfaf-d2afc592f8ea",
   "metadata": {},
   "outputs": [],
   "source": []
  },
  {
   "cell_type": "code",
   "execution_count": null,
   "id": "7ad14c1d-9f08-4bb7-b451-0ad20ef33e39",
   "metadata": {},
   "outputs": [],
   "source": []
  },
  {
   "cell_type": "code",
   "execution_count": null,
   "id": "9f646971-6dad-4a8e-8e68-35ec3bfbfa92",
   "metadata": {},
   "outputs": [],
   "source": []
  },
  {
   "cell_type": "code",
   "execution_count": null,
   "id": "db3c3ce8-0c10-483c-b3c3-71f102176652",
   "metadata": {},
   "outputs": [],
   "source": []
  },
  {
   "cell_type": "code",
   "execution_count": null,
   "id": "f74089b3-c944-480c-b4b1-34b1a0a3dd9b",
   "metadata": {},
   "outputs": [],
   "source": []
  },
  {
   "cell_type": "code",
   "execution_count": null,
   "id": "873ac57e-56bb-4207-9d97-16a5874b1f53",
   "metadata": {},
   "outputs": [],
   "source": []
  },
  {
   "cell_type": "code",
   "execution_count": null,
   "id": "86eab28f-5973-4c17-be08-f09759ac69ea",
   "metadata": {},
   "outputs": [],
   "source": []
  }
 ],
 "metadata": {
  "kernelspec": {
   "display_name": "conda_python3",
   "language": "python",
   "name": "conda_python3"
  },
  "language_info": {
   "codemirror_mode": {
    "name": "ipython",
    "version": 3
   },
   "file_extension": ".py",
   "mimetype": "text/x-python",
   "name": "python",
   "nbconvert_exporter": "python",
   "pygments_lexer": "ipython3",
   "version": "3.10.14"
  }
 },
 "nbformat": 4,
 "nbformat_minor": 5
}
